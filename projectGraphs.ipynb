{
 "cells": [
  {
   "cell_type": "code",
   "execution_count": 1,
   "metadata": {
    "collapsed": true
   },
   "outputs": [],
   "source": [
    "import numpy as np\n",
    "import matplotlib.pyplot as plt\n",
    "from astropy.table import Table\n",
    "from astropy.io import ascii"
   ]
  },
  {
   "cell_type": "code",
   "execution_count": 2,
   "metadata": {
    "collapsed": true
   },
   "outputs": [],
   "source": [
    "imges = ['kplr2012242195726_ffi-cal.fits','kplr2011271191331_ffi-cal.fits','kplr2012004204112_ffi-cal.fits']\n",
    "ccds = [45,1,44]\n",
    "ra = [293.3754458333333, 290.15641666666664, 291.1920374999999]\n",
    "dec = [45.25035833333333, 38.252316666666665, 43.68074444444444]"
   ]
  },
  {
   "cell_type": "code",
   "execution_count": 4,
   "metadata": {},
   "outputs": [],
   "source": [
    "matches = ascii.read('/home/mj1e16/outTablesImproved/matchSNabove10.csv')"
   ]
  },
  {
   "cell_type": "code",
   "execution_count": 6,
   "metadata": {},
   "outputs": [],
   "source": [
    "magnitudes = matches['MAG_BEST']\n",
    "# sne = ascii.read('/home/mj1e16/outTablesImproved/supernovae.csv')\n",
    "# snemag = sne['MAG_BEST']\n",
    "# snemag = [x + 25 for x in snemag]\n",
    "# num = [1,1,1]"
   ]
  },
  {
   "cell_type": "code",
   "execution_count": 7,
   "metadata": {},
   "outputs": [
    {
     "data": {
      "image/png": "[encoded data removed]",
      "text/plain": [
       "<matplotlib.figure.Figure at 0x7f28f4d3fe90>"
      ]
     },
     "metadata": {},
     "output_type": "display_data"
    }
   ],
   "source": [
    "plt.hist(magnitudes,bins='auto')\n",
    "#plt.plot(snemag,num,'ro')\n",
    "plt.xlabel('G Mag Best From SExtractor')\n",
    "plt.show()"
   ]
  },
  {
   "cell_type": "code",
   "execution_count": null,
   "metadata": {
    "collapsed": true
   },
   "outputs": [],
   "source": []
  }
 ],
 "metadata": {
  "kernelspec": {
   "display_name": "Python 2",
   "language": "python",
   "name": "python2"
  },
  "language_info": {
   "codemirror_mode": {
    "name": "ipython",
    "version": 2
   },
   "file_extension": ".py",
   "mimetype": "text/x-python",
   "name": "python",
   "nbconvert_exporter": "python",
   "pygments_lexer": "ipython2",
   "version": "2.7.13"
  }
 },
 "nbformat": 4,
 "nbformat_minor": 2
}
