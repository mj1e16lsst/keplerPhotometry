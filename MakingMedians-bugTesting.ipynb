{
 "cells": [
  {
   "cell_type": "code",
   "execution_count": 1,
   "metadata": {
    "collapsed": true
   },
   "outputs": [],
   "source": [
    "import astroprov\n",
    "\n",
    "from astropy.io import fits\n",
    "from astropy.visualization import SqrtStretch\n",
    "from astropy.visualization.mpl_normalize import ImageNormalize\n",
    "from astropy.table import Table\n",
    "from astropy.table import Column\n",
    "from astropy.io import fits\n",
    "from astropy.io.ascii import SExtractor\n",
    "from astropy.coordinates import SkyCoord\n",
    "import astropy.units as u\n",
    "from astropy import wcs\n",
    "\n",
    "from astroquery.simbad import Simbad\n",
    "\n",
    "import numpy as np\n",
    "import matplotlib.pyplot as plt\n",
    "from matplotlib.colors import LogNorm\n",
    "from photutils import DAOStarFinder\n",
    "from photutils import CircularAperture\n",
    "import os\n",
    "import subprocess\n",
    "\n",
    "import image_registration\n",
    "from image_registration import chi2_shift\n",
    "from image_registration.fft_tools import shift\n",
    "import pandas\n",
    "import collections\n",
    "\n",
    "from reproject import reproject_interp\n",
    "from astropy.utils.data import get_pkg_data_filename\n",
    "from astropy.wcs import WCS"
   ]
  },
  {
   "cell_type": "code",
   "execution_count": 2,
   "metadata": {
    "collapsed": true
   },
   "outputs": [],
   "source": [
    "imageDirectory = '/data/mj1e16/kepler/cal/'\n",
    "dirlist = os.listdir(imageDirectory)\n",
    "dirlist = [x for x in dirlist if x[0] != '.']\n",
    "#dirlist = sort(dirlist)\n",
    "imagelist = [imageDirectory+x for x in dirlist]\n",
    "#print(dirlist)"
   ]
  },
  {
   "cell_type": "code",
   "execution_count": 3,
   "metadata": {
    "collapsed": true
   },
   "outputs": [],
   "source": [
    "def getSkyGroup(imagelist,image,channel):\n",
    "    hdu_list = fits.open(imagelist[image])\n",
    "    hdr = hdu_list[channel].header\n",
    "    location = hdr['SKYGROUP']\n",
    "    return location"
   ]
  },
  {
   "cell_type": "code",
   "execution_count": 4,
   "metadata": {
    "collapsed": true
   },
   "outputs": [],
   "source": [
    "def getSkyGroup(image,channel):\n",
    "    hdu_list = fits.open(image)\n",
    "    hdr = hdu_list[channel].header\n",
    "    location = hdr['SKYGROUP']\n",
    "    return location"
   ]
  },
  {
   "cell_type": "code",
   "execution_count": 5,
   "metadata": {
    "collapsed": true
   },
   "outputs": [],
   "source": [
    "def getImageData(imageName,extension):\n",
    "    hdu = fits.open(imageName)\n",
    "    imageData = hdu[extension].data\n",
    "    return imageData"
   ]
  },
  {
   "cell_type": "code",
   "execution_count": 6,
   "metadata": {
    "collapsed": true
   },
   "outputs": [],
   "source": [
    "def correctExtensionOrder(imageName):\n",
    "    hdu_list = fits.open(imageName)\n",
    "    extensionOrder = np.zeros(len(hdu_list))\n",
    "    for channel in range(1,len(hdu_list)):\n",
    "        hdr = hdu_list[channel].header\n",
    "        location = hdr['SKYGROUP'] # independant location\n",
    "        extensionOrder[location] = channel # ordered from 0-84 channel with extension in place of name\n",
    "    return extensionOrder"
   ]
  },
  {
   "cell_type": "code",
   "execution_count": 7,
   "metadata": {
    "collapsed": true
   },
   "outputs": [],
   "source": [
    "def medianAlign(im1_aligned_to_im2,hdulist,hduchan,hdunames):\n",
    "    shaperoni = im1_aligned_to_im2.shape\n",
    "    xsegments = int(shaperoni[0]/100)\n",
    "    ylen = shaperoni[0] \n",
    "\n",
    "    alignedHDU = [hdulist[0]]\n",
    "    im2 = hdulist[0]\n",
    "    for image in range(1,len(hdulist)):\n",
    "        im1 = hdulist[image]\n",
    "        yoff,xoff = image_registration.cross_correlation_shifts(im1,im2)\n",
    "        im1_aligned_to_im2 = np.roll(np.roll(im1,int(yoff),1),int(xoff),0)\n",
    "        alignedHDU.append(im1_aligned_to_im2)\n",
    "        \n",
    "        print(getSkyGroup(hdunames[image],hduchan[image]))\n",
    "        print(hdunames[image],hduchan[image])\n",
    "        fig, ax = plt.subplots(figsize=(10, 10))\n",
    "        ax.imshow(im1_aligned_to_im2,cmap='Greys',norm=LogNorm())\n",
    "        plt.title('Median Image Align ')\n",
    "        plt.show()\n",
    "\n",
    "\n",
    "    output = np.zeros(shaperoni)\n",
    "    for i in range(100):\n",
    "        imageSegment = []\n",
    "        j = i * xsegments\n",
    "        k = j + xsegments\n",
    "        for imData in range(len(alignedHDU)):\n",
    "            imageSegment.append(alignedHDU[imData][j:k,:])\n",
    "\n",
    "        output[j:k,:] = np.median(imageSegment,axis=0)\n",
    "    if k != shaperoni[1]: # is this the correct way round?\n",
    "        imageSegment = []\n",
    "        print(k,shaperoni[1],'k - shaperoni')\n",
    "        for imData in range(len(alignedHDU)):\n",
    "            imageSegment.append(alignedHDU[imData][k:shaperoni[0],:])\n",
    "        output[k:shaperoni[0],:] = np.median(imageSegment,axis=0)\n",
    "\n",
    "    fig, ax = plt.subplots(figsize=(10, 10))\n",
    "    ax.imshow(output,cmap='Greys',norm=LogNorm())\n",
    "    plt.title('Median Image Align ')\n",
    "    plt.show()\n",
    "    \n",
    "    return output\n"
   ]
  },
  {
   "cell_type": "code",
   "execution_count": 8,
   "metadata": {
    "collapsed": true
   },
   "outputs": [],
   "source": [
    "def findTemplateImage(imagelist,channelList,channel,ximage=1070.,yimage=1140.):\n",
    "    image = 0\n",
    "    averageFlux = 0\n",
    "\n",
    "    for refimage in range(len(imagelist)):\n",
    "        chanNoList = int(channelList[refimage][channel])\n",
    "        chanNoImName = imagelist[refimage]\n",
    "        im2 = getImageData(chanNoImName,chanNoList)\n",
    "        averageFlux = int((sum(sum(im2)))/(ximage*yimage))\n",
    "        if averageFlux > 1:\n",
    "            break\n",
    "        \n",
    "    goodImage = {'chanNo':chanNoList,'chanNoImName':chanNoImName}\n",
    "    return goodImage"
   ]
  },
  {
   "cell_type": "code",
   "execution_count": 9,
   "metadata": {
    "collapsed": true
   },
   "outputs": [],
   "source": [
    "def findSpecificTemplateImage(imagelist,channelList,channel,specificChannel,ximage=1070.,yimage=1140.):\n",
    "    image = 0\n",
    "    averageFlux = 0\n",
    "\n",
    "    for refimage in range(len(imagelist)):\n",
    "        chanNoList = int(channelList[refimage][channel])\n",
    "        if chanNoList == specificChannel:\n",
    "            chanNoImName = imagelist[refimage]\n",
    "            im2 = getImageData(chanNoImName,chanNoList)\n",
    "            averageFlux = int((sum(sum(im2)))/(ximage*yimage))\n",
    "        if averageFlux > 1:\n",
    "            break\n",
    "        \n",
    "    goodImage = {'chanNo':chanNoList,'chanNoImName':chanNoImName}\n",
    "    return goodImage"
   ]
  },
  {
   "cell_type": "code",
   "execution_count": 10,
   "metadata": {},
   "outputs": [],
   "source": [
    "def newMedian(imageList,channelList,outfile='blah',ximage=1070,yimage=1140):\n",
    "    \n",
    "    image_concat = []\n",
    "    medianlist = []\n",
    "\n",
    "    ccds = [44,63,79]\n",
    "    \n",
    "    #for channel in range(len(channelList)):\n",
    "    for channel in ccds:\n",
    "        \n",
    "        hdulist = []\n",
    "        goodImage = findTemplateImage(imagelist,channelList,channel)\n",
    "        chanNoList = [goodImage['chanNo']]\n",
    "        chanNoImName = [goodImage['chanNoImName']]\n",
    "        im2 = getImageData(chanNoImName[0],chanNoList[0])\n",
    "        \n",
    "        for image in range(1,len(imagelist)):\n",
    "            chanNo = int(channelList[image][channel])\n",
    "            im1 = getImageData(imagelist[image],chanNo)            \n",
    "            averageFlux = int((sum(sum(im1)))/(ximage*yimage))\n",
    "            print(averageFlux)\n",
    "            if averageFlux > 1:\n",
    "                \n",
    "#                 yoff,xoff = image_registration.cross_correlation_shifts(im1,im2)\n",
    "#                 im1_aligned_to_im2 = np.roll(np.roll(im1,int(yoff),1),int(xoff),0)\n",
    "                hdulist.append(im1)\n",
    "                \n",
    "            \n",
    "        output = medianAlign(im1,hdulist)\n",
    "        print(chanNoList)\n",
    "        print(chanNoImName)\n",
    "        hdu = fits.PrimaryHDU(output)\n",
    "        hdu.writeto(outfile+'_{}.fits'.format(channel), clobber=True)\n",
    "        medianlist.append(outfile+'_{}.fits'.format(channel))\n",
    "        \n",
    "        \n",
    "    return medianlist\n",
    "    \n",
    "    "
   ]
  },
  {
   "cell_type": "code",
   "execution_count": 16,
   "metadata": {},
   "outputs": [],
   "source": [
    "def selectiveMedian(imageList,channelList,outfile='blah',ximage=1070,yimage=1140):\n",
    "    \n",
    "    image_concat = []\n",
    "    medianlist = []\n",
    "\n",
    "    ccds = [63,79]\n",
    "    #for channel in range(10,11): #len(channelList[0])):\n",
    "    for channel in ccds:\n",
    "        hdulist = [[],[],[],[]]\n",
    "        hduchans = [[],[],[],[]]\n",
    "        hdunames = [[],[],[],[]]\n",
    "        offSet =  1000\n",
    "        refimage = 0\n",
    "        image = 0\n",
    "        \n",
    "        goodImage = findTemplateImage(imagelist,channelList,channel)\n",
    "        chanNoList = [goodImage['chanNo']]\n",
    "        chanNoImName = [goodImage['chanNoImName']]\n",
    "        hdulist[0].append(getImageData(chanNoImName[0],chanNoList[0]))\n",
    "        hduchans[0].append(chanNoList[0])\n",
    "        hdunames[0].append(chanNoImName[0])\n",
    "        #print(getSkyGroup(imagelist,)\n",
    "        print(hduchans)\n",
    "        for image in range(1,12): #len(imagelist)):\n",
    "            chanNo = int(channelList[image][channel])\n",
    "            #print(getSkyGroup(imagelist,image,chanNo),'skygroup ####')\n",
    "            if chanNo in chanNoList: \n",
    "                loc = chanNoList.index(chanNo)\n",
    "                print(chanNoList[loc],chanNo)\n",
    "                im1 = getImageData(imagelist[image],chanNo)\n",
    "                averageFlux = int((sum(sum(im1)))/(ximage*yimage))\n",
    "                #print(averageFlux)\n",
    "                if averageFlux > 1:\n",
    "                    \n",
    "\n",
    "                    if chanNo == chanNoList[loc]:\n",
    "                        hdulist[loc].append(im1)\n",
    "                        print(chanNo)\n",
    "                        hduchans[loc].append(chanNo)\n",
    "                        print(hduchans)\n",
    "                        hdunames[loc].append(imagelist[image])\n",
    "\n",
    "                    \n",
    "     \n",
    "                \n",
    "            else:\n",
    "                goodImage = findSpecificTemplateImage(imagelist,channelList,channel,chanNo)\n",
    "                chanNoList.append(goodImage['chanNo'])\n",
    "                chanNoImName.append(goodImage['chanNoImName'])\n",
    "                hdulist[len(chanNoList)-1].append(getImageData(chanNoImName[-1],chanNoList[-1]))\n",
    "                \n",
    "                hduchans[len(chanNoList)-1].append(chanNoList[-1])\n",
    "                hdunames[len(chanNoList)-1].append(chanNoImName[-1])\n",
    "                print(hduchans,'starter')\n",
    "                print(chanNoList[-1],'new')\n",
    "\n",
    "        print(hduchans)\n",
    "        for loc in range(len(hdulist)):\n",
    "            output = medianAlign(im1,hdulist[loc],hduchans[loc],hdunames[loc])        \n",
    "            print(chanNoList)\n",
    "            print(chanNoImName)\n",
    "            hdu = fits.PrimaryHDU(output)\n",
    "            hdu.writeto(outfile+'_{}_{}.fits'.format(channel,chanNoList[loc]), clobber=True)\n",
    "            medianlist.append(outfile+'_{}_{}.fits'.format(channel,chanNoList[loc]))\n",
    "        \n",
    "        \n",
    "    return medianlist\n",
    "    \n",
    "    "
   ]
  },
  {
   "cell_type": "code",
   "execution_count": 12,
   "metadata": {
    "collapsed": true
   },
   "outputs": [],
   "source": [
    "extensionOrders = []\n",
    "for image in imagelist:\n",
    "    extensionOrders.append(correctExtensionOrder(image))"
   ]
  },
  {
   "cell_type": "code",
   "execution_count": 13,
   "metadata": {
    "collapsed": true
   },
   "outputs": [],
   "source": [
    "medianDir = '/data/mj1e16/kepler/newDiff/'\n",
    "medians = os.listdir(medianDir)\n",
    "medians = [x for x in medians if x[0] != '.']\n",
    "medians.sort()"
   ]
  },
  {
   "cell_type": "code",
   "execution_count": 18,
   "metadata": {
    "scrolled": true
   },
   "outputs": [],
   "source": [
    "#selectiveMedian(imagelist,extensionOrders,outfile='/data/mj1e16/kepler/medians/meidian')"
   ]
  },
  {
   "cell_type": "code",
   "execution_count": 19,
   "metadata": {
    "scrolled": true
   },
   "outputs": [],
   "source": [
    "#newMedian(imagelist,extensionOrders,outfile='/data/mj1e16/kepler/medians/meidian')"
   ]
  },
  {
   "cell_type": "code",
   "execution_count": null,
   "metadata": {
    "collapsed": true
   },
   "outputs": [],
   "source": [
    "[[41, 42, 43, 41, 41, 43, 42, 41, 44, 42, 42, 41], [41, 42, 43, 41, 41, 43, 42, 41, 44, 42, 42, 41], [41, 42, 43, 41, 41, 43, 42, 41, 44, 42, 42, 41], [41, 42, 43, 41, 41, 43, 42, 41, 44, 42, 42, 41]]"
   ]
  }
 ],
 "metadata": {
  "kernelspec": {
   "display_name": "Python 3",
   "language": "python",
   "name": "python3"
  },
  "language_info": {
   "codemirror_mode": {
    "name": "ipython",
    "version": 2
   },
   "file_extension": ".py",
   "mimetype": "text/x-python",
   "name": "python",
   "nbconvert_exporter": "python",
   "pygments_lexer": "ipython2",
   "version": "2.7.13"
  }
 },
 "nbformat": 4,
 "nbformat_minor": 2
}
