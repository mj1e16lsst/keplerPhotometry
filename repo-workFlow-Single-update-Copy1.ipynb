{
 "cells": [
  {
   "cell_type": "code",
   "execution_count": 1,
   "metadata": {
    "collapsed": true
   },
   "outputs": [],
   "source": [
    "import findspark\n",
    "findspark.init('/home/mj1e16/miniconda2/lib/python2.7/site-packages/pyspark')"
   ]
  },
  {
   "cell_type": "code",
   "execution_count": 2,
   "metadata": {
    "collapsed": true
   },
   "outputs": [],
   "source": [
    "from astropy.io import fits"
   ]
  },
  {
   "cell_type": "code",
   "execution_count": 3,
   "metadata": {
    "collapsed": true
   },
   "outputs": [],
   "source": [
    "#import astroprov\n",
    "import numpy as np\n",
    "import os\n",
    "\n",
    "from astropy.visualization.mpl_normalize import ImageNormalize\n",
    "from astropy.table import Table\n",
    "from astropy.table import Column\n",
    "\n",
    "import collections\n",
    "import subprocess\n",
    "\n",
    "import time\n",
    "from multiprocessing import Pool\n",
    "from multiprocessing.pool import ThreadPool\n",
    "\n",
    "from functools import partial\n",
    "\n",
    "from astropy.io import ascii\n",
    "#from sqlalchemy import create_engine\n",
    "import sqlite3\n",
    "import mysql.connector\n",
    "from pandas import DataFrame\n",
    "\n",
    "import mysql.connector\n",
    "from mysql.connector import Error\n",
    "from mysql.connector import pooling\n",
    "\n",
    "from pyspark.sql import Row\n",
    "from pyspark.sql import SQLContext\n",
    "from pyspark import SparkContext\n",
    "from pyspark import SparkConf\n",
    "import datetime\n",
    "from sqlalchemy import create_engine\n",
    "import sys\n"
   ]
  },
  {
   "cell_type": "code",
   "execution_count": 4,
   "metadata": {
    "collapsed": true
   },
   "outputs": [],
   "source": [
    "os.environ['PYSPARK_SUBMIT_ARGS'] = '--jars /home/mj1e16/miniconda2/lib/python2.7/site-packages/pyspark/mysql-connector-java_8.0.16-1ubuntu16.04_all/usr/share/java/mysql-connector-java-8.0.16.jar  pyspark-shell'\n",
    "config = SparkConf().setAll([('spark.executor.cores', '6'),('spark.cores.max', '6'),('spark.driver.memory','1g'),('spark.executor.memory', '500m'),(\"spark.sql.execution.arrow.enabled\", \"true\")]) # (\"spark.sql.execution.arrow.enabled\", \"true\")\n"
   ]
  },
  {
   "cell_type": "code",
   "execution_count": 5,
   "metadata": {
    "collapsed": true
   },
   "outputs": [],
   "source": [
    "sc = SparkContext(appName='App',conf=config)\n",
    "sqlContext = SQLContext(sc)"
   ]
  },
  {
   "cell_type": "code",
   "execution_count": 6,
   "metadata": {
    "collapsed": true
   },
   "outputs": [],
   "source": [
    "\n",
    "mags = [7,6,5,4,3,2,1]\n",
    "for mag in mags:\n",
    "    dataframe_mysql = sqlContext.read.format(\"jdbc\").option(\"url\", \"jdbc:mysql://localhost/Kepler\").option(\"driver\", \"com.mysql.jdbc.Driver\").option(\"dbtable\", \"starlist_{}\".format(mag)).option(\"user\", \"mj1e16\").option(\"password\", \"[sqlT1G3R]\").load()\n",
    "    dataframe_mysql.registerTempTable('starlist_{}'.format(mag))"
   ]
  },
  {
   "cell_type": "code",
   "execution_count": 18,
   "metadata": {
    "collapsed": true
   },
   "outputs": [],
   "source": [
    "def innerJoin(tableName,provDir,totGross,variableList,diffSize=1,xlength=1015.,ylength=1085.):\n",
    "    nsegs = 4\n",
    "    mag = variableList[6]\n",
    "    temptableName = tableName[0:5]+tableName[-1]\n",
    "    df = sqlContext.sql(\"SELECT NUMBER, MAG_BEST, X_IMAGE, Y_IMAGE, ELLIPTICITY FROM {0} INNER JOIN starlist_{1} ON {0}.X_IMAGE BETWEEN starlist_{1}.X_POS_MIN AND starlist_{1}.X_POS_MAX AND {0}.Y_IMAGE BETWEEN starlist_{1}.Y_POS_MIN AND starlist_{1}.Y_POS_MAX\".format(temptableName,abs(mag)))\n",
    "    df.registerTempTable(temptableName+'match')\n",
    "    sqlContext.cacheTable(temptableName+'match')\n",
    "    totNumber = df.count()\n",
    "    #print('tot',totNumber)\n",
    "    \n",
    "    xsegment = xlength/nsegs\n",
    "    ysegment = ylength/nsegs\n",
    "    \n",
    "    #totSeg = []\n",
    "    #df.write.format('jdbc').options(url='jdbc:mysql://localhost/Kepler',driver='com.mysql.jdbc.Driver',dbtable='result_{}'.format(tableName),user='mj1e16',password='[sqlT1G3R]').mode('append').save()\n",
    "    for xsegs in range(nsegs):\n",
    "        xmin = int(xsegs*xsegment)+15\n",
    "        xmax = int(xmin+xsegment)+15\n",
    "        for ysegs in range(nsegs):\n",
    "            ymin = int(ysegs*ysegment)+15\n",
    "            ymax = int(ymin+ysegment)+15\n",
    "            \n",
    "            df = sqlContext.sql(\"SELECT NUMBER FROM {0} WHERE {0}.X_IMAGE BETWEEN {1} AND {2} AND {0}.Y_IMAGE BETWEEN {3} AND {4}\".format(temptableName+'match',xmin,xmax,ymin,ymax))\n",
    "            number = df.count()\n",
    "            variableList.append(number)\n",
    "            \n",
    "#             dftot = sqlContext.sql(\"SELECT NUMBER FROM {0} WHERE {0}.X_IMAGE BETWEEN {1} AND {2} AND {0}.Y_IMAGE BETWEEN {3} AND {4}\".format(temptableName,xmin,xmax,ymin,ymax))\n",
    "#             number = df.count()\n",
    "#             #variableList.append(number)\n",
    "#             totSeg.append(number)\n",
    "\n",
    "            # need to create some place to write to\n",
    "\n",
    "    \n",
    "    \n",
    "#    variableList.extend(totSeg)\n",
    "    #astroprov.provcall([tableName,'starlist_{}'.format(abs(mag))],['result_{}'.format(tableName)],\"innerJoin_Python2Python_SQ_tmpl.provn\",\"innerJoin\",provDir)\n",
    "    \n",
    "    sqlContext.uncacheTable(temptableName+'match')\n",
    "    sqlContext.dropTempTable(temptableName+'match')\n",
    "    sqlContext.uncacheTable(temptableName)\n",
    "    sqlContext.dropTempTable(temptableName)\n",
    "    variableList.append(totNumber)\n",
    "    variableList.append(totGross)\n",
    "    variableTuple = tuple(variableList)\n",
    "    #print(variableTuple)\n",
    "    return variableTuple\n",
    "\n",
    "def makeConfig(valList,provDir,tableName='table',defaultDir='/home/mj1e16/sextractor/sextractor-master/config/',attributeList=['DETECT_THRESH','DETECT_MINAREA','BACK_SIZE','BACK_FILTERSIZE']):\n",
    "    \n",
    "\n",
    "    with open(defaultDir+'/default.sex','r') as f:\n",
    "        data  = f.read()\n",
    "    \n",
    "    catLocFinder = 'CATALOG_NAME'\n",
    "    catname = 'test1.cat'\n",
    "    nameLoc = data.find(catLocFinder) + len(catLocFinder)\n",
    "    endLoc = data[nameLoc:].find('#') + nameLoc\n",
    "    newData = data[:nameLoc] + ' '+catname+' ' + data[endLoc:]\n",
    "    data = newData \n",
    "        \n",
    "    for x in range(len(valList)):\n",
    "        nameLoc = data.find(attributeList[x]) + len(attributeList[x])\n",
    "        endLoc = data[nameLoc:].find('#') + nameLoc\n",
    "        newData = data[:nameLoc] + ' '+str(valList[x])+' ' + data[endLoc:]\n",
    "        data = newData    \n",
    "    \n",
    "    \n",
    "    confName = 'default_1.sex'\n",
    "    with open(defaultDir+confName,'w') as f:\n",
    "        f.write(data)\n",
    "    #astroprov.provcall(valList,[confName],\"makeConfig_Python2Python_SQ_tmpl.provn\",\"makeConfig\",provDir)\n",
    "    return(confName,tableName,catname)\n",
    "\n",
    "\n",
    "\n",
    "def findObjects(confName,tableName,catName,provDir,defaultDir='/home/mj1e16/sextractor/sextractor-master/config/',imagename='/home/mj1e16/iraf/editedImage5000.fits'):\n",
    "    \n",
    "    #astroprov.provcall([confName,'/home/mj1e16/iraf/editedImage5000.fits'],[tableName],\"findObjects_Python2DaoStarfidner_SQ_tmpl.provn\",\"findObjects\",provDir)\n",
    "\n",
    "    os.chdir(defaultDir)\n",
    "    subprocess.call(['sex',imagename,'-c',confName])\n",
    "    assoc = Table.read(catName,format='ascii.sextractor')\n",
    "    df = assoc.to_pandas()\n",
    "    df2 = df[df['MAG_BEST'] != 99.0000]\n",
    "    df_spark = sqlContext.createDataFrame(df2)\n",
    "    temptableName = tableName[0:5]+tableName[-1]\n",
    "    #print(temptableName)\n",
    "    df_spark.registerTempTable(temptableName)\n",
    "    totGross = df_spark.count()\n",
    "    #print('Gross ',totGross)\n",
    "    sqlContext.cacheTable(temptableName)\n",
    "    # count rows in table and add to some big table\n",
    "    \n",
    "    #df_spark.write.format('jdbc').options(url='jdbc:mysql://localhost/Kepler',driver='com.mysql.jdbc.Driver',dbtable='{}'.format(tableName),user='mj1e16',password='[sqlT1G3R]').mode('append').save()\n",
    "\n",
    "    return totGross\n",
    "\n",
    "def alltogethernow(valList,tableName,IMAGE,provDir,variableList):\n",
    "    Names = makeConfig(valList,provDir,tableName=tableName)\n",
    "    totGross = findObjects(Names[0],Names[1],Names[2],provDir,imagename=IMAGE) # confName tabName catname\n",
    "    finalTuple = innerJoin(Names[1],provDir,totGross,variableList)\n",
    "    return finalTuple"
   ]
  },
  {
   "cell_type": "code",
   "execution_count": 8,
   "metadata": {
    "collapsed": true
   },
   "outputs": [],
   "source": [
    "def hotpantsQuality(image):\n",
    "    hdu = fits.open(image)\n",
    "    imData = hdu[0].data\n",
    "    imData = abs(imData)\n",
    "    totVal = sum(imData)\n",
    "    totVal = sum(totVal)\n",
    "    return totVal"
   ]
  },
  {
   "cell_type": "code",
   "execution_count": 9,
   "metadata": {
    "collapsed": true
   },
   "outputs": [],
   "source": [
    "valList = [np.linspace(1,10,10),np.linspace(1,9,9),np.linspace(8,128,16),[1,3,5,7,9,11]]"
   ]
  },
  {
   "cell_type": "code",
   "execution_count": 10,
   "metadata": {
    "collapsed": true
   },
   "outputs": [],
   "source": [
    "def evaluateImage(valList,simImage,provDir,ccd,median,norm,minmag,smallName='Poshak',atList=['DETECT_THRESH','DETECT_MINAREA','BACK_SIZE','BACK_FILTERSIZE']):\n",
    "    \n",
    "    finalTableTuples = []\n",
    "    t0 = time.time()\n",
    "\n",
    "    for x0 in range(len(valList[0])):\n",
    "        for x1 in range(len(valList[1])):\n",
    "                for x2 in range(len(valList[2])):\n",
    "                    name = smallName+'_'+str(x0)+'_'+str(x1)+'_'+str(x2)+'_'\n",
    "                    for x3 in range(len(valList[3])):\n",
    "                        variableList = [float(valList[0][x0]),float(valList[1][x1]),float(valList[2][x2]),float(valList[3][x3]),ccd,median,minmag,norm]\n",
    "                        fullname = name+str(x3)\n",
    "                        fullValList = [valList[0][x0],valList[1][x1],valList[2][x2],valList[3][x3]]\n",
    "                        print(fullname)\n",
    "                        try:\n",
    "                            finalTableTuples.append(alltogethernow(fullValList,tableName=fullname,IMAGE=simImage,provDir=provDir,variableList=variableList))\n",
    "                        except RuntimeError:\n",
    "                            with open('redos','a') as f:\n",
    "                                bigString = simImage+','+str(fullname)+','+str(fullValList)\n",
    "                                f.write(bigString)\n",
    "                            print('Redo with valList = ',fullValList)\n",
    "                            pass\n",
    "\n",
    "    print(finalTableTuples)\n",
    "    rdd = sc.parallelize(finalTableTuples)\n",
    "    kepler = rdd.map(lambda x: Row(detectThresh=x[0],detectMinarea=x[1],backSize=x[2],backFiltersize=x[3],ccd=x[4],median=x[5],medianQuality=x[6],\n",
    "                                   minmag=x[7], xy_0=int(x[8]),xy_1=int(x[9]),xy_2=int(x[10]),xy_3=int(x[11]),xy_4=int(x[12]),\n",
    "                                   xy_5=int(x[13]),xy_6=int(x[14]),xy_7=int(x[15]),xy_8=int(x[16]),xy_9=int(x[17]),xy_10=int(x[18]),\n",
    "                                   xy_11=int(x[19]),xy_12=int(x[20]),xy_13=int(x[21]),xy_14=int(x[22]),xy_15=int(x[23]),totNum=int(x[24]),totGross=int(x[25])))\n",
    "\n",
    "    schemaKepler = sqlContext.createDataFrame(kepler)\n",
    "    #print('finalResults_{}_{}_{}'.format(ccd,median,minmag))\n",
    "    schemaKepler.write.format('jdbc').options(url='jdbc:mysql://localhost/Kepler',driver='com.mysql.jdbc.Driver',dbtable='finalResults_{}_{}_{}'.format(ccd,median,abs(minmag)),user='mj1e16',password='[sqlT1G3R]').mode('append').save()\n",
    "\n",
    "    print(time.time()-t0)\n"
   ]
  },
  {
   "cell_type": "code",
   "execution_count": 11,
   "metadata": {
    "collapsed": true
   },
   "outputs": [],
   "source": [
    "valList = [np.linspace(1,10,10),np.linspace(1,9,9),np.linspace(8,128,16),[1,3,5,7,9,11]]"
   ]
  },
  {
   "cell_type": "code",
   "execution_count": 12,
   "metadata": {
    "collapsed": true
   },
   "outputs": [],
   "source": [
    "#sqlContext.cacheTable('starlist')"
   ]
  },
  {
   "cell_type": "code",
   "execution_count": 13,
   "metadata": {
    "collapsed": true
   },
   "outputs": [],
   "source": [
    "#sqlContext.sql('DROP TABLE IF EXISTS finalResults_44_1')\n",
    "#valList = [[1.],[1.],[8.],[3.]]\n",
    "#valList = [np.linspace(1,2,2),np.linspace(1,2,2),[8.],[3.]]"
   ]
  },
  {
   "cell_type": "code",
   "execution_count": 14,
   "metadata": {
    "collapsed": true
   },
   "outputs": [],
   "source": [
    "# ccd = [44,63,79]\n",
    "# median = [0,1,2]\n",
    "# mags = np.linspace(-7,-1,7)\n",
    "\n",
    "#ccd = [44] #,63,79]\n",
    "ccd = [79]\n",
    "median = [2]\n",
    "mags = [-7,-6,-5,-4,-3,-2,-1]\n"
   ]
  },
  {
   "cell_type": "code",
   "execution_count": 15,
   "metadata": {},
   "outputs": [
    {
     "name": "stdout",
     "output_type": "stream",
     "text": [
      "[[3.944419917268288, 1.0, 1.392786645096585]]\n"
     ]
    }
   ],
   "source": [
    "\n",
    "norms = []\n",
    "for inc,c in enumerate(ccd):\n",
    "    totVals = []\n",
    "    for x in range(3):\n",
    "        totVals.append(hotpantsQuality('/home/mj1e16/Simages/diff_{}_{}.fits'.format(c,x)))\n",
    "    norms.append([float(y/totVals[1]) for y in totVals])\n",
    "print(norms)"
   ]
  },
  {
   "cell_type": "code",
   "execution_count": 16,
   "metadata": {},
   "outputs": [
    {
     "data": {
      "text/plain": [
       "1.392786645096585"
      ]
     },
     "execution_count": 16,
     "metadata": {},
     "output_type": "execute_result"
    }
   ],
   "source": [
    "norms[0][2]"
   ]
  },
  {
   "cell_type": "code",
   "execution_count": 19,
   "metadata": {
    "scrolled": true
   },
   "outputs": [
    {
     "name": "stdout",
     "output_type": "stream",
     "text": [
      "Poshak_79_2_-7_0_0_0_0\n"
     ]
    },
    {
     "ename": "ParseException",
     "evalue": "u\"\\nmismatched input 'INNER' expecting <EOF>(line 1, pos 55)\\n\\n== SQL ==\\nSELECT NUMBER, MAG_BEST, X_IMAGE, Y_IMAGE, FROM Posha0 INNER JOIN starlist_7 ON Posha0.X_IMAGE BETWEEN starlist_7.X_POS_MIN AND starlist_7.X_POS_MAX AND Posha0.Y_IMAGE BETWEEN starlist_7.Y_POS_MIN AND starlist_7.Y_POS_MAX\\n-------------------------------------------------------^^^\\n\"",
     "output_type": "error",
     "traceback": [
      "\u001b[0;31m---------------------------------------------------------------------------\u001b[0m",
      "\u001b[0;31mParseException\u001b[0m                            Traceback (most recent call last)",
      "\u001b[0;32m<ipython-input-19-466009029224>\u001b[0m in \u001b[0;36m<module>\u001b[0;34m()\u001b[0m\n\u001b[1;32m      8\u001b[0m             \u001b[0msubprocess\u001b[0m\u001b[0;34m.\u001b[0m\u001b[0mcall\u001b[0m\u001b[0;34m(\u001b[0m\u001b[0;34m[\u001b[0m\u001b[0;34m'mkdir'\u001b[0m\u001b[0;34m,\u001b[0m\u001b[0;34m'/data/mj1e16/provDump/{}/{}/{}'\u001b[0m\u001b[0;34m.\u001b[0m\u001b[0mformat\u001b[0m\u001b[0;34m(\u001b[0m\u001b[0mc\u001b[0m\u001b[0;34m,\u001b[0m\u001b[0mmed\u001b[0m\u001b[0;34m,\u001b[0m\u001b[0mmag\u001b[0m\u001b[0;34m)\u001b[0m\u001b[0;34m]\u001b[0m\u001b[0;34m)\u001b[0m\u001b[0;34m\u001b[0m\u001b[0m\n\u001b[1;32m      9\u001b[0m             \u001b[0mimName\u001b[0m \u001b[0;34m=\u001b[0m \u001b[0;34m'/home/mj1e16/Simages/diff_{}_{}{}_alt.fits'\u001b[0m\u001b[0;34m.\u001b[0m\u001b[0mformat\u001b[0m\u001b[0;34m(\u001b[0m\u001b[0mc\u001b[0m\u001b[0;34m,\u001b[0m\u001b[0mmed\u001b[0m\u001b[0;34m,\u001b[0m\u001b[0mmag\u001b[0m\u001b[0;34m)\u001b[0m\u001b[0;34m\u001b[0m\u001b[0m\n\u001b[0;32m---> 10\u001b[0;31m             \u001b[0mevaluateImage\u001b[0m\u001b[0;34m(\u001b[0m\u001b[0mvalList\u001b[0m\u001b[0;34m,\u001b[0m\u001b[0mimName\u001b[0m\u001b[0;34m,\u001b[0m\u001b[0;34m'/data/mj1e16/provDump/{}/{}/{}/'\u001b[0m\u001b[0;34m.\u001b[0m\u001b[0mformat\u001b[0m\u001b[0;34m(\u001b[0m\u001b[0mc\u001b[0m\u001b[0;34m,\u001b[0m\u001b[0mmed\u001b[0m\u001b[0;34m,\u001b[0m\u001b[0mmag\u001b[0m\u001b[0;34m)\u001b[0m\u001b[0;34m,\u001b[0m\u001b[0;34m'ccd_{}'\u001b[0m\u001b[0;34m.\u001b[0m\u001b[0mformat\u001b[0m\u001b[0;34m(\u001b[0m\u001b[0mc\u001b[0m\u001b[0;34m)\u001b[0m\u001b[0;34m,\u001b[0m\u001b[0;34m'median_{}'\u001b[0m\u001b[0;34m.\u001b[0m\u001b[0mformat\u001b[0m\u001b[0;34m(\u001b[0m\u001b[0mmed\u001b[0m\u001b[0;34m)\u001b[0m\u001b[0;34m,\u001b[0m\u001b[0mnorm\u001b[0m\u001b[0;34m,\u001b[0m\u001b[0mmag\u001b[0m\u001b[0;34m,\u001b[0m\u001b[0msmallName\u001b[0m\u001b[0;34m=\u001b[0m\u001b[0;34m'Poshak_{}_{}_{}'\u001b[0m\u001b[0;34m.\u001b[0m\u001b[0mformat\u001b[0m\u001b[0;34m(\u001b[0m\u001b[0mc\u001b[0m\u001b[0;34m,\u001b[0m\u001b[0mmed\u001b[0m\u001b[0;34m,\u001b[0m\u001b[0mmag\u001b[0m\u001b[0;34m)\u001b[0m\u001b[0;34m)\u001b[0m\u001b[0;34m\u001b[0m\u001b[0m\n\u001b[0m\u001b[1;32m     11\u001b[0m             \u001b[0msqlContext\u001b[0m\u001b[0;34m.\u001b[0m\u001b[0muncacheTable\u001b[0m\u001b[0;34m(\u001b[0m\u001b[0;34m'starlist_{}'\u001b[0m\u001b[0;34m.\u001b[0m\u001b[0mformat\u001b[0m\u001b[0;34m(\u001b[0m\u001b[0mabs\u001b[0m\u001b[0;34m(\u001b[0m\u001b[0mmag\u001b[0m\u001b[0;34m)\u001b[0m\u001b[0;34m)\u001b[0m\u001b[0;34m)\u001b[0m\u001b[0;34m\u001b[0m\u001b[0m\n",
      "\u001b[0;32m<ipython-input-10-324cfb50c19c>\u001b[0m in \u001b[0;36mevaluateImage\u001b[0;34m(valList, simImage, provDir, ccd, median, norm, minmag, smallName, atList)\u001b[0m\n\u001b[1;32m     14\u001b[0m                         \u001b[0;32mprint\u001b[0m\u001b[0;34m(\u001b[0m\u001b[0mfullname\u001b[0m\u001b[0;34m)\u001b[0m\u001b[0;34m\u001b[0m\u001b[0m\n\u001b[1;32m     15\u001b[0m                         \u001b[0;32mtry\u001b[0m\u001b[0;34m:\u001b[0m\u001b[0;34m\u001b[0m\u001b[0m\n\u001b[0;32m---> 16\u001b[0;31m                             \u001b[0mfinalTableTuples\u001b[0m\u001b[0;34m.\u001b[0m\u001b[0mappend\u001b[0m\u001b[0;34m(\u001b[0m\u001b[0malltogethernow\u001b[0m\u001b[0;34m(\u001b[0m\u001b[0mfullValList\u001b[0m\u001b[0;34m,\u001b[0m\u001b[0mtableName\u001b[0m\u001b[0;34m=\u001b[0m\u001b[0mfullname\u001b[0m\u001b[0;34m,\u001b[0m\u001b[0mIMAGE\u001b[0m\u001b[0;34m=\u001b[0m\u001b[0msimImage\u001b[0m\u001b[0;34m,\u001b[0m\u001b[0mprovDir\u001b[0m\u001b[0;34m=\u001b[0m\u001b[0mprovDir\u001b[0m\u001b[0;34m,\u001b[0m\u001b[0mvariableList\u001b[0m\u001b[0;34m=\u001b[0m\u001b[0mvariableList\u001b[0m\u001b[0;34m)\u001b[0m\u001b[0;34m)\u001b[0m\u001b[0;34m\u001b[0m\u001b[0m\n\u001b[0m\u001b[1;32m     17\u001b[0m                         \u001b[0;32mexcept\u001b[0m \u001b[0mRuntimeError\u001b[0m\u001b[0;34m:\u001b[0m\u001b[0;34m\u001b[0m\u001b[0m\n\u001b[1;32m     18\u001b[0m                             \u001b[0;32mwith\u001b[0m \u001b[0mopen\u001b[0m\u001b[0;34m(\u001b[0m\u001b[0;34m'redos'\u001b[0m\u001b[0;34m,\u001b[0m\u001b[0;34m'a'\u001b[0m\u001b[0;34m)\u001b[0m \u001b[0;32mas\u001b[0m \u001b[0mf\u001b[0m\u001b[0;34m:\u001b[0m\u001b[0;34m\u001b[0m\u001b[0m\n",
      "\u001b[0;32m<ipython-input-18-0c6065cc40c5>\u001b[0m in \u001b[0;36malltogethernow\u001b[0;34m(valList, tableName, IMAGE, provDir, variableList)\u001b[0m\n\u001b[1;32m    100\u001b[0m     \u001b[0mNames\u001b[0m \u001b[0;34m=\u001b[0m \u001b[0mmakeConfig\u001b[0m\u001b[0;34m(\u001b[0m\u001b[0mvalList\u001b[0m\u001b[0;34m,\u001b[0m\u001b[0mprovDir\u001b[0m\u001b[0;34m,\u001b[0m\u001b[0mtableName\u001b[0m\u001b[0;34m=\u001b[0m\u001b[0mtableName\u001b[0m\u001b[0;34m)\u001b[0m\u001b[0;34m\u001b[0m\u001b[0m\n\u001b[1;32m    101\u001b[0m     \u001b[0mtotGross\u001b[0m \u001b[0;34m=\u001b[0m \u001b[0mfindObjects\u001b[0m\u001b[0;34m(\u001b[0m\u001b[0mNames\u001b[0m\u001b[0;34m[\u001b[0m\u001b[0;36m0\u001b[0m\u001b[0;34m]\u001b[0m\u001b[0;34m,\u001b[0m\u001b[0mNames\u001b[0m\u001b[0;34m[\u001b[0m\u001b[0;36m1\u001b[0m\u001b[0;34m]\u001b[0m\u001b[0;34m,\u001b[0m\u001b[0mNames\u001b[0m\u001b[0;34m[\u001b[0m\u001b[0;36m2\u001b[0m\u001b[0;34m]\u001b[0m\u001b[0;34m,\u001b[0m\u001b[0mprovDir\u001b[0m\u001b[0;34m,\u001b[0m\u001b[0mimagename\u001b[0m\u001b[0;34m=\u001b[0m\u001b[0mIMAGE\u001b[0m\u001b[0;34m)\u001b[0m \u001b[0;31m# confName tabName catname\u001b[0m\u001b[0;34m\u001b[0m\u001b[0m\n\u001b[0;32m--> 102\u001b[0;31m     \u001b[0mfinalTuple\u001b[0m \u001b[0;34m=\u001b[0m \u001b[0minnerJoin\u001b[0m\u001b[0;34m(\u001b[0m\u001b[0mNames\u001b[0m\u001b[0;34m[\u001b[0m\u001b[0;36m1\u001b[0m\u001b[0;34m]\u001b[0m\u001b[0;34m,\u001b[0m\u001b[0mprovDir\u001b[0m\u001b[0;34m,\u001b[0m\u001b[0mtotGross\u001b[0m\u001b[0;34m,\u001b[0m\u001b[0mvariableList\u001b[0m\u001b[0;34m)\u001b[0m\u001b[0;34m\u001b[0m\u001b[0m\n\u001b[0m\u001b[1;32m    103\u001b[0m     \u001b[0;32mreturn\u001b[0m \u001b[0mfinalTuple\u001b[0m\u001b[0;34m\u001b[0m\u001b[0m\n",
      "\u001b[0;32m<ipython-input-18-0c6065cc40c5>\u001b[0m in \u001b[0;36minnerJoin\u001b[0;34m(tableName, provDir, totGross, variableList, diffSize, xlength, ylength)\u001b[0m\n\u001b[1;32m      3\u001b[0m     \u001b[0mmag\u001b[0m \u001b[0;34m=\u001b[0m \u001b[0mvariableList\u001b[0m\u001b[0;34m[\u001b[0m\u001b[0;36m6\u001b[0m\u001b[0;34m]\u001b[0m\u001b[0;34m\u001b[0m\u001b[0m\n\u001b[1;32m      4\u001b[0m     \u001b[0mtemptableName\u001b[0m \u001b[0;34m=\u001b[0m \u001b[0mtableName\u001b[0m\u001b[0;34m[\u001b[0m\u001b[0;36m0\u001b[0m\u001b[0;34m:\u001b[0m\u001b[0;36m5\u001b[0m\u001b[0;34m]\u001b[0m\u001b[0;34m+\u001b[0m\u001b[0mtableName\u001b[0m\u001b[0;34m[\u001b[0m\u001b[0;34m-\u001b[0m\u001b[0;36m1\u001b[0m\u001b[0;34m]\u001b[0m\u001b[0;34m\u001b[0m\u001b[0m\n\u001b[0;32m----> 5\u001b[0;31m     \u001b[0mdf\u001b[0m \u001b[0;34m=\u001b[0m \u001b[0msqlContext\u001b[0m\u001b[0;34m.\u001b[0m\u001b[0msql\u001b[0m\u001b[0;34m(\u001b[0m\u001b[0;34m\"SELECT NUMBER, MAG_BEST, X_IMAGE, Y_IMAGE, FROM {0} INNER JOIN starlist_{1} ON {0}.X_IMAGE BETWEEN starlist_{1}.X_POS_MIN AND starlist_{1}.X_POS_MAX AND {0}.Y_IMAGE BETWEEN starlist_{1}.Y_POS_MIN AND starlist_{1}.Y_POS_MAX\"\u001b[0m\u001b[0;34m.\u001b[0m\u001b[0mformat\u001b[0m\u001b[0;34m(\u001b[0m\u001b[0mtemptableName\u001b[0m\u001b[0;34m,\u001b[0m\u001b[0mabs\u001b[0m\u001b[0;34m(\u001b[0m\u001b[0mmag\u001b[0m\u001b[0;34m)\u001b[0m\u001b[0;34m)\u001b[0m\u001b[0;34m)\u001b[0m\u001b[0;34m\u001b[0m\u001b[0m\n\u001b[0m\u001b[1;32m      6\u001b[0m     \u001b[0mdf\u001b[0m\u001b[0;34m.\u001b[0m\u001b[0mregisterTempTable\u001b[0m\u001b[0;34m(\u001b[0m\u001b[0mtemptableName\u001b[0m\u001b[0;34m+\u001b[0m\u001b[0;34m'match'\u001b[0m\u001b[0;34m)\u001b[0m\u001b[0;34m\u001b[0m\u001b[0m\n\u001b[1;32m      7\u001b[0m     \u001b[0msqlContext\u001b[0m\u001b[0;34m.\u001b[0m\u001b[0mcacheTable\u001b[0m\u001b[0;34m(\u001b[0m\u001b[0mtemptableName\u001b[0m\u001b[0;34m+\u001b[0m\u001b[0;34m'match'\u001b[0m\u001b[0;34m)\u001b[0m\u001b[0;34m\u001b[0m\u001b[0m\n",
      "\u001b[0;32m/home/mj1e16/miniconda2/envs/astroconda/lib/python2.7/site-packages/pyspark/sql/context.pyc\u001b[0m in \u001b[0;36msql\u001b[0;34m(self, sqlQuery)\u001b[0m\n\u001b[1;32m    356\u001b[0m         \u001b[0;34m[\u001b[0m\u001b[0mRow\u001b[0m\u001b[0;34m(\u001b[0m\u001b[0mf1\u001b[0m\u001b[0;34m=\u001b[0m\u001b[0;36m1\u001b[0m\u001b[0;34m,\u001b[0m \u001b[0mf2\u001b[0m\u001b[0;34m=\u001b[0m\u001b[0;34mu'row1'\u001b[0m\u001b[0;34m)\u001b[0m\u001b[0;34m,\u001b[0m \u001b[0mRow\u001b[0m\u001b[0;34m(\u001b[0m\u001b[0mf1\u001b[0m\u001b[0;34m=\u001b[0m\u001b[0;36m2\u001b[0m\u001b[0;34m,\u001b[0m \u001b[0mf2\u001b[0m\u001b[0;34m=\u001b[0m\u001b[0;34mu'row2'\u001b[0m\u001b[0;34m)\u001b[0m\u001b[0;34m,\u001b[0m \u001b[0mRow\u001b[0m\u001b[0;34m(\u001b[0m\u001b[0mf1\u001b[0m\u001b[0;34m=\u001b[0m\u001b[0;36m3\u001b[0m\u001b[0;34m,\u001b[0m \u001b[0mf2\u001b[0m\u001b[0;34m=\u001b[0m\u001b[0;34mu'row3'\u001b[0m\u001b[0;34m)\u001b[0m\u001b[0;34m]\u001b[0m\u001b[0;34m\u001b[0m\u001b[0m\n\u001b[1;32m    357\u001b[0m         \"\"\"\n\u001b[0;32m--> 358\u001b[0;31m         \u001b[0;32mreturn\u001b[0m \u001b[0mself\u001b[0m\u001b[0;34m.\u001b[0m\u001b[0msparkSession\u001b[0m\u001b[0;34m.\u001b[0m\u001b[0msql\u001b[0m\u001b[0;34m(\u001b[0m\u001b[0msqlQuery\u001b[0m\u001b[0;34m)\u001b[0m\u001b[0;34m\u001b[0m\u001b[0m\n\u001b[0m\u001b[1;32m    359\u001b[0m \u001b[0;34m\u001b[0m\u001b[0m\n\u001b[1;32m    360\u001b[0m     \u001b[0;34m@\u001b[0m\u001b[0msince\u001b[0m\u001b[0;34m(\u001b[0m\u001b[0;36m1.0\u001b[0m\u001b[0;34m)\u001b[0m\u001b[0;34m\u001b[0m\u001b[0m\n",
      "\u001b[0;32m/home/mj1e16/miniconda2/envs/astroconda/lib/python2.7/site-packages/pyspark/sql/session.pyc\u001b[0m in \u001b[0;36msql\u001b[0;34m(self, sqlQuery)\u001b[0m\n\u001b[1;32m    765\u001b[0m         \u001b[0;34m[\u001b[0m\u001b[0mRow\u001b[0m\u001b[0;34m(\u001b[0m\u001b[0mf1\u001b[0m\u001b[0;34m=\u001b[0m\u001b[0;36m1\u001b[0m\u001b[0;34m,\u001b[0m \u001b[0mf2\u001b[0m\u001b[0;34m=\u001b[0m\u001b[0;34mu'row1'\u001b[0m\u001b[0;34m)\u001b[0m\u001b[0;34m,\u001b[0m \u001b[0mRow\u001b[0m\u001b[0;34m(\u001b[0m\u001b[0mf1\u001b[0m\u001b[0;34m=\u001b[0m\u001b[0;36m2\u001b[0m\u001b[0;34m,\u001b[0m \u001b[0mf2\u001b[0m\u001b[0;34m=\u001b[0m\u001b[0;34mu'row2'\u001b[0m\u001b[0;34m)\u001b[0m\u001b[0;34m,\u001b[0m \u001b[0mRow\u001b[0m\u001b[0;34m(\u001b[0m\u001b[0mf1\u001b[0m\u001b[0;34m=\u001b[0m\u001b[0;36m3\u001b[0m\u001b[0;34m,\u001b[0m \u001b[0mf2\u001b[0m\u001b[0;34m=\u001b[0m\u001b[0;34mu'row3'\u001b[0m\u001b[0;34m)\u001b[0m\u001b[0;34m]\u001b[0m\u001b[0;34m\u001b[0m\u001b[0m\n\u001b[1;32m    766\u001b[0m         \"\"\"\n\u001b[0;32m--> 767\u001b[0;31m         \u001b[0;32mreturn\u001b[0m \u001b[0mDataFrame\u001b[0m\u001b[0;34m(\u001b[0m\u001b[0mself\u001b[0m\u001b[0;34m.\u001b[0m\u001b[0m_jsparkSession\u001b[0m\u001b[0;34m.\u001b[0m\u001b[0msql\u001b[0m\u001b[0;34m(\u001b[0m\u001b[0msqlQuery\u001b[0m\u001b[0;34m)\u001b[0m\u001b[0;34m,\u001b[0m \u001b[0mself\u001b[0m\u001b[0;34m.\u001b[0m\u001b[0m_wrapped\u001b[0m\u001b[0;34m)\u001b[0m\u001b[0;34m\u001b[0m\u001b[0m\n\u001b[0m\u001b[1;32m    768\u001b[0m \u001b[0;34m\u001b[0m\u001b[0m\n\u001b[1;32m    769\u001b[0m     \u001b[0;34m@\u001b[0m\u001b[0msince\u001b[0m\u001b[0;34m(\u001b[0m\u001b[0;36m2.0\u001b[0m\u001b[0;34m)\u001b[0m\u001b[0;34m\u001b[0m\u001b[0m\n",
      "\u001b[0;32m/home/mj1e16/miniconda2/lib/python2.7/site-packages/pyspark/python/lib/py4j-0.10.7-src.zip/py4j/java_gateway.py\u001b[0m in \u001b[0;36m__call__\u001b[0;34m(self, *args)\u001b[0m\n\u001b[1;32m   1255\u001b[0m         \u001b[0manswer\u001b[0m \u001b[0;34m=\u001b[0m \u001b[0mself\u001b[0m\u001b[0;34m.\u001b[0m\u001b[0mgateway_client\u001b[0m\u001b[0;34m.\u001b[0m\u001b[0msend_command\u001b[0m\u001b[0;34m(\u001b[0m\u001b[0mcommand\u001b[0m\u001b[0;34m)\u001b[0m\u001b[0;34m\u001b[0m\u001b[0m\n\u001b[1;32m   1256\u001b[0m         return_value = get_return_value(\n\u001b[0;32m-> 1257\u001b[0;31m             answer, self.gateway_client, self.target_id, self.name)\n\u001b[0m\u001b[1;32m   1258\u001b[0m \u001b[0;34m\u001b[0m\u001b[0m\n\u001b[1;32m   1259\u001b[0m         \u001b[0;32mfor\u001b[0m \u001b[0mtemp_arg\u001b[0m \u001b[0;32min\u001b[0m \u001b[0mtemp_args\u001b[0m\u001b[0;34m:\u001b[0m\u001b[0;34m\u001b[0m\u001b[0m\n",
      "\u001b[0;32m/home/mj1e16/miniconda2/envs/astroconda/lib/python2.7/site-packages/pyspark/sql/utils.pyc\u001b[0m in \u001b[0;36mdeco\u001b[0;34m(*a, **kw)\u001b[0m\n\u001b[1;32m     71\u001b[0m                 \u001b[0;32mraise\u001b[0m \u001b[0mAnalysisException\u001b[0m\u001b[0;34m(\u001b[0m\u001b[0ms\u001b[0m\u001b[0;34m.\u001b[0m\u001b[0msplit\u001b[0m\u001b[0;34m(\u001b[0m\u001b[0;34m': '\u001b[0m\u001b[0;34m,\u001b[0m \u001b[0;36m1\u001b[0m\u001b[0;34m)\u001b[0m\u001b[0;34m[\u001b[0m\u001b[0;36m1\u001b[0m\u001b[0;34m]\u001b[0m\u001b[0;34m,\u001b[0m \u001b[0mstackTrace\u001b[0m\u001b[0;34m)\u001b[0m\u001b[0;34m\u001b[0m\u001b[0m\n\u001b[1;32m     72\u001b[0m             \u001b[0;32mif\u001b[0m \u001b[0ms\u001b[0m\u001b[0;34m.\u001b[0m\u001b[0mstartswith\u001b[0m\u001b[0;34m(\u001b[0m\u001b[0;34m'org.apache.spark.sql.catalyst.parser.ParseException: '\u001b[0m\u001b[0;34m)\u001b[0m\u001b[0;34m:\u001b[0m\u001b[0;34m\u001b[0m\u001b[0m\n\u001b[0;32m---> 73\u001b[0;31m                 \u001b[0;32mraise\u001b[0m \u001b[0mParseException\u001b[0m\u001b[0;34m(\u001b[0m\u001b[0ms\u001b[0m\u001b[0;34m.\u001b[0m\u001b[0msplit\u001b[0m\u001b[0;34m(\u001b[0m\u001b[0;34m': '\u001b[0m\u001b[0;34m,\u001b[0m \u001b[0;36m1\u001b[0m\u001b[0;34m)\u001b[0m\u001b[0;34m[\u001b[0m\u001b[0;36m1\u001b[0m\u001b[0;34m]\u001b[0m\u001b[0;34m,\u001b[0m \u001b[0mstackTrace\u001b[0m\u001b[0;34m)\u001b[0m\u001b[0;34m\u001b[0m\u001b[0m\n\u001b[0m\u001b[1;32m     74\u001b[0m             \u001b[0;32mif\u001b[0m \u001b[0ms\u001b[0m\u001b[0;34m.\u001b[0m\u001b[0mstartswith\u001b[0m\u001b[0;34m(\u001b[0m\u001b[0;34m'org.apache.spark.sql.streaming.StreamingQueryException: '\u001b[0m\u001b[0;34m)\u001b[0m\u001b[0;34m:\u001b[0m\u001b[0;34m\u001b[0m\u001b[0m\n\u001b[1;32m     75\u001b[0m                 \u001b[0;32mraise\u001b[0m \u001b[0mStreamingQueryException\u001b[0m\u001b[0;34m(\u001b[0m\u001b[0ms\u001b[0m\u001b[0;34m.\u001b[0m\u001b[0msplit\u001b[0m\u001b[0;34m(\u001b[0m\u001b[0;34m': '\u001b[0m\u001b[0;34m,\u001b[0m \u001b[0;36m1\u001b[0m\u001b[0;34m)\u001b[0m\u001b[0;34m[\u001b[0m\u001b[0;36m1\u001b[0m\u001b[0;34m]\u001b[0m\u001b[0;34m,\u001b[0m \u001b[0mstackTrace\u001b[0m\u001b[0;34m)\u001b[0m\u001b[0;34m\u001b[0m\u001b[0m\n",
      "\u001b[0;31mParseException\u001b[0m: u\"\\nmismatched input 'INNER' expecting <EOF>(line 1, pos 55)\\n\\n== SQL ==\\nSELECT NUMBER, MAG_BEST, X_IMAGE, Y_IMAGE, FROM Posha0 INNER JOIN starlist_7 ON Posha0.X_IMAGE BETWEEN starlist_7.X_POS_MIN AND starlist_7.X_POS_MAX AND Posha0.Y_IMAGE BETWEEN starlist_7.Y_POS_MIN AND starlist_7.Y_POS_MAX\\n-------------------------------------------------------^^^\\n\""
     ]
    }
   ],
   "source": [
    "### Make function to replace starlist\n",
    "for inc,c in enumerate(ccd):\n",
    "    for inmed,med in enumerate(median):\n",
    "        norm = norms[0][2]\n",
    "        subprocess.call(['mkdir','/home/mj1e16/keplerPhotometry/provDump/{}/{}'.format(c,med)])\n",
    "        for mag in mags:\n",
    "            sqlContext.cacheTable('starlist_{}'.format(abs(mag)))\n",
    "            subprocess.call(['mkdir','/data/mj1e16/provDump/{}/{}/{}'.format(c,med,mag)])\n",
    "            imName = '/home/mj1e16/Simages/diff_{}_{}{}_alt.fits'.format(c,med,mag)\n",
    "            evaluateImage(valList,imName,'/data/mj1e16/provDump/{}/{}/{}/'.format(c,med,mag),'ccd_{}'.format(c),'median_{}'.format(med),norm,mag,smallName='Poshak_{}_{}_{}'.format(c,med,mag))\n",
    "            sqlContext.uncacheTable('starlist_{}'.format(abs(mag)))"
   ]
  },
  {
   "cell_type": "code",
   "execution_count": null,
   "metadata": {
    "collapsed": true
   },
   "outputs": [],
   "source": [
    "# change prov directory back on to ssd"
   ]
  },
  {
   "cell_type": "code",
   "execution_count": 49,
   "metadata": {
    "collapsed": true
   },
   "outputs": [],
   "source": [
    "a = [1.0, 1.0, 8.0, 3.0, 'ccd_44', 'median_1', -7, 1.0, 67, 62, 64, 48, 70, 67, 68, 51, 70, 67, 64, 30, 70, 67, 68, 48, 67, 62, 64, 48, 70, 67, 68, 51, 70, 67, 64, 30, 70, 67, 68, 48, 967, 15760]"
   ]
  },
  {
   "cell_type": "code",
   "execution_count": 32,
   "metadata": {
    "collapsed": true
   },
   "outputs": [],
   "source": [
    "a = [1.0, 1.0, 8.0, 3.0, 'ccd_44', 'median_1', -7, 1.0, 67, 67, 62, 62, 64, 64, 48, 48, 70, 70, 67, 67, 68, 68, 51, 51, 70, 70, 67, 67, 64, 64, 30, 30, 70, 70, 67, 67, 68, 68, 48, 48, 967, 15760]"
   ]
  },
  {
   "cell_type": "code",
   "execution_count": 33,
   "metadata": {},
   "outputs": [
    {
     "data": {
      "text/plain": [
       "70"
      ]
     },
     "execution_count": 33,
     "metadata": {},
     "output_type": "execute_result"
    }
   ],
   "source": [
    "a[24]"
   ]
  },
  {
   "cell_type": "code",
   "execution_count": 14,
   "metadata": {
    "collapsed": true
   },
   "outputs": [],
   "source": [
    "tup = [(1,2,3),(4,5,6)]\n",
    "rdd = sc.parallelize(tup)\n",
    "kepler = rdd.map(lambda x: Row(one=int(x[0]),two=int(x[1]),three=int(x[2])))\n",
    "schemaKepler = sqlContext.createDataFrame(kepler)\n",
    "schemaKepler.write.format('jdbc').options(url='jdbc:mysql://localhost/Kepler',driver='com.mysql.jdbc.Driver',dbtable='testTab',user='mj1e16',password='[sqlT1G3R]').mode('append').save()\n"
   ]
  },
  {
   "cell_type": "code",
   "execution_count": 29,
   "metadata": {},
   "outputs": [
    {
     "name": "stdout",
     "output_type": "stream",
     "text": [
      "+--------+----------+-----------+\n",
      "|database| tableName|isTemporary|\n",
      "+--------+----------+-----------+\n",
      "|        |  starlist|       true|\n",
      "|        |starlist_1|       true|\n",
      "|        |starlist_2|       true|\n",
      "|        |starlist_3|       true|\n",
      "|        |starlist_4|       true|\n",
      "|        |starlist_5|       true|\n",
      "|        |starlist_6|       true|\n",
      "|        |starlist_7|       true|\n",
      "+--------+----------+-----------+\n",
      "\n",
      "None\n"
     ]
    }
   ],
   "source": [
    "a = sqlContext.sql(\"show tables\").show()\n",
    "print(a)"
   ]
  },
  {
   "cell_type": "code",
   "execution_count": 15,
   "metadata": {
    "collapsed": true
   },
   "outputs": [],
   "source": [
    "def test():\n",
    "    row = [('tabName',1,1),('tabName2',1,2)]\n",
    "    rdd = sc.parallelize(row)\n",
    "    kepler = rdd.map(lambda x: Row(tabName=x[0], xyRegion=int(x[1]),magRegion=int(x[2])))\n",
    "    schemaKepler = sqlContext.createDataFrame(kepler)\n",
    "    df = schemaKepler.toPandas()\n",
    "    print(df)"
   ]
  },
  {
   "cell_type": "code",
   "execution_count": 25,
   "metadata": {
    "collapsed": true
   },
   "outputs": [],
   "source": [
    "def testPartial(value):\n",
    "    return (value) #,value)"
   ]
  },
  {
   "cell_type": "code",
   "execution_count": 26,
   "metadata": {},
   "outputs": [
    {
     "name": "stdout",
     "output_type": "stream",
     "text": [
      "[0, 1, 2, 3, 4, 5, 0, 1, 2, 3, 4, 5, 0, 1, 2, 3, 4, 5, 0, 1, 2, 3, 4, 5, 0, 1, 2, 3, 4, 5]\n"
     ]
    }
   ],
   "source": [
    "p = ThreadPool(6)\n",
    "values = [0,1,2,3,4,5]\n",
    "answer = []\n",
    "for x in range(5):\n",
    "    answer.extend(p.map(testPartial,values))\n",
    "print(answer)"
   ]
  },
  {
   "cell_type": "code",
   "execution_count": 26,
   "metadata": {
    "collapsed": true
   },
   "outputs": [],
   "source": [
    "import sys"
   ]
  },
  {
   "cell_type": "code",
   "execution_count": 27,
   "metadata": {},
   "outputs": [
    {
     "data": {
      "text/plain": [
       "336"
      ]
     },
     "execution_count": 27,
     "metadata": {},
     "output_type": "execute_result"
    }
   ],
   "source": [
    "sys.getsizeof(answer)"
   ]
  },
  {
   "cell_type": "code",
   "execution_count": 12,
   "metadata": {
    "collapsed": true
   },
   "outputs": [],
   "source": [
    "def findMagRange(catName):\n",
    "    assoc = Table.read(catName,format='ascii.sextractor')\n",
    "    df = assoc.to_pandas()\n",
    "    df2 = df[df['MAG_BEST'] != 99.0000]\n",
    "    #df3 = df[df['MAG_BEST'] == 99.0000]\n",
    "    maxVal = df2['MAG_BEST'].max()\n",
    "    minVal = df2['MAG_BEST'].min()\n",
    "#     df4 = df2.sort_values('MAG_BEST')\n",
    "#     return df4\n",
    "    print(minVal,maxVal)"
   ]
  },
  {
   "cell_type": "code",
   "execution_count": 32,
   "metadata": {
    "collapsed": true
   },
   "outputs": [],
   "source": [
    "def findMagRange(catName):\n",
    "    assoc = Table.read(catName,format='ascii.sextractor')\n",
    "    df = assoc.to_pandas()\n",
    "    df2 = df[df['MAG_BEST'] != 99.0000]\n",
    "    #df3 = df[df['MAG_BEST'] == 99.0000]\n",
    "#     maxVal = df2['MAG_BEST'].max()\n",
    "#     minVal = df2['MAG_BEST'].min()\n",
    "    df4 = df2.sort_values('MAG_BEST')\n",
    "    return df4\n",
    "#     print(minVal,maxVal)"
   ]
  },
  {
   "cell_type": "code",
   "execution_count": 15,
   "metadata": {},
   "outputs": [
    {
     "name": "stdout",
     "output_type": "stream",
     "text": [
      "/home/mj1e16/sextractor/sextractor-master/config/test0.cat\n",
      "/home/mj1e16/sextractor/sextractor-master/config/test1.cat\n",
      "/home/mj1e16/sextractor/sextractor-master/config/test2.cat\n",
      "/home/mj1e16/sextractor/sextractor-master/config/test3.cat\n",
      "/home/mj1e16/sextractor/sextractor-master/config/test4.cat\n",
      "/home/mj1e16/sextractor/sextractor-master/config/test5.cat\n"
     ]
    }
   ],
   "source": [
    "for x in range(6):\n",
    "    print('/home/mj1e16/sextractor/sextractor-master/config/test{}.cat'.format(x))\n",
    "    findMagRange('/home/mj1e16/sextractor/sextractor-master/config/test{}.cat'.format(x))"
   ]
  },
  {
   "cell_type": "code",
   "execution_count": 33,
   "metadata": {
    "collapsed": true
   },
   "outputs": [],
   "source": [
    "x = 2\n",
    "df = findMagRange('/home/mj1e16/sextractor/sextractor-master/config/test{}.cat'.format(x))"
   ]
  },
  {
   "cell_type": "code",
   "execution_count": 35,
   "metadata": {},
   "outputs": [
    {
     "data": {
      "text/html": [
       "<div>\n",
       "<style>\n",
       "    .dataframe thead tr:only-child th {\n",
       "        text-align: right;\n",
       "    }\n",
       "\n",
       "    .dataframe thead th {\n",
       "        text-align: left;\n",
       "    }\n",
       "\n",
       "    .dataframe tbody tr th {\n",
       "        vertical-align: top;\n",
       "    }\n",
       "</style>\n",
       "<table border=\"1\" class=\"dataframe\">\n",
       "  <thead>\n",
       "    <tr style=\"text-align: right;\">\n",
       "      <th></th>\n",
       "      <th>NUMBER</th>\n",
       "      <th>MAG_BEST</th>\n",
       "      <th>X_IMAGE</th>\n",
       "      <th>Y_IMAGE</th>\n",
       "      <th>ELLIPTICITY</th>\n",
       "    </tr>\n",
       "  </thead>\n",
       "  <tbody>\n",
       "    <tr>\n",
       "      <th>3025</th>\n",
       "      <td>3026</td>\n",
       "      <td>13.0256</td>\n",
       "      <td>782.0090</td>\n",
       "      <td>185.0009</td>\n",
       "      <td>0.352</td>\n",
       "    </tr>\n",
       "    <tr>\n",
       "      <th>2869</th>\n",
       "      <td>2870</td>\n",
       "      <td>13.0305</td>\n",
       "      <td>1052.8906</td>\n",
       "      <td>184.9989</td>\n",
       "      <td>0.036</td>\n",
       "    </tr>\n",
       "    <tr>\n",
       "      <th>13573</th>\n",
       "      <td>13574</td>\n",
       "      <td>13.0327</td>\n",
       "      <td>1052.7808</td>\n",
       "      <td>946.0535</td>\n",
       "      <td>0.125</td>\n",
       "    </tr>\n",
       "    <tr>\n",
       "      <th>13344</th>\n",
       "      <td>13345</td>\n",
       "      <td>13.0328</td>\n",
       "      <td>239.7816</td>\n",
       "      <td>946.0737</td>\n",
       "      <td>0.031</td>\n",
       "    </tr>\n",
       "    <tr>\n",
       "      <th>6969</th>\n",
       "      <td>6970</td>\n",
       "      <td>13.0329</td>\n",
       "      <td>239.5148</td>\n",
       "      <td>437.8912</td>\n",
       "      <td>0.103</td>\n",
       "    </tr>\n",
       "    <tr>\n",
       "      <th>11193</th>\n",
       "      <td>11194</td>\n",
       "      <td>13.0329</td>\n",
       "      <td>239.6400</td>\n",
       "      <td>691.9606</td>\n",
       "      <td>0.054</td>\n",
       "    </tr>\n",
       "    <tr>\n",
       "      <th>13666</th>\n",
       "      <td>13667</td>\n",
       "      <td>13.0333</td>\n",
       "      <td>781.5560</td>\n",
       "      <td>946.0166</td>\n",
       "      <td>0.260</td>\n",
       "    </tr>\n",
       "    <tr>\n",
       "      <th>6968</th>\n",
       "      <td>6969</td>\n",
       "      <td>13.0335</td>\n",
       "      <td>781.4474</td>\n",
       "      <td>438.1546</td>\n",
       "      <td>0.157</td>\n",
       "    </tr>\n",
       "    <tr>\n",
       "      <th>7010</th>\n",
       "      <td>7011</td>\n",
       "      <td>13.0338</td>\n",
       "      <td>510.7693</td>\n",
       "      <td>437.9970</td>\n",
       "      <td>0.031</td>\n",
       "    </tr>\n",
       "    <tr>\n",
       "      <th>2859</th>\n",
       "      <td>2860</td>\n",
       "      <td>13.0340</td>\n",
       "      <td>239.8327</td>\n",
       "      <td>185.1199</td>\n",
       "      <td>0.095</td>\n",
       "    </tr>\n",
       "    <tr>\n",
       "      <th>11098</th>\n",
       "      <td>11099</td>\n",
       "      <td>13.0341</td>\n",
       "      <td>510.8086</td>\n",
       "      <td>692.0192</td>\n",
       "      <td>0.053</td>\n",
       "    </tr>\n",
       "    <tr>\n",
       "      <th>11096</th>\n",
       "      <td>11097</td>\n",
       "      <td>13.0343</td>\n",
       "      <td>781.8524</td>\n",
       "      <td>692.0643</td>\n",
       "      <td>0.048</td>\n",
       "    </tr>\n",
       "    <tr>\n",
       "      <th>16177</th>\n",
       "      <td>16178</td>\n",
       "      <td>13.0348</td>\n",
       "      <td>510.7735</td>\n",
       "      <td>945.9639</td>\n",
       "      <td>0.073</td>\n",
       "    </tr>\n",
       "    <tr>\n",
       "      <th>2860</th>\n",
       "      <td>2861</td>\n",
       "      <td>13.0349</td>\n",
       "      <td>510.7512</td>\n",
       "      <td>185.0112</td>\n",
       "      <td>0.098</td>\n",
       "    </tr>\n",
       "    <tr>\n",
       "      <th>6956</th>\n",
       "      <td>6957</td>\n",
       "      <td>13.0379</td>\n",
       "      <td>1052.8188</td>\n",
       "      <td>438.0684</td>\n",
       "      <td>0.059</td>\n",
       "    </tr>\n",
       "    <tr>\n",
       "      <th>11207</th>\n",
       "      <td>11208</td>\n",
       "      <td>13.0408</td>\n",
       "      <td>1052.9272</td>\n",
       "      <td>692.0045</td>\n",
       "      <td>0.114</td>\n",
       "    </tr>\n",
       "    <tr>\n",
       "      <th>6473</th>\n",
       "      <td>6474</td>\n",
       "      <td>13.3594</td>\n",
       "      <td>316.6791</td>\n",
       "      <td>394.9765</td>\n",
       "      <td>0.363</td>\n",
       "    </tr>\n",
       "    <tr>\n",
       "      <th>2447</th>\n",
       "      <td>2448</td>\n",
       "      <td>13.3612</td>\n",
       "      <td>587.9571</td>\n",
       "      <td>142.0876</td>\n",
       "      <td>0.295</td>\n",
       "    </tr>\n",
       "    <tr>\n",
       "      <th>6271</th>\n",
       "      <td>6272</td>\n",
       "      <td>13.3652</td>\n",
       "      <td>45.3941</td>\n",
       "      <td>395.1005</td>\n",
       "      <td>0.249</td>\n",
       "    </tr>\n",
       "    <tr>\n",
       "      <th>10804</th>\n",
       "      <td>10805</td>\n",
       "      <td>13.3658</td>\n",
       "      <td>316.7459</td>\n",
       "      <td>649.0609</td>\n",
       "      <td>0.361</td>\n",
       "    </tr>\n",
       "    <tr>\n",
       "      <th>14055</th>\n",
       "      <td>14056</td>\n",
       "      <td>13.3664</td>\n",
       "      <td>45.7228</td>\n",
       "      <td>903.1291</td>\n",
       "      <td>0.350</td>\n",
       "    </tr>\n",
       "    <tr>\n",
       "      <th>6234</th>\n",
       "      <td>6235</td>\n",
       "      <td>13.3668</td>\n",
       "      <td>858.6958</td>\n",
       "      <td>395.0254</td>\n",
       "      <td>0.383</td>\n",
       "    </tr>\n",
       "    <tr>\n",
       "      <th>2153</th>\n",
       "      <td>2154</td>\n",
       "      <td>13.3673</td>\n",
       "      <td>45.7760</td>\n",
       "      <td>142.1422</td>\n",
       "      <td>0.315</td>\n",
       "    </tr>\n",
       "    <tr>\n",
       "      <th>10549</th>\n",
       "      <td>10550</td>\n",
       "      <td>13.3678</td>\n",
       "      <td>587.7603</td>\n",
       "      <td>649.0553</td>\n",
       "      <td>0.326</td>\n",
       "    </tr>\n",
       "    <tr>\n",
       "      <th>2336</th>\n",
       "      <td>2337</td>\n",
       "      <td>13.3680</td>\n",
       "      <td>316.7120</td>\n",
       "      <td>142.0061</td>\n",
       "      <td>0.355</td>\n",
       "    </tr>\n",
       "    <tr>\n",
       "      <th>14024</th>\n",
       "      <td>14025</td>\n",
       "      <td>13.3681</td>\n",
       "      <td>316.6086</td>\n",
       "      <td>903.0159</td>\n",
       "      <td>0.324</td>\n",
       "    </tr>\n",
       "    <tr>\n",
       "      <th>2183</th>\n",
       "      <td>2184</td>\n",
       "      <td>13.3682</td>\n",
       "      <td>858.8000</td>\n",
       "      <td>142.0176</td>\n",
       "      <td>0.334</td>\n",
       "    </tr>\n",
       "    <tr>\n",
       "      <th>13748</th>\n",
       "      <td>13749</td>\n",
       "      <td>13.3688</td>\n",
       "      <td>858.7222</td>\n",
       "      <td>903.0233</td>\n",
       "      <td>0.360</td>\n",
       "    </tr>\n",
       "    <tr>\n",
       "      <th>10495</th>\n",
       "      <td>10496</td>\n",
       "      <td>13.3709</td>\n",
       "      <td>45.5791</td>\n",
       "      <td>649.1753</td>\n",
       "      <td>0.295</td>\n",
       "    </tr>\n",
       "    <tr>\n",
       "      <th>13729</th>\n",
       "      <td>13730</td>\n",
       "      <td>13.3756</td>\n",
       "      <td>587.9306</td>\n",
       "      <td>903.5709</td>\n",
       "      <td>0.303</td>\n",
       "    </tr>\n",
       "    <tr>\n",
       "      <th>...</th>\n",
       "      <td>...</td>\n",
       "      <td>...</td>\n",
       "      <td>...</td>\n",
       "      <td>...</td>\n",
       "      <td>...</td>\n",
       "    </tr>\n",
       "    <tr>\n",
       "      <th>14676</th>\n",
       "      <td>14677</td>\n",
       "      <td>24.0188</td>\n",
       "      <td>836.7562</td>\n",
       "      <td>864.1889</td>\n",
       "      <td>0.585</td>\n",
       "    </tr>\n",
       "    <tr>\n",
       "      <th>8099</th>\n",
       "      <td>8100</td>\n",
       "      <td>24.0959</td>\n",
       "      <td>294.3757</td>\n",
       "      <td>513.5812</td>\n",
       "      <td>0.420</td>\n",
       "    </tr>\n",
       "    <tr>\n",
       "      <th>2972</th>\n",
       "      <td>2973</td>\n",
       "      <td>24.0975</td>\n",
       "      <td>341.0770</td>\n",
       "      <td>205.6364</td>\n",
       "      <td>0.658</td>\n",
       "    </tr>\n",
       "    <tr>\n",
       "      <th>7851</th>\n",
       "      <td>7852</td>\n",
       "      <td>24.2013</td>\n",
       "      <td>546.6121</td>\n",
       "      <td>502.1548</td>\n",
       "      <td>0.320</td>\n",
       "    </tr>\n",
       "    <tr>\n",
       "      <th>13892</th>\n",
       "      <td>13893</td>\n",
       "      <td>24.2430</td>\n",
       "      <td>410.0000</td>\n",
       "      <td>910.0000</td>\n",
       "      <td>0.000</td>\n",
       "    </tr>\n",
       "    <tr>\n",
       "      <th>679</th>\n",
       "      <td>680</td>\n",
       "      <td>24.2489</td>\n",
       "      <td>983.0000</td>\n",
       "      <td>65.5379</td>\n",
       "      <td>0.499</td>\n",
       "    </tr>\n",
       "    <tr>\n",
       "      <th>15724</th>\n",
       "      <td>15725</td>\n",
       "      <td>24.2829</td>\n",
       "      <td>819.7879</td>\n",
       "      <td>992.2663</td>\n",
       "      <td>0.283</td>\n",
       "    </tr>\n",
       "    <tr>\n",
       "      <th>5874</th>\n",
       "      <td>5875</td>\n",
       "      <td>24.3973</td>\n",
       "      <td>1068.4451</td>\n",
       "      <td>383.4673</td>\n",
       "      <td>0.125</td>\n",
       "    </tr>\n",
       "    <tr>\n",
       "      <th>11652</th>\n",
       "      <td>11653</td>\n",
       "      <td>24.4965</td>\n",
       "      <td>839.4059</td>\n",
       "      <td>733.6541</td>\n",
       "      <td>0.430</td>\n",
       "    </tr>\n",
       "    <tr>\n",
       "      <th>12929</th>\n",
       "      <td>12930</td>\n",
       "      <td>24.5132</td>\n",
       "      <td>870.3439</td>\n",
       "      <td>819.2492</td>\n",
       "      <td>0.365</td>\n",
       "    </tr>\n",
       "    <tr>\n",
       "      <th>5581</th>\n",
       "      <td>5582</td>\n",
       "      <td>24.5239</td>\n",
       "      <td>344.9995</td>\n",
       "      <td>365.5396</td>\n",
       "      <td>0.482</td>\n",
       "    </tr>\n",
       "    <tr>\n",
       "      <th>5160</th>\n",
       "      <td>5161</td>\n",
       "      <td>24.5697</td>\n",
       "      <td>1092.0000</td>\n",
       "      <td>335.9767</td>\n",
       "      <td>0.609</td>\n",
       "    </tr>\n",
       "    <tr>\n",
       "      <th>8010</th>\n",
       "      <td>8011</td>\n",
       "      <td>24.6286</td>\n",
       "      <td>779.4526</td>\n",
       "      <td>508.2274</td>\n",
       "      <td>0.381</td>\n",
       "    </tr>\n",
       "    <tr>\n",
       "      <th>11304</th>\n",
       "      <td>11305</td>\n",
       "      <td>24.8699</td>\n",
       "      <td>780.3720</td>\n",
       "      <td>712.2123</td>\n",
       "      <td>0.400</td>\n",
       "    </tr>\n",
       "    <tr>\n",
       "      <th>3240</th>\n",
       "      <td>3241</td>\n",
       "      <td>24.8770</td>\n",
       "      <td>460.4622</td>\n",
       "      <td>221.5273</td>\n",
       "      <td>0.100</td>\n",
       "    </tr>\n",
       "    <tr>\n",
       "      <th>6138</th>\n",
       "      <td>6139</td>\n",
       "      <td>24.9127</td>\n",
       "      <td>642.1222</td>\n",
       "      <td>398.8473</td>\n",
       "      <td>0.376</td>\n",
       "    </tr>\n",
       "    <tr>\n",
       "      <th>7243</th>\n",
       "      <td>7244</td>\n",
       "      <td>24.9638</td>\n",
       "      <td>940.1658</td>\n",
       "      <td>463.4750</td>\n",
       "      <td>0.323</td>\n",
       "    </tr>\n",
       "    <tr>\n",
       "      <th>15408</th>\n",
       "      <td>15409</td>\n",
       "      <td>24.9706</td>\n",
       "      <td>1086.9135</td>\n",
       "      <td>1005.1381</td>\n",
       "      <td>0.478</td>\n",
       "    </tr>\n",
       "    <tr>\n",
       "      <th>9373</th>\n",
       "      <td>9374</td>\n",
       "      <td>25.0055</td>\n",
       "      <td>975.0000</td>\n",
       "      <td>600.0000</td>\n",
       "      <td>0.000</td>\n",
       "    </tr>\n",
       "    <tr>\n",
       "      <th>9580</th>\n",
       "      <td>9581</td>\n",
       "      <td>25.3569</td>\n",
       "      <td>1087.3734</td>\n",
       "      <td>607.9286</td>\n",
       "      <td>0.378</td>\n",
       "    </tr>\n",
       "    <tr>\n",
       "      <th>5375</th>\n",
       "      <td>5376</td>\n",
       "      <td>25.3569</td>\n",
       "      <td>585.0000</td>\n",
       "      <td>351.5077</td>\n",
       "      <td>0.500</td>\n",
       "    </tr>\n",
       "    <tr>\n",
       "      <th>11716</th>\n",
       "      <td>11717</td>\n",
       "      <td>25.4487</td>\n",
       "      <td>1094.4670</td>\n",
       "      <td>740.9803</td>\n",
       "      <td>0.313</td>\n",
       "    </tr>\n",
       "    <tr>\n",
       "      <th>3741</th>\n",
       "      <td>3742</td>\n",
       "      <td>25.4786</td>\n",
       "      <td>1006.2031</td>\n",
       "      <td>251.2441</td>\n",
       "      <td>0.585</td>\n",
       "    </tr>\n",
       "    <tr>\n",
       "      <th>5276</th>\n",
       "      <td>5277</td>\n",
       "      <td>25.6058</td>\n",
       "      <td>578.1317</td>\n",
       "      <td>345.6117</td>\n",
       "      <td>0.386</td>\n",
       "    </tr>\n",
       "    <tr>\n",
       "      <th>886</th>\n",
       "      <td>887</td>\n",
       "      <td>25.8393</td>\n",
       "      <td>264.6360</td>\n",
       "      <td>76.7686</td>\n",
       "      <td>0.460</td>\n",
       "    </tr>\n",
       "    <tr>\n",
       "      <th>13099</th>\n",
       "      <td>13100</td>\n",
       "      <td>25.9330</td>\n",
       "      <td>996.7485</td>\n",
       "      <td>828.3057</td>\n",
       "      <td>0.282</td>\n",
       "    </tr>\n",
       "    <tr>\n",
       "      <th>3771</th>\n",
       "      <td>3772</td>\n",
       "      <td>26.2903</td>\n",
       "      <td>351.2291</td>\n",
       "      <td>255.6809</td>\n",
       "      <td>0.313</td>\n",
       "    </tr>\n",
       "    <tr>\n",
       "      <th>398</th>\n",
       "      <td>399</td>\n",
       "      <td>26.3007</td>\n",
       "      <td>154.0000</td>\n",
       "      <td>48.4807</td>\n",
       "      <td>0.500</td>\n",
       "    </tr>\n",
       "    <tr>\n",
       "      <th>3144</th>\n",
       "      <td>3145</td>\n",
       "      <td>27.0502</td>\n",
       "      <td>556.0000</td>\n",
       "      <td>218.0000</td>\n",
       "      <td>0.000</td>\n",
       "    </tr>\n",
       "    <tr>\n",
       "      <th>2231</th>\n",
       "      <td>2232</td>\n",
       "      <td>27.8809</td>\n",
       "      <td>379.3352</td>\n",
       "      <td>157.8504</td>\n",
       "      <td>0.313</td>\n",
       "    </tr>\n",
       "  </tbody>\n",
       "</table>\n",
       "<p>15709 rows × 5 columns</p>\n",
       "</div>"
      ],
      "text/plain": [
       "       NUMBER  MAG_BEST    X_IMAGE    Y_IMAGE  ELLIPTICITY\n",
       "3025     3026   13.0256   782.0090   185.0009        0.352\n",
       "2869     2870   13.0305  1052.8906   184.9989        0.036\n",
       "13573   13574   13.0327  1052.7808   946.0535        0.125\n",
       "13344   13345   13.0328   239.7816   946.0737        0.031\n",
       "6969     6970   13.0329   239.5148   437.8912        0.103\n",
       "11193   11194   13.0329   239.6400   691.9606        0.054\n",
       "13666   13667   13.0333   781.5560   946.0166        0.260\n",
       "6968     6969   13.0335   781.4474   438.1546        0.157\n",
       "7010     7011   13.0338   510.7693   437.9970        0.031\n",
       "2859     2860   13.0340   239.8327   185.1199        0.095\n",
       "11098   11099   13.0341   510.8086   692.0192        0.053\n",
       "11096   11097   13.0343   781.8524   692.0643        0.048\n",
       "16177   16178   13.0348   510.7735   945.9639        0.073\n",
       "2860     2861   13.0349   510.7512   185.0112        0.098\n",
       "6956     6957   13.0379  1052.8188   438.0684        0.059\n",
       "11207   11208   13.0408  1052.9272   692.0045        0.114\n",
       "6473     6474   13.3594   316.6791   394.9765        0.363\n",
       "2447     2448   13.3612   587.9571   142.0876        0.295\n",
       "6271     6272   13.3652    45.3941   395.1005        0.249\n",
       "10804   10805   13.3658   316.7459   649.0609        0.361\n",
       "14055   14056   13.3664    45.7228   903.1291        0.350\n",
       "6234     6235   13.3668   858.6958   395.0254        0.383\n",
       "2153     2154   13.3673    45.7760   142.1422        0.315\n",
       "10549   10550   13.3678   587.7603   649.0553        0.326\n",
       "2336     2337   13.3680   316.7120   142.0061        0.355\n",
       "14024   14025   13.3681   316.6086   903.0159        0.324\n",
       "2183     2184   13.3682   858.8000   142.0176        0.334\n",
       "13748   13749   13.3688   858.7222   903.0233        0.360\n",
       "10495   10496   13.3709    45.5791   649.1753        0.295\n",
       "13729   13730   13.3756   587.9306   903.5709        0.303\n",
       "...       ...       ...        ...        ...          ...\n",
       "14676   14677   24.0188   836.7562   864.1889        0.585\n",
       "8099     8100   24.0959   294.3757   513.5812        0.420\n",
       "2972     2973   24.0975   341.0770   205.6364        0.658\n",
       "7851     7852   24.2013   546.6121   502.1548        0.320\n",
       "13892   13893   24.2430   410.0000   910.0000        0.000\n",
       "679       680   24.2489   983.0000    65.5379        0.499\n",
       "15724   15725   24.2829   819.7879   992.2663        0.283\n",
       "5874     5875   24.3973  1068.4451   383.4673        0.125\n",
       "11652   11653   24.4965   839.4059   733.6541        0.430\n",
       "12929   12930   24.5132   870.3439   819.2492        0.365\n",
       "5581     5582   24.5239   344.9995   365.5396        0.482\n",
       "5160     5161   24.5697  1092.0000   335.9767        0.609\n",
       "8010     8011   24.6286   779.4526   508.2274        0.381\n",
       "11304   11305   24.8699   780.3720   712.2123        0.400\n",
       "3240     3241   24.8770   460.4622   221.5273        0.100\n",
       "6138     6139   24.9127   642.1222   398.8473        0.376\n",
       "7243     7244   24.9638   940.1658   463.4750        0.323\n",
       "15408   15409   24.9706  1086.9135  1005.1381        0.478\n",
       "9373     9374   25.0055   975.0000   600.0000        0.000\n",
       "9580     9581   25.3569  1087.3734   607.9286        0.378\n",
       "5375     5376   25.3569   585.0000   351.5077        0.500\n",
       "11716   11717   25.4487  1094.4670   740.9803        0.313\n",
       "3741     3742   25.4786  1006.2031   251.2441        0.585\n",
       "5276     5277   25.6058   578.1317   345.6117        0.386\n",
       "886       887   25.8393   264.6360    76.7686        0.460\n",
       "13099   13100   25.9330   996.7485   828.3057        0.282\n",
       "3771     3772   26.2903   351.2291   255.6809        0.313\n",
       "398       399   26.3007   154.0000    48.4807        0.500\n",
       "3144     3145   27.0502   556.0000   218.0000        0.000\n",
       "2231     2232   27.8809   379.3352   157.8504        0.313\n",
       "\n",
       "[15709 rows x 5 columns]"
      ]
     },
     "execution_count": 35,
     "metadata": {},
     "output_type": "execute_result"
    }
   ],
   "source": [
    "df"
   ]
  },
  {
   "cell_type": "code",
   "execution_count": 49,
   "metadata": {
    "collapsed": true
   },
   "outputs": [],
   "source": [
    "magRange = np.linspace(15,30,16)"
   ]
  },
  {
   "cell_type": "code",
   "execution_count": 50,
   "metadata": {},
   "outputs": [
    {
     "data": {
      "text/plain": [
       "array([ 15.,  16.,  17.,  18.,  19.,  20.,  21.,  22.,  23.,  24.,  25.,\n",
       "        26.,  27.,  28.,  29.,  30.])"
      ]
     },
     "execution_count": 50,
     "metadata": {},
     "output_type": "execute_result"
    }
   ],
   "source": [
    "magRange"
   ]
  },
  {
   "cell_type": "code",
   "execution_count": 57,
   "metadata": {},
   "outputs": [
    {
     "name": "stdout",
     "output_type": "stream",
     "text": [
      "0.00117707252502\n"
     ]
    }
   ],
   "source": [
    "catName = 'test0.cat'\n",
    "\n",
    "assoc = Table.read(catName,format='ascii.sextractor')\n",
    "t0 = time.time()\n",
    "df = assoc.to_pandas()\n",
    "#df2 = df[df['MAG_BEST'] != 99.0000]\n",
    "print(time.time()-t0) #, totGross)\n"
   ]
  },
  {
   "cell_type": "code",
   "execution_count": 56,
   "metadata": {},
   "outputs": [
    {
     "name": "stdout",
     "output_type": "stream",
     "text": [
      "1.73592019081\n",
      "(0.06544804573059082, 16094)\n"
     ]
    }
   ],
   "source": [
    "t0 = time.time()\n",
    "df_spark = sqlContext.createDataFrame(df)\n",
    "print(time.time()-t0) #, totGross)\n",
    "\n",
    "t0 = time.time()\n",
    "totGross = df_spark.count()\n",
    "print(time.time()-t0, totGross)"
   ]
  },
  {
   "cell_type": "code",
   "execution_count": 59,
   "metadata": {},
   "outputs": [
    {
     "name": "stdout",
     "output_type": "stream",
     "text": [
      "#   1 NUMBER                 Running object number                                     \r\n",
      "#   2 MAG_BEST               Best of MAG_AUTO and MAG_ISOCOR                            [mag]\r\n",
      "#   3 X_IMAGE                Object position along x                                    [pixel]\r\n",
      "#   4 Y_IMAGE                Object position along y                                    [pixel]\r\n",
      "#   5 ELLIPTICITY            1 - B_IMAGE/A_IMAGE                                       \r\n",
      "         1  20.7173    744.5268     19.6496    0.438\r\n",
      "         2  99.0000   1000.7009     19.5017    0.285\r\n",
      "         3  99.0000    133.3164     20.2157    0.325\r\n",
      "         4  21.8619    138.0000     20.4564    0.499\r\n",
      "         5  21.5303    779.9139     23.0000    0.633\r\n"
     ]
    }
   ],
   "source": [
    "!head test0.cat"
   ]
  },
  {
   "cell_type": "code",
   "execution_count": 27,
   "metadata": {},
   "outputs": [
    {
     "name": "stdout",
     "output_type": "stream",
     "text": [
      "[[0], [3]]\n",
      "[[1], [3]]\n"
     ]
    }
   ],
   "source": [
    "x = 0\n",
    "vals = [[x],[1],[2]]\n",
    "val = [[x],[3]]\n",
    "print(val)\n",
    "x = 1\n",
    "val = [[x],[3]]\n",
    "print(val)\n",
    "vals.append(val[0])"
   ]
  },
  {
   "cell_type": "code",
   "execution_count": 4,
   "metadata": {
    "collapsed": true
   },
   "outputs": [],
   "source": [
    "import numpy as np \n",
    "smallName = 'test'"
   ]
  },
  {
   "cell_type": "code",
   "execution_count": 5,
   "metadata": {},
   "outputs": [
    {
     "name": "stdout",
     "output_type": "stream",
     "text": [
      "test_0_0_0_0\n",
      "[[1.0, 1.0, 8.0, 1]]\n",
      "test_0_0_1_0\n",
      "[[1.0, 1.0, 16.0, 1]]\n",
      "test_0_0_2_0\n",
      "[[1.0, 1.0, 24.0, 1]]\n",
      "test_0_1_0_0\n",
      "[[1.0, 2.0, 8.0, 1]]\n",
      "test_0_1_1_0\n",
      "[[1.0, 2.0, 16.0, 1]]\n",
      "test_0_1_2_0\n",
      "[[1.0, 2.0, 24.0, 1]]\n",
      "test_0_2_0_0\n",
      "[[1.0, 3.0, 8.0, 1]]\n",
      "test_0_2_1_0\n",
      "[[1.0, 3.0, 16.0, 1]]\n",
      "test_0_2_2_0\n",
      "[[1.0, 3.0, 24.0, 1]]\n",
      "test_1_0_0_0\n",
      "[[2.0, 1.0, 8.0, 1]]\n",
      "test_1_0_1_0\n",
      "[[2.0, 1.0, 16.0, 1]]\n",
      "test_1_0_2_0\n",
      "[[2.0, 1.0, 24.0, 1]]\n",
      "test_1_1_0_0\n",
      "[[2.0, 2.0, 8.0, 1]]\n",
      "test_1_1_1_0\n",
      "[[2.0, 2.0, 16.0, 1]]\n",
      "test_1_1_2_0\n",
      "[[2.0, 2.0, 24.0, 1]]\n",
      "test_1_2_0_0\n",
      "[[2.0, 3.0, 8.0, 1]]\n",
      "test_1_2_1_0\n",
      "[[2.0, 3.0, 16.0, 1]]\n",
      "test_1_2_2_0\n",
      "[[2.0, 3.0, 24.0, 1]]\n",
      "test_2_0_0_0\n",
      "[[3.0, 1.0, 8.0, 1]]\n",
      "test_2_0_1_0\n",
      "[[3.0, 1.0, 16.0, 1]]\n",
      "test_2_0_2_0\n",
      "[[3.0, 1.0, 24.0, 1]]\n",
      "test_2_1_0_0\n",
      "[[3.0, 2.0, 8.0, 1]]\n",
      "test_2_1_1_0\n",
      "[[3.0, 2.0, 16.0, 1]]\n",
      "test_2_1_2_0\n",
      "[[3.0, 2.0, 24.0, 1]]\n",
      "test_2_2_0_0\n",
      "[[3.0, 3.0, 8.0, 1]]\n",
      "test_2_2_1_0\n",
      "[[3.0, 3.0, 16.0, 1]]\n",
      "test_2_2_2_0\n",
      "[[3.0, 3.0, 24.0, 1]]\n",
      "test_0_0_0_0\n",
      "[[1.0, 1.0, 8.0, 3]]\n",
      "test_0_0_1_0\n",
      "[[1.0, 1.0, 16.0, 3]]\n",
      "test_0_0_2_0\n",
      "[[1.0, 1.0, 24.0, 3]]\n",
      "test_0_1_0_0\n",
      "[[1.0, 2.0, 8.0, 3]]\n",
      "test_0_1_1_0\n",
      "[[1.0, 2.0, 16.0, 3]]\n",
      "test_0_1_2_0\n",
      "[[1.0, 2.0, 24.0, 3]]\n",
      "test_0_2_0_0\n",
      "[[1.0, 3.0, 8.0, 3]]\n",
      "test_0_2_1_0\n",
      "[[1.0, 3.0, 16.0, 3]]\n",
      "test_0_2_2_0\n",
      "[[1.0, 3.0, 24.0, 3]]\n",
      "test_1_0_0_0\n",
      "[[2.0, 1.0, 8.0, 3]]\n",
      "test_1_0_1_0\n",
      "[[2.0, 1.0, 16.0, 3]]\n",
      "test_1_0_2_0\n",
      "[[2.0, 1.0, 24.0, 3]]\n",
      "test_1_1_0_0\n",
      "[[2.0, 2.0, 8.0, 3]]\n",
      "test_1_1_1_0\n",
      "[[2.0, 2.0, 16.0, 3]]\n",
      "test_1_1_2_0\n",
      "[[2.0, 2.0, 24.0, 3]]\n",
      "test_1_2_0_0\n",
      "[[2.0, 3.0, 8.0, 3]]\n",
      "test_1_2_1_0\n",
      "[[2.0, 3.0, 16.0, 3]]\n",
      "test_1_2_2_0\n",
      "[[2.0, 3.0, 24.0, 3]]\n",
      "test_2_0_0_0\n",
      "[[3.0, 1.0, 8.0, 3]]\n",
      "test_2_0_1_0\n",
      "[[3.0, 1.0, 16.0, 3]]\n",
      "test_2_0_2_0\n",
      "[[3.0, 1.0, 24.0, 3]]\n",
      "test_2_1_0_0\n",
      "[[3.0, 2.0, 8.0, 3]]\n",
      "test_2_1_1_0\n",
      "[[3.0, 2.0, 16.0, 3]]\n",
      "test_2_1_2_0\n",
      "[[3.0, 2.0, 24.0, 3]]\n",
      "test_2_2_0_0\n",
      "[[3.0, 3.0, 8.0, 3]]\n",
      "test_2_2_1_0\n",
      "[[3.0, 3.0, 16.0, 3]]\n",
      "test_2_2_2_0\n",
      "[[3.0, 3.0, 24.0, 3]]\n",
      "test_0_0_0_0\n",
      "[[1.0, 1.0, 8.0, 5]]\n",
      "test_0_0_1_0\n",
      "[[1.0, 1.0, 16.0, 5]]\n",
      "test_0_0_2_0\n",
      "[[1.0, 1.0, 24.0, 5]]\n",
      "test_0_1_0_0\n",
      "[[1.0, 2.0, 8.0, 5]]\n",
      "test_0_1_1_0\n",
      "[[1.0, 2.0, 16.0, 5]]\n",
      "test_0_1_2_0\n",
      "[[1.0, 2.0, 24.0, 5]]\n",
      "test_0_2_0_0\n",
      "[[1.0, 3.0, 8.0, 5]]\n",
      "test_0_2_1_0\n",
      "[[1.0, 3.0, 16.0, 5]]\n",
      "test_0_2_2_0\n",
      "[[1.0, 3.0, 24.0, 5]]\n",
      "test_1_0_0_0\n",
      "[[2.0, 1.0, 8.0, 5]]\n",
      "test_1_0_1_0\n",
      "[[2.0, 1.0, 16.0, 5]]\n",
      "test_1_0_2_0\n",
      "[[2.0, 1.0, 24.0, 5]]\n",
      "test_1_1_0_0\n",
      "[[2.0, 2.0, 8.0, 5]]\n",
      "test_1_1_1_0\n",
      "[[2.0, 2.0, 16.0, 5]]\n",
      "test_1_1_2_0\n",
      "[[2.0, 2.0, 24.0, 5]]\n",
      "test_1_2_0_0\n",
      "[[2.0, 3.0, 8.0, 5]]\n",
      "test_1_2_1_0\n",
      "[[2.0, 3.0, 16.0, 5]]\n",
      "test_1_2_2_0\n",
      "[[2.0, 3.0, 24.0, 5]]\n",
      "test_2_0_0_0\n",
      "[[3.0, 1.0, 8.0, 5]]\n",
      "test_2_0_1_0\n",
      "[[3.0, 1.0, 16.0, 5]]\n",
      "test_2_0_2_0\n",
      "[[3.0, 1.0, 24.0, 5]]\n",
      "test_2_1_0_0\n",
      "[[3.0, 2.0, 8.0, 5]]\n",
      "test_2_1_1_0\n",
      "[[3.0, 2.0, 16.0, 5]]\n",
      "test_2_1_2_0\n",
      "[[3.0, 2.0, 24.0, 5]]\n",
      "test_2_2_0_0\n",
      "[[3.0, 3.0, 8.0, 5]]\n",
      "test_2_2_1_0\n",
      "[[3.0, 3.0, 16.0, 5]]\n",
      "test_2_2_2_0\n",
      "[[3.0, 3.0, 24.0, 5]]\n",
      "test_0_0_0_0\n",
      "[[1.0, 1.0, 8.0, 7]]\n",
      "test_0_0_1_0\n",
      "[[1.0, 1.0, 16.0, 7]]\n",
      "test_0_0_2_0\n",
      "[[1.0, 1.0, 24.0, 7]]\n",
      "test_0_1_0_0\n",
      "[[1.0, 2.0, 8.0, 7]]\n",
      "test_0_1_1_0\n",
      "[[1.0, 2.0, 16.0, 7]]\n",
      "test_0_1_2_0\n",
      "[[1.0, 2.0, 24.0, 7]]\n",
      "test_0_2_0_0\n",
      "[[1.0, 3.0, 8.0, 7]]\n",
      "test_0_2_1_0\n",
      "[[1.0, 3.0, 16.0, 7]]\n",
      "test_0_2_2_0\n",
      "[[1.0, 3.0, 24.0, 7]]\n",
      "test_1_0_0_0\n",
      "[[2.0, 1.0, 8.0, 7]]\n",
      "test_1_0_1_0\n",
      "[[2.0, 1.0, 16.0, 7]]\n",
      "test_1_0_2_0\n",
      "[[2.0, 1.0, 24.0, 7]]\n",
      "test_1_1_0_0\n",
      "[[2.0, 2.0, 8.0, 7]]\n",
      "test_1_1_1_0\n",
      "[[2.0, 2.0, 16.0, 7]]\n",
      "test_1_1_2_0\n",
      "[[2.0, 2.0, 24.0, 7]]\n",
      "test_1_2_0_0\n",
      "[[2.0, 3.0, 8.0, 7]]\n",
      "test_1_2_1_0\n",
      "[[2.0, 3.0, 16.0, 7]]\n",
      "test_1_2_2_0\n",
      "[[2.0, 3.0, 24.0, 7]]\n",
      "test_2_0_0_0\n",
      "[[3.0, 1.0, 8.0, 7]]\n",
      "test_2_0_1_0\n",
      "[[3.0, 1.0, 16.0, 7]]\n",
      "test_2_0_2_0\n",
      "[[3.0, 1.0, 24.0, 7]]\n",
      "test_2_1_0_0\n",
      "[[3.0, 2.0, 8.0, 7]]\n",
      "test_2_1_1_0\n",
      "[[3.0, 2.0, 16.0, 7]]\n",
      "test_2_1_2_0\n",
      "[[3.0, 2.0, 24.0, 7]]\n",
      "test_2_2_0_0\n",
      "[[3.0, 3.0, 8.0, 7]]\n",
      "test_2_2_1_0\n",
      "[[3.0, 3.0, 16.0, 7]]\n",
      "test_2_2_2_0\n",
      "[[3.0, 3.0, 24.0, 7]]\n",
      "test_0_0_0_0\n",
      "[[1.0, 1.0, 8.0, 9]]\n",
      "test_0_0_1_0\n",
      "[[1.0, 1.0, 16.0, 9]]\n",
      "test_0_0_2_0\n",
      "[[1.0, 1.0, 24.0, 9]]\n",
      "test_0_1_0_0\n",
      "[[1.0, 2.0, 8.0, 9]]\n",
      "test_0_1_1_0\n",
      "[[1.0, 2.0, 16.0, 9]]\n",
      "test_0_1_2_0\n",
      "[[1.0, 2.0, 24.0, 9]]\n",
      "test_0_2_0_0\n",
      "[[1.0, 3.0, 8.0, 9]]\n",
      "test_0_2_1_0\n",
      "[[1.0, 3.0, 16.0, 9]]\n",
      "test_0_2_2_0\n",
      "[[1.0, 3.0, 24.0, 9]]\n",
      "test_1_0_0_0\n",
      "[[2.0, 1.0, 8.0, 9]]\n",
      "test_1_0_1_0\n",
      "[[2.0, 1.0, 16.0, 9]]\n",
      "test_1_0_2_0\n",
      "[[2.0, 1.0, 24.0, 9]]\n",
      "test_1_1_0_0\n",
      "[[2.0, 2.0, 8.0, 9]]\n",
      "test_1_1_1_0\n",
      "[[2.0, 2.0, 16.0, 9]]\n",
      "test_1_1_2_0\n",
      "[[2.0, 2.0, 24.0, 9]]\n",
      "test_1_2_0_0\n",
      "[[2.0, 3.0, 8.0, 9]]\n",
      "test_1_2_1_0\n",
      "[[2.0, 3.0, 16.0, 9]]\n",
      "test_1_2_2_0\n",
      "[[2.0, 3.0, 24.0, 9]]\n",
      "test_2_0_0_0\n",
      "[[3.0, 1.0, 8.0, 9]]\n",
      "test_2_0_1_0\n",
      "[[3.0, 1.0, 16.0, 9]]\n",
      "test_2_0_2_0\n",
      "[[3.0, 1.0, 24.0, 9]]\n",
      "test_2_1_0_0\n",
      "[[3.0, 2.0, 8.0, 9]]\n",
      "test_2_1_1_0\n",
      "[[3.0, 2.0, 16.0, 9]]\n",
      "test_2_1_2_0\n",
      "[[3.0, 2.0, 24.0, 9]]\n",
      "test_2_2_0_0\n",
      "[[3.0, 3.0, 8.0, 9]]\n",
      "test_2_2_1_0\n",
      "[[3.0, 3.0, 16.0, 9]]\n",
      "test_2_2_2_0\n",
      "[[3.0, 3.0, 24.0, 9]]\n",
      "test_0_0_0_0\n",
      "[[1.0, 1.0, 8.0, 11]]\n",
      "test_0_0_1_0\n",
      "[[1.0, 1.0, 16.0, 11]]\n",
      "test_0_0_2_0\n",
      "[[1.0, 1.0, 24.0, 11]]\n",
      "test_0_1_0_0\n",
      "[[1.0, 2.0, 8.0, 11]]\n",
      "test_0_1_1_0\n",
      "[[1.0, 2.0, 16.0, 11]]\n",
      "test_0_1_2_0\n",
      "[[1.0, 2.0, 24.0, 11]]\n",
      "test_0_2_0_0\n",
      "[[1.0, 3.0, 8.0, 11]]\n",
      "test_0_2_1_0\n",
      "[[1.0, 3.0, 16.0, 11]]\n",
      "test_0_2_2_0\n",
      "[[1.0, 3.0, 24.0, 11]]\n",
      "test_1_0_0_0\n",
      "[[2.0, 1.0, 8.0, 11]]\n",
      "test_1_0_1_0\n",
      "[[2.0, 1.0, 16.0, 11]]\n",
      "test_1_0_2_0\n",
      "[[2.0, 1.0, 24.0, 11]]\n",
      "test_1_1_0_0\n",
      "[[2.0, 2.0, 8.0, 11]]\n",
      "test_1_1_1_0\n",
      "[[2.0, 2.0, 16.0, 11]]\n",
      "test_1_1_2_0\n",
      "[[2.0, 2.0, 24.0, 11]]\n",
      "test_1_2_0_0\n",
      "[[2.0, 3.0, 8.0, 11]]\n",
      "test_1_2_1_0\n",
      "[[2.0, 3.0, 16.0, 11]]\n",
      "test_1_2_2_0\n",
      "[[2.0, 3.0, 24.0, 11]]\n",
      "test_2_0_0_0\n",
      "[[3.0, 1.0, 8.0, 11]]\n",
      "test_2_0_1_0\n",
      "[[3.0, 1.0, 16.0, 11]]\n",
      "test_2_0_2_0\n",
      "[[3.0, 1.0, 24.0, 11]]\n",
      "test_2_1_0_0\n",
      "[[3.0, 2.0, 8.0, 11]]\n",
      "test_2_1_1_0\n",
      "[[3.0, 2.0, 16.0, 11]]\n",
      "test_2_1_2_0\n",
      "[[3.0, 2.0, 24.0, 11]]\n",
      "test_2_2_0_0\n",
      "[[3.0, 3.0, 8.0, 11]]\n",
      "test_2_2_1_0\n",
      "[[3.0, 3.0, 16.0, 11]]\n",
      "test_2_2_2_0\n",
      "[[3.0, 3.0, 24.0, 11]]\n"
     ]
    }
   ],
   "source": [
    "valListminus1 = [1,3,5,7,9,11]\n",
    "for vals in (valListminus1):\n",
    "    valList = [np.linspace(1,10,10),np.linspace(1,9,9),np.linspace(8,128,16),[vals]]\n",
    "\n",
    "    finalTableTuples = []\n",
    "    #p = ThreadPool(1)\n",
    "    #t0 = time.time()\n",
    "    for x0 in range(3): #len(valList[0])):\n",
    "        for x1 in range(3): #len(valList[1])):\n",
    "                for x2 in range(3): #len(valList[2])):\n",
    "                    name = smallName+'_'+str(x0)+'_'+str(x1)+'_'+str(x2)+'_'\n",
    "                    fullname = [name]*len(valList[3])\n",
    "                    fullValList = []\n",
    "                    for x3 in range(len(valList[3])):\n",
    "                        fullname[x3] += str(x3)\n",
    "                        print(fullname[x3])\n",
    "                        fullValList.append([valList[0][x0],valList[1][x1],valList[2][x2],valList[3][x3]])\n",
    "\n",
    "                        #alltogethernow(fullValList[x4],fullname,imageName,provDir)\n",
    "                    print(fullValList)\n",
    "#                     try:\n",
    "#                         finalTableTuples.extend(p.map(partial(alltogethernow,tableName=fullname,IMAGE=simImage,provDir=provDir),fullValList))"
   ]
  },
  {
   "cell_type": "code",
   "execution_count": 18,
   "metadata": {},
   "outputs": [
    {
     "data": {
      "text/plain": [
       "array([-7., -6., -5., -4., -3., -2., -1.])"
      ]
     },
     "execution_count": 18,
     "metadata": {},
     "output_type": "execute_result"
    }
   ],
   "source": [
    "np.linspace(-7,-1,7)"
   ]
  },
  {
   "cell_type": "code",
   "execution_count": 21,
   "metadata": {},
   "outputs": [
    {
     "name": "stdout",
     "output_type": "stream",
     "text": [
      "62\n"
     ]
    }
   ],
   "source": [
    "a = 1000/(4**2)\n",
    "print(a)"
   ]
  },
  {
   "cell_type": "code",
   "execution_count": 22,
   "metadata": {},
   "outputs": [
    {
     "data": {
      "text/plain": [
       "1"
      ]
     },
     "execution_count": 22,
     "metadata": {},
     "output_type": "execute_result"
    }
   ],
   "source": [
    "a = [1,7,17,177]\n",
    "a.index(7)"
   ]
  },
  {
   "cell_type": "code",
   "execution_count": 23,
   "metadata": {},
   "outputs": [
    {
     "data": {
      "text/plain": [
       "0.08660731433957158"
      ]
     },
     "execution_count": 23,
     "metadata": {},
     "output_type": "execute_result"
    }
   ],
   "source": [
    "import random\n"
   ]
  },
  {
   "cell_type": "code",
   "execution_count": 25,
   "metadata": {},
   "outputs": [
    {
     "name": "stdout",
     "output_type": "stream",
     "text": [
      "0.0140653255063\n",
      "0.802593419661\n",
      "0.0644352547886\n",
      "0.687184769617\n",
      "0.034016480197\n",
      "0.849046374575\n",
      "0.106786241334\n",
      "0.550846086601\n",
      "0.427172163947\n",
      "0.939664513971\n",
      "0.426717565911\n",
      "0.384613469585\n",
      "0.763936701066\n",
      "0.279835598704\n",
      "0.72149170931\n",
      "0.979404772458\n",
      "0.17608765568\n",
      "0.792341410241\n",
      "0.93735604297\n"
     ]
    }
   ],
   "source": [
    "for x in range(19):\n",
    "    print(random.random())"
   ]
  },
  {
   "cell_type": "code",
   "execution_count": 27,
   "metadata": {},
   "outputs": [
    {
     "data": {
      "text/plain": [
       "13"
      ]
     },
     "execution_count": 27,
     "metadata": {},
     "output_type": "execute_result"
    }
   ],
   "source": [
    "random.randint(0,20)"
   ]
  },
  {
   "cell_type": "code",
   "execution_count": 67,
   "metadata": {},
   "outputs": [],
   "source": [
    "a = [1,2,3,3,3,3,3,3,3]\n",
    "# b = a[1]*2\n",
    "# print(b)\n",
    "# a = [x*2 for x in a]\n",
    "# b = a[1]*2\n",
    "# print(b)"
   ]
  },
  {
   "cell_type": "code",
   "execution_count": 68,
   "metadata": {},
   "outputs": [
    {
     "name": "stdout",
     "output_type": "stream",
     "text": [
      "[1, 2, 3, 3, 3, 3, 3, 3, 3]\n",
      "[1, 1, 3, 3, 3, 3, 3, 3, 3]\n"
     ]
    }
   ],
   "source": [
    "x = 1\n",
    "b = a\n",
    "b = [z-1 if a.index(z)==x else z for z in a]\n",
    "print(a)\n",
    "print(b)"
   ]
  },
  {
   "cell_type": "code",
   "execution_count": 46,
   "metadata": {},
   "outputs": [],
   "source": [
    "x = 1\n",
    "while x == 0:\n",
    "    if x ==1:\n",
    "        break"
   ]
  },
  {
   "cell_type": "code",
   "execution_count": 50,
   "metadata": {},
   "outputs": [
    {
     "name": "stdout",
     "output_type": "stream",
     "text": [
      "0\n",
      "-14\n",
      "-13\n",
      "-12\n",
      "-11\n",
      "-10\n",
      "-9\n",
      "-8\n",
      "-7\n",
      "-6\n",
      "-5\n",
      "-4\n",
      "-3\n",
      "-2\n",
      "-1\n",
      "0\n",
      "1\n",
      "2\n",
      "3\n",
      "4\n",
      "5\n",
      "6\n",
      "7\n",
      "8\n",
      "9\n"
     ]
    }
   ],
   "source": [
    "delta = -15\n",
    "\n",
    "while delta < 0:\n",
    "    for x in range(10):\n",
    "        print(x)\n",
    "        while delta < 0:\n",
    "            delta += 1\n",
    "            print(delta)\n",
    "        "
   ]
  },
  {
   "cell_type": "code",
   "execution_count": 51,
   "metadata": {
    "collapsed": true
   },
   "outputs": [],
   "source": [
    "a = [1,2,1,2,1]\n",
    "indices = [i for i, x in enumerate(a) if x == 1]"
   ]
  },
  {
   "cell_type": "code",
   "execution_count": 52,
   "metadata": {},
   "outputs": [
    {
     "data": {
      "text/plain": [
       "[0, 2, 4]"
      ]
     },
     "execution_count": 52,
     "metadata": {},
     "output_type": "execute_result"
    }
   ],
   "source": [
    "indices"
   ]
  },
  {
   "cell_type": "code",
   "execution_count": 60,
   "metadata": {
    "collapsed": true
   },
   "outputs": [],
   "source": [
    "indices = [0,1,1,5,7]"
   ]
  },
  {
   "cell_type": "code",
   "execution_count": 61,
   "metadata": {},
   "outputs": [
    {
     "name": "stdout",
     "output_type": "stream",
     "text": [
      "1.0\n"
     ]
    }
   ],
   "source": [
    "print(np.median(indices))"
   ]
  },
  {
   "cell_type": "code",
   "execution_count": 73,
   "metadata": {},
   "outputs": [
    {
     "name": "stdout",
     "output_type": "stream",
     "text": [
      "[10, 11, 11, 11, 5, 11, 11, 11]\n",
      "[11, 11, 11, 11, 5, 11, 11, 11]\n",
      "[12, 11, 11, 11, 5, 11, 11, 11]\n",
      "[11, 11, 11, 11, 5, 11, 11, 11]\n",
      "[11, 10, 11, 11, 5, 11, 11, 11]\n",
      "[11, 11, 11, 11, 5, 11, 11, 11]\n",
      "[11, 12, 11, 11, 5, 11, 11, 11]\n",
      "[11, 11, 11, 11, 5, 11, 11, 11]\n",
      "[11, 11, 10, 11, 5, 11, 11, 11]\n",
      "[11, 11, 11, 11, 5, 11, 11, 11]\n",
      "[11, 11, 12, 11, 5, 11, 11, 11]\n",
      "[11, 11, 11, 11, 5, 11, 11, 11]\n",
      "[11, 11, 11, 10, 5, 11, 11, 11]\n",
      "[11, 11, 11, 11, 5, 11, 11, 11]\n",
      "[11, 11, 11, 12, 5, 11, 11, 11]\n",
      "[11, 11, 11, 11, 5, 11, 11, 11]\n",
      "[11, 11, 11, 11, 4, 11, 11, 11]\n",
      "[11, 11, 11, 11, 5, 11, 11, 11]\n",
      "[11, 11, 11, 11, 6, 11, 11, 11]\n",
      "[11, 11, 11, 11, 5, 11, 11, 11]\n",
      "[11, 11, 11, 11, 5, 10, 11, 11]\n",
      "[11, 11, 11, 11, 5, 11, 11, 11]\n",
      "[11, 11, 11, 11, 5, 12, 11, 11]\n",
      "[11, 11, 11, 11, 5, 11, 11, 11]\n",
      "[11, 11, 11, 11, 5, 11, 10, 11]\n",
      "[11, 11, 11, 11, 5, 11, 11, 11]\n",
      "[11, 11, 11, 11, 5, 11, 12, 11]\n",
      "[11, 11, 11, 11, 5, 11, 11, 11]\n",
      "[11, 11, 11, 11, 5, 11, 11, 10]\n",
      "[11, 11, 11, 11, 5, 11, 11, 11]\n",
      "[11, 11, 11, 11, 5, 11, 11, 12]\n",
      "[11, 11, 11, 11, 5, 11, 11, 11]\n"
     ]
    }
   ],
   "source": [
    "a = [11,11,11,11,5,11,11,11]\n",
    "b = [-1,1]\n",
    "\n",
    "for x in range(len(a)):\n",
    "    for \n",
    "        anew = [z for z in a]\n",
    "        anew[x] += y\n",
    "#         anewVal = anew[x]+y\n",
    "#         anew[x] = anewVal\n",
    "        print(anew)\n",
    "        #print(a)"
   ]
  },
  {
   "cell_type": "code",
   "execution_count": 64,
   "metadata": {},
   "outputs": [
    {
     "name": "stdout",
     "output_type": "stream",
     "text": [
      "[11, 11, 11, 11, 5, 11, 11, 11]\n",
      "[11, 11, 11, 11, 5, 11, 11, 11]\n"
     ]
    }
   ],
   "source": [
    "c = [x for x in a]\n",
    "c[1]+10\n",
    "print(c)\n",
    "print(a)"
   ]
  },
  {
   "cell_type": "code",
   "execution_count": 76,
   "metadata": {},
   "outputs": [
    {
     "name": "stdout",
     "output_type": "stream",
     "text": [
      "1\n",
      "10\n"
     ]
    }
   ],
   "source": [
    "a = [1,10,100,-1]\n",
    "for x in range(len(a)):\n",
    "    if 0 < a[x] < 99:\n",
    "        print(a[x])"
   ]
  },
  {
   "cell_type": "code",
   "execution_count": 78,
   "metadata": {},
   "outputs": [
    {
     "name": "stdout",
     "output_type": "stream",
     "text": [
      "10\n",
      "20\n"
     ]
    }
   ],
   "source": [
    "a = 10\n",
    "b = a\n",
    "a += 10\n",
    "print(b)\n",
    "print(a)"
   ]
  },
  {
   "cell_type": "code",
   "execution_count": 79,
   "metadata": {},
   "outputs": [
    {
     "data": {
      "text/plain": [
       "992"
      ]
     },
     "execution_count": 79,
     "metadata": {},
     "output_type": "execute_result"
    }
   ],
   "source": [
    "62*16"
   ]
  },
  {
   "cell_type": "code",
   "execution_count": null,
   "metadata": {
    "collapsed": true
   },
   "outputs": [],
   "source": []
  }
 ],
 "metadata": {
  "kernelspec": {
   "display_name": "Python 2",
   "language": "python",
   "name": "python2"
  },
  "language_info": {
   "codemirror_mode": {
    "name": "ipython",
    "version": 2
   },
   "file_extension": ".py",
   "mimetype": "text/x-python",
   "name": "python",
   "nbconvert_exporter": "python",
   "pygments_lexer": "ipython2",
   "version": "2.7.13"
  }
 },
 "nbformat": 4,
 "nbformat_minor": 2
}
