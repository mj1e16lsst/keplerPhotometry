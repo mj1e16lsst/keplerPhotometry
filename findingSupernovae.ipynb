{
 "cells": [
  {
   "cell_type": "code",
   "execution_count": 2,
   "metadata": {
    "collapsed": true
   },
   "outputs": [],
   "source": [
    "from astropy.io import fits\n",
    "import os\n",
    "import subprocess\n",
    "import numpy as np"
   ]
  },
  {
   "cell_type": "code",
   "execution_count": 18,
   "metadata": {
    "collapsed": false
   },
   "outputs": [],
   "source": [
    "#imageDirectory = '/data/mj1e16/kepler/cal/'\n",
    "# diffDir = '/data/mj1e16/kepler/properDiff/'\n",
    "# medianDir = '/data/mj1e16/kepler/medians/'\n",
    "# imageDir = '/data/mj1e16/kepler/cal/'\n",
    "\n",
    "diffDir = '/media/mj1e16/PP AV-TV/properDiff/'\n",
    "medianDir = '/media/mj1e16/PP AV-TV/medians/'\n",
    "imageDir = '/media/mj1e16/PP AV-TV/keplerCal/'\n",
    "imageDirectory = '/media/mj1e16/PP AV-TV/keplerCal/'"
   ]
  },
  {
   "cell_type": "code",
   "execution_count": null,
   "metadata": {
    "collapsed": true
   },
   "outputs": [],
   "source": [
    "dirlist = os.listdir(imageDirectory)\n",
    "dirlist = [x for x in dirlist if x[0]!='.']\n",
    "dirlist = [imageDirectory+x for x in dirlist]"
   ]
  },
  {
   "cell_type": "code",
   "execution_count": 9,
   "metadata": {
    "collapsed": true
   },
   "outputs": [],
   "source": [
    "supernovaStart = [56176.666,55846.320,55928.414]"
   ]
  },
  {
   "cell_type": "code",
   "execution_count": 10,
   "metadata": {
    "collapsed": true
   },
   "outputs": [],
   "source": [
    "def findClosestImage(supernovaStart,dirlist):\n",
    "    answer = []\n",
    "    for y in range(len(supernovaStart)):\n",
    "        timediff = []\n",
    "        for x in range(len(dirlist)):\n",
    "            #print(dirlist[x])\n",
    "            hdu = fits.open(dirlist[x])\n",
    "            header = hdu[1].header\n",
    "            timediff.append(abs(header['MJDSTART']-supernovaStart[y]))\n",
    "\n",
    "        closest = min(timediff)\n",
    "        imageIndex =  timediff.index(closest)   \n",
    "        answer.append({'timediff':closest,'index':imageIndex,'image':dirlist[imageIndex]})\n",
    "    return answer"
   ]
  },
  {
   "cell_type": "code",
   "execution_count": 11,
   "metadata": {
    "collapsed": false
   },
   "outputs": [],
   "source": [
    "answer = findClosestImage(supernovaStart,dirlist)"
   ]
  },
  {
   "cell_type": "code",
   "execution_count": 12,
   "metadata": {
    "collapsed": false
   },
   "outputs": [
    {
     "name": "stdout",
     "output_type": "stream",
     "text": [
      "[{'index': 45, 'timediff': 7.854872060001071, 'image': '/media/mj1e16/PP AV-TV/keplerCal/kplr2012242195726_ffi-cal.fits'}, {'index': 34, 'timediff': 13.539371960003336, 'image': '/media/mj1e16/PP AV-TV/keplerCal/kplr2011271191331_ffi-cal.fits'}, {'index': 37, 'timediff': 2.427519040000334, 'image': '/media/mj1e16/PP AV-TV/keplerCal/kplr2012004204112_ffi-cal.fits'}]\n"
     ]
    }
   ],
   "source": [
    "print(answer)"
   ]
  },
  {
   "cell_type": "code",
   "execution_count": 13,
   "metadata": {
    "collapsed": true
   },
   "outputs": [],
   "source": [
    "def correctExtensionOrder(imageName):\n",
    "    hdu_list = fits.open(imageName)\n",
    "    extensionOrder = np.zeros(len(hdu_list))\n",
    "    for channel in range(1,len(hdu_list)):\n",
    "        hdr = hdu_list[channel].header\n",
    "        location = hdr['SKYGROUP'] # independant location\n",
    "        extensionOrder[location] = channel # ordered from 0-84 channel with extension in place of name\n",
    "    return extensionOrder"
   ]
  },
  {
   "cell_type": "code",
   "execution_count": 14,
   "metadata": {
    "collapsed": true
   },
   "outputs": [],
   "source": [
    "extensionOrders = []\n",
    "for image in dirlist:\n",
    "    extensionOrders.append(correctExtensionOrder(image))"
   ]
  },
  {
   "cell_type": "code",
   "execution_count": 15,
   "metadata": {
    "collapsed": true
   },
   "outputs": [],
   "source": [
    "def makeDS9RegFile(xcoords,ycoords,fileNameBase):\n",
    "    \n",
    "    for x in range(len(xcoords)):\n",
    "        bigString = 'global color=lightgreen\\nWCS\\n'\n",
    "        bigString += 'circle({},{},0.0015)\\n'.format(xcoords[x],ycoords[x])\n",
    "        fileName = fileNameBase+str(x)+'.reg'\n",
    "        with open(fileName,'w') as f:\n",
    "            f.write(bigString)"
   ]
  },
  {
   "cell_type": "code",
   "execution_count": null,
   "metadata": {
    "collapsed": true
   },
   "outputs": [],
   "source": [
    "def findName(image,diffDir=diffDir,medianDir=medianDir):\n",
    "    hdu = fits.open(diffDir+image)\n",
    "    head = hdu[0].header['DIFFCMD']\n",
    "    locator1 = '/data/mj1e16/kepler/cal/'\n",
    "    locator2 = ']'\n",
    "    loc1 = head.find(locator1) + len(locator1)\n",
    "    loc2 = head.find(locator2) + 1\n",
    "    imname = head[loc1:loc2]\n",
    "    \n",
    "    channellocator1 = 'channel' \n",
    "    channellocator2 = '_ccd'\n",
    "    ccdlocator1 = 'ccd'\n",
    "    ccdlocator2 = '.fits'\n",
    "    loc1 = image.find(channellocator1) + len(channellocator1)\n",
    "    loc2 = image.find(channellocator2)\n",
    "    channel = image[loc1:loc2]\n",
    "    loc1 = image.find(ccdlocator1) + len(ccdlocator1)\n",
    "    loc2 = image.find(ccdlocator2)\n",
    "    ccd = image[loc1:loc2]\n",
    "    \n",
    "    medianName = 'meidian_{}_{}.fits'.format(channel,ccd)\n",
    "    results = [imname,medianName]\n",
    "    return results"
   ]
  },
  {
   "cell_type": "code",
   "execution_count": 16,
   "metadata": {
    "collapsed": true
   },
   "outputs": [],
   "source": [
    "names = ['KSN 2012a','KSN 2011b','KSN 2011c'] \n",
    "# ccds = [61,42,29]\n",
    "# ccds = [37,41,81]\n",
    "#ccds = [21,44,63]\n",
    "ccds = [45,1,44]\n",
    "ra = [293.3754458333333, 290.15641666666664, 291.1920374999999]\n",
    "dec = [45.25035833333333, 38.252316666666665, 43.68074444444444]"
   ]
  },
  {
   "cell_type": "code",
   "execution_count": 17,
   "metadata": {
    "collapsed": true
   },
   "outputs": [],
   "source": [
    "makeDS9RegFile(ra,dec,'supernovae')"
   ]
  },
  {
   "cell_type": "code",
   "execution_count": 43,
   "metadata": {
    "collapsed": false
   },
   "outputs": [
    {
     "data": {
      "text/plain": [
       "'/data/mj1e16/kepler/cal/kplr2012242195726_ffi-cal.fits61'"
      ]
     },
     "execution_count": 43,
     "metadata": {},
     "output_type": "execute_result"
    }
   ],
   "source": [
    "answer[0]['image']+str(ccds[0])"
   ]
  },
  {
   "cell_type": "code",
   "execution_count": null,
   "metadata": {
    "collapsed": true
   },
   "outputs": [],
   "source": []
  },
  {
   "cell_type": "code",
   "execution_count": 76,
   "metadata": {
    "collapsed": false
   },
   "outputs": [
    {
     "name": "stdout",
     "output_type": "stream",
     "text": [
      "45\n",
      "ds9 /data/mj1e16/kepler/cal/kplr2012242195726_ffi-cal.fits[45] -regions supernovae0.reg\n",
      "1\n",
      "ds9 /data/mj1e16/kepler/cal/kplr2011271191331_ffi-cal.fits[1] -regions supernovae1.reg\n",
      "43\n",
      "ds9 /data/mj1e16/kepler/cal/kplr2012004204112_ffi-cal.fits[43] -regions supernovae2.reg\n"
     ]
    }
   ],
   "source": [
    "for x in range(len(names)):\n",
    "    #extension = int(extensionOrders[answer[x]['index']][ccds[x]])\n",
    "    extension = ccds[x]\n",
    "    print(extension)\n",
    "    print('ds9 '+answer[x]['image']+'[{}]'.format(extension)+' -regions supernovae{}.reg'.format(x))\n",
    "    #subprocess.call(['ds9',answer[x]['image']+'[{}]'.format(ccds[x])]) #,'-regions','supernovae{}.reg'.format(x)]"
   ]
  },
  {
   "cell_type": "code",
   "execution_count": null,
   "metadata": {
    "collapsed": true
   },
   "outputs": [],
   "source": [
    "# ds9 /data/mj1e16/kepler/cal/kplr2012242195726_ffi-cal.fits[45] -regions supernovae0.reg\n",
    "# ds9 /data/mj1e16/kepler/cal/kplr2011271191331_ffi-cal.fits[1] -regions supernovae1.reg\n",
    "# ds9 /data/mj1e16/kepler/cal/kplr2012004204112_ffi-cal.fits[44] -regions supernovae2.reg"
   ]
  },
  {
   "cell_type": "code",
   "execution_count": 80,
   "metadata": {
    "collapsed": true
   },
   "outputs": [],
   "source": [
    "def hotpants(imNo,channel,extensionOrders,imagelist,name,medianDir='/data/mj1e16/kepler/medians/'):\n",
    "    ccdChannel = int(extensionOrders[imNo][channel])\n",
    "    inim = imagelist[imNo]+'[{}]'.format(ccdChannel)\n",
    "    tmplim = medianDir+'meidian_{}.fits'.format(channel)\n",
    "    print(tmplim)\n",
    "#     outim = '/home/mj1e16/testImages/supernovaDiff_'+name+'.fits'\n",
    "#     # outim = '/data/mj1e16/kepler/properDiff/diff_imNo{}_channel{}.fits'.format(imNo,channel)\n",
    "#     subprocess.call(['./hotpants','-inim',inim,'-tmplim',tmplim,'-outim',outim,'-v','0'])"
   ]
  },
  {
   "cell_type": "code",
   "execution_count": null,
   "metadata": {
    "collapsed": true
   },
   "outputs": [],
   "source": []
  }
 ],
 "metadata": {
  "kernelspec": {
   "display_name": "Python 2",
   "language": "python",
   "name": "python2"
  },
  "language_info": {
   "codemirror_mode": {
    "name": "ipython",
    "version": 2
   },
   "file_extension": ".py",
   "mimetype": "text/x-python",
   "name": "python",
   "nbconvert_exporter": "python",
   "pygments_lexer": "ipython2",
   "version": "2.7.13"
  }
 },
 "nbformat": 4,
 "nbformat_minor": 2
}
