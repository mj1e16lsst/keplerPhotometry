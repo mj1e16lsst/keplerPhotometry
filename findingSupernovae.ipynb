{
 "cells": [
  {
   "cell_type": "code",
   "execution_count": 65,
   "metadata": {
    "collapsed": true
   },
   "outputs": [],
   "source": [
    "from astropy.io import fits\n",
    "import os\n",
    "import subprocess\n",
    "import numpy as np"
   ]
  },
  {
   "cell_type": "code",
   "execution_count": 18,
   "metadata": {
    "collapsed": true
   },
   "outputs": [],
   "source": [
    "imageDirectory = '/data/mj1e16/kepler/cal/'\n",
    "dirlist = os.listdir(imageDirectory)\n",
    "dirlist = [x for x in dirlist if x[0]!='.']\n",
    "dirlist = [imageDirectory+x for x in dirlist]\n"
   ]
  },
  {
   "cell_type": "code",
   "execution_count": 10,
   "metadata": {
    "collapsed": true
   },
   "outputs": [],
   "source": [
    "supernovaStart = [56176.666,55846.320,55928.414]"
   ]
  },
  {
   "cell_type": "code",
   "execution_count": 26,
   "metadata": {
    "collapsed": true
   },
   "outputs": [],
   "source": [
    "def findClosestImage(supernovaStart,dirlist):\n",
    "    answer = []\n",
    "    for y in range(len(supernovaStart)):\n",
    "        timediff = []\n",
    "        for x in range(len(dirlist)):\n",
    "            #print(dirlist[x])\n",
    "            hdu = fits.open(dirlist[x])\n",
    "            header = hdu[1].header\n",
    "            timediff.append(abs(header['MJDSTART']-supernovaStart[y]))\n",
    "\n",
    "        closest = min(timediff)\n",
    "        imageIndex =  timediff.index(closest)   \n",
    "        answer.append({'timediff':closest,'index':imageIndex,'image':dirlist[imageIndex]})\n",
    "    return answer"
   ]
  },
  {
   "cell_type": "code",
   "execution_count": 92,
   "metadata": {
    "scrolled": true
   },
   "outputs": [
    {
     "name": "stdout",
     "output_type": "stream",
     "text": [
      "[{'index': 46, 'timediff': 7.854872060001071, 'image': '/data/mj1e16/kepler/cal/kplr2012242195726_ffi-cal.fits'}, {'index': 6, 'timediff': 13.539371960003336, 'image': '/data/mj1e16/kepler/cal/kplr2011271191331_ffi-cal.fits'}, {'index': 41, 'timediff': 2.427519040000334, 'image': '/data/mj1e16/kepler/cal/kplr2012004204112_ffi-cal.fits'}]\n"
     ]
    }
   ],
   "source": [
    "print(answer)"
   ]
  },
  {
   "cell_type": "code",
   "execution_count": 34,
   "metadata": {},
   "outputs": [],
   "source": [
    "answer = findClosestImage(supernovaStart,dirlist)"
   ]
  },
  {
   "cell_type": "code",
   "execution_count": 66,
   "metadata": {},
   "outputs": [],
   "source": [
    "def correctExtensionOrder(imageName):\n",
    "    hdu_list = fits.open(imageName)\n",
    "    extensionOrder = np.zeros(len(hdu_list))\n",
    "    for channel in range(1,len(hdu_list)):\n",
    "        hdr = hdu_list[channel].header\n",
    "        location = hdr['SKYGROUP'] # independant location\n",
    "        extensionOrder[location] = channel # ordered from 0-84 channel with extension in place of name\n",
    "    return extensionOrder"
   ]
  },
  {
   "cell_type": "code",
   "execution_count": 67,
   "metadata": {},
   "outputs": [],
   "source": [
    "extensionOrders = []\n",
    "for image in dirlist:\n",
    "    extensionOrders.append(correctExtensionOrder(image))"
   ]
  },
  {
   "cell_type": "code",
   "execution_count": 61,
   "metadata": {
    "collapsed": true
   },
   "outputs": [],
   "source": [
    "def makeDS9RegFile(xcoords,ycoords,fileNameBase):\n",
    "    \n",
    "    for x in range(len(xcoords)):\n",
    "        bigString = 'global color=lightgreen\\nWCS\\n'\n",
    "        bigString += 'circle({},{},0.1)\\n'.format(xcoords[x],ycoords[x])\n",
    "        fileName = fileNameBase+str(x)+'.reg'\n",
    "        with open(fileName,'w') as f:\n",
    "            f.write(bigString)"
   ]
  },
  {
   "cell_type": "code",
   "execution_count": 78,
   "metadata": {
    "collapsed": true
   },
   "outputs": [],
   "source": [
    "names = ['KSN 2012a','KSN 2011b','KSN 2011c'] \n",
    "# ccds = [61,42,29]\n",
    "# ccds = [37,41,81]\n",
    "#ccds = [21,44,63]\n",
    "ccds = [45,1,44]\n",
    "ra = [293.3754458333333, 290.15641666666664, 291.1920374999999]\n",
    "dec = [45.25035833333333, 38.252316666666665, 43.68074444444444]"
   ]
  },
  {
   "cell_type": "code",
   "execution_count": 62,
   "metadata": {},
   "outputs": [],
   "source": [
    "makeDS9RegFile(ra,dec,'supernovae')"
   ]
  },
  {
   "cell_type": "code",
   "execution_count": 43,
   "metadata": {},
   "outputs": [
    {
     "data": {
      "text/plain": [
       "'/data/mj1e16/kepler/cal/kplr2012242195726_ffi-cal.fits61'"
      ]
     },
     "execution_count": 43,
     "metadata": {},
     "output_type": "execute_result"
    }
   ],
   "source": [
    "answer[0]['image']+str(ccds[0])"
   ]
  },
  {
   "cell_type": "code",
   "execution_count": 76,
   "metadata": {},
   "outputs": [
    {
     "name": "stdout",
     "output_type": "stream",
     "text": [
      "45\n",
      "ds9 /data/mj1e16/kepler/cal/kplr2012242195726_ffi-cal.fits[45] -regions supernovae0.reg\n",
      "1\n",
      "ds9 /data/mj1e16/kepler/cal/kplr2011271191331_ffi-cal.fits[1] -regions supernovae1.reg\n",
      "43\n",
      "ds9 /data/mj1e16/kepler/cal/kplr2012004204112_ffi-cal.fits[43] -regions supernovae2.reg\n"
     ]
    }
   ],
   "source": [
    "for x in range(len(names)):\n",
    "    #extension = int(extensionOrders[answer[x]['index']][ccds[x]])\n",
    "    extension = ccds[x]\n",
    "    print(extension)\n",
    "    print('ds9 '+answer[x]['image']+'[{}]'.format(extension)+' -regions supernovae{}.reg'.format(x))\n",
    "    #subprocess.call(['ds9',answer[x]['image']+'[{}]'.format(ccds[x])]) #,'-regions','supernovae{}.reg'.format(x)]"
   ]
  },
  {
   "cell_type": "code",
   "execution_count": null,
   "metadata": {
    "collapsed": true
   },
   "outputs": [],
   "source": [
    "# ds9 /data/mj1e16/kepler/cal/kplr2012242195726_ffi-cal.fits[45] -regions supernovae0.reg\n",
    "# ds9 /data/mj1e16/kepler/cal/kplr2011271191331_ffi-cal.fits[1] -regions supernovae1.reg\n",
    "# ds9 /data/mj1e16/kepler/cal/kplr2012004204112_ffi-cal.fits[44] -regions supernovae2.reg"
   ]
  },
  {
   "cell_type": "code",
   "execution_count": 80,
   "metadata": {
    "collapsed": true
   },
   "outputs": [],
   "source": [
    "def hotpants(imNo,channel,extensionOrders,imagelist,name,medianDir='/data/mj1e16/kepler/medians/'):\n",
    "    ccdChannel = int(extensionOrders[imNo][channel])\n",
    "    inim = imagelist[imNo]+'[{}]'.format(ccdChannel)\n",
    "    tmplim = medianDir+'meidian_{}.fits'.format(channel)\n",
    "    print(tmplim)\n",
    "#     outim = '/home/mj1e16/testImages/supernovaDiff_'+name+'.fits'\n",
    "#     # outim = '/data/mj1e16/kepler/properDiff/diff_imNo{}_channel{}.fits'.format(imNo,channel)\n",
    "#     subprocess.call(['./hotpants','-inim',inim,'-tmplim',tmplim,'-outim',outim,'-v','0'])"
   ]
  },
  {
   "cell_type": "code",
   "execution_count": 81,
   "metadata": {},
   "outputs": [
    {
     "name": "stdout",
     "output_type": "stream",
     "text": [
      "/data/mj1e16/kepler/medians/meidian_45.fits\n",
      "/data/mj1e16/kepler/medians/meidian_1.fits\n",
      "/data/mj1e16/kepler/medians/meidian_44.fits\n"
     ]
    }
   ],
   "source": [
    "for x in range(len(ccds)):\n",
    "    hotpants(answer[x]['index'],ccds[x],extensionOrders,dirlist,names[x])"
   ]
  },
  {
   "cell_type": "code",
   "execution_count": 97,
   "metadata": {},
   "outputs": [
    {
     "name": "stdout",
     "output_type": "stream",
     "text": [
      "./hotpants -inim /data/mj1e16/kepler/cal/kplr2012242195726_ffi-cal.fits[45] -tmplim /data/mj1e16/kepler/medians/meidian_37.fits -outim /home/mj1e16/testImages/supernovae_0.fits\n",
      "./hotpants -inim /data/mj1e16/kepler/cal/kplr2011271191331_ffi-cal.fits[1] -tmplim /data/mj1e16/kepler/medians/meidian_81.fits -outim /home/mj1e16/testImages/supernovae_1.fits\n",
      "./hotpants -inim /data/mj1e16/kepler/cal/kplr2012004204112_ffi-cal.fits[44] -tmplim /data/mj1e16/kepler/medians/meidian_41.fits -outim /home/mj1e16/testImages/supernovae_2.fits\n"
     ]
    }
   ],
   "source": [
    "medians = [37,81,41]\n",
    "os.chdir('/data/mj1e16/kepler/hotpants-master/')\n",
    "for x in range(len(medians)):\n",
    "    inim = dirlist[answer[x]['index']]+'[{}]'.format(ccds[x])\n",
    "    tmplim = '/data/mj1e16/kepler/medians/meidian_{}.fits'.format(medians[x])\n",
    "    outim = '/home/mj1e16/testImages/supernovae_{}.fits'.format(x)\n",
    "    #print(outim)\n",
    "    print('./hotpants '+'-inim '+inim+' -tmplim '+tmplim+' -outim '+outim)\n",
    "    #subprocess.call(['./hotpants','-inim',inim,'-tmplim',tmplim,'-outim',outim])"
   ]
  },
  {
   "cell_type": "code",
   "execution_count": 93,
   "metadata": {},
   "outputs": [
    {
     "data": {
      "text/plain": [
       "['/data/mj1e16/kepler/cal/kplr2012121122500_ffi-cal.fits',\n",
       " '/data/mj1e16/kepler/cal/kplr2011240181752_ffi-cal.fits',\n",
       " '/data/mj1e16/kepler/cal/kplr2009322233047_ffi-cal.fits',\n",
       " '/data/mj1e16/kepler/cal/kplr2010111125026_ffi-cal.fits',\n",
       " '/data/mj1e16/kepler/cal/kplr2011177110110_ffi-cal.fits',\n",
       " '/data/mj1e16/kepler/cal/kplr2013011160902_ffi-cal.fits',\n",
       " '/data/mj1e16/kepler/cal/kplr2011271191331_ffi-cal.fits',\n",
       " '/data/mj1e16/kepler/cal/kplr2010174164113_ffi-cal.fits',\n",
       " '/data/mj1e16/kepler/cal/kplr2012088132324_ffi-cal.fits',\n",
       " '/data/mj1e16/kepler/cal/kplr2010265195356_ffi-cal.fits',\n",
       " '/data/mj1e16/kepler/cal/kplr2009170043915_ffi-cal.fits',\n",
       " '/data/mj1e16/kepler/cal/kplr2009114174833_ffi-cal.fits',\n",
       " '/data/mj1e16/kepler/cal/kplr2011303191211_ffi-cal.fits',\n",
       " '/data/mj1e16/kepler/cal/kplr2011334181008_ffi-cal.fits',\n",
       " '/data/mj1e16/kepler/cal/kplr2009260000800_ffi-cal.fits',\n",
       " '/data/mj1e16/kepler/cal/kplr2009114204835_ffi-cal.fits',\n",
       " '/data/mj1e16/kepler/cal/kplr2012341215621_ffi-cal.fits',\n",
       " '/data/mj1e16/kepler/cal/kplr2009115080620_ffi-cal.fits',\n",
       " '/data/mj1e16/kepler/cal/kplr2010296192119_ffi-cal.fits',\n",
       " '/data/mj1e16/kepler/cal/kplr2013038133130_ffi-cal.fits',\n",
       " '/data/mj1e16/kepler/cal/kplr2011116104002_ffi-cal.fits',\n",
       " '/data/mj1e16/kepler/cal/kplr2010140101631_ffi-cal.fits',\n",
       " '/data/mj1e16/kepler/cal/kplr2010019225502_ffi-cal.fits',\n",
       " '/data/mj1e16/kepler/cal/kplr2012310200152_ffi-cal.fits',\n",
       " '/data/mj1e16/kepler/cal/kplr2013098115308_ffi-cal.fits',\n",
       " '/data/mj1e16/kepler/cal/kplr2010020005046_ffi-cal.fits',\n",
       " '/data/mj1e16/kepler/cal/kplr2010234192745_ffi-cal.fits',\n",
       " '/data/mj1e16/kepler/cal/kplr2012179140901_ffi-cal.fits',\n",
       " '/data/mj1e16/kepler/cal/kplr2009351005245_ffi-cal.fits',\n",
       " '/data/mj1e16/kepler/cal/kplr2011208112727_ffi-cal.fits',\n",
       " '/data/mj1e16/kepler/cal/kplr2009231194831_ffi-cal.fits',\n",
       " '/data/mj1e16/kepler/cal/kplr2010078174524_ffi-cal.fits',\n",
       " '/data/mj1e16/kepler/cal/kplr2012211123923_ffi-cal.fits',\n",
       " '/data/mj1e16/kepler/cal/kplr2011053174401_ffi-cal.fits',\n",
       " '/data/mj1e16/kepler/cal/kplr2011145152723_ffi-cal.fits',\n",
       " '/data/mj1e16/kepler/cal/kplr2011024134926_ffi-cal.fits',\n",
       " '/data/mj1e16/kepler/cal/kplr2012151105138_ffi-cal.fits',\n",
       " '/data/mj1e16/kepler/cal/kplr2009115002613_ffi-cal.fits',\n",
       " '/data/mj1e16/kepler/cal/kplr2009116035924_ffi-cal.fits',\n",
       " '/data/mj1e16/kepler/cal/kplr2009292020429_ffi-cal.fits',\n",
       " '/data/mj1e16/kepler/cal/kplr2010203012215_ffi-cal.fits',\n",
       " '/data/mj1e16/kepler/cal/kplr2012004204112_ffi-cal.fits',\n",
       " '/data/mj1e16/kepler/cal/kplr2012277203051_ffi-cal.fits',\n",
       " '/data/mj1e16/kepler/cal/kplr2009115173611_ffi-cal.fits',\n",
       " '/data/mj1e16/kepler/cal/kplr2010356020128_ffi-cal.fits',\n",
       " '/data/mj1e16/kepler/cal/kplr2010326181728_ffi-cal.fits',\n",
       " '/data/mj1e16/kepler/cal/kplr2012242195726_ffi-cal.fits',\n",
       " '/data/mj1e16/kepler/cal/kplr2013065115251_ffi-cal.fits',\n",
       " '/data/mj1e16/kepler/cal/kplr2009115053616_ffi-cal.fits',\n",
       " '/data/mj1e16/kepler/cal/kplr2009115131122_ffi-cal.fits',\n",
       " '/data/mj1e16/kepler/cal/kplr2012032101442_ffi-cal.fits',\n",
       " '/data/mj1e16/kepler/cal/kplr2010049182302_ffi-cal.fits',\n",
       " '/data/mj1e16/kepler/cal/kplr2012060123308_ffi-cal.fits']"
      ]
     },
     "execution_count": 93,
     "metadata": {},
     "output_type": "execute_result"
    }
   ],
   "source": [
    "dirlist"
   ]
  },
  {
   "cell_type": "code",
   "execution_count": null,
   "metadata": {
    "collapsed": true
   },
   "outputs": [],
   "source": []
  }
 ],
 "metadata": {
  "kernelspec": {
   "display_name": "Python 3",
   "language": "python",
   "name": "python3"
  },
  "language_info": {
   "codemirror_mode": {
    "name": "ipython",
    "version": 2
   },
   "file_extension": ".py",
   "mimetype": "text/x-python",
   "name": "python",
   "nbconvert_exporter": "python",
   "pygments_lexer": "ipython2",
   "version": "2.7.13"
  }
 },
 "nbformat": 4,
 "nbformat_minor": 2
}
