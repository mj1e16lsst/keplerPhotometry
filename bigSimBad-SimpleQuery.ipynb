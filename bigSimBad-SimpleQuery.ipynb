{
 "cells": [
  {
   "cell_type": "code",
   "execution_count": 33,
   "metadata": {},
   "outputs": [],
   "source": [
    "from astropy.coordinates import SkyCoord\n",
    "import astropy.coordinates as coord\n",
    "\n",
    "import astropy.units as u\n",
    "from astroquery.simbad import Simbad\n",
    "\n",
    "from astropy.table import Table, vstack, unique\n",
    "from astropy.table import Column\n",
    "from astropy.io import ascii\n",
    "\n",
    "import numpy as np\n",
    "import operator"
   ]
  },
  {
   "cell_type": "code",
   "execution_count": 12,
   "metadata": {},
   "outputs": [],
   "source": [
    "firstunmatchedObjects = ascii.read('/home/mj1e16/outTablesImproved/final/firsthalf.csv',format='csv')"
   ]
  },
  {
   "cell_type": "code",
   "execution_count": 15,
   "metadata": {},
   "outputs": [],
   "source": [
    "secondunmatchedObjects = ascii.read('/home/mj1e16/outTablesImproved/final/secondhalf.csv',format='csv')"
   ]
  },
  {
   "cell_type": "code",
   "execution_count": 16,
   "metadata": {},
   "outputs": [],
   "source": [
    "unmatchedObjects = vstack([firstunmatchedObjects,secondunmatchedObjects])"
   ]
  },
  {
   "cell_type": "code",
   "execution_count": 17,
   "metadata": {},
   "outputs": [
    {
     "name": "stdout",
     "output_type": "stream",
     "text": [
      "['NUMBER', 'FLUX_BEST', 'FLUXERR_BEST', 'MAG_BEST', 'MAGERR_BEST', 'X_IMAGE', 'Y_IMAGE', 'ELLIPTICITY', 'IMAGE_NAME', 'MEDIAN_NAME', 'DIFF_NAME']\n"
     ]
    }
   ],
   "source": [
    "colNames = unmatchedObjects.colnames\n",
    "toKeep = ['RA','DEC']\n",
    "toRemove = [x for x in colNames if x not in toKeep]\n",
    "print(toRemove)"
   ]
  },
  {
   "cell_type": "code",
   "execution_count": 18,
   "metadata": {},
   "outputs": [
    {
     "name": "stdout",
     "output_type": "stream",
     "text": [
      "['NUMBER', 'FLUX_BEST', 'FLUXERR_BEST', 'MAG_BEST', 'MAGERR_BEST', 'X_IMAGE', 'Y_IMAGE', 'ELLIPTICITY', 'RA', 'DEC', 'IMAGE_NAME', 'MEDIAN_NAME', 'DIFF_NAME']\n"
     ]
    }
   ],
   "source": [
    "print(colNames)"
   ]
  },
  {
   "cell_type": "code",
   "execution_count": 19,
   "metadata": {},
   "outputs": [],
   "source": [
    "unmatchedObjects.remove_columns(toRemove)"
   ]
  },
  {
   "cell_type": "code",
   "execution_count": 22,
   "metadata": {},
   "outputs": [],
   "source": [
    "testTab = unmatchedObjects[0:10]"
   ]
  },
  {
   "cell_type": "code",
   "execution_count": null,
   "metadata": {},
   "outputs": [],
   "source": [
    "testTab['RA'] = testTab['RA']"
   ]
  },
  {
   "cell_type": "code",
   "execution_count": null,
   "metadata": {},
   "outputs": [],
   "source": [
    "\n",
    "\n",
    "In [9]: for col in t.itercols():\n",
    "   ...:     if col.info.dtype.kind == 'f':        \n",
    "   ...:         np.around(col, decimals=1, out=col)\n"
   ]
  },
  {
   "cell_type": "code",
   "execution_count": 25,
   "metadata": {},
   "outputs": [],
   "source": [
    "for col in unmatchedObjects.itercols():\n",
    "    np.around(col,decimals=3,out=col)"
   ]
  },
  {
   "cell_type": "code",
   "execution_count": 27,
   "metadata": {},
   "outputs": [
    {
     "data": {
      "text/plain": [
       "2124426"
      ]
     },
     "execution_count": 27,
     "metadata": {},
     "output_type": "execute_result"
    }
   ],
   "source": [
    "len(unmatchedObjects)"
   ]
  },
  {
   "cell_type": "code",
   "execution_count": 38,
   "metadata": {},
   "outputs": [],
   "source": [
    "uniqueTab = unique(unmatchedObjects)"
   ]
  },
  {
   "cell_type": "code",
   "execution_count": 40,
   "metadata": {},
   "outputs": [
    {
     "name": "stdout",
     "output_type": "stream",
     "text": [
      "89\n"
     ]
    }
   ],
   "source": [
    "uLen = len(uniqueTab)\n",
    "remaider = uLen%100\n",
    "uLenEven = uLen-remaider\n",
    "nIter = uLenEven/100\n",
    "\n",
    "for x in range(nIter):\n",
    "    ra = uniqueTab['RA'][100*x:100*(x+1)].tolist()\n",
    "    dec = uniqueTab['DEC'][100*x:100*(x+1)].tolist()\n",
    "    result_table = Simbad.query_region(coord.SkyCoord(ra=ra,dec=dec),unit=(u.deg, u.deg), frame='fk5',radius=5 *u.arcsecond)\n",
    "# set up to cycle and search length 100 tables, sleep and repeat\n",
    "    if x ==0:\n",
    "        stack_tab = result_table\n",
    "    else:\n",
    "        stack_tab = vstack([stack_tab,result_table])\n",
    "\n",
    "print(nIter)"
   ]
  },
  {
   "cell_type": "code",
   "execution_count": null,
   "metadata": {},
   "outputs": [],
   "source": []
  },
  {
   "cell_type": "code",
   "execution_count": null,
   "metadata": {},
   "outputs": [],
   "source": [
    "ascii.write(stack_tab,'/home/mj1e16/outTablesImproved/final/allSimbad.csv',format='csv',fast_writer=False)"
   ]
  },
  {
   "cell_type": "code",
   "execution_count": null,
   "metadata": {},
   "outputs": [],
   "source": [
    "result_table = Simbad.query_region(coord.SkyCoord(ra=[10, 11], dec=[10, 11],\n",
    "...                                    unit=(u.deg, u.deg), frame='fk5'),\n",
    "...                                    radius=0.1 * u.deg)"
   ]
  },
  {
   "cell_type": "code",
   "execution_count": 41,
   "metadata": {},
   "outputs": [
    {
     "name": "stdout",
     "output_type": "stream",
     "text": [
      "1418389\n"
     ]
    }
   ],
   "source": [
    "print(uLen)"
   ]
  },
  {
   "cell_type": "code",
   "execution_count": 30,
   "metadata": {},
   "outputs": [
    {
     "data": {
      "text/html": [
       "&lt;Table masked=True length=10&gt;\n",
       "<table id=\"table140255324503696\" class=\"table-striped table-bordered table-condensed\">\n",
       "<thead><tr><th>RA</th><th>DEC</th></tr></thead>\n",
       "<thead><tr><th>float64</th><th>float64</th></tr></thead>\n",
       "<tr><td>288.882</td><td>41.603</td></tr>\n",
       "<tr><td>288.873</td><td>41.599</td></tr>\n",
       "<tr><td>288.898</td><td>41.586</td></tr>\n",
       "<tr><td>289.672</td><td>41.993</td></tr>\n",
       "<tr><td>288.808</td><td>41.572</td></tr>\n",
       "<tr><td>289.374</td><td>41.858</td></tr>\n",
       "<tr><td>289.661</td><td>41.992</td></tr>\n",
       "<tr><td>288.897</td><td>41.605</td></tr>\n",
       "<tr><td>288.841</td><td>41.567</td></tr>\n",
       "<tr><td>289.195</td><td>41.738</td></tr>\n",
       "</table>"
      ],
      "text/plain": [
       "<Table masked=True length=10>\n",
       "   RA     DEC  \n",
       "float64 float64\n",
       "------- -------\n",
       "288.882  41.603\n",
       "288.873  41.599\n",
       "288.898  41.586\n",
       "289.672  41.993\n",
       "288.808  41.572\n",
       "289.374  41.858\n",
       "289.661  41.992\n",
       "288.897  41.605\n",
       "288.841  41.567\n",
       "289.195  41.738"
      ]
     },
     "execution_count": 30,
     "metadata": {},
     "output_type": "execute_result"
    }
   ],
   "source": [
    "unmatchedObjects[0:10]"
   ]
  },
  {
   "cell_type": "code",
   "execution_count": 32,
   "metadata": {},
   "outputs": [
    {
     "ename": "TypeError",
     "evalue": "filled() got an unexpected keyword argument 'masked'",
     "output_type": "error",
     "traceback": [
      "\u001b[0;31m---------------------------------------------------------------------------\u001b[0m",
      "\u001b[0;31mTypeError\u001b[0m                                 Traceback (most recent call last)",
      "\u001b[0;32m<ipython-input-32-1f027bd85d89>\u001b[0m in \u001b[0;36m<module>\u001b[0;34m()\u001b[0m\n\u001b[0;32m----> 1\u001b[0;31m \u001b[0munmaskedTable\u001b[0m \u001b[0;34m=\u001b[0m \u001b[0mTable\u001b[0m\u001b[0;34m.\u001b[0m\u001b[0mfilled\u001b[0m\u001b[0;34m(\u001b[0m\u001b[0munmatchedObjects\u001b[0m\u001b[0;34m,\u001b[0m\u001b[0mmasked\u001b[0m\u001b[0;34m=\u001b[0m\u001b[0mFalse\u001b[0m\u001b[0;34m)\u001b[0m\u001b[0;34m\u001b[0m\u001b[0m\n\u001b[0m",
      "\u001b[0;31mTypeError\u001b[0m: filled() got an unexpected keyword argument 'masked'"
     ]
    }
   ],
   "source": [
    "unmaskedTable = Table.filled(unmatchedObjects,masked=False)"
   ]
  },
  {
   "cell_type": "code",
   "execution_count": 36,
   "metadata": {},
   "outputs": [],
   "source": [
    "unmatchedObjects = unmatchedObjects[reduce(operator.and_, [~unmatchedObjects[col].mask for col in unmatchedObjects.columns])]"
   ]
  },
  {
   "cell_type": "code",
   "execution_count": 37,
   "metadata": {},
   "outputs": [
    {
     "data": {
      "text/html": [
       "&lt;Table masked=True length=10&gt;\n",
       "<table id=\"table140255324503952\" class=\"table-striped table-bordered table-condensed\">\n",
       "<thead><tr><th>RA</th><th>DEC</th></tr></thead>\n",
       "<thead><tr><th>float64</th><th>float64</th></tr></thead>\n",
       "<tr><td>288.882</td><td>41.603</td></tr>\n",
       "<tr><td>288.873</td><td>41.599</td></tr>\n",
       "<tr><td>288.898</td><td>41.586</td></tr>\n",
       "<tr><td>289.672</td><td>41.993</td></tr>\n",
       "<tr><td>288.808</td><td>41.572</td></tr>\n",
       "<tr><td>289.374</td><td>41.858</td></tr>\n",
       "<tr><td>289.661</td><td>41.992</td></tr>\n",
       "<tr><td>288.897</td><td>41.605</td></tr>\n",
       "<tr><td>288.841</td><td>41.567</td></tr>\n",
       "<tr><td>289.195</td><td>41.738</td></tr>\n",
       "</table>"
      ],
      "text/plain": [
       "<Table masked=True length=10>\n",
       "   RA     DEC  \n",
       "float64 float64\n",
       "------- -------\n",
       "288.882  41.603\n",
       "288.873  41.599\n",
       "288.898  41.586\n",
       "289.672  41.993\n",
       "288.808  41.572\n",
       "289.374  41.858\n",
       "289.661  41.992\n",
       "288.897  41.605\n",
       "288.841  41.567\n",
       "289.195  41.738"
      ]
     },
     "execution_count": 37,
     "metadata": {},
     "output_type": "execute_result"
    }
   ],
   "source": [
    "unmatchedObjects[0:10]"
   ]
  },
  {
   "cell_type": "code",
   "execution_count": null,
   "metadata": {},
   "outputs": [],
   "source": []
  }
 ],
 "metadata": {
  "kernelspec": {
   "display_name": "Python 2",
   "language": "python",
   "name": "python2"
  },
  "language_info": {
   "codemirror_mode": {
    "name": "ipython",
    "version": 2
   },
   "file_extension": ".py",
   "mimetype": "text/x-python",
   "name": "python",
   "nbconvert_exporter": "python",
   "pygments_lexer": "ipython2",
   "version": "2.7.12"
  }
 },
 "nbformat": 4,
 "nbformat_minor": 2
}
