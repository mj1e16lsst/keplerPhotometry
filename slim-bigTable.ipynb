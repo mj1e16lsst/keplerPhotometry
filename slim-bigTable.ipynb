{
 "cells": [
  {
   "cell_type": "code",
   "execution_count": 424,
   "metadata": {
    "collapsed": true
   },
   "outputs": [],
   "source": [
    "import astroprov\n",
    "from astropy.io.ascii import SExtractor\n",
    "from astropy.stats import sigma_clipped_stats\n",
    "from astropy.coordinates import SkyCoord\n",
    "import astropy.coordinates as coord\n",
    "\n",
    "import astropy.units as u\n",
    "import matplotlib.pyplot as plt\n",
    "import numpy as np\n",
    "import os\n",
    "from photutils import DAOStarFinder\n",
    "from photutils import CircularAperture\n",
    "from photutils import aperture_photometry\n",
    "#import subproc\n",
    "\n",
    "from astropy import wcs\n",
    "from astropy.io import fits\n",
    "import sys\n",
    "\n",
    "from astroquery.simbad import Simbad\n",
    "from astroquery.vizier import Vizier\n",
    "\n",
    "from astropy.visualization import SqrtStretch\n",
    "from astropy.visualization.mpl_normalize import ImageNormalize\n",
    "from astropy.table import Table, vstack\n",
    "from astropy.table import Column\n",
    "\n",
    "import collections\n",
    "import subprocess\n",
    "from astropy.io import ascii\n",
    "import time\n",
    "from astropy.utils.data import clear_download_cache\n",
    "from astroquery.gaia import Gaia\n",
    "import warnings\n",
    "warnings.filterwarnings('ignore')\n",
    "import pandas as pd\n",
    "from bs4 import BeautifulSoup"
   ]
  },
  {
   "cell_type": "code",
   "execution_count": 12,
   "metadata": {
    "collapsed": true
   },
   "outputs": [],
   "source": [
    "clear_download_cache()"
   ]
  },
  {
   "cell_type": "code",
   "execution_count": 13,
   "metadata": {
    "collapsed": false,
    "scrolled": true
   },
   "outputs": [
    {
     "name": "stdout",
     "output_type": "stream",
     "text": [
      "Retrieving tables...\n",
      "Parsing tables...\n",
      "Done.\n",
      "external.external.apassdr9\n",
      "external.external.gaiadr2_geometric_distance\n",
      "external.external.ravedr5_com\n",
      "external.external.ravedr5_dr5\n",
      "external.external.ravedr5_gra\n",
      "external.external.ravedr5_on\n",
      "public.public.hipparcos\n",
      "public.public.hipparcos_newreduction\n",
      "public.public.hubble_sc\n",
      "public.public.igsl_source\n",
      "public.public.igsl_source_catalog_ids\n",
      "public.public.tycho2\n",
      "public.public.dual\n",
      "tap_config.tap_config.coord_sys\n",
      "tap_schema.tap_schema.columns\n",
      "tap_schema.tap_schema.key_columns\n",
      "tap_schema.tap_schema.keys\n",
      "tap_schema.tap_schema.schemas\n",
      "tap_schema.tap_schema.tables\n",
      "gaiadr1.gaiadr1.aux_qso_icrf2_match\n",
      "gaiadr1.gaiadr1.ext_phot_zero_point\n",
      "gaiadr1.gaiadr1.allwise_best_neighbour\n",
      "gaiadr1.gaiadr1.allwise_neighbourhood\n",
      "gaiadr1.gaiadr1.gsc23_best_neighbour\n",
      "gaiadr1.gaiadr1.gsc23_neighbourhood\n",
      "gaiadr1.gaiadr1.ppmxl_best_neighbour\n",
      "gaiadr1.gaiadr1.ppmxl_neighbourhood\n",
      "gaiadr1.gaiadr1.sdss_dr9_best_neighbour\n",
      "gaiadr1.gaiadr1.sdss_dr9_neighbourhood\n",
      "gaiadr1.gaiadr1.tmass_best_neighbour\n",
      "gaiadr1.gaiadr1.tmass_neighbourhood\n",
      "gaiadr1.gaiadr1.ucac4_best_neighbour\n",
      "gaiadr1.gaiadr1.ucac4_neighbourhood\n",
      "gaiadr1.gaiadr1.urat1_best_neighbour\n",
      "gaiadr1.gaiadr1.urat1_neighbourhood\n",
      "gaiadr1.gaiadr1.cepheid\n",
      "gaiadr1.gaiadr1.phot_variable_time_series_gfov\n",
      "gaiadr1.gaiadr1.phot_variable_time_series_gfov_statistical_parameters\n",
      "gaiadr1.gaiadr1.rrlyrae\n",
      "gaiadr1.gaiadr1.variable_summary\n",
      "gaiadr1.gaiadr1.allwise_original_valid\n",
      "gaiadr1.gaiadr1.gsc23_original_valid\n",
      "gaiadr1.gaiadr1.ppmxl_original_valid\n",
      "gaiadr1.gaiadr1.sdssdr9_original_valid\n",
      "gaiadr1.gaiadr1.tmass_original_valid\n",
      "gaiadr1.gaiadr1.ucac4_original_valid\n",
      "gaiadr1.gaiadr1.urat1_original_valid\n",
      "gaiadr1.gaiadr1.gaia_source\n",
      "gaiadr1.gaiadr1.tgas_source\n",
      "gaiadr2.gaiadr2.aux_allwise_agn_gdr2_cross_id\n",
      "gaiadr2.gaiadr2.aux_iers_gdr2_cross_id\n",
      "gaiadr2.gaiadr2.aux_sso_orbit_residuals\n",
      "gaiadr2.gaiadr2.aux_sso_orbits\n",
      "gaiadr2.gaiadr2.dr1_neighbourhood\n",
      "gaiadr2.gaiadr2.allwise_best_neighbour\n",
      "gaiadr2.gaiadr2.allwise_neighbourhood\n",
      "gaiadr2.gaiadr2.apassdr9_best_neighbour\n",
      "gaiadr2.gaiadr2.apassdr9_neighbourhood\n",
      "gaiadr2.gaiadr2.gsc23_best_neighbour\n",
      "gaiadr2.gaiadr2.gsc23_neighbourhood\n",
      "gaiadr2.gaiadr2.hipparcos2_best_neighbour\n",
      "gaiadr2.gaiadr2.hipparcos2_neighbourhood\n",
      "gaiadr2.gaiadr2.panstarrs1_best_neighbour\n",
      "gaiadr2.gaiadr2.panstarrs1_neighbourhood\n",
      "gaiadr2.gaiadr2.ppmxl_best_neighbour\n",
      "gaiadr2.gaiadr2.ppmxl_neighbourhood\n",
      "gaiadr2.gaiadr2.ravedr5_best_neighbour\n",
      "gaiadr2.gaiadr2.ravedr5_neighbourhood\n",
      "gaiadr2.gaiadr2.sdssdr9_best_neighbour\n",
      "gaiadr2.gaiadr2.sdssdr9_neighbourhood\n",
      "gaiadr2.gaiadr2.tmass_best_neighbour\n",
      "gaiadr2.gaiadr2.tmass_neighbourhood\n",
      "gaiadr2.gaiadr2.tycho2_best_neighbour\n",
      "gaiadr2.gaiadr2.tycho2_neighbourhood\n",
      "gaiadr2.gaiadr2.urat1_best_neighbour\n",
      "gaiadr2.gaiadr2.urat1_neighbourhood\n",
      "gaiadr2.gaiadr2.sso_observation\n",
      "gaiadr2.gaiadr2.sso_source\n",
      "gaiadr2.gaiadr2.vari_cepheid\n",
      "gaiadr2.gaiadr2.vari_classifier_class_definition\n",
      "gaiadr2.gaiadr2.vari_classifier_definition\n",
      "gaiadr2.gaiadr2.vari_classifier_result\n",
      "gaiadr2.gaiadr2.vari_long_period_variable\n",
      "gaiadr2.gaiadr2.vari_rotation_modulation\n",
      "gaiadr2.gaiadr2.vari_rrlyrae\n",
      "gaiadr2.gaiadr2.vari_short_timescale\n",
      "gaiadr2.gaiadr2.vari_time_series_statistics\n",
      "gaiadr2.gaiadr2.panstarrs1_original_valid\n",
      "gaiadr2.gaiadr2.gaia_source\n",
      "gaiadr2.gaiadr2.ruwe\n"
     ]
    }
   ],
   "source": [
    "tables = Gaia.load_tables(only_names=True)\n",
    "for table in (tables):\n",
    "    print(table.get_qualified_name())"
   ]
  },
  {
   "cell_type": "code",
   "execution_count": 14,
   "metadata": {
    "collapsed": true
   },
   "outputs": [],
   "source": [
    "def makeDS9RegFile(sexTabList,fileNameBase,tabType):\n",
    "    for tables in range(len(sexTabList)):\n",
    "        if tabType == 'dao':\n",
    "            xcoords = sexTabList[tables]['xcentroid']\n",
    "            ycoords = sexTabList[tables]['ycentroid']\n",
    "        elif tabType == 'sex':\n",
    "            xcoords = sexTabList[tables]['X_IMAGE']\n",
    "            ycoords = sexTabList[tables]['Y_IMAGE']\n",
    "        elif tabType == 'iraf':\n",
    "            xcoords = sexTabList[tables]['X_POS']\n",
    "            ycoords = sexTabList[tables]['Y_POS']        \n",
    "        else:\n",
    "            print('tab type error')\n",
    "            break\n",
    "        bigString = 'global color=lightgreen\\nimage\\n'\n",
    "        for x in range(len(xcoords)):\n",
    "            bigString += 'circle({},{},5)\\n'.format(xcoords[x],ycoords[x])\n",
    "        fileName = fileNameBase + '.reg'\n",
    "        with open(fileName,'w') as f:\n",
    "            f.write(bigString)\n",
    "#         print(fileName)\n",
    "#         print(os.listdir('.'))"
   ]
  },
  {
   "cell_type": "code",
   "execution_count": 15,
   "metadata": {
    "collapsed": true
   },
   "outputs": [],
   "source": [
    "def load_wcs_from_file(filename,pixCoord):\n",
    "    # Load the FITS hdulist using astropy.io.fits\n",
    "    hdulist = fits.open(filename)\n",
    "\n",
    "    # Parse the WCS keywords in the primary HDU\n",
    "    w = wcs.WCS(hdulist[0].header)\n",
    "\n",
    "    # Print out the \"name\" of the WCS, as defined in the FITS header\n",
    "    #print(w.wcs.name)\n",
    "\n",
    "    # Print out all of the settings that were parsed from the header\n",
    "    w.wcs.print_contents()\n",
    "\n",
    "    # Three pixel coordinates of interest.\n",
    "    # Note we've silently assumed a NAXIS=2 image here.\n",
    "    # Note also that the pixel coordinates are pairs of [X, Y], \n",
    "    # and since WCS built from FITS header automatically has\n",
    "    # origin set to 1, [0, 0] is actually not inside the image.\n",
    "    pixcrd = np.array(pixCoord, dtype=np.float_)\n",
    "\n",
    "    # Convert pixel coordinates to world coordinates\n",
    "    # The second argument is \"origin\" -- in this case we're declaring we\n",
    "    # have 1-based (Fortran-like) coordinates.\n",
    "    world = w.wcs_pix2world(pixcrd, 1)\n",
    "    #print(world)\n",
    "    return(world)"
   ]
  },
  {
   "cell_type": "code",
   "execution_count": 334,
   "metadata": {
    "collapsed": true
   },
   "outputs": [],
   "source": [
    "def queryObjectRegion(outputTable,searchRadius=5*u.arcsecond):\n",
    "    imageCoords = []\n",
    "    r = searchRadius\n",
    "    \n",
    "#     if inCat == 'dao':\n",
    "#         xlabel = 'xcentroid'\n",
    "#         ylabel = 'ycentroid'\n",
    "#         label = 'id'\n",
    "        \n",
    "#     if inCat == 'sex':\n",
    "#         xlabel = 'X_IMAGE'\n",
    "#         ylabel = 'Y_IMAGE'\n",
    "#         label = 'NUMBER'\n",
    "        \n",
    "    xlabel = 'RA'\n",
    "    ylabel = 'DEC'\n",
    "    label = 'NUMBER'\n",
    "    \n",
    "    flux = outputTable['FLUX_BEST']   \n",
    "    ra = outputTable['RA']\n",
    "    dec = outputTable['DEC']\n",
    "    tableLength = len(outputTable)\n",
    "    xcoord = outputTable['X_IMAGE']\n",
    "    ycoord = outputTable['Y_IMAGE']\n",
    "    imageCoords = [[x,y] for x,y in zip(xcoord,ycoord)]\n",
    "    imageNames = outputTable['DIFF_NAME']\n",
    "    customSimbad = Simbad()\n",
    "    customSimbad.add_votable_fields('ra(d)','dec(d)','otype','sp')\n",
    "    customSimbad.remove_votable_fields('coordinates')\n",
    "    \n",
    "    values = [['-'],[0],[0],['-'],['-'],[0],\n",
    "              [0],[0],['-'],[0]]\n",
    "    print(len(values))\n",
    "    Names = ['MAIN_ID','RA_d','DEC_d','OTYPE','CLASS','X_IMAGE',\n",
    "             'Y_IMAGE','flux','IMAGE','index']\n",
    "    types = ['object','object','float64','object','object','float64',\n",
    "             'float64','float64','object','int']     \n",
    "    #result_table = Table([['-'],[0],[0],['-'],[0],[0],[0],['-'],[0]], names=('MAIN_ID','RA_d','DEC_d','OTYPE','xcentroid','ycentroid','flux','IMAGE','index'),dtype=('object','float64','float64','object','float64','float64','float64','object','object'))\n",
    "    result_table = Table(values,names=Names,dtype=types)\n",
    "\n",
    "    for x in range(len(imageCoords)):\n",
    "        c = SkyCoord(ra[x],dec[x],frame='icrs',unit='deg')\n",
    "        rt = customSimbad.query_region(c,radius=r)\n",
    "        try:\n",
    "            c = SkyCoord(ra[x],dec[x],frame='icrs',unit='deg')\n",
    "            rt = customSimbad.query_region(c,radius=r)\n",
    "            #print(rt)\n",
    "            rowlist = []\n",
    "            \n",
    "            for y in range(len(rt[0])):\n",
    "                rowlist.append(rt[0][y])\n",
    "            rowlist.append(imageCoords[x][0])\n",
    "            rowlist.append(imageCoords[x][1])\n",
    "            rowlist.append(flux[x])\n",
    "            rowlist.append(imageNames[x])\n",
    "            rowlist.append(x)\n",
    "            result_table.add_row(rowlist)\n",
    "\n",
    "        except:\n",
    "            #print('searchfailed')\n",
    "            #result_table.add_row(['N/A',ra[x],dec[x],'Object Not Found',[imageCoords[x][0]],[imageCoords[x][1]],flux[x],imageNames[x],x])\n",
    "            result_table.add_row(['N/A',ra[x],dec[x],'Object Not Found','0',[imageCoords[x][0]],\n",
    "                                  [imageCoords[x][1]],flux[x],imageNames[x],x],\n",
    "                                 mask=[False,False,False,False,True,False,\n",
    "                                       False,False,False,False])\n",
    "    \n",
    "    return result_table"
   ]
  },
  {
   "cell_type": "code",
   "execution_count": 335,
   "metadata": {
    "collapsed": false
   },
   "outputs": [
    {
     "name": "stdout",
     "output_type": "stream",
     "text": [
      "10\n",
      "INFO: Upgrading Table to masked Table. Use Table.filled() to convert to unmasked table. [astropy.table.table]\n"
     ]
    }
   ],
   "source": [
    "simtab = queryObjectRegion(otherGaiaTab)"
   ]
  },
  {
   "cell_type": "code",
   "execution_count": 355,
   "metadata": {
    "collapsed": true
   },
   "outputs": [],
   "source": [
    "def keywordFunction(tab,keywordList):\n",
    "    names = tab.colnames\n",
    "    #print(names)\n",
    "    goodColNames = {}\n",
    "    values = []\n",
    "    for keyword in keywordList:\n",
    "        goodColName = [x for x in names if x.find(keyword) != -1]\n",
    "        if len(goodColName) != 0:\n",
    "            #print(goodColName)\n",
    "            #ravalues = []\n",
    "            for x in range(len(tab)):\n",
    "                values.append(tab[goodColName[0]][x])\n",
    "            break\n",
    "    return values"
   ]
  },
  {
   "cell_type": "code",
   "execution_count": 352,
   "metadata": {
    "collapsed": true
   },
   "outputs": [],
   "source": [
    "def searchKeywords(tab):\n",
    "    \n",
    "    rakeyWords = ['RAJ2000','RA_ICRS_','RA_ICRS','_RA','RAh','RA_d']\n",
    "    deckeyWords = ['DEJ2000','DE_ICRS_','DE_ICRS','_DE','DEC_d']\n",
    "    possibleObjs = ['otype','object_type','objType','OTYPE']\n",
    "    possibleClass = ['Class','objectClass','SpType','CLASS']\n",
    "    \n",
    "    ravalues = keywordFunction(tab,rakeyWords)\n",
    "    decvalues = keywordFunction(tab,deckeyWords)\n",
    "    \n",
    "    names = tab.colnames\n",
    "    objvalues = []\n",
    "    objname = [x for x in possibleObjs if x in names]\n",
    "    for x in range(len(tab)):\n",
    "        if len(objname) != 0:\n",
    "            objvalues.append(tab[objname[0]][x])\n",
    "        else:\n",
    "            objvalues.append('--')\n",
    "    \n",
    "    names = tab.colnames\n",
    "    classvalues = []\n",
    "    classname = [x for x in possibleClass if x in names]\n",
    "    for x in range(len(tab)):\n",
    "        if len(objname) != 0:\n",
    "            classvalues.append(tab[classname[0]][x])\n",
    "        else:\n",
    "            classvalues.append('--')\n",
    "        \n",
    "    \n",
    "    keywords  = ['Bmag','Vmag','Rmag','Fmag','Jmag','Hmag','Kmag','Nmag','FUVmag','NUVmag','umag','gmag','rmag','imag','zmag','ymag']\n",
    "    totmags = []\n",
    "    for y in range(len(tab)):\n",
    "        values = [tab[x][y] if x in names else '--' for x in keywords]\n",
    "        totmags.append(values)\n",
    "    if len(ravalues) != 0:\n",
    "        rowlist = [[x,y,z,w] for x,y,z,w in zip(ravalues,decvalues,objvalues,classvalues)]\n",
    "        for x in range(len(rowlist)):\n",
    "            rowlist[x].extend(totmags[x])\n",
    "        #print(rowlist)\n",
    "        return rowlist"
   ]
  },
  {
   "cell_type": "code",
   "execution_count": 353,
   "metadata": {
    "collapsed": false
   },
   "outputs": [],
   "source": [
    "def queryObjectRegionVizier(outputTable,searchRadius=5*u.arcsecond):\n",
    "    imageCoords = []\n",
    "    r = searchRadius\n",
    "        \n",
    "    xlabel = 'RA'\n",
    "    ylabel = 'DEC'\n",
    "    label = 'NUMBER'\n",
    "    \n",
    "    flux = outputTable['FLUX_BEST']   \n",
    "    ra = outputTable['RA']\n",
    "    dec = outputTable['DEC']\n",
    "    tableLength = len(outputTable)\n",
    "    xcoord = outputTable['X_IMAGE']\n",
    "    ycoord = outputTable['Y_IMAGE']\n",
    "    imageCoords = [[x,y] for x,y in zip(xcoord,ycoord)]\n",
    "    imageNames = outputTable['DIFF_NAME']\n",
    "    #vs = Vizier(columns=['_RAJ2000', '_DEJ2000','MAG','Class','objectClass','otype','objecttype','objType','SpType'])\n",
    "    values = [[0],[0],['-'],['-'],['-'],['-'],['-'],['-'],['-'],['-'],['-'],\n",
    "              ['-'],['-'],['-'],['-'],['-'],['-'],['-'],['-'],['-'],[0],\n",
    "              [0],[0],['-'],[0]]\n",
    "    Names = ['RA_d','DEC_d','OTYPE','CLASS','Bmag','Vmag','Rmag','Fmag','Jmag','Hmag','Kmag',\n",
    "             'Nmag','FUVmag','NUVmag','umag','gmag','rmag','imag','zmag','ymag','X_IMAGE',\n",
    "             'Y_IMAGE','flux','IMAGE','index']\n",
    "    #types = ['object']*len(Names)\n",
    "    types = ['float64','float64','object','object','object','object','object','object','object','object','object',\n",
    "             'object','object','object','object','object','object','object','object','object','float64',\n",
    "             'float64','float64','object','int']\n",
    "    #print(len(Names))\n",
    "    result_table = Table(values,names=Names,dtype=types)\n",
    "    \n",
    "    for x in range(len(imageCoords)):\n",
    "        #print(ra,dec)\n",
    "        c = SkyCoord(ra[x],dec[x],frame='icrs',unit='deg')\n",
    "        rt = Vizier.query_region(c,width=searchRadius)\n",
    "        #print(rt.keys())\n",
    "        if len(rt) != 0:\n",
    "            #print(len(rt))\n",
    "            for tabRange in range(len(rt)):\n",
    "                #print('INDEX {}'.format(x))\n",
    "                rowlist = searchKeywords(rt[tabRange])\n",
    "                for row in rowlist:\n",
    "                    row.append(imageCoords[x][0])\n",
    "                    row.append(imageCoords[x][1])\n",
    "                    row.append(flux[x])\n",
    "                    row.append(imageNames[x])\n",
    "                    row.append(x)\n",
    "                    #print('rowlength',len(row))\n",
    "                    try:\n",
    "                        result_table.add_row(row)\n",
    "                    except:\n",
    "                        print('########################################')\n",
    "                        print('broken imcoords{},tabrange{}'.format(x,tabRange))\n",
    "                        print(rowlist)\n",
    "                        print('########################################')\n",
    "\n",
    "        else:\n",
    "            #print('searchfailed')\n",
    "            result_table.add_row([ra[x],dec[x],'Object Not Found','0','0','0','0','0','0','0','0',\n",
    "                                  '0','0','0','0','0','0','0','0','0',[imageCoords[x][0]],\n",
    "                                  [imageCoords[x][1]],flux[x],imageNames[x],x],\n",
    "                                 mask=[False,False,False,True,True,True,True,True,True,True,True,\n",
    "                                       True,True,True,True,True,True,True,True,True,False,\n",
    "                                       False,False,False,False])\n",
    "\n",
    "    \n",
    "    return result_table"
   ]
  },
  {
   "cell_type": "code",
   "execution_count": 400,
   "metadata": {
    "collapsed": false
   },
   "outputs": [],
   "source": [
    "vizierSearch = queryObjectRegionVizier(otherGaiaTab,searchRadius=2*u.arcsecond)"
   ]
  },
  {
   "cell_type": "code",
   "execution_count": 102,
   "metadata": {
    "collapsed": true
   },
   "outputs": [],
   "source": [
    "def findSeparation(ra1,dec1,ra2,dec2):\n",
    "    c1 = SkyCoord(ra=ra1*u.degree,dec=dec1*u.degree)\n",
    "    c2 = SkyCoord(ra=ra2*u.degree,dec=dec2*u.degree)\n",
    "    sep = c1.separation(c2)\n",
    "    separc = sep.arcsec\n",
    "    return separc"
   ]
  },
  {
   "cell_type": "code",
   "execution_count": 114,
   "metadata": {
    "collapsed": true
   },
   "outputs": [],
   "source": [
    "def getTabValues(Tab,index,tabType,origra,origdec):\n",
    "    rowlist = 'none'\n",
    "    if tabType == 'simbad':\n",
    "        otypename = 'OTYPE'\n",
    "        source = 'SIMBAD'\n",
    "    if tabType == 'vizier':\n",
    "        source = 'VIZIER'\n",
    "        otypename = 'CLASS'\n",
    "    Tab = Tab[1:]\n",
    "    df = Tab.to_pandas()\n",
    "    df2 = df[df[otypename] != 'Object Not Found']\n",
    "    df3 = df2[df2['index'] == index]\n",
    "    if len(df3) != 0:\n",
    "        ra = df3['RA_d'].tolist()\n",
    "        dec = df3['DEC_d'].tolist()\n",
    "        otype = df3[otypename].tolist()\n",
    "        separations = [round(findSeparation(ra1,dec1,origra,origdec),3) for ra1,dec1 in zip(ra,dec)]\n",
    "        rowlist = [[index,source,0,0,x,y,0,0,'magfilter',sep,z] for x,y,z,sep in zip(ra,dec,otype,separations)]\n",
    "    return rowlist"
   ]
  },
  {
   "cell_type": "code",
   "execution_count": 391,
   "metadata": {
    "collapsed": false
   },
   "outputs": [],
   "source": [
    "def generateRow(Tab,index,origra,origdec,Names,tabType):\n",
    "    rowlist = 'none'\n",
    "    columnNames = Tab.colnames\n",
    "    Tab = Tab[1:]\n",
    "    df = Tab.to_pandas()\n",
    "    df2 = df[df['OTYPE'] != 'Object Not Found']\n",
    "    df3 = df2[df2['index'] == index]\n",
    "    rows = []\n",
    "    astroTab = Table.from_pandas(df3)\n",
    "    #print('tab',index,len(astroTab))\n",
    "    if len(df3) != 0:\n",
    "        for x in range(len(astroTab)):\n",
    "            ra1 = astroTab['RA_d'][x]\n",
    "            dec1 = astroTab['DEC_d'][x]\n",
    "            sep = round(findSeparation(ra1,dec1,origra,origdec),3)\n",
    "            rowlist = [astroTab[name][x] if name in columnNames else '--' for name in Names]\n",
    "            rowlist[0] = index\n",
    "            rowlist[1] = tabType\n",
    "            rowlist[10] = sep\n",
    "            rows.append(rowlist)\n",
    "        #print('rows',index,len(rows))\n",
    "    return rows"
   ]
  },
  {
   "cell_type": "code",
   "execution_count": 375,
   "metadata": {
    "collapsed": true
   },
   "outputs": [],
   "source": [
    "def bigTable(origTab,simbadTab,vizierTab):\n",
    "    origra = origTab['RA'].tolist()\n",
    "    origdec = origTab['DEC'].tolist()\n",
    "    origImage = origTab['IMAGE_NAME'].tolist()\n",
    "    xim = origTab['X_IMAGE']\n",
    "    yim = origTab['Y_IMAGE']\n",
    "    origmag = origTab['MAG_BEST']\n",
    "    magDiff = origTab['magDiff']\n",
    "    searchTables = [simbadTab,vizierTab]\n",
    "    searchTabNames = ['simbad','vizier']\n",
    "    #result_table = Table([[0],[0],['-'],['-'],[0],[0],[0],['-'],[0]],names=('RA_d','DEC_d','Vmag','CLASS','xcentroid','ycentroid','flux','IMAGE','index'),dtype=('float64','float64','object','object','float64','float64','float64','object','int'))\n",
    "    for x in range(len(origra)):\n",
    "        if x == 0:\n",
    "\n",
    "            namelist = ['OBJECT INDEX','SOURCE','X_IMAGE','Y_IMAGE','RA_d','DEC_d','MAG','MAG_DIFF','OTYPE','CLASS','SEPARATION',\n",
    "                        'Bmag','Vmag','Rmag','Fmag','Jmag','Hmag','Kmag','Nmag',\n",
    "                        'FUVmag','NUVmag','umag','gmag','rmag','imag','zmag','ymag']\n",
    "#             types = ['int','object','float64','float64','float64','float64','float64','float64','object','object','float64',\n",
    "#                      'object','object','object','object','object','object','object','object',\n",
    "#                     'object','object','object','object','object','object','object','object']\n",
    "            types = ['object']*len(namelist)\n",
    "            rowlist = [[x],[origImage[x]],[xim[x]],[yim[x]],[origra[x]],[origdec[x]],[origmag[x]],[magDiff[x]],['-'],['-'],['-'],\n",
    "                      ['-'],['-'],['-'],['-'],['-'],['-'],['-'],['-'],\n",
    "                      ['-'],['-'],['-'],['-'],['-'],['-'],['-'],['-']]\n",
    "\n",
    "            result_table = Table(rowlist,names=namelist,dtype=types)\n",
    "            for tab in range(len(searchTables)):\n",
    "                rowlist = generateRow(searchTables[tab],x,origra[x],origdec[x],namelist,searchTabNames[tab])\n",
    "                if rowlist != 'none':\n",
    "                    for row in rowlist:\n",
    "                        result_table.add_row(row)\n",
    "                        print('working')\n",
    "        else:\n",
    "            rowlist = [x,origImage[x],xim[x],yim[x],origra[x],origdec[x],origmag[x],magDiff[x],'-','-','-',\n",
    "                      '-','-','-','-','-','-','-','-',\n",
    "                      '-','-','-','-','-','-','-','-']\n",
    "            result_table.add_row(rowlist)\n",
    "            for tab in range(len(searchTables)):\n",
    "                rowlist = generateRow(searchTables[tab],x,origra[x],origdec[x],namelist,searchTabNames[tab])\n",
    "                if rowlist != 'none':\n",
    "                    for row in rowlist:\n",
    "                        result_table.add_row(row)\n",
    "    return result_table"
   ]
  },
  {
   "cell_type": "code",
   "execution_count": 501,
   "metadata": {
    "collapsed": false
   },
   "outputs": [],
   "source": [
    "c = SkyCoord(ra=0*u.deg,dec=0*u.deg)\n",
    "result_table1 = Vizier.query_region(c,radius=2*u.arcsec,catalog='Chandra')\n",
    "#print(result_table[0])\n",
    "result_table2 = Vizier.query_region(c,radius=10*u.arcsec,catalog='Rosat')\n",
    "#print(result_table[0])\n",
    "result_table3 = Vizier.query_region(c,radius=10*u.arcsec,catalog='XMM-Newton')"
   ]
  },
  {
   "cell_type": "code",
   "execution_count": 502,
   "metadata": {
    "collapsed": false
   },
   "outputs": [
    {
     "name": "stdout",
     "output_type": "stream",
     "text": [
      "1\n",
      "1\n",
      "1\n"
     ]
    }
   ],
   "source": [
    "print(len(result_table1))\n",
    "print(len(result_table2))\n",
    "print(len(result_table3))"
   ]
  },
  {
   "cell_type": "code",
   "execution_count": 392,
   "metadata": {
    "collapsed": false
   },
   "outputs": [
    {
     "name": "stdout",
     "output_type": "stream",
     "text": [
      "10\n",
      "INFO: Upgrading Table to masked Table. Use Table.filled() to convert to unmasked table. [astropy.table.table]\n",
      "INFO: Upgrading Table to masked Table. Use Table.filled() to convert to unmasked table. [astropy.table.table]\n",
      "########################################\n",
      "broken imcoords7,tabrange41\n",
      "[['18 52 38.105', '+47 23 37.64', '--', '--', '--', '--', '--', '--', '--', '--', '--', '--', '--', '--', '--', '--', '--', '--', '--', '--', 847.0221, 792.5739, 4922.818, 'diff_imNo31_channel9_ccd9.fits', 7]]\n",
      "########################################\n",
      "########################################\n",
      "broken imcoords7,tabrange52\n",
      "[['18 52 38.1', '+47 23 38', '--', '--', '--', '--', '--', '--', '--', '--', '--', '--', '--', '--', '--', '--', '--', '--', '--', '--', 847.0221, 792.5739, 4922.818, 'diff_imNo31_channel9_ccd9.fits', 7]]\n",
      "########################################\n",
      "########################################\n",
      "broken imcoords11,tabrange42\n",
      "[['18 52 15.907', '+43 44 36.92', '--', '--', '--', '--', '--', '--', '--', '--', '--', '--', '--', '--', '--', '--', '--', '--', '--', '--', 851.0325, 318.8774, 4745.73, 'diff_imNo40_channel30_ccd54.fits', 11]]\n",
      "########################################\n"
     ]
    }
   ],
   "source": [
    "simbadSearch = queryObjectRegion(otherGaiaTab,searchRadius=2*u.arcsec)\n",
    "vizierSearch = queryObjectRegionVizier(otherGaiaTab,searchRadius=2*u.arcsec)"
   ]
  },
  {
   "cell_type": "code",
   "execution_count": 395,
   "metadata": {
    "collapsed": false
   },
   "outputs": [],
   "source": [
    "bigtab = bigTable(otherGaiaTab,simbadSearch,vizierSearch)"
   ]
  },
  {
   "cell_type": "code",
   "execution_count": null,
   "metadata": {
    "collapsed": true
   },
   "outputs": [],
   "source": [
    "def getPanStarCutOut(ra,dec):\n",
    "    url = 'https://ps1images.stsci.edu/cgi-bin/ps1cutouts?pos={}%2C{}&filter=color&filter=g&filter=r&filter=i&filter=z&filter=y&filetypes=stack&auxiliary=data&size={}&output_size=0&verbose=0&autoscale=99.500000&catlist='.format(ra,dec,size)\n",
    "    response = requests.get(url)\n",
    "    soup = BeautifulSoup(response.text, 'html.parser')\n",
    "    th = soup.findAll('td')\n",
    "    try:\n",
    "        link = th[1]\n",
    "        downLink = link.findAll('img')\n",
    "        downCut = downLink[0]['src']\n",
    "        loc1 = downCut.find('cgi-bin')\n",
    "        loc2 = downCut.find('=/') + len('=/')\n",
    "        if loc1 != -1:\n",
    "            if loc2 != -1:\n",
    "                newCut = downCut[:loc1] + downCut[loc2:]\n",
    "\n",
    "        loc3 = newCut.find('&')\n",
    "        smallCut = newCut[:loc3]\n",
    "        http = 'https:'+smallCut\n",
    "        print(http)\n",
    "        subprocess.call(['wget','-O','/home/mj1e16/cutOuts/{}'.format(outname),http])\n",
    "    except:\n",
    "        print('WARNING - panstarrs image note found ra = {}, dec = {}'.format(ra,dec))\n"
   ]
  },
  {
   "cell_type": "code",
   "execution_count": 508,
   "metadata": {
    "collapsed": false
   },
   "outputs": [],
   "source": [
    "kepler = ascii.read('/home/mj1e16/outTables15/firstPassTransients15.csv')\n",
    "print(len(kepler))\n",
    "# kepler = ascii.read('/home/mj1e16/outTables15/secondPassTransients15.csv')\n",
    "# print(len(kepler))"
   ]
  },
  {
   "cell_type": "code",
   "execution_count": 509,
   "metadata": {
    "collapsed": true
   },
   "outputs": [],
   "source": [
    "indexes = range(len(kepler))\n",
    "kepler['OBJECT INDEX'] = indexes"
   ]
  },
  {
   "cell_type": "code",
   "execution_count": 511,
   "metadata": {
    "collapsed": true
   },
   "outputs": [],
   "source": [
    "def XraySearch(tab):\n",
    "    indexref = 'ooo'\n",
    "    chandra = {}\n",
    "    rosat = {}\n",
    "    xmm = {}\n",
    "    for x in range(len(tab)):\n",
    "        index = tab['OBJECT INDEX'][x]\n",
    "        if index != indexref:\n",
    "            RA = tab['RA'][x]\n",
    "            DEC = tab['DEC'][x]\n",
    "            #print(tab['RA_d'][x],tab['DEC_d'][x])\n",
    "            c = SkyCoord(ra=RA*u.deg,dec=DEC*u.deg)\n",
    "            result_table1 = Vizier.query_region(c,radius=2*u.arcsec,catalog='Chandra')\n",
    "            if len(result_table1) > 0:\n",
    "                chandra[str(x)] = result_table1\n",
    "                print('Chandra',result_table1,x)\n",
    "            #print(result_table[0])\n",
    "            result_table2 = Vizier.query_region(c,radius=10*u.arcsec,catalog='Rosat')\n",
    "            if len(result_table2) > 0:\n",
    "                rosat[str(x)] = result_table2\n",
    "                print('Rosat',result_table2,x)\n",
    "            #print(result_table[0])\n",
    "            result_table3 = Vizier.query_region(c,radius=10*u.arcsec,catalog='XMM-Newton')\n",
    "            if len(result_table3) > 0:\n",
    "                xmm[str(x)] = result_table3\n",
    "                print('XMM',result_table3,x)\n",
    "    #             for y in range(len(result_table3)):\n",
    "    #                 print(result_table3[y])\n",
    "        indexref = tab['OBJECT INDEX'][x]\n",
    "    return([chandra,rosat,xmm])"
   ]
  },
  {
   "cell_type": "code",
   "execution_count": 513,
   "metadata": {
    "collapsed": false,
    "scrolled": true
   },
   "outputs": [
    {
     "name": "stdout",
     "output_type": "stream",
     "text": [
      "('XMM', TableList with 1 tables:\n",
      "\t'0:II/356/xmmom41s' with 44 column(s) and 2 row(s) , 95)\n",
      "('XMM', TableList with 2 tables:\n",
      "\t'0:IX/55/xmm3r8s' with 17 column(s) and 1 row(s) \n",
      "\t'1:IX/54/xmm3r7s' with 17 column(s) and 1 row(s) , 106)\n",
      "('XMM', TableList with 1 tables:\n",
      "\t'0:II/356/xmmom41s' with 44 column(s) and 1 row(s) , 498)\n",
      "('XMM', TableList with 1 tables:\n",
      "\t'0:IX/55/xmm3r8s' with 17 column(s) and 1 row(s) , 692)\n",
      "('XMM', TableList with 1 tables:\n",
      "\t'0:II/356/xmmom41s' with 44 column(s) and 1 row(s) , 1053)\n",
      "('XMM', TableList with 4 tables:\n",
      "\t'0:IX/55/xmm3r8s' with 17 column(s) and 1 row(s) \n",
      "\t'1:IX/50/xmm3r6s' with 17 column(s) and 1 row(s) \n",
      "\t'2:IX/46/xmm3r5s' with 17 column(s) and 1 row(s) \n",
      "\t'3:IX/54/xmm3r7s' with 17 column(s) and 1 row(s) , 1229)\n",
      "('XMM', TableList with 4 tables:\n",
      "\t'0:IX/55/xmm3r8s' with 17 column(s) and 1 row(s) \n",
      "\t'1:IX/50/xmm3r6s' with 17 column(s) and 1 row(s) \n",
      "\t'2:IX/46/xmm3r5s' with 17 column(s) and 1 row(s) \n",
      "\t'3:IX/54/xmm3r7s' with 17 column(s) and 1 row(s) , 1242)\n",
      "('XMM', TableList with 5 tables:\n",
      "\t'0:IX/44/xmm3r4s' with 16 column(s) and 1 row(s) \n",
      "\t'1:IX/55/xmm3r8s' with 17 column(s) and 1 row(s) \n",
      "\t'2:IX/50/xmm3r6s' with 17 column(s) and 1 row(s) \n",
      "\t'3:IX/46/xmm3r5s' with 17 column(s) and 1 row(s) \n",
      "\t'4:IX/54/xmm3r7s' with 17 column(s) and 1 row(s) , 1244)\n",
      "('XMM', TableList with 2 tables:\n",
      "\t'0:II/356/xmmom41s' with 44 column(s) and 1 row(s) \n",
      "\t'1:II/340/xmmom2_1' with 46 column(s) and 1 row(s) , 1247)\n",
      "('XMM', TableList with 1 tables:\n",
      "\t'0:II/356/xmmom41s' with 44 column(s) and 1 row(s) , 1796)\n",
      "('XMM', TableList with 1 tables:\n",
      "\t'0:II/356/xmmom41s' with 44 column(s) and 1 row(s) , 1798)\n",
      "('XMM', TableList with 1 tables:\n",
      "\t'0:II/356/xmmom41s' with 44 column(s) and 2 row(s) , 1799)\n",
      "('XMM', TableList with 1 tables:\n",
      "\t'0:II/356/xmmom41s' with 44 column(s) and 1 row(s) , 1803)\n",
      "('XMM', TableList with 1 tables:\n",
      "\t'0:II/356/xmmom41s' with 44 column(s) and 2 row(s) , 1805)\n",
      "('XMM', TableList with 1 tables:\n",
      "\t'0:II/356/xmmom41s' with 44 column(s) and 1 row(s) , 1811)\n",
      "('XMM', TableList with 4 tables:\n",
      "\t'0:II/356/xmmom41s' with 44 column(s) and 1 row(s) \n",
      "\t'1:IX/55/xmm3r8s' with 17 column(s) and 1 row(s) \n",
      "\t'2:IX/50/xmm3r6s' with 17 column(s) and 1 row(s) \n",
      "\t'3:IX/54/xmm3r7s' with 17 column(s) and 1 row(s) , 1863)\n",
      "('XMM', TableList with 1 tables:\n",
      "\t'0:II/356/xmmom41s' with 44 column(s) and 1 row(s) , 1864)\n",
      "('Rosat', TableList with 2 tables:\n",
      "\t'0:J/A+A/588/A103/cat2rxs' with 35 column(s) and 1 row(s) \n",
      "\t'1:J/MNRAS/473/4937/2rxswg' with 20 column(s) and 1 row(s) , 1875)\n",
      "('XMM', TableList with 1 tables:\n",
      "\t'0:II/356/xmmom41s' with 44 column(s) and 2 row(s) , 1999)\n",
      "('XMM', TableList with 1 tables:\n",
      "\t'0:II/356/xmmom41s' with 44 column(s) and 1 row(s) , 2038)\n",
      "('XMM', TableList with 1 tables:\n",
      "\t'0:II/356/xmmom41s' with 44 column(s) and 1 row(s) , 2044)\n",
      "('XMM', TableList with 1 tables:\n",
      "\t'0:II/356/xmmom41s' with 44 column(s) and 1 row(s) , 2245)\n",
      "('XMM', TableList with 1 tables:\n",
      "\t'0:II/356/xmmom41s' with 44 column(s) and 1 row(s) , 2511)\n",
      "('XMM', TableList with 1 tables:\n",
      "\t'0:II/356/xmmom41s' with 44 column(s) and 1 row(s) , 2512)\n",
      "('XMM', TableList with 1 tables:\n",
      "\t'0:II/356/xmmom41s' with 44 column(s) and 2 row(s) , 2514)\n",
      "('XMM', TableList with 1 tables:\n",
      "\t'0:II/356/xmmom41s' with 44 column(s) and 1 row(s) , 2517)\n",
      "('XMM', TableList with 1 tables:\n",
      "\t'0:II/356/xmmom41s' with 44 column(s) and 1 row(s) , 2518)\n",
      "('XMM', TableList with 3 tables:\n",
      "\t'0:II/356/xmmom41s' with 44 column(s) and 1 row(s) \n",
      "\t'1:IX/55/xmm3r8s' with 17 column(s) and 1 row(s) \n",
      "\t'2:IX/54/xmm3r7s' with 17 column(s) and 1 row(s) , 2602)\n",
      "('XMM', TableList with 1 tables:\n",
      "\t'0:II/356/xmmom41s' with 44 column(s) and 1 row(s) , 2718)\n",
      "('XMM', TableList with 1 tables:\n",
      "\t'0:II/356/xmmom41s' with 44 column(s) and 1 row(s) , 2719)\n",
      "('XMM', TableList with 2 tables:\n",
      "\t'0:II/356/xmmom41s' with 44 column(s) and 1 row(s) \n",
      "\t'1:IX/55/xmm3r8s' with 17 column(s) and 1 row(s) , 2720)\n",
      "('XMM', TableList with 1 tables:\n",
      "\t'0:II/356/xmmom41s' with 44 column(s) and 1 row(s) , 2770)\n",
      "('Rosat', TableList with 2 tables:\n",
      "\t'0:IX/30/2rxp' with 9 column(s) and 1 row(s) \n",
      "\t'1:IX/31/wgacat' with 12 column(s) and 1 row(s) , 2936)\n",
      "('XMM', TableList with 2 tables:\n",
      "\t'0:II/356/xmmom41s' with 44 column(s) and 3 row(s) \n",
      "\t'1:II/340/xmmom2_1' with 46 column(s) and 3 row(s) , 3092)\n"
     ]
    },
    {
     "ename": "ConnectionError",
     "evalue": "HTTPConnectionPool(host='vizier.u-strasbg.fr', port=80): Max retries exceeded with url: /viz-bin/votable (Caused by NewConnectionError('<requests.packages.urllib3.connection.HTTPConnection object at 0x7fb25ac53190>: Failed to establish a new connection: [Errno -3] Temporary failure in name resolution',))",
     "output_type": "error",
     "traceback": [
      "\u001b[0;31m---------------------------------------------------------------------------\u001b[0m",
      "\u001b[0;31mConnectionError\u001b[0m                           Traceback (most recent call last)",
      "\u001b[0;32m<ipython-input-513-8c4e7e47d9cf>\u001b[0m in \u001b[0;36m<module>\u001b[0;34m()\u001b[0m\n\u001b[0;32m----> 1\u001b[0;31m \u001b[0mxrayobs\u001b[0m \u001b[0;34m=\u001b[0m \u001b[0mXraySearch\u001b[0m\u001b[0;34m(\u001b[0m\u001b[0mkepler\u001b[0m\u001b[0;34m)\u001b[0m\u001b[0;34m\u001b[0m\u001b[0m\n\u001b[0m",
      "\u001b[0;32m<ipython-input-511-4478097be518>\u001b[0m in \u001b[0;36mXraySearch\u001b[0;34m(tab)\u001b[0m\n\u001b[1;32m     21\u001b[0m                 \u001b[0;32mprint\u001b[0m\u001b[0;34m(\u001b[0m\u001b[0;34m'Rosat'\u001b[0m\u001b[0;34m,\u001b[0m\u001b[0mresult_table2\u001b[0m\u001b[0;34m,\u001b[0m\u001b[0mx\u001b[0m\u001b[0;34m)\u001b[0m\u001b[0;34m\u001b[0m\u001b[0m\n\u001b[1;32m     22\u001b[0m             \u001b[0;31m#print(result_table[0])\u001b[0m\u001b[0;34m\u001b[0m\u001b[0;34m\u001b[0m\u001b[0m\n\u001b[0;32m---> 23\u001b[0;31m             \u001b[0mresult_table3\u001b[0m \u001b[0;34m=\u001b[0m \u001b[0mVizier\u001b[0m\u001b[0;34m.\u001b[0m\u001b[0mquery_region\u001b[0m\u001b[0;34m(\u001b[0m\u001b[0mc\u001b[0m\u001b[0;34m,\u001b[0m\u001b[0mradius\u001b[0m\u001b[0;34m=\u001b[0m\u001b[0;36m10\u001b[0m\u001b[0;34m*\u001b[0m\u001b[0mu\u001b[0m\u001b[0;34m.\u001b[0m\u001b[0marcsec\u001b[0m\u001b[0;34m,\u001b[0m\u001b[0mcatalog\u001b[0m\u001b[0;34m=\u001b[0m\u001b[0;34m'XMM-Newton'\u001b[0m\u001b[0;34m)\u001b[0m\u001b[0;34m\u001b[0m\u001b[0m\n\u001b[0m\u001b[1;32m     24\u001b[0m             \u001b[0;32mif\u001b[0m \u001b[0mlen\u001b[0m\u001b[0;34m(\u001b[0m\u001b[0mresult_table3\u001b[0m\u001b[0;34m)\u001b[0m \u001b[0;34m>\u001b[0m \u001b[0;36m0\u001b[0m\u001b[0;34m:\u001b[0m\u001b[0;34m\u001b[0m\u001b[0m\n\u001b[1;32m     25\u001b[0m                 \u001b[0mxmm\u001b[0m\u001b[0;34m[\u001b[0m\u001b[0mstr\u001b[0m\u001b[0;34m(\u001b[0m\u001b[0mx\u001b[0m\u001b[0;34m)\u001b[0m\u001b[0;34m]\u001b[0m \u001b[0;34m=\u001b[0m \u001b[0mresult_table3\u001b[0m\u001b[0;34m\u001b[0m\u001b[0m\n",
      "\u001b[0;32m/home/mj1e16/miniconda2/envs/astroconda/lib/python2.7/site-packages/astroquery/utils/class_or_instance.pyc\u001b[0m in \u001b[0;36mf\u001b[0;34m(*args, **kwds)\u001b[0m\n\u001b[1;32m     23\u001b[0m         \u001b[0;32mdef\u001b[0m \u001b[0mf\u001b[0m\u001b[0;34m(\u001b[0m\u001b[0;34m*\u001b[0m\u001b[0margs\u001b[0m\u001b[0;34m,\u001b[0m \u001b[0;34m**\u001b[0m\u001b[0mkwds\u001b[0m\u001b[0;34m)\u001b[0m\u001b[0;34m:\u001b[0m\u001b[0;34m\u001b[0m\u001b[0m\n\u001b[1;32m     24\u001b[0m             \u001b[0;32mif\u001b[0m \u001b[0mobj\u001b[0m \u001b[0;32mis\u001b[0m \u001b[0;32mnot\u001b[0m \u001b[0mNone\u001b[0m\u001b[0;34m:\u001b[0m\u001b[0;34m\u001b[0m\u001b[0m\n\u001b[0;32m---> 25\u001b[0;31m                 \u001b[0;32mreturn\u001b[0m \u001b[0mself\u001b[0m\u001b[0;34m.\u001b[0m\u001b[0mfn\u001b[0m\u001b[0;34m(\u001b[0m\u001b[0mobj\u001b[0m\u001b[0;34m,\u001b[0m \u001b[0;34m*\u001b[0m\u001b[0margs\u001b[0m\u001b[0;34m,\u001b[0m \u001b[0;34m**\u001b[0m\u001b[0mkwds\u001b[0m\u001b[0;34m)\u001b[0m\u001b[0;34m\u001b[0m\u001b[0m\n\u001b[0m\u001b[1;32m     26\u001b[0m             \u001b[0;32melse\u001b[0m\u001b[0;34m:\u001b[0m\u001b[0;34m\u001b[0m\u001b[0m\n\u001b[1;32m     27\u001b[0m                 \u001b[0;32mreturn\u001b[0m \u001b[0mself\u001b[0m\u001b[0;34m.\u001b[0m\u001b[0mfn\u001b[0m\u001b[0;34m(\u001b[0m\u001b[0mcls\u001b[0m\u001b[0;34m,\u001b[0m \u001b[0;34m*\u001b[0m\u001b[0margs\u001b[0m\u001b[0;34m,\u001b[0m \u001b[0;34m**\u001b[0m\u001b[0mkwds\u001b[0m\u001b[0;34m)\u001b[0m\u001b[0;34m\u001b[0m\u001b[0m\n",
      "\u001b[0;32m/home/mj1e16/miniconda2/envs/astroconda/lib/python2.7/site-packages/astroquery/utils/process_asyncs.pyc\u001b[0m in \u001b[0;36mnewmethod\u001b[0;34m(self, *args, **kwargs)\u001b[0m\n\u001b[1;32m     24\u001b[0m             \u001b[0mverbose\u001b[0m \u001b[0;34m=\u001b[0m \u001b[0mkwargs\u001b[0m\u001b[0;34m.\u001b[0m\u001b[0mpop\u001b[0m\u001b[0;34m(\u001b[0m\u001b[0;34m'verbose'\u001b[0m\u001b[0;34m,\u001b[0m \u001b[0mFalse\u001b[0m\u001b[0;34m)\u001b[0m\u001b[0;34m\u001b[0m\u001b[0m\n\u001b[1;32m     25\u001b[0m \u001b[0;34m\u001b[0m\u001b[0m\n\u001b[0;32m---> 26\u001b[0;31m             \u001b[0mresponse\u001b[0m \u001b[0;34m=\u001b[0m \u001b[0mgetattr\u001b[0m\u001b[0;34m(\u001b[0m\u001b[0mself\u001b[0m\u001b[0;34m,\u001b[0m \u001b[0masync_method_name\u001b[0m\u001b[0;34m)\u001b[0m\u001b[0;34m(\u001b[0m\u001b[0;34m*\u001b[0m\u001b[0margs\u001b[0m\u001b[0;34m,\u001b[0m \u001b[0;34m**\u001b[0m\u001b[0mkwargs\u001b[0m\u001b[0;34m)\u001b[0m\u001b[0;34m\u001b[0m\u001b[0m\n\u001b[0m\u001b[1;32m     27\u001b[0m             \u001b[0;32mif\u001b[0m \u001b[0mkwargs\u001b[0m\u001b[0;34m.\u001b[0m\u001b[0mget\u001b[0m\u001b[0;34m(\u001b[0m\u001b[0;34m'get_query_payload'\u001b[0m\u001b[0;34m)\u001b[0m \u001b[0;32mor\u001b[0m \u001b[0mkwargs\u001b[0m\u001b[0;34m.\u001b[0m\u001b[0mget\u001b[0m\u001b[0;34m(\u001b[0m\u001b[0;34m'field_help'\u001b[0m\u001b[0;34m)\u001b[0m\u001b[0;34m:\u001b[0m\u001b[0;34m\u001b[0m\u001b[0m\n\u001b[1;32m     28\u001b[0m                 \u001b[0;32mreturn\u001b[0m \u001b[0mresponse\u001b[0m\u001b[0;34m\u001b[0m\u001b[0m\n",
      "\u001b[0;32m/home/mj1e16/miniconda2/envs/astroconda/lib/python2.7/site-packages/astroquery/vizier/core.pyc\u001b[0m in \u001b[0;36mquery_region_async\u001b[0;34m(self, coordinates, radius, inner_radius, width, height, catalog, get_query_payload, cache, return_type)\u001b[0m\n\u001b[1;32m    422\u001b[0m         response = self._request(\n\u001b[1;32m    423\u001b[0m             \u001b[0mmethod\u001b[0m\u001b[0;34m=\u001b[0m\u001b[0;34m'POST'\u001b[0m\u001b[0;34m,\u001b[0m \u001b[0murl\u001b[0m\u001b[0;34m=\u001b[0m\u001b[0mself\u001b[0m\u001b[0;34m.\u001b[0m\u001b[0m_server_to_url\u001b[0m\u001b[0;34m(\u001b[0m\u001b[0mreturn_type\u001b[0m\u001b[0;34m=\u001b[0m\u001b[0mreturn_type\u001b[0m\u001b[0;34m)\u001b[0m\u001b[0;34m,\u001b[0m\u001b[0;34m\u001b[0m\u001b[0m\n\u001b[0;32m--> 424\u001b[0;31m             data=data_payload, timeout=self.TIMEOUT, cache=cache)\n\u001b[0m\u001b[1;32m    425\u001b[0m         \u001b[0;32mreturn\u001b[0m \u001b[0mresponse\u001b[0m\u001b[0;34m\u001b[0m\u001b[0m\n\u001b[1;32m    426\u001b[0m \u001b[0;34m\u001b[0m\u001b[0m\n",
      "\u001b[0;32m/home/mj1e16/miniconda2/envs/astroconda/lib/python2.7/site-packages/astroquery/query.pyc\u001b[0m in \u001b[0;36m_request\u001b[0;34m(self, method, url, params, data, headers, files, save, savedir, timeout, cache, stream, auth, continuation)\u001b[0m\n\u001b[1;32m    195\u001b[0m                                              \u001b[0mself\u001b[0m\u001b[0;34m.\u001b[0m\u001b[0mcache_location\u001b[0m\u001b[0;34m,\u001b[0m\u001b[0;34m\u001b[0m\u001b[0m\n\u001b[1;32m    196\u001b[0m                                              \u001b[0mstream\u001b[0m\u001b[0;34m=\u001b[0m\u001b[0mstream\u001b[0m\u001b[0;34m,\u001b[0m\u001b[0;34m\u001b[0m\u001b[0m\n\u001b[0;32m--> 197\u001b[0;31m                                              auth=auth)\n\u001b[0m\u001b[1;32m    198\u001b[0m                     \u001b[0mto_cache\u001b[0m\u001b[0;34m(\u001b[0m\u001b[0mresponse\u001b[0m\u001b[0;34m,\u001b[0m \u001b[0mquery\u001b[0m\u001b[0;34m.\u001b[0m\u001b[0mrequest_file\u001b[0m\u001b[0;34m(\u001b[0m\u001b[0mself\u001b[0m\u001b[0;34m.\u001b[0m\u001b[0mcache_location\u001b[0m\u001b[0;34m)\u001b[0m\u001b[0;34m)\u001b[0m\u001b[0;34m\u001b[0m\u001b[0m\n\u001b[1;32m    199\u001b[0m             \u001b[0mself\u001b[0m\u001b[0;34m.\u001b[0m\u001b[0m_last_query\u001b[0m \u001b[0;34m=\u001b[0m \u001b[0mquery\u001b[0m\u001b[0;34m\u001b[0m\u001b[0m\n",
      "\u001b[0;32m/home/mj1e16/miniconda2/envs/astroconda/lib/python2.7/site-packages/astroquery/query.pyc\u001b[0m in \u001b[0;36mrequest\u001b[0;34m(self, session, cache_location, stream, auth)\u001b[0m\n\u001b[1;32m     58\u001b[0m                                \u001b[0mdata\u001b[0m\u001b[0;34m=\u001b[0m\u001b[0mself\u001b[0m\u001b[0;34m.\u001b[0m\u001b[0mdata\u001b[0m\u001b[0;34m,\u001b[0m \u001b[0mheaders\u001b[0m\u001b[0;34m=\u001b[0m\u001b[0mself\u001b[0m\u001b[0;34m.\u001b[0m\u001b[0mheaders\u001b[0m\u001b[0;34m,\u001b[0m\u001b[0;34m\u001b[0m\u001b[0m\n\u001b[1;32m     59\u001b[0m                                \u001b[0mfiles\u001b[0m\u001b[0;34m=\u001b[0m\u001b[0mself\u001b[0m\u001b[0;34m.\u001b[0m\u001b[0mfiles\u001b[0m\u001b[0;34m,\u001b[0m \u001b[0mtimeout\u001b[0m\u001b[0;34m=\u001b[0m\u001b[0mself\u001b[0m\u001b[0;34m.\u001b[0m\u001b[0mtimeout\u001b[0m\u001b[0;34m,\u001b[0m\u001b[0;34m\u001b[0m\u001b[0m\n\u001b[0;32m---> 60\u001b[0;31m                                stream=stream, auth=auth)\n\u001b[0m\u001b[1;32m     61\u001b[0m \u001b[0;34m\u001b[0m\u001b[0m\n\u001b[1;32m     62\u001b[0m     \u001b[0;32mdef\u001b[0m \u001b[0mhash\u001b[0m\u001b[0;34m(\u001b[0m\u001b[0mself\u001b[0m\u001b[0;34m)\u001b[0m\u001b[0;34m:\u001b[0m\u001b[0;34m\u001b[0m\u001b[0m\n",
      "\u001b[0;32m/home/mj1e16/miniconda2/envs/astroconda/lib/python2.7/site-packages/requests/sessions.pyc\u001b[0m in \u001b[0;36mrequest\u001b[0;34m(self, method, url, params, data, headers, cookies, files, auth, timeout, allow_redirects, proxies, hooks, stream, verify, cert, json)\u001b[0m\n\u001b[1;32m    486\u001b[0m         }\n\u001b[1;32m    487\u001b[0m         \u001b[0msend_kwargs\u001b[0m\u001b[0;34m.\u001b[0m\u001b[0mupdate\u001b[0m\u001b[0;34m(\u001b[0m\u001b[0msettings\u001b[0m\u001b[0;34m)\u001b[0m\u001b[0;34m\u001b[0m\u001b[0m\n\u001b[0;32m--> 488\u001b[0;31m         \u001b[0mresp\u001b[0m \u001b[0;34m=\u001b[0m \u001b[0mself\u001b[0m\u001b[0;34m.\u001b[0m\u001b[0msend\u001b[0m\u001b[0;34m(\u001b[0m\u001b[0mprep\u001b[0m\u001b[0;34m,\u001b[0m \u001b[0;34m**\u001b[0m\u001b[0msend_kwargs\u001b[0m\u001b[0;34m)\u001b[0m\u001b[0;34m\u001b[0m\u001b[0m\n\u001b[0m\u001b[1;32m    489\u001b[0m \u001b[0;34m\u001b[0m\u001b[0m\n\u001b[1;32m    490\u001b[0m         \u001b[0;32mreturn\u001b[0m \u001b[0mresp\u001b[0m\u001b[0;34m\u001b[0m\u001b[0m\n",
      "\u001b[0;32m/home/mj1e16/miniconda2/envs/astroconda/lib/python2.7/site-packages/requests/sessions.pyc\u001b[0m in \u001b[0;36msend\u001b[0;34m(self, request, **kwargs)\u001b[0m\n\u001b[1;32m    607\u001b[0m \u001b[0;34m\u001b[0m\u001b[0m\n\u001b[1;32m    608\u001b[0m         \u001b[0;31m# Send the request\u001b[0m\u001b[0;34m\u001b[0m\u001b[0;34m\u001b[0m\u001b[0m\n\u001b[0;32m--> 609\u001b[0;31m         \u001b[0mr\u001b[0m \u001b[0;34m=\u001b[0m \u001b[0madapter\u001b[0m\u001b[0;34m.\u001b[0m\u001b[0msend\u001b[0m\u001b[0;34m(\u001b[0m\u001b[0mrequest\u001b[0m\u001b[0;34m,\u001b[0m \u001b[0;34m**\u001b[0m\u001b[0mkwargs\u001b[0m\u001b[0;34m)\u001b[0m\u001b[0;34m\u001b[0m\u001b[0m\n\u001b[0m\u001b[1;32m    610\u001b[0m \u001b[0;34m\u001b[0m\u001b[0m\n\u001b[1;32m    611\u001b[0m         \u001b[0;31m# Total elapsed time of the request (approximately)\u001b[0m\u001b[0;34m\u001b[0m\u001b[0;34m\u001b[0m\u001b[0m\n",
      "\u001b[0;32m/home/mj1e16/miniconda2/envs/astroconda/lib/python2.7/site-packages/requests/adapters.pyc\u001b[0m in \u001b[0;36msend\u001b[0;34m(self, request, stream, timeout, verify, cert, proxies)\u001b[0m\n\u001b[1;32m    485\u001b[0m                 \u001b[0;32mraise\u001b[0m \u001b[0mProxyError\u001b[0m\u001b[0;34m(\u001b[0m\u001b[0me\u001b[0m\u001b[0;34m,\u001b[0m \u001b[0mrequest\u001b[0m\u001b[0;34m=\u001b[0m\u001b[0mrequest\u001b[0m\u001b[0;34m)\u001b[0m\u001b[0;34m\u001b[0m\u001b[0m\n\u001b[1;32m    486\u001b[0m \u001b[0;34m\u001b[0m\u001b[0m\n\u001b[0;32m--> 487\u001b[0;31m             \u001b[0;32mraise\u001b[0m \u001b[0mConnectionError\u001b[0m\u001b[0;34m(\u001b[0m\u001b[0me\u001b[0m\u001b[0;34m,\u001b[0m \u001b[0mrequest\u001b[0m\u001b[0;34m=\u001b[0m\u001b[0mrequest\u001b[0m\u001b[0;34m)\u001b[0m\u001b[0;34m\u001b[0m\u001b[0m\n\u001b[0m\u001b[1;32m    488\u001b[0m \u001b[0;34m\u001b[0m\u001b[0m\n\u001b[1;32m    489\u001b[0m         \u001b[0;32mexcept\u001b[0m \u001b[0mClosedPoolError\u001b[0m \u001b[0;32mas\u001b[0m \u001b[0me\u001b[0m\u001b[0;34m:\u001b[0m\u001b[0;34m\u001b[0m\u001b[0m\n",
      "\u001b[0;31mConnectionError\u001b[0m: HTTPConnectionPool(host='vizier.u-strasbg.fr', port=80): Max retries exceeded with url: /viz-bin/votable (Caused by NewConnectionError('<requests.packages.urllib3.connection.HTTPConnection object at 0x7fb25ac53190>: Failed to establish a new connection: [Errno -3] Temporary failure in name resolution',))"
     ]
    }
   ],
   "source": [
    "xrayobs = XraySearch(kepler)"
   ]
  },
  {
   "cell_type": "code",
   "execution_count": 528,
   "metadata": {
    "collapsed": true
   },
   "outputs": [],
   "source": [
    "goodcatDict = {'6':['PS1','AllWiSE','LAMOST'],\n",
    "              '7':['PS1','AllWiSE','LAMOST'],\n",
    "              '11':['PS1','AllWiSE','LAMOST'],\n",
    "              '26':['PS1','AllWiSE','LAMOST'],\n",
    "              '30':['PS1'],\n",
    "              '31':['PS1','AllWiSE','LAMOST']}"
   ]
  },
  {
   "cell_type": "code",
   "execution_count": 600,
   "metadata": {
    "collapsed": true
   },
   "outputs": [],
   "source": [
    "def vizierSearch(tab,cat):\n",
    "    result_table = []\n",
    "    indexref = 'none'\n",
    "    indexes = []\n",
    "    for x in range(len(tab)):\n",
    "        index = tab['OBJECT INDEX'][x]\n",
    "        if index != indexref:\n",
    "            RA = tab['RA_d'][x]\n",
    "            DEC = tab['DEC_d'][x]\n",
    "            #print(bigtab['RA_d'][x],bigtab['DEC_d'][x])\n",
    "            c = SkyCoord(ra=RA*u.deg,dec=DEC*u.deg)\n",
    "            result_table_list = Vizier.query_region(c,radius=2*u.arcsec,catalog=cat)\n",
    "            if len(result_table_list) != 0:\n",
    "                indexes.append(index)\n",
    "                if len(result_table) == 0:\n",
    "                    #result_table_list = Vizier.query_region(c,radius=2*u.arcsec,catalog=cat)\n",
    "                    result_table = result_table_list[0][0]\n",
    "                else:\n",
    "                    res_tab = result_table_list[0][0]\n",
    "                    result_table = vstack([result_table,res_tab])\n",
    "        indexref = index\n",
    "        \n",
    "#     aa = Column([], name='aa')\n",
    "#     t.add_column(aa, index=0)\n",
    "    result_table['index'] = indexes\n",
    "    return result_table"
   ]
  },
  {
   "cell_type": "code",
   "execution_count": 601,
   "metadata": {
    "collapsed": false
   },
   "outputs": [],
   "source": [
    "ps1 = vizierSearch(bigtab,'PS1')"
   ]
  },
  {
   "cell_type": "code",
   "execution_count": 603,
   "metadata": {
    "collapsed": true
   },
   "outputs": [],
   "source": [
    "wise = vizierSearch(bigtab,'AllWiSE')"
   ]
  },
  {
   "cell_type": "code",
   "execution_count": 604,
   "metadata": {
    "collapsed": true
   },
   "outputs": [],
   "source": [
    "LAMOST = vizierSearch(bigtab,'LAMOST')"
   ]
  },
  {
   "cell_type": "code",
   "execution_count": null,
   "metadata": {
    "collapsed": true
   },
   "outputs": [],
   "source": [
    "goodcatKeys = list(goodcatDict.keys())\n",
    "fullcolumns = []\n",
    "fullTabs = []\n",
    "if str(x) in goodcatKeys:\n",
    "    for y in range(len(goodcatDict[str(x)])):\n",
    "        for x in range(len(bigtab)):\n",
    "            index = bigtab['OBJECT INDEX'][x]\n",
    "            if index != indexref:\n",
    "                RA = bigtab['RA_d'][x]\n",
    "                DEC = bigtab['DEC_d'][x]\n",
    "                #print(bigtab['RA_d'][x],bigtab['DEC_d'][x])\n",
    "                c = SkyCoord(ra=RA*u.deg,dec=DEC*u.deg)\n",
    "\n",
    "                result_table1 = Vizier.query_region(c,radius=2*u.arcsec,catalog=goodcatDict[str(x)][y])\n",
    "                fullTabs.append(result_table1)\n",
    "                if len(result_table1) != 0:\n",
    "                    print(result_table1[0])\n",
    "                    columns = result_table1[0].colnames\n",
    "                    fullcolumns.extend(columns)\n",
    "                else:\n",
    "                    print('none in catalogue '+goodcatDict[str(x)][y])\n",
    "cols = list(set(fullcolumns))\n",
    "print(cols)"
   ]
  },
  {
   "cell_type": "code",
   "execution_count": 570,
   "metadata": {
    "collapsed": false
   },
   "outputs": [
    {
     "name": "stdout",
     "output_type": "stream",
     "text": [
      "['AllWISE', 'W2mag', 'Nd', 'gKmag', 'rKmag', 'Epoch', 'ex', 'Hmag', 'pmDE', 'Ns', 'zmag', 'snrg', 'snri', 'f_objID', 'yKmag', 'Qual', 'Kmag', 'snru', 'W1mag', 'ymag', 'snrz', 'Target', 'W3mag', 'PlanId', 'imag', 'Jmag', 'DEJ2000', 'var', 'rmag', 'zKmag', 'gmag', 'iKmag', 'z', 'pmRA', 'RAJ2000', 'W4mag', 'objID', 'ObsID', 'magType']\n",
      "39\n"
     ]
    }
   ],
   "source": [
    "#cols\n",
    "colList = cols\n",
    "colListNew = [x for x in colList if x[0:2] != 'e_']\n",
    "colListNew = [x for x in colListNew if x != 'qph']\n",
    "colListNew = [x for x in colListNew if 'Flag' not in x]\n",
    "colListNew = [x for x in colListNew if x != 'ccf']\n",
    "colListNew = [x for x in colListNew if x != 'snrr']\n",
    "colListNew = [x for x in colListNew if x != '_2M']\n",
    "colListNew = [x for x in colListNew if x != 'd2M']\n",
    "colListNew = [x for x in colListNew if x != 'Im']\n",
    "colListNew = [x for x in colListNew if x != 'sp']\n",
    "\n",
    "print(colListNew)\n",
    "print(len(colListNew))"
   ]
  },
  {
   "cell_type": "code",
   "execution_count": 627,
   "metadata": {
    "collapsed": false
   },
   "outputs": [],
   "source": [
    "def generateRow(Tab,index,origra,origdec,Names,tabType):\n",
    "    rowlist = 'none'\n",
    "    columnNames = Tab.colnames\n",
    "    Tab = Tab[1:]\n",
    "    df = Tab.to_pandas()\n",
    "    if tabType == 'simbad':\n",
    "        df2 = df[df['OTYPE'] != 'Object Not Found']\n",
    "    else:\n",
    "        df2 = df\n",
    "    df3 = df2[df2['index'] == index]\n",
    "    rows = []\n",
    "    astroTab = Table.from_pandas(df3)\n",
    "    #print('tab',index,len(astroTab))\n",
    "    if len(df3) != 0:\n",
    "        for x in range(len(astroTab)):\n",
    "            if tabType != 'simbad':\n",
    "                ra1 = astroTab['RAJ2000'][x]\n",
    "                dec1 = astroTab['DEJ2000'][x]\n",
    "            else:\n",
    "                ra1 = astroTab['RA_d'][x]\n",
    "                dec1 = astroTab['DEC_d'][x]\n",
    "            sep = round(findSeparation(ra1,dec1,origra,origdec),3)\n",
    "            rowlist = [astroTab[name][x] if name in columnNames else '--' for name in Names]\n",
    "            rowlist[0] = index\n",
    "            rowlist[1] = tabType\n",
    "            rowlist[10] = sep\n",
    "            rows.append(rowlist)\n",
    "        #print('rows',index,len(rows))\n",
    "    if len(rows) != 0:\n",
    "        return rows\n",
    "    else:\n",
    "        return 'none'"
   ]
  },
  {
   "cell_type": "code",
   "execution_count": 628,
   "metadata": {
    "collapsed": true
   },
   "outputs": [],
   "source": [
    "def bigTable(origTab,simbadTab,ps1Tab,wiseTab,lamostTab):\n",
    "    origra = origTab['RA'].tolist()\n",
    "    origdec = origTab['DEC'].tolist()\n",
    "    origImage = origTab['IMAGE_NAME'].tolist()\n",
    "    xim = origTab['X_IMAGE']\n",
    "    yim = origTab['Y_IMAGE']\n",
    "    origmag = origTab['MAG_BEST']\n",
    "    magDiff = origTab['magDiff']\n",
    "    searchTables = [simbadTab,ps1Tab,wiseTab,lamostTab]\n",
    "    searchTabNames = ['simbad','PS1','AllWiSE','LAMOST']\n",
    "    #result_table = Table([[0],[0],['-'],['-'],[0],[0],[0],['-'],[0]],names=('RA_d','DEC_d','Vmag','CLASS','xcentroid','ycentroid','flux','IMAGE','index'),dtype=('float64','float64','object','object','float64','float64','float64','object','int'))\n",
    "    for x in range(len(origra)):\n",
    "        if x == 0:\n",
    "\n",
    "            namelist = ['OBJECT INDEX','SOURCE','ObjID','X_IMAGE','Y_IMAGE','RA_d','DEC_d','MAG','MAG_DIFF','OTYPE','CLASS','magType',\n",
    "                        'SEPARATION','pmRA','pmDE','var','z','Nd','Ns','Epoch','ex','Qual',\n",
    "                        'W1mag','W2mag', 'W3mag', 'W4mag',\n",
    "                        'Kmag','gKmag','rKmag', 'iKmag','zKmag', 'yKmag',   \n",
    "                        'gmag','rmag','imag','zmag','ymag','Jmag', 'Hmag',\n",
    "                        'snrg', 'snri','snru',   'snrz',          \n",
    "                        'Target',  'AllWISE']\n",
    "#             types = ['int','object','float64','float64','float64','float64','float64','float64','object','object','float64',\n",
    "#                      'object','object','object','object','object','object','object','object',\n",
    "#                     'object','object','object','object','object','object','object','object']\n",
    "            types = ['object']*len(namelist)\n",
    "            rowlistOG = [[x],[origImage[x]],['-'],[xim[x]],[yim[x]],[origra[x]],[origdec[x]],[origmag[x]],[magDiff[x]]]\n",
    "            difflen = len(namelist)-len(rowlistOG)\n",
    "            extras = [['--'] for _ in range(difflen)]\n",
    "            rowlistOG.extend(extras)\n",
    "\n",
    "            result_table = Table(rowlistOG,names=namelist,dtype=types)\n",
    "            for tab in range(len(searchTables)):\n",
    "                rowlist = generateRow(searchTables[tab],x,origra[x],origdec[x],namelist,searchTabNames[tab])\n",
    "                if rowlist != 'none':\n",
    "                    for row in rowlist:\n",
    "                        result_table.add_row(row)\n",
    "                        print('working')\n",
    "        else:\n",
    "            rowlistOG = [x,origImage[x],'-',xim[x],yim[x],origra[x],origdec[x],origmag[x],magDiff[x]]\n",
    "            difflen = len(namelist)-len(rowlistOG)\n",
    "            extras = ['--' for _ in range(difflen)]\n",
    "            rowlistOG.extend(extras)\n",
    "            result_table.add_row(rowlistOG)\n",
    "            for tab in range(len(searchTables)):\n",
    "                rowlist = generateRow(searchTables[tab],x,origra[x],origdec[x],namelist,searchTabNames[tab])\n",
    "                if rowlist != 'none':\n",
    "                    for row in rowlist:\n",
    "                        result_table.add_row(row)\n",
    "    return result_table"
   ]
  },
  {
   "cell_type": "code",
   "execution_count": 629,
   "metadata": {
    "collapsed": false
   },
   "outputs": [],
   "source": [
    "newBigTab = bigTable(otherGaiaTab,simbadSearch,ps1,wise,LAMOST)"
   ]
  },
  {
   "cell_type": "code",
   "execution_count": 633,
   "metadata": {
    "collapsed": true
   },
   "outputs": [],
   "source": [
    "ascii.write(newBigTab,'/home/mj1e16/outTablesImproved/newbigtab.csv',format='csv',fast_writer=False)"
   ]
  },
  {
   "cell_type": "code",
   "execution_count": 19,
   "metadata": {
    "collapsed": true
   },
   "outputs": [],
   "source": [
    "otherGaiaTab = ascii.read('/home/mj1e16/outTablesImproved/fullMatches.csv')"
   ]
  },
  {
   "cell_type": "code",
   "execution_count": 30,
   "metadata": {
    "collapsed": true
   },
   "outputs": [],
   "source": [
    "for x in range(1,6):\n",
    "    simbadSearch = queryObjectRegion(otherGaiaTab,searchRadius=x*u.arcsecond)\n",
    "    ascii.write(simbadSearch,'/home/mj1e16/outTablesImproved/simbad{}.csv'.format(x),format='csv',fast_writer=False)\n",
    "    vizierSearch = queryObjectRegionVizier(otherGaiaTab,searchRadius=x*u.arcsecond)\n",
    "    ascii.write(vizierSearch,'/home/mj1e16/outTablesImproved/vizier{}.csv'.format(x),format='csv',fast_writer=False)"
   ]
  },
  {
   "cell_type": "code",
   "execution_count": 52,
   "metadata": {
    "collapsed": false
   },
   "outputs": [
    {
     "data": {
      "image/png": "[encoded data removed]",
      "text/plain": [
       "<Figure size 432x288 with 1 Axes>"
      ]
     },
     "metadata": {},
     "output_type": "display_data"
    },
    {
     "data": {
      "image/png": "[encoded data removed]",
      "text/plain": [
       "<Figure size 432x288 with 1 Axes>"
      ]
     },
     "metadata": {},
     "output_type": "display_data"
    }
   ],
   "source": [
    "indexes = simbadSearch['index'].tolist()\n",
    "set(indexes)\n",
    "foundSum = []\n",
    "objectTypes =[]\n",
    "for x in range(1,6):\n",
    "    tab = ascii.read('/home/mj1e16/outTablesImproved/simbad{}.csv'.format(x))\n",
    "    df = tab.to_pandas()\n",
    "    #objectTypes.extend(df)\n",
    "    df2 = df[df['OTYPE'] != 'Object Not Found']\n",
    "    objectTypes.extend(df2['OTYPE'])\n",
    "    indexFound = df2['index'].tolist()\n",
    "    if x == 1:\n",
    "        foundorNot = [1 if y in indexFound else 0 for y in indexes]\n",
    "    else:\n",
    "        fon = [1 if y in indexFound else 0 for y in indexes]\n",
    "        foundorNot = [y + z for y,z in zip(fon,foundorNot)]\n",
    "index = range(len(foundorNot))\n",
    "discreteOtypes = set(objectTypes)\n",
    "num = []\n",
    "for x in discreteOtypes:\n",
    "    num.append(objectTypes.count(x))\n",
    "plt.bar(index,foundorNot)\n",
    "plt.xlabel('Index')\n",
    "plt.ylabel('# of Occurences')\n",
    "plt.show()\n",
    "\n",
    "disoindex = range(len(num))\n",
    "plt.bar(disoindex,num)\n",
    "plt.xticks(disoindex, discreteOtypes)\n",
    "plt.show()"
   ]
  },
  {
   "cell_type": "code",
   "execution_count": 56,
   "metadata": {
    "collapsed": false
   },
   "outputs": [
    {
     "data": {
      "image/png": "[encoded data removed]",
      "text/plain": [
       "<Figure size 432x288 with 1 Axes>"
      ]
     },
     "metadata": {},
     "output_type": "display_data"
    },
    {
     "data": {
      "image/png": "[encoded data removed]",
      "text/plain": [
       "<Figure size 1440x720 with 1 Axes>"
      ]
     },
     "metadata": {},
     "output_type": "display_data"
    }
   ],
   "source": [
    "indexes = simbadSearch['index'].tolist()\n",
    "set(indexes)\n",
    "foundSum = []\n",
    "objectTypes =[]\n",
    "\n",
    "for x in range(1,6):\n",
    "    tab = ascii.read('/home/mj1e16/outTablesImproved/vizier{}.csv'.format(x))\n",
    "    df = tab.to_pandas()\n",
    "    df2 = df[df['CLASS'] != 'Object Not Found']\n",
    "    df3 = df2[df2['CLASS'] != 'No Object Type']\n",
    "    objectTypes.extend(df3['CLASS'])\n",
    "    indexFound = df3['index'].tolist()\n",
    "    if x == 1:\n",
    "        foundorNot = [1 if y in indexFound else 0 for y in indexes]\n",
    "    else:\n",
    "        fon = [1 if y in indexFound else 0 for y in indexes]\n",
    "        foundorNot = [y + z for y,z in zip(fon,foundorNot)]\n",
    "        \n",
    "#    df3 = df2[df2['CLASS'] != 'No Object Type']\n",
    "index = range(len(foundorNot))\n",
    "discreteOtypes = set(objectTypes)\n",
    "num = []\n",
    "for x in discreteOtypes:\n",
    "    num.append(objectTypes.count(x))\n",
    "    \n",
    "plt.bar(index,foundorNot)\n",
    "plt.xlabel('Index')\n",
    "plt.ylabel('# of Occurences')\n",
    "plt.show()\n",
    "\n",
    "disoindex = range(len(num))\n",
    "plt.figure(figsize=[20,10])\n",
    "plt.bar(disoindex,num)\n",
    "plt.xticks(disoindex, discreteOtypes)\n",
    "plt.show()"
   ]
  },
  {
   "cell_type": "code",
   "execution_count": 42,
   "metadata": {
    "collapsed": false
   },
   "outputs": [
    {
     "data": {
      "text/plain": [
       "[0, 1, 2, 3, 4, 5, 6, 7, 8, 9]"
      ]
     },
     "execution_count": 42,
     "metadata": {},
     "output_type": "execute_result"
    }
   ],
   "source": [
    "num = 1\n",
    "simbadTab = ascii.read('/home/mj1e16/outTablesImproved/simbad{}.csv'.format(num))\n",
    "df = simbadTab.to_pandas()\n",
    "df2 = df[df['OTYPE'] != 'Object Not Found']\n",
    "df2"
   ]
  },
  {
   "cell_type": "code",
   "execution_count": 46,
   "metadata": {
    "collapsed": false
   },
   "outputs": [
    {
     "data": {
      "text/html": [
       "<div>\n",
       "<table border=\"1\" class=\"dataframe\">\n",
       "  <thead>\n",
       "    <tr style=\"text-align: right;\">\n",
       "      <th></th>\n",
       "      <th>RA_d</th>\n",
       "      <th>DEC_d</th>\n",
       "      <th>Vmag</th>\n",
       "      <th>CLASS</th>\n",
       "      <th>xcentroid</th>\n",
       "      <th>ycentroid</th>\n",
       "      <th>flux</th>\n",
       "      <th>IMAGE</th>\n",
       "      <th>index</th>\n",
       "    </tr>\n",
       "  </thead>\n",
       "  <tbody>\n",
       "    <tr>\n",
       "      <th>0</th>\n",
       "      <td>0.000000</td>\n",
       "      <td>0.000000</td>\n",
       "      <td>-</td>\n",
       "      <td>-</td>\n",
       "      <td>0.0000</td>\n",
       "      <td>0.0000</td>\n",
       "      <td>0.000</td>\n",
       "      <td>-</td>\n",
       "      <td>0</td>\n",
       "    </tr>\n",
       "    <tr>\n",
       "      <th>9</th>\n",
       "      <td>283.158910</td>\n",
       "      <td>47.393770</td>\n",
       "      <td>VMAG</td>\n",
       "      <td>0</td>\n",
       "      <td>847.0221</td>\n",
       "      <td>792.5739</td>\n",
       "      <td>4922.818</td>\n",
       "      <td>diff_imNo31_channel9_ccd9.fits</td>\n",
       "      <td>7</td>\n",
       "    </tr>\n",
       "    <tr>\n",
       "      <th>11</th>\n",
       "      <td>283.158907</td>\n",
       "      <td>47.393826</td>\n",
       "      <td>VMAG</td>\n",
       "      <td>3</td>\n",
       "      <td>847.0221</td>\n",
       "      <td>792.5739</td>\n",
       "      <td>4922.818</td>\n",
       "      <td>diff_imNo31_channel9_ccd9.fits</td>\n",
       "      <td>7</td>\n",
       "    </tr>\n",
       "    <tr>\n",
       "      <th>14</th>\n",
       "      <td>283.158908</td>\n",
       "      <td>47.393827</td>\n",
       "      <td>VMAG</td>\n",
       "      <td>0</td>\n",
       "      <td>847.0221</td>\n",
       "      <td>792.5739</td>\n",
       "      <td>4922.818</td>\n",
       "      <td>diff_imNo31_channel9_ccd9.fits</td>\n",
       "      <td>7</td>\n",
       "    </tr>\n",
       "    <tr>\n",
       "      <th>37</th>\n",
       "      <td>283.159042</td>\n",
       "      <td>47.393847</td>\n",
       "      <td>VMAG</td>\n",
       "      <td>Star</td>\n",
       "      <td>847.0221</td>\n",
       "      <td>792.5739</td>\n",
       "      <td>4922.818</td>\n",
       "      <td>diff_imNo31_channel9_ccd9.fits</td>\n",
       "      <td>7</td>\n",
       "    </tr>\n",
       "    <tr>\n",
       "      <th>38</th>\n",
       "      <td>283.159042</td>\n",
       "      <td>47.393847</td>\n",
       "      <td>VMAG</td>\n",
       "      <td>Star</td>\n",
       "      <td>847.0221</td>\n",
       "      <td>792.5739</td>\n",
       "      <td>4922.818</td>\n",
       "      <td>diff_imNo31_channel9_ccd9.fits</td>\n",
       "      <td>7</td>\n",
       "    </tr>\n",
       "    <tr>\n",
       "      <th>39</th>\n",
       "      <td>283.159042</td>\n",
       "      <td>47.393847</td>\n",
       "      <td>VMAG</td>\n",
       "      <td>Star</td>\n",
       "      <td>847.0221</td>\n",
       "      <td>792.5739</td>\n",
       "      <td>4922.818</td>\n",
       "      <td>diff_imNo31_channel9_ccd9.fits</td>\n",
       "      <td>7</td>\n",
       "    </tr>\n",
       "    <tr>\n",
       "      <th>40</th>\n",
       "      <td>283.159042</td>\n",
       "      <td>47.393847</td>\n",
       "      <td>VMAG</td>\n",
       "      <td>Star</td>\n",
       "      <td>847.0221</td>\n",
       "      <td>792.5739</td>\n",
       "      <td>4922.818</td>\n",
       "      <td>diff_imNo31_channel9_ccd9.fits</td>\n",
       "      <td>7</td>\n",
       "    </tr>\n",
       "    <tr>\n",
       "      <th>56</th>\n",
       "      <td>283.159027</td>\n",
       "      <td>47.393848</td>\n",
       "      <td>VMAG</td>\n",
       "      <td>F3V</td>\n",
       "      <td>847.0221</td>\n",
       "      <td>792.5739</td>\n",
       "      <td>4922.818</td>\n",
       "      <td>diff_imNo31_channel9_ccd9.fits</td>\n",
       "      <td>7</td>\n",
       "    </tr>\n",
       "    <tr>\n",
       "      <th>58</th>\n",
       "      <td>283.158780</td>\n",
       "      <td>47.393791</td>\n",
       "      <td>VMAG</td>\n",
       "      <td>F5 V</td>\n",
       "      <td>847.0221</td>\n",
       "      <td>792.5739</td>\n",
       "      <td>4922.818</td>\n",
       "      <td>diff_imNo31_channel9_ccd9.fits</td>\n",
       "      <td>7</td>\n",
       "    </tr>\n",
       "    <tr>\n",
       "      <th>63</th>\n",
       "      <td>283.158780</td>\n",
       "      <td>47.393791</td>\n",
       "      <td>VMAG</td>\n",
       "      <td>2</td>\n",
       "      <td>847.0221</td>\n",
       "      <td>792.5739</td>\n",
       "      <td>4922.818</td>\n",
       "      <td>diff_imNo31_channel9_ccd9.fits</td>\n",
       "      <td>7</td>\n",
       "    </tr>\n",
       "    <tr>\n",
       "      <th>68</th>\n",
       "      <td>283.066260</td>\n",
       "      <td>43.743630</td>\n",
       "      <td>VMAG</td>\n",
       "      <td>0</td>\n",
       "      <td>851.0325</td>\n",
       "      <td>318.8774</td>\n",
       "      <td>4745.730</td>\n",
       "      <td>diff_imNo40_channel30_ccd54.fits</td>\n",
       "      <td>11</td>\n",
       "    </tr>\n",
       "    <tr>\n",
       "      <th>69</th>\n",
       "      <td>283.066385</td>\n",
       "      <td>43.743598</td>\n",
       "      <td>VMAG</td>\n",
       "      <td>0</td>\n",
       "      <td>851.0325</td>\n",
       "      <td>318.8774</td>\n",
       "      <td>4745.730</td>\n",
       "      <td>diff_imNo40_channel30_ccd54.fits</td>\n",
       "      <td>11</td>\n",
       "    </tr>\n",
       "    <tr>\n",
       "      <th>72</th>\n",
       "      <td>283.066320</td>\n",
       "      <td>43.743613</td>\n",
       "      <td>VMAG</td>\n",
       "      <td>0</td>\n",
       "      <td>851.0325</td>\n",
       "      <td>318.8774</td>\n",
       "      <td>4745.730</td>\n",
       "      <td>diff_imNo40_channel30_ccd54.fits</td>\n",
       "      <td>11</td>\n",
       "    </tr>\n",
       "    <tr>\n",
       "      <th>94</th>\n",
       "      <td>283.066292</td>\n",
       "      <td>43.743583</td>\n",
       "      <td>VMAG</td>\n",
       "      <td>Star</td>\n",
       "      <td>851.0325</td>\n",
       "      <td>318.8774</td>\n",
       "      <td>4745.730</td>\n",
       "      <td>diff_imNo40_channel30_ccd54.fits</td>\n",
       "      <td>11</td>\n",
       "    </tr>\n",
       "    <tr>\n",
       "      <th>95</th>\n",
       "      <td>283.066280</td>\n",
       "      <td>43.743591</td>\n",
       "      <td>VMAG</td>\n",
       "      <td>Star</td>\n",
       "      <td>851.0325</td>\n",
       "      <td>318.8774</td>\n",
       "      <td>4745.730</td>\n",
       "      <td>diff_imNo40_channel30_ccd54.fits</td>\n",
       "      <td>11</td>\n",
       "    </tr>\n",
       "    <tr>\n",
       "      <th>122</th>\n",
       "      <td>283.066280</td>\n",
       "      <td>43.743591</td>\n",
       "      <td>VMAG</td>\n",
       "      <td>G8 IV-V Fe-1.9</td>\n",
       "      <td>851.0325</td>\n",
       "      <td>318.8774</td>\n",
       "      <td>4745.730</td>\n",
       "      <td>diff_imNo40_channel30_ccd54.fits</td>\n",
       "      <td>11</td>\n",
       "    </tr>\n",
       "    <tr>\n",
       "      <th>124</th>\n",
       "      <td>283.066274</td>\n",
       "      <td>43.743557</td>\n",
       "      <td>VMAG</td>\n",
       "      <td>sp</td>\n",
       "      <td>851.0325</td>\n",
       "      <td>318.8774</td>\n",
       "      <td>4745.730</td>\n",
       "      <td>diff_imNo40_channel30_ccd54.fits</td>\n",
       "      <td>11</td>\n",
       "    </tr>\n",
       "    <tr>\n",
       "      <th>126</th>\n",
       "      <td>283.066280</td>\n",
       "      <td>43.743583</td>\n",
       "      <td>VMAG</td>\n",
       "      <td>dwarf</td>\n",
       "      <td>851.0325</td>\n",
       "      <td>318.8774</td>\n",
       "      <td>4745.730</td>\n",
       "      <td>diff_imNo40_channel30_ccd54.fits</td>\n",
       "      <td>11</td>\n",
       "    </tr>\n",
       "    <tr>\n",
       "      <th>127</th>\n",
       "      <td>283.066270</td>\n",
       "      <td>43.743470</td>\n",
       "      <td>VMAG</td>\n",
       "      <td>IRR</td>\n",
       "      <td>851.0325</td>\n",
       "      <td>318.8774</td>\n",
       "      <td>4745.730</td>\n",
       "      <td>diff_imNo40_channel30_ccd54.fits</td>\n",
       "      <td>11</td>\n",
       "    </tr>\n",
       "    <tr>\n",
       "      <th>162</th>\n",
       "      <td>297.517400</td>\n",
       "      <td>43.605500</td>\n",
       "      <td>VMAG</td>\n",
       "      <td>LPV</td>\n",
       "      <td>731.5602</td>\n",
       "      <td>243.9939</td>\n",
       "      <td>14502.800</td>\n",
       "      <td>diff_imNo32_channel60_ccd28.fits</td>\n",
       "      <td>31</td>\n",
       "    </tr>\n",
       "  </tbody>\n",
       "</table>\n",
       "</div>"
      ],
      "text/plain": [
       "           RA_d      DEC_d  Vmag           CLASS  xcentroid  ycentroid  \\\n",
       "0      0.000000   0.000000     -               -     0.0000     0.0000   \n",
       "9    283.158910  47.393770  VMAG               0   847.0221   792.5739   \n",
       "11   283.158907  47.393826  VMAG               3   847.0221   792.5739   \n",
       "14   283.158908  47.393827  VMAG               0   847.0221   792.5739   \n",
       "37   283.159042  47.393847  VMAG            Star   847.0221   792.5739   \n",
       "38   283.159042  47.393847  VMAG            Star   847.0221   792.5739   \n",
       "39   283.159042  47.393847  VMAG            Star   847.0221   792.5739   \n",
       "40   283.159042  47.393847  VMAG            Star   847.0221   792.5739   \n",
       "56   283.159027  47.393848  VMAG             F3V   847.0221   792.5739   \n",
       "58   283.158780  47.393791  VMAG            F5 V   847.0221   792.5739   \n",
       "63   283.158780  47.393791  VMAG               2   847.0221   792.5739   \n",
       "68   283.066260  43.743630  VMAG               0   851.0325   318.8774   \n",
       "69   283.066385  43.743598  VMAG               0   851.0325   318.8774   \n",
       "72   283.066320  43.743613  VMAG               0   851.0325   318.8774   \n",
       "94   283.066292  43.743583  VMAG            Star   851.0325   318.8774   \n",
       "95   283.066280  43.743591  VMAG            Star   851.0325   318.8774   \n",
       "122  283.066280  43.743591  VMAG  G8 IV-V Fe-1.9   851.0325   318.8774   \n",
       "124  283.066274  43.743557  VMAG              sp   851.0325   318.8774   \n",
       "126  283.066280  43.743583  VMAG           dwarf   851.0325   318.8774   \n",
       "127  283.066270  43.743470  VMAG             IRR   851.0325   318.8774   \n",
       "162  297.517400  43.605500  VMAG             LPV   731.5602   243.9939   \n",
       "\n",
       "          flux                             IMAGE  index  \n",
       "0        0.000                                 -      0  \n",
       "9     4922.818    diff_imNo31_channel9_ccd9.fits      7  \n",
       "11    4922.818    diff_imNo31_channel9_ccd9.fits      7  \n",
       "14    4922.818    diff_imNo31_channel9_ccd9.fits      7  \n",
       "37    4922.818    diff_imNo31_channel9_ccd9.fits      7  \n",
       "38    4922.818    diff_imNo31_channel9_ccd9.fits      7  \n",
       "39    4922.818    diff_imNo31_channel9_ccd9.fits      7  \n",
       "40    4922.818    diff_imNo31_channel9_ccd9.fits      7  \n",
       "56    4922.818    diff_imNo31_channel9_ccd9.fits      7  \n",
       "58    4922.818    diff_imNo31_channel9_ccd9.fits      7  \n",
       "63    4922.818    diff_imNo31_channel9_ccd9.fits      7  \n",
       "68    4745.730  diff_imNo40_channel30_ccd54.fits     11  \n",
       "69    4745.730  diff_imNo40_channel30_ccd54.fits     11  \n",
       "72    4745.730  diff_imNo40_channel30_ccd54.fits     11  \n",
       "94    4745.730  diff_imNo40_channel30_ccd54.fits     11  \n",
       "95    4745.730  diff_imNo40_channel30_ccd54.fits     11  \n",
       "122   4745.730  diff_imNo40_channel30_ccd54.fits     11  \n",
       "124   4745.730  diff_imNo40_channel30_ccd54.fits     11  \n",
       "126   4745.730  diff_imNo40_channel30_ccd54.fits     11  \n",
       "127   4745.730  diff_imNo40_channel30_ccd54.fits     11  \n",
       "162  14502.800  diff_imNo32_channel60_ccd28.fits     31  "
      ]
     },
     "execution_count": 46,
     "metadata": {},
     "output_type": "execute_result"
    }
   ],
   "source": [
    "num = 2\n",
    "vizTab = ascii.read('/home/mj1e16/outTablesImproved/vizier{}.csv'.format(num))\n",
    "df = vizTab.to_pandas()\n",
    "df2 = df[df['CLASS'] != 'Object Not Found']\n",
    "df3 = df2[df2['CLASS'] != 'No Object Type']\n",
    "df3"
   ]
  },
  {
   "cell_type": "code",
   "execution_count": 21,
   "metadata": {
    "collapsed": true
   },
   "outputs": [],
   "source": [
    "ascii.write(simbadSearch,'/home/mj1e16/outTablesImproved/simbad2.csv',format='csv',fast_writer=False)"
   ]
  },
  {
   "cell_type": "code",
   "execution_count": 232,
   "metadata": {
    "collapsed": true
   },
   "outputs": [],
   "source": [
    "ascii.write(vizierSearch,'/home/mj1e16/outTablesImproved/vizier.csv',format='csv',fast_writer=False)"
   ]
  },
  {
   "cell_type": "code",
   "execution_count": 22,
   "metadata": {
    "collapsed": true
   },
   "outputs": [],
   "source": [
    "simbad2 = ascii.read('/home/mj1e16/outTablesImproved/simbad2.csv')"
   ]
  },
  {
   "cell_type": "code",
   "execution_count": 7,
   "metadata": {
    "collapsed": true
   },
   "outputs": [],
   "source": [
    "tabTot =  ascii.read('/home/mj1e16/outTablesImproved/sexdiffOutTest.csv')"
   ]
  },
  {
   "cell_type": "code",
   "execution_count": 8,
   "metadata": {
    "collapsed": true
   },
   "outputs": [],
   "source": [
    "tabTot = ascii.read('/home/mj1e16/outTablesImproved/firsthalf.csv')"
   ]
  },
  {
   "cell_type": "code",
   "execution_count": 15,
   "metadata": {
    "collapsed": true
   },
   "outputs": [],
   "source": [
    "def gaiaSearch(table):\n",
    "    RA = table['RA']\n",
    "    DEC = table['DEC']\n",
    "    width = u.Quantity(5., u.arcsecond)\n",
    "    height = u.Quantity(5., u.arcsecond)\n",
    "    #coord = [str(RA[0])+','+str(DEC[0])]\n",
    "    t0 = time.time()\n",
    "    for x in range(len(RA)):\n",
    "        coord = SkyCoord(ra=RA[x], dec=DEC[x], unit=(u.degree, u.degree), frame='icrs')\n",
    "        if x ==0:\n",
    "            result_table = Gaia.query_object_async(coordinate=coord, width=width, height=height)\n",
    "        else:\n",
    "            newtab = Gaia.query_object_async(coordinate=coord, width=width, height=height)\n",
    "            if len(newtab) != 0:\n",
    "                result_table.add_row(newtab[0])\n",
    "    print(time.time() - t0)\n",
    "    return result_table"
   ]
  },
  {
   "cell_type": "code",
   "execution_count": 18,
   "metadata": {
    "collapsed": true
   },
   "outputs": [],
   "source": [
    "def colourMag(table):\n",
    "    parallax = table['parallax']\n",
    "    distance = [1./(x/1000.) for x in parallax]\n",
    "    paraError = table['parallax_error']\n",
    "    colour = table['bp_rp']\n",
    "    gmag = table['phot_g_mean_mag']\n",
    "    extinction = table['a_g_val']\n",
    "\n",
    "\n",
    "    colourGood = [x for x,y,z in zip(colour,paraError,parallax) if y<0.25*z]\n",
    "    distanceGood = [x for x,y,z in zip(distance,paraError,parallax) if y<0.25*z]\n",
    "    gmagGood = [x for x,y,z in zip(gmag,paraError,parallax) if y<0.25*z]\n",
    "    exctinctionGood = [x for x,y,z in zip(extinction,paraError,parallax) if y<0.25*z]\n",
    "\n",
    "    absoluteMag = [mag - (5*(np.log10(dist)))  + 5 for mag,dist,ext in zip(gmagGood,distanceGood,exctinctionGood)]\n",
    "    return {'absMag':absoluteMag,'colour':colourGood}"
   ]
  },
  {
   "cell_type": "code",
   "execution_count": 12,
   "metadata": {
    "collapsed": true
   },
   "outputs": [],
   "source": [
    "#ascii.write(result_table,'/home/mj1e16/outTablesImproved/gaiaObjects.csv',format='csv',fast_writer=False)\n",
    "ascii.write(result_table,'/home/mj1e16/outTablesImproved/gaiaTab.csv',format='csv',fast_writer=False)"
   ]
  },
  {
   "cell_type": "code",
   "execution_count": 13,
   "metadata": {
    "collapsed": true
   },
   "outputs": [],
   "source": [
    "otherGaiaTab = ascii.read('/home/mj1e16/outTablesImproved/fullMatches.csv')"
   ]
  },
  {
   "cell_type": "code",
   "execution_count": 115,
   "metadata": {
    "collapsed": true
   },
   "outputs": [],
   "source": [
    "simbadSearch = queryObjectRegion(otherGaiaTab,searchRadius=5*u.arcsecond)"
   ]
  },
  {
   "cell_type": "code",
   "execution_count": 180,
   "metadata": {
    "collapsed": false,
    "scrolled": true
   },
   "outputs": [
    {
     "data": {
      "text/html": [
       "&lt;Table length=37&gt;\n",
       "<table id=\"table140651348698576\" class=\"table-striped table-bordered table-condensed\">\n",
       "<thead><tr><th>MAIN_ID</th><th>RA_d</th><th>DEC_d</th><th>OTYPE</th><th>xcentroid</th><th>ycentroid</th><th>flux</th><th>IMAGE</th><th>Vmag</th><th>Class</th></tr></thead>\n",
       "<thead><tr><th>object</th><th>float64</th><th>float64</th><th>object</th><th>float64</th><th>float64</th><th>float64</th><th>object</th><th>object</th><th>object</th></tr></thead>\n",
       "<tr><td>-</td><td>0.0</td><td>0.0</td><td>-</td><td>0.0</td><td>0.0</td><td>0.0</td><td>-</td><td>0</td><td>-</td></tr>\n",
       "<tr><td>N/A</td><td>291.9081476036849</td><td>47.058497168533194</td><td>Object Not Found</td><td>429.9972</td><td>24.7407</td><td>4972.103</td><td>diff_imNo11_channel18_ccd58.fits</td><td>[0]</td><td>Object Not Found</td></tr>\n",
       "<tr><td>N/A</td><td>282.2997286819453</td><td>48.51511298543987</td><td>Object Not Found</td><td>618.8993</td><td>260.8472</td><td>2963.834</td><td>diff_imNo49_channel12_ccd16.fits</td><td>[0]</td><td>Object Not Found</td></tr>\n",
       "<tr><td>N/A</td><td>286.17639521590405</td><td>44.443401074095455</td><td>Object Not Found</td><td>127.6044</td><td>916.9813</td><td>2797.135</td><td>diff_imNo49_channel26_ccd18.fits</td><td>[0]</td><td>Object Not Found</td></tr>\n",
       "<tr><td>N/A</td><td>282.51787304188844</td><td>47.587614950317615</td><td>Object Not Found</td><td>1039.0616</td><td>993.9548</td><td>2862.116</td><td>diff_imNo14_channel12_ccd76.fits</td><td>[0]</td><td>Object Not Found</td></tr>\n",
       "<tr><td>2MASS J19044019+3740211</td><td>286.1674519875751</td><td>37.6725297870107</td><td>RGB*</td><td>341.8187</td><td>226.6804</td><td>3784.545</td><td>diff_imNo28_channel71_ccd75.fits</td><td>VMAG</td><td>0</td></tr>\n",
       "<tr><td>KIC 6267115</td><td>284.7196699802004</td><td>41.6760072017319</td><td>Star</td><td>947.2881</td><td>593.7286</td><td>3451.97</td><td>diff_imNo25_channel49_ccd49.fits</td><td>[0]</td><td>Object Not Found</td></tr>\n",
       "<tr><td>2MASS J19393539+4900241</td><td>294.897456592791</td><td>49.0067104408479</td><td>RGB*</td><td>645.012</td><td>273.612</td><td>3651.136</td><td>diff_imNo31_channel13_ccd13.fits</td><td>VMAG</td><td>0</td></tr>\n",
       "<tr><td>KIC 10256300</td><td>283.1588365335496</td><td>47.3937710691911</td><td>Star</td><td>847.0221</td><td>792.5739</td><td>4922.818</td><td>diff_imNo31_channel9_ccd9.fits</td><td>VMAG</td><td>0</td></tr>\n",
       "<tr><td>N/A</td><td>282.85892686984414</td><td>46.1930525322328</td><td>Object Not Found</td><td>555.793</td><td>52.6379</td><td>1774.637</td><td>diff_imNo21_channel10_ccd14.fits</td><td>[0]</td><td>Object Not Found</td></tr>\n",
       "<tr><td>...</td><td>...</td><td>...</td><td>...</td><td>...</td><td>...</td><td>...</td><td>...</td><td>...</td><td>...</td></tr>\n",
       "<tr><td>N/A</td><td>282.7021468847232</td><td>48.599400745879244</td><td>Object Not Found</td><td>382.8395</td><td>347.2336</td><td>2633.672</td><td>diff_imNo33_channel12_ccd12.fits</td><td>VMAG</td><td>0</td></tr>\n",
       "<tr><td>N/A</td><td>282.16748804574934</td><td>45.028470811735</td><td>Object Not Found</td><td>102.1668</td><td>54.1434</td><td>2640.297</td><td>diff_imNo34_channel29_ccd1.fits</td><td>[0]</td><td>Object Not Found</td></tr>\n",
       "<tr><td>N/A</td><td>280.4266698423564</td><td>47.74557614802368</td><td>Object Not Found</td><td>296.4754</td><td>70.2676</td><td>2297.093</td><td>diff_imNo29_channel11_ccd75.fits</td><td>[0]</td><td>Object Not Found</td></tr>\n",
       "<tr><td>N/A</td><td>281.243090037762</td><td>42.81836693022433</td><td>Object Not Found</td><td>955.3837</td><td>383.8728</td><td>3096.664</td><td>diff_imNo6_channel31_ccd55.fits</td><td>[0]</td><td>Object Not Found</td></tr>\n",
       "<tr><td>N/A</td><td>283.43281807912626</td><td>40.30387646275394</td><td>Object Not Found</td><td>828.0455</td><td>122.7324</td><td>46189.73</td><td>diff_imNo13_channel51_ccd79.fits</td><td>VMAG</td><td>0</td></tr>\n",
       "<tr><td>N/A</td><td>297.5177467782924</td><td>43.605476931435</td><td>Object Not Found</td><td>731.5602</td><td>243.9939</td><td>14502.8</td><td>diff_imNo32_channel60_ccd28.fits</td><td>VMAG</td><td>0</td></tr>\n",
       "<tr><td>N/A</td><td>284.143641438747</td><td>49.03638809499817</td><td>Object Not Found</td><td>192.0007</td><td>575.1609</td><td>2626.705</td><td>diff_imNo42_channel7_ccd79.fits</td><td>VMAG</td><td>0</td></tr>\n",
       "<tr><td>N/A</td><td>284.7595454401471</td><td>49.68691772964142</td><td>Object Not Found</td><td>838.7847</td><td>329.9045</td><td>2144.289</td><td>diff_imNo42_channel7_ccd79.fits</td><td>[0]</td><td>Object Not Found</td></tr>\n",
       "<tr><td>N/A</td><td>282.8932701888228</td><td>41.811059511479556</td><td>Object Not Found</td><td>95.9583</td><td>673.8176</td><td>4131.743</td><td>diff_imNo16_channel52_ccd80.fits</td><td>[0]</td><td>Object Not Found</td></tr>\n",
       "<tr><td>N/A</td><td>291.5945226643946</td><td>37.27556059344599</td><td>Object Not Found</td><td>694.176</td><td>411.0504</td><td>22442.99</td><td>diff_imNo47_channel84_ccd84.fits</td><td>[0]</td><td>Object Not Found</td></tr>\n",
       "</table>"
      ],
      "text/plain": [
       "<Table length=37>\n",
       "        MAIN_ID                RA_d        ...  Vmag       Class      \n",
       "         object              float64       ... object      object     \n",
       "----------------------- ------------------ ... ------ ----------------\n",
       "                      -                0.0 ...      0                -\n",
       "                    N/A  291.9081476036849 ...    [0] Object Not Found\n",
       "                    N/A  282.2997286819453 ...    [0] Object Not Found\n",
       "                    N/A 286.17639521590405 ...    [0] Object Not Found\n",
       "                    N/A 282.51787304188844 ...    [0] Object Not Found\n",
       "2MASS J19044019+3740211  286.1674519875751 ...   VMAG                0\n",
       "            KIC 6267115  284.7196699802004 ...    [0] Object Not Found\n",
       "2MASS J19393539+4900241   294.897456592791 ...   VMAG                0\n",
       "           KIC 10256300  283.1588365335496 ...   VMAG                0\n",
       "                    N/A 282.85892686984414 ...    [0] Object Not Found\n",
       "                    ...                ... ...    ...              ...\n",
       "                    N/A  282.7021468847232 ...   VMAG                0\n",
       "                    N/A 282.16748804574934 ...    [0] Object Not Found\n",
       "                    N/A  280.4266698423564 ...    [0] Object Not Found\n",
       "                    N/A   281.243090037762 ...    [0] Object Not Found\n",
       "                    N/A 283.43281807912626 ...   VMAG                0\n",
       "                    N/A  297.5177467782924 ...   VMAG                0\n",
       "                    N/A   284.143641438747 ...   VMAG                0\n",
       "                    N/A  284.7595454401471 ...    [0] Object Not Found\n",
       "                    N/A  282.8932701888228 ...    [0] Object Not Found\n",
       "                    N/A  291.5945226643946 ...    [0] Object Not Found"
      ]
     },
     "execution_count": 180,
     "metadata": {},
     "output_type": "execute_result"
    }
   ],
   "source": [
    "oclass = vizierSearch['CLASS']\n",
    "vmag = vizierSearch['Vmag']\n",
    "simbadSearch['Vmag'] = vmag\n",
    "simbadSearch['Class'] = oclass\n",
    "simbadSearch"
   ]
  },
  {
   "cell_type": "code",
   "execution_count": 182,
   "metadata": {
    "collapsed": true
   },
   "outputs": [],
   "source": [
    "ascii.write(simbadSearch,'/home/mj1e16/outTablesImproved/otypes.csv',format='csv',fast_writer=False)"
   ]
  },
  {
   "cell_type": "code",
   "execution_count": 154,
   "metadata": {
    "collapsed": false,
    "scrolled": true
   },
   "outputs": [
    {
     "name": "stdout",
     "output_type": "stream",
     "text": [
      "Empty TableList\n",
      "Empty TableList\n",
      "Empty TableList\n",
      "Empty TableList\n",
      "TableList with 2 tables:\n",
      "\t'0:I/271/out' with 4 column(s) and 1 row(s) \n",
      "\t'1:I/305/out' with 4 column(s) and 1 row(s) \n",
      "  _RAJ2000     _DEJ2000   Class  _V \n",
      "    deg          deg                \n",
      "------------ ------------ ----- ----\n",
      "286.16748900  37.67248900     0 VMAG\n",
      "Empty TableList\n",
      "TableList with 4 tables:\n",
      "\t'0:I/254/out' with 4 column(s) and 1 row(s) \n",
      "\t'1:I/255/out' with 4 column(s) and 1 row(s) \n",
      "\t'2:I/271/out' with 4 column(s) and 1 row(s) \n",
      "\t'3:I/305/out' with 4 column(s) and 1 row(s) \n",
      "  _RAJ2000    _DEJ2000  Class  _V \n",
      "    deg         deg               \n",
      "----------- ----------- ----- ----\n",
      "294.8974900  49.0067900     0 VMAG\n",
      "TableList with 4 tables:\n",
      "\t'0:I/254/out' with 4 column(s) and 1 row(s) \n",
      "\t'1:I/255/out' with 4 column(s) and 1 row(s) \n",
      "\t'2:I/271/out' with 4 column(s) and 2 row(s) \n",
      "\t'3:I/305/out' with 4 column(s) and 2 row(s) \n",
      "  _RAJ2000    _DEJ2000  Class  _V \n",
      "    deg         deg               \n",
      "----------- ----------- ----- ----\n",
      "283.1589100  47.3937700     0 VMAG\n",
      "Empty TableList\n",
      "Empty TableList\n",
      "Empty TableList\n",
      "TableList with 4 tables:\n",
      "\t'0:I/254/out' with 4 column(s) and 2 row(s) \n",
      "\t'1:I/255/out' with 4 column(s) and 2 row(s) \n",
      "\t'2:I/271/out' with 4 column(s) and 2 row(s) \n",
      "\t'3:I/305/out' with 4 column(s) and 2 row(s) \n",
      "  _RAJ2000    _DEJ2000  Class  _V \n",
      "    deg         deg               \n",
      "----------- ----------- ----- ----\n",
      "283.0662600  43.7436300     0 VMAG\n",
      "283.0661900  43.7436600     0 VMAG\n",
      "Empty TableList\n",
      "Empty TableList\n",
      "Empty TableList\n",
      "Empty TableList\n",
      "Empty TableList\n",
      "Empty TableList\n",
      "Empty TableList\n",
      "Empty TableList\n",
      "Empty TableList\n",
      "TableList with 2 tables:\n",
      "\t'0:I/271/out' with 4 column(s) and 2 row(s) \n",
      "\t'1:I/305/out' with 4 column(s) and 1 row(s) \n",
      "  _RAJ2000     _DEJ2000   Class  _V \n",
      "    deg          deg                \n",
      "------------ ------------ ----- ----\n",
      "281.39102500  47.86203800     3 VMAG\n",
      "281.39086300  47.86210500     3 VMAG\n",
      "Empty TableList\n",
      "Empty TableList\n",
      "Empty TableList\n",
      "Empty TableList\n",
      "TableList with 4 tables:\n",
      "\t'0:I/254/out' with 4 column(s) and 1 row(s) \n",
      "\t'1:I/255/out' with 4 column(s) and 1 row(s) \n",
      "\t'2:I/271/out' with 4 column(s) and 1 row(s) \n",
      "\t'3:I/305/out' with 4 column(s) and 1 row(s) \n",
      "  _RAJ2000    _DEJ2000  Class  _V \n",
      "    deg         deg               \n",
      "----------- ----------- ----- ----\n",
      "282.7028400  48.5993200     0 VMAG\n",
      "Empty TableList\n",
      "Empty TableList\n",
      "Empty TableList\n",
      "TableList with 4 tables:\n",
      "\t'0:I/254/out' with 4 column(s) and 1 row(s) \n",
      "\t'1:I/255/out' with 4 column(s) and 1 row(s) \n",
      "\t'2:I/271/out' with 4 column(s) and 3 row(s) \n",
      "\t'3:I/305/out' with 4 column(s) and 1 row(s) \n",
      "  _RAJ2000    _DEJ2000  Class  _V \n",
      "    deg         deg               \n",
      "----------- ----------- ----- ----\n",
      "283.4322000  40.3041700     0 VMAG\n",
      "TableList with 2 tables:\n",
      "\t'0:I/271/out' with 4 column(s) and 1 row(s) \n",
      "\t'1:I/305/out' with 4 column(s) and 1 row(s) \n",
      "  _RAJ2000     _DEJ2000   Class  _V \n",
      "    deg          deg                \n",
      "------------ ------------ ----- ----\n",
      "297.51735700  43.60542800     0 VMAG\n",
      "TableList with 4 tables:\n",
      "\t'0:I/254/out' with 4 column(s) and 1 row(s) \n",
      "\t'1:I/255/out' with 4 column(s) and 1 row(s) \n",
      "\t'2:I/271/out' with 4 column(s) and 1 row(s) \n",
      "\t'3:I/305/out' with 4 column(s) and 1 row(s) \n",
      "  _RAJ2000    _DEJ2000  Class  _V \n",
      "    deg         deg               \n",
      "----------- ----------- ----- ----\n",
      "284.1440300  49.0359600     0 VMAG\n",
      "Empty TableList\n",
      "Empty TableList\n",
      "Empty TableList\n"
     ]
    }
   ],
   "source": [
    "vizierSearch = queryObjectRegionVizier(otherGaiaTab,searchRadius=5*u.arcsecond)\n",
    "df = vizierSearch.to_pandas()\n",
    "df2 = df[df['CLASS'] != 'Object Not Found']\n",
    "df2"
   ]
  },
  {
   "cell_type": "code",
   "execution_count": 17,
   "metadata": {
    "collapsed": false,
    "scrolled": true
   },
   "outputs": [
    {
     "name": "stdout",
     "output_type": "stream",
     "text": [
      "Query finished.\n",
      "Query finished.\n",
      "Query finished.\n",
      "Query finished.\n",
      "Query finished.\n",
      "Query finished.\n",
      "Query finished.\n",
      "Query finished.\n",
      "Query finished.\n",
      "Query finished.\n",
      "Query finished.\n",
      "Query finished.\n",
      "Query finished.\n",
      "Query finished.\n",
      "Query finished.\n",
      "Query finished.\n",
      "Query finished.\n",
      "Query finished.\n",
      "Query finished.\n",
      "Query finished.\n",
      "Query finished.\n",
      "Query finished.\n",
      "Query finished.\n",
      "Query finished.\n",
      "Query finished.\n",
      "Query finished.\n",
      "Query finished.\n",
      "Query finished.\n",
      "Query finished.\n",
      "Query finished.\n",
      "Query finished.\n",
      "Query finished.\n",
      "Query finished.\n",
      "Query finished.\n",
      "Query finished.\n",
      "Query finished.\n",
      "16.1608419418\n"
     ]
    }
   ],
   "source": [
    "newGaiaTab = gaiaSearch(otherGaiaTab)"
   ]
  },
  {
   "cell_type": "code",
   "execution_count": 22,
   "metadata": {
    "collapsed": true
   },
   "outputs": [],
   "source": [
    "# if using a table previously made\n",
    "#result_table = ascii.read('/home/mj1e16/outTablesImproved/gaiaTab.csv')"
   ]
  },
  {
   "cell_type": "code",
   "execution_count": 23,
   "metadata": {
    "collapsed": true
   },
   "outputs": [],
   "source": [
    "refmagandcolour = colourMag(result_table)"
   ]
  },
  {
   "cell_type": "code",
   "execution_count": 24,
   "metadata": {
    "collapsed": true
   },
   "outputs": [],
   "source": [
    "magandcolour =colourMag(newGaiaTab)"
   ]
  },
  {
   "cell_type": "code",
   "execution_count": 25,
   "metadata": {
    "collapsed": false
   },
   "outputs": [
    {
     "data": {
      "image/png": "[encoded data removed]",
      "text/plain": [
       "<matplotlib.figure.Figure at 0x7febf7183910>"
      ]
     },
     "metadata": {},
     "output_type": "display_data"
    }
   ],
   "source": [
    "plt.plot(refmagandcolour['colour'],refmagandcolour['absMag'],'o',markersize=2)\n",
    "plt.plot(magandcolour['colour'],magandcolour['absMag'],'ro',markersize=2)\n",
    "plt.ylim([-5,15])\n",
    "plt.xlim([0,3])\n",
    "plt.gca().invert_yaxis()\n",
    "plt.ylabel('Absolute g Mag')\n",
    "plt.xlabel('bp-rp')\n",
    "plt.show()"
   ]
  },
  {
   "cell_type": "code",
   "execution_count": 27,
   "metadata": {
    "collapsed": true
   },
   "outputs": [],
   "source": [
    "gaiaMag = result_table['phot_g_mean_mag']\n",
    "keplerMag = tabTot['MAG_BEST'][0:10000]"
   ]
  },
  {
   "cell_type": "code",
   "execution_count": 37,
   "metadata": {
    "collapsed": true
   },
   "outputs": [],
   "source": [
    "def testfindMatches(tabTot,matchTab,arcsec=2.5*u.arcsec,low=0,high=10000):\n",
    "    tabMini = tabTot[low:high]\n",
    "    matches = 'not matched'\n",
    "    ra1 = matchTab['ra']\n",
    "    dec1 = matchTab['dec']\n",
    "    idx = []\n",
    "    ra2 = tabMini['RA']\n",
    "    dec2 = tabMini['DEC']    \n",
    "    c = SkyCoord(ra=ra1, dec=dec1,unit=(u.hourangle,u.deg),frame='fk5')\n",
    "    catalog = SkyCoord(ra=ra2*u.degree, dec=dec2*u.degree)\n",
    "    idx, d2d, d3d = c.match_to_catalog_sky(catalog)\n",
    "    sep_constraint = d2d < max_sep\n",
    "#     print(len(matches))\n",
    "#     print(matches)\n",
    "    tabMini.remove_rows(idx)\n",
    "    objectsFound = number1[sep_constraint]\n",
    "    origdf = bigdf[bigdf['NUMBER'].isin(objectsFound)]\n",
    "    return tabMini"
   ]
  },
  {
   "cell_type": "code",
   "execution_count": 99,
   "metadata": {
    "collapsed": true
   },
   "outputs": [],
   "source": [
    "def findMatchesNoCondition(tab,match,df,bigdf,max_sep = 2.5 * u.arcsec):\n",
    "    \n",
    "    number1 = match['index']\n",
    "    ra1 = match['ra']\n",
    "    dec1 = match['dec']\n",
    "\n",
    "    number2 = tab['index'] # difference image\n",
    "    ra2 = tab['RA']\n",
    "    dec2 = tab['DEC']    \n",
    "    \n",
    "    cat1 = SkyCoord(ra=ra1*u.degree, dec=dec1*u.degree)\n",
    "    cat2 = SkyCoord(ra=ra2*u.degree, dec=dec2*u.degree)\n",
    "    \n",
    "    idx, d2d, d3d = cat2.match_to_catalog_sky(cat1)\n",
    "    sep_constraint = d2d < max_sep\n",
    "    objectsFound = number2[sep_constraint]\n",
    "    matchdf = df[df['index'].isin(objectsFound)]\n",
    "    matchTab = Table.from_pandas(matchdf)\n",
    "\n",
    "    idx, d2d, d3d = cat1.match_to_catalog_sky(cat2)\n",
    "    sep_constraint = d2d < max_sep\n",
    "    #istrue = [x for x in sep_constraint if x == True]\n",
    "    objectsFound = number1[sep_constraint]\n",
    "    origdf = bigdf[bigdf['index'].isin(objectsFound)]\n",
    "    origTab = Table.from_pandas(origdf)\n",
    "    \n",
    "    return [matchTab,origTab]"
   ]
  },
  {
   "cell_type": "code",
   "execution_count": 93,
   "metadata": {
    "collapsed": true
   },
   "outputs": [],
   "source": [
    "indexes = [i for i in range(10000)]\n",
    "rtindexes = [i for i in range(len(result_table))]\n",
    "tabMini = tabTot[0:10000]\n",
    "tabMini['index'] = indexes\n",
    "result_table['index'] = rtindexes\n",
    "df = tabMini.to_pandas()\n",
    "bigdf = result_table.to_pandas()"
   ]
  },
  {
   "cell_type": "code",
   "execution_count": 100,
   "metadata": {
    "collapsed": true
   },
   "outputs": [],
   "source": [
    "match = findMatchesNoCondition(tabMini,result_table,df,bigdf)"
   ]
  },
  {
   "cell_type": "code",
   "execution_count": 112,
   "metadata": {
    "collapsed": false
   },
   "outputs": [
    {
     "data": {
      "image/png": "[encoded data removed]",
      "text/plain": [
       "<matplotlib.figure.Figure at 0x7febf1d54e90>"
      ]
     },
     "metadata": {},
     "output_type": "display_data"
    }
   ],
   "source": [
    "keplerMag = match[0]['MAG_BEST']\n",
    "gaiaMag = match[1]['phot_g_mean_mag']\n",
    "plt.plot(keplerMag[0:10],gaiaMag[0:10],'ko',markersize=2)\n",
    "plt.show()"
   ]
  },
  {
   "cell_type": "code",
   "execution_count": null,
   "metadata": {
    "collapsed": true
   },
   "outputs": [],
   "source": []
  }
 ],
 "metadata": {
  "kernelspec": {
   "display_name": "Python 2",
   "language": "python",
   "name": "python2"
  },
  "language_info": {
   "codemirror_mode": {
    "name": "ipython",
    "version": 2
   },
   "file_extension": ".py",
   "mimetype": "text/x-python",
   "name": "python",
   "nbconvert_exporter": "python",
   "pygments_lexer": "ipython2",
   "version": "2.7.13"
  }
 },
 "nbformat": 4,
 "nbformat_minor": 2
}
