{
 "cells": [
  {
   "cell_type": "code",
   "execution_count": 2,
   "metadata": {
    "collapsed": false
   },
   "outputs": [],
   "source": [
    "import astroprov"
   ]
  },
  {
   "cell_type": "code",
   "execution_count": 3,
   "metadata": {
    "collapsed": true
   },
   "outputs": [],
   "source": [
    "provDir = '/home/mj1e16/keplerPhotometry/provDump/test'"
   ]
  },
  {
   "cell_type": "code",
   "execution_count": 4,
   "metadata": {
    "collapsed": false
   },
   "outputs": [
    {
     "ename": "TypeError",
     "evalue": "provcall() takes exactly 4 arguments (5 given)",
     "output_type": "error",
     "traceback": [
      "\u001b[0;31m---------------------------------------------------------------------------\u001b[0m",
      "\u001b[0;31mTypeError\u001b[0m                                 Traceback (most recent call last)",
      "\u001b[0;32m<ipython-input-4-53d66643f7f7>\u001b[0m in \u001b[0;36m<module>\u001b[0;34m()\u001b[0m\n\u001b[0;32m----> 1\u001b[0;31m \u001b[0mastroprov\u001b[0m\u001b[0;34m.\u001b[0m\u001b[0mprovcall\u001b[0m\u001b[0;34m(\u001b[0m\u001b[0;34m[\u001b[0m\u001b[0;34m'image1'\u001b[0m\u001b[0;34m,\u001b[0m\u001b[0;34m'image2'\u001b[0m\u001b[0;34m]\u001b[0m\u001b[0;34m,\u001b[0m\u001b[0;34m[\u001b[0m\u001b[0;34m'outName'\u001b[0m\u001b[0;34m]\u001b[0m\u001b[0;34m,\u001b[0m\u001b[0;34m\"differenceImage_Python2Hotpants_SQ_tmpl.provn\"\u001b[0m\u001b[0;34m,\u001b[0m\u001b[0;34m\"differenceImage\"\u001b[0m\u001b[0;34m,\u001b[0m\u001b[0mprovDir\u001b[0m\u001b[0;34m)\u001b[0m\u001b[0;34m\u001b[0m\u001b[0m\n\u001b[0m\u001b[1;32m      2\u001b[0m \u001b[0mastroprov\u001b[0m\u001b[0;34m.\u001b[0m\u001b[0mprovcall\u001b[0m\u001b[0;34m(\u001b[0m\u001b[0;34m[\u001b[0m\u001b[0;34m'alteredImage'\u001b[0m\u001b[0;34m,\u001b[0m\u001b[0;34m'starlist'\u001b[0m\u001b[0;34m]\u001b[0m\u001b[0;34m,\u001b[0m\u001b[0;34m[\u001b[0m\u001b[0;34m'alteredImage.fits'\u001b[0m\u001b[0;34m]\u001b[0m\u001b[0;34m,\u001b[0m\u001b[0;34m\"addStars_Python2IRAF_SQ_tmpl.provn\"\u001b[0m\u001b[0;34m,\u001b[0m\u001b[0;34m\"addStars\"\u001b[0m\u001b[0;34m,\u001b[0m\u001b[0mprovDir\u001b[0m\u001b[0;34m)\u001b[0m\u001b[0;34m\u001b[0m\u001b[0m\n\u001b[1;32m      3\u001b[0m \u001b[0mastroprov\u001b[0m\u001b[0;34m.\u001b[0m\u001b[0mprovcall\u001b[0m\u001b[0;34m(\u001b[0m\u001b[0;34m[\u001b[0m\u001b[0;34m'tableName'\u001b[0m\u001b[0;34m,\u001b[0m\u001b[0;34m'starlist'\u001b[0m\u001b[0;34m]\u001b[0m\u001b[0;34m,\u001b[0m\u001b[0;34m[\u001b[0m\u001b[0;34m'result_tableName'\u001b[0m\u001b[0;34m]\u001b[0m\u001b[0;34m,\u001b[0m\u001b[0;34m\"innerJoin_Python2Python_SQ_tmpl.provn\"\u001b[0m\u001b[0;34m,\u001b[0m\u001b[0;34m\"innerJoin\"\u001b[0m\u001b[0;34m,\u001b[0m\u001b[0mprovDir\u001b[0m\u001b[0;34m)\u001b[0m\u001b[0;34m\u001b[0m\u001b[0m\n\u001b[1;32m      4\u001b[0m \u001b[0mastroprov\u001b[0m\u001b[0;34m.\u001b[0m\u001b[0mprovcall\u001b[0m\u001b[0;34m(\u001b[0m\u001b[0;34m'valList'\u001b[0m\u001b[0;34m,\u001b[0m\u001b[0;34m'[confName]'\u001b[0m\u001b[0;34m,\u001b[0m\u001b[0;34m\"makeConfig_Python2Python_SQ_tmpl.provn\"\u001b[0m\u001b[0;34m,\u001b[0m\u001b[0;34m\"makeConfig\"\u001b[0m\u001b[0;34m,\u001b[0m\u001b[0mprovDir\u001b[0m\u001b[0;34m)\u001b[0m\u001b[0;34m\u001b[0m\u001b[0m\n\u001b[1;32m      5\u001b[0m \u001b[0mastroprov\u001b[0m\u001b[0;34m.\u001b[0m\u001b[0mprovcall\u001b[0m\u001b[0;34m(\u001b[0m\u001b[0;34m[\u001b[0m\u001b[0;34m'confName'\u001b[0m\u001b[0;34m,\u001b[0m\u001b[0;34m'/home/mj1e16/iraf/editedImage5000.fits'\u001b[0m\u001b[0;34m]\u001b[0m\u001b[0;34m,\u001b[0m\u001b[0;34m'[tableName]'\u001b[0m\u001b[0;34m,\u001b[0m\u001b[0;34m\"findObjects_Python2DaoStarfidner_SQ_tmpl.provn\"\u001b[0m\u001b[0;34m,\u001b[0m\u001b[0;34m\"findObjects\"\u001b[0m\u001b[0;34m,\u001b[0m\u001b[0mprovDir\u001b[0m\u001b[0;34m)\u001b[0m\u001b[0;34m\u001b[0m\u001b[0m\n",
      "\u001b[0;31mTypeError\u001b[0m: provcall() takes exactly 4 arguments (5 given)"
     ]
    }
   ],
   "source": [
    "astroprov.provcall(['image1','image2'],['outName'],\"differenceImage_Python2Hotpants_SQ_tmpl.provn\",\"differenceImage\",provDir)\n",
    "astroprov.provcall(['alteredImage','starlist'],['alteredImage.fits'],\"addStars_Python2IRAF_SQ_tmpl.provn\",\"addStars\",provDir)\n",
    "astroprov.provcall(['tableName','starlist'],['result_tableName'],\"innerJoin_Python2Python_SQ_tmpl.provn\",\"innerJoin\",provDir)\n",
    "astroprov.provcall('valList','[confName]',\"makeConfig_Python2Python_SQ_tmpl.provn\",\"makeConfig\",provDir)\n",
    "astroprov.provcall(['confName','/home/mj1e16/iraf/editedImage5000.fits'],'[tableName]',\"findObjects_Python2DaoStarfidner_SQ_tmpl.provn\",\"findObjects\",provDir)"
   ]
  },
  {
   "cell_type": "code",
   "execution_count": null,
   "metadata": {
    "collapsed": true
   },
   "outputs": [],
   "source": []
  }
 ],
 "metadata": {
  "kernelspec": {
   "display_name": "Python 2",
   "language": "python",
   "name": "python2"
  },
  "language_info": {
   "codemirror_mode": {
    "name": "ipython",
    "version": 2
   },
   "file_extension": ".py",
   "mimetype": "text/x-python",
   "name": "python",
   "nbconvert_exporter": "python",
   "pygments_lexer": "ipython2",
   "version": "2.7.13"
  }
 },
 "nbformat": 4,
 "nbformat_minor": 2
}
