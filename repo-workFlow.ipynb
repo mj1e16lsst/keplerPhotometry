{
 "cells": [
  {
   "cell_type": "code",
   "execution_count": 1,
   "metadata": {
    "collapsed": true
   },
   "outputs": [],
   "source": [
    "import findspark\n",
    "findspark.init('/home/mj1e16/miniconda2/lib/python2.7/site-packages/pyspark')"
   ]
  },
  {
   "cell_type": "code",
   "execution_count": 2,
   "metadata": {
    "collapsed": true
   },
   "outputs": [],
   "source": [
    "import astroprov\n",
    "import numpy as np\n",
    "import os\n",
    "\n",
    "from astropy.visualization.mpl_normalize import ImageNormalize\n",
    "from astropy.table import Table\n",
    "from astropy.table import Column\n",
    "\n",
    "import collections\n",
    "import subprocess\n",
    "\n",
    "import time\n",
    "from multiprocessing import Pool\n",
    "from multiprocessing.pool import ThreadPool\n",
    "\n",
    "from functools import partial\n",
    "\n",
    "from astropy.io import ascii\n",
    "#from sqlalchemy import create_engine\n",
    "import sqlite3\n",
    "import mysql.connector\n",
    "from pandas import DataFrame\n",
    "\n",
    "import mysql.connector\n",
    "from mysql.connector import Error\n",
    "from mysql.connector import pooling\n",
    "\n",
    "from pyspark.sql import SQLContext\n",
    "from pyspark import SparkContext\n",
    "from pyspark import SparkConf\n",
    "import datetime\n",
    "from sqlalchemy import create_engine\n"
   ]
  },
  {
   "cell_type": "code",
   "execution_count": 3,
   "metadata": {
    "collapsed": true
   },
   "outputs": [],
   "source": [
    "os.environ['PYSPARK_SUBMIT_ARGS'] = '--jars /home/mj1e16/miniconda2/lib/python2.7/site-packages/pyspark/mysql-connector-java_8.0.16-1ubuntu16.04_all/usr/share/java/mysql-connector-java-8.0.16.jar  pyspark-shell'\n",
    "config = SparkConf().setAll([('spark.executor.cores', '6'),('spark.cores.max', '6'),('spark.driver.memory','1g'),('spark.executor.memory', '500m')])\n"
   ]
  },
  {
   "cell_type": "code",
   "execution_count": 4,
   "metadata": {
    "collapsed": true
   },
   "outputs": [],
   "source": [
    "sc = SparkContext(appName='App',conf=config)\n",
    "sqlContext = SQLContext(sc)\n",
    "dataframe_mysql = sqlContext.read.format(\"jdbc\").option(\"url\", \"jdbc:mysql://localhost/Kepler\").option(\"driver\", \"com.mysql.jdbc.Driver\").option(\"dbtable\", \"starlist\").option(\"user\", \"mj1e16\").option(\"password\", \"[sqlT1G3R]\").load()\n",
    "dataframe_mysql.registerTempTable('starlist')"
   ]
  },
  {
   "cell_type": "code",
   "execution_count": 5,
   "metadata": {
    "collapsed": true
   },
   "outputs": [],
   "source": [
    "def innerJoin(tableName,provDir,diffSize=1):\n",
    "    temptableName = tableName[0:5]+tableName[-1]\n",
    "    df = sqlContext.sql(\"SELECT NUMBER, EXT_NUMBER, FLUX_ISO, FLUXERR_ISO, BACKGROUND, THRESHOLD, FLUX_MAX, XPEAK_IMAGE, YPEAK_IMAGE,  X_IMAGE, Y_IMAGE, FWHM_IMAGE, ELLIPTICITY FROM {} INNER JOIN starlist ON {}.X_IMAGE BETWEEN starlist.X_POS_MIN AND starlist.X_POS_MAX AND {}.Y_IMAGE BETWEEN starlist.Y_POS_MIN AND starlist.Y_POS_MAX\".format(temptableName,temptableName,temptableName))\n",
    "    df.write.format('jdbc').options(url='jdbc:mysql://localhost/Kepler',driver='com.mysql.jdbc.Driver',dbtable='result_{}'.format(tableName),user='mj1e16',password='[sqlT1G3R]').mode('append').save()\n",
    "    sqlContext.dropTempTable(temptableName)\n",
    "    astroprov.provcall([tableName,'starlist'],['result_{}'.format(tableName)],\"innerJoin_Python2Python_SQ_tmpl.provn\",\"innerJoin\",provDir)\n",
    "\n",
    "\n",
    "def makeConfig(valList,provDir,tableName='table',defaultDir='/home/mj1e16/sextractor/sextractor-master/config/',attributeList=['DETECT_THRESH','DETECT_MINAREA','BACK_FILTERSIZE','BACK_SIZE']):\n",
    "    \n",
    "    #workAroundList = [16,32,64,128,256,512]\n",
    "    workAroundList = [1,3,5,7,9,11]\n",
    "    ident = workAroundList.index(valList[-1])\n",
    "    tableName = tableName[ident] # could just return a letter?\n",
    "    with open(defaultDir+'/default.sex','r') as f:\n",
    "        data  = f.read()\n",
    "    \n",
    "    catLocFinder = 'CATALOG_NAME'\n",
    "    catname = 'test'+str(ident)+'.cat'\n",
    "    nameLoc = data.find(catLocFinder) + len(catLocFinder)\n",
    "    endLoc = data[nameLoc:].find('#') + nameLoc\n",
    "    newData = data[:nameLoc] + ' '+catname+' ' + data[endLoc:]\n",
    "    data = newData \n",
    "        \n",
    "    for x in range(len(valList)):\n",
    "        nameLoc = data.find(attributeList[x]) + len(attributeList[x])\n",
    "        endLoc = data[nameLoc:].find('#') + nameLoc\n",
    "        newData = data[:nameLoc] + ' '+str(valList[x])+' ' + data[endLoc:]\n",
    "        data = newData    \n",
    "    \n",
    "    \n",
    "    confName = 'default_'+str(ident)+'.sex'\n",
    "    with open(defaultDir+confName,'w') as f:\n",
    "        f.write(data)\n",
    "    astroprov.provcall(valList,[confName],\"makeConfig_Python2Python_SQ_tmpl.provn\",\"makeConfig\",provDir)\n",
    "    return(confName,tableName,catname)\n",
    "\n",
    "\n",
    "\n",
    "def findObjects(confName,tableName,catName,provDir,defaultDir='/home/mj1e16/sextractor/sextractor-master/config/',imagename='/home/mj1e16/iraf/editedImage5000.fits'):\n",
    "    \n",
    "    astroprov.provcall([confName,'/home/mj1e16/iraf/editedImage5000.fits'],[tableName],\"findObjects_Python2DaoStarfidner_SQ_tmpl.provn\",\"findObjects\",provDir)\n",
    "\n",
    "    os.chdir(defaultDir)\n",
    "    subprocess.call(['sex',imagename,'-c',confName])\n",
    "    assoc = Table.read(catName,format='ascii.sextractor')\n",
    "    df = assoc.to_pandas()\n",
    "    df_spark = sqlContext.createDataFrame(df)\n",
    "    temptableName = tableName[0:5]+tableName[-1]\n",
    "    #print(temptableName)\n",
    "    df_spark.registerTempTable(temptableName)\n",
    "\n",
    "    #return df\n",
    "\n",
    "def alltogethernow(valList,tableName,IMAGE,provDir):\n",
    "    Names = makeConfig(valList,provDir,tableName=tableName)\n",
    "    findObjects(Names[0],Names[1],Names[2],provDir,imagename=IMAGE) # confName tabName catname\n",
    "    innerJoin(Names[1],provDir)\n"
   ]
  },
  {
   "cell_type": "code",
   "execution_count": 6,
   "metadata": {
    "collapsed": true
   },
   "outputs": [],
   "source": [
    "valList = [np.linspace(1,10,10),np.linspace(1,9,9),np.linspace(8,128,16),[1,3,5,7,9,11]] # astro start"
   ]
  },
  {
   "cell_type": "code",
   "execution_count": 7,
   "metadata": {
    "collapsed": true
   },
   "outputs": [],
   "source": [
    "def evaluateImage(valList,simImage,provDir,smallName='Poshak',atList=['DETECT_THRESH','DETECT_MINAREA','BACK_SIZE','BACK_FILTERSIZE']):\n",
    "\n",
    "    p = ThreadPool(6)\n",
    "    t0 = time.time()\n",
    "    for x0 in range(len(valList[0])):\n",
    "        for x1 in range(len(valList[1])):\n",
    "                for x2 in range(len(valList[2])):\n",
    "                    name = smallName+'_'+str(x0)+'_'+str(x1)+'_'+str(x2)+'_'\n",
    "                    fullname = [name]*len(valList[3])\n",
    "                    fullValList = []\n",
    "                    for x3 in range(len(valList[3])):\n",
    "                        fullname[x3] += str(x3)\n",
    "                        print(fullname[x3])\n",
    "                        fullValList.append([valList[0][x0],valList[1][x1],valList[2][x2],valList[3][x3]])\n",
    "\n",
    "                        #alltogethernow(fullValList[x4],fullname,imageName,provDir)\n",
    "                    try:\n",
    "                        p.map(partial(alltogethernow,tableName=fullname,IMAGE=simImage,provDir=provDir),fullValList)\n",
    "                    except RuntimeError:\n",
    "                        with open('redos','a') as f:\n",
    "                            bigString = simImage+','+str(fullname)+','+str(fullValList)\n",
    "                            f.write(bigString)\n",
    "                        print('Redo with valList = ',fullValList)\n",
    "                        pass\n",
    "\n",
    "    #def alltogethernow(valList,tableName,IMAGE,provDir):\n",
    "\n",
    "    print(time.time()-t0)"
   ]
  },
  {
   "cell_type": "code",
   "execution_count": null,
   "metadata": {
    "collapsed": true
   },
   "outputs": [],
   "source": []
  },
  {
   "cell_type": "code",
   "execution_count": null,
   "metadata": {
    "scrolled": true
   },
   "outputs": [
    {
     "name": "stdout",
     "output_type": "stream",
     "text": [
      "Poshak_44_selMed_0_0_0_0\n",
      "Poshak_44_selMed_0_0_0_1\n",
      "Poshak_44_selMed_0_0_0_2\n",
      "Poshak_44_selMed_0_0_0_3\n",
      "Poshak_44_selMed_0_0_0_4\n",
      "Poshak_44_selMed_0_0_0_5\n",
      "Poshak_44_selMed_0_0_1_0\n",
      "Poshak_44_selMed_0_0_1_1\n",
      "Poshak_44_selMed_0_0_1_2\n",
      "Poshak_44_selMed_0_0_1_3\n",
      "Poshak_44_selMed_0_0_1_4\n",
      "Poshak_44_selMed_0_0_1_5\n",
      "Poshak_44_selMed_0_0_2_0\n",
      "Poshak_44_selMed_0_0_2_1\n",
      "Poshak_44_selMed_0_0_2_2\n",
      "Poshak_44_selMed_0_0_2_3\n",
      "Poshak_44_selMed_0_0_2_4\n",
      "Poshak_44_selMed_0_0_2_5\n",
      "Poshak_44_selMed_0_0_3_0\n",
      "Poshak_44_selMed_0_0_3_1\n",
      "Poshak_44_selMed_0_0_3_2\n",
      "Poshak_44_selMed_0_0_3_3\n",
      "Poshak_44_selMed_0_0_3_4\n",
      "Poshak_44_selMed_0_0_3_5\n",
      "Poshak_44_selMed_0_0_4_0\n",
      "Poshak_44_selMed_0_0_4_1\n",
      "Poshak_44_selMed_0_0_4_2\n",
      "Poshak_44_selMed_0_0_4_3\n",
      "Poshak_44_selMed_0_0_4_4\n",
      "Poshak_44_selMed_0_0_4_5\n",
      "Poshak_44_selMed_0_0_5_0\n",
      "Poshak_44_selMed_0_0_5_1\n",
      "Poshak_44_selMed_0_0_5_2\n",
      "Poshak_44_selMed_0_0_5_3\n",
      "Poshak_44_selMed_0_0_5_4\n",
      "Poshak_44_selMed_0_0_5_5\n",
      "Poshak_44_selMed_0_0_6_0\n",
      "Poshak_44_selMed_0_0_6_1\n",
      "Poshak_44_selMed_0_0_6_2\n",
      "Poshak_44_selMed_0_0_6_3\n",
      "Poshak_44_selMed_0_0_6_4\n",
      "Poshak_44_selMed_0_0_6_5\n",
      "Poshak_44_selMed_0_0_7_0\n",
      "Poshak_44_selMed_0_0_7_1\n",
      "Poshak_44_selMed_0_0_7_2\n",
      "Poshak_44_selMed_0_0_7_3\n",
      "Poshak_44_selMed_0_0_7_4\n",
      "Poshak_44_selMed_0_0_7_5\n",
      "Poshak_44_selMed_0_0_8_0\n",
      "Poshak_44_selMed_0_0_8_1\n",
      "Poshak_44_selMed_0_0_8_2\n",
      "Poshak_44_selMed_0_0_8_3\n",
      "Poshak_44_selMed_0_0_8_4\n",
      "Poshak_44_selMed_0_0_8_5\n",
      "Poshak_44_selMed_0_0_9_0\n",
      "Poshak_44_selMed_0_0_9_1\n",
      "Poshak_44_selMed_0_0_9_2\n",
      "Poshak_44_selMed_0_0_9_3\n",
      "Poshak_44_selMed_0_0_9_4\n",
      "Poshak_44_selMed_0_0_9_5\n",
      "Poshak_44_selMed_0_0_10_0\n",
      "Poshak_44_selMed_0_0_10_1\n",
      "Poshak_44_selMed_0_0_10_2\n",
      "Poshak_44_selMed_0_0_10_3\n",
      "Poshak_44_selMed_0_0_10_4\n",
      "Poshak_44_selMed_0_0_10_5\n",
      "Poshak_44_selMed_0_0_11_0\n",
      "Poshak_44_selMed_0_0_11_1\n",
      "Poshak_44_selMed_0_0_11_2\n",
      "Poshak_44_selMed_0_0_11_3\n",
      "Poshak_44_selMed_0_0_11_4\n",
      "Poshak_44_selMed_0_0_11_5\n",
      "Poshak_44_selMed_0_0_12_0\n",
      "Poshak_44_selMed_0_0_12_1\n",
      "Poshak_44_selMed_0_0_12_2\n",
      "Poshak_44_selMed_0_0_12_3\n",
      "Poshak_44_selMed_0_0_12_4\n",
      "Poshak_44_selMed_0_0_12_5\n",
      "Poshak_44_selMed_0_0_13_0\n",
      "Poshak_44_selMed_0_0_13_1\n",
      "Poshak_44_selMed_0_0_13_2\n",
      "Poshak_44_selMed_0_0_13_3\n",
      "Poshak_44_selMed_0_0_13_4\n",
      "Poshak_44_selMed_0_0_13_5\n",
      "Poshak_44_selMed_0_0_14_0\n",
      "Poshak_44_selMed_0_0_14_1\n",
      "Poshak_44_selMed_0_0_14_2\n",
      "Poshak_44_selMed_0_0_14_3\n",
      "Poshak_44_selMed_0_0_14_4\n",
      "Poshak_44_selMed_0_0_14_5\n",
      "Poshak_44_selMed_0_0_15_0\n",
      "Poshak_44_selMed_0_0_15_1\n",
      "Poshak_44_selMed_0_0_15_2\n",
      "Poshak_44_selMed_0_0_15_3\n",
      "Poshak_44_selMed_0_0_15_4\n",
      "Poshak_44_selMed_0_0_15_5\n"
     ]
    }
   ],
   "source": [
    "### Make function to replace starlist\n",
    "evaluateImage(valList,'/home/mj1e16/Simages/diff_44_1_alt.fits','/home/mj1e16/keplerPhotometry/provDump/44/selectiveMedian/',smallName='Poshak_44_selMed')"
   ]
  },
  {
   "cell_type": "code",
   "execution_count": null,
   "metadata": {
    "collapsed": true
   },
   "outputs": [],
   "source": []
  }
 ],
 "metadata": {
  "kernelspec": {
   "display_name": "Python 2",
   "language": "python",
   "name": "python2"
  },
  "language_info": {
   "codemirror_mode": {
    "name": "ipython",
    "version": 2
   },
   "file_extension": ".py",
   "mimetype": "text/x-python",
   "name": "python",
   "nbconvert_exporter": "python",
   "pygments_lexer": "ipython2",
   "version": "2.7.13"
  }
 },
 "nbformat": 4,
 "nbformat_minor": 2
}
