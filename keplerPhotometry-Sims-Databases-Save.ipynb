{
 "cells": [
  {
   "cell_type": "code",
   "execution_count": 43,
   "metadata": {
    "collapsed": true
   },
   "outputs": [],
   "source": [
    "import astroprov\n",
    "from astropy.io import fits\n",
    "from astropy.io.ascii import SExtractor\n",
    "from astropy.stats import sigma_clipped_stats\n",
    "from astropy.coordinates import SkyCoord\n",
    "import astropy.units as u\n",
    "import matplotlib.pyplot as plt\n",
    "import numpy as np\n",
    "import os\n",
    "from photutils import DAOStarFinder\n",
    "from photutils import CircularAperture\n",
    "from photutils import aperture_photometry\n",
    "#import subproc\n",
    "\n",
    "import numpy as np\n",
    "from astropy import wcs\n",
    "from astropy.io import fits\n",
    "import sys\n",
    "\n",
    "from astroquery.simbad import Simbad\n",
    "\n",
    "import matplotlib.pyplot as plt\n",
    "from astropy.visualization import SqrtStretch\n",
    "from astropy.visualization.mpl_normalize import ImageNormalize\n",
    "from astropy.table import Table\n",
    "from astropy.table import Column\n",
    "\n",
    "import collections\n",
    "import subprocess\n",
    "\n",
    "import time\n",
    "from multiprocessing import Pool"
   ]
  },
  {
   "cell_type": "code",
   "execution_count": 2,
   "metadata": {
    "collapsed": true
   },
   "outputs": [],
   "source": [
    "imagedirectory = '/home/mj1e16/keplerImages'\n",
    "\n",
    "newImagelist = []\n",
    "Image = os.listdir(imagedirectory)\n",
    "for i, item in enumerate(Image):\n",
    "    if item.find('.fits') != -1:\n",
    "        #print(i,Image[i].find('.fits'))\n",
    "        newImagelist.append(item)\n",
    "Image = newImagelist\n",
    "\n",
    "\n",
    "FWHM = 5.0\n",
    "MinSep = 0.8 #sets value for discriminating sources\n",
    "N = len(Image) #number of images minus 1 as it starts from zero\n",
    "imno = 0\n",
    "imagedata = []\n",
    "sources = dict()\n",
    "Date = []\n",
    "STD = []\n",
    "Median = []\n",
    "\n",
    "\n",
    "os.chdir(imagedirectory)\n",
    "def daoStarFinder(imagename):\n",
    "    \"\"\"\n",
    "    Locates and measures the brightness of all objects in the image as well as the sky background\n",
    "    and other image data.\n",
    "\n",
    "    :param imagenumber: Position of image in directory\n",
    "    :return: Table of object data, date of observation, image data for backround calculation\n",
    "    \"\"\"\n",
    "    #print(Image[imagenumber])\n",
    "    hdu_list = fits.open(imagename) # open image header\n",
    "    imagedata = (hdu_list[0].data) \n",
    "    mean, median, std = sigma_clipped_stats(imagedata, sigma=3.0, iters=5) \n",
    "    Median.append(median)\n",
    "    STD.append(std)\n",
    "    daofind = DAOStarFinder(fwhm=FWHM, threshold=5.*std) # iraf star finder \n",
    "    Sources = daofind(imagedata - median)\n",
    "    #Date = (hdu_list[0].header['MJD'])\n",
    "    output = {}\n",
    "    output[0] = Sources\n",
    "    output[1] = Date\n",
    "    output[2] = imagedata\n",
    "    \n",
    "#     fig, ax = plt.subplots(figsize=(10, 10))\n",
    "#     positions = (output[0]['xcentroid'], output[0]['ycentroid'])\n",
    "#     apertures = CircularAperture(positions, r=4.)\n",
    "#     norm = ImageNormalize(stretch=SqrtStretch())\n",
    "#     ax.imshow(imagedata, cmap='Greys', origin='lower', vmin=-100,vmax=100)#norm=norm)\n",
    "#     apertures.plot(color='blue', lw=1.5, alpha=0.5)\n",
    "#     plt.savefig('fits.png',dpi=100)\n",
    "#     plt.show()\n",
    "    \n",
    "    \n",
    "    \n",
    "#     os.chdir(bindingsdirectory)\n",
    "#     astroprov.provcall([imagenumber],[output[0],output[1],output[2]],\"daoStarFinder_PythonCode2Images_SQ_tmpl.provn\",\"daoStarFinder\")\n",
    "#     os.chdir(imagedirectory)\n",
    "    return output\n",
    "\n",
    "\n"
   ]
  },
  {
   "cell_type": "code",
   "execution_count": 3,
   "metadata": {
    "collapsed": true
   },
   "outputs": [],
   "source": [
    "def load_wcs_from_file(filename,pixCoord):\n",
    "    # Load the FITS hdulist using astropy.io.fits\n",
    "    hdulist = fits.open(filename)\n",
    "\n",
    "    # Parse the WCS keywords in the primary HDU\n",
    "    w = wcs.WCS(hdulist[0].header)\n",
    "\n",
    "    # Print out the \"name\" of the WCS, as defined in the FITS header\n",
    "    #print(w.wcs.name)\n",
    "\n",
    "    # Print out all of the settings that were parsed from the header\n",
    "    w.wcs.print_contents()\n",
    "\n",
    "    # Three pixel coordinates of interest.\n",
    "    # Note we've silently assumed a NAXIS=2 image here.\n",
    "    # Note also that the pixel coordinates are pairs of [X, Y], \n",
    "    # and since WCS built from FITS header automatically has\n",
    "    # origin set to 1, [0, 0] is actually not inside the image.\n",
    "    pixcrd = np.array(pixCoord, dtype=np.float_)\n",
    "\n",
    "    # Convert pixel coordinates to world coordinates\n",
    "    # The second argument is \"origin\" -- in this case we're declaring we\n",
    "    # have 1-based (Fortran-like) coordinates.\n",
    "    world = w.wcs_pix2world(pixcrd, 1)\n",
    "    #print(world)\n",
    "    return(world)\n",
    "#     # Convert the same coordinates back to pixel coordinates.\n",
    "#     pixcrd2 = w.wcs_world2pix(world, 1)\n",
    "#     print(pixcrd2)\n",
    "\n",
    "#     # These should be the same as the original pixel coordinates, modulo\n",
    "#     # some floating-point error.\n",
    "#     assert np.max(np.abs(pixcrd - pixcrd2)) < 1e-6\n",
    "\n",
    "\n"
   ]
  },
  {
   "cell_type": "code",
   "execution_count": 4,
   "metadata": {
    "collapsed": true
   },
   "outputs": [],
   "source": [
    "def queryObjectRegion(outputTable,imageName,inCat):\n",
    "    imageCoords = []\n",
    "    r = 1*u.arcminute\n",
    "    \n",
    "    if inCat == 'dao':\n",
    "        xlabel = 'xcentroid'\n",
    "        ylabel = 'ycentroid'\n",
    "        label = 'id'\n",
    "        \n",
    "    if inCat == 'sex':\n",
    "        xlabel = 'X_IMAGE'\n",
    "        ylabel = 'Y_IMAGE'\n",
    "        label = 'NUMBER'\n",
    "        \n",
    "    tableLength = outputTable[label][-1]\n",
    "    for x in range(tableLength):\n",
    "        xpos = outputTable[xlabel][x]\n",
    "        ypos = outputTable[ylabel][x]\n",
    "        if 20 < ypos < 1040:\n",
    "            if 12 < xpos < 1110:\n",
    "                imageCoords.append([xpos,ypos])\n",
    "                # this may need to change per image but I hope not\n",
    "\n",
    "    coords = load_wcs_from_file(imageName,imageCoords)\n",
    "    customSimbad = Simbad()\n",
    "    customSimbad.add_votable_fields('ra(d)','dec(d)','otype')\n",
    "    customSimbad.remove_votable_fields('coordinates')\n",
    "            \n",
    "    result_table = Table([['-'],[0],[0],['-'],[0],[0]],names=('MAIN_ID','RA_d','DEC_d','OTYPE','xcentroid','ycentroid'),dtype=('object','float64','float64','object','float64','float64'))\n",
    "\n",
    "    for x in range(len(imageCoords)):\n",
    "        try:\n",
    "            c = SkyCoord(coords[x][0],coords[x][1],frame='icrs',unit='deg')\n",
    "            rt = customSimbad.query_region(c,radius=r)\n",
    "            rowlist = []\n",
    "            for y in range(len(rt[0])):\n",
    "                rowlist.append(rt[0][y])\n",
    "            rowlist.append(imageCoords[x][0])\n",
    "            rowlist.append(imageCoords[x][1])\n",
    "            result_table.add_row(rowlist)\n",
    "\n",
    "        except:\n",
    "            result_table.add_row(['N/A',[0],[0],'Possible Transient',[imageCoords[x][0]],[imageCoords[x][1]]])\n",
    "    \n",
    "#     hdu_list = fits.open(imageName)\n",
    "#     imagedata = (hdu_list[0].data) \n",
    "#     fig, ax = plt.subplots(figsize=(10, 10))\n",
    "#     positions = (outputTable[xlabel], outputTable[ylabel])\n",
    "#     apertures = CircularAperture(positions, r=4.)\n",
    "#     norm = ImageNormalize(stretch=SqrtStretch())\n",
    "#     ax.imshow(imagedata, cmap='Greys', origin='lower', vmin=-100,vmax=100)#norm=norm)\n",
    "#     apertures.plot(color='blue', lw=1.5, alpha=0.5)\n",
    "#     #plt.savefig('fits.png',dpi=100)\n",
    "#     plt.show()\n",
    "    \n",
    "    return result_table"
   ]
  },
  {
   "cell_type": "code",
   "execution_count": 62,
   "metadata": {
    "collapsed": true
   },
   "outputs": [],
   "source": [
    "# def alterDefault(defaultDir,valList,attributeList):\n",
    "    \n",
    "#     with open(defaultDir+'/default.sex','r') as f:\n",
    "#         data  = f.read()\n",
    "        \n",
    "#     catName = '/data/mj1e16/sexOutTables/table'\n",
    "#     for x in range(len(valList)):\n",
    "#         nameLoc = data.find(attributeList[x]) + len(attributeList[x])\n",
    "#         endLoc = data[nameLoc:].find('#') + nameLoc\n",
    "#         newData = data[:nameLoc] + ' '+str(valList[x])+' ' + data[endLoc:]\n",
    "#         data = newData\n",
    "#         catName += '_'+str(valList[x])\n",
    "    \n",
    "#     catName += '.cat'\n",
    "#     name = 'CATALOG_NAME'\n",
    "#     nameLoc = data.find(name) + len(name)\n",
    "#     endLoc = data[nameLoc:].find('#') + nameLoc\n",
    "#     newData = data[:nameLoc] + ' '+catName+' ' + data[endLoc:]\n",
    "#     data = newData\n",
    "#     with open(defaultDir+'/default.sex','w') as f:\n",
    "#         f.write(data)"
   ]
  },
  {
   "cell_type": "code",
   "execution_count": 90,
   "metadata": {
    "collapsed": true
   },
   "outputs": [],
   "source": [
    "def alterDefault(valList,imagename='/home/mj1e16/iraf/editedImage5000.fits',defaultDir='/home/mj1e16/sextractor/sextractor-master/config/',attributeList=['DETECT_THRESH','DETECT_MINAREA','BACK_TYPE','BACK_VALUE','BACK_FILTERSIZE','BACK_SIZE']):\n",
    "    \n",
    "    with open(defaultDir+'/default.sex','r') as f:\n",
    "        data  = f.read()\n",
    "        \n",
    "    catName = '/data/mj1e16/sexOutTables/table'\n",
    "    for x in range(len(valList)):\n",
    "        nameLoc = data.find(attributeList[x]) + len(attributeList[x])\n",
    "        endLoc = data[nameLoc:].find('#') + nameLoc\n",
    "        newData = data[:nameLoc] + ' '+str(valList[x])+' ' + data[endLoc:]\n",
    "        data = newData\n",
    "        catName += '_'+str(valList[x])\n",
    "    \n",
    "#     catName += '.cat'\n",
    "#     name = 'CATALOG_NAME'\n",
    "#     nameLoc = data.find(name) + len(name)\n",
    "#     endLoc = data[nameLoc:].find('#') + nameLoc\n",
    "#     newData = data[:nameLoc] + ' '+catName+' ' + data[endLoc:]\n",
    "#     data = newData\n",
    "    \n",
    "    with open(defaultDir+'/default.sex','w') as f:\n",
    "        f.write(data)\n",
    "    os.chdir(defaultDir)\n",
    "    subprocess.call(['sex',imagename])"
   ]
  },
  {
   "cell_type": "code",
   "execution_count": 57,
   "metadata": {
    "collapsed": true
   },
   "outputs": [],
   "source": [
    "def sextractor(sextractoryDir,imagename):\n",
    "    os.chdir(sextractoryDir)\n",
    "    subprocess.call(['sex',imagename])"
   ]
  },
  {
   "cell_type": "code",
   "execution_count": null,
   "metadata": {
    "collapsed": true
   },
   "outputs": [],
   "source": [
    "def sexOutput(defaultDir,valList,attributeList,imagename,cataloguename):\n",
    "    alterDefault(defaultDir,valList,attributeList)\n",
    "    outTab = sextractor(defaultDir,imagename,cataloguename)\n",
    "    tableName = '/home/mj1e16/outTablesSex/table'\n",
    "    for x in range(len(valList)):\n",
    "        tableName += '_'+str(valList[x])+'_'\n",
    "    tableName += '.txt'\n",
    "    outTab.write(tableName,format='ecsv')"
   ]
  },
  {
   "cell_type": "code",
   "execution_count": 8,
   "metadata": {
    "collapsed": true
   },
   "outputs": [],
   "source": [
    "def findObjectOccurences(inputTable,columnName):\n",
    "    otype = inputTable[columnName]\n",
    "    otypelist = []\n",
    "    for x in range(len(otype)):\n",
    "        otypelist.append(otype[x])\n",
    "    #print(len(otypelist))\n",
    "    newotype = set(otypelist)\n",
    "    counter = collections.Counter(otypelist)\n",
    "    keys = counter.keys()\n",
    "    values = counter.values()\n",
    "    occurenceDict = dict(zip(keys,values))\n",
    "    od = collections.OrderedDict(sorted(occurenceDict.items()))\n",
    "    return od"
   ]
  },
  {
   "cell_type": "code",
   "execution_count": 9,
   "metadata": {
    "collapsed": true
   },
   "outputs": [],
   "source": [
    "def foundInBoth(daoTable,sexTable):\n",
    "    \n",
    "    # currently works after both have been checked through vizier - change sex x and y labels to X_IMAGE and Y_IMAGE otherwise\n",
    "    simdifsize = 5\n",
    "    \n",
    "    daox = daoTable['xcentroid'].tolist()\n",
    "    #daox = [round(x,1) for x in daox]\n",
    "    daoy = daoTable['ycentroid'].tolist()\n",
    "    #daoy = [round(x,1) for x in daoy]\n",
    "    #daocoords = zip(daox,daoy)\n",
    "    #print(daocoords)\n",
    "    \n",
    "    sexx = sexTable['xcentroid'].tolist()\n",
    "    #sexx = [round(x,1) for x in sexx]\n",
    "    sexy = sexTable['ycentroid'].tolist()\n",
    "    #sexy = [round(x,1) for x in sexy]\n",
    "\n",
    "    commonIndicies = [[x,y] for x,y,z,v in zip(daox,daoy,sexx,sexy) if z-simdifsize < x < z+simdifsize and v-simdifsize < y < v+simdifsize]\n",
    "    \n",
    "    return commonIndicies"
   ]
  },
  {
   "cell_type": "code",
   "execution_count": 10,
   "metadata": {
    "collapsed": true
   },
   "outputs": [],
   "source": [
    "imageName = 'difkplr2009115080620_ffi-cal57.fits'"
   ]
  },
  {
   "cell_type": "code",
   "execution_count": 20,
   "metadata": {},
   "outputs": [
    {
     "name": "stdout",
     "output_type": "stream",
     "text": [
      "0.254105806351\n"
     ]
    }
   ],
   "source": [
    "t0 = time.time()\n",
    "sextable = sextractor('/home/mj1e16/sextractor/sextractor-master/config/','difkplr2009115080620_ffi-cal57.fits[0]','test.cat')\n",
    "print(time.time()-t0)"
   ]
  },
  {
   "cell_type": "code",
   "execution_count": 51,
   "metadata": {
    "collapsed": true
   },
   "outputs": [],
   "source": [
    "sextable.write('/home/mj1e16/testtab.txt',format='ascii.ecsv',overwrite=True)"
   ]
  },
  {
   "cell_type": "code",
   "execution_count": 12,
   "metadata": {
    "collapsed": true
   },
   "outputs": [],
   "source": [
    "output = daoStarFinder('difkplr2009115080620_ffi-cal57.fits')\n",
    "daotable = output[0]\n",
    "Date = output[1]\n",
    "imagedata = output[2]"
   ]
  },
  {
   "cell_type": "code",
   "execution_count": 13,
   "metadata": {
    "collapsed": true
   },
   "outputs": [],
   "source": [
    "#coords = load_wcs_from_file('difkplr2009115080620_ffi-cal57.fits',imageCoords)"
   ]
  },
  {
   "cell_type": "code",
   "execution_count": 14,
   "metadata": {},
   "outputs": [
    {
     "name": "stderr",
     "output_type": "stream",
     "text": [
      "/home/mj1e16/miniconda2/envs/astroconda/lib/python2.7/site-packages/astroquery/simbad/core.py:136: UserWarning: Warning: The script line number 3 raised an error (recorded in the `errors` attribute of the result table): '19:34:18.8953 +47:44:41.8572': No astronomical object found :\n",
      "  (error.line, error.msg))\n",
      "/home/mj1e16/miniconda2/envs/astroconda/lib/python2.7/site-packages/astroquery/simbad/core.py:136: UserWarning: Warning: The script line number 3 raised an error (recorded in the `errors` attribute of the result table): '19:32:04.096 +47:34:21.8359': No astronomical object found :\n",
      "  (error.line, error.msg))\n",
      "/home/mj1e16/miniconda2/envs/astroconda/lib/python2.7/site-packages/astroquery/simbad/core.py:136: UserWarning: Warning: The script line number 3 raised an error (recorded in the `errors` attribute of the result table): '19:31:32.8117 +47:31:20.3122': No astronomical object found :\n",
      "  (error.line, error.msg))\n",
      "/home/mj1e16/miniconda2/envs/astroconda/lib/python2.7/site-packages/astroquery/simbad/core.py:136: UserWarning: Warning: The script line number 3 raised an error (recorded in the `errors` attribute of the result table): '19:32:03.9378 +47:34:54.6691': No astronomical object found :\n",
      "  (error.line, error.msg))\n",
      "/home/mj1e16/miniconda2/envs/astroconda/lib/python2.7/site-packages/astroquery/simbad/core.py:136: UserWarning: Warning: The script line number 3 raised an error (recorded in the `errors` attribute of the result table): '19:33:36.5188 +48:36:44.6276': No astronomical object found :\n",
      "  (error.line, error.msg))\n"
     ]
    }
   ],
   "source": [
    "result_table_dao = queryObjectRegion(daotable,'difkplr2009115080620_ffi-cal57.fits','dao')"
   ]
  },
  {
   "cell_type": "code",
   "execution_count": 15,
   "metadata": {},
   "outputs": [
    {
     "name": "stderr",
     "output_type": "stream",
     "text": [
      "/home/mj1e16/miniconda2/envs/astroconda/lib/python2.7/site-packages/astroquery/simbad/core.py:136: UserWarning: Warning: The script line number 3 raised an error (recorded in the `errors` attribute of the result table): '19:36:08.9234 +48:24:20.7876': No astronomical object found :\n",
      "  (error.line, error.msg))\n",
      "/home/mj1e16/miniconda2/envs/astroconda/lib/python2.7/site-packages/astroquery/simbad/core.py:136: UserWarning: Warning: The script line number 3 raised an error (recorded in the `errors` attribute of the result table): '19:35:07.605 +48:18:11.1485': No astronomical object found :\n",
      "  (error.line, error.msg))\n"
     ]
    }
   ],
   "source": [
    "result_table_sex = queryObjectRegion(sextable,'difkplr2009115080620_ffi-cal57.fits','sex')"
   ]
  },
  {
   "cell_type": "code",
   "execution_count": 55,
   "metadata": {
    "collapsed": true
   },
   "outputs": [],
   "source": [
    "#commonObjects = foundInBoth(result_table_dao,result_table_sex)\n",
    "#make final image w/ fake stars, test run, make 6 versions and test multiprocessing - RUN!\n",
    "dDir = '/home/mj1e16/sextractor/sextractor-master/config/'\n",
    "imageName = '/home/mj1e16/iraf/editedImage5000.fits'"
   ]
  },
  {
   "cell_type": "code",
   "execution_count": 69,
   "metadata": {},
   "outputs": [
    {
     "ename": "TypeError",
     "evalue": "object of type 'NoneType' has no len()",
     "output_type": "error",
     "traceback": [
      "\u001b[0;31m---------------------------------------------------------------------------\u001b[0m",
      "\u001b[0;31mTypeError\u001b[0m                                 Traceback (most recent call last)",
      "\u001b[0;32m<ipython-input-69-7bb60037ee0d>\u001b[0m in \u001b[0;36m<module>\u001b[0;34m()\u001b[0m\n\u001b[1;32m     19\u001b[0m                         \u001b[0mnewval\u001b[0m \u001b[0;34m=\u001b[0m \u001b[0mvalueList\u001b[0m\u001b[0;34m.\u001b[0m\u001b[0mappend\u001b[0m\u001b[0;34m(\u001b[0m\u001b[0mvalList\u001b[0m\u001b[0;34m[\u001b[0m\u001b[0;36m5\u001b[0m\u001b[0;34m]\u001b[0m\u001b[0;34m[\u001b[0m\u001b[0mx\u001b[0m\u001b[0;34m]\u001b[0m\u001b[0;34m)\u001b[0m\u001b[0;34m\u001b[0m\u001b[0m\n\u001b[1;32m     20\u001b[0m                         \u001b[0mfullValList\u001b[0m\u001b[0;34m.\u001b[0m\u001b[0mappend\u001b[0m\u001b[0;34m(\u001b[0m\u001b[0mnewval\u001b[0m\u001b[0;34m)\u001b[0m\u001b[0;34m\u001b[0m\u001b[0m\n\u001b[0;32m---> 21\u001b[0;31m                     \u001b[0mp\u001b[0m\u001b[0;34m.\u001b[0m\u001b[0mmap\u001b[0m\u001b[0;34m(\u001b[0m\u001b[0malterDefault\u001b[0m\u001b[0;34m,\u001b[0m\u001b[0mfullValList\u001b[0m\u001b[0;34m)\u001b[0m\u001b[0;34m\u001b[0m\u001b[0m\n\u001b[0m\u001b[1;32m     22\u001b[0m                     \u001b[0;31m#alterDefault(dDir,valueList,atList)\u001b[0m\u001b[0;34m\u001b[0m\u001b[0;34m\u001b[0m\u001b[0m\n\u001b[1;32m     23\u001b[0m                     \u001b[0;31m#sextractor(dDir,imageName)\u001b[0m\u001b[0;34m\u001b[0m\u001b[0;34m\u001b[0m\u001b[0m\n",
      "\u001b[0;32m/home/mj1e16/miniconda2/envs/astroconda/lib/python2.7/multiprocessing/pool.pyc\u001b[0m in \u001b[0;36mmap\u001b[0;34m(self, func, iterable, chunksize)\u001b[0m\n\u001b[1;32m    249\u001b[0m         '''\n\u001b[1;32m    250\u001b[0m         \u001b[0;32massert\u001b[0m \u001b[0mself\u001b[0m\u001b[0;34m.\u001b[0m\u001b[0m_state\u001b[0m \u001b[0;34m==\u001b[0m \u001b[0mRUN\u001b[0m\u001b[0;34m\u001b[0m\u001b[0m\n\u001b[0;32m--> 251\u001b[0;31m         \u001b[0;32mreturn\u001b[0m \u001b[0mself\u001b[0m\u001b[0;34m.\u001b[0m\u001b[0mmap_async\u001b[0m\u001b[0;34m(\u001b[0m\u001b[0mfunc\u001b[0m\u001b[0;34m,\u001b[0m \u001b[0miterable\u001b[0m\u001b[0;34m,\u001b[0m \u001b[0mchunksize\u001b[0m\u001b[0;34m)\u001b[0m\u001b[0;34m.\u001b[0m\u001b[0mget\u001b[0m\u001b[0;34m(\u001b[0m\u001b[0;34m)\u001b[0m\u001b[0;34m\u001b[0m\u001b[0m\n\u001b[0m\u001b[1;32m    252\u001b[0m \u001b[0;34m\u001b[0m\u001b[0m\n\u001b[1;32m    253\u001b[0m     \u001b[0;32mdef\u001b[0m \u001b[0mimap\u001b[0m\u001b[0;34m(\u001b[0m\u001b[0mself\u001b[0m\u001b[0;34m,\u001b[0m \u001b[0mfunc\u001b[0m\u001b[0;34m,\u001b[0m \u001b[0miterable\u001b[0m\u001b[0;34m,\u001b[0m \u001b[0mchunksize\u001b[0m\u001b[0;34m=\u001b[0m\u001b[0;36m1\u001b[0m\u001b[0;34m)\u001b[0m\u001b[0;34m:\u001b[0m\u001b[0;34m\u001b[0m\u001b[0m\n",
      "\u001b[0;32m/home/mj1e16/miniconda2/envs/astroconda/lib/python2.7/multiprocessing/pool.pyc\u001b[0m in \u001b[0;36mget\u001b[0;34m(self, timeout)\u001b[0m\n\u001b[1;32m    565\u001b[0m             \u001b[0;32mreturn\u001b[0m \u001b[0mself\u001b[0m\u001b[0;34m.\u001b[0m\u001b[0m_value\u001b[0m\u001b[0;34m\u001b[0m\u001b[0m\n\u001b[1;32m    566\u001b[0m         \u001b[0;32melse\u001b[0m\u001b[0;34m:\u001b[0m\u001b[0;34m\u001b[0m\u001b[0m\n\u001b[0;32m--> 567\u001b[0;31m             \u001b[0;32mraise\u001b[0m \u001b[0mself\u001b[0m\u001b[0;34m.\u001b[0m\u001b[0m_value\u001b[0m\u001b[0;34m\u001b[0m\u001b[0m\n\u001b[0m\u001b[1;32m    568\u001b[0m \u001b[0;34m\u001b[0m\u001b[0m\n\u001b[1;32m    569\u001b[0m     \u001b[0;32mdef\u001b[0m \u001b[0m_set\u001b[0m\u001b[0;34m(\u001b[0m\u001b[0mself\u001b[0m\u001b[0;34m,\u001b[0m \u001b[0mi\u001b[0m\u001b[0;34m,\u001b[0m \u001b[0mobj\u001b[0m\u001b[0;34m)\u001b[0m\u001b[0;34m:\u001b[0m\u001b[0;34m\u001b[0m\u001b[0m\n",
      "\u001b[0;31mTypeError\u001b[0m: object of type 'NoneType' has no len()"
     ]
    }
   ],
   "source": [
    "atList = ['DETECT_THRESH','DETECT_MINAREA','BACK_TYPE','BACK_VALUE','BACK_FILTERSIZE','BACK_SIZE']\n",
    "\n",
    "valList = [np.linspace(1.5,5,35),np.linspace(1,20,20),['AUTO','MANUAL'],np.linspace(0,20,41),np.linspace(1,11,11),[16,32,64,128,256,512]]\n",
    "\n",
    "# for x in range(len(atList)):\n",
    "#     valueList = []\n",
    "#     for y in range(len(valList[x])):\n",
    "#         valueList.append(valList[x][y])\n",
    "p = Pool(6)\n",
    "for x0 in range(len(valList[0])):\n",
    "    for x1 in range(len(valList[1])):\n",
    "        for x2 in range(len(valList[2])):\n",
    "            for x3 in range(len(valList[3])):\n",
    "                for x4 in range(len(valList[4])):\n",
    "                    #for x5 in range(1): #len(valList[5])):\n",
    "                    valueList = [valList[0][x0],valList[1][x1],valList[2][x2],valList[3][x3],valList[4][x4]]# ,valList[5][0]]\n",
    "                    valueList.append(0)\n",
    "                    fullValList = []\n",
    "                    for x in range(len(valList[5])):\n",
    "                        valueList[5] = valList[5][x]\n",
    "                        fullValList.append(newval)\n",
    "                    p.map(alterDefault,fullValList)\n",
    "                    #alterDefault(dDir,valueList,atList)\n",
    "                    #sextractor(dDir,imageName)"
   ]
  },
  {
   "cell_type": "code",
   "execution_count": 85,
   "metadata": {},
   "outputs": [
    {
     "name": "stdout",
     "output_type": "stream",
     "text": [
      "# Default configuration file for SExtractor 2.12.4\n",
      "# EB 2010-10-10\n",
      "#\n",
      " \n",
      "#-------------------------------- Catalog ------------------------------------\n",
      " \n",
      "CATALOG_NAME /data/mj1e16/sexOutTables/table_1.5_1.0_AUTO_0.0_1.0_16.cat # name of the output catalog\n",
      "CATALOG_TYPE     ASCII_HEAD     # NONE,ASCII,ASCII_HEAD, ASCII_SKYCAT,\n",
      "                                # ASCII_VOTABLE, FITS_1.0 or FITS_LDAC\n",
      "PARAMETERS_NAME  default.param  # name of the file containing catalog contents\n",
      " \n",
      "#------------------------------- Extraction ----------------------------------\n",
      " \n",
      "DETECT_TYPE      CCD            # CCD (linear) or PHOTO (with gamma correction)\n",
      "DETECT_MINAREA 1.0 # min. # of pixels above threshold\n",
      "\n",
      "DETECT_THRESH 1.5 # <sigmas> or <threshold>,<ZP> in mag.arcsec-2\n",
      "ANALYSIS_THRESH  1.5            # <sigmas> or <threshold>,<ZP> in mag.arcsec-2\n",
      " \n",
      "FILTER           Y              # apply filter for detection (Y or N)?\n",
      "FILTER_NAME      default.conv   # name of the file containing the filter\n",
      " \n",
      "DEBLEND_NTHRESH  32             # Number of deblending sub-thresholds\n",
      "DEBLEND_MINCONT  0.005          # Minimum contrast parameter for deblending\n",
      " \n",
      "CLEAN            Y              # Clean spurious detections? (Y or N)?\n",
      "CLEAN_PARAM      1.0            # Cleaning efficiency\n",
      " \n",
      "#-------------------------------- WEIGHTing ----------------------------------\n",
      "\n",
      "WEIGHT_TYPE      NONE           # type of WEIGHTing: NONE, BACKGROUND,\n",
      "                                # MAP_RMS, MAP_VAR or MAP_WEIGHT\n",
      "WEIGHT_IMAGE     weight.fits    # weight-map filename\n",
      "\n",
      "#-------------------------------- FLAGging -----------------------------------\n",
      "\n",
      "FLAG_IMAGE       flag.fits      # filename for an input FLAG-image\n",
      "FLAG_TYPE        OR             # flag pixel combination: OR, AND, MIN, MAX\n",
      "                                # or MOST\n",
      "\n",
      "#------------------------------ Photometry -----------------------------------\n",
      " \n",
      "PHOT_APERTURES   5              # MAG_APER aperture diameter(s) in pixels\n",
      "PHOT_AUTOPARAMS  2.5, 3.5       # MAG_AUTO parameters: <Kron_fact>,<min_radius>\n",
      "PHOT_PETROPARAMS 2.0, 3.5       # MAG_PETRO parameters: <Petrosian_fact>,\n",
      "                                # <min_radius>\n",
      "PHOT_AUTOAPERS   0.0,0.0        # <estimation>,<measurement> minimum apertures\n",
      "                                # for MAG_AUTO and MAG_PETRO\n",
      "\n",
      "SATUR_LEVEL      50000.0        # level (in ADUs) at which arises saturation\n",
      "SATUR_KEY        SATURATE       # keyword for saturation level (in ADUs)\n",
      " \n",
      "MAG_ZEROPOINT    0.0            # magnitude zero-point\n",
      "MAG_GAMMA        4.0            # gamma of emulsion (for photographic scans)\n",
      "GAIN             0.0            # detector gain in e-/ADU\n",
      "GAIN_KEY         GAIN           # keyword for detector gain in e-/ADU\n",
      "PIXEL_SCALE      1.0            # size of pixel in arcsec (0=use FITS WCS info)\n",
      " \n",
      "#------------------------- Star/Galaxy Separation ----------------------------\n",
      " \n",
      "SEEING_FWHM      1.2            # stellar FWHM in arcsec\n",
      "STARNNW_NAME     default.nnw    # Neural-Network_Weight table filename\n",
      " \n",
      "#------------------------------ Background -----------------------------------\n",
      " \n",
      "BACK_TYPE AUTO # AUTO or MANUAL\n",
      "BACK_VALUE 0.0 # Default background value in MANUAL mode\n",
      "BACK_SIZE 16 # Background mesh: <size> or <width>,<height>\n",
      "BACK_FILTERSIZE 1.0 # Background filter: <size> or <width>,<height>\n",
      " \n",
      "#------------------------------ Check Image ----------------------------------\n",
      " \n",
      "CHECKIMAGE_TYPE  BACKGROUND     # can be NONE, BACKGROUND, BACKGROUND_RMS,\n",
      "                                # MINIBACKGROUND, MINIBACK_RMS, -BACKGROUND,\n",
      "                                # FILTERED, OBJECTS, -OBJECTS, SEGMENTATION,\n",
      "                                # or APERTURES\n",
      "CHECKIMAGE_NAME  background.fits     # Filename for the check-image\n",
      " \n",
      "#--------------------- Memory (change with caution!) -------------------------\n",
      " \n",
      "MEMORY_OBJSTACK  3000           # number of objects in stack\n",
      "MEMORY_PIXSTACK  300000         # number of pixels in stack\n",
      "MEMORY_BUFSIZE   1024           # number of lines in buffer\n",
      " \n",
      "#------------------------------- ASSOCiation ---------------------------------\n",
      "\n",
      "ASSOC_NAME       sky.list       # name of the ASCII file to ASSOCiate\n",
      "ASSOC_DATA       2,3,4          # columns of the data to replicate (0=all)\n",
      "ASSOC_PARAMS     2,3,4          # columns of xpos,ypos[,mag]\n",
      "ASSOC_RADIUS     2.0            # cross-matching radius (pixels)\n",
      "ASSOC_TYPE       NEAREST        # ASSOCiation method: FIRST, NEAREST, MEAN,\n",
      "                                # MAG_MEAN, SUM, MAG_SUM, MIN or MAX\n",
      "ASSOCSELEC_TYPE  MATCHED        # ASSOC selection type: ALL, MATCHED or -MATCHED\n",
      "\n",
      "#----------------------------- Miscellaneous ---------------------------------\n",
      " \n",
      "VERBOSE_TYPE     NORMAL         # can be QUIET, NORMAL or FULL\n",
      "HEADER_SUFFIX    .head          # Filename extension for additional headers\n",
      "WRITE_XML        N              # Write XML file (Y/N)?\n",
      "XML_NAME         sex.xml        # Filename for XML output\n",
      "XSL_URL          file:///usr/local/share/sextractor/sextractor.xsl\n",
      "                                # Filename for XSL style-sheet\n",
      "\n",
      "\n",
      "[1.5, 1.0, 'AUTO', 0.0, 1.0, 512]\n",
      "[[1.5, 1.0, 'AUTO', 0.0, 1.0, 16]]\n"
     ]
    }
   ],
   "source": [
    "atList = ['DETECT_THRESH','DETECT_MINAREA','BACK_TYPE','BACK_VALUE','BACK_FILTERSIZE','BACK_SIZE']\n",
    "\n",
    "valList = [np.linspace(1.5,5,35),np.linspace(1,20,20),['AUTO','MANUAL'],np.linspace(0,20,41),np.linspace(1,11,11),[16,32,64,128,256,512]]\n",
    "\n",
    "# for x in range(len(atList)):\n",
    "#     valueList = []\n",
    "#     for y in range(len(valList[x])):\n",
    "#         valueList.append(valList[x][y])\n",
    "p = Pool(6)\n",
    "for x0 in range(1): #len(valList[0])):\n",
    "    for x1 in range(1): #len(valList[1])):\n",
    "        for x2 in range(1): #len(valList[2])):\n",
    "            for x3 in range(1): #len(valList[3])):\n",
    "                for x4 in range(1): #len(valList[4])):\n",
    "                    fullValList = []\n",
    "                    for x5 in range(1): #len(valList[5])):\n",
    "                        #valueList = [valList[0][x0],valList[1][x1],valList[2][x2],valList[3][x3],valList[4][x4],valList[5][x5]]# ,valList[5][0]]\n",
    "                        fullValList.append([valList[0][x0],valList[1][x1],valList[2][x2],valList[3][x3],valList[4][x4],valList[5][x5]])\n",
    "                    #print(fullValList)\n",
    "                    p.map(alterDefault,fullValList)\n",
    "\n",
    "print(valueList)                    \n",
    "#print()                    \n",
    "print(fullValList)"
   ]
  },
  {
   "cell_type": "code",
   "execution_count": 75,
   "metadata": {},
   "outputs": [
    {
     "name": "stdout",
     "output_type": "stream",
     "text": [
      "[0, 1, 2, 3]\n"
     ]
    }
   ],
   "source": [
    "a = [0,1,2]\n",
    "a.extend([3])\n",
    "print(a)"
   ]
  },
  {
   "cell_type": "code",
   "execution_count": 87,
   "metadata": {},
   "outputs": [
    {
     "name": "stdout",
     "output_type": "stream",
     "text": [
      "3788400\n"
     ]
    }
   ],
   "source": [
    "ten = 100 \n",
    "a = 35*20*2*41*11*6\n",
    "print(a)"
   ]
  },
  {
   "cell_type": "code",
   "execution_count": 89,
   "metadata": {},
   "outputs": [
    {
     "data": {
      "text/plain": [
       "2750"
      ]
     },
     "execution_count": 89,
     "metadata": {},
     "output_type": "execute_result"
    }
   ],
   "source": [
    "(a*726)/1000000"
   ]
  },
  {
   "cell_type": "code",
   "execution_count": null,
   "metadata": {
    "collapsed": true
   },
   "outputs": [],
   "source": []
  },
  {
   "cell_type": "code",
   "execution_count": 42,
   "metadata": {},
   "outputs": [
    {
     "name": "stdout",
     "output_type": "stream",
     "text": [
      "0.972222222222\n",
      "0.00266179937638\n"
     ]
    }
   ],
   "source": [
    "secs = a*0.25\n",
    "days = secs/86400\n",
    "print(days)\n",
    "years = days/365.25\n",
    "print(years)"
   ]
  },
  {
   "cell_type": "code",
   "execution_count": 16,
   "metadata": {},
   "outputs": [
    {
     "name": "stdout",
     "output_type": "stream",
     "text": [
      "('Sex', OrderedDict([('-', 1), ('Possible Transient', 2482), ('RGB*', 2), ('Radio', 1), ('Star', 8)]))\n",
      "('dao', OrderedDict([('-', 1), ('Eruptive*', 2), ('Possible Transient', 503), ('RGB*', 4), ('RotV*', 1), ('Star', 19)]))\n"
     ]
    }
   ],
   "source": [
    "otypes = findObjectOccurences(result_table_sex,'OTYPE')\n",
    "#otypyes \n",
    "print('Sex',otypes)\n",
    "otypes = findObjectOccurences(result_table_dao,'OTYPE')\n",
    "print('dao',otypes)"
   ]
  },
  {
   "cell_type": "code",
   "execution_count": 17,
   "metadata": {},
   "outputs": [
    {
     "name": "stdout",
     "output_type": "stream",
     "text": [
      "MAIN_ID RA_d DEC_d OTYPE xcentroid ycentroid\n",
      "------- ---- ----- ----- --------- ---------\n"
     ]
    }
   ],
   "source": [
    "mask = (result_table_sex['OTYPE']=='Inexistent')\n",
    "print(result_table_sex[mask])"
   ]
  },
  {
   "cell_type": "code",
   "execution_count": null,
   "metadata": {
    "collapsed": true
   },
   "outputs": [],
   "source": []
  }
 ],
 "metadata": {
  "kernelspec": {
   "display_name": "Python 2",
   "language": "python",
   "name": "python2"
  },
  "language_info": {
   "codemirror_mode": {
    "name": "ipython",
    "version": 2
   },
   "file_extension": ".py",
   "mimetype": "text/x-python",
   "name": "python",
   "nbconvert_exporter": "python",
   "pygments_lexer": "ipython2",
   "version": "2.7.13"
  }
 },
 "nbformat": 4,
 "nbformat_minor": 2
}
