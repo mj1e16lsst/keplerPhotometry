{
 "cells": [
  {
   "cell_type": "code",
   "execution_count": 1,
   "metadata": {
    "collapsed": true
   },
   "outputs": [],
   "source": [
    "import os\n",
    "\n",
    "from astropy.table import Table, vstack\n",
    "from astropy.io import ascii"
   ]
  },
  {
   "cell_type": "code",
   "execution_count": 3,
   "metadata": {
    "collapsed": true
   },
   "outputs": [],
   "source": [
    "imDir = '/home/mj1e16/outTablesImproved/imagecsv/'\n",
    "imageList = os.listdir(imDir)"
   ]
  },
  {
   "cell_type": "code",
   "execution_count": 6,
   "metadata": {
    "collapsed": false
   },
   "outputs": [],
   "source": [
    "brokenIms = []\n",
    "for im in imageList:\n",
    "    tab = ascii.read(imDir+im)\n",
    "    try:\n",
    "        value = tab['RA'][10]\n",
    "    except:\n",
    "        brokenIms.append(im)\n",
    "    #print(value)"
   ]
  },
  {
   "cell_type": "code",
   "execution_count": 7,
   "metadata": {
    "collapsed": false
   },
   "outputs": [
    {
     "data": {
      "text/plain": [
       "['kplr2012211123923_ffi-cal.fits[8].csv',\n",
       " 'kplr2012060123308_ffi-cal.fits[5].csv',\n",
       " 'kplr2010140101631_ffi-cal.fits[6].csv',\n",
       " 'kplr2012179140901_ffi-cal.fits[8].csv',\n",
       " 'kplr2010078174524_ffi-cal.fits[6].csv',\n",
       " 'kplr2012151105138_ffi-cal.fits[5].csv',\n",
       " 'kplr2012060123308_ffi-cal.fits[8].csv',\n",
       " 'kplr2011334181008_ffi-cal.fits[6].csv',\n",
       " 'kplr2010326181728_ffi-cal.fits[5].csv',\n",
       " 'kplr2011240181752_ffi-cal.fits[6].csv',\n",
       " 'kplr2010140101631_ffi-cal.fits[8].csv',\n",
       " 'kplr2010356020128_ffi-cal.fits[8].csv',\n",
       " 'kplr2011177110110_ffi-cal.fits[5].csv',\n",
       " 'kplr2013011160902_ffi-cal.fits[8].csv',\n",
       " 'kplr2012341215621_ffi-cal.fits[6].csv',\n",
       " 'kplr2012088132324_ffi-cal.fits[5].csv',\n",
       " 'kplr2010234192745_ffi-cal.fits[5].csv',\n",
       " 'kplr2010234192745_ffi-cal.fits[6].csv',\n",
       " 'kplr2010356020128_ffi-cal.fits[7].csv',\n",
       " 'kplr2011208112727_ffi-cal.fits[8].csv',\n",
       " 'kplr2011145152723_ffi-cal.fits[6].csv',\n",
       " 'kplr2012277203051_ffi-cal.fits[7].csv',\n",
       " 'kplr2010265195356_ffi-cal.fits[8].csv',\n",
       " 'kplr2010203012215_ffi-cal.fits[7].csv',\n",
       " 'kplr2010049182302_ffi-cal.fits[7].csv',\n",
       " 'kplr2011334181008_ffi-cal.fits[7].csv',\n",
       " 'kplr2011334181008_ffi-cal.fits[5].csv',\n",
       " 'kplr2011208112727_ffi-cal.fits[7].csv',\n",
       " 'kplr2011271191331_ffi-cal.fits[5].csv',\n",
       " 'kplr2011177110110_ffi-cal.fits[8].csv',\n",
       " 'kplr2012310200152_ffi-cal.fits[7].csv',\n",
       " 'kplr2011334181008_ffi-cal.fits[8].csv',\n",
       " 'kplr2011024134926_ffi-cal.fits[5].csv',\n",
       " 'kplr2013098115308_ffi-cal.fits[7].csv',\n",
       " 'kplr2010078174524_ffi-cal.fits[8].csv',\n",
       " 'kplr2010020005046_ffi-cal.fits[8].csv',\n",
       " 'kplr2010326181728_ffi-cal.fits[7].csv',\n",
       " 'kplr2011053174401_ffi-cal.fits[8].csv',\n",
       " 'kplr2012341215621_ffi-cal.fits[7].csv',\n",
       " 'kplr2010203012215_ffi-cal.fits[5].csv',\n",
       " 'kplr2013098115308_ffi-cal.fits[8].csv',\n",
       " 'kplr2010078174524_ffi-cal.fits[7].csv',\n",
       " 'kplr2010326181728_ffi-cal.fits[8].csv',\n",
       " 'kplr2010234192745_ffi-cal.fits[7].csv',\n",
       " 'kplr2010111125026_ffi-cal.fits[6].csv',\n",
       " 'kplr2013011160902_ffi-cal.fits[5].csv',\n",
       " 'kplr2013038133130_ffi-cal.fits[6].csv',\n",
       " 'kplr2012004204112_ffi-cal.fits[7].csv',\n",
       " 'kplr2013065115251_ffi-cal.fits[8].csv',\n",
       " 'kplr2013065115251_ffi-cal.fits[7].csv',\n",
       " 'kplr2013065115251_ffi-cal.fits[6].csv',\n",
       " 'kplr2012310200152_ffi-cal.fits[5].csv',\n",
       " 'kplr2011024134926_ffi-cal.fits[7].csv',\n",
       " 'kplr2011053174401_ffi-cal.fits[5].csv',\n",
       " 'kplr2011303191211_ffi-cal.fits[7].csv',\n",
       " 'kplr2010174164113_ffi-cal.fits[8].csv',\n",
       " 'kplr2010049182302_ffi-cal.fits[6].csv',\n",
       " 'kplr2011240181752_ffi-cal.fits[8].csv',\n",
       " 'kplr2010203012215_ffi-cal.fits[6].csv',\n",
       " 'kplr2010019225502_ffi-cal.fits[8].csv',\n",
       " 'kplr2010296192119_ffi-cal.fits[6].csv',\n",
       " 'kplr2010049182302_ffi-cal.fits[8].csv',\n",
       " 'kplr2010140101631_ffi-cal.fits[7].csv',\n",
       " 'kplr2011177110110_ffi-cal.fits[6].csv',\n",
       " 'kplr2012088132324_ffi-cal.fits[7].csv',\n",
       " 'kplr2011024134926_ffi-cal.fits[6].csv',\n",
       " 'kplr2013011160902_ffi-cal.fits[6].csv',\n",
       " 'kplr2013098115308_ffi-cal.fits[6].csv',\n",
       " 'kplr2012032101442_ffi-cal.fits[8].csv',\n",
       " 'kplr2010140101631_ffi-cal.fits[5].csv',\n",
       " 'kplr2012277203051_ffi-cal.fits[8].csv',\n",
       " 'kplr2010265195356_ffi-cal.fits[5].csv',\n",
       " 'kplr2011053174401_ffi-cal.fits[6].csv',\n",
       " 'kplr2012277203051_ffi-cal.fits[5].csv',\n",
       " 'kplr2010234192745_ffi-cal.fits[8].csv',\n",
       " 'kplr2011208112727_ffi-cal.fits[6].csv',\n",
       " 'kplr2013065115251_ffi-cal.fits[5].csv',\n",
       " 'kplr2011303191211_ffi-cal.fits[6].csv',\n",
       " 'kplr2010296192119_ffi-cal.fits[8].csv',\n",
       " 'kplr2010356020128_ffi-cal.fits[6].csv',\n",
       " 'kplr2012310200152_ffi-cal.fits[8].csv',\n",
       " 'kplr2012310200152_ffi-cal.fits[6].csv',\n",
       " 'kplr2010078174524_ffi-cal.fits[5].csv',\n",
       " 'kplr2012088132324_ffi-cal.fits[8].csv',\n",
       " 'kplr2013038133130_ffi-cal.fits[7].csv',\n",
       " 'kplr2013098115308_ffi-cal.fits[5].csv',\n",
       " 'kplr2012060123308_ffi-cal.fits[6].csv',\n",
       " 'kplr2012004204112_ffi-cal.fits[8].csv',\n",
       " 'kplr2011177110110_ffi-cal.fits[7].csv',\n",
       " 'kplr2012211123923_ffi-cal.fits[5].csv',\n",
       " 'kplr2011116104002_ffi-cal.fits[7].csv',\n",
       " 'kplr2010020005046_ffi-cal.fits[5].csv',\n",
       " 'kplr2011208112727_ffi-cal.fits[5].csv',\n",
       " 'kplr2012004204112_ffi-cal.fits[6].csv',\n",
       " 'kplr2010020005046_ffi-cal.fits[6].csv',\n",
       " 'kplr2011303191211_ffi-cal.fits[5].csv',\n",
       " 'kplr2010019225502_ffi-cal.fits[6].csv',\n",
       " 'kplr2010356020128_ffi-cal.fits[5].csv',\n",
       " 'kplr2010019225502_ffi-cal.fits[7].csv',\n",
       " 'kplr2010019225502_ffi-cal.fits[5].csv',\n",
       " 'kplr2012121122500_ffi-cal.fits[8].csv',\n",
       " 'kplr2013038133130_ffi-cal.fits[5].csv',\n",
       " 'kplr2010265195356_ffi-cal.fits[7].csv',\n",
       " 'kplr2012032101442_ffi-cal.fits[7].csv',\n",
       " 'kplr2010111125026_ffi-cal.fits[8].csv',\n",
       " 'kplr2012151105138_ffi-cal.fits[7].csv',\n",
       " 'kplr2011145152723_ffi-cal.fits[7].csv',\n",
       " 'kplr2011116104002_ffi-cal.fits[6].csv',\n",
       " 'kplr2012121122500_ffi-cal.fits[6].csv',\n",
       " 'kplr2010049182302_ffi-cal.fits[5].csv',\n",
       " 'kplr2011240181752_ffi-cal.fits[7].csv',\n",
       " 'kplr2010265195356_ffi-cal.fits[6].csv',\n",
       " 'kplr2012121122500_ffi-cal.fits[7].csv',\n",
       " 'kplr2011145152723_ffi-cal.fits[8].csv',\n",
       " 'kplr2012341215621_ffi-cal.fits[5].csv',\n",
       " 'kplr2011271191331_ffi-cal.fits[8].csv',\n",
       " 'kplr2011303191211_ffi-cal.fits[8].csv',\n",
       " 'kplr2012179140901_ffi-cal.fits[5].csv',\n",
       " 'kplr2010020005046_ffi-cal.fits[7].csv',\n",
       " 'kplr2011271191331_ffi-cal.fits[7].csv',\n",
       " 'kplr2010111125026_ffi-cal.fits[7].csv',\n",
       " 'kplr2011271191331_ffi-cal.fits[6].csv',\n",
       " 'kplr2010203012215_ffi-cal.fits[8].csv',\n",
       " 'kplr2012179140901_ffi-cal.fits[7].csv',\n",
       " 'kplr2012151105138_ffi-cal.fits[6].csv',\n",
       " 'kplr2013038133130_ffi-cal.fits[8].csv',\n",
       " 'kplr2012242195726_ffi-cal.fits[7].csv',\n",
       " 'kplr2011024134926_ffi-cal.fits[8].csv',\n",
       " 'kplr2010296192119_ffi-cal.fits[5].csv',\n",
       " 'kplr2012088132324_ffi-cal.fits[6].csv',\n",
       " 'kplr2012277203051_ffi-cal.fits[6].csv',\n",
       " 'kplr2010174164113_ffi-cal.fits[5].csv',\n",
       " 'kplr2010111125026_ffi-cal.fits[5].csv',\n",
       " 'kplr2010326181728_ffi-cal.fits[6].csv',\n",
       " 'kplr2012032101442_ffi-cal.fits[6].csv',\n",
       " 'kplr2012151105138_ffi-cal.fits[8].csv',\n",
       " 'kplr2011116104002_ffi-cal.fits[5].csv',\n",
       " 'kplr2012211123923_ffi-cal.fits[7].csv',\n",
       " 'kplr2012121122500_ffi-cal.fits[5].csv',\n",
       " 'kplr2012242195726_ffi-cal.fits[5].csv',\n",
       " 'kplr2010174164113_ffi-cal.fits[6].csv',\n",
       " 'kplr2013011160902_ffi-cal.fits[7].csv',\n",
       " 'kplr2010296192119_ffi-cal.fits[7].csv',\n",
       " 'kplr2012060123308_ffi-cal.fits[7].csv',\n",
       " 'kplr2010174164113_ffi-cal.fits[7].csv',\n",
       " 'kplr2012242195726_ffi-cal.fits[6].csv',\n",
       " 'kplr2011145152723_ffi-cal.fits[5].csv',\n",
       " 'kplr2012004204112_ffi-cal.fits[5].csv',\n",
       " 'kplr2011240181752_ffi-cal.fits[5].csv',\n",
       " 'kplr2012032101442_ffi-cal.fits[5].csv',\n",
       " 'kplr2012211123923_ffi-cal.fits[6].csv',\n",
       " 'kplr2011116104002_ffi-cal.fits[8].csv',\n",
       " 'kplr2012341215621_ffi-cal.fits[8].csv',\n",
       " 'kplr2012179140901_ffi-cal.fits[6].csv',\n",
       " 'kplr2011053174401_ffi-cal.fits[7].csv',\n",
       " 'kplr2012242195726_ffi-cal.fits[8].csv']"
      ]
     },
     "execution_count": 7,
     "metadata": {},
     "output_type": "execute_result"
    }
   ],
   "source": [
    "brokenIms"
   ]
  },
  {
   "cell_type": "code",
   "execution_count": 8,
   "metadata": {
    "collapsed": false
   },
   "outputs": [
    {
     "name": "stdout",
     "output_type": "stream",
     "text": [
      "156\n"
     ]
    }
   ],
   "source": [
    "print(len(brokenIms))"
   ]
  },
  {
   "cell_type": "code",
   "execution_count": 10,
   "metadata": {
    "collapsed": true
   },
   "outputs": [],
   "source": [
    "with open('brokenIms.py','w') as f:\n",
    "    f.write('brokenIms = '+str(brokenIms))"
   ]
  },
  {
   "cell_type": "code",
   "execution_count": 9,
   "metadata": {
    "collapsed": false
   },
   "outputs": [
    {
     "name": "stdout",
     "output_type": "stream",
     "text": [
      "4454\n"
     ]
    }
   ],
   "source": [
    "print(len(imageList))"
   ]
  },
  {
   "cell_type": "code",
   "execution_count": null,
   "metadata": {
    "collapsed": true
   },
   "outputs": [],
   "source": []
  }
 ],
 "metadata": {
  "kernelspec": {
   "display_name": "Python 2",
   "language": "python",
   "name": "python2"
  },
  "language_info": {
   "codemirror_mode": {
    "name": "ipython",
    "version": 2
   },
   "file_extension": ".py",
   "mimetype": "text/x-python",
   "name": "python",
   "nbconvert_exporter": "python",
   "pygments_lexer": "ipython2",
   "version": "2.7.13"
  }
 },
 "nbformat": 4,
 "nbformat_minor": 2
}
