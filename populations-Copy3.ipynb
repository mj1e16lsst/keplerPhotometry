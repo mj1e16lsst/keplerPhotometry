{
 "cells": [
  {
   "cell_type": "code",
   "execution_count": 163,
   "metadata": {
    "collapsed": true
   },
   "outputs": [],
   "source": [
    "import os\n",
    "\n",
    "from astropy.table import Table\n",
    "from astropy.io import ascii\n",
    "from astropy.io import fits\n",
    "from astropy.wcs import WCS\n",
    "from astropy.coordinates import SkyCoord\n",
    "from astropy import units as u\n",
    "\n",
    "import numpy as np\n",
    "\n",
    "import pandas as pd\n",
    "\n",
    "from regions import PixCoord, PolygonSkyRegion, PolygonPixelRegion\n",
    "\n",
    "import sfdmap\n",
    "\n",
    "from scipy.integrate import quad, dblquad, tplquad\n",
    "\n"
   ]
  },
  {
   "cell_type": "code",
   "execution_count": 61,
   "metadata": {
    "collapsed": false
   },
   "outputs": [],
   "source": [
    "# from dustmaps.config import config\n",
    "# config['data_dir'] = '/home/mj1e16/DUST_DIR/'\n",
    "\n",
    "# import dustmaps.sfd\n",
    "# dustmaps.sfd.fetch()"
   ]
  },
  {
   "cell_type": "code",
   "execution_count": 66,
   "metadata": {
    "collapsed": false
   },
   "outputs": [],
   "source": [
    "schalf_dust_map = sfdmap.SFDMap('/home/mj1e16/DUST_DIR/sfd')"
   ]
  },
  {
   "cell_type": "code",
   "execution_count": 2,
   "metadata": {
    "collapsed": true
   },
   "outputs": [],
   "source": [
    "databaseDir = '/home/mj1e16/outTablesImproved/extendedMagRange/'\n",
    "imdir = r'/media/mj1e16/PP AV-TV/keplerCal/'\n",
    "image = r'/media/mj1e16/PP AV-TV/keplerCal/kplr2009114174833_ffi-cal.fits'"
   ]
  },
  {
   "cell_type": "code",
   "execution_count": 3,
   "metadata": {
    "collapsed": true
   },
   "outputs": [],
   "source": [
    "dirList = os.listdir(databaseDir)\n",
    "databases = [x for x in dirList if '.csv' in x]\n",
    "databases = [databaseDir+x for x in databases]\n",
    "databases.sort()"
   ]
  },
  {
   "cell_type": "code",
   "execution_count": 4,
   "metadata": {
    "collapsed": true
   },
   "outputs": [],
   "source": [
    "imageList = os.listdir(imdir)\n",
    "imageList = [x for x in imageList if '.fits' in x]\n",
    "imageList = [imdir+x for x in imageList]"
   ]
  },
  {
   "cell_type": "code",
   "execution_count": 5,
   "metadata": {
    "collapsed": true
   },
   "outputs": [],
   "source": [
    "def extractQuality(table):\n",
    "    tab = ascii.read(table,format='csv')\n",
    "    df = tab.to_pandas()\n",
    "    dfselected = df[(df['detectMinarea']==7.0)&(df['detectThresh']==7.0)&(df['filterName']=='default.conv')]\n",
    "    comp = df['completenessScore'].values[0]\n",
    "    acc = df['accuracyScore'].values[0]\n",
    "    return comp, acc"
   ]
  },
  {
   "cell_type": "code",
   "execution_count": 207,
   "metadata": {
    "collapsed": false
   },
   "outputs": [],
   "source": [
    "def makeImageCoordinates(image,boxlength=100.):\n",
    "    hdu_list = fits.open(image)\n",
    "    locList = []\n",
    "    for ccd in range(1,len(hdu_list)):\n",
    "        image_shape = hdu_list[ccd].data.shape\n",
    "        w = WCS(hdu_list[ccd])\n",
    "        xiterrations = int((image_shape[0]-(image_shape[0]%boxlength))/boxlength)\n",
    "        yiterrations = int((image_shape[1]-(image_shape[1]%boxlength))/boxlength)\n",
    "        xVal = boxlength/2\n",
    "        yVal = boxlength/2\n",
    "        wx, wy = w.wcs_pix2world(xVal, yVal, 1)\n",
    "        locs = [(wx,wy)]\n",
    "        for x in range(xiterrations):\n",
    "            yVal = boxlength/2\n",
    "            xVal += boxlength\n",
    "            for y in range(yiterrations):\n",
    "                yVal += boxlength \n",
    "                wx, wy = w.wcs_pix2world(xVal, yVal, 1)\n",
    "                locs.append((wx,wy))\n",
    "        locList.append(locs)\n",
    "        \n",
    "    return locList"
   ]
  },
  {
   "cell_type": "code",
   "execution_count": 11,
   "metadata": {
    "collapsed": true
   },
   "outputs": [],
   "source": [
    "def findWeight(l,b,r):\n",
    "    rogrim,rtgrim,rdgrim,rzgrim,rmgrim,gamma,Rc,q = 1.,1.9,3.5,0.41,6.5,1.8,2.8,0.6\n",
    "    milkyWayRadius = 15.\n",
    "    scaleHeight = 3.5\n",
    "    bSphere = 7.669\n",
    "    ebv=[]\n",
    "    Rd = 3 \n",
    "\n",
    "    radius = r * np.cos(np.deg2rad(b))\n",
    "    thickness = r * np.sin(np.deg2rad(b))\n",
    "                   \n",
    "    xlen = (((radius*np.sin(np.deg2rad(l)))))\n",
    "    ylen = ((radius*np.cos(np.deg2rad(l)))-8.364)\n",
    "    dist = ((xlen**2)+(ylen**2))**0.5\n",
    "    rad = ((dist**2)+(thickness**2))**0.5\n",
    "    \n",
    "    Bulge = (((((dist**2)+((thickness**2)/(q**2)))**0.5)/rogrim)**(-gamma))*np.exp(-(((dist**2)+((thickness**2)/(q**2)))/rtgrim**2))\n",
    "    Disc = (np.exp((-rmgrim/rdgrim)-(dist/rdgrim)-(abs(thickness)/rzgrim)))\n",
    "    Sphere = (np.exp(-bSphere*((rad/Rc)**0.25)))/((rad/Rc)**(7./8.))\n",
    "    \n",
    "    results = {}\n",
    "    results[0] = [xlen,ylen,thickness]\n",
    "    results[5] = [Bulge,Disc,Sphere]\n",
    "    \n",
    "    return results"
   ]
  },
  {
   "cell_type": "code",
   "execution_count": 120,
   "metadata": {
    "collapsed": true
   },
   "outputs": [],
   "source": [
    "def threeDintegrate(l,b,r,dl,db,dr):\n",
    "    l = 2*np.pi*(l/360.)\n",
    "    dl = (2*np.pi*(dl/360.))/2.\n",
    "    b = 2*np.pi*(b/360.)\n",
    "    db = (2*np.pi*(db/360.))/2.\n",
    "    dr = dr/2.\n",
    "    # dr, dl, and db are halved as they should represent the full range, with l,b,r at the centre\n",
    "    \n",
    "    # limits for radius\n",
    "    r1 = r - dr\n",
    "    r2 = r + dr\n",
    "    \n",
    "    # limits for theta\n",
    "    t1 = l - dl\n",
    "    t2 = l + dl\n",
    "    \n",
    "    # limits for phi\n",
    "    p1 = b - db\n",
    "    p2 = b + db\n",
    "    \n",
    "    def diff_volume(p,t,r):\n",
    "        return r**2*np.sin(p)\n",
    "\n",
    "    volume = tplquad(diff_volume, r1, r2, lambda r:   t1, lambda r:   t2,\n",
    "                                          lambda r,t: p1, lambda r,t: p2)[0]\n",
    "    \n",
    "    return volume"
   ]
  },
  {
   "cell_type": "code",
   "execution_count": 237,
   "metadata": {
    "collapsed": false
   },
   "outputs": [],
   "source": [
    "def findRegionProbsandCompleteness(coords,radialDistance,absMag,lumFunc,completeness,boxlength,pixel_scale=4.,R=3.1):\n",
    "    weightPerAngle = []\n",
    "    volumePerAngle = []\n",
    "\n",
    "    # buldgeCumulative = 0\n",
    "    # discCumulative = 0\n",
    "    # sphereCumulative = 0\n",
    "    dr = (max(radialDistance) - min(radialDistance))/len(radialDistance)\n",
    "    dl = (boxlength*pixel_scale)/3600.\n",
    "    db = (boxlength*pixel_scale)/3600.\n",
    "    totStars = 0\n",
    "    totStarsFound = 0\n",
    "    volumeCumulative = 0\n",
    "    badkeys = []\n",
    "    completenessKeys = completeness.keys()\n",
    "    for counter,ra_dec in enumerate(coords):\n",
    "        c = SkyCoord(ra_dec[0], ra_dec[1], frame='icrs', unit='deg')\n",
    "        l = c.galactic.l.deg\n",
    "        b = c.galactic.b.deg\n",
    "        ebv = schalf_dust_map.ebv(l,b, frame='galactic', unit='degree', interpolate=False)\n",
    "        A = R * ebv\n",
    "        weightPerDistance = []\n",
    "        volumePerDistance = []\n",
    "        for dist in radialDistance:\n",
    "            results = findWeight(l,b,dist)\n",
    "            weightPerSect = results[5]\n",
    "            weightPerDistance.append(weightPerSect)\n",
    "                    \n",
    "            volumePerSect = threeDintegrate(l,b,dist,dl,db,dr)\n",
    "            volumeCumulative += volumePerSect\n",
    "            volumePerDistance.append(volumePerSect)\n",
    "            \n",
    "            for magRange in range(len(absMag)):\n",
    "            \n",
    "                apparentMag = absMag[magRange] + (5*(np.log10(dist)-1)) + A\n",
    "                starNo = np.exp(lumFunc[magRange]) * volumePerSect \n",
    "                compKey = float(int(apparentMag-18.6))\n",
    "                if compKey in completenessKeys:\n",
    "                    starsFound = starNo * (1-completeness[compKey])\n",
    "                else:\n",
    "                    starsFound = 0\n",
    "                    badkeys.append(compKey)\n",
    "                totStars += starNo\n",
    "                totStarsFound += starsFound\n",
    "                \n",
    "        weightPerAngle.append(weightPerDistance)\n",
    "        volumePerAngle.append(volumePerDistance)\n",
    "    \n",
    "    compForwholeReg = float(totStarsFound)/float(totStars)\n",
    "    \n",
    "    return [volumePerAngle,weightPerAngle,totStars,compForwholeReg,badkeys,volumeCumulative]"
   ]
  },
  {
   "cell_type": "code",
   "execution_count": null,
   "metadata": {
    "collapsed": true
   },
   "outputs": [],
   "source": [
    "compList = {}\n",
    "accList = {}\n",
    "\n",
    "y = 0\n",
    "\n",
    "for x in range(len(databases)):\n",
    "    comp,acc = extractQuality(databases[x])\n",
    "    compList[y] = comp\n",
    "    accList[y] = acc\n",
    "    #print(comp)\n",
    "    if y >= 0:\n",
    "        y +=1\n",
    "    else:\n",
    "        y += -1\n",
    "    if y > 7:\n",
    "        y = -1"
   ]
  },
  {
   "cell_type": "code",
   "execution_count": 280,
   "metadata": {
    "collapsed": false
   },
   "outputs": [],
   "source": [
    "boxlength = 100\n",
    "coords = makeImageCoordinates(image,boxlength=boxlength)\n",
    "radialDistance = np.linspace(0.1,130.,60)\n"
   ]
  },
  {
   "cell_type": "code",
   "execution_count": 281,
   "metadata": {
    "collapsed": true
   },
   "outputs": [],
   "source": [
    "absoluteMag = np.linspace(-7,18,26)\n",
    "singleStars = [-7.98,-7.60,-7.27,-6.72,-6.05,-5.43,-4.8,-4.18,-3.6,-3.16,-2.89,-2.63,-2.49,\n",
    "               -2.44,-2.52,-2.41,-2.32,-2.14,-1.99,-1.82,-1.9,-2.0,-2.0,-2.1,-2.1,-2.2]"
   ]
  },
  {
   "cell_type": "code",
   "execution_count": null,
   "metadata": {
    "collapsed": false
   },
   "outputs": [],
   "source": [
    "results = findRegionProbsandCompleteness(coords[0],radialDistance,absoluteMag,singleStars,compList,boxlength)"
   ]
  },
  {
   "cell_type": "code",
   "execution_count": 253,
   "metadata": {
    "collapsed": false,
    "scrolled": true
   },
   "outputs": [
    {
     "name": "stdout",
     "output_type": "stream",
     "text": [
      "(100.06959073359074, 0.0)\n",
      "(100.57113513513514, 0.0)\n",
      "(101.07267953667954, 0.0)\n",
      "(101.57422393822394, 0.0)\n",
      "(102.07576833976835, 0.0)\n",
      "(102.57731274131274, 0.0)\n",
      "(103.07885714285715, 0.0)\n",
      "(103.58040154440155, 0.0)\n",
      "(104.08194594594595, 0.0)\n",
      "(104.58349034749035, 0.0)\n",
      "(105.08503474903475, 0.0)\n",
      "(105.58657915057915, 0.0)\n",
      "(106.08812355212356, 0.0)\n",
      "(106.58966795366796, 0.0)\n",
      "(107.09121235521236, 0.0)\n",
      "(107.59275675675676, 0.0)\n",
      "(108.09430115830116, 0.0)\n",
      "(108.59584555984557, 0.0)\n",
      "(109.09738996138996, 0.0)\n",
      "(109.59893436293437, 0.0)\n",
      "(110.10047876447877, 0.0)\n",
      "(110.60202316602317, 0.0)\n",
      "(111.10356756756757, 0.0)\n",
      "(111.60511196911197, 0.0)\n",
      "(112.10665637065638, 0.0)\n",
      "(112.60820077220077, 0.0)\n",
      "(113.10974517374518, 0.0)\n",
      "(113.61128957528958, 0.0)\n",
      "(114.11283397683398, 0.0)\n",
      "(114.61437837837839, 0.0)\n",
      "(115.11592277992278, 0.0)\n",
      "(115.61746718146719, 0.0)\n",
      "(116.11901158301158, 0.0)\n",
      "(116.62055598455599, 0.0)\n",
      "(117.12210038610039, 0.0)\n",
      "(117.62364478764479, 0.0)\n",
      "(118.1251891891892, 0.0)\n",
      "(118.6267335907336, 0.0)\n",
      "(119.128277992278, 0.0)\n",
      "(119.6298223938224, 0.0)\n",
      "(120.1313667953668, 0.0)\n",
      "(120.63291119691121, 0.0)\n",
      "(121.13445559845562, 0.0)\n",
      "(121.636, 0.0)\n",
      "[0.11353544038026946, 0.13105797351381396, 0.15129367673672092, 0.17466711546417596, 0.20167209488191254, 0.23288536092672, 0.2689862940479196, 0.31079066244886083, 0.35932079982075255, 0.4159694076909244, 0.4828915310159007, 0.563938312425582, 0.6669852786202337, 0.8108000455187453, 1.052927141911182, 1.6791632621450292, 7.798185342951616, 6.736884211853615, 1.6274004705913452, 1.0376650444492936, 0.8027919042559669, 0.6615895375421325, 0.5598305949457794, 0.4795577272057535, 0.41317176484849005, 0.35693387796135756, 0.30873835181815174, 0.267215498455993, 0.2313549709775169, 0.20034836443553142, 0.17352157726929884, 0.15030202806318432, 0.1301993510093411, 0.1127918798708645, 0.09771618262795521, 0.08465855850522133, 0.07334796420618926, 0.06355005082535463, 0.05506209537157162, 0.047708669064655866, 0.04133792146313657, 0.03581838457941722, 0.03103621915594409, 0.026892838785622084, 0.023302858049140878, 0.020192319210920674, 0.01749715883238154, 0.01516188130074872, 0.013138410990952672, 0.011385098761195804, 0.009865861865500534, 0.008549439252916497, 0.007408746694461285, 0.006420318300492823, 0.005563822816169437, 0.004821644654794492, 0.004178520984761857, 0.003621227356305005, 0.003138305365373859, 0.0027198267259022175, 0.002357188877426688, 0.002042937908702652, 0.0017706151435642626, 0.0015346242247748754, 0.0013301159553297187, 0.0011528885235015597, 0.0009993010555392552, 0.0008661987149694485, 0.0007508478056414456, 0.0006508795419473307, 0.0005642413283263601, 0.0004891545449291799, 0.00042407797037938944, 0.00036767608870159516, 0.00031879162808775955, 0.0002764217663264163, 0.0002396975132222247, 0.00020786584574493058, 0.0001802742283170229, 0.00015635719974713694, 0.0001356247508540231, 0.00011765225368066011, 0.00010207173512945631, 8.856431551540192e-05, 7.685365650456174e-05, 6.670028367418185e-05, 5.789666692566533e-05, 5.026295757338801e-05, 4.364329444177031e-05, 3.7902603008367e-05, 3.292382177297525e-05, 2.8605498820628905e-05, 2.485970916077989e-05, 2.1610250022640847e-05, 1.8791077003396877e-05, 1.634494891941065e-05, 1.4222253502586658e-05, 1.2379989803049916e-05, 1.0780886381739071e-05, 9.392637168731914e-06, 8.187239282550816e-06, 7.140419202112871e-06, 6.231135499529339e-06, 5.441147915982675e-06, 4.754643926802671e-06, 4.157915123678167e-06, 3.6390767659876454e-06, 3.1878247405756467e-06, 2.7952249381905667e-06, 2.4535307210508726e-06, 2.15602473331991e-06, 1.8968818065206907e-06, 1.6710501453974176e-06, 1.4741483553446026e-06, 1.3023761980027146e-06, 1.1524372436527861e-06, 1.021471833432197e-06, 9.069989761640532e-07, 8.068659880979216e-07, 7.192048428734031e-07, 6.423943368086496e-07, 5.750272940173776e-07, 5.158821393237414e-07, 4.6389825660263116e-07, 4.181546278658884e-07, 3.778513157398579e-07, 3.422934103206698e-07, 3.1087711194931783e-07, 2.8307766525848266e-07, 2.58438897807176e-07, 2.3656414951799475e-07, 2.1710840764099299e-07, 1.9977148667384715e-07, 1.8429211407751782e-07, 1.704428011800541e-07, 1.5802539473953535e-07, 1.4686721857077507e-07, 1.368177267154575e-07, 1.2774560009986205e-07, 1.1953622769315562e-07, 1.1208952103860181e-07, 1.0531801784131895e-07, 9.91452361992566e-08, 9.350424618001791e-08, 8.833642988002305e-08, 8.35904049452911e-08, 7.92210898636584e-08, 7.518889222486612e-08, 7.145900364686104e-08, 6.800078723516116e-08, 6.478724532171084e-08, 6.179455685881382e-08, 5.900167525588382e-08, 5.638997867082102e-08, 5.394296582888609e-08, 5.164599136173716e-08, 4.948603545663834e-08, 4.745150329708482e-08, 4.553205037532255e-08, 4.371843027678416e-08, 4.200236198687487e-08, 4.037641416108701e-08, 3.883390413803323e-08, 3.7368809768612636e-08, 3.5975692389131964e-08, 3.4649629487001395e-08, 3.338615579911287e-08, 3.2181211749076624e-08, 3.1031098273544076e-08, 2.993243721278474e-08, 2.8882136549076185e-08, 2.7877359870498815e-08, 2.6915499519309355e-08, 2.5994152954859798e-08, 2.5111101922459294e-08, 2.426429407289456e-08, 2.3451826723600154e-08, 2.2671932492643257e-08, 2.1922966571569415e-08, 2.120339543343973e-08, 2.051178679869441e-08, 1.984680070432585e-08, 1.920718154169394e-08, 1.85917509455635e-08, 1.7999401431935065e-08, 1.7429090695274348e-08, 1.687983648707286e-08, 1.6350712007533332e-08, 1.584084175074376e-08, 1.5349397751168834e-08, 1.487559618578325e-08, 1.4418694291826595e-08, 1.397798756509157e-08, 1.3552807207948194e-08, 1.3142517800055192e-08, 1.2746515167973588e-08, 1.2364224432750515e-08, 1.199509821702904e-08, 1.1638614995414833e-08, 1.1294277573733187e-08, 1.0961611684469849e-08, 1.0640164687148584e-08, 1.0329504363670535e-08, 1.002921779975987e-08, 9.738910344640918e-09, 9.458204641933061e-09, 9.186739725506565e-09, 8.924170174709078e-09, 8.670165323958819e-09, 8.42440852221754e-09, 8.186596438313654e-09, 7.95643840848821e-09, 7.733655822894693e-09, 7.517981548098851e-09, 7.309159382906287e-09, 7.106943545094198e-09]\n",
      "30.397177905763982\n",
      "0.9999999999999991\n"
     ]
    }
   ],
   "source": [
    "noSteps = 60\n",
    "#b = [0]\n",
    "bSteps = 100\n",
    "lSteps = 100\n",
    "rSteps = 260\n",
    "\n",
    "b = np.linspace(-90.,90,bSteps)\n",
    "l = np.linspace(0., 359., lSteps)\n",
    "radialDistance = np.linspace(0.1,130.,rSteps)#noSteps)#15)\n",
    "\n",
    "\n",
    "\n",
    "dr = (radialDistance[-1]-radialDistance[0])/rSteps\n",
    "dl = (l[-1]-(l[0]))/lSteps\n",
    "db =(b[-1]-(b[0]))/bSteps\n",
    "\n",
    "l,b = [0],[0]\n",
    "\n",
    "volumeSegment = []\n",
    "#rM = 5\n",
    "probabilities = []\n",
    "\n",
    "volVal = 0\n",
    "\n",
    "#magrange = np.linspace(13,22,20)\n",
    "resultList = []\n",
    "for x,angle in enumerate(l):\n",
    "    resultPerB = []\n",
    "    for lat,lattitude in enumerate(b):\n",
    "        resultPerD = []\n",
    "        for y,item in enumerate(radialDistance):\n",
    "            radius = item * np.cos(np.deg2rad(lattitude))\n",
    "            xlen = (((radius*np.sin(np.deg2rad(angle)))))\n",
    "            ylen = ((radius*np.cos(np.deg2rad(angle)))-8.364)\n",
    "            Dist = ((xlen**2)+(ylen**2))**0.5\n",
    "            width = Dist\n",
    "            thickness = item * np.sin(np.deg2rad(lattitude))\n",
    "            distancefromcentre = ((thickness**2)+(Dist**2))**0.5\n",
    "            if abs(width) < 100 and abs(thickness) < 100:# and distancefromcentre > 1.:\n",
    "                result = findWeight(angle,lattitude,item)\n",
    "                probabilities.append(result[5])\n",
    "                volSeg = threeDintegrate(angle,lattitude,item,dl,db,dr)\n",
    "                volumeSegment.append(volSeg)\n",
    "                volVal += volSeg\n",
    "            else:\n",
    "                print(width,thickness)\n",
    "                \n",
    "bulgecumalative = 0\n",
    "disccumalative = 0\n",
    "spherecumalative = 0\n",
    "\n",
    "bulgeProb = []\n",
    "discProb = []\n",
    "sphereProb = []\n",
    "\n",
    "\n",
    "\n",
    "for x in range(len(probabilities)):\n",
    "    bulgecumalative += probabilities[x][0]#*volumeSegment[x]\n",
    "    disccumalative += probabilities[x][1]#*volumeSegment[x]\n",
    "    spherecumalative += probabilities[x][2]#*volumeSegment[x]\n",
    "    \n",
    "    bulgeProb.append(probabilities[x][0])#*volumeSegment[x])\n",
    "    discProb.append(probabilities[x][1])#*volumeSegment[x])\n",
    "    sphereProb.append(probabilities[x][2])#*volumeSegment[x])\n",
    "\n",
    "totcumulative = bulgecumalative + disccumalative + spherecumalative\n",
    "# Relative Mass Ratios are decided Below\n",
    "discnormalisation = (2.*totcumulative)/(3.8*disccumalative)\n",
    "bulgenormalisation = (1.*totcumulative)/(3.8*bulgecumalative)\n",
    "spherenormalisation = (0.8*totcumulative)/(3.8*spherecumalative)\n",
    "\n",
    "discProb = [x*discnormalisation for x in discProb]\n",
    "bulgeProb = [x*bulgenormalisation for x in bulgeProb]\n",
    "sphereProb = [x*spherenormalisation for x in sphereProb]\n",
    "\n",
    "totProb = [a+b+c for a,b,c in zip(discProb,bulgeProb,sphereProb)]\n",
    "print(totProb)\n",
    "print(sum(totProb))\n",
    "totSum = sum(totProb)\n",
    "totProb = [x/totSum for x in totProb]\n",
    "print(sum(totProb))"
   ]
  },
  {
   "cell_type": "code",
   "execution_count": 16,
   "metadata": {
    "collapsed": false
   },
   "outputs": [
    {
     "name": "stdout",
     "output_type": "stream",
     "text": [
      "15.998514687244192\n",
      "7.999257343622095\n",
      "6.399405874897678\n"
     ]
    }
   ],
   "source": [
    "print(disccumalative*discnormalisation)\n",
    "print(bulgecumalative*bulgenormalisation)\n",
    "print(spherecumalative*spherenormalisation)"
   ]
  },
  {
   "cell_type": "code",
   "execution_count": 92,
   "metadata": {
    "collapsed": false
   },
   "outputs": [
    {
     "data": {
      "text/plain": [
       "{0: [0.09786550400003544, -8.346759628422824, 0.011185379506297537],\n",
       " 5: [9.092606473209177e-11, 0.01399050135190474, 1.6161165872166317e-05]}"
      ]
     },
     "execution_count": 92,
     "metadata": {},
     "output_type": "execute_result"
    }
   ],
   "source": [
    "weightPerAngle[0][0]"
   ]
  },
  {
   "cell_type": "code",
   "execution_count": 20,
   "metadata": {
    "collapsed": false
   },
   "outputs": [],
   "source": [
    "keplerBtot = 0\n",
    "keplerDtot = 0\n",
    "keplerStot = 0\n",
    "\n",
    "for ang in range(len(weightPerAngle)):\n",
    "    for dist in range(len(weightPerAngle[ang])):\n",
    "        keplerBtot += weightPerAngle[ang][dist][0]\n",
    "        keplerDtot += weightPerAngle[ang][dist][1]\n",
    "        keplerStot += weightPerAngle[ang][dist][2]\n",
    "        \n",
    "normKeplerBtot = keplerBtot*bulgenormalisation\n",
    "normKeplerDtot = keplerDTot*discnormalisation\n",
    "normKeplerStot = keplerStot*spherenormalisation"
   ]
  },
  {
   "cell_type": "code",
   "execution_count": 23,
   "metadata": {
    "collapsed": false
   },
   "outputs": [
    {
     "data": {
      "text/plain": [
       "0.17667814884443328"
      ]
     },
     "execution_count": 23,
     "metadata": {},
     "output_type": "execute_result"
    }
   ],
   "source": [
    "normKeplerStot"
   ]
  },
  {
   "cell_type": "code",
   "execution_count": 24,
   "metadata": {
    "collapsed": false
   },
   "outputs": [
    {
     "data": {
      "text/plain": [
       "0.005699295124013977"
      ]
     },
     "execution_count": 24,
     "metadata": {},
     "output_type": "execute_result"
    }
   ],
   "source": [
    "normKeplerStot/31."
   ]
  },
  {
   "cell_type": "code",
   "execution_count": 27,
   "metadata": {
    "collapsed": false
   },
   "outputs": [
    {
     "name": "stdout",
     "output_type": "stream",
     "text": [
      "6.39940587489768\n"
     ]
    }
   ],
   "source": [
    "print(sum(sphereProb))"
   ]
  },
  {
   "cell_type": "code",
   "execution_count": null,
   "metadata": {
    "collapsed": true
   },
   "outputs": [],
   "source": [
    "# need to test half total galaxy with different spacing"
   ]
  },
  {
   "cell_type": "code",
   "execution_count": null,
   "metadata": {
    "collapsed": true
   },
   "outputs": [],
   "source": [
    "ebv = schalf_dust_map.ebv(l,b, frame='galactic', unit='degree', interpolate=False)\n",
    "R = 3.1\n",
    "reddening = ((ebv)*R)"
   ]
  },
  {
   "cell_type": "code",
   "execution_count": 42,
   "metadata": {
    "collapsed": true
   },
   "outputs": [],
   "source": [
    "absoluteMag = np.linspace(-7,18,26)"
   ]
  },
  {
   "cell_type": "code",
   "execution_count": 43,
   "metadata": {
    "collapsed": false
   },
   "outputs": [
    {
     "data": {
      "text/plain": [
       "array([-7., -6., -5., -4., -3., -2., -1.,  0.,  1.,  2.,  3.,  4.,  5.,\n",
       "        6.,  7.,  8.,  9., 10., 11., 12., 13., 14., 15., 16., 17., 18.])"
      ]
     },
     "execution_count": 43,
     "metadata": {},
     "output_type": "execute_result"
    }
   ],
   "source": [
    "absoluteMag"
   ]
  },
  {
   "cell_type": "code",
   "execution_count": 46,
   "metadata": {
    "collapsed": false
   },
   "outputs": [
    {
     "name": "stdout",
     "output_type": "stream",
     "text": [
      "26\n"
     ]
    }
   ],
   "source": [
    "singleStars = [-7.98,-7.60,-7.27,-6.72,-6.05,-5.43,-4.8,-4.18,-3.6,-3.16,-2.89,-2.63,-2.49,\n",
    "               -2.44,-2.52,-2.41,-2.32,-2.14,-1.99,-1.82,-1.9,-2.0,-2.0,-2.1,-2.1,-2.2]\n",
    "\n",
    "print(len(singleStars))"
   ]
  },
  {
   "cell_type": "code",
   "execution_count": 50,
   "metadata": {
    "collapsed": false
   },
   "outputs": [
    {
     "data": {
      "text/plain": [
       "11.0"
      ]
     },
     "execution_count": 50,
     "metadata": {},
     "output_type": "execute_result"
    }
   ],
   "source": [
    "float(int(11.7))"
   ]
  },
  {
   "cell_type": "code",
   "execution_count": 53,
   "metadata": {
    "collapsed": true
   },
   "outputs": [],
   "source": [
    "a = {}\n",
    "a[1] = 0"
   ]
  },
  {
   "cell_type": "code",
   "execution_count": 55,
   "metadata": {
    "collapsed": false
   },
   "outputs": [
    {
     "name": "stdout",
     "output_type": "stream",
     "text": [
      "[1]\n"
     ]
    }
   ],
   "source": [
    "print(a.keys())"
   ]
  },
  {
   "cell_type": "code",
   "execution_count": 164,
   "metadata": {
    "collapsed": true
   },
   "outputs": [],
   "source": [
    "polygon_pix = PolygonPixelRegion(\n",
    "    vertices=PixCoord(x=[0, 0, 100, 100], y=[0, 100, 0,100]),\n",
    ")\n"
   ]
  },
  {
   "cell_type": "code",
   "execution_count": 165,
   "metadata": {
    "collapsed": false
   },
   "outputs": [
    {
     "data": {
      "text/plain": [
       "<PolygonPixelRegion(vertices=PixCoord(x=[  0   0 100 100], y=[  0 100   0 100]))>"
      ]
     },
     "execution_count": 165,
     "metadata": {},
     "output_type": "execute_result"
    }
   ],
   "source": [
    "polygon_pix"
   ]
  },
  {
   "cell_type": "code",
   "execution_count": 166,
   "metadata": {
    "collapsed": true
   },
   "outputs": [],
   "source": [
    "sky_reg = PixCoord.from_sky(skycoord=polygon_pix,wcs=)"
   ]
  },
  {
   "cell_type": "code",
   "execution_count": 168,
   "metadata": {
    "collapsed": false
   },
   "outputs": [
    {
     "name": "stdout",
     "output_type": "stream",
     "text": [
      "/media/mj1e16/PP AV-TV/keplerCal/kplr2009114174833_ffi-cal.fits\n"
     ]
    }
   ],
   "source": [
    "print(imageList[0])"
   ]
  },
  {
   "cell_type": "code",
   "execution_count": 169,
   "metadata": {
    "collapsed": true
   },
   "outputs": [],
   "source": [
    "imageFile = fits.open(imageList[0])"
   ]
  },
  {
   "cell_type": "code",
   "execution_count": 208,
   "metadata": {
    "collapsed": true
   },
   "outputs": [],
   "source": [
    "w = WCS(imageFile[-1])"
   ]
  },
  {
   "cell_type": "code",
   "execution_count": 173,
   "metadata": {
    "collapsed": false
   },
   "outputs": [
    {
     "ename": "AttributeError",
     "evalue": "'PolygonPixelRegion' object has no attribute 'from_sky'",
     "output_type": "error",
     "traceback": [
      "\u001b[0;31m---------------------------------------------------------------------------\u001b[0m",
      "\u001b[0;31mAttributeError\u001b[0m                            Traceback (most recent call last)",
      "\u001b[0;32m<ipython-input-173-2325e53a3ee5>\u001b[0m in \u001b[0;36m<module>\u001b[0;34m()\u001b[0m\n\u001b[0;32m----> 1\u001b[0;31m \u001b[0msky_reg\u001b[0m \u001b[0;34m=\u001b[0m \u001b[0mpolygon_pix\u001b[0m\u001b[0;34m.\u001b[0m\u001b[0mfrom_sky\u001b[0m\u001b[0;34m(\u001b[0m\u001b[0mwcs\u001b[0m\u001b[0;34m=\u001b[0m\u001b[0mw\u001b[0m\u001b[0;34m)\u001b[0m\u001b[0;34m\u001b[0m\u001b[0m\n\u001b[0m",
      "\u001b[0;31mAttributeError\u001b[0m: 'PolygonPixelRegion' object has no attribute 'from_sky'"
     ]
    }
   ],
   "source": [
    "sky_reg = polygon_pix.from_sky(wcs=w)"
   ]
  },
  {
   "cell_type": "code",
   "execution_count": 174,
   "metadata": {
    "collapsed": true
   },
   "outputs": [],
   "source": [
    "pixcoord = PixCoord(x=[0, 0, 100, 100], y=[0, 100, 0,100])"
   ]
  },
  {
   "cell_type": "code",
   "execution_count": 175,
   "metadata": {
    "collapsed": true
   },
   "outputs": [],
   "source": [
    "sky_reg = pixcoord.to_sky(wcs=w)"
   ]
  },
  {
   "cell_type": "code",
   "execution_count": 176,
   "metadata": {
    "collapsed": false
   },
   "outputs": [
    {
     "data": {
      "text/plain": [
       "<SkyCoord (ICRS): (ra, dec) in deg\n",
       "    [(282.13271338, 45.1517173 ), (282.01100839, 45.08241187),\n",
       "     (282.23093618, 45.06584791), (282.10929388, 44.99663584)]>"
      ]
     },
     "execution_count": 176,
     "metadata": {},
     "output_type": "execute_result"
    }
   ],
   "source": [
    "sky_reg"
   ]
  },
  {
   "cell_type": "code",
   "execution_count": 189,
   "metadata": {
    "collapsed": false
   },
   "outputs": [
    {
     "name": "stdout",
     "output_type": "stream",
     "text": [
      "[282.13271338 282.01100839 282.23093618 282.10929388]\n"
     ]
    }
   ],
   "source": [
    "print(ra)"
   ]
  },
  {
   "cell_type": "code",
   "execution_count": 190,
   "metadata": {
    "collapsed": false
   },
   "outputs": [
    {
     "name": "stdout",
     "output_type": "stream",
     "text": [
      "[45.1517173  45.08241187 45.06584791 44.99663584]\n"
     ]
    }
   ],
   "source": [
    "print(dec)"
   ]
  },
  {
   "cell_type": "code",
   "execution_count": 202,
   "metadata": {
    "collapsed": false
   },
   "outputs": [],
   "source": [
    "ra = sky_reg.ra.arcsec\n",
    "dec = sky_reg.dec.arcsec"
   ]
  },
  {
   "cell_type": "code",
   "execution_count": 201,
   "metadata": {
    "collapsed": false
   },
   "outputs": [
    {
     "data": {
      "text/plain": [
       "array([1015677.76815635, 1015458.57409509, 1015854.69654538,\n",
       "       1015635.55902744])"
      ]
     },
     "execution_count": 201,
     "metadata": {},
     "output_type": "execute_result"
    }
   ],
   "source": [
    "ra"
   ]
  },
  {
   "cell_type": "code",
   "execution_count": 234,
   "metadata": {
    "collapsed": true
   },
   "outputs": [],
   "source": [
    "def findSideLengths(center,boxlength,wcs):\n",
    "    d_box = boxlength/2.\n",
    "    \n",
    "    minx = centre[0] - d_box\n",
    "    maxx = centre[0] + d_box\n",
    "\n",
    "    miny = centre[1] - d_box\n",
    "    maxy = centre[1] + d_box\n",
    "    \n",
    "    pixcoord = PixCoord(x=[minx, minx, maxx, maxx], y=[miny, maxy, miny,maxy])\n",
    "    sky_reg = pixcoord.to_sky(wcs=w)\n",
    "    \n",
    "    ra = sky_reg.galactic.l.arcsec\n",
    "    dec = sky_reg.galactic.b.arcsec\n",
    "\n",
    "    xlengths = []\n",
    "    ylengths = []\n",
    "\n",
    "    xlengths.append(abs(ra[0]-ra[1]))\n",
    "    ylengths.append(abs(dec[0]-dec[1]))\n",
    "\n",
    "    xlengths.append(abs(ra[0]-ra[2]))\n",
    "    ylengths.append(abs(dec[0]-dec[2]))\n",
    "\n",
    "    xlengths.append(abs(ra[1]-ra[3]))\n",
    "    ylengths.append(abs(dec[1]-dec[3]))\n",
    "\n",
    "    xlengths.append(abs(ra[2]-ra[3]))\n",
    "    ylengths.append(abs(dec[2]-dec[3]))\n",
    "\n",
    "\n",
    "    distances = [((x**2)+(y**2))**0.5 for x,y in zip(xlengths,ylengths)]\n",
    "    \n",
    "    db = np.mean([distances[0],distances[-1]])\n",
    "    dl = np.mean([distances[1],distances[2]])\n",
    "    \n",
    "    return db, dl"
   ]
  },
  {
   "cell_type": "code",
   "execution_count": 235,
   "metadata": {
    "collapsed": false
   },
   "outputs": [
    {
     "name": "stdout",
     "output_type": "stream",
     "text": [
      "[201.09437507529378, 199.9348927639803, 199.93875384126264, 201.11298730859505]\n",
      "802.0810089891318\n"
     ]
    }
   ],
   "source": [
    "w = WCS(imageFile[-1])\n",
    "\n",
    "minx = 2000\n",
    "maxx = 2050\n",
    "\n",
    "miny = 2000\n",
    "maxy = 2050\n",
    "\n",
    "pixcoord = PixCoord(x=[minx, minx, maxx, maxx], y=[miny, maxy, miny,maxy])\n",
    "sky_reg = pixcoord.to_sky(wcs=w)\n",
    "\n",
    "ra = sky_reg.galactic.l.arcsec\n",
    "dec = sky_reg.galactic.b.arcsec\n",
    "\n",
    "xlengths = []\n",
    "ylengths = []\n",
    "\n",
    "xlengths.append(abs(ra[0]-ra[1]))\n",
    "ylengths.append(abs(dec[0]-dec[1]))\n",
    "\n",
    "xlengths.append(abs(ra[0]-ra[2]))\n",
    "ylengths.append(abs(dec[0]-dec[2]))\n",
    "\n",
    "xlengths.append(abs(ra[1]-ra[3]))\n",
    "ylengths.append(abs(dec[1]-dec[3]))\n",
    "\n",
    "xlengths.append(abs(ra[2]-ra[3]))\n",
    "ylengths.append(abs(dec[2]-dec[3]))\n",
    "\n",
    "\n",
    "distances = [((x**2)+(y**2))**0.5 for x,y in zip(xlengths,ylengths)]\n",
    "\n",
    "#distances_pix = [(x) for x in distances]\n",
    "print(distances)\n",
    "print(sum(distances))"
   ]
  },
  {
   "cell_type": "code",
   "execution_count": 232,
   "metadata": {
    "collapsed": false
   },
   "outputs": [
    {
     "name": "stdout",
     "output_type": "stream",
     "text": [
      "[201.30188445473587, 204.6710217638068, 204.63985012966378, 201.31156419943568]\n",
      "811.9243205476421\n"
     ]
    }
   ],
   "source": [
    "print(distances)\n",
    "print(sum(distances))"
   ]
  },
  {
   "cell_type": "code",
   "execution_count": 215,
   "metadata": {
    "collapsed": false
   },
   "outputs": [
    {
     "data": {
      "text/plain": [
       "[124.6852576690435, 154.51998340411228, 154.4359739701904, 124.6012482351216]"
      ]
     },
     "execution_count": 215,
     "metadata": {},
     "output_type": "execute_result"
    }
   ],
   "source": [
    "ylengths"
   ]
  },
  {
   "cell_type": "code",
   "execution_count": 210,
   "metadata": {
    "collapsed": false
   },
   "outputs": [
    {
     "name": "stdout",
     "output_type": "stream",
     "text": [
      "[265.00722194747135, 214.99258470543515, 215.03330604639567, 265.19919522261097]\n"
     ]
    }
   ],
   "source": [
    "print(distances_pix)"
   ]
  },
  {
   "cell_type": "code",
   "execution_count": 216,
   "metadata": {
    "collapsed": false
   },
   "outputs": [],
   "source": [
    "angle = np.tan(xlengths[1]/ylengths[1])"
   ]
  },
  {
   "cell_type": "code",
   "execution_count": 219,
   "metadata": {
    "collapsed": false
   },
   "outputs": [
    {
     "name": "stdout",
     "output_type": "stream",
     "text": [
      "126.3358768160967\n"
     ]
    }
   ],
   "source": [
    "angle_deg = (angle*180.)/ np.pi\n",
    "print(angle_deg)"
   ]
  },
  {
   "cell_type": "code",
   "execution_count": 188,
   "metadata": {
    "collapsed": false
   },
   "outputs": [
    {
     "name": "stdout",
     "output_type": "stream",
     "text": [
      "126.77829429312646\n",
      "199.64355679666244\n",
      "126.68717745145602\n"
     ]
    }
   ],
   "source": [
    "for x in range(len(ra)-1):\n",
    "    x1 = abs(ra[x]-ra[x+1])\n",
    "    y1 = abs(dec[x]-dec[x+1])\n",
    "    length = (x1**2 + y1**2)**0.5\n",
    "    length_arsec = length*3600\n",
    "    print(length_arsec/3.977)"
   ]
  },
  {
   "cell_type": "code",
   "execution_count": 180,
   "metadata": {
    "collapsed": true
   },
   "outputs": [],
   "source": [
    "x1 = abs(ra[0]-ra[1])\n",
    "y1 = abs(dec[0]-dec[1])"
   ]
  },
  {
   "cell_type": "code",
   "execution_count": 181,
   "metadata": {
    "collapsed": false
   },
   "outputs": [
    {
     "data": {
      "text/plain": [
       "0.1217049890283306"
      ]
     },
     "execution_count": 181,
     "metadata": {},
     "output_type": "execute_result"
    }
   ],
   "source": [
    "x1"
   ]
  },
  {
   "cell_type": "code",
   "execution_count": 182,
   "metadata": {
    "collapsed": false
   },
   "outputs": [
    {
     "name": "stdout",
     "output_type": "stream",
     "text": [
      "0.14005479900104553\n"
     ]
    }
   ],
   "source": [
    "length = (x1**2 + y1**2)**0.5\n",
    "print(length)"
   ]
  },
  {
   "cell_type": "code",
   "execution_count": 183,
   "metadata": {
    "collapsed": true
   },
   "outputs": [],
   "source": [
    "length_arsec = length*3600"
   ]
  },
  {
   "cell_type": "code",
   "execution_count": 184,
   "metadata": {
    "collapsed": false
   },
   "outputs": [
    {
     "data": {
      "text/plain": [
       "504.1972764037639"
      ]
     },
     "execution_count": 184,
     "metadata": {},
     "output_type": "execute_result"
    }
   ],
   "source": [
    "length_arsec"
   ]
  },
  {
   "cell_type": "code",
   "execution_count": 185,
   "metadata": {
    "collapsed": false
   },
   "outputs": [
    {
     "data": {
      "text/plain": [
       "126.77829429312646"
      ]
     },
     "execution_count": 185,
     "metadata": {},
     "output_type": "execute_result"
    }
   ],
   "source": [
    "length_arsec/3.977"
   ]
  },
  {
   "cell_type": "code",
   "execution_count": 205,
   "metadata": {
    "collapsed": false
   },
   "outputs": [
    {
     "data": {
      "text/plain": [
       "111"
      ]
     },
     "execution_count": 205,
     "metadata": {},
     "output_type": "execute_result"
    }
   ],
   "source": [
    "len(coords)"
   ]
  },
  {
   "cell_type": "code",
   "execution_count": 206,
   "metadata": {
    "collapsed": false
   },
   "outputs": [
    {
     "data": {
      "text/plain": [
       "2"
      ]
     },
     "execution_count": 206,
     "metadata": {},
     "output_type": "execute_result"
    }
   ],
   "source": [
    "len(coords[0])"
   ]
  },
  {
   "cell_type": "code",
   "execution_count": null,
   "metadata": {
    "collapsed": true
   },
   "outputs": [],
   "source": []
  }
 ],
 "metadata": {
  "kernelspec": {
   "display_name": "Python 2",
   "language": "python",
   "name": "python2"
  },
  "language_info": {
   "codemirror_mode": {
    "name": "ipython",
    "version": 2
   },
   "file_extension": ".py",
   "mimetype": "text/x-python",
   "name": "python",
   "nbconvert_exporter": "python",
   "pygments_lexer": "ipython2",
   "version": "2.7.13"
  }
 },
 "nbformat": 4,
 "nbformat_minor": 2
}
