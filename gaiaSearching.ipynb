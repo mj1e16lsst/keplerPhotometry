{
 "cells": [
  {
   "cell_type": "code",
   "execution_count": 41,
   "metadata": {},
   "outputs": [],
   "source": [
    "import astroprov\n",
    "from astropy.io.ascii import SExtractor\n",
    "from astropy.stats import sigma_clipped_stats\n",
    "from astropy.coordinates import SkyCoord\n",
    "import astropy.coordinates as coord\n",
    "\n",
    "import astropy.units as u\n",
    "import matplotlib.pyplot as plt\n",
    "import numpy as np\n",
    "import os\n",
    "from photutils import DAOStarFinder\n",
    "from photutils import CircularAperture\n",
    "from photutils import aperture_photometry\n",
    "#import subproc\n",
    "\n",
    "from astropy import wcs\n",
    "from astropy.io import fits\n",
    "import sys\n",
    "\n",
    "from astroquery.simbad import Simbad\n",
    "\n",
    "from astropy.visualization import SqrtStretch\n",
    "from astropy.visualization.mpl_normalize import ImageNormalize\n",
    "from astropy.table import Table, vstack\n",
    "from astropy.table import Column\n",
    "\n",
    "import collections\n",
    "import subprocess\n",
    "from astropy.io import ascii\n",
    "import time\n",
    "from astropy.utils.data import clear_download_cache\n",
    "from astroquery.gaia import Gaia\n",
    "import warnings\n",
    "warnings.filterwarnings('ignore')\n",
    "import pandas as pd"
   ]
  },
  {
   "cell_type": "code",
   "execution_count": 2,
   "metadata": {
    "collapsed": true
   },
   "outputs": [],
   "source": [
    "clear_download_cache()"
   ]
  },
  {
   "cell_type": "code",
   "execution_count": 3,
   "metadata": {
    "scrolled": true
   },
   "outputs": [
    {
     "name": "stdout",
     "output_type": "stream",
     "text": [
      "Retrieving tables...\n",
      "Parsing tables...\n",
      "Done.\n",
      "external.external.apassdr9\n",
      "external.external.gaiadr2_geometric_distance\n",
      "external.external.ravedr5_com\n",
      "external.external.ravedr5_dr5\n",
      "external.external.ravedr5_gra\n",
      "external.external.ravedr5_on\n",
      "public.public.hipparcos\n",
      "public.public.hipparcos_newreduction\n",
      "public.public.hubble_sc\n",
      "public.public.igsl_source\n",
      "public.public.igsl_source_catalog_ids\n",
      "public.public.tycho2\n",
      "public.public.dual\n",
      "tap_config.tap_config.coord_sys\n",
      "tap_schema.tap_schema.columns\n",
      "tap_schema.tap_schema.key_columns\n",
      "tap_schema.tap_schema.keys\n",
      "tap_schema.tap_schema.schemas\n",
      "tap_schema.tap_schema.tables\n",
      "gaiadr1.gaiadr1.aux_qso_icrf2_match\n",
      "gaiadr1.gaiadr1.ext_phot_zero_point\n",
      "gaiadr1.gaiadr1.allwise_best_neighbour\n",
      "gaiadr1.gaiadr1.allwise_neighbourhood\n",
      "gaiadr1.gaiadr1.gsc23_best_neighbour\n",
      "gaiadr1.gaiadr1.gsc23_neighbourhood\n",
      "gaiadr1.gaiadr1.ppmxl_best_neighbour\n",
      "gaiadr1.gaiadr1.ppmxl_neighbourhood\n",
      "gaiadr1.gaiadr1.sdss_dr9_best_neighbour\n",
      "gaiadr1.gaiadr1.sdss_dr9_neighbourhood\n",
      "gaiadr1.gaiadr1.tmass_best_neighbour\n",
      "gaiadr1.gaiadr1.tmass_neighbourhood\n",
      "gaiadr1.gaiadr1.ucac4_best_neighbour\n",
      "gaiadr1.gaiadr1.ucac4_neighbourhood\n",
      "gaiadr1.gaiadr1.urat1_best_neighbour\n",
      "gaiadr1.gaiadr1.urat1_neighbourhood\n",
      "gaiadr1.gaiadr1.cepheid\n",
      "gaiadr1.gaiadr1.phot_variable_time_series_gfov\n",
      "gaiadr1.gaiadr1.phot_variable_time_series_gfov_statistical_parameters\n",
      "gaiadr1.gaiadr1.rrlyrae\n",
      "gaiadr1.gaiadr1.variable_summary\n",
      "gaiadr1.gaiadr1.allwise_original_valid\n",
      "gaiadr1.gaiadr1.gsc23_original_valid\n",
      "gaiadr1.gaiadr1.ppmxl_original_valid\n",
      "gaiadr1.gaiadr1.sdssdr9_original_valid\n",
      "gaiadr1.gaiadr1.tmass_original_valid\n",
      "gaiadr1.gaiadr1.ucac4_original_valid\n",
      "gaiadr1.gaiadr1.urat1_original_valid\n",
      "gaiadr1.gaiadr1.gaia_source\n",
      "gaiadr1.gaiadr1.tgas_source\n",
      "gaiadr2.gaiadr2.aux_allwise_agn_gdr2_cross_id\n",
      "gaiadr2.gaiadr2.aux_iers_gdr2_cross_id\n",
      "gaiadr2.gaiadr2.aux_sso_orbit_residuals\n",
      "gaiadr2.gaiadr2.aux_sso_orbits\n",
      "gaiadr2.gaiadr2.dr1_neighbourhood\n",
      "gaiadr2.gaiadr2.allwise_best_neighbour\n",
      "gaiadr2.gaiadr2.allwise_neighbourhood\n",
      "gaiadr2.gaiadr2.apassdr9_best_neighbour\n",
      "gaiadr2.gaiadr2.apassdr9_neighbourhood\n",
      "gaiadr2.gaiadr2.gsc23_best_neighbour\n",
      "gaiadr2.gaiadr2.gsc23_neighbourhood\n",
      "gaiadr2.gaiadr2.hipparcos2_best_neighbour\n",
      "gaiadr2.gaiadr2.hipparcos2_neighbourhood\n",
      "gaiadr2.gaiadr2.panstarrs1_best_neighbour\n",
      "gaiadr2.gaiadr2.panstarrs1_neighbourhood\n",
      "gaiadr2.gaiadr2.ppmxl_best_neighbour\n",
      "gaiadr2.gaiadr2.ppmxl_neighbourhood\n",
      "gaiadr2.gaiadr2.ravedr5_best_neighbour\n",
      "gaiadr2.gaiadr2.ravedr5_neighbourhood\n",
      "gaiadr2.gaiadr2.sdssdr9_best_neighbour\n",
      "gaiadr2.gaiadr2.sdssdr9_neighbourhood\n",
      "gaiadr2.gaiadr2.tmass_best_neighbour\n",
      "gaiadr2.gaiadr2.tmass_neighbourhood\n",
      "gaiadr2.gaiadr2.tycho2_best_neighbour\n",
      "gaiadr2.gaiadr2.tycho2_neighbourhood\n",
      "gaiadr2.gaiadr2.urat1_best_neighbour\n",
      "gaiadr2.gaiadr2.urat1_neighbourhood\n",
      "gaiadr2.gaiadr2.sso_observation\n",
      "gaiadr2.gaiadr2.sso_source\n",
      "gaiadr2.gaiadr2.vari_cepheid\n",
      "gaiadr2.gaiadr2.vari_classifier_class_definition\n",
      "gaiadr2.gaiadr2.vari_classifier_definition\n",
      "gaiadr2.gaiadr2.vari_classifier_result\n",
      "gaiadr2.gaiadr2.vari_long_period_variable\n",
      "gaiadr2.gaiadr2.vari_rotation_modulation\n",
      "gaiadr2.gaiadr2.vari_rrlyrae\n",
      "gaiadr2.gaiadr2.vari_short_timescale\n",
      "gaiadr2.gaiadr2.vari_time_series_statistics\n",
      "gaiadr2.gaiadr2.panstarrs1_original_valid\n",
      "gaiadr2.gaiadr2.gaia_source\n",
      "gaiadr2.gaiadr2.ruwe\n"
     ]
    }
   ],
   "source": [
    "tables = Gaia.load_tables(only_names=True)\n",
    "for table in (tables):\n",
    "    print(table.get_qualified_name())"
   ]
  },
  {
   "cell_type": "code",
   "execution_count": 4,
   "metadata": {
    "collapsed": true
   },
   "outputs": [],
   "source": [
    "def makeDS9RegFile(sexTabList,fileNameBase,tabType):\n",
    "    for tables in range(len(sexTabList)):\n",
    "        if tabType == 'dao':\n",
    "            xcoords = sexTabList[tables]['xcentroid']\n",
    "            ycoords = sexTabList[tables]['ycentroid']\n",
    "        elif tabType == 'sex':\n",
    "            xcoords = sexTabList[tables]['X_IMAGE']\n",
    "            ycoords = sexTabList[tables]['Y_IMAGE']\n",
    "        elif tabType == 'iraf':\n",
    "            xcoords = sexTabList[tables]['X_POS']\n",
    "            ycoords = sexTabList[tables]['Y_POS']        \n",
    "        else:\n",
    "            print('tab type error')\n",
    "            break\n",
    "        bigString = 'global color=lightgreen\\nimage\\n'\n",
    "        for x in range(len(xcoords)):\n",
    "            bigString += 'circle({},{},5)\\n'.format(xcoords[x],ycoords[x])\n",
    "        fileName = fileNameBase + '.reg'\n",
    "        with open(fileName,'w') as f:\n",
    "            f.write(bigString)\n",
    "#         print(fileName)\n",
    "#         print(os.listdir('.'))"
   ]
  },
  {
   "cell_type": "code",
   "execution_count": 5,
   "metadata": {
    "collapsed": true
   },
   "outputs": [],
   "source": [
    "def load_wcs_from_file(filename,pixCoord):\n",
    "    # Load the FITS hdulist using astropy.io.fits\n",
    "    hdulist = fits.open(filename)\n",
    "\n",
    "    # Parse the WCS keywords in the primary HDU\n",
    "    w = wcs.WCS(hdulist[0].header)\n",
    "\n",
    "    # Print out the \"name\" of the WCS, as defined in the FITS header\n",
    "    #print(w.wcs.name)\n",
    "\n",
    "    # Print out all of the settings that were parsed from the header\n",
    "    w.wcs.print_contents()\n",
    "\n",
    "    # Three pixel coordinates of interest.\n",
    "    # Note we've silently assumed a NAXIS=2 image here.\n",
    "    # Note also that the pixel coordinates are pairs of [X, Y], \n",
    "    # and since WCS built from FITS header automatically has\n",
    "    # origin set to 1, [0, 0] is actually not inside the image.\n",
    "    pixcrd = np.array(pixCoord, dtype=np.float_)\n",
    "\n",
    "    # Convert pixel coordinates to world coordinates\n",
    "    # The second argument is \"origin\" -- in this case we're declaring we\n",
    "    # have 1-based (Fortran-like) coordinates.\n",
    "    world = w.wcs_pix2world(pixcrd, 1)\n",
    "    #print(world)\n",
    "    return(world)"
   ]
  },
  {
   "cell_type": "code",
   "execution_count": 6,
   "metadata": {
    "collapsed": true
   },
   "outputs": [],
   "source": [
    "def queryObjectRegion(outputTable,searchRadius=15*u.arcsecond):\n",
    "    imageCoords = []\n",
    "    r = searchRadius\n",
    "    \n",
    "#     if inCat == 'dao':\n",
    "#         xlabel = 'xcentroid'\n",
    "#         ylabel = 'ycentroid'\n",
    "#         label = 'id'\n",
    "        \n",
    "#     if inCat == 'sex':\n",
    "#         xlabel = 'X_IMAGE'\n",
    "#         ylabel = 'Y_IMAGE'\n",
    "#         label = 'NUMBER'\n",
    "        \n",
    "    xlabel = 'RA'\n",
    "    ylabel = 'DEC'\n",
    "    label = 'NUMBER'\n",
    "    \n",
    "    flux = outputTable['FLUX_BEST']   \n",
    "    ra = outputTable['RA']\n",
    "    dec = outputTable['DEC']\n",
    "    tableLength = len(outputTable)\n",
    "    xcoord = outputTable['X_IMAGE']\n",
    "    ycoord = outputTable['Y_IMAGE']\n",
    "    imageCoords = [[x,y] for x,y in zip(xcoord,ycoord)]\n",
    "    imageNames = outputTable['DIFF_NAME']\n",
    "    customSimbad = Simbad()\n",
    "    customSimbad.add_votable_fields('ra(d)','dec(d)','otype')\n",
    "    customSimbad.remove_votable_fields('coordinates')\n",
    "            \n",
    "    result_table = Table([['-'],[0],[0],['-'],[0],[0],[0],['-']],names=('MAIN_ID','RA_d','DEC_d','OTYPE','xcentroid','ycentroid','flux','IMAGE'),dtype=('object','float64','float64','object','float64','float64','float64','object'))\n",
    "\n",
    "\n",
    "    for x in range(len(imageCoords)):\n",
    "        try:\n",
    "            c = SkyCoord(ra[x],dec[x],frame='icrs',unit='deg')\n",
    "            rt = customSimbad.query_region(c,radius=r)\n",
    "            rowlist = []\n",
    "            for y in range(len(rt[0])):\n",
    "                rowlist.append(rt[0][y])\n",
    "            rowlist.append(imageCoords[x][0])\n",
    "            rowlist.append(imageCoords[x][1])\n",
    "            rowlist.append(flux[x])\n",
    "            rowlist.append(imageNames[x])\n",
    "            result_table.add_row(rowlist)\n",
    "\n",
    "        except:\n",
    "            #print('searchfailed')\n",
    "            result_table.add_row(['N/A',ra[x],dec[x],'Object Not Found',[imageCoords[x][0]],[imageCoords[x][1]],flux[x],imageNames[x]])\n",
    "\n",
    "    \n",
    "    return result_table"
   ]
  },
  {
   "cell_type": "code",
   "execution_count": 7,
   "metadata": {
    "collapsed": true
   },
   "outputs": [],
   "source": [
    "tabTot =  ascii.read('/home/mj1e16/outTablesImproved/sexdiffOutTest.csv')"
   ]
  },
  {
   "cell_type": "code",
   "execution_count": 8,
   "metadata": {
    "collapsed": true
   },
   "outputs": [],
   "source": [
    "tabTot = ascii.read('/home/mj1e16/outTablesImproved/firsthalf.csv')"
   ]
  },
  {
   "cell_type": "code",
   "execution_count": 61,
   "metadata": {
    "collapsed": true
   },
   "outputs": [],
   "source": [
    "# upload_resource = '/home/mj1e16/outTables15/matchplus3Magdiff.csv'\n",
    "# j = Gaia.launch_job(query=\"select * from tap_upload.table_test\", upload_resource=upload_resource, \\\n",
    "# upload_table_name=\"table_test\", verbose=True)\n",
    "# r = j.get_results()\n",
    "# r.pprint()"
   ]
  },
  {
   "cell_type": "code",
   "execution_count": 15,
   "metadata": {
    "collapsed": true
   },
   "outputs": [],
   "source": [
    "def gaiaSearch(table):\n",
    "    RA = table['RA']\n",
    "    DEC = table['DEC']\n",
    "    width = u.Quantity(5., u.arcsecond)\n",
    "    height = u.Quantity(5., u.arcsecond)\n",
    "    #coord = [str(RA[0])+','+str(DEC[0])]\n",
    "    t0 = time.time()\n",
    "    for x in range(len(RA)):\n",
    "        coord = SkyCoord(ra=RA[x], dec=DEC[x], unit=(u.degree, u.degree), frame='icrs')\n",
    "        if x ==0:\n",
    "            result_table = Gaia.query_object_async(coordinate=coord, width=width, height=height)\n",
    "        else:\n",
    "            newtab = Gaia.query_object_async(coordinate=coord, width=width, height=height)\n",
    "            if len(newtab) != 0:\n",
    "                result_table.add_row(newtab[0])\n",
    "    print(time.time() - t0)\n",
    "    return result_table"
   ]
  },
  {
   "cell_type": "code",
   "execution_count": 18,
   "metadata": {
    "collapsed": true
   },
   "outputs": [],
   "source": [
    "def colourMag(table):\n",
    "    parallax = table['parallax']\n",
    "    distance = [1./(x/1000.) for x in parallax]\n",
    "    paraError = table['parallax_error']\n",
    "    colour = table['bp_rp']\n",
    "    gmag = table['phot_g_mean_mag']\n",
    "    extinction = table['a_g_val']\n",
    "\n",
    "\n",
    "    colourGood = [x for x,y,z in zip(colour,paraError,parallax) if y<0.25*z]\n",
    "    distanceGood = [x for x,y,z in zip(distance,paraError,parallax) if y<0.25*z]\n",
    "    gmagGood = [x for x,y,z in zip(gmag,paraError,parallax) if y<0.25*z]\n",
    "    exctinctionGood = [x for x,y,z in zip(extinction,paraError,parallax) if y<0.25*z]\n",
    "\n",
    "    absoluteMag = [mag - (5*(np.log10(dist)))  + 5 for mag,dist,ext in zip(gmagGood,distanceGood,exctinctionGood)]\n",
    "    return {'absMag':absoluteMag,'colour':colourGood}"
   ]
  },
  {
   "cell_type": "code",
   "execution_count": 10,
   "metadata": {
    "scrolled": true
   },
   "outputs": [
    {
     "name": "stdout",
     "output_type": "stream",
     "text": [
      "Query finished.\n",
      "Query finished.\n",
      "Query finished.\n",
      "Query finished.\n",
      "Query finished.\n",
      "Query finished.\n",
      "Query finished.\n",
      "Query finished.\n",
      "Query finished.\n",
      "Query finished.\n",
      "4.91826105118\n"
     ]
    }
   ],
   "source": [
    "RA = tabTot['RA']\n",
    "DEC = tabTot['DEC']\n",
    "width = u.Quantity(5., u.arcsecond)\n",
    "height = u.Quantity(5., u.arcsecond)\n",
    "#coord = [str(RA[0])+','+str(DEC[0])]\n",
    "t0 = time.time()\n",
    "for x in range(10000): #len(RA)):\n",
    "    coord = SkyCoord(ra=RA[x], dec=DEC[x], unit=(u.degree, u.degree), frame='icrs')\n",
    "    if x ==0:\n",
    "        result_table = Gaia.query_object_async(coordinate=coord, width=width, height=height)\n",
    "    else:\n",
    "        newtab = Gaia.query_object_async(coordinate=coord, width=width, height=height)\n",
    "        if len(newtab) != 0:\n",
    "            result_table.add_row(newtab[0])\n",
    "print(time.time() - t0)"
   ]
  },
  {
   "cell_type": "code",
   "execution_count": 12,
   "metadata": {
    "collapsed": true
   },
   "outputs": [],
   "source": [
    "#ascii.write(result_table,'/home/mj1e16/outTablesImproved/gaiaObjects.csv',format='csv',fast_writer=False)\n",
    "ascii.write(result_table,'/home/mj1e16/outTablesImproved/gaiaTab.csv',format='csv',fast_writer=False)"
   ]
  },
  {
   "cell_type": "code",
   "execution_count": 13,
   "metadata": {
    "collapsed": true
   },
   "outputs": [],
   "source": [
    "otherGaiaTab = ascii.read('/home/mj1e16/outTablesImproved/fullMatches.csv')"
   ]
  },
  {
   "cell_type": "code",
   "execution_count": 17,
   "metadata": {
    "scrolled": true
   },
   "outputs": [
    {
     "name": "stdout",
     "output_type": "stream",
     "text": [
      "Query finished.\n",
      "Query finished.\n",
      "Query finished.\n",
      "Query finished.\n",
      "Query finished.\n",
      "Query finished.\n",
      "Query finished.\n",
      "Query finished.\n",
      "Query finished.\n",
      "Query finished.\n",
      "Query finished.\n",
      "Query finished.\n",
      "Query finished.\n",
      "Query finished.\n",
      "Query finished.\n",
      "Query finished.\n",
      "Query finished.\n",
      "Query finished.\n",
      "Query finished.\n",
      "Query finished.\n",
      "Query finished.\n",
      "Query finished.\n",
      "Query finished.\n",
      "Query finished.\n",
      "Query finished.\n",
      "Query finished.\n",
      "Query finished.\n",
      "Query finished.\n",
      "Query finished.\n",
      "Query finished.\n",
      "Query finished.\n",
      "Query finished.\n",
      "Query finished.\n",
      "Query finished.\n",
      "Query finished.\n",
      "Query finished.\n",
      "16.1608419418\n"
     ]
    }
   ],
   "source": [
    "newGaiaTab = gaiaSearch(otherGaiaTab)"
   ]
  },
  {
   "cell_type": "code",
   "execution_count": 22,
   "metadata": {
    "collapsed": true
   },
   "outputs": [],
   "source": [
    "# if using a table previously made\n",
    "#result_table = ascii.read('/home/mj1e16/outTablesImproved/gaiaTab.csv')"
   ]
  },
  {
   "cell_type": "code",
   "execution_count": 23,
   "metadata": {
    "collapsed": true
   },
   "outputs": [],
   "source": [
    "refmagandcolour = colourMag(result_table)"
   ]
  },
  {
   "cell_type": "code",
   "execution_count": 24,
   "metadata": {
    "collapsed": true
   },
   "outputs": [],
   "source": [
    "magandcolour =colourMag(newGaiaTab)"
   ]
  },
  {
   "cell_type": "code",
   "execution_count": 25,
   "metadata": {},
   "outputs": [
    {
     "data": {
      "image/png": "[encoded data removed]",
      "text/plain": [
       "<matplotlib.figure.Figure at 0x7febf7183910>"
      ]
     },
     "metadata": {},
     "output_type": "display_data"
    }
   ],
   "source": [
    "plt.plot(refmagandcolour['colour'],refmagandcolour['absMag'],'o',markersize=2)\n",
    "plt.plot(magandcolour['colour'],magandcolour['absMag'],'ro',markersize=2)\n",
    "plt.ylim([-5,15])\n",
    "plt.xlim([0,3])\n",
    "plt.gca().invert_yaxis()\n",
    "plt.ylabel('Absolute g Mag')\n",
    "plt.xlabel('bp-rp')\n",
    "plt.show()"
   ]
  },
  {
   "cell_type": "code",
   "execution_count": 27,
   "metadata": {
    "collapsed": true
   },
   "outputs": [],
   "source": [
    "gaiaMag = result_table['phot_g_mean_mag']\n",
    "keplerMag = tabTot['MAG_BEST'][0:10000]"
   ]
  },
  {
   "cell_type": "code",
   "execution_count": 37,
   "metadata": {},
   "outputs": [],
   "source": [
    "def testfindMatches(tabTot,matchTab,arcsec=2.5*u.arcsec,low=0,high=10000):\n",
    "    tabMini = tabTot[low:high]\n",
    "    matches = 'not matched'\n",
    "    ra1 = matchTab['ra']\n",
    "    dec1 = matchTab['dec']\n",
    "    idx = []\n",
    "    ra2 = tabMini['RA']\n",
    "    dec2 = tabMini['DEC']    \n",
    "    c = SkyCoord(ra=ra1, dec=dec1,unit=(u.hourangle,u.deg),frame='fk5')\n",
    "    catalog = SkyCoord(ra=ra2*u.degree, dec=dec2*u.degree)\n",
    "    idx, d2d, d3d = c.match_to_catalog_sky(catalog)\n",
    "    sep_constraint = d2d < max_sep\n",
    "#     print(len(matches))\n",
    "#     print(matches)\n",
    "    tabMini.remove_rows(idx)\n",
    "    objectsFound = number1[sep_constraint]\n",
    "    origdf = bigdf[bigdf['NUMBER'].isin(objectsFound)]\n",
    "    return tabMini"
   ]
  },
  {
   "cell_type": "code",
   "execution_count": 99,
   "metadata": {
    "collapsed": true
   },
   "outputs": [],
   "source": [
    "def findMatchesNoCondition(tab,match,df,bigdf,max_sep = 2.5 * u.arcsec):\n",
    "    \n",
    "    number1 = match['index']\n",
    "    ra1 = match['ra']\n",
    "    dec1 = match['dec']\n",
    "\n",
    "    number2 = tab['index'] # difference image\n",
    "    ra2 = tab['RA']\n",
    "    dec2 = tab['DEC']    \n",
    "    \n",
    "    cat1 = SkyCoord(ra=ra1*u.degree, dec=dec1*u.degree)\n",
    "    cat2 = SkyCoord(ra=ra2*u.degree, dec=dec2*u.degree)\n",
    "    \n",
    "    idx, d2d, d3d = cat2.match_to_catalog_sky(cat1)\n",
    "    sep_constraint = d2d < max_sep\n",
    "    objectsFound = number2[sep_constraint]\n",
    "    matchdf = df[df['index'].isin(objectsFound)]\n",
    "    matchTab = Table.from_pandas(matchdf)\n",
    "\n",
    "    idx, d2d, d3d = cat1.match_to_catalog_sky(cat2)\n",
    "    sep_constraint = d2d < max_sep\n",
    "    #istrue = [x for x in sep_constraint if x == True]\n",
    "    objectsFound = number1[sep_constraint]\n",
    "    origdf = bigdf[bigdf['index'].isin(objectsFound)]\n",
    "    origTab = Table.from_pandas(origdf)\n",
    "    \n",
    "    return [matchTab,origTab]"
   ]
  },
  {
   "cell_type": "code",
   "execution_count": 93,
   "metadata": {},
   "outputs": [],
   "source": [
    "indexes = [i for i in range(10000)]\n",
    "rtindexes = [i for i in range(len(result_table))]\n",
    "tabMini = tabTot[0:10000]\n",
    "tabMini['index'] = indexes\n",
    "result_table['index'] = rtindexes\n",
    "df = tabMini.to_pandas()\n",
    "bigdf = result_table.to_pandas()"
   ]
  },
  {
   "cell_type": "code",
   "execution_count": 100,
   "metadata": {},
   "outputs": [],
   "source": [
    "match = findMatchesNoCondition(tabMini,result_table,df,bigdf)"
   ]
  },
  {
   "cell_type": "code",
   "execution_count": 105,
   "metadata": {
    "scrolled": true
   },
   "outputs": [
    {
     "data": {
      "text/html": [
       "&lt;Table length=2070&gt;\n",
       "<table id=\"table140651353147792\" class=\"table-striped table-bordered table-condensed\">\n",
       "<thead><tr><th>dist</th><th>solution_id</th><th>designation</th><th>source_id</th><th>random_index</th><th>ref_epoch</th><th>ra</th><th>ra_error</th><th>dec</th><th>dec_error</th><th>parallax</th><th>parallax_error</th><th>parallax_over_error</th><th>pmra</th><th>pmra_error</th><th>pmdec</th><th>pmdec_error</th><th>ra_dec_corr</th><th>ra_parallax_corr</th><th>ra_pmra_corr</th><th>ra_pmdec_corr</th><th>dec_parallax_corr</th><th>dec_pmra_corr</th><th>dec_pmdec_corr</th><th>parallax_pmra_corr</th><th>parallax_pmdec_corr</th><th>pmra_pmdec_corr</th><th>astrometric_n_obs_al</th><th>astrometric_n_obs_ac</th><th>astrometric_n_good_obs_al</th><th>astrometric_n_bad_obs_al</th><th>astrometric_gof_al</th><th>astrometric_chi2_al</th><th>astrometric_excess_noise</th><th>astrometric_excess_noise_sig</th><th>astrometric_params_solved</th><th>astrometric_primary_flag</th><th>astrometric_weight_al</th><th>astrometric_pseudo_colour</th><th>astrometric_pseudo_colour_error</th><th>mean_varpi_factor_al</th><th>astrometric_matched_observations</th><th>visibility_periods_used</th><th>astrometric_sigma5d_max</th><th>frame_rotator_object_type</th><th>matched_observations</th><th>duplicated_source</th><th>phot_g_n_obs</th><th>phot_g_mean_flux</th><th>phot_g_mean_flux_error</th><th>phot_g_mean_flux_over_error</th><th>phot_g_mean_mag</th><th>phot_bp_n_obs</th><th>phot_bp_mean_flux</th><th>phot_bp_mean_flux_error</th><th>phot_bp_mean_flux_over_error</th><th>phot_bp_mean_mag</th><th>phot_rp_n_obs</th><th>phot_rp_mean_flux</th><th>phot_rp_mean_flux_error</th><th>phot_rp_mean_flux_over_error</th><th>phot_rp_mean_mag</th><th>phot_bp_rp_excess_factor</th><th>phot_proc_mode</th><th>bp_rp</th><th>bp_g</th><th>g_rp</th><th>radial_velocity</th><th>radial_velocity_error</th><th>rv_nb_transits</th><th>rv_template_teff</th><th>rv_template_logg</th><th>rv_template_fe_h</th><th>phot_variable_flag</th><th>l</th><th>b</th><th>ecl_lon</th><th>ecl_lat</th><th>priam_flags</th><th>teff_val</th><th>teff_percentile_lower</th><th>teff_percentile_upper</th><th>a_g_val</th><th>a_g_percentile_lower</th><th>a_g_percentile_upper</th><th>e_bp_min_rp_val</th><th>e_bp_min_rp_percentile_lower</th><th>e_bp_min_rp_percentile_upper</th><th>flame_flags</th><th>radius_val</th><th>radius_percentile_lower</th><th>radius_percentile_upper</th><th>lum_val</th><th>lum_percentile_lower</th><th>lum_percentile_upper</th><th>datalink_url</th><th>epoch_photometry_url</th><th>index</th></tr></thead>\n",
       "<thead><tr><th>float64</th><th>int64</th><th>str28</th><th>int64</th><th>int64</th><th>float64</th><th>float64</th><th>float64</th><th>float64</th><th>float64</th><th>float64</th><th>float64</th><th>float64</th><th>float64</th><th>float64</th><th>float64</th><th>float64</th><th>float64</th><th>float64</th><th>float64</th><th>float64</th><th>float64</th><th>float64</th><th>float64</th><th>float64</th><th>float64</th><th>float64</th><th>int64</th><th>int64</th><th>int64</th><th>int64</th><th>float64</th><th>float64</th><th>float64</th><th>float64</th><th>int64</th><th>str5</th><th>float64</th><th>float64</th><th>float64</th><th>float64</th><th>int64</th><th>int64</th><th>float64</th><th>int64</th><th>int64</th><th>str5</th><th>int64</th><th>float64</th><th>float64</th><th>float64</th><th>float64</th><th>int64</th><th>float64</th><th>float64</th><th>float64</th><th>float64</th><th>int64</th><th>float64</th><th>float64</th><th>float64</th><th>float64</th><th>float64</th><th>int64</th><th>float64</th><th>float64</th><th>float64</th><th>float64</th><th>float64</th><th>int64</th><th>float64</th><th>float64</th><th>float64</th><th>str13</th><th>float64</th><th>float64</th><th>float64</th><th>float64</th><th>int64</th><th>float64</th><th>float64</th><th>float64</th><th>float64</th><th>float64</th><th>float64</th><th>float64</th><th>float64</th><th>float64</th><th>int64</th><th>float64</th><th>float64</th><th>float64</th><th>float64</th><th>float64</th><th>float64</th><th>str77</th><th>str99</th><th>int64</th></tr></thead>\n",
       "<tr><td>0.0004856895386947052</td><td>1635721458409799680</td><td>Gaia DR2 2101397003944879744</td><td>2101397003944879744</td><td>1460115014</td><td>2015.5</td><td>290.1541864197112</td><td>0.5432112779766552</td><td>40.9350567951846</td><td>0.7683634845762366</td><td>-1.3875383085515758</td><td>0.6925544086393817</td><td>-2.003508</td><td>-1.6469723906519274</td><td>1.1554458124932419</td><td>0.02832046423850106</td><td>1.7692631528420302</td><td>0.08079609</td><td>0.26672313</td><td>0.08902849</td><td>-0.30213055</td><td>0.26576456</td><td>-0.3175182</td><td>-0.115155965</td><td>-0.06868647</td><td>0.057202842</td><td>0.013251644</td><td>167</td><td>0</td><td>167</td><td>0</td><td>1.933488</td><td>198.58994</td><td>1.4973966196441795</td><td>0.7626853853394648</td><td>31</td><td>False</td><td>0.037213326</td><td>1.7492072531715066</td><td>0.1656579173208149</td><td>0.21154217</td><td>20</td><td>14</td><td>1.5636353</td><td>0</td><td>22</td><td>False</td><td>185</td><td>115.98480231678155</td><td>0.9944445855181093</td><td>116.632744</td><td>20.527363</td><td>14</td><td>96.61784003532408</td><td>15.769214245003758</td><td>6.1269913</td><td>20.388744</td><td>15</td><td>109.9780189881386</td><td>9.456519384464732</td><td>11.629863</td><td>19.658655</td><td>1.7812321</td><td>0</td><td>0.7300892</td><td>-0.13861847</td><td>0.86870766</td><td>0.0</td><td>0.0</td><td>0</td><td>0.0</td><td>0.0</td><td>0.0</td><td>NOT_AVAILABLE</td><td>72.8462236301454</td><td>12.321236533507404</td><td>303.7161711816616</td><td>62.03556137263401</td><td>0</td><td>0.0</td><td>0.0</td><td>0.0</td><td>0.0</td><td>0.0</td><td>0.0</td><td>0.0</td><td>0.0</td><td>0.0</td><td>0</td><td>0.0</td><td>0.0</td><td>0.0</td><td>0.0</td><td>0.0</td><td>0.0</td><td>http://geadata.esac.esa.int/data-server/datalink/links?ID=2101397003944879744</td><td>--</td><td>0</td></tr>\n",
       "<tr><td>0.0004220522502123424</td><td>1635721458409799680</td><td>Gaia DR2 2101399306052024832</td><td>2101399306052024832</td><td>760687150</td><td>2015.5</td><td>290.3191674090691</td><td>0.01146370356861856</td><td>41.038643828467215</td><td>0.013157286534784192</td><td>2.6444742383694697</td><td>0.014254419301190787</td><td>185.5196</td><td>-5.097038692635611</td><td>0.02495669795514842</td><td>-0.9655807078618102</td><td>0.02803366587614792</td><td>0.030564</td><td>0.00073369377</td><td>-0.053977344</td><td>-0.042234153</td><td>0.19177416</td><td>-0.077061795</td><td>-0.1397227</td><td>-0.18708868</td><td>-0.16435198</td><td>0.062010564</td><td>235</td><td>0</td><td>233</td><td>2</td><td>-4.561351</td><td>143.31865</td><td>0.0</td><td>0.0</td><td>31</td><td>True</td><td>91.91692</td><td>1.5463240794613022</td><td>0.0035608379413206246</td><td>0.09213704</td><td>27</td><td>17</td><td>0.038018923</td><td>0</td><td>30</td><td>False</td><td>262</td><td>69431.45581916934</td><td>99.51214013624953</td><td>697.71844</td><td>13.5844755</td><td>29</td><td>31621.797584482556</td><td>173.64078629032616</td><td>182.11043</td><td>14.101421</td><td>30</td><td>54725.30225359843</td><td>213.45434082801</td><td>256.37943</td><td>12.91645</td><td>1.2436309</td><td>0</td><td>1.1849718</td><td>0.51694584</td><td>0.668026</td><td>0.0</td><td>0.0</td><td>0</td><td>0.0</td><td>0.0</td><td>0.0</td><td>NOT_AVAILABLE</td><td>72.99666566241395</td><td>12.253177161564027</td><td>304.03525049517026</td><td>62.09800009326108</td><td>100001</td><td>4901.0</td><td>4853.8604</td><td>4944.005</td><td>0.462</td><td>0.425</td><td>0.649</td><td>0.229</td><td>0.1963</td><td>0.3401</td><td>200111</td><td>0.9231316</td><td>0.9071419</td><td>0.9411492</td><td>0.44295615</td><td>0.43564916</td><td>0.45026314</td><td>http://geadata.esac.esa.int/data-server/datalink/links?ID=2101399306052024832</td><td>--</td><td>1</td></tr>\n",
       "<tr><td>0.0002330564674265554</td><td>1635721458409799680</td><td>Gaia DR2 2101402879464818432</td><td>2101402879464818432</td><td>1485150310</td><td>2015.5</td><td>290.243887555266</td><td>0.018495710109121953</td><td>41.12068920921822</td><td>0.022415476270007593</td><td>3.141134974207104</td><td>0.023473063990609378</td><td>133.81871</td><td>27.82758013756394</td><td>0.04092535720313777</td><td>21.240909572674624</td><td>0.04735402209226168</td><td>0.01698682</td><td>0.031719714</td><td>-0.14611492</td><td>-0.02849742</td><td>0.17733027</td><td>-0.065105006</td><td>-0.25468075</td><td>-0.25391442</td><td>-0.14752032</td><td>0.016065119</td><td>234</td><td>234</td><td>227</td><td>7</td><td>11.464072</td><td>560.53564</td><td>0.0</td><td>0.0</td><td>31</td><td>True</td><td>318.77148</td><td>1.6537243611555967</td><td>0.005675741634893289</td><td>0.090584666</td><td>28</td><td>17</td><td>0.036887538</td><td>0</td><td>30</td><td>False</td><td>239</td><td>1656892.4638721915</td><td>595.6786414832825</td><td>2781.5208</td><td>10.14013</td><td>27</td><td>929407.8257648475</td><td>652.7776971991345</td><td>1423.7739</td><td>10.430872</td><td>30</td><td>1037977.611146936</td><td>1103.837698021304</td><td>940.3353</td><td>9.72145</td><td>1.1873947</td><td>0</td><td>0.7094221</td><td>0.29074192</td><td>0.4186802</td><td>-19.41345806222332</td><td>0.6707488856827293</td><td>3</td><td>6000.0</td><td>4.0</td><td>-0.25</td><td>NOT_AVAILABLE</td><td>73.04759165277859</td><td>12.339639231452928</td><td>303.9710287257838</td><td>62.193137634052</td><td>100001</td><td>5992.0</td><td>5948.6665</td><td>6097.85</td><td>0.0</td><td>0.0</td><td>0.0</td><td>0.0</td><td>0.0</td><td>0.0</td><td>200111</td><td>2.3769445</td><td>2.29514</td><td>2.4117007</td><td>6.5617557</td><td>6.475902</td><td>6.647609</td><td>http://geadata.esac.esa.int/data-server/datalink/links?ID=2101402879464818432</td><td>--</td><td>2</td></tr>\n",
       "<tr><td>0.0002122904491696832</td><td>1635721458409799680</td><td>Gaia DR2 2101424148136043264</td><td>2101424148136043264</td><td>1605578302</td><td>2015.5</td><td>289.4486277921592</td><td>0.5137579276812548</td><td>40.75415393971871</td><td>0.5299980768071598</td><td>0.8472013298438605</td><td>0.6080670207865962</td><td>1.3932697</td><td>-7.0082379661327</td><td>1.2709975683714134</td><td>-10.804708363142087</td><td>1.1494028350511218</td><td>0.09100874</td><td>-0.19690035</td><td>-0.21368186</td><td>-0.10360188</td><td>0.28276223</td><td>-0.018435884</td><td>-0.0743782</td><td>0.18790768</td><td>0.14375807</td><td>0.24031503</td><td>213</td><td>0</td><td>212</td><td>1</td><td>10.608776</td><td>505.37115</td><td>3.1691077318897594</td><td>9.373708143348733</td><td>31</td><td>False</td><td>0.038600024</td><td>1.3490197120877383</td><td>0.13530745985353831</td><td>0.011518788</td><td>24</td><td>14</td><td>1.2023271</td><td>0</td><td>29</td><td>False</td><td>223</td><td>221.68902385514394</td><td>1.9583583336606618</td><td>113.20146</td><td>19.824005</td><td>0</td><td>0.0</td><td>0.0</td><td>0.0</td><td>0.0</td><td>0</td><td>0.0</td><td>0.0</td><td>0.0</td><td>0.0</td><td>0.0</td><td>2</td><td>0.0</td><td>0.0</td><td>0.0</td><td>0.0</td><td>0.0</td><td>0</td><td>0.0</td><td>0.0</td><td>0.0</td><td>NOT_AVAILABLE</td><td>72.44591696478012</td><td>12.727313532134506</td><td>302.515469512717</td><td>62.015613560466676</td><td>0</td><td>0.0</td><td>0.0</td><td>0.0</td><td>0.0</td><td>0.0</td><td>0.0</td><td>0.0</td><td>0.0</td><td>0.0</td><td>0</td><td>0.0</td><td>0.0</td><td>0.0</td><td>0.0</td><td>0.0</td><td>0.0</td><td>http://geadata.esac.esa.int/data-server/datalink/links?ID=2101424148136043264</td><td>--</td><td>3</td></tr>\n",
       "<tr><td>0.000387895222380987</td><td>1635721458409799680</td><td>Gaia DR2 2101432497558689152</td><td>2101432497558689152</td><td>1291811767</td><td>2015.5</td><td>289.53445238445204</td><td>0.06232186770684707</td><td>40.97823848904643</td><td>0.08742671269596165</td><td>0.7354375004236173</td><td>0.08363845597349646</td><td>8.793055</td><td>3.700707625325758</td><td>0.14649046344847574</td><td>-4.557758556044984</td><td>0.19657031689837412</td><td>-0.10843325</td><td>-0.09519728</td><td>0.015053669</td><td>-0.0045489473</td><td>0.11900093</td><td>-0.021639088</td><td>-0.04418869</td><td>-0.120591275</td><td>0.013958844</td><td>-0.021856619</td><td>195</td><td>0</td><td>193</td><td>2</td><td>1.293249</td><td>213.4821</td><td>0.0</td><td>0.0</td><td>31</td><td>False</td><td>2.0155694</td><td>1.4994995051632285</td><td>0.022190792781942408</td><td>0.11784141</td><td>22</td><td>15</td><td>0.17918909</td><td>0</td><td>25</td><td>False</td><td>217</td><td>1953.5037814301797</td><td>2.154672058784577</td><td>906.6362</td><td>17.46133</td><td>22</td><td>819.4436204402205</td><td>9.354051821244438</td><td>87.603065</td><td>18.06759</td><td>24</td><td>1694.280156833073</td><td>12.293973484782327</td><td>137.81387</td><td>16.689457</td><td>1.286777</td><td>0</td><td>1.3781338</td><td>0.6062603</td><td>0.7718735</td><td>0.0</td><td>0.0</td><td>0</td><td>0.0</td><td>0.0</td><td>0.0</td><td>NOT_AVAILABLE</td><td>72.68226437219036</td><td>12.76316181092737</td><td>302.78449213931</td><td>62.21206799591839</td><td>0</td><td>0.0</td><td>0.0</td><td>0.0</td><td>0.0</td><td>0.0</td><td>0.0</td><td>0.0</td><td>0.0</td><td>0.0</td><td>0</td><td>0.0</td><td>0.0</td><td>0.0</td><td>0.0</td><td>0.0</td><td>0.0</td><td>http://geadata.esac.esa.int/data-server/datalink/links?ID=2101432497558689152</td><td>--</td><td>4</td></tr>\n",
       "<tr><td>0.00031015435651888075</td><td>1635721458409799680</td><td>Gaia DR2 2101461634612036608</td><td>2101461634612036608</td><td>438870029</td><td>2015.5</td><td>289.6203367119299</td><td>0.14626603766857457</td><td>41.176855678920425</td><td>0.168819383254924</td><td>0.34284714655867526</td><td>0.16418208668504777</td><td>2.088213</td><td>-2.7776474919296565</td><td>0.30512633322045773</td><td>-7.653537033882579</td><td>0.31273424150943585</td><td>-0.2898891</td><td>-0.29413095</td><td>-0.31484786</td><td>0.24095808</td><td>0.2224858</td><td>0.19580205</td><td>-0.43902776</td><td>-0.07442041</td><td>-0.13932541</td><td>-0.08855805</td><td>195</td><td>0</td><td>186</td><td>9</td><td>-0.75825065</td><td>166.32228</td><td>0.0</td><td>0.0</td><td>31</td><td>False</td><td>0.58273363</td><td>1.6873637215072768</td><td>0.0437417750026607</td><td>0.0972323</td><td>22</td><td>14</td><td>0.30670097</td><td>0</td><td>27</td><td>False</td><td>220</td><td>783.7655886683303</td><td>2.2180971569855665</td><td>353.35043</td><td>18.4529</td><td>24</td><td>473.63431283373</td><td>23.98443166308092</td><td>19.747574</td><td>18.66278</td><td>22</td><td>645.3573253174991</td><td>18.197713799991835</td><td>35.46365</td><td>17.73742</td><td>1.4277121</td><td>0</td><td>0.92536163</td><td>0.20988083</td><td>0.7154808</td><td>0.0</td><td>0.0</td><td>0</td><td>0.0</td><td>0.0</td><td>0.0</td><td>NOT_AVAILABLE</td><td>72.89489819119997</td><td>12.788421833826632</td><td>303.04041305106574</td><td>62.38378365713427</td><td>0</td><td>0.0</td><td>0.0</td><td>0.0</td><td>0.0</td><td>0.0</td><td>0.0</td><td>0.0</td><td>0.0</td><td>0.0</td><td>0</td><td>0.0</td><td>0.0</td><td>0.0</td><td>0.0</td><td>0.0</td><td>0.0</td><td>http://geadata.esac.esa.int/data-server/datalink/links?ID=2101461634612036608</td><td>--</td><td>5</td></tr>\n",
       "<tr><td>0.0004622654361538099</td><td>1635721458409799680</td><td>Gaia DR2 2101456446297390208</td><td>2101456446297390208</td><td>209999101</td><td>2015.5</td><td>289.33647945975764</td><td>0.0176600112662918</td><td>41.318546470091476</td><td>0.021193451919949237</td><td>1.3820826279302159</td><td>0.021238545468044105</td><td>65.07426</td><td>-4.246417227488611</td><td>0.036651841358804525</td><td>-3.484063360195454</td><td>0.03721927321496541</td><td>-0.066721275</td><td>0.040710818</td><td>-0.2675735</td><td>-0.01203136</td><td>0.24911341</td><td>-0.05255998</td><td>-0.31725648</td><td>-0.15295884</td><td>-0.1286631</td><td>-0.07215226</td><td>221</td><td>176</td><td>219</td><td>2</td><td>0.96602476</td><td>233.90576</td><td>0.0</td><td>0.0</td><td>31</td><td>False</td><td>192.74944</td><td>1.6326214435230528</td><td>0.006026226467868704</td><td>-0.083882555</td><td>25</td><td>15</td><td>0.03295461</td><td>0</td><td>27</td><td>False</td><td>228</td><td>137062.39913274284</td><td>119.1318288431978</td><td>1150.5104</td><td>12.84607</td><td>24</td><td>75780.34201163767</td><td>227.04412859003023</td><td>333.76923</td><td>13.152496</td><td>25</td><td>89449.28771997837</td><td>329.3461321324131</td><td>271.5966</td><td>12.3829775</td><td>1.2055066</td><td>0</td><td>0.76951885</td><td>0.30642605</td><td>0.4630928</td><td>0.0</td><td>0.0</td><td>0</td><td>0.0</td><td>0.0</td><td>0.0</td><td>NOT_AVAILABLE</td><td>72.93453654264452</td><td>13.041666184705484</td><td>302.6859662931502</td><td>62.580780186313135</td><td>100001</td><td>5838.775</td><td>5401.1724</td><td>6154.4497</td><td>0.717</td><td>0.5329</td><td>1.086</td><td>0.362</td><td>0.2639</td><td>0.5197</td><td>200111</td><td>1.64217</td><td>1.4780296</td><td>1.9190465</td><td>2.8236957</td><td>2.7399962</td><td>2.9073951</td><td>http://geadata.esac.esa.int/data-server/datalink/links?ID=2101456446297390208</td><td>--</td><td>6</td></tr>\n",
       "<tr><td>0.0005284090517489272</td><td>1635721458409799680</td><td>Gaia DR2 2101488538292893312</td><td>2101488538292893312</td><td>1527872924</td><td>2015.5</td><td>289.6587404697651</td><td>0.2225138327428164</td><td>41.60504774081689</td><td>0.25246746786843655</td><td>0.09246626355531003</td><td>0.2750670803844971</td><td>0.33615896</td><td>-1.6923901734471178</td><td>0.5156460942561092</td><td>-2.8934005519414274</td><td>0.5331538066769569</td><td>0.09274621</td><td>-0.04058627</td><td>0.086554565</td><td>0.057568528</td><td>0.23817386</td><td>-0.013197092</td><td>-0.107394345</td><td>-0.24201375</td><td>-0.14805886</td><td>0.18204974</td><td>230</td><td>0</td><td>230</td><td>0</td><td>0.22923867</td><td>229.22235</td><td>0.0</td><td>0.0</td><td>31</td><td>False</td><td>0.16310239</td><td>1.7983106947615204</td><td>0.07218806107865795</td><td>-0.03125481</td><td>26</td><td>16</td><td>0.50584096</td><td>0</td><td>29</td><td>False</td><td>248</td><td>377.7260744843798</td><td>1.3510060627706373</td><td>279.58875</td><td>19.245422</td><td>25</td><td>224.26421881849257</td><td>11.087585580645166</td><td>20.226606</td><td>19.474487</td><td>27</td><td>224.74251757229317</td><td>9.072222842444559</td><td>24.772596</td><td>18.882708</td><td>1.18871</td><td>0</td><td>0.5917797</td><td>0.22906494</td><td>0.36271477</td><td>0.0</td><td>0.0</td><td>0</td><td>0.0</td><td>0.0</td><td>0.0</td><td>NOT_AVAILABLE</td><td>73.3055364419852</td><td>12.943067786945972</td><td>303.3703300364813</td><td>62.785161207756445</td><td>0</td><td>0.0</td><td>0.0</td><td>0.0</td><td>0.0</td><td>0.0</td><td>0.0</td><td>0.0</td><td>0.0</td><td>0.0</td><td>0</td><td>0.0</td><td>0.0</td><td>0.0</td><td>0.0</td><td>0.0</td><td>0.0</td><td>http://geadata.esac.esa.int/data-server/datalink/links?ID=2101488538292893312</td><td>--</td><td>7</td></tr>\n",
       "<tr><td>9.419324863402889e-05</td><td>1635721458409799680</td><td>Gaia DR2 2102232598425284096</td><td>2102232598425284096</td><td>1251790807</td><td>2015.5</td><td>289.3007546786347</td><td>0.012034669131814394</td><td>41.5264899506855</td><td>0.014943520625278421</td><td>0.6472926800031895</td><td>0.015703302373945422</td><td>41.22016</td><td>-3.765179169370753</td><td>0.02616763921540407</td><td>-2.2500182160765902</td><td>0.029516896092991397</td><td>0.035797726</td><td>-0.009988643</td><td>-0.08750999</td><td>0.058426864</td><td>0.3095421</td><td>-0.01670381</td><td>-0.13905455</td><td>-0.2055981</td><td>0.038172785</td><td>0.18293516</td><td>220</td><td>9</td><td>220</td><td>0</td><td>-4.4159436</td><td>135.32397</td><td>0.0</td><td>0.0</td><td>31</td><td>True</td><td>107.54102</td><td>1.5259844297854235</td><td>0.0036868222885610936</td><td>0.09265458</td><td>25</td><td>16</td><td>0.039016668</td><td>0</td><td>28</td><td>False</td><td>238</td><td>84520.46022393616</td><td>130.0672234997878</td><td>649.82135</td><td>13.370961</td><td>25</td><td>37381.33372839732</td><td>279.79922312510564</td><td>133.60056</td><td>13.919751</td><td>24</td><td>68185.74179760664</td><td>319.8194980741075</td><td>213.2007</td><td>12.677686</td><td>1.2490121</td><td>0</td><td>1.2420654</td><td>0.54879</td><td>0.69327545</td><td>0.0</td><td>0.0</td><td>0</td><td>0.0</td><td>0.0</td><td>0.0</td><td>NOT_AVAILABLE</td><td>73.11685757170123</td><td>13.153129647961416</td><td>302.7599868023794</td><td>62.787672232202674</td><td>100001</td><td>4962.26</td><td>4434.0</td><td>5126.0</td><td>0.0</td><td>0.0</td><td>0.0</td><td>0.0</td><td>0.0</td><td>0.0</td><td>200111</td><td>4.029675</td><td>3.7763464</td><td>5.0470505</td><td>8.870595</td><td>8.249699</td><td>9.491491</td><td>http://geadata.esac.esa.int/data-server/datalink/links?ID=2102232598425284096</td><td>--</td><td>9</td></tr>\n",
       "<tr><td>0.0006012709365776221</td><td>1635721458409799680</td><td>Gaia DR2 2102212772856206720</td><td>2102212772856206720</td><td>189424945</td><td>2015.5</td><td>289.12062737131527</td><td>0.016306341959213218</td><td>41.52020032064188</td><td>0.019877548147559144</td><td>0.01916612050556244</td><td>0.020983547934086928</td><td>0.91338795</td><td>-1.453607846171742</td><td>0.03510777363993641</td><td>-4.009393499537431</td><td>0.04188246916898582</td><td>-0.007907597</td><td>0.037940867</td><td>-0.071976095</td><td>-0.071228124</td><td>0.3165043</td><td>-0.10835497</td><td>0.0166296</td><td>-0.1645843</td><td>-0.012860554</td><td>0.06965653</td><td>224</td><td>0</td><td>224</td><td>0</td><td>5.9643235</td><td>368.09814</td><td>0.1459371725715007</td><td>5.887768502180291</td><td>31</td><td>False</td><td>31.299494</td><td>1.352094894034948</td><td>0.004769260175141666</td><td>0.12013226</td><td>26</td><td>16</td><td>0.04940841</td><td>0</td><td>30</td><td>False</td><td>251</td><td>76540.5144513429</td><td>168.6160605919549</td><td>453.93372</td><td>13.478638</td><td>27</td><td>18488.254145529987</td><td>195.1041078603845</td><td>94.76097</td><td>14.684149</td><td>27</td><td>88247.91905035324</td><td>498.8230880150058</td><td>176.91226</td><td>12.397658</td><td>1.3945056</td><td>0</td><td>2.2864904</td><td>1.2055111</td><td>1.0809793</td><td>0.0</td><td>0.0</td><td>0</td><td>0.0</td><td>0.0</td><td>0.0</td><td>NOT_AVAILABLE</td><td>73.05312336710284</td><td>13.273032143396073</td><td>302.4733319396257</td><td>62.82026678588796</td><td>100001</td><td>3662.3367</td><td>3493.0</td><td>3944.3</td><td>0.8527</td><td>0.3659</td><td>2.0151</td><td>0.38</td><td>0.1905</td><td>0.8131</td><td>0</td><td>0.0</td><td>0.0</td><td>0.0</td><td>0.0</td><td>0.0</td><td>0.0</td><td>http://geadata.esac.esa.int/data-server/datalink/links?ID=2102212772856206720</td><td>--</td><td>10</td></tr>\n",
       "<tr><td>...</td><td>...</td><td>...</td><td>...</td><td>...</td><td>...</td><td>...</td><td>...</td><td>...</td><td>...</td><td>...</td><td>...</td><td>...</td><td>...</td><td>...</td><td>...</td><td>...</td><td>...</td><td>...</td><td>...</td><td>...</td><td>...</td><td>...</td><td>...</td><td>...</td><td>...</td><td>...</td><td>...</td><td>...</td><td>...</td><td>...</td><td>...</td><td>...</td><td>...</td><td>...</td><td>...</td><td>...</td><td>...</td><td>...</td><td>...</td><td>...</td><td>...</td><td>...</td><td>...</td><td>...</td><td>...</td><td>...</td><td>...</td><td>...</td><td>...</td><td>...</td><td>...</td><td>...</td><td>...</td><td>...</td><td>...</td><td>...</td><td>...</td><td>...</td><td>...</td><td>...</td><td>...</td><td>...</td><td>...</td><td>...</td><td>...</td><td>...</td><td>...</td><td>...</td><td>...</td><td>...</td><td>...</td><td>...</td><td>...</td><td>...</td><td>...</td><td>...</td><td>...</td><td>...</td><td>...</td><td>...</td><td>...</td><td>...</td><td>...</td><td>...</td><td>...</td><td>...</td><td>...</td><td>...</td><td>...</td><td>...</td><td>...</td><td>...</td><td>...</td><td>...</td><td>...</td><td>...</td><td>...</td></tr>\n",
       "<tr><td>0.00037260123250901147</td><td>1635721458409799680</td><td>Gaia DR2 2099801715655422464</td><td>2099801715655422464</td><td>845392938</td><td>2015.5</td><td>288.32961265482663</td><td>0.020024533127454402</td><td>40.11029235662445</td><td>0.022391981533879265</td><td>1.362796496196831</td><td>0.024780158818817243</td><td>54.995472</td><td>-2.7952267062303164</td><td>0.044532256846605375</td><td>-5.200314599917421</td><td>0.04659999528769008</td><td>-0.12919618</td><td>-0.21404746</td><td>-0.22384572</td><td>0.063723795</td><td>0.31252083</td><td>0.01583738</td><td>-0.2668981</td><td>-0.0044223485</td><td>-0.20571928</td><td>-0.13162443</td><td>227</td><td>227</td><td>225</td><td>2</td><td>3.4931908</td><td>300.8876</td><td>0.0</td><td>0.0</td><td>31</td><td>True</td><td>230.54779</td><td>1.6203631306419233</td><td>0.005940661607047565</td><td>0.052051257</td><td>26</td><td>16</td><td>0.037140533</td><td>0</td><td>27</td><td>False</td><td>233</td><td>164222.65869001727</td><td>27.998780929089374</td><td>5865.35</td><td>12.649783</td><td>24</td><td>89198.17180993495</td><td>85.87958741740856</td><td>1038.6423</td><td>12.975498</td><td>24</td><td>108961.05720910491</td><td>77.56787780024463</td><td>1404.7189</td><td>12.168742</td><td>1.2066498</td><td>0</td><td>0.806756</td><td>0.32571507</td><td>0.48104095</td><td>-17.03562547874465</td><td>1.9515937985769436</td><td>7</td><td>5750.0</td><td>4.5</td><td>0.0</td><td>NOT_AVAILABLE</td><td>71.48007190699157</td><td>13.231532489215473</td><td>300.4080995296365</td><td>61.62846543369845</td><td>100001</td><td>5856.0</td><td>5796.0</td><td>5884.75</td><td>0.0</td><td>0.0</td><td>0.0</td><td>0.0</td><td>0.0</td><td>0.0</td><td>200111</td><td>1.811427</td><td>1.7937707</td><td>1.8491248</td><td>3.4764872</td><td>3.3680472</td><td>3.584927</td><td>http://geadata.esac.esa.int/data-server/datalink/links?ID=2099801715655422464</td><td>--</td><td>2190</td></tr>\n",
       "<tr><td>0.000574505579347621</td><td>1635721458409799680</td><td>Gaia DR2 2101309420975620224</td><td>2101309420975620224</td><td>909576174</td><td>2015.5</td><td>288.61616780186137</td><td>0.013351155288282592</td><td>40.375653836033926</td><td>0.018041446175199635</td><td>0.6692479452763751</td><td>0.017300314137905344</td><td>38.68415</td><td>-3.064833673272679</td><td>0.027584606388378303</td><td>-6.639360098522637</td><td>0.031677516628561664</td><td>-0.07390266</td><td>0.01664809</td><td>-0.19828197</td><td>-0.00010644881</td><td>0.2185834</td><td>-0.08936254</td><td>-0.47291616</td><td>-0.31764486</td><td>-0.038403403</td><td>-0.0076284697</td><td>220</td><td>62</td><td>220</td><td>0</td><td>-0.35310197</td><td>207.10979</td><td>0.0</td><td>0.0</td><td>31</td><td>True</td><td>157.69745</td><td>1.5248822194753602</td><td>0.0045376026237069645</td><td>0.026341327</td><td>25</td><td>15</td><td>0.036903437</td><td>0</td><td>26</td><td>False</td><td>219</td><td>118449.95327147198</td><td>28.238127547841707</td><td>4194.6816</td><td>13.004528</td><td>26</td><td>53181.865612349924</td><td>67.34713322268686</td><td>789.66785</td><td>13.53698</td><td>25</td><td>93439.91111942676</td><td>57.038919674035036</td><td>1638.1781</td><td>12.335589</td><td>1.2378373</td><td>0</td><td>1.2013903</td><td>0.5324516</td><td>0.66893864</td><td>-2.9615266063756565</td><td>2.389810999519051</td><td>6</td><td>5000.0</td><td>3.5</td><td>-0.5</td><td>NOT_AVAILABLE</td><td>71.82129880465412</td><td>13.142742390294659</td><td>301.002307076033</td><td>61.82605729756646</td><td>100001</td><td>4887.04</td><td>4847.0</td><td>5090.62</td><td>0.0</td><td>0.0</td><td>0.0</td><td>0.0</td><td>0.0</td><td>0.0</td><td>200111</td><td>4.7999377</td><td>4.4237037</td><td>4.8795676</td><td>11.83994</td><td>11.075808</td><td>12.604073</td><td>http://geadata.esac.esa.int/data-server/datalink/links?ID=2101309420975620224</td><td>--</td><td>2191</td></tr>\n",
       "<tr><td>0.0006481523835903573</td><td>1635721458409799680</td><td>Gaia DR2 2101330483495831040</td><td>2101330483495831040</td><td>1405043480</td><td>2015.5</td><td>289.10665276181516</td><td>0.014523668922401556</td><td>40.63875116574642</td><td>0.018198471388813458</td><td>0.3551634175682724</td><td>0.016769467975854033</td><td>21.17917</td><td>-2.7496531591974933</td><td>0.031336933611700965</td><td>-4.0565859645136015</td><td>0.040262526745483466</td><td>0.17969078</td><td>-0.06151005</td><td>-0.26847875</td><td>-0.2947681</td><td>0.120526165</td><td>-0.28856376</td><td>-0.37345082</td><td>-0.03329036</td><td>-0.09108978</td><td>0.0951723</td><td>211</td><td>63</td><td>207</td><td>4</td><td>-0.044090733</td><td>200.4511</td><td>0.0</td><td>1.2345601668444868e-15</td><td>31</td><td>False</td><td>159.42766</td><td>1.5098852946313157</td><td>0.003998925083680949</td><td>0.116175316</td><td>24</td><td>14</td><td>0.0462159</td><td>0</td><td>27</td><td>False</td><td>203</td><td>120163.15491720561</td><td>36.89761673605291</td><td>3256.6643</td><td>12.988937</td><td>23</td><td>50942.41217571866</td><td>86.25133768116784</td><td>590.6275</td><td>13.58369</td><td>22</td><td>99232.65418803967</td><td>69.65414658778242</td><td>1424.6482</td><td>12.270284</td><td>1.2497597</td><td>0</td><td>1.313406</td><td>0.5947523</td><td>0.7186537</td><td>-0.792276388921092</td><td>3.137229832980153</td><td>11</td><td>5000.0</td><td>3.0</td><td>0.0</td><td>NOT_AVAILABLE</td><td>72.22659938191963</td><td>12.913888918028931</td><td>301.9165520792877</td><td>61.97733570009759</td><td>100001</td><td>5057.4336</td><td>4906.0024</td><td>5094.0</td><td>0.176</td><td>0.0795</td><td>0.2905</td><td>0.086</td><td>0.0339</td><td>0.1528</td><td>200111</td><td>8.345321</td><td>8.22594</td><td>8.868453</td><td>41.0489</td><td>36.188026</td><td>45.909775</td><td>http://geadata.esac.esa.int/data-server/datalink/links?ID=2101330483495831040</td><td>--</td><td>2192</td></tr>\n",
       "<tr><td>0.0005107408730066543</td><td>1635721458409799680</td><td>Gaia DR2 2101331376848791424</td><td>2101331376848791424</td><td>1577034067</td><td>2015.5</td><td>289.0471610769787</td><td>0.013583818196902903</td><td>40.65280875512607</td><td>0.0157686291948645</td><td>0.8209925882443523</td><td>0.016725837335316095</td><td>49.08529</td><td>3.6487364680878898</td><td>0.029329593359723575</td><td>-15.675740044991247</td><td>0.03168931814233876</td><td>-0.0015769165</td><td>-0.027695669</td><td>-0.088252835</td><td>-0.09518912</td><td>0.17484166</td><td>-0.13402598</td><td>-0.24590005</td><td>-0.19910043</td><td>-0.19130325</td><td>-0.0024137185</td><td>264</td><td>0</td><td>264</td><td>0</td><td>-3.383156</td><td>188.83855</td><td>0.0</td><td>0.0</td><td>31</td><td>False</td><td>38.18604</td><td>1.4640513598769724</td><td>0.004354944604348517</td><td>0.08380776</td><td>30</td><td>17</td><td>0.040812634</td><td>0</td><td>31</td><td>False</td><td>273</td><td>30141.217928041453</td><td>208.74781626306404</td><td>144.39058</td><td>14.490463</td><td>28</td><td>11309.061257171245</td><td>301.4487858223079</td><td>37.515697</td><td>15.217822</td><td>28</td><td>28445.558588571817</td><td>618.2916349707891</td><td>46.006702</td><td>13.6268835</td><td>1.3189454</td><td>0</td><td>1.5909386</td><td>0.7273588</td><td>0.86357975</td><td>0.0</td><td>0.0</td><td>0</td><td>0.0</td><td>0.0</td><td>0.0</td><td>NOT_AVAILABLE</td><td>72.22026822626722</td><td>12.96076220503451</td><td>301.8324766586689</td><td>62.00334012715781</td><td>100001</td><td>4395.0</td><td>4288.27</td><td>4603.2</td><td>0.0</td><td>0.0</td><td>0.0</td><td>0.0</td><td>0.0</td><td>0.0</td><td>200111</td><td>2.6555102</td><td>2.420728</td><td>2.7893403</td><td>2.3704247</td><td>2.230295</td><td>2.5105546</td><td>http://geadata.esac.esa.int/data-server/datalink/links?ID=2101331376848791424</td><td>--</td><td>2193</td></tr>\n",
       "<tr><td>0.000444359794881832</td><td>1635721458409799680</td><td>Gaia DR2 2101314162615303424</td><td>2101314162615303424</td><td>1349681811</td><td>2015.5</td><td>288.6245611135435</td><td>0.6787231566045543</td><td>40.46040737825165</td><td>0.644294967347405</td><td>-1.2367206068588983</td><td>0.8497366405379075</td><td>-1.4554163</td><td>0.6713308823805584</td><td>1.3364206649118036</td><td>-3.214234526446919</td><td>1.0399007575545594</td><td>-0.29300714</td><td>-0.3388775</td><td>0.2973631</td><td>0.5196406</td><td>0.5424365</td><td>0.01717031</td><td>-0.3682329</td><td>-0.50153744</td><td>-0.22556622</td><td>0.17399614</td><td>84</td><td>0</td><td>83</td><td>1</td><td>-0.42451286</td><td>72.18213</td><td>0.0</td><td>1.137778964768807e-15</td><td>31</td><td>False</td><td>0.09602758</td><td>1.2394821469396329</td><td>0.19175075283269036</td><td>0.14317659</td><td>10</td><td>8</td><td>1.2948142</td><td>0</td><td>16</td><td>True</td><td>92</td><td>224.90838302670804</td><td>2.07872743185335</td><td>108.19523</td><td>19.808352</td><td>0</td><td>0.0</td><td>0.0</td><td>0.0</td><td>0.0</td><td>0</td><td>0.0</td><td>0.0</td><td>0.0</td><td>0.0</td><td>0.0</td><td>2</td><td>0.0</td><td>0.0</td><td>0.0</td><td>0.0</td><td>0.0</td><td>0</td><td>0.0</td><td>0.0</td><td>0.0</td><td>NOT_AVAILABLE</td><td>71.9031785384114</td><td>13.172188707296307</td><td>301.06377122290564</td><td>61.90595731300657</td><td>0</td><td>0.0</td><td>0.0</td><td>0.0</td><td>0.0</td><td>0.0</td><td>0.0</td><td>0.0</td><td>0.0</td><td>0.0</td><td>0</td><td>0.0</td><td>0.0</td><td>0.0</td><td>0.0</td><td>0.0</td><td>0.0</td><td>http://geadata.esac.esa.int/data-server/datalink/links?ID=2101314162615303424</td><td>--</td><td>2194</td></tr>\n",
       "<tr><td>0.0002753943720474432</td><td>1635721458409799680</td><td>Gaia DR2 2102057157600827904</td><td>2102057157600827904</td><td>546127628</td><td>2015.5</td><td>288.26493676815636</td><td>0.016607154157401494</td><td>40.38628401910559</td><td>0.017618638328743882</td><td>0.24712294089277242</td><td>0.01910208665037722</td><td>12.93696</td><td>-0.5527076662469776</td><td>0.03499527134583973</td><td>-1.9596549793241627</td><td>0.035893551025156685</td><td>-0.033578925</td><td>-0.0067458265</td><td>-0.225909</td><td>0.004571113</td><td>0.2250478</td><td>-0.020921865</td><td>-0.22244933</td><td>-0.11396578</td><td>-0.07505196</td><td>0.021644508</td><td>244</td><td>0</td><td>242</td><td>2</td><td>6.05878</td><td>393.9587</td><td>0.1445490679413411</td><td>5.645599973716609</td><td>31</td><td>False</td><td>29.240404</td><td>1.4876853547487696</td><td>0.004980308401917495</td><td>-0.01588039</td><td>28</td><td>16</td><td>0.04405359</td><td>0</td><td>30</td><td>False</td><td>262</td><td>61867.49572572831</td><td>147.1417670869605</td><td>420.46182</td><td>13.709709</td><td>24</td><td>25108.83386254013</td><td>230.00286080586304</td><td>109.16749</td><td>14.351822</td><td>23</td><td>53665.98649346166</td><td>423.13350150127025</td><td>126.82992</td><td>12.937673</td><td>1.2732829</td><td>0</td><td>1.4141493</td><td>0.64211273</td><td>0.77203655</td><td>0.0</td><td>0.0</td><td>0</td><td>0.0</td><td>0.0</td><td>0.0</td><td>NOT_AVAILABLE</td><td>71.71730138879637</td><td>13.390635173708008</td><td>300.46147560013577</td><td>61.90769774379273</td><td>100001</td><td>4491.973</td><td>4389.0</td><td>4978.7354</td><td>0.0</td><td>0.0</td><td>0.0</td><td>0.0</td><td>0.0</td><td>0.0</td><td>200111</td><td>11.851949</td><td>9.647749</td><td>12.414605</td><td>51.525574</td><td>40.54208</td><td>62.509068</td><td>http://geadata.esac.esa.int/data-server/datalink/links?ID=2102057157600827904</td><td>--</td><td>2196</td></tr>\n",
       "<tr><td>0.000286494083066233</td><td>1635721458409799680</td><td>Gaia DR2 2102064785463009408</td><td>2102064785463009408</td><td>1226735045</td><td>2015.5</td><td>288.48909425048885</td><td>0.573105858912286</td><td>40.52657905321682</td><td>0.7856415503495022</td><td>0.0</td><td>0.0</td><td>0.0</td><td>0.0</td><td>0.0</td><td>0.0</td><td>0.0</td><td>-0.051139206</td><td>0.0</td><td>0.0</td><td>0.0</td><td>0.0</td><td>0.0</td><td>0.0</td><td>0.0</td><td>0.0</td><td>0.0</td><td>228</td><td>9</td><td>226</td><td>2</td><td>322.19705</td><td>311812.88</td><td>6.689596746789849</td><td>13955.800502897353</td><td>3</td><td>False</td><td>0.022226525</td><td>0.0</td><td>0.0</td><td>-0.044960823</td><td>26</td><td>15</td><td>1.324571</td><td>0</td><td>27</td><td>False</td><td>220</td><td>125095.47820228306</td><td>239.18040657546425</td><td>523.0173</td><td>12.945262</td><td>21</td><td>63959.07635616468</td><td>103.99850342602065</td><td>614.99994</td><td>13.336633</td><td>21</td><td>92413.0783982006</td><td>148.25276249562722</td><td>623.3481</td><td>12.347587</td><td>1.2500224</td><td>0</td><td>0.9890461</td><td>0.39137077</td><td>0.5976753</td><td>0.0</td><td>0.0</td><td>0</td><td>0.0</td><td>0.0</td><td>0.0</td><td>NOT_AVAILABLE</td><td>71.92108351872854</td><td>13.293382661260665</td><td>300.89065560228994</td><td>61.99742066767854</td><td>130001</td><td>5325.0</td><td>5172.6523</td><td>5367.0</td><td>0.0</td><td>0.0</td><td>0.0</td><td>0.0</td><td>0.0</td><td>0.0</td><td>0</td><td>0.0</td><td>0.0</td><td>0.0</td><td>0.0</td><td>0.0</td><td>0.0</td><td>http://geadata.esac.esa.int/data-server/datalink/links?ID=2102064785463009408</td><td>--</td><td>2197</td></tr>\n",
       "<tr><td>0.000493279655395594</td><td>1635721458409799680</td><td>Gaia DR2 2102066743967908736</td><td>2102066743967908736</td><td>1009756175</td><td>2015.5</td><td>288.5790003703007</td><td>0.440136596567721</td><td>40.60178247183082</td><td>0.6065112808636932</td><td>0.10246509986204067</td><td>0.5915389446097405</td><td>0.17321785</td><td>-3.0289288524787024</td><td>0.937639939091773</td><td>-4.279605033426962</td><td>1.082325872702362</td><td>0.19161384</td><td>0.035711043</td><td>-0.045257613</td><td>-0.040426634</td><td>0.3446448</td><td>-0.16703111</td><td>-0.27090693</td><td>-0.2948932</td><td>0.036699742</td><td>0.2817735</td><td>187</td><td>0</td><td>187</td><td>0</td><td>3.2447202</td><td>250.36388</td><td>2.233743545004504</td><td>2.834727985812758</td><td>31</td><td>False</td><td>0.04754041</td><td>1.7476201423191067</td><td>0.15884223239889833</td><td>-0.045866914</td><td>23</td><td>15</td><td>1.0409058</td><td>0</td><td>25</td><td>False</td><td>198</td><td>199.83137699814415</td><td>1.4841965450497743</td><td>134.63943</td><td>19.936707</td><td>17</td><td>127.76184618526189</td><td>18.355910641736926</td><td>6.9602566</td><td>20.085384</td><td>19</td><td>151.53553656324348</td><td>11.09024052286039</td><td>13.663864</td><td>19.310635</td><td>1.3976653</td><td>0</td><td>0.77474976</td><td>0.14867783</td><td>0.62607193</td><td>0.0</td><td>0.0</td><td>0</td><td>0.0</td><td>0.0</td><td>0.0</td><td>NOT_AVAILABLE</td><td>72.02049740924915</td><td>13.262421113999741</td><td>301.0740776216705</td><td>62.05143105838705</td><td>0</td><td>0.0</td><td>0.0</td><td>0.0</td><td>0.0</td><td>0.0</td><td>0.0</td><td>0.0</td><td>0.0</td><td>0.0</td><td>0</td><td>0.0</td><td>0.0</td><td>0.0</td><td>0.0</td><td>0.0</td><td>0.0</td><td>http://geadata.esac.esa.int/data-server/datalink/links?ID=2102066743967908736</td><td>--</td><td>2198</td></tr>\n",
       "<tr><td>6.961844344109119e-05</td><td>1635721458409799680</td><td>Gaia DR2 2101347251048104704</td><td>2101347251048104704</td><td>963145518</td><td>2015.5</td><td>288.90384338319666</td><td>0.017816634115152285</td><td>40.77099733848532</td><td>0.020196075724258907</td><td>0.17545261374370819</td><td>0.021836963965451317</td><td>8.034661</td><td>-0.6147750974482445</td><td>0.040605975296450915</td><td>0.816453357192932</td><td>0.04133755831203479</td><td>0.051971946</td><td>0.036854684</td><td>0.06625107</td><td>-0.071680866</td><td>0.25510687</td><td>-0.101119585</td><td>-0.15232971</td><td>-0.13496393</td><td>-0.1196822</td><td>0.044914402</td><td>240</td><td>0</td><td>240</td><td>0</td><td>0.5105916</td><td>245.55696</td><td>0.0</td><td>2.621991393507656e-15</td><td>31</td><td>False</td><td>24.131004</td><td>1.651449531539229</td><td>0.0055805168806832145</td><td>0.07549971</td><td>27</td><td>17</td><td>0.049097337</td><td>0</td><td>28</td><td>False</td><td>248</td><td>20470.410603097145</td><td>84.00892485552401</td><td>243.66948</td><td>14.910549</td><td>24</td><td>12242.161977099113</td><td>164.360342936643</td><td>74.48367</td><td>15.1317425</td><td>24</td><td>12400.737187901179</td><td>173.3441190117933</td><td>71.53826</td><td>14.528301</td><td>1.2038302</td><td>0</td><td>0.60344124</td><td>0.22119331</td><td>0.38224792</td><td>0.0</td><td>0.0</td><td>0</td><td>0.0</td><td>0.0</td><td>0.0</td><td>NOT_AVAILABLE</td><td>72.28382224422207</td><td>13.108871520652778</td><td>301.6792310794302</td><td>62.14693522541322</td><td>100001</td><td>6932.0</td><td>6608.3335</td><td>7181.0</td><td>0.0</td><td>0.0</td><td>0.0</td><td>0.0</td><td>0.0</td><td>0.0</td><td>0</td><td>0.0</td><td>0.0</td><td>0.0</td><td>0.0</td><td>0.0</td><td>0.0</td><td>http://geadata.esac.esa.int/data-server/datalink/links?ID=2101347251048104704</td><td>--</td><td>2199</td></tr>\n",
       "<tr><td>0.00022780371181626026</td><td>1635721458409799680</td><td>Gaia DR2 2100567113187218048</td><td>2100567113187218048</td><td>231362258</td><td>2015.5</td><td>287.83327031287354</td><td>0.016602727152482632</td><td>40.31914950716896</td><td>0.01720467560977906</td><td>0.9738130521750266</td><td>0.01994506143647941</td><td>48.82477</td><td>3.444253869028108</td><td>0.0373601214719517</td><td>-3.491306527493512</td><td>0.03531079285729463</td><td>-0.09057766</td><td>-0.18212175</td><td>-0.16694285</td><td>0.059285976</td><td>0.28159806</td><td>0.03820686</td><td>-0.2555825</td><td>0.055617943</td><td>-0.21773069</td><td>-0.1240561</td><td>200</td><td>0</td><td>199</td><td>1</td><td>-3.3881516</td><td>134.09981</td><td>0.0</td><td>0.0</td><td>31</td><td>False</td><td>49.633877</td><td>1.5887855117017773</td><td>0.004856173069347391</td><td>0.08234858</td><td>23</td><td>15</td><td>0.04668793</td><td>0</td><td>25</td><td>False</td><td>217</td><td>37994.91837519047</td><td>197.6118993217729</td><td>192.2704</td><td>14.239052</td><td>22</td><td>19798.147222136828</td><td>362.1815730819912</td><td>54.663597</td><td>14.609827</td><td>22</td><td>26507.360718919517</td><td>468.40375225649115</td><td>56.59084</td><td>13.703504</td><td>1.218729</td><td>0</td><td>0.90632343</td><td>0.37077522</td><td>0.5355482</td><td>0.0</td><td>0.0</td><td>0</td><td>0.0</td><td>0.0</td><td>0.0</td><td>NOT_AVAILABLE</td><td>71.51528697034848</td><td>13.662931457306295</td><td>299.7496763289161</td><td>61.92903224552046</td><td>100001</td><td>5399.6</td><td>5068.42</td><td>5527.05</td><td>0.477</td><td>0.3269</td><td>0.6521</td><td>0.241</td><td>0.163</td><td>0.3426</td><td>200111</td><td>1.4615754</td><td>1.3949468</td><td>1.6588198</td><td>1.6360008</td><td>1.5444665</td><td>1.727535</td><td>http://geadata.esac.esa.int/data-server/datalink/links?ID=2100567113187218048</td><td>--</td><td>2200</td></tr>\n",
       "</table>"
      ],
      "text/plain": [
       "<Table length=2070>\n",
       "         dist              solution_id     ... epoch_photometry_url index\n",
       "       float64                int64        ...        str99         int64\n",
       "---------------------- ------------------- ... -------------------- -----\n",
       " 0.0004856895386947052 1635721458409799680 ...                   --     0\n",
       " 0.0004220522502123424 1635721458409799680 ...                   --     1\n",
       " 0.0002330564674265554 1635721458409799680 ...                   --     2\n",
       " 0.0002122904491696832 1635721458409799680 ...                   --     3\n",
       "  0.000387895222380987 1635721458409799680 ...                   --     4\n",
       "0.00031015435651888075 1635721458409799680 ...                   --     5\n",
       " 0.0004622654361538099 1635721458409799680 ...                   --     6\n",
       " 0.0005284090517489272 1635721458409799680 ...                   --     7\n",
       " 9.419324863402889e-05 1635721458409799680 ...                   --     9\n",
       " 0.0006012709365776221 1635721458409799680 ...                   --    10\n",
       "                   ...                 ... ...                  ...   ...\n",
       "0.00037260123250901147 1635721458409799680 ...                   --  2190\n",
       "  0.000574505579347621 1635721458409799680 ...                   --  2191\n",
       " 0.0006481523835903573 1635721458409799680 ...                   --  2192\n",
       " 0.0005107408730066543 1635721458409799680 ...                   --  2193\n",
       "  0.000444359794881832 1635721458409799680 ...                   --  2194\n",
       " 0.0002753943720474432 1635721458409799680 ...                   --  2196\n",
       "  0.000286494083066233 1635721458409799680 ...                   --  2197\n",
       "  0.000493279655395594 1635721458409799680 ...                   --  2198\n",
       " 6.961844344109119e-05 1635721458409799680 ...                   --  2199\n",
       "0.00022780371181626026 1635721458409799680 ...                   --  2200"
      ]
     },
     "execution_count": 105,
     "metadata": {},
     "output_type": "execute_result"
    }
   ],
   "source": [
    "match[1]"
   ]
  },
  {
   "cell_type": "code",
   "execution_count": 104,
   "metadata": {
    "scrolled": true
   },
   "outputs": [
    {
     "data": {
      "text/html": [
       "&lt;Table length=2070&gt;\n",
       "<table id=\"table140651439775248\" class=\"table-striped table-bordered table-condensed\">\n",
       "<thead><tr><th>NUMBER</th><th>FLUX_BEST</th><th>FLUXERR_BEST</th><th>MAG_BEST</th><th>X_IMAGE</th><th>Y_IMAGE</th><th>ELLIPTICITY</th><th>RA</th><th>DEC</th><th>IMAGE_NAME</th><th>MEDIAN_NAME</th><th>DIFF_NAME</th><th>index</th></tr></thead>\n",
       "<thead><tr><th>int64</th><th>float64</th><th>float64</th><th>float64</th><th>float64</th><th>float64</th><th>float64</th><th>float64</th><th>float64</th><th>str34</th><th>str18</th><th>str32</th><th>int64</th></tr></thead>\n",
       "<tr><td>7</td><td>11456.36</td><td>280.9146</td><td>14.8524</td><td>574.5563</td><td>1008.829</td><td>0.434</td><td>290.154244155043</td><td>40.93553403531398</td><td>kplr2012310200152_ffi-cal.fits[58]</td><td>meidian_66_58.fits</td><td>diff_imNo23_channel66_ccd58.fits</td><td>6</td></tr>\n",
       "<tr><td>10</td><td>2277.93</td><td>34.05597</td><td>16.6061</td><td>429.0159</td><td>992.2977</td><td>0.058</td><td>290.3189672067992</td><td>41.03903357582664</td><td>kplr2012310200152_ffi-cal.fits[58]</td><td>meidian_66_58.fits</td><td>diff_imNo23_channel66_ccd58.fits</td><td>9</td></tr>\n",
       "<tr><td>16</td><td>3054.787</td><td>57.26656</td><td>16.2875</td><td>431.1161</td><td>902.2485</td><td>0.255</td><td>290.24398542974404</td><td>41.12090268582241</td><td>kplr2012310200152_ffi-cal.fits[58]</td><td>meidian_66_58.fits</td><td>diff_imNo23_channel66_ccd58.fits</td><td>15</td></tr>\n",
       "<tr><td>20</td><td>3052.171</td><td>35.77414</td><td>16.2885</td><td>1067.9397</td><td>878.5374</td><td>0.074</td><td>289.44881212003037</td><td>40.75399198948763</td><td>kplr2012310200152_ffi-cal.fits[58]</td><td>meidian_66_58.fits</td><td>diff_imNo23_channel66_ccd58.fits</td><td>19</td></tr>\n",
       "<tr><td>25</td><td>643.2305</td><td>26.07466</td><td>17.9791</td><td>906.3129</td><td>742.7368</td><td>0.252</td><td>289.5346598957401</td><td>40.97787958211275</td><td>kplr2012310200152_ffi-cal.fits[58]</td><td>meidian_66_58.fits</td><td>diff_imNo23_channel66_ccd58.fits</td><td>24</td></tr>\n",
       "<tr><td>37</td><td>2050.519</td><td>31.83027</td><td>16.7203</td><td>757.8644</td><td>625.5156</td><td>0.049</td><td>289.62014431369175</td><td>41.176573052631966</td><td>kplr2012310200152_ffi-cal.fits[58]</td><td>meidian_66_58.fits</td><td>diff_imNo23_channel66_ccd58.fits</td><td>36</td></tr>\n",
       "<tr><td>51</td><td>1316.578</td><td>21.60069</td><td>17.2014</td><td>846.3585</td><td>411.3842</td><td>0.136</td><td>289.3370440227031</td><td>41.31871402777068</td><td>kplr2012310200152_ffi-cal.fits[58]</td><td>meidian_66_58.fits</td><td>diff_imNo23_channel66_ccd58.fits</td><td>50</td></tr>\n",
       "<tr><td>59</td><td>3098.985</td><td>36.51183</td><td>16.272</td><td>521.098</td><td>316.912</td><td>0.171</td><td>289.6580544878012</td><td>41.605185276102596</td><td>kplr2012310200152_ffi-cal.fits[58]</td><td>meidian_66_58.fits</td><td>diff_imNo23_channel66_ccd58.fits</td><td>58</td></tr>\n",
       "<tr><td>61</td><td>10156.0</td><td>43.35539</td><td>14.9832</td><td>761.9088</td><td>241.4618</td><td>0.003</td><td>289.3006230731252</td><td>41.52648056165964</td><td>kplr2012310200152_ffi-cal.fits[58]</td><td>meidian_66_58.fits</td><td>diff_imNo23_channel66_ccd58.fits</td><td>60</td></tr>\n",
       "<tr><td>64</td><td>1710.102</td><td>29.20946</td><td>16.9174</td><td>866.5252</td><td>178.4726</td><td>0.008</td><td>289.12067728264486</td><td>41.51959445011053</td><td>kplr2012310200152_ffi-cal.fits[58]</td><td>meidian_66_58.fits</td><td>diff_imNo23_channel66_ccd58.fits</td><td>63</td></tr>\n",
       "<tr><td>...</td><td>...</td><td>...</td><td>...</td><td>...</td><td>...</td><td>...</td><td>...</td><td>...</td><td>...</td><td>...</td><td>...</td><td>...</td></tr>\n",
       "<tr><td>11</td><td>993.7997</td><td>18.09406</td><td>17.5068</td><td>192.0907</td><td>926.6624</td><td>0.274</td><td>288.32915826859556</td><td>40.11043167415053</td><td>kplr2013011160902_ffi-cal.fits[57]</td><td>meidian_65_57.fits</td><td>diff_imNo5_channel65_ccd57.fits</td><td>9972</td></tr>\n",
       "<tr><td>18</td><td>886.4517</td><td>15.98024</td><td>17.6309</td><td>491.7258</td><td>840.5192</td><td>0.041</td><td>288.6161264293614</td><td>40.37622165752928</td><td>kplr2013011160902_ffi-cal.fits[57]</td><td>meidian_65_57.fits</td><td>diff_imNo5_channel65_ccd57.fits</td><td>9979</td></tr>\n",
       "<tr><td>19</td><td>1134.138</td><td>15.5651</td><td>17.3633</td><td>903.9921</td><td>833.9899</td><td>0.005</td><td>289.10605837503476</td><td>40.63827537257134</td><td>kplr2013011160902_ffi-cal.fits[57]</td><td>meidian_65_57.fits</td><td>diff_imNo5_channel65_ccd57.fits</td><td>9980</td></tr>\n",
       "<tr><td>24</td><td>894.0567</td><td>14.24728</td><td>17.6216</td><td>877.434</td><td>800.6615</td><td>0.126</td><td>289.04687133102243</td><td>40.652339597740934</td><td>kplr2013011160902_ffi-cal.fits[57]</td><td>meidian_65_57.fits</td><td>diff_imNo5_channel65_ccd57.fits</td><td>9985</td></tr>\n",
       "<tr><td>27</td><td>733.6046</td><td>19.82105</td><td>17.8363</td><td>539.1451</td><td>780.7497</td><td>0.235</td><td>288.623985660852</td><td>40.460303271877365</td><td>kplr2013011160902_ffi-cal.fits[57]</td><td>meidian_65_57.fits</td><td>diff_imNo5_channel65_ccd57.fits</td><td>9988</td></tr>\n",
       "<tr><td>30</td><td>1309.535</td><td>20.63041</td><td>17.2072</td><td>297.0151</td><td>695.6956</td><td>0.053</td><td>288.26457268934024</td><td>40.38631492875133</td><td>kplr2013011160902_ffi-cal.fits[57]</td><td>meidian_65_57.fits</td><td>diff_imNo5_channel65_ccd57.fits</td><td>9991</td></tr>\n",
       "<tr><td>31</td><td>801.4775</td><td>14.47525</td><td>17.7403</td><td>496.5112</td><td>678.5344</td><td>0.014</td><td>288.4890441748251</td><td>40.52685752059735</td><td>kplr2013011160902_ffi-cal.fits[57]</td><td>meidian_65_57.fits</td><td>diff_imNo5_channel65_ccd57.fits</td><td>9992</td></tr>\n",
       "<tr><td>33</td><td>1313.818</td><td>20.63041</td><td>17.2037</td><td>585.7092</td><td>657.9853</td><td>0.051</td><td>288.5791400944524</td><td>40.60129568351042</td><td>kplr2013011160902_ffi-cal.fits[57]</td><td>meidian_65_57.fits</td><td>diff_imNo5_channel65_ccd57.fits</td><td>9994</td></tr>\n",
       "<tr><td>35</td><td>902.1884</td><td>15.13858</td><td>17.6118</td><td>856.3598</td><td>656.6351</td><td>0.134</td><td>288.9037461312819</td><td>40.77098390624049</td><td>kplr2013011160902_ffi-cal.fits[57]</td><td>meidian_65_57.fits</td><td>diff_imNo5_channel65_ccd57.fits</td><td>9996</td></tr>\n",
       "<tr><td>38</td><td>2679.096</td><td>26.46933</td><td>16.43</td><td>17.5845</td><td>576.0419</td><td>0.056</td><td>287.83300042668094</td><td>40.319036992288986</td><td>kplr2013011160902_ffi-cal.fits[57]</td><td>meidian_65_57.fits</td><td>diff_imNo5_channel65_ccd57.fits</td><td>9999</td></tr>\n",
       "</table>"
      ],
      "text/plain": [
       "<Table length=2070>\n",
       "NUMBER FLUX_BEST FLUXERR_BEST ...            DIFF_NAME             index\n",
       "int64   float64    float64    ...              str32               int64\n",
       "------ --------- ------------ ... -------------------------------- -----\n",
       "     7  11456.36     280.9146 ... diff_imNo23_channel66_ccd58.fits     6\n",
       "    10   2277.93     34.05597 ... diff_imNo23_channel66_ccd58.fits     9\n",
       "    16  3054.787     57.26656 ... diff_imNo23_channel66_ccd58.fits    15\n",
       "    20  3052.171     35.77414 ... diff_imNo23_channel66_ccd58.fits    19\n",
       "    25  643.2305     26.07466 ... diff_imNo23_channel66_ccd58.fits    24\n",
       "    37  2050.519     31.83027 ... diff_imNo23_channel66_ccd58.fits    36\n",
       "    51  1316.578     21.60069 ... diff_imNo23_channel66_ccd58.fits    50\n",
       "    59  3098.985     36.51183 ... diff_imNo23_channel66_ccd58.fits    58\n",
       "    61   10156.0     43.35539 ... diff_imNo23_channel66_ccd58.fits    60\n",
       "    64  1710.102     29.20946 ... diff_imNo23_channel66_ccd58.fits    63\n",
       "   ...       ...          ... ...                              ...   ...\n",
       "    11  993.7997     18.09406 ...  diff_imNo5_channel65_ccd57.fits  9972\n",
       "    18  886.4517     15.98024 ...  diff_imNo5_channel65_ccd57.fits  9979\n",
       "    19  1134.138      15.5651 ...  diff_imNo5_channel65_ccd57.fits  9980\n",
       "    24  894.0567     14.24728 ...  diff_imNo5_channel65_ccd57.fits  9985\n",
       "    27  733.6046     19.82105 ...  diff_imNo5_channel65_ccd57.fits  9988\n",
       "    30  1309.535     20.63041 ...  diff_imNo5_channel65_ccd57.fits  9991\n",
       "    31  801.4775     14.47525 ...  diff_imNo5_channel65_ccd57.fits  9992\n",
       "    33  1313.818     20.63041 ...  diff_imNo5_channel65_ccd57.fits  9994\n",
       "    35  902.1884     15.13858 ...  diff_imNo5_channel65_ccd57.fits  9996\n",
       "    38  2679.096     26.46933 ...  diff_imNo5_channel65_ccd57.fits  9999"
      ]
     },
     "execution_count": 104,
     "metadata": {},
     "output_type": "execute_result"
    }
   ],
   "source": [
    "match[0]"
   ]
  },
  {
   "cell_type": "code",
   "execution_count": 112,
   "metadata": {},
   "outputs": [
    {
     "data": {
      "image/png": "[encoded data removed]",
      "text/plain": [
       "<matplotlib.figure.Figure at 0x7febf1d54e90>"
      ]
     },
     "metadata": {},
     "output_type": "display_data"
    }
   ],
   "source": [
    "keplerMag = match[0]['MAG_BEST']\n",
    "gaiaMag = match[1]['phot_g_mean_mag']\n",
    "plt.plot(keplerMag[0:10],gaiaMag[0:10],'ko',markersize=2)\n",
    "plt.show()"
   ]
  },
  {
   "cell_type": "code",
   "execution_count": 110,
   "metadata": {},
   "outputs": [
    {
     "data": {
      "text/html": [
       "&lt;Table length=10&gt;\n",
       "<table id=\"table140651348699088\" class=\"table-striped table-bordered table-condensed\">\n",
       "<thead><tr><th>NUMBER</th><th>FLUX_BEST</th><th>FLUXERR_BEST</th><th>MAG_BEST</th><th>X_IMAGE</th><th>Y_IMAGE</th><th>ELLIPTICITY</th><th>RA</th><th>DEC</th><th>IMAGE_NAME</th><th>MEDIAN_NAME</th><th>DIFF_NAME</th><th>index</th></tr></thead>\n",
       "<thead><tr><th>int64</th><th>float64</th><th>float64</th><th>float64</th><th>float64</th><th>float64</th><th>float64</th><th>float64</th><th>float64</th><th>str34</th><th>str18</th><th>str32</th><th>int64</th></tr></thead>\n",
       "<tr><td>7</td><td>11456.36</td><td>280.9146</td><td>14.8524</td><td>574.5563</td><td>1008.829</td><td>0.434</td><td>290.154244155043</td><td>40.93553403531398</td><td>kplr2012310200152_ffi-cal.fits[58]</td><td>meidian_66_58.fits</td><td>diff_imNo23_channel66_ccd58.fits</td><td>6</td></tr>\n",
       "<tr><td>10</td><td>2277.93</td><td>34.05597</td><td>16.6061</td><td>429.0159</td><td>992.2977</td><td>0.058</td><td>290.3189672067992</td><td>41.03903357582664</td><td>kplr2012310200152_ffi-cal.fits[58]</td><td>meidian_66_58.fits</td><td>diff_imNo23_channel66_ccd58.fits</td><td>9</td></tr>\n",
       "<tr><td>16</td><td>3054.787</td><td>57.26656</td><td>16.2875</td><td>431.1161</td><td>902.2485</td><td>0.255</td><td>290.24398542974404</td><td>41.12090268582241</td><td>kplr2012310200152_ffi-cal.fits[58]</td><td>meidian_66_58.fits</td><td>diff_imNo23_channel66_ccd58.fits</td><td>15</td></tr>\n",
       "<tr><td>20</td><td>3052.171</td><td>35.77414</td><td>16.2885</td><td>1067.9397</td><td>878.5374</td><td>0.074</td><td>289.44881212003037</td><td>40.75399198948763</td><td>kplr2012310200152_ffi-cal.fits[58]</td><td>meidian_66_58.fits</td><td>diff_imNo23_channel66_ccd58.fits</td><td>19</td></tr>\n",
       "<tr><td>25</td><td>643.2305</td><td>26.07466</td><td>17.9791</td><td>906.3129</td><td>742.7368</td><td>0.252</td><td>289.5346598957401</td><td>40.97787958211275</td><td>kplr2012310200152_ffi-cal.fits[58]</td><td>meidian_66_58.fits</td><td>diff_imNo23_channel66_ccd58.fits</td><td>24</td></tr>\n",
       "<tr><td>37</td><td>2050.519</td><td>31.83027</td><td>16.7203</td><td>757.8644</td><td>625.5156</td><td>0.049</td><td>289.62014431369175</td><td>41.176573052631966</td><td>kplr2012310200152_ffi-cal.fits[58]</td><td>meidian_66_58.fits</td><td>diff_imNo23_channel66_ccd58.fits</td><td>36</td></tr>\n",
       "<tr><td>51</td><td>1316.578</td><td>21.60069</td><td>17.2014</td><td>846.3585</td><td>411.3842</td><td>0.136</td><td>289.3370440227031</td><td>41.31871402777068</td><td>kplr2012310200152_ffi-cal.fits[58]</td><td>meidian_66_58.fits</td><td>diff_imNo23_channel66_ccd58.fits</td><td>50</td></tr>\n",
       "<tr><td>59</td><td>3098.985</td><td>36.51183</td><td>16.272</td><td>521.098</td><td>316.912</td><td>0.171</td><td>289.6580544878012</td><td>41.605185276102596</td><td>kplr2012310200152_ffi-cal.fits[58]</td><td>meidian_66_58.fits</td><td>diff_imNo23_channel66_ccd58.fits</td><td>58</td></tr>\n",
       "<tr><td>61</td><td>10156.0</td><td>43.35539</td><td>14.9832</td><td>761.9088</td><td>241.4618</td><td>0.003</td><td>289.3006230731252</td><td>41.52648056165964</td><td>kplr2012310200152_ffi-cal.fits[58]</td><td>meidian_66_58.fits</td><td>diff_imNo23_channel66_ccd58.fits</td><td>60</td></tr>\n",
       "<tr><td>64</td><td>1710.102</td><td>29.20946</td><td>16.9174</td><td>866.5252</td><td>178.4726</td><td>0.008</td><td>289.12067728264486</td><td>41.51959445011053</td><td>kplr2012310200152_ffi-cal.fits[58]</td><td>meidian_66_58.fits</td><td>diff_imNo23_channel66_ccd58.fits</td><td>63</td></tr>\n",
       "</table>"
      ],
      "text/plain": [
       "<Table length=10>\n",
       "NUMBER FLUX_BEST FLUXERR_BEST ...            DIFF_NAME             index\n",
       "int64   float64    float64    ...              str32               int64\n",
       "------ --------- ------------ ... -------------------------------- -----\n",
       "     7  11456.36     280.9146 ... diff_imNo23_channel66_ccd58.fits     6\n",
       "    10   2277.93     34.05597 ... diff_imNo23_channel66_ccd58.fits     9\n",
       "    16  3054.787     57.26656 ... diff_imNo23_channel66_ccd58.fits    15\n",
       "    20  3052.171     35.77414 ... diff_imNo23_channel66_ccd58.fits    19\n",
       "    25  643.2305     26.07466 ... diff_imNo23_channel66_ccd58.fits    24\n",
       "    37  2050.519     31.83027 ... diff_imNo23_channel66_ccd58.fits    36\n",
       "    51  1316.578     21.60069 ... diff_imNo23_channel66_ccd58.fits    50\n",
       "    59  3098.985     36.51183 ... diff_imNo23_channel66_ccd58.fits    58\n",
       "    61   10156.0     43.35539 ... diff_imNo23_channel66_ccd58.fits    60\n",
       "    64  1710.102     29.20946 ... diff_imNo23_channel66_ccd58.fits    63"
      ]
     },
     "execution_count": 110,
     "metadata": {},
     "output_type": "execute_result"
    }
   ],
   "source": [
    "match[0][0:10]"
   ]
  },
  {
   "cell_type": "code",
   "execution_count": 111,
   "metadata": {},
   "outputs": [
    {
     "data": {
      "text/html": [
       "&lt;Table length=10&gt;\n",
       "<table id=\"table140651348700880\" class=\"table-striped table-bordered table-condensed\">\n",
       "<thead><tr><th>dist</th><th>solution_id</th><th>designation</th><th>source_id</th><th>random_index</th><th>ref_epoch</th><th>ra</th><th>ra_error</th><th>dec</th><th>dec_error</th><th>parallax</th><th>parallax_error</th><th>parallax_over_error</th><th>pmra</th><th>pmra_error</th><th>pmdec</th><th>pmdec_error</th><th>ra_dec_corr</th><th>ra_parallax_corr</th><th>ra_pmra_corr</th><th>ra_pmdec_corr</th><th>dec_parallax_corr</th><th>dec_pmra_corr</th><th>dec_pmdec_corr</th><th>parallax_pmra_corr</th><th>parallax_pmdec_corr</th><th>pmra_pmdec_corr</th><th>astrometric_n_obs_al</th><th>astrometric_n_obs_ac</th><th>astrometric_n_good_obs_al</th><th>astrometric_n_bad_obs_al</th><th>astrometric_gof_al</th><th>astrometric_chi2_al</th><th>astrometric_excess_noise</th><th>astrometric_excess_noise_sig</th><th>astrometric_params_solved</th><th>astrometric_primary_flag</th><th>astrometric_weight_al</th><th>astrometric_pseudo_colour</th><th>astrometric_pseudo_colour_error</th><th>mean_varpi_factor_al</th><th>astrometric_matched_observations</th><th>visibility_periods_used</th><th>astrometric_sigma5d_max</th><th>frame_rotator_object_type</th><th>matched_observations</th><th>duplicated_source</th><th>phot_g_n_obs</th><th>phot_g_mean_flux</th><th>phot_g_mean_flux_error</th><th>phot_g_mean_flux_over_error</th><th>phot_g_mean_mag</th><th>phot_bp_n_obs</th><th>phot_bp_mean_flux</th><th>phot_bp_mean_flux_error</th><th>phot_bp_mean_flux_over_error</th><th>phot_bp_mean_mag</th><th>phot_rp_n_obs</th><th>phot_rp_mean_flux</th><th>phot_rp_mean_flux_error</th><th>phot_rp_mean_flux_over_error</th><th>phot_rp_mean_mag</th><th>phot_bp_rp_excess_factor</th><th>phot_proc_mode</th><th>bp_rp</th><th>bp_g</th><th>g_rp</th><th>radial_velocity</th><th>radial_velocity_error</th><th>rv_nb_transits</th><th>rv_template_teff</th><th>rv_template_logg</th><th>rv_template_fe_h</th><th>phot_variable_flag</th><th>l</th><th>b</th><th>ecl_lon</th><th>ecl_lat</th><th>priam_flags</th><th>teff_val</th><th>teff_percentile_lower</th><th>teff_percentile_upper</th><th>a_g_val</th><th>a_g_percentile_lower</th><th>a_g_percentile_upper</th><th>e_bp_min_rp_val</th><th>e_bp_min_rp_percentile_lower</th><th>e_bp_min_rp_percentile_upper</th><th>flame_flags</th><th>radius_val</th><th>radius_percentile_lower</th><th>radius_percentile_upper</th><th>lum_val</th><th>lum_percentile_lower</th><th>lum_percentile_upper</th><th>datalink_url</th><th>epoch_photometry_url</th><th>index</th></tr></thead>\n",
       "<thead><tr><th>float64</th><th>int64</th><th>str28</th><th>int64</th><th>int64</th><th>float64</th><th>float64</th><th>float64</th><th>float64</th><th>float64</th><th>float64</th><th>float64</th><th>float64</th><th>float64</th><th>float64</th><th>float64</th><th>float64</th><th>float64</th><th>float64</th><th>float64</th><th>float64</th><th>float64</th><th>float64</th><th>float64</th><th>float64</th><th>float64</th><th>float64</th><th>int64</th><th>int64</th><th>int64</th><th>int64</th><th>float64</th><th>float64</th><th>float64</th><th>float64</th><th>int64</th><th>str5</th><th>float64</th><th>float64</th><th>float64</th><th>float64</th><th>int64</th><th>int64</th><th>float64</th><th>int64</th><th>int64</th><th>str5</th><th>int64</th><th>float64</th><th>float64</th><th>float64</th><th>float64</th><th>int64</th><th>float64</th><th>float64</th><th>float64</th><th>float64</th><th>int64</th><th>float64</th><th>float64</th><th>float64</th><th>float64</th><th>float64</th><th>int64</th><th>float64</th><th>float64</th><th>float64</th><th>float64</th><th>float64</th><th>int64</th><th>float64</th><th>float64</th><th>float64</th><th>str13</th><th>float64</th><th>float64</th><th>float64</th><th>float64</th><th>int64</th><th>float64</th><th>float64</th><th>float64</th><th>float64</th><th>float64</th><th>float64</th><th>float64</th><th>float64</th><th>float64</th><th>int64</th><th>float64</th><th>float64</th><th>float64</th><th>float64</th><th>float64</th><th>float64</th><th>str77</th><th>str99</th><th>int64</th></tr></thead>\n",
       "<tr><td>0.0004856895386947052</td><td>1635721458409799680</td><td>Gaia DR2 2101397003944879744</td><td>2101397003944879744</td><td>1460115014</td><td>2015.5</td><td>290.1541864197112</td><td>0.5432112779766552</td><td>40.9350567951846</td><td>0.7683634845762366</td><td>-1.3875383085515758</td><td>0.6925544086393817</td><td>-2.003508</td><td>-1.6469723906519274</td><td>1.1554458124932419</td><td>0.02832046423850106</td><td>1.7692631528420302</td><td>0.08079609</td><td>0.26672313</td><td>0.08902849</td><td>-0.30213055</td><td>0.26576456</td><td>-0.3175182</td><td>-0.115155965</td><td>-0.06868647</td><td>0.057202842</td><td>0.013251644</td><td>167</td><td>0</td><td>167</td><td>0</td><td>1.933488</td><td>198.58994</td><td>1.4973966196441795</td><td>0.7626853853394648</td><td>31</td><td>False</td><td>0.037213326</td><td>1.7492072531715066</td><td>0.1656579173208149</td><td>0.21154217</td><td>20</td><td>14</td><td>1.5636353</td><td>0</td><td>22</td><td>False</td><td>185</td><td>115.98480231678155</td><td>0.9944445855181093</td><td>116.632744</td><td>20.527363</td><td>14</td><td>96.61784003532408</td><td>15.769214245003758</td><td>6.1269913</td><td>20.388744</td><td>15</td><td>109.9780189881386</td><td>9.456519384464732</td><td>11.629863</td><td>19.658655</td><td>1.7812321</td><td>0</td><td>0.7300892</td><td>-0.13861847</td><td>0.86870766</td><td>0.0</td><td>0.0</td><td>0</td><td>0.0</td><td>0.0</td><td>0.0</td><td>NOT_AVAILABLE</td><td>72.8462236301454</td><td>12.321236533507404</td><td>303.7161711816616</td><td>62.03556137263401</td><td>0</td><td>0.0</td><td>0.0</td><td>0.0</td><td>0.0</td><td>0.0</td><td>0.0</td><td>0.0</td><td>0.0</td><td>0.0</td><td>0</td><td>0.0</td><td>0.0</td><td>0.0</td><td>0.0</td><td>0.0</td><td>0.0</td><td>http://geadata.esac.esa.int/data-server/datalink/links?ID=2101397003944879744</td><td>--</td><td>0</td></tr>\n",
       "<tr><td>0.0004220522502123424</td><td>1635721458409799680</td><td>Gaia DR2 2101399306052024832</td><td>2101399306052024832</td><td>760687150</td><td>2015.5</td><td>290.3191674090691</td><td>0.01146370356861856</td><td>41.038643828467215</td><td>0.013157286534784192</td><td>2.6444742383694697</td><td>0.014254419301190787</td><td>185.5196</td><td>-5.097038692635611</td><td>0.02495669795514842</td><td>-0.9655807078618102</td><td>0.02803366587614792</td><td>0.030564</td><td>0.00073369377</td><td>-0.053977344</td><td>-0.042234153</td><td>0.19177416</td><td>-0.077061795</td><td>-0.1397227</td><td>-0.18708868</td><td>-0.16435198</td><td>0.062010564</td><td>235</td><td>0</td><td>233</td><td>2</td><td>-4.561351</td><td>143.31865</td><td>0.0</td><td>0.0</td><td>31</td><td>True</td><td>91.91692</td><td>1.5463240794613022</td><td>0.0035608379413206246</td><td>0.09213704</td><td>27</td><td>17</td><td>0.038018923</td><td>0</td><td>30</td><td>False</td><td>262</td><td>69431.45581916934</td><td>99.51214013624953</td><td>697.71844</td><td>13.5844755</td><td>29</td><td>31621.797584482556</td><td>173.64078629032616</td><td>182.11043</td><td>14.101421</td><td>30</td><td>54725.30225359843</td><td>213.45434082801</td><td>256.37943</td><td>12.91645</td><td>1.2436309</td><td>0</td><td>1.1849718</td><td>0.51694584</td><td>0.668026</td><td>0.0</td><td>0.0</td><td>0</td><td>0.0</td><td>0.0</td><td>0.0</td><td>NOT_AVAILABLE</td><td>72.99666566241395</td><td>12.253177161564027</td><td>304.03525049517026</td><td>62.09800009326108</td><td>100001</td><td>4901.0</td><td>4853.8604</td><td>4944.005</td><td>0.462</td><td>0.425</td><td>0.649</td><td>0.229</td><td>0.1963</td><td>0.3401</td><td>200111</td><td>0.9231316</td><td>0.9071419</td><td>0.9411492</td><td>0.44295615</td><td>0.43564916</td><td>0.45026314</td><td>http://geadata.esac.esa.int/data-server/datalink/links?ID=2101399306052024832</td><td>--</td><td>1</td></tr>\n",
       "<tr><td>0.0002330564674265554</td><td>1635721458409799680</td><td>Gaia DR2 2101402879464818432</td><td>2101402879464818432</td><td>1485150310</td><td>2015.5</td><td>290.243887555266</td><td>0.018495710109121953</td><td>41.12068920921822</td><td>0.022415476270007593</td><td>3.141134974207104</td><td>0.023473063990609378</td><td>133.81871</td><td>27.82758013756394</td><td>0.04092535720313777</td><td>21.240909572674624</td><td>0.04735402209226168</td><td>0.01698682</td><td>0.031719714</td><td>-0.14611492</td><td>-0.02849742</td><td>0.17733027</td><td>-0.065105006</td><td>-0.25468075</td><td>-0.25391442</td><td>-0.14752032</td><td>0.016065119</td><td>234</td><td>234</td><td>227</td><td>7</td><td>11.464072</td><td>560.53564</td><td>0.0</td><td>0.0</td><td>31</td><td>True</td><td>318.77148</td><td>1.6537243611555967</td><td>0.005675741634893289</td><td>0.090584666</td><td>28</td><td>17</td><td>0.036887538</td><td>0</td><td>30</td><td>False</td><td>239</td><td>1656892.4638721915</td><td>595.6786414832825</td><td>2781.5208</td><td>10.14013</td><td>27</td><td>929407.8257648475</td><td>652.7776971991345</td><td>1423.7739</td><td>10.430872</td><td>30</td><td>1037977.611146936</td><td>1103.837698021304</td><td>940.3353</td><td>9.72145</td><td>1.1873947</td><td>0</td><td>0.7094221</td><td>0.29074192</td><td>0.4186802</td><td>-19.41345806222332</td><td>0.6707488856827293</td><td>3</td><td>6000.0</td><td>4.0</td><td>-0.25</td><td>NOT_AVAILABLE</td><td>73.04759165277859</td><td>12.339639231452928</td><td>303.9710287257838</td><td>62.193137634052</td><td>100001</td><td>5992.0</td><td>5948.6665</td><td>6097.85</td><td>0.0</td><td>0.0</td><td>0.0</td><td>0.0</td><td>0.0</td><td>0.0</td><td>200111</td><td>2.3769445</td><td>2.29514</td><td>2.4117007</td><td>6.5617557</td><td>6.475902</td><td>6.647609</td><td>http://geadata.esac.esa.int/data-server/datalink/links?ID=2101402879464818432</td><td>--</td><td>2</td></tr>\n",
       "<tr><td>0.0002122904491696832</td><td>1635721458409799680</td><td>Gaia DR2 2101424148136043264</td><td>2101424148136043264</td><td>1605578302</td><td>2015.5</td><td>289.4486277921592</td><td>0.5137579276812548</td><td>40.75415393971871</td><td>0.5299980768071598</td><td>0.8472013298438605</td><td>0.6080670207865962</td><td>1.3932697</td><td>-7.0082379661327</td><td>1.2709975683714134</td><td>-10.804708363142087</td><td>1.1494028350511218</td><td>0.09100874</td><td>-0.19690035</td><td>-0.21368186</td><td>-0.10360188</td><td>0.28276223</td><td>-0.018435884</td><td>-0.0743782</td><td>0.18790768</td><td>0.14375807</td><td>0.24031503</td><td>213</td><td>0</td><td>212</td><td>1</td><td>10.608776</td><td>505.37115</td><td>3.1691077318897594</td><td>9.373708143348733</td><td>31</td><td>False</td><td>0.038600024</td><td>1.3490197120877383</td><td>0.13530745985353831</td><td>0.011518788</td><td>24</td><td>14</td><td>1.2023271</td><td>0</td><td>29</td><td>False</td><td>223</td><td>221.68902385514394</td><td>1.9583583336606618</td><td>113.20146</td><td>19.824005</td><td>0</td><td>0.0</td><td>0.0</td><td>0.0</td><td>0.0</td><td>0</td><td>0.0</td><td>0.0</td><td>0.0</td><td>0.0</td><td>0.0</td><td>2</td><td>0.0</td><td>0.0</td><td>0.0</td><td>0.0</td><td>0.0</td><td>0</td><td>0.0</td><td>0.0</td><td>0.0</td><td>NOT_AVAILABLE</td><td>72.44591696478012</td><td>12.727313532134506</td><td>302.515469512717</td><td>62.015613560466676</td><td>0</td><td>0.0</td><td>0.0</td><td>0.0</td><td>0.0</td><td>0.0</td><td>0.0</td><td>0.0</td><td>0.0</td><td>0.0</td><td>0</td><td>0.0</td><td>0.0</td><td>0.0</td><td>0.0</td><td>0.0</td><td>0.0</td><td>http://geadata.esac.esa.int/data-server/datalink/links?ID=2101424148136043264</td><td>--</td><td>3</td></tr>\n",
       "<tr><td>0.000387895222380987</td><td>1635721458409799680</td><td>Gaia DR2 2101432497558689152</td><td>2101432497558689152</td><td>1291811767</td><td>2015.5</td><td>289.53445238445204</td><td>0.06232186770684707</td><td>40.97823848904643</td><td>0.08742671269596165</td><td>0.7354375004236173</td><td>0.08363845597349646</td><td>8.793055</td><td>3.700707625325758</td><td>0.14649046344847574</td><td>-4.557758556044984</td><td>0.19657031689837412</td><td>-0.10843325</td><td>-0.09519728</td><td>0.015053669</td><td>-0.0045489473</td><td>0.11900093</td><td>-0.021639088</td><td>-0.04418869</td><td>-0.120591275</td><td>0.013958844</td><td>-0.021856619</td><td>195</td><td>0</td><td>193</td><td>2</td><td>1.293249</td><td>213.4821</td><td>0.0</td><td>0.0</td><td>31</td><td>False</td><td>2.0155694</td><td>1.4994995051632285</td><td>0.022190792781942408</td><td>0.11784141</td><td>22</td><td>15</td><td>0.17918909</td><td>0</td><td>25</td><td>False</td><td>217</td><td>1953.5037814301797</td><td>2.154672058784577</td><td>906.6362</td><td>17.46133</td><td>22</td><td>819.4436204402205</td><td>9.354051821244438</td><td>87.603065</td><td>18.06759</td><td>24</td><td>1694.280156833073</td><td>12.293973484782327</td><td>137.81387</td><td>16.689457</td><td>1.286777</td><td>0</td><td>1.3781338</td><td>0.6062603</td><td>0.7718735</td><td>0.0</td><td>0.0</td><td>0</td><td>0.0</td><td>0.0</td><td>0.0</td><td>NOT_AVAILABLE</td><td>72.68226437219036</td><td>12.76316181092737</td><td>302.78449213931</td><td>62.21206799591839</td><td>0</td><td>0.0</td><td>0.0</td><td>0.0</td><td>0.0</td><td>0.0</td><td>0.0</td><td>0.0</td><td>0.0</td><td>0.0</td><td>0</td><td>0.0</td><td>0.0</td><td>0.0</td><td>0.0</td><td>0.0</td><td>0.0</td><td>http://geadata.esac.esa.int/data-server/datalink/links?ID=2101432497558689152</td><td>--</td><td>4</td></tr>\n",
       "<tr><td>0.00031015435651888075</td><td>1635721458409799680</td><td>Gaia DR2 2101461634612036608</td><td>2101461634612036608</td><td>438870029</td><td>2015.5</td><td>289.6203367119299</td><td>0.14626603766857457</td><td>41.176855678920425</td><td>0.168819383254924</td><td>0.34284714655867526</td><td>0.16418208668504777</td><td>2.088213</td><td>-2.7776474919296565</td><td>0.30512633322045773</td><td>-7.653537033882579</td><td>0.31273424150943585</td><td>-0.2898891</td><td>-0.29413095</td><td>-0.31484786</td><td>0.24095808</td><td>0.2224858</td><td>0.19580205</td><td>-0.43902776</td><td>-0.07442041</td><td>-0.13932541</td><td>-0.08855805</td><td>195</td><td>0</td><td>186</td><td>9</td><td>-0.75825065</td><td>166.32228</td><td>0.0</td><td>0.0</td><td>31</td><td>False</td><td>0.58273363</td><td>1.6873637215072768</td><td>0.0437417750026607</td><td>0.0972323</td><td>22</td><td>14</td><td>0.30670097</td><td>0</td><td>27</td><td>False</td><td>220</td><td>783.7655886683303</td><td>2.2180971569855665</td><td>353.35043</td><td>18.4529</td><td>24</td><td>473.63431283373</td><td>23.98443166308092</td><td>19.747574</td><td>18.66278</td><td>22</td><td>645.3573253174991</td><td>18.197713799991835</td><td>35.46365</td><td>17.73742</td><td>1.4277121</td><td>0</td><td>0.92536163</td><td>0.20988083</td><td>0.7154808</td><td>0.0</td><td>0.0</td><td>0</td><td>0.0</td><td>0.0</td><td>0.0</td><td>NOT_AVAILABLE</td><td>72.89489819119997</td><td>12.788421833826632</td><td>303.04041305106574</td><td>62.38378365713427</td><td>0</td><td>0.0</td><td>0.0</td><td>0.0</td><td>0.0</td><td>0.0</td><td>0.0</td><td>0.0</td><td>0.0</td><td>0.0</td><td>0</td><td>0.0</td><td>0.0</td><td>0.0</td><td>0.0</td><td>0.0</td><td>0.0</td><td>http://geadata.esac.esa.int/data-server/datalink/links?ID=2101461634612036608</td><td>--</td><td>5</td></tr>\n",
       "<tr><td>0.0004622654361538099</td><td>1635721458409799680</td><td>Gaia DR2 2101456446297390208</td><td>2101456446297390208</td><td>209999101</td><td>2015.5</td><td>289.33647945975764</td><td>0.0176600112662918</td><td>41.318546470091476</td><td>0.021193451919949237</td><td>1.3820826279302159</td><td>0.021238545468044105</td><td>65.07426</td><td>-4.246417227488611</td><td>0.036651841358804525</td><td>-3.484063360195454</td><td>0.03721927321496541</td><td>-0.066721275</td><td>0.040710818</td><td>-0.2675735</td><td>-0.01203136</td><td>0.24911341</td><td>-0.05255998</td><td>-0.31725648</td><td>-0.15295884</td><td>-0.1286631</td><td>-0.07215226</td><td>221</td><td>176</td><td>219</td><td>2</td><td>0.96602476</td><td>233.90576</td><td>0.0</td><td>0.0</td><td>31</td><td>False</td><td>192.74944</td><td>1.6326214435230528</td><td>0.006026226467868704</td><td>-0.083882555</td><td>25</td><td>15</td><td>0.03295461</td><td>0</td><td>27</td><td>False</td><td>228</td><td>137062.39913274284</td><td>119.1318288431978</td><td>1150.5104</td><td>12.84607</td><td>24</td><td>75780.34201163767</td><td>227.04412859003023</td><td>333.76923</td><td>13.152496</td><td>25</td><td>89449.28771997837</td><td>329.3461321324131</td><td>271.5966</td><td>12.3829775</td><td>1.2055066</td><td>0</td><td>0.76951885</td><td>0.30642605</td><td>0.4630928</td><td>0.0</td><td>0.0</td><td>0</td><td>0.0</td><td>0.0</td><td>0.0</td><td>NOT_AVAILABLE</td><td>72.93453654264452</td><td>13.041666184705484</td><td>302.6859662931502</td><td>62.580780186313135</td><td>100001</td><td>5838.775</td><td>5401.1724</td><td>6154.4497</td><td>0.717</td><td>0.5329</td><td>1.086</td><td>0.362</td><td>0.2639</td><td>0.5197</td><td>200111</td><td>1.64217</td><td>1.4780296</td><td>1.9190465</td><td>2.8236957</td><td>2.7399962</td><td>2.9073951</td><td>http://geadata.esac.esa.int/data-server/datalink/links?ID=2101456446297390208</td><td>--</td><td>6</td></tr>\n",
       "<tr><td>0.0005284090517489272</td><td>1635721458409799680</td><td>Gaia DR2 2101488538292893312</td><td>2101488538292893312</td><td>1527872924</td><td>2015.5</td><td>289.6587404697651</td><td>0.2225138327428164</td><td>41.60504774081689</td><td>0.25246746786843655</td><td>0.09246626355531003</td><td>0.2750670803844971</td><td>0.33615896</td><td>-1.6923901734471178</td><td>0.5156460942561092</td><td>-2.8934005519414274</td><td>0.5331538066769569</td><td>0.09274621</td><td>-0.04058627</td><td>0.086554565</td><td>0.057568528</td><td>0.23817386</td><td>-0.013197092</td><td>-0.107394345</td><td>-0.24201375</td><td>-0.14805886</td><td>0.18204974</td><td>230</td><td>0</td><td>230</td><td>0</td><td>0.22923867</td><td>229.22235</td><td>0.0</td><td>0.0</td><td>31</td><td>False</td><td>0.16310239</td><td>1.7983106947615204</td><td>0.07218806107865795</td><td>-0.03125481</td><td>26</td><td>16</td><td>0.50584096</td><td>0</td><td>29</td><td>False</td><td>248</td><td>377.7260744843798</td><td>1.3510060627706373</td><td>279.58875</td><td>19.245422</td><td>25</td><td>224.26421881849257</td><td>11.087585580645166</td><td>20.226606</td><td>19.474487</td><td>27</td><td>224.74251757229317</td><td>9.072222842444559</td><td>24.772596</td><td>18.882708</td><td>1.18871</td><td>0</td><td>0.5917797</td><td>0.22906494</td><td>0.36271477</td><td>0.0</td><td>0.0</td><td>0</td><td>0.0</td><td>0.0</td><td>0.0</td><td>NOT_AVAILABLE</td><td>73.3055364419852</td><td>12.943067786945972</td><td>303.3703300364813</td><td>62.785161207756445</td><td>0</td><td>0.0</td><td>0.0</td><td>0.0</td><td>0.0</td><td>0.0</td><td>0.0</td><td>0.0</td><td>0.0</td><td>0.0</td><td>0</td><td>0.0</td><td>0.0</td><td>0.0</td><td>0.0</td><td>0.0</td><td>0.0</td><td>http://geadata.esac.esa.int/data-server/datalink/links?ID=2101488538292893312</td><td>--</td><td>7</td></tr>\n",
       "<tr><td>9.419324863402889e-05</td><td>1635721458409799680</td><td>Gaia DR2 2102232598425284096</td><td>2102232598425284096</td><td>1251790807</td><td>2015.5</td><td>289.3007546786347</td><td>0.012034669131814394</td><td>41.5264899506855</td><td>0.014943520625278421</td><td>0.6472926800031895</td><td>0.015703302373945422</td><td>41.22016</td><td>-3.765179169370753</td><td>0.02616763921540407</td><td>-2.2500182160765902</td><td>0.029516896092991397</td><td>0.035797726</td><td>-0.009988643</td><td>-0.08750999</td><td>0.058426864</td><td>0.3095421</td><td>-0.01670381</td><td>-0.13905455</td><td>-0.2055981</td><td>0.038172785</td><td>0.18293516</td><td>220</td><td>9</td><td>220</td><td>0</td><td>-4.4159436</td><td>135.32397</td><td>0.0</td><td>0.0</td><td>31</td><td>True</td><td>107.54102</td><td>1.5259844297854235</td><td>0.0036868222885610936</td><td>0.09265458</td><td>25</td><td>16</td><td>0.039016668</td><td>0</td><td>28</td><td>False</td><td>238</td><td>84520.46022393616</td><td>130.0672234997878</td><td>649.82135</td><td>13.370961</td><td>25</td><td>37381.33372839732</td><td>279.79922312510564</td><td>133.60056</td><td>13.919751</td><td>24</td><td>68185.74179760664</td><td>319.8194980741075</td><td>213.2007</td><td>12.677686</td><td>1.2490121</td><td>0</td><td>1.2420654</td><td>0.54879</td><td>0.69327545</td><td>0.0</td><td>0.0</td><td>0</td><td>0.0</td><td>0.0</td><td>0.0</td><td>NOT_AVAILABLE</td><td>73.11685757170123</td><td>13.153129647961416</td><td>302.7599868023794</td><td>62.787672232202674</td><td>100001</td><td>4962.26</td><td>4434.0</td><td>5126.0</td><td>0.0</td><td>0.0</td><td>0.0</td><td>0.0</td><td>0.0</td><td>0.0</td><td>200111</td><td>4.029675</td><td>3.7763464</td><td>5.0470505</td><td>8.870595</td><td>8.249699</td><td>9.491491</td><td>http://geadata.esac.esa.int/data-server/datalink/links?ID=2102232598425284096</td><td>--</td><td>9</td></tr>\n",
       "<tr><td>0.0006012709365776221</td><td>1635721458409799680</td><td>Gaia DR2 2102212772856206720</td><td>2102212772856206720</td><td>189424945</td><td>2015.5</td><td>289.12062737131527</td><td>0.016306341959213218</td><td>41.52020032064188</td><td>0.019877548147559144</td><td>0.01916612050556244</td><td>0.020983547934086928</td><td>0.91338795</td><td>-1.453607846171742</td><td>0.03510777363993641</td><td>-4.009393499537431</td><td>0.04188246916898582</td><td>-0.007907597</td><td>0.037940867</td><td>-0.071976095</td><td>-0.071228124</td><td>0.3165043</td><td>-0.10835497</td><td>0.0166296</td><td>-0.1645843</td><td>-0.012860554</td><td>0.06965653</td><td>224</td><td>0</td><td>224</td><td>0</td><td>5.9643235</td><td>368.09814</td><td>0.1459371725715007</td><td>5.887768502180291</td><td>31</td><td>False</td><td>31.299494</td><td>1.352094894034948</td><td>0.004769260175141666</td><td>0.12013226</td><td>26</td><td>16</td><td>0.04940841</td><td>0</td><td>30</td><td>False</td><td>251</td><td>76540.5144513429</td><td>168.6160605919549</td><td>453.93372</td><td>13.478638</td><td>27</td><td>18488.254145529987</td><td>195.1041078603845</td><td>94.76097</td><td>14.684149</td><td>27</td><td>88247.91905035324</td><td>498.8230880150058</td><td>176.91226</td><td>12.397658</td><td>1.3945056</td><td>0</td><td>2.2864904</td><td>1.2055111</td><td>1.0809793</td><td>0.0</td><td>0.0</td><td>0</td><td>0.0</td><td>0.0</td><td>0.0</td><td>NOT_AVAILABLE</td><td>73.05312336710284</td><td>13.273032143396073</td><td>302.4733319396257</td><td>62.82026678588796</td><td>100001</td><td>3662.3367</td><td>3493.0</td><td>3944.3</td><td>0.8527</td><td>0.3659</td><td>2.0151</td><td>0.38</td><td>0.1905</td><td>0.8131</td><td>0</td><td>0.0</td><td>0.0</td><td>0.0</td><td>0.0</td><td>0.0</td><td>0.0</td><td>http://geadata.esac.esa.int/data-server/datalink/links?ID=2102212772856206720</td><td>--</td><td>10</td></tr>\n",
       "</table>"
      ],
      "text/plain": [
       "<Table length=10>\n",
       "         dist              solution_id     ... epoch_photometry_url index\n",
       "       float64                int64        ...        str99         int64\n",
       "---------------------- ------------------- ... -------------------- -----\n",
       " 0.0004856895386947052 1635721458409799680 ...                   --     0\n",
       " 0.0004220522502123424 1635721458409799680 ...                   --     1\n",
       " 0.0002330564674265554 1635721458409799680 ...                   --     2\n",
       " 0.0002122904491696832 1635721458409799680 ...                   --     3\n",
       "  0.000387895222380987 1635721458409799680 ...                   --     4\n",
       "0.00031015435651888075 1635721458409799680 ...                   --     5\n",
       " 0.0004622654361538099 1635721458409799680 ...                   --     6\n",
       " 0.0005284090517489272 1635721458409799680 ...                   --     7\n",
       " 9.419324863402889e-05 1635721458409799680 ...                   --     9\n",
       " 0.0006012709365776221 1635721458409799680 ...                   --    10"
      ]
     },
     "execution_count": 111,
     "metadata": {},
     "output_type": "execute_result"
    }
   ],
   "source": [
    "match[1][0:10]"
   ]
  },
  {
   "cell_type": "code",
   "execution_count": null,
   "metadata": {
    "collapsed": true
   },
   "outputs": [],
   "source": []
  }
 ],
 "metadata": {
  "kernelspec": {
   "display_name": "Python 2",
   "language": "python",
   "name": "python2"
  },
  "language_info": {
   "codemirror_mode": {
    "name": "ipython",
    "version": 2
   },
   "file_extension": ".py",
   "mimetype": "text/x-python",
   "name": "python",
   "nbconvert_exporter": "python",
   "pygments_lexer": "ipython2",
   "version": "2.7.13"
  }
 },
 "nbformat": 4,
 "nbformat_minor": 2
}
