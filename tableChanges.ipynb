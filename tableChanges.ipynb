{
 "cells": [
  {
   "cell_type": "code",
   "execution_count": 1,
   "metadata": {},
   "outputs": [],
   "source": [
    "from astropy.io import ascii\n",
    "from astropy.table import table"
   ]
  },
  {
   "cell_type": "code",
   "execution_count": 2,
   "metadata": {},
   "outputs": [],
   "source": [
    "tabsn = ascii.read('/home/mj1e16/scpDump/10snlatexshort.csv')"
   ]
  },
  {
   "cell_type": "code",
   "execution_count": 4,
   "metadata": {},
   "outputs": [],
   "source": [
    "tabsn.remove_columns(['X_IMAGE','Y_IMAGE'])"
   ]
  },
  {
   "cell_type": "code",
   "execution_count": 5,
   "metadata": {},
   "outputs": [
    {
     "data": {
      "text/html": [
       "&lt;Table length=15&gt;\n",
       "<table id=\"table140176881035984\" class=\"table-striped table-bordered table-condensed\">\n",
       "<thead><tr><th>MAIN_ID</th><th>OTYPE</th><th>RA</th><th>DEC</th><th>IMAGE_NAME</th><th>Number_of_Observations</th><th>MAG_BEST</th><th>magDiff</th><th>MAG_BEST_ORIG</th><th>S/N</th><th>parallax</th></tr></thead>\n",
       "<thead><tr><th>str23</th><th>str9</th><th>float64</th><th>float64</th><th>str35</th><th>int64</th><th>float64</th><th>float64</th><th>float64</th><th>float64</th><th>float64</th></tr></thead>\n",
       "<tr><td>2MASS J19293151+3742406</td><td>Mira</td><td>292.381</td><td>37.711</td><td>kplr2011271191331\\_ffi-cal.fits[3]</td><td>40</td><td>13.553</td><td>-1.238</td><td>13.134</td><td>15.129</td><td>-0.263</td></tr>\n",
       "<tr><td>2MASS J19382873+3913505</td><td>Mira</td><td>294.62</td><td>39.231</td><td>kplr2011024134926\\_ffi-cal.fits[80]</td><td>46</td><td>13.81</td><td>-0.675</td><td>12.974</td><td>10.993</td><td>0.018</td></tr>\n",
       "<tr><td>IRAS 18554+4753</td><td>LPV*</td><td>284.205</td><td>47.953</td><td>kplr2009351005245\\_ffi-cal.fits[69]</td><td>52</td><td>13.41</td><td>-1.529</td><td>13.105</td><td>17.078</td><td>-0.213</td></tr>\n",
       "<tr><td>IRAS 19545+4512</td><td>Mira</td><td>299.045</td><td>45.35</td><td>kplr2010078174524\\_ffi-cal.fits[54]</td><td>52</td><td>13.043</td><td>-0.689</td><td>12.224</td><td>15.777</td><td>0.004</td></tr>\n",
       "<tr><td>Mis V0148</td><td>Mira</td><td>299.234</td><td>44.59</td><td>kplr2010049182302\\_ffi-cal.fits[53]</td><td>31</td><td>13.094</td><td>-0.793</td><td>12.38</td><td>16.208</td><td>0.17</td></tr>\n",
       "<tr><td>V* FX Cyg</td><td>Mira</td><td>296.04</td><td>39.79</td><td>kplr2010356020128\\_ffi-cal.fits[35]</td><td>51</td><td>13.288</td><td>-0.44</td><td>12.095</td><td>11.811</td><td>0.13</td></tr>\n",
       "<tr><td>V* V1119 Cyg</td><td>Mira</td><td>291.436</td><td>51.159</td><td>kplr2010111125026\\_ffi-cal.fits[53]</td><td>51</td><td>13.13</td><td>-1.561</td><td>12.836</td><td>19.521</td><td>0.039</td></tr>\n",
       "<tr><td>V* V1155 Cyg</td><td>Mira</td><td>297.109</td><td>42.558</td><td>kplr2012242195726\\_ffi-cal.fits[28]</td><td>18</td><td>12.838</td><td>-0.352</td><td>11.445</td><td>13.225</td><td>0.087</td></tr>\n",
       "<tr><td>V* V1253 Cyg</td><td>LPV*</td><td>289.737</td><td>44.957</td><td>kplr2012179140901\\_ffi-cal.fits[43]</td><td>52</td><td>13.702</td><td>-0.577</td><td>12.739</td><td>10.888</td><td>0.021</td></tr>\n",
       "<tr><td>V* V1292 Cyg</td><td>Mira</td><td>297.002</td><td>41.877</td><td>kplr2010234192745\\_ffi-cal.fits[9]</td><td>52</td><td>13.526</td><td>-0.528</td><td>12.49</td><td>11.395</td><td>-0.174</td></tr>\n",
       "<tr><td>V* V1503 Cyg</td><td>Mira</td><td>289.972</td><td>43.762</td><td>kplr2011271191331\\_ffi-cal.fits[43]</td><td>52</td><td>13.255</td><td>-0.321</td><td>11.776</td><td>10.482</td><td>-0.113</td></tr>\n",
       "<tr><td>V* V1504 Cyg</td><td>DwarfNova</td><td>292.235</td><td>43.094</td><td>kplr2009115080620\\_ffi-cal.fits[46]</td><td>14</td><td>13.847</td><td>-1.092</td><td>13.353</td><td>12.733</td><td>1.897</td></tr>\n",
       "<tr><td>V* V1670 Cyg</td><td>Mira</td><td>292.931</td><td>41.427</td><td>kplr2011177110110\\_ffi-cal.fits[48]</td><td>51</td><td>13.447</td><td>-0.592</td><td>12.506</td><td>12.363</td><td>0.033</td></tr>\n",
       "<tr><td>V* V355 Lyr</td><td>RRLyr</td><td>283.358</td><td>43.155</td><td>kplr2010140101631\\_ffi-cal.fits[2]</td><td>33</td><td>13.894</td><td>-0.645</td><td>13.022</td><td>10.402</td><td>0.191</td></tr>\n",
       "<tr><td>V* V390 Cyg</td><td>Mira</td><td>292.98</td><td>48.459</td><td>kplr2012179140901\\_ffi-cal.fits[57]</td><td>28</td><td>12.742</td><td>-0.204</td><td>10.827</td><td>10.827</td><td>0.167</td></tr>\n",
       "</table>"
      ],
      "text/plain": [
       "<Table length=15>\n",
       "        MAIN_ID           OTYPE      RA   ... MAG_BEST_ORIG   S/N   parallax\n",
       "         str23             str9   float64 ...    float64    float64 float64 \n",
       "----------------------- --------- ------- ... ------------- ------- --------\n",
       "2MASS J19293151+3742406      Mira 292.381 ...        13.134  15.129   -0.263\n",
       "2MASS J19382873+3913505      Mira  294.62 ...        12.974  10.993    0.018\n",
       "        IRAS 18554+4753      LPV* 284.205 ...        13.105  17.078   -0.213\n",
       "        IRAS 19545+4512      Mira 299.045 ...        12.224  15.777    0.004\n",
       "              Mis V0148      Mira 299.234 ...         12.38  16.208     0.17\n",
       "              V* FX Cyg      Mira  296.04 ...        12.095  11.811     0.13\n",
       "           V* V1119 Cyg      Mira 291.436 ...        12.836  19.521    0.039\n",
       "           V* V1155 Cyg      Mira 297.109 ...        11.445  13.225    0.087\n",
       "           V* V1253 Cyg      LPV* 289.737 ...        12.739  10.888    0.021\n",
       "           V* V1292 Cyg      Mira 297.002 ...         12.49  11.395   -0.174\n",
       "           V* V1503 Cyg      Mira 289.972 ...        11.776  10.482   -0.113\n",
       "           V* V1504 Cyg DwarfNova 292.235 ...        13.353  12.733    1.897\n",
       "           V* V1670 Cyg      Mira 292.931 ...        12.506  12.363    0.033\n",
       "            V* V355 Lyr     RRLyr 283.358 ...        13.022  10.402    0.191\n",
       "            V* V390 Cyg      Mira  292.98 ...        10.827  10.827    0.167"
      ]
     },
     "execution_count": 5,
     "metadata": {},
     "output_type": "execute_result"
    }
   ],
   "source": [
    "tabsn"
   ]
  },
  {
   "cell_type": "code",
   "execution_count": 6,
   "metadata": {},
   "outputs": [],
   "source": [
    "tabmag = ascii.read('/home/mj1e16/scpDump/1maglatexshort.csv')"
   ]
  },
  {
   "cell_type": "code",
   "execution_count": 8,
   "metadata": {},
   "outputs": [],
   "source": [
    "tabmag.remove_columns(['X_IMAGE','Y_IMAGE'])"
   ]
  },
  {
   "cell_type": "code",
   "execution_count": 9,
   "metadata": {},
   "outputs": [
    {
     "data": {
      "text/html": [
       "&lt;Table length=7&gt;\n",
       "<table id=\"table140176876149904\" class=\"table-striped table-bordered table-condensed\">\n",
       "<thead><tr><th>MAIN_ID</th><th>OTYPE</th><th>RA</th><th>DEC</th><th>IMAGE_NAME</th><th>Number_of_Observations</th><th>MAG_BEST</th><th>magDiff</th><th>MAG_BEST_ORIG</th><th>S/N</th><th>parallax</th></tr></thead>\n",
       "<thead><tr><th>str23</th><th>str9</th><th>float64</th><th>float64</th><th>str35</th><th>int64</th><th>float64</th><th>float64</th><th>float64</th><th>float64</th><th>float64</th></tr></thead>\n",
       "<tr><td>2MASS J19293151+3742406</td><td>Mira</td><td>292.381</td><td>37.711</td><td>kplr2011271191331\\_ffi-cal.fits[3]</td><td>40</td><td>13.553</td><td>-1.238</td><td>13.134</td><td>15.129</td><td>-0.263</td></tr>\n",
       "<tr><td>IRAS 18554+4753</td><td>LPV*</td><td>284.205</td><td>47.953</td><td>kplr2009351005245\\_ffi-cal.fits[69]</td><td>52</td><td>13.41</td><td>-1.529</td><td>13.105</td><td>17.078</td><td>-0.213</td></tr>\n",
       "<tr><td>KIC 12055999</td><td>Star</td><td>288.148</td><td>50.575</td><td>kplr2012341215621\\_ffi-cal.fits[31]</td><td>2</td><td>15.728</td><td>-1.302</td><td>15.338</td><td>5.635</td><td>1.423</td></tr>\n",
       "<tr><td>USNO-B1.0 1360-00297059</td><td>CataclyV*</td><td>284.662</td><td>46.035</td><td>kplr2011303191211\\_ffi-cal.fits[65]</td><td>1</td><td>15.256</td><td>-1.444</td><td>14.923</td><td>7.193</td><td>1.486</td></tr>\n",
       "<tr><td>V* V1119 Cyg</td><td>Mira</td><td>291.436</td><td>51.159</td><td>kplr2010111125026\\_ffi-cal.fits[53]</td><td>51</td><td>13.13</td><td>-1.561</td><td>12.836</td><td>19.521</td><td>0.039</td></tr>\n",
       "<tr><td>V* V1504 Cyg</td><td>DwarfNova</td><td>292.235</td><td>43.094</td><td>kplr2009115080620\\_ffi-cal.fits[46]</td><td>14</td><td>13.847</td><td>-1.092</td><td>13.353</td><td>12.733</td><td>1.897</td></tr>\n",
       "<tr><td>V* V344 Lyr</td><td>DwarfNova</td><td>281.163</td><td>43.375</td><td>kplr2012151105138\\_ffi-cal.fits[4]</td><td>6</td><td>15.415</td><td>-1.125</td><td>14.939</td><td>6.24</td><td>0.94</td></tr>\n",
       "</table>"
      ],
      "text/plain": [
       "<Table length=7>\n",
       "        MAIN_ID           OTYPE      RA   ... MAG_BEST_ORIG   S/N   parallax\n",
       "         str23             str9   float64 ...    float64    float64 float64 \n",
       "----------------------- --------- ------- ... ------------- ------- --------\n",
       "2MASS J19293151+3742406      Mira 292.381 ...        13.134  15.129   -0.263\n",
       "        IRAS 18554+4753      LPV* 284.205 ...        13.105  17.078   -0.213\n",
       "           KIC 12055999      Star 288.148 ...        15.338   5.635    1.423\n",
       "USNO-B1.0 1360-00297059 CataclyV* 284.662 ...        14.923   7.193    1.486\n",
       "           V* V1119 Cyg      Mira 291.436 ...        12.836  19.521    0.039\n",
       "           V* V1504 Cyg DwarfNova 292.235 ...        13.353  12.733    1.897\n",
       "            V* V344 Lyr DwarfNova 281.163 ...        14.939    6.24     0.94"
      ]
     },
     "execution_count": 9,
     "metadata": {},
     "output_type": "execute_result"
    }
   ],
   "source": [
    "tabmag"
   ]
  },
  {
   "cell_type": "code",
   "execution_count": 11,
   "metadata": {},
   "outputs": [],
   "source": [
    "tabthreemag = ascii.read('/home/mj1e16/scpDump/threetop10latex.csv')"
   ]
  },
  {
   "cell_type": "code",
   "execution_count": 20,
   "metadata": {},
   "outputs": [],
   "source": [
    "def roundColumn(colname,table,dp=3):\n",
    "    origcol = table[colname].tolist()\n",
    "    roundcol = [round(x,dp) for x in origcol]\n",
    "    table[colname] = roundcol"
   ]
  },
  {
   "cell_type": "code",
   "execution_count": 21,
   "metadata": {},
   "outputs": [],
   "source": [
    "roundColumn('magDiff',tabthreemag)"
   ]
  },
  {
   "cell_type": "code",
   "execution_count": 23,
   "metadata": {},
   "outputs": [],
   "source": [
    "roundColumn('S/N',tabthreemag)\n",
    "roundColumn('MAG_BEST_ORIG',tabthreemag)\n",
    "roundColumn('MAG_BEST',tabthreemag)\n",
    "roundColumn('X_IMAGE',tabthreemag)\n",
    "roundColumn('Y_IMAGE',tabthreemag)"
   ]
  },
  {
   "cell_type": "code",
   "execution_count": 26,
   "metadata": {},
   "outputs": [],
   "source": [
    "roundColumn('RA',tabthreemag,dp=6)\n",
    "roundColumn('DEC',tabthreemag,dp=6)\n"
   ]
  },
  {
   "cell_type": "code",
   "execution_count": 28,
   "metadata": {},
   "outputs": [],
   "source": [
    "ascii.write(tabthreemag,'/home/mj1e16/scpDump/threemaglatexnewshort.csv',format='csv',fast_writer=False)"
   ]
  },
  {
   "cell_type": "code",
   "execution_count": 16,
   "metadata": {},
   "outputs": [],
   "source": [
    "magcol = tabthreemag['magDiff'].tolist()"
   ]
  },
  {
   "cell_type": "code",
   "execution_count": 18,
   "metadata": {},
   "outputs": [],
   "source": [
    "#answer = str(round(answer, 2)) \n",
    "magcolround = [round(x,3) for x in magcol]"
   ]
  },
  {
   "cell_type": "code",
   "execution_count": 29,
   "metadata": {},
   "outputs": [
    {
     "data": {
      "text/html": [
       "&lt;Table length=15&gt;\n",
       "<table id=\"table140176881035984\" class=\"table-striped table-bordered table-condensed\">\n",
       "<thead><tr><th>MAIN_ID</th><th>OTYPE</th><th>RA</th><th>DEC</th><th>IMAGE_NAME</th><th>Number_of_Observations</th><th>MAG_BEST</th><th>magDiff</th><th>MAG_BEST_ORIG</th><th>S/N</th><th>parallax</th></tr></thead>\n",
       "<thead><tr><th>str23</th><th>str9</th><th>float64</th><th>float64</th><th>str35</th><th>int64</th><th>float64</th><th>float64</th><th>float64</th><th>float64</th><th>float64</th></tr></thead>\n",
       "<tr><td>2MASS J19293151+3742406</td><td>Mira</td><td>292.381</td><td>37.711</td><td>kplr2011271191331\\_ffi-cal.fits[3]</td><td>40</td><td>13.553</td><td>-1.238</td><td>13.134</td><td>15.129</td><td>-0.263</td></tr>\n",
       "<tr><td>2MASS J19382873+3913505</td><td>Mira</td><td>294.62</td><td>39.231</td><td>kplr2011024134926\\_ffi-cal.fits[80]</td><td>46</td><td>13.81</td><td>-0.675</td><td>12.974</td><td>10.993</td><td>0.018</td></tr>\n",
       "<tr><td>IRAS 18554+4753</td><td>LPV*</td><td>284.205</td><td>47.953</td><td>kplr2009351005245\\_ffi-cal.fits[69]</td><td>52</td><td>13.41</td><td>-1.529</td><td>13.105</td><td>17.078</td><td>-0.213</td></tr>\n",
       "<tr><td>IRAS 19545+4512</td><td>Mira</td><td>299.045</td><td>45.35</td><td>kplr2010078174524\\_ffi-cal.fits[54]</td><td>52</td><td>13.043</td><td>-0.689</td><td>12.224</td><td>15.777</td><td>0.004</td></tr>\n",
       "<tr><td>Mis V0148</td><td>Mira</td><td>299.234</td><td>44.59</td><td>kplr2010049182302\\_ffi-cal.fits[53]</td><td>31</td><td>13.094</td><td>-0.793</td><td>12.38</td><td>16.208</td><td>0.17</td></tr>\n",
       "<tr><td>V* FX Cyg</td><td>Mira</td><td>296.04</td><td>39.79</td><td>kplr2010356020128\\_ffi-cal.fits[35]</td><td>51</td><td>13.288</td><td>-0.44</td><td>12.095</td><td>11.811</td><td>0.13</td></tr>\n",
       "<tr><td>V* V1119 Cyg</td><td>Mira</td><td>291.436</td><td>51.159</td><td>kplr2010111125026\\_ffi-cal.fits[53]</td><td>51</td><td>13.13</td><td>-1.561</td><td>12.836</td><td>19.521</td><td>0.039</td></tr>\n",
       "<tr><td>V* V1155 Cyg</td><td>Mira</td><td>297.109</td><td>42.558</td><td>kplr2012242195726\\_ffi-cal.fits[28]</td><td>18</td><td>12.838</td><td>-0.352</td><td>11.445</td><td>13.225</td><td>0.087</td></tr>\n",
       "<tr><td>V* V1253 Cyg</td><td>LPV*</td><td>289.737</td><td>44.957</td><td>kplr2012179140901\\_ffi-cal.fits[43]</td><td>52</td><td>13.702</td><td>-0.577</td><td>12.739</td><td>10.888</td><td>0.021</td></tr>\n",
       "<tr><td>V* V1292 Cyg</td><td>Mira</td><td>297.002</td><td>41.877</td><td>kplr2010234192745\\_ffi-cal.fits[9]</td><td>52</td><td>13.526</td><td>-0.528</td><td>12.49</td><td>11.395</td><td>-0.174</td></tr>\n",
       "<tr><td>V* V1503 Cyg</td><td>Mira</td><td>289.972</td><td>43.762</td><td>kplr2011271191331\\_ffi-cal.fits[43]</td><td>52</td><td>13.255</td><td>-0.321</td><td>11.776</td><td>10.482</td><td>-0.113</td></tr>\n",
       "<tr><td>V* V1504 Cyg</td><td>DwarfNova</td><td>292.235</td><td>43.094</td><td>kplr2009115080620\\_ffi-cal.fits[46]</td><td>14</td><td>13.847</td><td>-1.092</td><td>13.353</td><td>12.733</td><td>1.897</td></tr>\n",
       "<tr><td>V* V1670 Cyg</td><td>Mira</td><td>292.931</td><td>41.427</td><td>kplr2011177110110\\_ffi-cal.fits[48]</td><td>51</td><td>13.447</td><td>-0.592</td><td>12.506</td><td>12.363</td><td>0.033</td></tr>\n",
       "<tr><td>V* V355 Lyr</td><td>RRLyr</td><td>283.358</td><td>43.155</td><td>kplr2010140101631\\_ffi-cal.fits[2]</td><td>33</td><td>13.894</td><td>-0.645</td><td>13.022</td><td>10.402</td><td>0.191</td></tr>\n",
       "<tr><td>V* V390 Cyg</td><td>Mira</td><td>292.98</td><td>48.459</td><td>kplr2012179140901\\_ffi-cal.fits[57]</td><td>28</td><td>12.742</td><td>-0.204</td><td>10.827</td><td>10.827</td><td>0.167</td></tr>\n",
       "</table>"
      ],
      "text/plain": [
       "<Table length=15>\n",
       "        MAIN_ID           OTYPE      RA   ... MAG_BEST_ORIG   S/N   parallax\n",
       "         str23             str9   float64 ...    float64    float64 float64 \n",
       "----------------------- --------- ------- ... ------------- ------- --------\n",
       "2MASS J19293151+3742406      Mira 292.381 ...        13.134  15.129   -0.263\n",
       "2MASS J19382873+3913505      Mira  294.62 ...        12.974  10.993    0.018\n",
       "        IRAS 18554+4753      LPV* 284.205 ...        13.105  17.078   -0.213\n",
       "        IRAS 19545+4512      Mira 299.045 ...        12.224  15.777    0.004\n",
       "              Mis V0148      Mira 299.234 ...         12.38  16.208     0.17\n",
       "              V* FX Cyg      Mira  296.04 ...        12.095  11.811     0.13\n",
       "           V* V1119 Cyg      Mira 291.436 ...        12.836  19.521    0.039\n",
       "           V* V1155 Cyg      Mira 297.109 ...        11.445  13.225    0.087\n",
       "           V* V1253 Cyg      LPV* 289.737 ...        12.739  10.888    0.021\n",
       "           V* V1292 Cyg      Mira 297.002 ...         12.49  11.395   -0.174\n",
       "           V* V1503 Cyg      Mira 289.972 ...        11.776  10.482   -0.113\n",
       "           V* V1504 Cyg DwarfNova 292.235 ...        13.353  12.733    1.897\n",
       "           V* V1670 Cyg      Mira 292.931 ...        12.506  12.363    0.033\n",
       "            V* V355 Lyr     RRLyr 283.358 ...        13.022  10.402    0.191\n",
       "            V* V390 Cyg      Mira  292.98 ...        10.827  10.827    0.167"
      ]
     },
     "execution_count": 29,
     "metadata": {},
     "output_type": "execute_result"
    }
   ],
   "source": [
    "tabsn"
   ]
  },
  {
   "cell_type": "code",
   "execution_count": null,
   "metadata": {},
   "outputs": [],
   "source": []
  }
 ],
 "metadata": {
  "kernelspec": {
   "display_name": "Python 2",
   "language": "python",
   "name": "python2"
  },
  "language_info": {
   "codemirror_mode": {
    "name": "ipython",
    "version": 2
   },
   "file_extension": ".py",
   "mimetype": "text/x-python",
   "name": "python",
   "nbconvert_exporter": "python",
   "pygments_lexer": "ipython2",
   "version": "2.7.12"
  }
 },
 "nbformat": 4,
 "nbformat_minor": 2
}
