{
 "cells": [
  {
   "cell_type": "code",
   "execution_count": 1,
   "metadata": {},
   "outputs": [
    {
     "name": "stdout",
     "output_type": "stream",
     "text": [
      "Created TAP+ (v1.0.1) - Connection:\n",
      "\tHost: gea.esac.esa.int\n",
      "\tUse HTTPS: False\n",
      "\tPort: 80\n",
      "\tSSL Port: 443\n"
     ]
    }
   ],
   "source": [
    "from astropy.coordinates import SkyCoord\n",
    "import astropy.coordinates as coord\n",
    "\n",
    "import astropy.units as u\n",
    "import matplotlib.pyplot as plt\n",
    "import numpy as np\n",
    "import os\n",
    "\n",
    "from astropy import wcs\n",
    "from astropy.io import fits\n",
    "import sys\n",
    "\n",
    "# from astroquery.simbad import Simbad\n",
    "# from astroquery.vizier import Vizier\n",
    "\n",
    "from astropy.table import Table, vstack\n",
    "from astropy.table import Column\n",
    "\n",
    "import collections\n",
    "import subprocess\n",
    "from astropy.io import ascii\n",
    "import time\n",
    "from astropy.utils.data import clear_download_cache\n",
    "from astroquery.gaia import Gaia\n",
    "# import warnings\n",
    "# warnings.filterwarnings('ignore')\n",
    "import pandas as pd"
   ]
  },
  {
   "cell_type": "code",
   "execution_count": 2,
   "metadata": {
    "collapsed": true
   },
   "outputs": [],
   "source": [
    "def findMatchesNoCondition(tab,match,max_sep = 5 * u.arcsec):\n",
    "    \n",
    "    df = tab.to_pandas()\n",
    "    bigdf = match.to_pandas()\n",
    "    \n",
    "    number1 = match['index']\n",
    "    ra1 = match['RA']\n",
    "    dec1 = match['DEC']\n",
    "\n",
    "    number2 = tab['Name'] # difference image\n",
    "    ra2 = tab['RA(deg)']\n",
    "    dec2 = tab['Dec(deg)']    \n",
    "    \n",
    "    cat1 = SkyCoord(ra=ra1*u.degree, dec=dec1*u.degree)\n",
    "    cat2 = SkyCoord(ra=ra2*u.degree, dec=dec2*u.degree)\n",
    "    \n",
    "    idx, d2d, d3d = cat2.match_to_catalog_sky(cat1)\n",
    "    sep_constraint = d2d < max_sep\n",
    "    objectsFound = number2[sep_constraint]\n",
    "    matchdf = df[df['Name'].isin(objectsFound)]\n",
    "    matchTab = Table.from_pandas(matchdf)\n",
    "\n",
    "    idx, d2d, d3d = cat1.match_to_catalog_sky(cat2)\n",
    "    sep_constraint = d2d < max_sep\n",
    "    #istrue = [x for x in sep_constraint if x == True]\n",
    "    objectsFound = number1[sep_constraint]\n",
    "    origdf = bigdf[bigdf['index'].isin(objectsFound)]\n",
    "    origTab = Table.from_pandas(origdf)\n",
    "    \n",
    "    return [matchTab,origTab]"
   ]
  },
  {
   "cell_type": "code",
   "execution_count": 3,
   "metadata": {
    "collapsed": true
   },
   "outputs": [],
   "source": [
    "def findMatchesNoCondition(tab,match,max_sep = 2.5 * u.arcsec):\n",
    "    \n",
    "    df = tab.to_pandas()\n",
    "    bigdf = match.to_pandas()\n",
    "    \n",
    "    number1 = tab['NUMBER'] # difference image\n",
    "    ra1 = tab['RA(deg)']\n",
    "    dec1 = tab['Dec(deg)']    \n",
    "    \n",
    "    number2 = match['NUMBER']\n",
    "    ra2 = match['RA']\n",
    "    dec2 = match['DEC']\n",
    "    \n",
    "    #makeDS9RegFile([tab],'/home/mj1e16/ds9RegFiles/foundinBoth','sex',colour='red')\n",
    "\n",
    "    cat1 = SkyCoord(ra=ra1*u.degree, dec=dec1*u.degree)\n",
    "    cat2 = SkyCoord(ra=ra2*u.degree, dec=dec2*u.degree)\n",
    "    \n",
    "    idx, d2d, d3d = cat1.match_to_catalog_sky(cat2)\n",
    "    sep_constraint = d2d < max_sep\n",
    "    \n",
    "    objectsFound = number1[sep_constraint] # index of objects found in difference image\n",
    "    objectsFoundList  = objectsFound.tolist()\n",
    "    \n",
    "    matches = idx[sep_constraint] # index of objects found in original,  image\n",
    "    origdf = df[df['NUMBER'].isin(objectsFound)]\n",
    "\n",
    "\n",
    "    finalTab = Table.from_pandas(origdf)\n",
    "\n",
    "    return finalTab"
   ]
  },
  {
   "cell_type": "code",
   "execution_count": 4,
   "metadata": {
    "collapsed": true
   },
   "outputs": [],
   "source": [
    "cvTab = ascii.read('/home/mj1e16/Downloads/CVs_masterlist_20180424.csv')\n",
    "#kepler = ascii.read('/home/mj1e16/outTables15/firstPassTransients15.csv')\n",
    "kepler = ascii.read('/home/mj1e16/outTablesImproved/final/magone.csv')"
   ]
  },
  {
   "cell_type": "code",
   "execution_count": 5,
   "metadata": {},
   "outputs": [
    {
     "data": {
      "text/html": [
       "&lt;Table masked=True length=5&gt;\n",
       "<table id=\"table140611966591696\" class=\"table-striped table-bordered table-condensed\">\n",
       "<thead><tr><th>Name</th><th>RA</th><th>Dec</th><th>RA(deg)</th><th>Dec(deg)</th><th>Constellation</th><th>Type</th><th>Period(d)</th><th>MagBright(approx)</th><th>MagFaint(approx)</th></tr></thead>\n",
       "<thead><tr><th>str39</th><th>str12</th><th>str17</th><th>float64</th><th>float64</th><th>str11</th><th>str18</th><th>float64</th><th>float64</th><th>str18</th></tr></thead>\n",
       "<tr><td>CSS 100910:000025+332543</td><td>00 00 24.61</td><td>+33 25 43.1</td><td>0.10254167</td><td>33.42864</td><td>And</td><td>UGSU</td><td>--</td><td>15.9</td><td>20.5 CV</td></tr>\n",
       "<tr><td>Gaia17ccg</td><td>00 00 42.30</td><td>+46 42 14.7</td><td>0.17625</td><td>46.704082</td><td>And</td><td>UG:</td><td>--</td><td>17.9</td><td>&lt;22 G</td></tr>\n",
       "<tr><td>BE Oct</td><td>00 00 49.02</td><td>-77 18 57.8</td><td>0.20425</td><td>-77.316055</td><td>Oct</td><td>UGSU</td><td>0.0747</td><td>15.0</td><td>19.4 V</td></tr>\n",
       "<tr><td>MASTER OTJ000055.37+540128.5</td><td>00 00 55.37</td><td>+54 01 28.5</td><td>0.23070833</td><td>54.024582</td><td>--</td><td>CV?</td><td>--</td><td>16.5</td><td>--</td></tr>\n",
       "<tr><td>Gaia17cue</td><td>00 01 21.23</td><td>+58 25 23.0</td><td>0.33845833</td><td>58.423054</td><td>Cas</td><td>UG:</td><td>--</td><td>18.1</td><td>&lt;22 R</td></tr>\n",
       "</table>"
      ],
      "text/plain": [
       "<Table masked=True length=5>\n",
       "            Name                  RA     ... MagBright(approx) MagFaint(approx)\n",
       "           str39                str12    ...      float64           str18      \n",
       "---------------------------- ----------- ... ----------------- ----------------\n",
       "    CSS 100910:000025+332543 00 00 24.61 ...              15.9          20.5 CV\n",
       "                   Gaia17ccg 00 00 42.30 ...              17.9            <22 G\n",
       "                      BE Oct 00 00 49.02 ...              15.0           19.4 V\n",
       "MASTER OTJ000055.37+540128.5 00 00 55.37 ...              16.5               --\n",
       "                   Gaia17cue 00 01 21.23 ...              18.1            <22 R"
      ]
     },
     "execution_count": 5,
     "metadata": {},
     "output_type": "execute_result"
    }
   ],
   "source": [
    "cvTab[0:5]"
   ]
  },
  {
   "cell_type": "code",
   "execution_count": 6,
   "metadata": {
    "collapsed": true
   },
   "outputs": [],
   "source": [
    "indexes = range(len(kepler))\n",
    "kepler['NUMBER'] = indexes\n",
    "\n",
    "indexes = range(len(cvTab))\n",
    "cvTab['NUMBER'] = indexes"
   ]
  },
  {
   "cell_type": "code",
   "execution_count": 7,
   "metadata": {
    "collapsed": true
   },
   "outputs": [],
   "source": [
    "tabs = findMatchesNoCondition(cvTab,kepler)"
   ]
  },
  {
   "cell_type": "code",
   "execution_count": 8,
   "metadata": {},
   "outputs": [
    {
     "data": {
      "text/html": [
       "&lt;Table masked=True length=6&gt;\n",
       "<table id=\"table140611049370000\" class=\"table-striped table-bordered table-condensed\">\n",
       "<thead><tr><th>Name</th><th>RA</th><th>Dec</th><th>RA(deg)</th><th>Dec(deg)</th><th>Constellation</th><th>Type</th><th>Period(d)</th><th>MagBright(approx)</th><th>MagFaint(approx)</th><th>NUMBER</th></tr></thead>\n",
       "<thead><tr><th>str29</th><th>str11</th><th>str11</th><th>float64</th><th>float64</th><th>str3</th><th>str4</th><th>float64</th><th>float64</th><th>str8</th><th>float64</th></tr></thead>\n",
       "<tr><td>V0344 Lyr</td><td>18 44 39.18</td><td>+43 22 28.0</td><td>281.16324</td><td>43.374443</td><td>Lyr</td><td>UGSU</td><td>0.087904</td><td>13.8</td><td>19 V</td><td>6287.0</td></tr>\n",
       "<tr><td>MASTER OT J185838.73+460207.2</td><td>18 58 38.71</td><td>+46 02 07.2</td><td>284.6613</td><td>46.03533</td><td>Lyr</td><td>UGSU</td><td>--</td><td>15.8</td><td>20.3 B</td><td>6415.0</td></tr>\n",
       "<tr><td>MASTER OT J191156.83+403101.6</td><td>19 11 56.83</td><td>+40 31 01.6</td><td>287.9868</td><td>40.517113</td><td>Lyr</td><td>UG</td><td>--</td><td>16.4</td><td>&lt;18.4 CR</td><td>6533.0</td></tr>\n",
       "<tr><td>ASASSN-15mt</td><td>19 12 35.54</td><td>+50 34 31.3</td><td>288.14807</td><td>50.57536</td><td>Cyg</td><td>UGSU</td><td>--</td><td>13.7</td><td>19.6 V</td><td>6536.0</td></tr>\n",
       "<tr><td>V0585 Lyr</td><td>19 13 58.43</td><td>+40 44 08.8</td><td>288.49347</td><td>40.73578</td><td>Lyr</td><td>UGSU</td><td>--</td><td>14.9</td><td>17.0: B</td><td>6546.0</td></tr>\n",
       "<tr><td>V1504 Cyg</td><td>19 28 56.45</td><td>+43 05 36.4</td><td>292.2352</td><td>43.093445</td><td>Cyg</td><td>UGSU</td><td>0.06951</td><td>13.5</td><td>17.4 p</td><td>6680.0</td></tr>\n",
       "</table>"
      ],
      "text/plain": [
       "<Table masked=True length=6>\n",
       "             Name                  RA     ... MagFaint(approx)  NUMBER\n",
       "            str29                str11    ...       str8       float64\n",
       "----------------------------- ----------- ... ---------------- -------\n",
       "                    V0344 Lyr 18 44 39.18 ...             19 V  6287.0\n",
       "MASTER OT J185838.73+460207.2 18 58 38.71 ...           20.3 B  6415.0\n",
       "MASTER OT J191156.83+403101.6 19 11 56.83 ...         <18.4 CR  6533.0\n",
       "                  ASASSN-15mt 19 12 35.54 ...           19.6 V  6536.0\n",
       "                    V0585 Lyr 19 13 58.43 ...          17.0: B  6546.0\n",
       "                    V1504 Cyg 19 28 56.45 ...           17.4 p  6680.0"
      ]
     },
     "execution_count": 8,
     "metadata": {},
     "output_type": "execute_result"
    }
   ],
   "source": [
    "tabs"
   ]
  },
  {
   "cell_type": "code",
   "execution_count": 38,
   "metadata": {
    "collapsed": true
   },
   "outputs": [],
   "source": [
    "for x in tabs:\n",
    "    ascii\n",
    "    print(len(x))"
   ]
  },
  {
   "cell_type": "code",
   "execution_count": 44,
   "metadata": {
    "collapsed": true
   },
   "outputs": [],
   "source": [
    "ascii.write(tabs,'/home/mj1e16/outTablesImproved/cv10sn.csv',format='csv',fast_writer=False)\n",
    "#ascii.write(tabs[1],'/home/mj1e16/outTablesImproved/cvkep25.csv',format='csv',fast_writer=False)"
   ]
  },
  {
   "cell_type": "code",
   "execution_count": null,
   "metadata": {
    "collapsed": true
   },
   "outputs": [],
   "source": []
  }
 ],
 "metadata": {
  "kernelspec": {
   "display_name": "Python 2",
   "language": "python",
   "name": "python2"
  },
  "language_info": {
   "codemirror_mode": {
    "name": "ipython",
    "version": 2
   },
   "file_extension": ".py",
   "mimetype": "text/x-python",
   "name": "python",
   "nbconvert_exporter": "python",
   "pygments_lexer": "ipython2",
   "version": "2.7.13"
  }
 },
 "nbformat": 4,
 "nbformat_minor": 2
}
