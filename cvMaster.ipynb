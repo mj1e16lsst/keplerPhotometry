{
 "cells": [
  {
   "cell_type": "code",
   "execution_count": 1,
   "metadata": {},
   "outputs": [
    {
     "name": "stdout",
     "output_type": "stream",
     "text": [
      "Created TAP+ (v1.0.1) - Connection:\n",
      "\tHost: gea.esac.esa.int\n",
      "\tUse HTTPS: False\n",
      "\tPort: 80\n",
      "\tSSL Port: 443\n"
     ]
    }
   ],
   "source": [
    "from astropy.coordinates import SkyCoord\n",
    "import astropy.coordinates as coord\n",
    "\n",
    "import astropy.units as u\n",
    "import matplotlib.pyplot as plt\n",
    "import numpy as np\n",
    "import os\n",
    "\n",
    "from astropy import wcs\n",
    "from astropy.io import fits\n",
    "import sys\n",
    "\n",
    "# from astroquery.simbad import Simbad\n",
    "# from astroquery.vizier import Vizier\n",
    "\n",
    "from astropy.table import Table, vstack\n",
    "from astropy.table import Column\n",
    "\n",
    "import collections\n",
    "import subprocess\n",
    "from astropy.io import ascii\n",
    "import time\n",
    "from astropy.utils.data import clear_download_cache\n",
    "from astroquery.gaia import Gaia\n",
    "# import warnings\n",
    "# warnings.filterwarnings('ignore')\n",
    "import pandas as pd"
   ]
  },
  {
   "cell_type": "code",
   "execution_count": 42,
   "metadata": {
    "collapsed": true
   },
   "outputs": [],
   "source": [
    "def findMatchesNoCondition(tab,match,max_sep = 5 * u.arcsec):\n",
    "    \n",
    "    df = tab.to_pandas()\n",
    "    bigdf = match.to_pandas()\n",
    "    \n",
    "    number1 = match['index']\n",
    "    ra1 = match['RA']\n",
    "    dec1 = match['DEC']\n",
    "\n",
    "    number2 = tab['Name'] # difference image\n",
    "    ra2 = tab['RA(deg)']\n",
    "    dec2 = tab['Dec(deg)']    \n",
    "    \n",
    "    cat1 = SkyCoord(ra=ra1*u.degree, dec=dec1*u.degree)\n",
    "    cat2 = SkyCoord(ra=ra2*u.degree, dec=dec2*u.degree)\n",
    "    \n",
    "    idx, d2d, d3d = cat2.match_to_catalog_sky(cat1)\n",
    "    sep_constraint = d2d < max_sep\n",
    "    objectsFound = number2[sep_constraint]\n",
    "    matchdf = df[df['Name'].isin(objectsFound)]\n",
    "    matchTab = Table.from_pandas(matchdf)\n",
    "\n",
    "    idx, d2d, d3d = cat1.match_to_catalog_sky(cat2)\n",
    "    sep_constraint = d2d < max_sep\n",
    "    #istrue = [x for x in sep_constraint if x == True]\n",
    "    objectsFound = number1[sep_constraint]\n",
    "    origdf = bigdf[bigdf['index'].isin(objectsFound)]\n",
    "    origTab = Table.from_pandas(origdf)\n",
    "    \n",
    "    return [matchTab,origTab]"
   ]
  },
  {
   "cell_type": "code",
   "execution_count": 43,
   "metadata": {},
   "outputs": [],
   "source": [
    "tabs = findMatchesNoCondition(cvTab,kepler)"
   ]
  },
  {
   "cell_type": "code",
   "execution_count": 44,
   "metadata": {},
   "outputs": [
    {
     "name": "stdout",
     "output_type": "stream",
     "text": [
      "4\n",
      "6\n"
     ]
    }
   ],
   "source": [
    "for x in tabs:\n",
    "    ascii\n",
    "    print(len(x))"
   ]
  },
  {
   "cell_type": "code",
   "execution_count": 41,
   "metadata": {},
   "outputs": [],
   "source": [
    "ascii.write(tabs[0],'/home/mj1e16/outTablesImproved/cvcv25.csv',format='csv',fast_writer=False)\n",
    "ascii.write(tabs[1],'/home/mj1e16/outTablesImproved/cvkep25.csv',format='csv',fast_writer=False)"
   ]
  },
  {
   "cell_type": "code",
   "execution_count": 3,
   "metadata": {
    "collapsed": true
   },
   "outputs": [],
   "source": [
    "cvTab = ascii.read('/home/mj1e16/Downloads/CVs_masterlist_20180424.csv')"
   ]
  },
  {
   "cell_type": "code",
   "execution_count": 31,
   "metadata": {
    "collapsed": true
   },
   "outputs": [],
   "source": [
    "kepler = ascii.read('/home/mj1e16/outTables15/firstPassTransients15.csv')"
   ]
  },
  {
   "cell_type": "code",
   "execution_count": 33,
   "metadata": {},
   "outputs": [],
   "source": [
    "indexes = range(len(kepler))\n",
    "kepler['index'] = indexes"
   ]
  },
  {
   "cell_type": "code",
   "execution_count": 46,
   "metadata": {},
   "outputs": [
    {
     "data": {
      "text/plain": [
       "8048"
      ]
     },
     "execution_count": 46,
     "metadata": {},
     "output_type": "execute_result"
    }
   ],
   "source": [
    "len(cvTab)"
   ]
  },
  {
   "cell_type": "code",
   "execution_count": null,
   "metadata": {
    "collapsed": true
   },
   "outputs": [],
   "source": []
  }
 ],
 "metadata": {
  "kernelspec": {
   "display_name": "Python 2",
   "language": "python",
   "name": "python2"
  },
  "language_info": {
   "codemirror_mode": {
    "name": "ipython",
    "version": 2
   },
   "file_extension": ".py",
   "mimetype": "text/x-python",
   "name": "python",
   "nbconvert_exporter": "python",
   "pygments_lexer": "ipython2",
   "version": "2.7.13"
  }
 },
 "nbformat": 4,
 "nbformat_minor": 2
}
