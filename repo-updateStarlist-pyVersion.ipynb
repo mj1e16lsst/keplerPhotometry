{
 "cells": [
  {
   "cell_type": "code",
   "execution_count": 11,
   "metadata": {
    "collapsed": true
   },
   "outputs": [],
   "source": [
    "import keplerSettings\n",
    "\n",
    "from astropy.io import ascii\n",
    "import mysql.connector\n",
    "from pandas import DataFrame\n",
    "import mysql.connector\n",
    "from sqlalchemy import create_engine"
   ]
  },
  {
   "cell_type": "code",
   "execution_count": 12,
   "metadata": {
    "collapsed": true
   },
   "outputs": [],
   "source": [
    "engine = create_engine(keplerSettings.sqlalchemyURL)\n",
    "conn = mysql.connector.Connect(host='localhost',user=keplerSettings.databaseUsername,password=keplerSettings.databasePassword,database=keplerSettings.databaseName)\n",
    "cursor = conn.cursor()"
   ]
  },
  {
   "cell_type": "code",
   "execution_count": 13,
   "metadata": {
    "collapsed": true
   },
   "outputs": [],
   "source": [
    "for mag in keplerSettings.magRange:\n",
    "    cursor.execute('DROP TABLE IF EXISTS starlist_{}'.format(abs(mag)))\n",
    "    data = ascii.read(keplerSettings.workflowDir+'starlistFull_{}.dat'.format(mag)) \n",
    "    df = data.to_pandas()\n",
    "    #print(df)\n",
    "    diffSize = .5\n",
    "\n",
    "    df['X_POS_MAX'] = df['X_POS'] + diffSize\n",
    "    df['Y_POS_MAX'] = df['Y_POS'] + diffSize\n",
    "    df['X_POS_MIN'] = df['X_POS'] - diffSize\n",
    "    df['Y_POS_MIN'] = df['Y_POS'] - diffSize\n",
    "    df.to_sql('starlist_{}'.format(abs(mag)),con=engine)"
   ]
  },
  {
   "cell_type": "code",
   "execution_count": null,
   "metadata": {
    "collapsed": true
   },
   "outputs": [],
   "source": []
  }
 ],
 "metadata": {
  "kernelspec": {
   "display_name": "Python 2",
   "language": "python",
   "name": "python2"
  },
  "language_info": {
   "codemirror_mode": {
    "name": "ipython",
    "version": 2
   },
   "file_extension": ".py",
   "mimetype": "text/x-python",
   "name": "python",
   "nbconvert_exporter": "python",
   "pygments_lexer": "ipython2",
   "version": "2.7.13"
  }
 },
 "nbformat": 4,
 "nbformat_minor": 2
}
