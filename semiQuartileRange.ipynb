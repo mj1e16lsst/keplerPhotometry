{
 "cells": [
  {
   "cell_type": "code",
   "execution_count": 71,
   "metadata": {},
   "outputs": [],
   "source": [
    "#import astroprov\n",
    "\n",
    "from astropy.io import fits\n",
    "from astropy.visualization import SqrtStretch\n",
    "from astropy.visualization.mpl_normalize import ImageNormalize\n",
    "from astropy.table import Table\n",
    "from astropy.table import Column\n",
    "from astropy.io import fits\n",
    "from astropy.io.ascii import SExtractor\n",
    "from astropy.coordinates import SkyCoord\n",
    "import astropy.units as u\n",
    "from astropy import wcs\n",
    "\n",
    "from astroquery.simbad import Simbad\n",
    "\n",
    "import numpy as np\n",
    "import matplotlib.pyplot as plt\n",
    "from matplotlib.colors import LogNorm\n",
    "# from photutils import DAOStarFinder\n",
    "# from photutils import CircularAperture\n",
    "import os\n",
    "import subprocess\n",
    "\n",
    "import image_registration\n",
    "from image_registration import chi2_shift\n",
    "from image_registration.fft_tools import shift\n",
    "import pandas\n",
    "import collections\n",
    "\n",
    "#from reproject import reproject_interp\n",
    "from astropy.utils.data import get_pkg_data_filename\n",
    "from astropy.wcs import WCS\n",
    "\n",
    "from scipy.stats import iqr"
   ]
  },
  {
   "cell_type": "code",
   "execution_count": 8,
   "metadata": {},
   "outputs": [],
   "source": [
    "imageDirectory = '/media/mj1e16/PP AV-TV/keplerCal/'\n",
    "#medianDir = '/data/mj1e16/kepler/newDiff/'\n",
    "dirlist = os.listdir(imageDirectory)\n",
    "dirlist = [x for x in dirlist if x[0] != '.']\n",
    "imagelist = [imageDirectory+x for x in dirlist]"
   ]
  },
  {
   "cell_type": "code",
   "execution_count": 4,
   "metadata": {},
   "outputs": [],
   "source": [
    "def getSkyGroup(imagelist,image,channel):\n",
    "    hdu_list = fits.open(imagelist[image])\n",
    "    hdr = hdu_list[channel].header\n",
    "    location = hdr['SKYGROUP']\n",
    "    return location"
   ]
  },
  {
   "cell_type": "code",
   "execution_count": 32,
   "metadata": {},
   "outputs": [],
   "source": [
    "def getImageData(imageName,extension):\n",
    "    hdu = fits.open(imageName)\n",
    "    imageData = hdu[extension].data\n",
    "    return imageData"
   ]
  },
  {
   "cell_type": "code",
   "execution_count": 6,
   "metadata": {},
   "outputs": [],
   "source": [
    "def correctExtensionOrder(imageName):\n",
    "    hdu_list = fits.open(imageName)\n",
    "    extensionOrder = np.zeros(len(hdu_list))\n",
    "    for channel in range(1,len(hdu_list)):\n",
    "        hdr = hdu_list[channel].header\n",
    "        location = hdr['SKYGROUP'] # independant location\n",
    "        extensionOrder[location] = channel # ordered from 0-84 channel with extension in place of name\n",
    "    return extensionOrder"
   ]
  },
  {
   "cell_type": "code",
   "execution_count": 9,
   "metadata": {},
   "outputs": [],
   "source": [
    "extensionOrders = []\n",
    "for image in imagelist:\n",
    "    extensionOrders.append(correctExtensionOrder(image))"
   ]
  },
  {
   "cell_type": "code",
   "execution_count": 12,
   "metadata": {},
   "outputs": [
    {
     "data": {
      "text/plain": [
       "'/media/mj1e16/PP AV-TV/keplerCal/kplr2009114204835_ffi-cal.fits'"
      ]
     },
     "execution_count": 12,
     "metadata": {},
     "output_type": "execute_result"
    }
   ],
   "source": [
    "imagelist[1]"
   ]
  },
  {
   "cell_type": "code",
   "execution_count": 29,
   "metadata": {},
   "outputs": [],
   "source": [
    "imageBunching = [[],[],[],[]]\n",
    "extensions = []\n",
    "for image in range(len(imagelist)):\n",
    "    elist = extensionOrders[image].tolist()\n",
    "    if elist not in extensions:\n",
    "        extensions.append(elist)\n",
    "        imageBunching[len(extensions)-1].append(imagelist[image])\n",
    "    else:\n",
    "        loc = extensions.index(elist)\n",
    "        imageBunching[loc].append(imagelist[image])"
   ]
  },
  {
   "cell_type": "code",
   "execution_count": 30,
   "metadata": {},
   "outputs": [
    {
     "data": {
      "text/plain": [
       "[['/media/mj1e16/PP AV-TV/keplerCal/kplr2009114174833_ffi-cal.fits',\n",
       "  '/media/mj1e16/PP AV-TV/keplerCal/kplr2009114204835_ffi-cal.fits',\n",
       "  '/media/mj1e16/PP AV-TV/keplerCal/kplr2009115002613_ffi-cal.fits',\n",
       "  '/media/mj1e16/PP AV-TV/keplerCal/kplr2009115053616_ffi-cal.fits',\n",
       "  '/media/mj1e16/PP AV-TV/keplerCal/kplr2009115080620_ffi-cal.fits',\n",
       "  '/media/mj1e16/PP AV-TV/keplerCal/kplr2009115131122_ffi-cal.fits',\n",
       "  '/media/mj1e16/PP AV-TV/keplerCal/kplr2009115173611_ffi-cal.fits',\n",
       "  '/media/mj1e16/PP AV-TV/keplerCal/kplr2009116035924_ffi-cal.fits',\n",
       "  '/media/mj1e16/PP AV-TV/keplerCal/kplr2010111125026_ffi-cal.fits',\n",
       "  '/media/mj1e16/PP AV-TV/keplerCal/kplr2010140101631_ffi-cal.fits',\n",
       "  '/media/mj1e16/PP AV-TV/keplerCal/kplr2010174164113_ffi-cal.fits',\n",
       "  '/media/mj1e16/PP AV-TV/keplerCal/kplr2011116104002_ffi-cal.fits',\n",
       "  '/media/mj1e16/PP AV-TV/keplerCal/kplr2011145152723_ffi-cal.fits',\n",
       "  '/media/mj1e16/PP AV-TV/keplerCal/kplr2011177110110_ffi-cal.fits',\n",
       "  '/media/mj1e16/PP AV-TV/keplerCal/kplr2012121122500_ffi-cal.fits',\n",
       "  '/media/mj1e16/PP AV-TV/keplerCal/kplr2012151105138_ffi-cal.fits',\n",
       "  '/media/mj1e16/PP AV-TV/keplerCal/kplr2012179140901_ffi-cal.fits'],\n",
       " ['/media/mj1e16/PP AV-TV/keplerCal/kplr2009170043915_ffi-cal.fits',\n",
       "  '/media/mj1e16/PP AV-TV/keplerCal/kplr2009231194831_ffi-cal.fits',\n",
       "  '/media/mj1e16/PP AV-TV/keplerCal/kplr2009260000800_ffi-cal.fits',\n",
       "  '/media/mj1e16/PP AV-TV/keplerCal/kplr2010203012215_ffi-cal.fits',\n",
       "  '/media/mj1e16/PP AV-TV/keplerCal/kplr2010234192745_ffi-cal.fits',\n",
       "  '/media/mj1e16/PP AV-TV/keplerCal/kplr2010265195356_ffi-cal.fits',\n",
       "  '/media/mj1e16/PP AV-TV/keplerCal/kplr2011208112727_ffi-cal.fits',\n",
       "  '/media/mj1e16/PP AV-TV/keplerCal/kplr2011240181752_ffi-cal.fits',\n",
       "  '/media/mj1e16/PP AV-TV/keplerCal/kplr2011271191331_ffi-cal.fits',\n",
       "  '/media/mj1e16/PP AV-TV/keplerCal/kplr2012211123923_ffi-cal.fits',\n",
       "  '/media/mj1e16/PP AV-TV/keplerCal/kplr2012242195726_ffi-cal.fits',\n",
       "  '/media/mj1e16/PP AV-TV/keplerCal/kplr2012277203051_ffi-cal.fits'],\n",
       " ['/media/mj1e16/PP AV-TV/keplerCal/kplr2009292020429_ffi-cal.fits',\n",
       "  '/media/mj1e16/PP AV-TV/keplerCal/kplr2009322233047_ffi-cal.fits',\n",
       "  '/media/mj1e16/PP AV-TV/keplerCal/kplr2009351005245_ffi-cal.fits',\n",
       "  '/media/mj1e16/PP AV-TV/keplerCal/kplr2010296192119_ffi-cal.fits',\n",
       "  '/media/mj1e16/PP AV-TV/keplerCal/kplr2010326181728_ffi-cal.fits',\n",
       "  '/media/mj1e16/PP AV-TV/keplerCal/kplr2010356020128_ffi-cal.fits',\n",
       "  '/media/mj1e16/PP AV-TV/keplerCal/kplr2011303191211_ffi-cal.fits',\n",
       "  '/media/mj1e16/PP AV-TV/keplerCal/kplr2011334181008_ffi-cal.fits',\n",
       "  '/media/mj1e16/PP AV-TV/keplerCal/kplr2012004204112_ffi-cal.fits',\n",
       "  '/media/mj1e16/PP AV-TV/keplerCal/kplr2012310200152_ffi-cal.fits',\n",
       "  '/media/mj1e16/PP AV-TV/keplerCal/kplr2012341215621_ffi-cal.fits',\n",
       "  '/media/mj1e16/PP AV-TV/keplerCal/kplr2013011160902_ffi-cal.fits'],\n",
       " ['/media/mj1e16/PP AV-TV/keplerCal/kplr2010019225502_ffi-cal.fits',\n",
       "  '/media/mj1e16/PP AV-TV/keplerCal/kplr2010020005046_ffi-cal.fits',\n",
       "  '/media/mj1e16/PP AV-TV/keplerCal/kplr2010049182302_ffi-cal.fits',\n",
       "  '/media/mj1e16/PP AV-TV/keplerCal/kplr2010078174524_ffi-cal.fits',\n",
       "  '/media/mj1e16/PP AV-TV/keplerCal/kplr2011024134926_ffi-cal.fits',\n",
       "  '/media/mj1e16/PP AV-TV/keplerCal/kplr2011053174401_ffi-cal.fits',\n",
       "  '/media/mj1e16/PP AV-TV/keplerCal/kplr2012032101442_ffi-cal.fits',\n",
       "  '/media/mj1e16/PP AV-TV/keplerCal/kplr2012060123308_ffi-cal.fits',\n",
       "  '/media/mj1e16/PP AV-TV/keplerCal/kplr2012088132324_ffi-cal.fits',\n",
       "  '/media/mj1e16/PP AV-TV/keplerCal/kplr2013038133130_ffi-cal.fits',\n",
       "  '/media/mj1e16/PP AV-TV/keplerCal/kplr2013065115251_ffi-cal.fits',\n",
       "  '/media/mj1e16/PP AV-TV/keplerCal/kplr2013098115308_ffi-cal.fits']]"
      ]
     },
     "execution_count": 30,
     "metadata": {},
     "output_type": "execute_result"
    }
   ],
   "source": [
    "imageBunching"
   ]
  },
  {
   "cell_type": "code",
   "execution_count": 76,
   "metadata": {},
   "outputs": [],
   "source": [
    "iqrFull = []\n",
    "for imGroup in range(len(imageBunching)):\n",
    "    imLoc = imagelist.index(imageBunching[imGroup][0])\n",
    "    channels = extensionOrders[imLoc]\n",
    "    iqrPerGroup = []\n",
    "    for chan in range(1,len(channels)):\n",
    "        imDataList = []\n",
    "        for im in range(len(imageBunching[imGroup])):\n",
    "            imDataList.append(getImageData(imageBunching[imGroup][im],int(channels[chan])))\n",
    "        arrayStack = np.stack(imDataList)\n",
    "        std = np.std(arrayStack,axis=0)\n",
    "        interQRange = iqr(std)\n",
    "        iqrPerGroup.append(interQRange)\n",
    "    iqrFull.append(iqrPerGroup)\n",
    "#     for im in range(len(imageBunching[imGroup])):\n",
    "#         imLoc = \n",
    "#         for chan in range(len(extensionOrders[imLoc])):\n",
    "            "
   ]
  },
  {
   "cell_type": "code",
   "execution_count": 77,
   "metadata": {},
   "outputs": [
    {
     "data": {
      "text/plain": [
       "[[1.2141180038452148,\n",
       "  1.2303504943847656,\n",
       "  1.860669732093811,\n",
       "  1.2397860288619995,\n",
       "  0.93486249446868896,\n",
       "  1.0250508785247803,\n",
       "  1.136622428894043,\n",
       "  1.0248676538467407,\n",
       "  0.85441696643829346,\n",
       "  1.1170871257781982,\n",
       "  1.3309148550033569,\n",
       "  0.98126935958862305,\n",
       "  1.423997163772583,\n",
       "  1.605705738067627,\n",
       "  1.7588746547698975,\n",
       "  1.6927299499511719,\n",
       "  1.2190742492675781,\n",
       "  2.169905424118042,\n",
       "  1.3048837184906006,\n",
       "  1.3236408233642578,\n",
       "  1.2552967071533203,\n",
       "  1.3342082500457764,\n",
       "  1.179779052734375,\n",
       "  1.2161588668823242,\n",
       "  1.011652946472168,\n",
       "  1.06423020362854,\n",
       "  1.1874926090240479,\n",
       "  1.1730152368545532,\n",
       "  1.0875879526138306,\n",
       "  1.0920467376708984,\n",
       "  1.2203153371810913,\n",
       "  1.2048568725585938,\n",
       "  1.9134922027587891,\n",
       "  1.616774320602417,\n",
       "  1.9521286487579346,\n",
       "  2.1804609298706055,\n",
       "  1.5862388610839844,\n",
       "  1.5566596984863281,\n",
       "  1.5092339515686035,\n",
       "  2.0633835792541504,\n",
       "  1.4783000946044922,\n",
       "  1.2664475440979004,\n",
       "  1.5749607086181641,\n",
       "  1.4214355945587158,\n",
       "  1.0824029445648193,\n",
       "  1.2795250415802002,\n",
       "  1.0355963706970215,\n",
       "  1.0100324153900146,\n",
       "  8.8526096343994141,\n",
       "  9.8335304260253906,\n",
       "  10.323858261108398,\n",
       "  9.7237453460693359,\n",
       "  2.8920230865478516,\n",
       "  2.24216628074646,\n",
       "  2.63716721534729,\n",
       "  2.573826789855957,\n",
       "  2.3856937885284424,\n",
       "  2.0306308269500732,\n",
       "  2.2003109455108643,\n",
       "  2.2578294277191162,\n",
       "  1.3057992458343506,\n",
       "  1.5147042274475098,\n",
       "  1.8051052093505859,\n",
       "  1.4471166133880615,\n",
       "  1.4803199768066406,\n",
       "  2.0882527828216553,\n",
       "  1.7848517894744873,\n",
       "  1.6016931533813477,\n",
       "  1.5384271144866943,\n",
       "  2.0375347137451172,\n",
       "  2.3269981145858765,\n",
       "  1.4739015102386475,\n",
       "  3.5678501129150391,\n",
       "  4.6690621376037598,\n",
       "  8.685413122177124,\n",
       "  5.0173406600952148,\n",
       "  2.5692987442016602,\n",
       "  3.2785038948059082,\n",
       "  5.2336764335632324,\n",
       "  3.7211484909057617,\n",
       "  2.303231954574585,\n",
       "  2.4137880802154541,\n",
       "  3.1709973812103271,\n",
       "  3.1832442283630371],\n",
       " [9.4526199102401733,\n",
       "  7.6330423951148987,\n",
       "  6.7083032131195068,\n",
       "  8.8239478468894958,\n",
       "  6.3877079486846924,\n",
       "  5.6097044348716736,\n",
       "  5.5713698267936707,\n",
       "  7.1989337801933289,\n",
       "  6.0788266658782959,\n",
       "  5.2912107706069946,\n",
       "  4.7746860384941101,\n",
       "  5.38465416431427,\n",
       "  17.730303347110748,\n",
       "  16.645352184772491,\n",
       "  20.13726532459259,\n",
       "  20.198584496974945,\n",
       "  13.187105536460876,\n",
       "  10.185858547687531,\n",
       "  8.7610601186752319,\n",
       "  11.01245653629303,\n",
       "  9.901421844959259,\n",
       "  7.9238690733909607,\n",
       "  6.1291383504867554,\n",
       "  8.2543332576751709,\n",
       "  6.5036739110946655,\n",
       "  7.2303062081336975,\n",
       "  6.2983354330062866,\n",
       "  5.586433470249176,\n",
       "  7.4192818403244019,\n",
       "  9.0691860914230347,\n",
       "  7.9407837986946106,\n",
       "  7.1051046848297119,\n",
       "  25.538081407546997,\n",
       "  23.16886442899704,\n",
       "  27.218562126159668,\n",
       "  26.323780953884125,\n",
       "  16.655417144298553,\n",
       "  13.896529793739319,\n",
       "  17.360296130180359,\n",
       "  20.960287034511566,\n",
       "  16.771460354328156,\n",
       "  11.191457569599152,\n",
       "  13.368310689926147,\n",
       "  16.19595593214035,\n",
       "  11.257156133651733,\n",
       "  14.694404721260071,\n",
       "  10.564216196537018,\n",
       "  8.5362178087234497,\n",
       "  7.2850239872932434,\n",
       "  9.3696120381355286,\n",
       "  7.7997314929962158,\n",
       "  7.3101258277893066,\n",
       "  38.588481545448303,\n",
       "  27.734407484531403,\n",
       "  30.101109266281128,\n",
       "  33.137903809547424,\n",
       "  32.340304613113403,\n",
       "  22.704565048217773,\n",
       "  27.848106563091278,\n",
       "  34.519939720630646,\n",
       "  20.167243778705597,\n",
       "  22.570787608623505,\n",
       "  30.843450963497162,\n",
       "  24.672229528427124,\n",
       "  15.018598079681396,\n",
       "  17.734456062316895,\n",
       "  24.134442090988159,\n",
       "  20.513590216636658,\n",
       "  10.93679267168045,\n",
       "  15.797746062278748,\n",
       "  15.393216490745544,\n",
       "  11.170624554157257,\n",
       "  41.466526389122009,\n",
       "  48.429210066795349,\n",
       "  71.463449716567993,\n",
       "  48.387736678123474,\n",
       "  43.185138702392578,\n",
       "  53.129890441894531,\n",
       "  67.737947463989258,\n",
       "  58.77229118347168,\n",
       "  33.156908690929413,\n",
       "  37.374593734741211,\n",
       "  44.731112837791443,\n",
       "  37.182348012924194],\n",
       " [1.4225451946258545,\n",
       "  1.5475144386291504,\n",
       "  1.3281700611114502,\n",
       "  1.4048378467559814,\n",
       "  1.244943380355835,\n",
       "  1.4841933250427246,\n",
       "  1.2848951816558838,\n",
       "  1.2562730312347412,\n",
       "  1.405817985534668,\n",
       "  1.7541475296020508,\n",
       "  1.4285545349121094,\n",
       "  1.3729696273803711,\n",
       "  1.7944800853729248,\n",
       "  2.3602967262268066,\n",
       "  2.182131290435791,\n",
       "  1.6295616626739502,\n",
       "  1.545588493347168,\n",
       "  2.0976471900939941,\n",
       "  1.6154327392578125,\n",
       "  1.3949160575866699,\n",
       "  1.2971601486206055,\n",
       "  1.2436857223510742,\n",
       "  1.4349141120910645,\n",
       "  1.2069153785705566,\n",
       "  1.8143033981323242,\n",
       "  1.6101384162902832,\n",
       "  1.6436476707458496,\n",
       "  1.3004231452941895,\n",
       "  1.4423151016235352,\n",
       "  1.837860107421875,\n",
       "  1.7026515007019043,\n",
       "  1.4629058837890625,\n",
       "  21.4296875,\n",
       "  17.675764083862305,\n",
       "  24.372945785522461,\n",
       "  25.165731430053711,\n",
       "  1.5646476745605469,\n",
       "  1.8361477851867676,\n",
       "  1.7058525085449219,\n",
       "  1.8759369850158691,\n",
       "  1.7904272079467773,\n",
       "  1.3461017608642578,\n",
       "  1.5701537132263184,\n",
       "  1.4809079170227051,\n",
       "  1.3057222366333008,\n",
       "  1.5600237846374512,\n",
       "  1.4858160018920898,\n",
       "  1.5983667373657227,\n",
       "  1.4986000061035156,\n",
       "  1.7242164611816406,\n",
       "  1.7111697196960449,\n",
       "  1.6269617080688477,\n",
       "  2.5874128341674805,\n",
       "  2.1784682273864746,\n",
       "  2.631056547164917,\n",
       "  2.6966450214385986,\n",
       "  2.1976165771484375,\n",
       "  2.3810381889343262,\n",
       "  2.8519744873046875,\n",
       "  2.8248529434204102,\n",
       "  1.908592700958252,\n",
       "  2.3258485794067383,\n",
       "  2.645172119140625,\n",
       "  2.1404943466186523,\n",
       "  1.7018284797668457,\n",
       "  2.1642346382141113,\n",
       "  1.9072833061218262,\n",
       "  2.2365808486938477,\n",
       "  1.8151674270629883,\n",
       "  2.7563605308532715,\n",
       "  2.8708062171936035,\n",
       "  2.0983443260192871,\n",
       "  2.8319787979125977,\n",
       "  3.5357785224914551,\n",
       "  6.1748132705688477,\n",
       "  3.5756049156188965,\n",
       "  2.5226359367370605,\n",
       "  3.1944308280944824,\n",
       "  5.2272114753723145,\n",
       "  3.2918701171875,\n",
       "  2.883547306060791,\n",
       "  2.8744397163391113,\n",
       "  3.8201432228088379,\n",
       "  3.7858824729919434],\n",
       " [1.3172236680984497,\n",
       "  1.3767850399017334,\n",
       "  1.3557281494140625,\n",
       "  1.3710867166519165,\n",
       "  0.25554028153419495,\n",
       "  0.29920423030853271,\n",
       "  0.51138633489608765,\n",
       "  0.35907265543937683,\n",
       "  1.4293277263641357,\n",
       "  1.7890598773956299,\n",
       "  1.5618665218353271,\n",
       "  1.1814754009246826,\n",
       "  1.6812623739242554,\n",
       "  1.8389524221420288,\n",
       "  2.1354122161865234,\n",
       "  1.7367886304855347,\n",
       "  1.4683836698532104,\n",
       "  1.5223202705383301,\n",
       "  1.7364974021911621,\n",
       "  1.5306357145309448,\n",
       "  1.2122151851654053,\n",
       "  1.327373743057251,\n",
       "  1.2253575325012207,\n",
       "  1.2979283332824707,\n",
       "  1.3972790241241455,\n",
       "  1.7202029228210449,\n",
       "  1.693789005279541,\n",
       "  1.3131389617919922,\n",
       "  1.2545876502990723,\n",
       "  1.8400058746337891,\n",
       "  1.471604585647583,\n",
       "  1.4947404861450195,\n",
       "  2.2216546535491943,\n",
       "  2.1756845712661743,\n",
       "  2.4929792881011963,\n",
       "  2.4705891609191895,\n",
       "  1.5843701362609863,\n",
       "  1.6449382305145264,\n",
       "  1.6782941818237305,\n",
       "  2.0895566940307617,\n",
       "  1.039924144744873,\n",
       "  1.1527180671691895,\n",
       "  1.1785836219787598,\n",
       "  1.4173533916473389,\n",
       "  1.3028621673583984,\n",
       "  1.4892656803131104,\n",
       "  1.5891523361206055,\n",
       "  1.3183183670043945,\n",
       "  1.4579639434814453,\n",
       "  1.943211555480957,\n",
       "  1.8574016094207764,\n",
       "  1.692357063293457,\n",
       "  3.8368320465087891,\n",
       "  2.7824689149856567,\n",
       "  3.1284182071685791,\n",
       "  3.2494527101516724,\n",
       "  2.9150316715240479,\n",
       "  2.5930190086364746,\n",
       "  2.4043667316436768,\n",
       "  3.2378017902374268,\n",
       "  1.6517801284790039,\n",
       "  1.8817892074584961,\n",
       "  2.3970913887023926,\n",
       "  2.4292821884155273,\n",
       "  2.0855979919433594,\n",
       "  2.063392162322998,\n",
       "  2.7466027736663818,\n",
       "  2.3256111145019531,\n",
       "  2.0289831161499023,\n",
       "  3.1139206886291504,\n",
       "  2.7372169494628906,\n",
       "  2.115882396697998,\n",
       "  4.3818051815032959,\n",
       "  5.6895418167114258,\n",
       "  11.581443309783936,\n",
       "  6.8037505149841309,\n",
       "  3.7883231639862061,\n",
       "  4.2235441207885742,\n",
       "  6.5334596633911133,\n",
       "  5.6454312801361084,\n",
       "  3.6165561676025391,\n",
       "  3.5422401428222656,\n",
       "  5.328059196472168,\n",
       "  4.5446887016296387]]"
      ]
     },
     "execution_count": 77,
     "metadata": {},
     "output_type": "execute_result"
    }
   ],
   "source": [
    "iqrFull"
   ]
  },
  {
   "cell_type": "code",
   "execution_count": 68,
   "metadata": {},
   "outputs": [],
   "source": [
    "std = np.std(arrayStack,axis=0)"
   ]
  },
  {
   "cell_type": "code",
   "execution_count": 72,
   "metadata": {},
   "outputs": [],
   "source": [
    "interQRange = iqr(std)"
   ]
  },
  {
   "cell_type": "code",
   "execution_count": 73,
   "metadata": {},
   "outputs": [
    {
     "data": {
      "text/plain": [
       "1.2141180038452148"
      ]
     },
     "execution_count": 73,
     "metadata": {},
     "output_type": "execute_result"
    }
   ],
   "source": [
    "interQRange"
   ]
  },
  {
   "cell_type": "code",
   "execution_count": 59,
   "metadata": {},
   "outputs": [
    {
     "name": "stdout",
     "output_type": "stream",
     "text": [
      "[[ 0.  0.]\n",
      " [ 0.  0.]]\n",
      "[[ 0.  0.]\n",
      " [ 0.  0.]]\n"
     ]
    }
   ],
   "source": [
    "a = np.zeros((2,2))\n",
    "print(a)\n",
    "b = np.zeros((2,2))\n",
    "print(b)\n",
    "c = np.dstack((a,b,a,b,a))"
   ]
  },
  {
   "cell_type": "code",
   "execution_count": 61,
   "metadata": {},
   "outputs": [
    {
     "data": {
      "text/plain": [
       "(2, 2, 6)"
      ]
     },
     "execution_count": 61,
     "metadata": {},
     "output_type": "execute_result"
    }
   ],
   "source": [
    "listofArrays = [a,a,a,a,a,a]\n",
    "c= np.dstack(listofArrays)\n",
    "c.shape"
   ]
  },
  {
   "cell_type": "code",
   "execution_count": 63,
   "metadata": {},
   "outputs": [],
   "source": [
    "c = np.stack(listofArrays)"
   ]
  },
  {
   "cell_type": "code",
   "execution_count": 67,
   "metadata": {},
   "outputs": [
    {
     "data": {
      "text/plain": [
       "(6, 2, 2)"
      ]
     },
     "execution_count": 67,
     "metadata": {},
     "output_type": "execute_result"
    }
   ],
   "source": [
    "c.shape"
   ]
  },
  {
   "cell_type": "code",
   "execution_count": 60,
   "metadata": {},
   "outputs": [
    {
     "ename": "ValueError",
     "evalue": "all the input arrays must have same number of dimensions",
     "output_type": "error",
     "traceback": [
      "\u001b[0;31m---------------------------------------------------------------------------\u001b[0m",
      "\u001b[0;31mValueError\u001b[0m                                Traceback (most recent call last)",
      "\u001b[0;32m<ipython-input-60-5dacf1f4b8bd>\u001b[0m in \u001b[0;36m<module>\u001b[0;34m()\u001b[0m\n\u001b[0;32m----> 1\u001b[0;31m \u001b[0md\u001b[0m \u001b[0;34m=\u001b[0m \u001b[0mnp\u001b[0m\u001b[0;34m.\u001b[0m\u001b[0mappend\u001b[0m\u001b[0;34m(\u001b[0m\u001b[0mc\u001b[0m\u001b[0;34m,\u001b[0m\u001b[0mb\u001b[0m\u001b[0;34m,\u001b[0m\u001b[0maxis\u001b[0m\u001b[0;34m=\u001b[0m\u001b[0;36m2\u001b[0m\u001b[0;34m)\u001b[0m\u001b[0;34m\u001b[0m\u001b[0m\n\u001b[0m",
      "\u001b[0;32m/home/mj1e16/miniconda2/lib/python2.7/site-packages/numpy/lib/function_base.pyc\u001b[0m in \u001b[0;36mappend\u001b[0;34m(arr, values, axis)\u001b[0m\n\u001b[1;32m   5145\u001b[0m         \u001b[0mvalues\u001b[0m \u001b[0;34m=\u001b[0m \u001b[0mravel\u001b[0m\u001b[0;34m(\u001b[0m\u001b[0mvalues\u001b[0m\u001b[0;34m)\u001b[0m\u001b[0;34m\u001b[0m\u001b[0m\n\u001b[1;32m   5146\u001b[0m         \u001b[0maxis\u001b[0m \u001b[0;34m=\u001b[0m \u001b[0marr\u001b[0m\u001b[0;34m.\u001b[0m\u001b[0mndim\u001b[0m\u001b[0;34m-\u001b[0m\u001b[0;36m1\u001b[0m\u001b[0;34m\u001b[0m\u001b[0m\n\u001b[0;32m-> 5147\u001b[0;31m     \u001b[0;32mreturn\u001b[0m \u001b[0mconcatenate\u001b[0m\u001b[0;34m(\u001b[0m\u001b[0;34m(\u001b[0m\u001b[0marr\u001b[0m\u001b[0;34m,\u001b[0m \u001b[0mvalues\u001b[0m\u001b[0;34m)\u001b[0m\u001b[0;34m,\u001b[0m \u001b[0maxis\u001b[0m\u001b[0;34m=\u001b[0m\u001b[0maxis\u001b[0m\u001b[0;34m)\u001b[0m\u001b[0;34m\u001b[0m\u001b[0m\n\u001b[0m",
      "\u001b[0;31mValueError\u001b[0m: all the input arrays must have same number of dimensions"
     ]
    }
   ],
   "source": [
    "d = np.append(c,b,axis=2)"
   ]
  },
  {
   "cell_type": "code",
   "execution_count": 52,
   "metadata": {},
   "outputs": [
    {
     "name": "stdout",
     "output_type": "stream",
     "text": [
      "[[[ 0.  0.  0.]\n",
      "  [ 0.  0.  0.]]\n",
      "\n",
      " [[ 0.  0.  0.]\n",
      "  [ 0.  0.  0.]]]\n"
     ]
    }
   ],
   "source": [
    "d = np.dstack((c,a))\n",
    "print(d)"
   ]
  },
  {
   "cell_type": "code",
   "execution_count": null,
   "metadata": {},
   "outputs": [],
   "source": []
  }
 ],
 "metadata": {
  "kernelspec": {
   "display_name": "Python 3",
   "language": "python",
   "name": "python3"
  },
  "language_info": {
   "codemirror_mode": {
    "name": "ipython",
    "version": 2
   },
   "file_extension": ".py",
   "mimetype": "text/x-python",
   "name": "python",
   "nbconvert_exporter": "python",
   "pygments_lexer": "ipython2",
   "version": "2.7.12"
  }
 },
 "nbformat": 4,
 "nbformat_minor": 2
}
