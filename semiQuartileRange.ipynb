{
 "cells": [
  {
   "cell_type": "code",
   "execution_count": 20,
   "metadata": {},
   "outputs": [],
   "source": [
    "#import astroprov\n",
    "\n",
    "from astropy.io import fits\n",
    "from astropy.visualization import SqrtStretch\n",
    "from astropy.visualization.mpl_normalize import ImageNormalize\n",
    "from astropy.table import Table\n",
    "from astropy.table import Column\n",
    "from astropy.io import fits\n",
    "from astropy.io.ascii import SExtractor\n",
    "from astropy.io import ascii\n",
    "from astropy.coordinates import SkyCoord\n",
    "import astropy.units as u\n",
    "from astropy import wcs\n",
    "\n",
    "from astroquery.simbad import Simbad\n",
    "\n",
    "import numpy as np\n",
    "import matplotlib.pyplot as plt\n",
    "from matplotlib.colors import LogNorm\n",
    "# from photutils import DAOStarFinder\n",
    "# from photutils import CircularAperture\n",
    "import os\n",
    "import subprocess\n",
    "\n",
    "import image_registration\n",
    "from image_registration import chi2_shift\n",
    "from image_registration.fft_tools import shift\n",
    "import pandas\n",
    "import collections\n",
    "\n",
    "#from reproject import reproject_interp\n",
    "from astropy.utils.data import get_pkg_data_filename\n",
    "from astropy.wcs import WCS\n",
    "\n",
    "from scipy.stats import iqr"
   ]
  },
  {
   "cell_type": "code",
   "execution_count": 87,
   "metadata": {},
   "outputs": [
    {
     "name": "stdout",
     "output_type": "stream",
     "text": [
      "4453\n",
      "4452\n"
     ]
    }
   ],
   "source": [
    "imageDirectory = '/media/mj1e16/PP AV-TV/keplerCal/'\n",
    "#medianDir = '/data/mj1e16/kepler/newDiff/'\n",
    "\n",
    "dirlist = os.listdir(imageDirectory)\n",
    "dirlist = [x for x in dirlist if x[0] != '.']\n",
    "imagelist = [imageDirectory+x for x in dirlist]\n",
    "\n",
    "difDir = '/media/mj1e16/PP AV-TV/properDiff/'\n",
    "diffdirlist = os.listdir(difDir)\n",
    "diffdirlist = [x for x in diffdirlist if x[0] != '.']\n",
    "print(len(diffdirlist))\n",
    "diffdirlist = [x for x in diffdirlist if 'fits' in x]\n",
    "print(len(diffdirlist))\n",
    "diffimagelist = [difDir+x for x in diffdirlist]"
   ]
  },
  {
   "cell_type": "code",
   "execution_count": 113,
   "metadata": {},
   "outputs": [
    {
     "name": "stdout",
     "output_type": "stream",
     "text": [
      "['channel2ccd54']\n"
     ]
    }
   ],
   "source": [
    "testIm = ['/media/mj1e16/PP AV-TV/properDiff/diff_imNo0_channel2_ccd54.fits']\n",
    "chanAndCcd = [im[im.index('channel'):im[im.index('channel'):].index('_')+im.index('channel')] + im[im.index('ccd'):im[im.index('ccd'):].index('.fits')+im.index('ccd')] for im in testIm]\n",
    "print(chanAndCcd)"
   ]
  },
  {
   "cell_type": "code",
   "execution_count": 111,
   "metadata": {},
   "outputs": [
    {
     "name": "stdout",
     "output_type": "stream",
     "text": [
      "channel2\n",
      "['channel2']\n"
     ]
    }
   ],
   "source": [
    "testIm = ['/media/mj1e16/PP AV-TV/properDiff/diff_imNo0_channel2_ccd54.fits']\n",
    "print(testIm[0][testIm[0].index('channel'):(im[im.index('channel'):].index('_'))+im.index('channel')])\n",
    "chanAndCcd = [im[(im.index('channel')):(im[im.index('channel'):].index('_'))+im.index('channel')] for im in testIm]\n",
    "print(chanAndCcd)"
   ]
  },
  {
   "cell_type": "code",
   "execution_count": 88,
   "metadata": {},
   "outputs": [
    {
     "name": "stdout",
     "output_type": "stream",
     "text": [
      "/media/mj1e16/PP AV-TV/properDiff/diff_imNo0_channel2_ccd54.fits\n"
     ]
    }
   ],
   "source": [
    "print(diffimagelist[0])"
   ]
  },
  {
   "cell_type": "code",
   "execution_count": 91,
   "metadata": {},
   "outputs": [],
   "source": [
    "difGrouping = {}\n",
    "\n",
    "for im in range(len(diffimagelist)):\n",
    "    loc1 = diffimagelist[im].index('imNo') \n",
    "    loc2 = diffimagelist[im][loc1:].index('_') + loc1\n",
    "    imNo = diffimagelist[im][loc1:loc2]\n",
    "    \n",
    "    loc3 = diffimagelist[im].index('channel')\n",
    "    loc4 = diffimagelist[im][loc3:].index('_') + loc3\n",
    "    channel = diffimagelist[im][loc3:loc4]\n",
    "    \n",
    "    loc5 = diffimagelist[im].index('ccd')\n",
    "    loc6 = diffimagelist[im][loc5:].index('.') + loc5\n",
    "    ccd = diffimagelist[im][loc5:loc6]\n",
    "    \n",
    "    if channel+ccd in difGrouping:\n",
    "        difGrouping[channel+ccd].append(diffimagelist[im])\n",
    "    else:\n",
    "        difGrouping[channel+ccd] = [diffimagelist[im]]\n",
    "    \n",
    "    "
   ]
  },
  {
   "cell_type": "code",
   "execution_count": 96,
   "metadata": {},
   "outputs": [
    {
     "data": {
      "text/plain": [
       "342"
      ]
     },
     "execution_count": 96,
     "metadata": {},
     "output_type": "execute_result"
    }
   ],
   "source": [
    "(84*53)/13"
   ]
  },
  {
   "cell_type": "code",
   "execution_count": 94,
   "metadata": {},
   "outputs": [
    {
     "data": {
      "text/plain": [
       "336"
      ]
     },
     "execution_count": 94,
     "metadata": {},
     "output_type": "execute_result"
    }
   ],
   "source": [
    "len(difGrouping)"
   ]
  },
  {
   "cell_type": "code",
   "execution_count": 3,
   "metadata": {},
   "outputs": [],
   "source": [
    "def getSkyGroup(imagelist,image,channel):\n",
    "    hdu_list = fits.open(imagelist[image])\n",
    "    hdr = hdu_list[channel].header\n",
    "    location = hdr['SKYGROUP']\n",
    "    return location"
   ]
  },
  {
   "cell_type": "code",
   "execution_count": 4,
   "metadata": {},
   "outputs": [],
   "source": [
    "def getImageData(imageName,extension):\n",
    "    hdu = fits.open(imageName)\n",
    "    imageData = hdu[extension].data\n",
    "    return imageData"
   ]
  },
  {
   "cell_type": "code",
   "execution_count": 5,
   "metadata": {},
   "outputs": [],
   "source": [
    "def correctExtensionOrder(imageName):\n",
    "    hdu_list = fits.open(imageName)\n",
    "    extensionOrder = np.zeros(len(hdu_list))\n",
    "    for channel in range(1,len(hdu_list)):\n",
    "        hdr = hdu_list[channel].header\n",
    "        location = hdr['SKYGROUP'] # independant location\n",
    "        extensionOrder[location] = channel # ordered from 0-84 channel with extension in place of name\n",
    "    return extensionOrder"
   ]
  },
  {
   "cell_type": "code",
   "execution_count": 6,
   "metadata": {},
   "outputs": [],
   "source": [
    "extensionOrders = []\n",
    "for image in imagelist:\n",
    "    extensionOrders.append(correctExtensionOrder(image))"
   ]
  },
  {
   "cell_type": "code",
   "execution_count": 7,
   "metadata": {},
   "outputs": [
    {
     "data": {
      "text/plain": [
       "'/media/mj1e16/PP AV-TV/keplerCal/kplr2009114204835_ffi-cal.fits'"
      ]
     },
     "execution_count": 7,
     "metadata": {},
     "output_type": "execute_result"
    }
   ],
   "source": [
    "imagelist[1]"
   ]
  },
  {
   "cell_type": "code",
   "execution_count": 8,
   "metadata": {},
   "outputs": [],
   "source": [
    "imageBunching = [[],[],[],[]]\n",
    "extensions = []\n",
    "for image in range(len(imagelist)):\n",
    "    elist = extensionOrders[image].tolist()\n",
    "    if elist not in extensions:\n",
    "        extensions.append(elist)\n",
    "        imageBunching[len(extensions)-1].append(imagelist[image])\n",
    "    else:\n",
    "        loc = extensions.index(elist)\n",
    "        imageBunching[loc].append(imagelist[image])"
   ]
  },
  {
   "cell_type": "code",
   "execution_count": 9,
   "metadata": {},
   "outputs": [],
   "source": [
    "#imageBunching"
   ]
  },
  {
   "cell_type": "code",
   "execution_count": 10,
   "metadata": {},
   "outputs": [],
   "source": [
    "iqrFull = []\n",
    "for imGroup in range(len(imageBunching)):\n",
    "    imLoc = imagelist.index(imageBunching[imGroup][0])\n",
    "    channels = extensionOrders[imLoc]\n",
    "    iqrPerGroup = []\n",
    "    for chan in range(1,len(channels)):\n",
    "        imDataList = []\n",
    "        for im in range(len(imageBunching[imGroup])):\n",
    "            imDataList.append(getImageData(imageBunching[imGroup][im],int(channels[chan])))\n",
    "        arrayStack = np.stack(imDataList)\n",
    "        std = np.std(arrayStack,axis=0)\n",
    "        interQRange = iqr(std)\n",
    "        iqrPerGroup.append(interQRange)\n",
    "    iqrFull.append(iqrPerGroup)\n",
    "#     for im in range(len(imageBunching[imGroup])):\n",
    "#         imLoc = \n",
    "#         for chan in range(len(extensionOrders[imLoc])):\n",
    "            "
   ]
  },
  {
   "cell_type": "code",
   "execution_count": 97,
   "metadata": {},
   "outputs": [],
   "source": [
    "iqrGroupedbyChannel = {}\n",
    "for key,value in difGrouping.items():\n",
    "    imDataList = []\n",
    "    for im in range(len(value)):\n",
    "        imDataList.append(getImageData(value[im],0))\n",
    "    arrayStack = np.stack(imDataList)\n",
    "    std = np.std(arrayStack,axis=0)\n",
    "    interQRange = iqr(std)\n",
    "    iqrGroupedbyChannel[key] = interQRange"
   ]
  },
  {
   "cell_type": "code",
   "execution_count": 38,
   "metadata": {},
   "outputs": [],
   "source": [
    "imNametoGroup = {}\n",
    "for groupNum in range(len(imageBunching)):\n",
    "    for im in imageBunching[groupNum]:\n",
    "        imNametoGroup[im] = groupNum\n",
    "#imageBunching"
   ]
  },
  {
   "cell_type": "code",
   "execution_count": 12,
   "metadata": {},
   "outputs": [],
   "source": [
    "std = np.std(arrayStack,axis=0)"
   ]
  },
  {
   "cell_type": "code",
   "execution_count": 13,
   "metadata": {},
   "outputs": [],
   "source": [
    "interQRange = iqr(std)"
   ]
  },
  {
   "cell_type": "code",
   "execution_count": 78,
   "metadata": {},
   "outputs": [
    {
     "data": {
      "text/plain": [
       "84"
      ]
     },
     "execution_count": 78,
     "metadata": {},
     "output_type": "execute_result"
    }
   ],
   "source": [
    "len(iqrFull[0])"
   ]
  },
  {
   "cell_type": "code",
   "execution_count": 69,
   "metadata": {},
   "outputs": [],
   "source": [
    "# gain = 110\n",
    "\n",
    "# for group in range(len(iqrFull)):\n",
    "#     iqrFull[group] = [x/gain for x in iqrFull[group]]"
   ]
  },
  {
   "cell_type": "code",
   "execution_count": 21,
   "metadata": {},
   "outputs": [],
   "source": [
    "firstTab = ascii.read('/home/mj1e16/outTablesImproved/final/firsthalf.csv',format='csv')\n",
    "#secondTab = ascii.read('/home/mj1e16/outTablesImproved/final/',format='csv')"
   ]
  },
  {
   "cell_type": "code",
   "execution_count": 46,
   "metadata": {},
   "outputs": [],
   "source": [
    "imageNames = firstTab['IMAGE_NAME'].tolist()"
   ]
  },
  {
   "cell_type": "code",
   "execution_count": 60,
   "metadata": {},
   "outputs": [
    {
     "name": "stdout",
     "output_type": "stream",
     "text": [
      "None\n",
      "<type 'NoneType'>\n",
      "810804\n"
     ]
    }
   ],
   "source": [
    "for x in range(len(imageNames)):\n",
    "    if type(imageNames[x]) != str:\n",
    "        print(imageNames[x])\n",
    "        print(type(imageNames[x]))\n",
    "        print(x)\n",
    "firstTab.remove_row(x)"
   ]
  },
  {
   "cell_type": "code",
   "execution_count": null,
   "metadata": {},
   "outputs": [],
   "source": [
    "    loc3 = diffimagelist[im].index('channel')\n",
    "    loc4 = diffimagelist[im][loc3:].index('_') + loc3\n",
    "    channel = diffimagelist[im][loc3:loc4]\n",
    "    \n",
    "    loc5 = diffimagelist[im].index('ccd')\n",
    "    loc6 = diffimagelist[im][loc5:].index('.') + loc5\n",
    "    ccd = diffimagelist[im][loc5:loc6]"
   ]
  },
  {
   "cell_type": "code",
   "execution_count": 115,
   "metadata": {},
   "outputs": [],
   "source": [
    "imageNames = firstTab['DIFF_NAME'].tolist()\n",
    "chanAndCcd = [im[im.index('channel'):im[im.index('channel'):].index('_')+im.index('channel')] + im[im.index('ccd'):im[im.index('ccd'):].index('.fits')+im.index('ccd')] for im in imageNames]\n",
    "# imNameOnly = [x[:x.index('[')] for x in imageNames]\n",
    "# ccdOnly = [int(x[x.index('[')+1:x.index(']')]) for x in imageNames]\n",
    "fluxBest = firstTab['FLUX_BEST'].tolist()\n",
    "Noise = [iqrGroupedbyChannel[im] for im in chanAndCcd]\n",
    "SNR = [f/N for f,N in zip(fluxBest,Noise)]\n"
   ]
  },
  {
   "cell_type": "code",
   "execution_count": 126,
   "metadata": {},
   "outputs": [],
   "source": [
    "firstTab =  ascii.read('/home/mj1e16/outTablesImproved/final/firsthalf.csv',format='csv')\n",
    "SNRbelow10 = [i for i,j in enumerate(SNR)  if j <10]\n",
    "firstTab.remove_rows(SNRbelow10)\n",
    "firstTab.write('/home/mj1e16/outTablesImproved/newSNR/10snrfirst.csv',format='csv')\n",
    "\n",
    "firstTab =  ascii.read('/home/mj1e16/outTablesImproved/final/firsthalf.csv',format='csv')\n",
    "SNRbelow100 = [i for i,j in enumerate(SNR)  if j <100]\n",
    "firstTab.remove_rows(SNRbelow100)\n",
    "firstTab.write('/home/mj1e16/outTablesImproved/newSNR/100snrfirst.csv',format='csv')\n",
    "\n",
    "firstTab =  ascii.read('/home/mj1e16/outTablesImproved/final/firsthalf.csv',format='csv')\n",
    "SNRbelow1000 = [i for i,j in enumerate(SNR)  if j <1000]\n",
    "firstTab.remove_rows(SNRbelow1000)\n",
    "firstTab.write('/home/mj1e16/outTablesImproved/newSNR/1000snrfirst.csv',format='csv')\n",
    "\n",
    "firstTab =  ascii.read('/home/mj1e16/outTablesImproved/final/firsthalf.csv',format='csv')\n",
    "SNRbelow10000= [i for i,j in enumerate(SNR)  if j <10000]\n",
    "firstTab.remove_rows(SNRbelow10000)\n",
    "firstTab.write('/home/mj1e16/outTablesImproved/newSNR/10000snrfirst.csv',format='csv')\n",
    "\n"
   ]
  },
  {
   "cell_type": "code",
   "execution_count": 127,
   "metadata": {},
   "outputs": [
    {
     "data": {
      "text/plain": [
       "1563"
      ]
     },
     "execution_count": 127,
     "metadata": {},
     "output_type": "execute_result"
    }
   ],
   "source": [
    "len(firstTab)"
   ]
  },
  {
   "cell_type": "code",
   "execution_count": 59,
   "metadata": {},
   "outputs": [
    {
     "data": {
      "text/html": [
       "&lt;Row index=810804 masked=True&gt;\n",
       "<table id=\"table139821638455888\">\n",
       "<thead><tr><th>NUMBER</th><th>FLUX_BEST</th><th>FLUXERR_BEST</th><th>MAG_BEST</th><th>MAGERR_BEST</th><th>X_IMAGE</th><th>Y_IMAGE</th><th>ELLIPTICITY</th><th>RA</th><th>DEC</th><th>IMAGE_NAME</th><th>MEDIAN_NAME</th><th>DIFF_NAME</th></tr></thead>\n",
       "<thead><tr><th>int64</th><th>float64</th><th>float64</th><th>float64</th><th>float64</th><th>float64</th><th>float64</th><th>float64</th><th>float64</th><th>float64</th><th>str34</th><th>str18</th><th>str32</th></tr></thead>\n",
       "<tr><td>159</td><td>554.2703</td><td>15.83873</td><td>18.1407</td><td>0.031</td><td>1095.3187</td><td>729.3903</td><td>--</td><td>--</td><td>--</td><td>--</td><td>--</td><td>--</td></tr>\n",
       "</table>"
      ],
      "text/plain": [
       "<Row index=810804 masked=True>\n",
       "NUMBER FLUX_BEST FLUXERR_BEST MAG_BEST MAGERR_BEST  X_IMAGE  Y_IMAGE  ELLIPTICITY    RA     DEC   IMAGE_NAME MEDIAN_NAME DIFF_NAME\n",
       "int64   float64    float64    float64    float64    float64  float64    float64   float64 float64   str34       str18      str32  \n",
       "------ --------- ------------ -------- ----------- --------- -------- ----------- ------- ------- ---------- ----------- ---------\n",
       "   159  554.2703     15.83873  18.1407       0.031 1095.3187 729.3903          --      --      --         --          --        --"
      ]
     },
     "execution_count": 59,
     "metadata": {},
     "output_type": "execute_result"
    }
   ],
   "source": [
    "firstTab[810804"
   ]
  },
  {
   "cell_type": "code",
   "execution_count": 56,
   "metadata": {},
   "outputs": [
    {
     "name": "stdout",
     "output_type": "stream",
     "text": [
      "is string\n"
     ]
    }
   ],
   "source": [
    "if type(imageNames[0]) == str:\n",
    "    print('is string')"
   ]
  },
  {
   "cell_type": "code",
   "execution_count": 47,
   "metadata": {},
   "outputs": [
    {
     "ename": "AttributeError",
     "evalue": "'NoneType' object has no attribute 'index'",
     "output_type": "error",
     "traceback": [
      "\u001b[0;31m---------------------------------------------------------------------------\u001b[0m",
      "\u001b[0;31mAttributeError\u001b[0m                            Traceback (most recent call last)",
      "\u001b[0;32m<ipython-input-47-370a2a9cb0d2>\u001b[0m in \u001b[0;36m<module>\u001b[0;34m()\u001b[0m\n\u001b[1;32m      1\u001b[0m \u001b[0;34m\u001b[0m\u001b[0m\n\u001b[1;32m      2\u001b[0m \u001b[0;34m\u001b[0m\u001b[0m\n\u001b[0;32m----> 3\u001b[0;31m \u001b[0mccdOnly\u001b[0m \u001b[0;34m=\u001b[0m \u001b[0;34m[\u001b[0m\u001b[0mx\u001b[0m\u001b[0;34m[\u001b[0m\u001b[0mx\u001b[0m\u001b[0;34m.\u001b[0m\u001b[0mindex\u001b[0m\u001b[0;34m(\u001b[0m\u001b[0;34m'['\u001b[0m\u001b[0;34m)\u001b[0m\u001b[0;34m+\u001b[0m\u001b[0;36m1\u001b[0m\u001b[0;34m:\u001b[0m\u001b[0mx\u001b[0m\u001b[0;34m.\u001b[0m\u001b[0mindex\u001b[0m\u001b[0;34m(\u001b[0m\u001b[0;34m']'\u001b[0m\u001b[0;34m)\u001b[0m\u001b[0;34m]\u001b[0m \u001b[0;32mfor\u001b[0m \u001b[0mx\u001b[0m \u001b[0;32min\u001b[0m \u001b[0mimageNames\u001b[0m\u001b[0;34m]\u001b[0m\u001b[0;34m\u001b[0m\u001b[0m\n\u001b[0m\u001b[1;32m      4\u001b[0m \u001b[0;32mfor\u001b[0m \u001b[0mx\u001b[0m \u001b[0;32min\u001b[0m \u001b[0mrange\u001b[0m\u001b[0;34m(\u001b[0m\u001b[0mlen\u001b[0m\u001b[0;34m(\u001b[0m\u001b[0mccdOnly\u001b[0m\u001b[0;34m)\u001b[0m\u001b[0;34m)\u001b[0m\u001b[0;34m:\u001b[0m\u001b[0;34m\u001b[0m\u001b[0m\n\u001b[1;32m      5\u001b[0m     \u001b[0;32mprint\u001b[0m\u001b[0;34m(\u001b[0m\u001b[0mccdOnly\u001b[0m\u001b[0;34m[\u001b[0m\u001b[0mx\u001b[0m\u001b[0;34m]\u001b[0m\u001b[0;34m)\u001b[0m\u001b[0;34m\u001b[0m\u001b[0m\n",
      "\u001b[0;31mAttributeError\u001b[0m: 'NoneType' object has no attribute 'index'"
     ]
    }
   ],
   "source": [
    "\n",
    "\n",
    "ccdOnly = [x[x.index('[')+1:x.index(']')] for x in imageNames]\n",
    "for x in range(len(ccdOnly)):\n",
    "    print(ccdOnly[x])\n",
    "    "
   ]
  },
  {
   "cell_type": "code",
   "execution_count": 44,
   "metadata": {},
   "outputs": [
    {
     "ename": "NameError",
     "evalue": "name 'y' is not defined",
     "output_type": "error",
     "traceback": [
      "\u001b[0;31m---------------------------------------------------------------------------\u001b[0m",
      "\u001b[0;31mNameError\u001b[0m                                 Traceback (most recent call last)",
      "\u001b[0;32m<ipython-input-44-d9183e048de3>\u001b[0m in \u001b[0;36m<module>\u001b[0;34m()\u001b[0m\n\u001b[0;32m----> 1\u001b[0;31m \u001b[0;32mprint\u001b[0m\u001b[0;34m(\u001b[0m\u001b[0my\u001b[0m\u001b[0;34m)\u001b[0m\u001b[0;34m\u001b[0m\u001b[0m\n\u001b[0m",
      "\u001b[0;31mNameError\u001b[0m: name 'y' is not defined"
     ]
    }
   ],
   "source": [
    "print(y)"
   ]
  },
  {
   "cell_type": "code",
   "execution_count": 66,
   "metadata": {},
   "outputs": [
    {
     "data": {
      "text/plain": [
       "2"
      ]
     },
     "execution_count": 66,
     "metadata": {},
     "output_type": "execute_result"
    }
   ],
   "source": [
    "imNametoGroup['/media/mj1e16/PP AV-TV/keplerCal/kplr2009351005245_ffi-cal.fits']"
   ]
  },
  {
   "cell_type": "code",
   "execution_count": 67,
   "metadata": {},
   "outputs": [],
   "source": [
    "imageNames = firstTab['IMAGE_NAME'].tolist()\n",
    "imNameOnly = [x[:x.index('[')] for x in imageNames]\n",
    "ccdOnly = [int(x[x.index('[')+1:x.index(']')]) for x in imageNames]\n",
    "fluxBest = firstTab['FLUX_BEST'].tolist()\n",
    "Noise = [iqrFull[imNametoGroup[imageDirectory+im]][ccd-1] for im,ccd in zip(imNameOnly,ccdOnly)]\n",
    "SNR = [f/N for f,N in zip(fluxBest,Noise)]"
   ]
  },
  {
   "cell_type": "code",
   "execution_count": 68,
   "metadata": {},
   "outputs": [
    {
     "data": {
      "text/plain": [
       "[16.131561356247975,\n",
       " 2.9781256520982637,\n",
       " 23.635534008842111,\n",
       " 1.0099208031082636,\n",
       " 3.7281403493269996,\n",
       " 2.1660513187313528,\n",
       " 3.0214883256992247,\n",
       " 2.2634958250762653,\n",
       " 3.4436998731048365,\n",
       " 3.3301065669340297]"
      ]
     },
     "execution_count": 68,
     "metadata": {},
     "output_type": "execute_result"
    }
   ],
   "source": [
    "SNR[0:10]"
   ]
  },
  {
   "cell_type": "code",
   "execution_count": 34,
   "metadata": {},
   "outputs": [
    {
     "data": {
      "text/plain": [
       "'kplr2012310200152_ffi-cal.fits'"
      ]
     },
     "execution_count": 34,
     "metadata": {},
     "output_type": "execute_result"
    }
   ],
   "source": [
    "imageNames[0][:imageNames[0].index('[')]"
   ]
  },
  {
   "cell_type": "code",
   "execution_count": 27,
   "metadata": {},
   "outputs": [
    {
     "data": {
      "text/html": [
       "&lt;Table masked=True length=10&gt;\n",
       "<table id=\"table139821640658064\" class=\"table-striped table-bordered table-condensed\">\n",
       "<thead><tr><th>NUMBER</th><th>FLUX_BEST</th><th>FLUXERR_BEST</th><th>MAG_BEST</th><th>MAGERR_BEST</th><th>X_IMAGE</th><th>Y_IMAGE</th><th>ELLIPTICITY</th><th>RA</th><th>DEC</th><th>IMAGE_NAME</th><th>MEDIAN_NAME</th><th>DIFF_NAME</th></tr></thead>\n",
       "<thead><tr><th>int64</th><th>float64</th><th>float64</th><th>float64</th><th>float64</th><th>float64</th><th>float64</th><th>float64</th><th>float64</th><th>float64</th><th>str34</th><th>str18</th><th>str32</th></tr></thead>\n",
       "<tr><td>1</td><td>4225.085</td><td>28.74944</td><td>15.9354</td><td>0.0074</td><td>958.0409</td><td>25.5088</td><td>0.697</td><td>288.882155336</td><td>41.6027532272</td><td>kplr2012310200152_ffi-cal.fits[58]</td><td>meidian_66_58.fits</td><td>diff_imNo23_channel66_ccd58.fits</td></tr>\n",
       "<tr><td>2</td><td>780.0134</td><td>16.32858</td><td>17.7697</td><td>0.0227</td><td>965.0</td><td>24.4539</td><td>0.874</td><td>288.872777757</td><td>41.5993971256</td><td>kplr2012310200152_ffi-cal.fits[58]</td><td>meidian_66_58.fits</td><td>diff_imNo23_channel66_ccd58.fits</td></tr>\n",
       "<tr><td>3</td><td>6190.482</td><td>79.87542</td><td>15.5207</td><td>0.014</td><td>958.0</td><td>43.9386</td><td>0.79</td><td>288.897504363</td><td>41.5859447684</td><td>kplr2012310200152_ffi-cal.fits[58]</td><td>meidian_66_58.fits</td><td>diff_imNo23_channel66_ccd58.fits</td></tr>\n",
       "<tr><td>4</td><td>264.5126</td><td>31.40866</td><td>18.9439</td><td>0.129</td><td>318.3539</td><td>29.9193</td><td>0.644</td><td>289.672185706</td><td>41.9930764063</td><td>kplr2012310200152_ffi-cal.fits[58]</td><td>meidian_66_58.fits</td><td>diff_imNo23_channel66_ccd58.fits</td></tr>\n",
       "<tr><td>5</td><td>976.4529</td><td>18.9721</td><td>17.5259</td><td>0.0211</td><td>1014.9861</td><td>20.2416</td><td>0.255</td><td>288.808245766</td><td>41.5721972161</td><td>kplr2012310200152_ffi-cal.fits[58]</td><td>meidian_66_58.fits</td><td>diff_imNo23_channel66_ccd58.fits</td></tr>\n",
       "<tr><td>6</td><td>567.3196</td><td>14.60473</td><td>18.1154</td><td>0.028</td><td>553.0087</td><td>19.6884</td><td>0.17</td><td>289.37413918</td><td>41.858419875</td><td>kplr2012310200152_ffi-cal.fits[58]</td><td>meidian_66_58.fits</td><td>diff_imNo23_channel66_ccd58.fits</td></tr>\n",
       "<tr><td>7</td><td>791.3707</td><td>18.9721</td><td>17.754</td><td>0.026</td><td>325.0489</td><td>26.2907</td><td>0.348</td><td>289.660914047</td><td>41.992311294</td><td>kplr2012310200152_ffi-cal.fits[58]</td><td>meidian_66_58.fits</td><td>diff_imNo23_channel66_ccd58.fits</td></tr>\n",
       "<tr><td>8</td><td>592.8417</td><td>17.51046</td><td>18.0677</td><td>0.0321</td><td>948.2596</td><td>29.3369</td><td>0.566</td><td>288.897284722</td><td>41.6053266953</td><td>kplr2012310200152_ffi-cal.fits[58]</td><td>meidian_66_58.fits</td><td>diff_imNo23_channel66_ccd58.fits</td></tr>\n",
       "<tr><td>9</td><td>901.9539</td><td>25.55828</td><td>17.612</td><td>0.0308</td><td>999.3637</td><td>36.2413</td><td>0.224</td><td>288.840604615</td><td>41.5672961624</td><td>kplr2012310200152_ffi-cal.fits[58]</td><td>meidian_66_58.fits</td><td>diff_imNo23_channel66_ccd58.fits</td></tr>\n",
       "<tr><td>10</td><td>872.2022</td><td>18.61745</td><td>17.6485</td><td>0.0232</td><td>714.0329</td><td>42.7192</td><td>0.174</td><td>289.195226573</td><td>41.7380599256</td><td>kplr2012310200152_ffi-cal.fits[58]</td><td>meidian_66_58.fits</td><td>diff_imNo23_channel66_ccd58.fits</td></tr>\n",
       "</table>"
      ],
      "text/plain": [
       "<Table masked=True length=10>\n",
       "NUMBER FLUX_BEST ...    MEDIAN_NAME                DIFF_NAME            \n",
       "int64   float64  ...       str18                     str32              \n",
       "------ --------- ... ------------------ --------------------------------\n",
       "     1  4225.085 ... meidian_66_58.fits diff_imNo23_channel66_ccd58.fits\n",
       "     2  780.0134 ... meidian_66_58.fits diff_imNo23_channel66_ccd58.fits\n",
       "     3  6190.482 ... meidian_66_58.fits diff_imNo23_channel66_ccd58.fits\n",
       "     4  264.5126 ... meidian_66_58.fits diff_imNo23_channel66_ccd58.fits\n",
       "     5  976.4529 ... meidian_66_58.fits diff_imNo23_channel66_ccd58.fits\n",
       "     6  567.3196 ... meidian_66_58.fits diff_imNo23_channel66_ccd58.fits\n",
       "     7  791.3707 ... meidian_66_58.fits diff_imNo23_channel66_ccd58.fits\n",
       "     8  592.8417 ... meidian_66_58.fits diff_imNo23_channel66_ccd58.fits\n",
       "     9  901.9539 ... meidian_66_58.fits diff_imNo23_channel66_ccd58.fits\n",
       "    10  872.2022 ... meidian_66_58.fits diff_imNo23_channel66_ccd58.fits"
      ]
     },
     "execution_count": 27,
     "metadata": {},
     "output_type": "execute_result"
    }
   ],
   "source": [
    "firstTab[0:10]"
   ]
  },
  {
   "cell_type": "code",
   "execution_count": null,
   "metadata": {},
   "outputs": [],
   "source": []
  }
 ],
 "metadata": {
  "kernelspec": {
   "display_name": "Python 3",
   "language": "python",
   "name": "python3"
  },
  "language_info": {
   "codemirror_mode": {
    "name": "ipython",
    "version": 2
   },
   "file_extension": ".py",
   "mimetype": "text/x-python",
   "name": "python",
   "nbconvert_exporter": "python",
   "pygments_lexer": "ipython2",
   "version": "2.7.12"
  }
 },
 "nbformat": 4,
 "nbformat_minor": 2
}
