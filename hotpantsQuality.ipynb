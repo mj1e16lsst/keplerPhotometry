{
 "cells": [
  {
   "cell_type": "code",
   "execution_count": 1,
   "metadata": {
    "collapsed": true
   },
   "outputs": [],
   "source": [
    "from astropy.io import fits\n",
    "import numpy as np"
   ]
  },
  {
   "cell_type": "code",
   "execution_count": 8,
   "metadata": {
    "collapsed": true
   },
   "outputs": [],
   "source": [
    "def hotpantsQuality(image):\n",
    "    hdu = fits.open(image)\n",
    "    imData = hdu[0].data\n",
    "    imData = abs(imData)\n",
    "    print(imData.shape)\n",
    "    totVal = sum(imData)\n",
    "    totVal = sum(totVal)\n",
    "    return totVal"
   ]
  },
  {
   "cell_type": "code",
   "execution_count": 13,
   "metadata": {},
   "outputs": [
    {
     "name": "stdout",
     "output_type": "stream",
     "text": [
      "(1070, 1132)\n",
      "(1070, 1132)\n",
      "(1070, 1132)\n",
      "[128.10734802244414, 1.0, 1.207334982887684]\n"
     ]
    }
   ],
   "source": [
    "totVals = []\n",
    "for x in range(3):\n",
    "    totVals.append(hotpantsQuality('/home/mj1e16/Simages/diff_44_{}.fits'.format(x)))\n",
    "norms = [y/totVals[1] for y in totVals]\n",
    "print(norms)"
   ]
  },
  {
   "cell_type": "code",
   "execution_count": 9,
   "metadata": {},
   "outputs": [
    {
     "name": "stdout",
     "output_type": "stream",
     "text": [
      "(1070, 1132)\n"
     ]
    },
    {
     "data": {
      "text/plain": [
       "4975009.9829966426"
      ]
     },
     "execution_count": 9,
     "metadata": {},
     "output_type": "execute_result"
    }
   ],
   "source": [
    "hotpantsQuality('/home/mj1e16/Simages/diff_44_1.fits')"
   ]
  },
  {
   "cell_type": "code",
   "execution_count": 10,
   "metadata": {},
   "outputs": [
    {
     "name": "stdout",
     "output_type": "stream",
     "text": [
      "(1070, 1132)\n"
     ]
    },
    {
     "data": {
      "text/plain": [
       "637335335.30688477"
      ]
     },
     "execution_count": 10,
     "metadata": {},
     "output_type": "execute_result"
    }
   ],
   "source": [
    "hotpantsQuality('/home/mj1e16/Simages/diff_44_0.fits')"
   ]
  },
  {
   "cell_type": "code",
   "execution_count": 11,
   "metadata": {},
   "outputs": [
    {
     "name": "stdout",
     "output_type": "stream",
     "text": [
      "(1070, 1132)\n"
     ]
    },
    {
     "data": {
      "text/plain": [
       "6006503.5926873088"
      ]
     },
     "execution_count": 11,
     "metadata": {},
     "output_type": "execute_result"
    }
   ],
   "source": [
    "hotpantsQuality('/home/mj1e16/Simages/diff_44_2.fits')"
   ]
  },
  {
   "cell_type": "code",
   "execution_count": null,
   "metadata": {
    "collapsed": true
   },
   "outputs": [],
   "source": []
  }
 ],
 "metadata": {
  "kernelspec": {
   "display_name": "Python 3",
   "language": "python",
   "name": "python3"
  },
  "language_info": {
   "codemirror_mode": {
    "name": "ipython",
    "version": 3
   },
   "file_extension": ".py",
   "mimetype": "text/x-python",
   "name": "python",
   "nbconvert_exporter": "python",
   "pygments_lexer": "ipython3",
   "version": "3.5.2"
  }
 },
 "nbformat": 4,
 "nbformat_minor": 2
}
