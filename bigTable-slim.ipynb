{
 "cells": [
  {
   "cell_type": "code",
   "execution_count": 2,
   "metadata": {
    "collapsed": false
   },
   "outputs": [
    {
     "name": "stdout",
     "output_type": "stream",
     "text": [
      "Created TAP+ (v1.0) - Connection:\n",
      "\tHost: gea.esac.esa.int\n",
      "\tUse HTTPS: False\n",
      "\tPort: 80\n",
      "\tSSL Port: 443\n"
     ]
    }
   ],
   "source": [
    "import astroprov\n",
    "from astropy.io.ascii import SExtractor\n",
    "from astropy.stats import sigma_clipped_stats\n",
    "from astropy.coordinates import SkyCoord\n",
    "import astropy.coordinates as coord\n",
    "\n",
    "import astropy.units as u\n",
    "import matplotlib.pyplot as plt\n",
    "import numpy as np\n",
    "import os\n",
    "from photutils import DAOStarFinder\n",
    "from photutils import CircularAperture\n",
    "from photutils import aperture_photometry\n",
    "#import subproc\n",
    "\n",
    "from astropy import wcs\n",
    "from astropy.io import fits\n",
    "import sys\n",
    "\n",
    "from astroquery.simbad import Simbad\n",
    "from astroquery.vizier import Vizier\n",
    "\n",
    "from astropy.visualization import SqrtStretch\n",
    "from astropy.visualization.mpl_normalize import ImageNormalize\n",
    "from astropy.table import Table, vstack\n",
    "from astropy.table import Column\n",
    "\n",
    "import collections\n",
    "import subprocess\n",
    "from astropy.io import ascii\n",
    "import time\n",
    "from astropy.utils.data import clear_download_cache\n",
    "from astroquery.gaia import Gaia\n",
    "import warnings\n",
    "warnings.filterwarnings('ignore')\n",
    "import pandas as pd\n",
    "from bs4 import BeautifulSoup"
   ]
  },
  {
   "cell_type": "code",
   "execution_count": 12,
   "metadata": {
    "collapsed": true
   },
   "outputs": [],
   "source": [
    "clear_download_cache()"
   ]
  },
  {
   "cell_type": "code",
   "execution_count": 3,
   "metadata": {
    "collapsed": false,
    "scrolled": true
   },
   "outputs": [
    {
     "name": "stdout",
     "output_type": "stream",
     "text": [
      "Retrieving tables...\n",
      "Parsing tables...\n",
      "Done.\n",
      "external.external.apassdr9\n",
      "external.external.gaiadr2_geometric_distance\n",
      "external.external.ravedr5_com\n",
      "external.external.ravedr5_dr5\n",
      "external.external.ravedr5_gra\n",
      "external.external.ravedr5_on\n",
      "external.external.sdssdr13_photoprimary\n",
      "external.external.skymapperdr1_master\n",
      "external.external.tmass_xsc\n",
      "public.public.hipparcos\n",
      "public.public.hipparcos_newreduction\n",
      "public.public.hubble_sc\n",
      "public.public.igsl_source\n",
      "public.public.igsl_source_catalog_ids\n",
      "public.public.tycho2\n",
      "public.public.dual\n",
      "tap_config.tap_config.coord_sys\n",
      "tap_schema.tap_schema.columns\n",
      "tap_schema.tap_schema.key_columns\n",
      "tap_schema.tap_schema.keys\n",
      "tap_schema.tap_schema.schemas\n",
      "tap_schema.tap_schema.tables\n",
      "gaiadr1.gaiadr1.aux_qso_icrf2_match\n",
      "gaiadr1.gaiadr1.ext_phot_zero_point\n",
      "gaiadr1.gaiadr1.allwise_best_neighbour\n",
      "gaiadr1.gaiadr1.allwise_neighbourhood\n",
      "gaiadr1.gaiadr1.gsc23_best_neighbour\n",
      "gaiadr1.gaiadr1.gsc23_neighbourhood\n",
      "gaiadr1.gaiadr1.ppmxl_best_neighbour\n",
      "gaiadr1.gaiadr1.ppmxl_neighbourhood\n",
      "gaiadr1.gaiadr1.sdss_dr9_best_neighbour\n",
      "gaiadr1.gaiadr1.sdss_dr9_neighbourhood\n",
      "gaiadr1.gaiadr1.tmass_best_neighbour\n",
      "gaiadr1.gaiadr1.tmass_neighbourhood\n",
      "gaiadr1.gaiadr1.ucac4_best_neighbour\n",
      "gaiadr1.gaiadr1.ucac4_neighbourhood\n",
      "gaiadr1.gaiadr1.urat1_best_neighbour\n",
      "gaiadr1.gaiadr1.urat1_neighbourhood\n",
      "gaiadr1.gaiadr1.cepheid\n",
      "gaiadr1.gaiadr1.phot_variable_time_series_gfov\n",
      "gaiadr1.gaiadr1.phot_variable_time_series_gfov_statistical_parameters\n",
      "gaiadr1.gaiadr1.rrlyrae\n",
      "gaiadr1.gaiadr1.variable_summary\n",
      "gaiadr1.gaiadr1.allwise_original_valid\n",
      "gaiadr1.gaiadr1.gsc23_original_valid\n",
      "gaiadr1.gaiadr1.ppmxl_original_valid\n",
      "gaiadr1.gaiadr1.sdssdr9_original_valid\n",
      "gaiadr1.gaiadr1.tmass_original_valid\n",
      "gaiadr1.gaiadr1.ucac4_original_valid\n",
      "gaiadr1.gaiadr1.urat1_original_valid\n",
      "gaiadr1.gaiadr1.gaia_source\n",
      "gaiadr1.gaiadr1.tgas_source\n",
      "gaiadr2.gaiadr2.aux_allwise_agn_gdr2_cross_id\n",
      "gaiadr2.gaiadr2.aux_iers_gdr2_cross_id\n",
      "gaiadr2.gaiadr2.aux_sso_orbit_residuals\n",
      "gaiadr2.gaiadr2.aux_sso_orbits\n",
      "gaiadr2.gaiadr2.dr1_neighbourhood\n",
      "gaiadr2.gaiadr2.allwise_best_neighbour\n",
      "gaiadr2.gaiadr2.allwise_neighbourhood\n",
      "gaiadr2.gaiadr2.apassdr9_best_neighbour\n",
      "gaiadr2.gaiadr2.apassdr9_neighbourhood\n",
      "gaiadr2.gaiadr2.gsc23_best_neighbour\n",
      "gaiadr2.gaiadr2.gsc23_neighbourhood\n",
      "gaiadr2.gaiadr2.hipparcos2_best_neighbour\n",
      "gaiadr2.gaiadr2.hipparcos2_neighbourhood\n",
      "gaiadr2.gaiadr2.panstarrs1_best_neighbour\n",
      "gaiadr2.gaiadr2.panstarrs1_neighbourhood\n",
      "gaiadr2.gaiadr2.ppmxl_best_neighbour\n",
      "gaiadr2.gaiadr2.ppmxl_neighbourhood\n",
      "gaiadr2.gaiadr2.ravedr5_best_neighbour\n",
      "gaiadr2.gaiadr2.ravedr5_neighbourhood\n",
      "gaiadr2.gaiadr2.sdssdr9_best_neighbour\n",
      "gaiadr2.gaiadr2.sdssdr9_neighbourhood\n",
      "gaiadr2.gaiadr2.tmass_best_neighbour\n",
      "gaiadr2.gaiadr2.tmass_neighbourhood\n",
      "gaiadr2.gaiadr2.tycho2_best_neighbour\n",
      "gaiadr2.gaiadr2.tycho2_neighbourhood\n",
      "gaiadr2.gaiadr2.urat1_best_neighbour\n",
      "gaiadr2.gaiadr2.urat1_neighbourhood\n",
      "gaiadr2.gaiadr2.sso_observation\n",
      "gaiadr2.gaiadr2.sso_source\n",
      "gaiadr2.gaiadr2.vari_cepheid\n",
      "gaiadr2.gaiadr2.vari_classifier_class_definition\n",
      "gaiadr2.gaiadr2.vari_classifier_definition\n",
      "gaiadr2.gaiadr2.vari_classifier_result\n",
      "gaiadr2.gaiadr2.vari_long_period_variable\n",
      "gaiadr2.gaiadr2.vari_rotation_modulation\n",
      "gaiadr2.gaiadr2.vari_rrlyrae\n",
      "gaiadr2.gaiadr2.vari_short_timescale\n",
      "gaiadr2.gaiadr2.vari_time_series_statistics\n",
      "gaiadr2.gaiadr2.panstarrs1_original_valid\n",
      "gaiadr2.gaiadr2.gaia_source\n",
      "gaiadr2.gaiadr2.ruwe\n"
     ]
    }
   ],
   "source": [
    "tables = Gaia.load_tables(only_names=True)\n",
    "for table in (tables):\n",
    "    print(table.get_qualified_name())"
   ]
  },
  {
   "cell_type": "code",
   "execution_count": 20,
   "metadata": {
    "collapsed": true
   },
   "outputs": [],
   "source": [
    "def makeDS9RegFile(sexTabList,fileNameBase,tabType):\n",
    "    for tables in range(len(sexTabList)):\n",
    "        if tabType == 'dao':\n",
    "            xcoords = sexTabList[tables]['xcentroid']\n",
    "            ycoords = sexTabList[tables]['ycentroid']\n",
    "        elif tabType == 'sex':\n",
    "            xcoords = sexTabList[tables]['X_IMAGE']\n",
    "            ycoords = sexTabList[tables]['Y_IMAGE']\n",
    "        elif tabType == 'iraf':\n",
    "            xcoords = sexTabList[tables]['X_POS']\n",
    "            ycoords = sexTabList[tables]['Y_POS']        \n",
    "        else:\n",
    "            print('tab type error')\n",
    "            break\n",
    "        bigString = 'global color=lightgreen\\nimage\\n'\n",
    "        for x in range(len(xcoords)):\n",
    "            bigString += 'circle({},{},5)\\n'.format(xcoords[x],ycoords[x])\n",
    "        fileName = fileNameBase + '.reg'\n",
    "        with open(fileName,'w') as f:\n",
    "            f.write(bigString)\n",
    "#         print(fileName)\n",
    "#         print(os.listdir('.'))"
   ]
  },
  {
   "cell_type": "code",
   "execution_count": 21,
   "metadata": {
    "collapsed": true
   },
   "outputs": [],
   "source": [
    "def load_wcs_from_file(filename,pixCoord):\n",
    "    # Load the FITS hdulist using astropy.io.fits\n",
    "    hdulist = fits.open(filename)\n",
    "\n",
    "    # Parse the WCS keywords in the primary HDU\n",
    "    w = wcs.WCS(hdulist[0].header)\n",
    "\n",
    "    # Print out the \"name\" of the WCS, as defined in the FITS header\n",
    "    #print(w.wcs.name)\n",
    "\n",
    "    # Print out all of the settings that were parsed from the header\n",
    "    w.wcs.print_contents()\n",
    "\n",
    "    # Three pixel coordinates of interest.\n",
    "    # Note we've silently assumed a NAXIS=2 image here.\n",
    "    # Note also that the pixel coordinates are pairs of [X, Y], \n",
    "    # and since WCS built from FITS header automatically has\n",
    "    # origin set to 1, [0, 0] is actually not inside the image.\n",
    "    pixcrd = np.array(pixCoord, dtype=np.float_)\n",
    "\n",
    "    # Convert pixel coordinates to world coordinates\n",
    "    # The second argument is \"origin\" -- in this case we're declaring we\n",
    "    # have 1-based (Fortran-like) coordinates.\n",
    "    world = w.wcs_pix2world(pixcrd, 1)\n",
    "    #print(world)\n",
    "    return(world)"
   ]
  },
  {
   "cell_type": "code",
   "execution_count": 22,
   "metadata": {
    "collapsed": true
   },
   "outputs": [],
   "source": [
    "def queryObjectRegion(outputTable,searchRadius=5*u.arcsecond):\n",
    "    imageCoords = []\n",
    "    r = searchRadius\n",
    "    \n",
    "#     if inCat == 'dao':\n",
    "#         xlabel = 'xcentroid'\n",
    "#         ylabel = 'ycentroid'\n",
    "#         label = 'id'\n",
    "        \n",
    "#     if inCat == 'sex':\n",
    "#         xlabel = 'X_IMAGE'\n",
    "#         ylabel = 'Y_IMAGE'\n",
    "#         label = 'NUMBER'\n",
    "        \n",
    "    xlabel = 'RA'\n",
    "    ylabel = 'DEC'\n",
    "    label = 'NUMBER'\n",
    "    \n",
    "    flux = outputTable['FLUX_BEST']   \n",
    "    ra = outputTable['RA']\n",
    "    dec = outputTable['DEC']\n",
    "    tableLength = len(outputTable)\n",
    "    xcoord = outputTable['X_IMAGE']\n",
    "    ycoord = outputTable['Y_IMAGE']\n",
    "    imageCoords = [[x,y] for x,y in zip(xcoord,ycoord)]\n",
    "    imageNames = outputTable['DIFF_NAME']\n",
    "    customSimbad = Simbad()\n",
    "    customSimbad.add_votable_fields('ra(d)','dec(d)','otype','sp')\n",
    "    customSimbad.remove_votable_fields('coordinates')\n",
    "    \n",
    "    values = [['-'],[0],[0],['-'],['-'],[0],\n",
    "              [0],[0],['-'],[0]]\n",
    "    print(len(values))\n",
    "    Names = ['MAIN_ID','RA_d','DEC_d','OTYPE','CLASS','X_IMAGE',\n",
    "             'Y_IMAGE','flux','IMAGE','index']\n",
    "    types = ['object','object','float64','object','object','float64',\n",
    "             'float64','float64','object','int']     \n",
    "    #result_table = Table([['-'],[0],[0],['-'],[0],[0],[0],['-'],[0]], names=('MAIN_ID','RA_d','DEC_d','OTYPE','xcentroid','ycentroid','flux','IMAGE','index'),dtype=('object','float64','float64','object','float64','float64','float64','object','object'))\n",
    "    result_table = Table(values,names=Names,dtype=types)\n",
    "\n",
    "    for x in range(len(imageCoords)):\n",
    "        c = SkyCoord(ra[x],dec[x],frame='icrs',unit='deg')\n",
    "        rt = customSimbad.query_region(c,radius=r)\n",
    "        try:\n",
    "            c = SkyCoord(ra[x],dec[x],frame='icrs',unit='deg')\n",
    "            rt = customSimbad.query_region(c,radius=r)\n",
    "            #print(rt)\n",
    "            rowlist = []\n",
    "            \n",
    "            for y in range(len(rt[0])):\n",
    "                rowlist.append(rt[0][y])\n",
    "            rowlist.append(imageCoords[x][0])\n",
    "            rowlist.append(imageCoords[x][1])\n",
    "            rowlist.append(flux[x])\n",
    "            rowlist.append(imageNames[x])\n",
    "            rowlist.append(x)\n",
    "            result_table.add_row(rowlist)\n",
    "\n",
    "        except:\n",
    "            #print('searchfailed')\n",
    "            #result_table.add_row(['N/A',ra[x],dec[x],'Object Not Found',[imageCoords[x][0]],[imageCoords[x][1]],flux[x],imageNames[x],x])\n",
    "            result_table.add_row(['N/A',ra[x],dec[x],'Object Not Found','0',[imageCoords[x][0]],\n",
    "                                  [imageCoords[x][1]],flux[x],imageNames[x],x],\n",
    "                                 mask=[False,False,False,False,True,False,\n",
    "                                       False,False,False,False])\n",
    "    \n",
    "    return result_table"
   ]
  },
  {
   "cell_type": "code",
   "execution_count": 23,
   "metadata": {
    "collapsed": true
   },
   "outputs": [],
   "source": [
    "def keywordFunction(tab,keywordList):\n",
    "    names = tab.colnames\n",
    "    #print(names)\n",
    "    goodColNames = {}\n",
    "    values = []\n",
    "    for keyword in keywordList:\n",
    "        goodColName = [x for x in names if x.find(keyword) != -1]\n",
    "        if len(goodColName) != 0:\n",
    "            #print(goodColName)\n",
    "            #ravalues = []\n",
    "            for x in range(len(tab)):\n",
    "                values.append(tab[goodColName[0]][x])\n",
    "            break\n",
    "    return values"
   ]
  },
  {
   "cell_type": "code",
   "execution_count": 36,
   "metadata": {
    "collapsed": true
   },
   "outputs": [],
   "source": [
    "def vizierSearch(tab,cat):\n",
    "    result_table = []\n",
    "    indexref = 'none'\n",
    "    indexes = []\n",
    "    for x in range(len(tab)):\n",
    "        index = tab['OBJECT INDEX'][x]\n",
    "        if index != indexref:\n",
    "            RA = tab['RA'][x]\n",
    "            DEC = tab['DEC'][x]\n",
    "            #print(bigtab['RA_d'][x],bigtab['DEC_d'][x])\n",
    "            c = SkyCoord(ra=RA*u.deg,dec=DEC*u.deg)\n",
    "            result_table_list = Vizier.query_region(c,radius=2*u.arcsec,catalog=cat)\n",
    "            if len(result_table_list) != 0:\n",
    "                indexes.append(index)\n",
    "                if len(result_table) == 0:\n",
    "                    #result_table_list = Vizier.query_region(c,radius=2*u.arcsec,catalog=cat)\n",
    "                    result_table = result_table_list[0][0]\n",
    "                else:\n",
    "                    res_tab = result_table_list[0][0]\n",
    "                    result_table = vstack([result_table,res_tab])\n",
    "        indexref = index\n",
    "        \n",
    "#     aa = Column([], name='aa')\n",
    "#     t.add_column(aa, index=0)\n",
    "    result_table['index'] = indexes\n",
    "    return result_table"
   ]
  },
  {
   "cell_type": "code",
   "execution_count": 25,
   "metadata": {
    "collapsed": true
   },
   "outputs": [],
   "source": [
    "def findSeparation(ra1,dec1,ra2,dec2):\n",
    "    c1 = SkyCoord(ra=ra1*u.degree,dec=dec1*u.degree)\n",
    "    c2 = SkyCoord(ra=ra2*u.degree,dec=dec2*u.degree)\n",
    "    sep = c1.separation(c2)\n",
    "    separc = sep.arcsec\n",
    "    return separc"
   ]
  },
  {
   "cell_type": "code",
   "execution_count": 26,
   "metadata": {
    "collapsed": true
   },
   "outputs": [],
   "source": [
    "def getTabValues(Tab,index,tabType,origra,origdec):\n",
    "    rowlist = 'none'\n",
    "    if tabType == 'simbad':\n",
    "        otypename = 'OTYPE'\n",
    "        source = 'SIMBAD'\n",
    "    if tabType == 'vizier':\n",
    "        source = 'VIZIER'\n",
    "        otypename = 'CLASS'\n",
    "    Tab = Tab[1:]\n",
    "    df = Tab.to_pandas()\n",
    "    df2 = df[df[otypename] != 'Object Not Found']\n",
    "    df3 = df2[df2['index'] == index]\n",
    "    if len(df3) != 0:\n",
    "        ra = df3['RA_d'].tolist()\n",
    "        dec = df3['DEC_d'].tolist()\n",
    "        otype = df3[otypename].tolist()\n",
    "        separations = [round(findSeparation(ra1,dec1,origra,origdec),3) for ra1,dec1 in zip(ra,dec)]\n",
    "        rowlist = [[index,source,0,0,x,y,0,0,'magfilter',sep,z] for x,y,z,sep in zip(ra,dec,otype,separations)]\n",
    "    return rowlist"
   ]
  },
  {
   "cell_type": "code",
   "execution_count": 27,
   "metadata": {
    "collapsed": false
   },
   "outputs": [],
   "source": [
    "def generateRow(Tab,index,origra,origdec,Names,tabType):\n",
    "    rowlist = 'none'\n",
    "    columnNames = Tab.colnames\n",
    "    Tab = Tab[1:]\n",
    "    df = Tab.to_pandas()\n",
    "    if tabType == 'simbad':\n",
    "        df2 = df[df['OTYPE'] != 'Object Not Found']\n",
    "    else:\n",
    "        df2 = df\n",
    "    df3 = df2[df2['index'] == index]\n",
    "    rows = []\n",
    "    astroTab = Table.from_pandas(df3)\n",
    "    #print('tab',index,len(astroTab))\n",
    "    if len(df3) != 0:\n",
    "        for x in range(len(astroTab)):\n",
    "            if tabType != 'simbad':\n",
    "                ra1 = astroTab['RAJ2000'][x]\n",
    "                dec1 = astroTab['DEJ2000'][x]\n",
    "            else:\n",
    "                ra1 = astroTab['RA_d'][x]\n",
    "                dec1 = astroTab['DEC_d'][x]\n",
    "            sep = round(findSeparation(ra1,dec1,origra,origdec),3)\n",
    "            rowlist = [astroTab[name][x] if name in columnNames else '--' for name in Names]\n",
    "            num = Names.index('OBJECT INDEX')\n",
    "            rowlist[num] = index\n",
    "            num = Names.index('SOURCE')\n",
    "            rowlist[num] = tabType\n",
    "            num = Names.index('SEPARATION')\n",
    "            rowlist[num] = sep # linked to order\n",
    "            rows.append(rowlist)\n",
    "        #print('rows',index,len(rows))\n",
    "    if len(rows) != 0:\n",
    "        return rows\n",
    "    else:\n",
    "        return 'none'"
   ]
  },
  {
   "cell_type": "code",
   "execution_count": 28,
   "metadata": {
    "collapsed": true
   },
   "outputs": [],
   "source": [
    "def bigTable(origTab,simbadTab,ps1Tab,wiseTab,lamostTab,commies,epochs):\n",
    "    origra = origTab['RA'].tolist()\n",
    "    origdec = origTab['DEC'].tolist()\n",
    "    origImage = origTab['IMAGE_NAME'].tolist()\n",
    "    xim = origTab['X_IMAGE']\n",
    "    yim = origTab['Y_IMAGE']\n",
    "    origmag = origTab['MAG_BEST']\n",
    "    magDiff = origTab['magDiff']\n",
    "    searchTables = [simbadTab,ps1Tab,wiseTab,lamostTab]\n",
    "    searchTabNames = ['simbad','PS1','AllWiSE','LAMOST']\n",
    "    #result_table = Table([[0],[0],['-'],['-'],[0],[0],[0],['-'],[0]],names=('RA_d','DEC_d','Vmag','CLASS','xcentroid','ycentroid','flux','IMAGE','index'),dtype=('float64','float64','object','object','float64','float64','float64','object','int'))\n",
    "    for x in range(len(origra)):\n",
    "        if x == 0:\n",
    "\n",
    "            namelist = ['OBJECT INDEX','SOURCE','ObjID','X_IMAGE','Y_IMAGE','RA_d','DEC_d','MAG','MAG_DIFF','No of Epochs','Comments',\n",
    "                        'OTYPE','CLASS',\n",
    "                        'magType','SEPARATION','pmRA','pmDE','var','z','Nd','Ns','Epoch','ex','Qual',\n",
    "                        'W1mag','W2mag', 'W3mag', 'W4mag',\n",
    "                        'Kmag','gKmag','rKmag', 'iKmag','zKmag', 'yKmag',   \n",
    "                        'gmag','rmag','imag','zmag','ymag','Jmag', 'Hmag',\n",
    "                        'snrg', 'snri','snru',   'snrz',          \n",
    "                        'Target',  'AllWISE']\n",
    "#             types = ['int','object','float64','float64','float64','float64','float64','float64','object','object','float64',\n",
    "#                      'object','object','object','object','object','object','object','object',\n",
    "#                     'object','object','object','object','object','object','object','object']\n",
    "            types = ['object']*len(namelist)\n",
    "            rowlistOG = [[x],[origImage[x]],['-'],[xim[x]],[yim[x]],[origra[x]],[origdec[x]],[origmag[x]],[magDiff[x]],[epochs[x]],[comments[x]]]\n",
    "            difflen = len(namelist)-len(rowlistOG)\n",
    "            extras = [['--'] for _ in range(difflen)]\n",
    "            rowlistOG.extend(extras)\n",
    "\n",
    "            result_table = Table(rowlistOG,names=namelist,dtype=types)\n",
    "            for tab in range(len(searchTables)):\n",
    "                rowlist = generateRow(searchTables[tab],x,origra[x],origdec[x],namelist,searchTabNames[tab])\n",
    "                if rowlist != 'none':\n",
    "                    for row in rowlist:\n",
    "                        result_table.add_row(row)\n",
    "                        print('working')\n",
    "        else:\n",
    "            rowlistOG = [x,origImage[x],'-',xim[x],yim[x],origra[x],origdec[x],origmag[x],magDiff[x],epochs[x],comments[x]]\n",
    "            difflen = len(namelist)-len(rowlistOG)\n",
    "            extras = ['--' for _ in range(difflen)]\n",
    "            rowlistOG.extend(extras)\n",
    "            result_table.add_row(rowlistOG)\n",
    "            for tab in range(len(searchTables)):\n",
    "                rowlist = generateRow(searchTables[tab],x,origra[x],origdec[x],namelist,searchTabNames[tab])\n",
    "                if rowlist != 'none':\n",
    "                    for row in rowlist:\n",
    "                        result_table.add_row(row)\n",
    "    return result_table"
   ]
  },
  {
   "cell_type": "code",
   "execution_count": 29,
   "metadata": {
    "collapsed": true
   },
   "outputs": [],
   "source": [
    "def getPanStarCutOut(ra,dec):\n",
    "    url = 'https://ps1images.stsci.edu/cgi-bin/ps1cutouts?pos={}%2C{}&filter=color&filter=g&filter=r&filter=i&filter=z&filter=y&filetypes=stack&auxiliary=data&size={}&output_size=0&verbose=0&autoscale=99.500000&catlist='.format(ra,dec,size)\n",
    "    response = requests.get(url)\n",
    "    soup = BeautifulSoup(response.text, 'html.parser')\n",
    "    th = soup.findAll('td')\n",
    "    try:\n",
    "        link = th[1]\n",
    "        downLink = link.findAll('img')\n",
    "        downCut = downLink[0]['src']\n",
    "        loc1 = downCut.find('cgi-bin')\n",
    "        loc2 = downCut.find('=/') + len('=/')\n",
    "        if loc1 != -1:\n",
    "            if loc2 != -1:\n",
    "                newCut = downCut[:loc1] + downCut[loc2:]\n",
    "\n",
    "        loc3 = newCut.find('&')\n",
    "        smallCut = newCut[:loc3]\n",
    "        http = 'https:'+smallCut\n",
    "        print(http)\n",
    "        subprocess.call(['wget','-O','/home/mj1e16/cutOuts/{}'.format(outname),http])\n",
    "    except:\n",
    "        print('WARNING - panstarrs image note found ra = {}, dec = {}'.format(ra,dec))\n"
   ]
  },
  {
   "cell_type": "code",
   "execution_count": 30,
   "metadata": {
    "collapsed": true
   },
   "outputs": [],
   "source": [
    "def XraySearch(tab):\n",
    "    indexref = 'ooo'\n",
    "    chandra = {}\n",
    "    rosat = {}\n",
    "    xmm = {}\n",
    "    for x in range(len(tab)):\n",
    "        index = tab['OBJECT INDEX'][x]\n",
    "        if index != indexref:\n",
    "            RA = tab['RA'][x]\n",
    "            DEC = tab['DEC'][x]\n",
    "            #print(tab['RA_d'][x],tab['DEC_d'][x])\n",
    "            c = SkyCoord(ra=RA*u.deg,dec=DEC*u.deg)\n",
    "            result_table1 = Vizier.query_region(c,radius=2*u.arcsec,catalog='Chandra')\n",
    "            if len(result_table1) > 0:\n",
    "                chandra[str(x)] = result_table1\n",
    "                print('Chandra',result_table1,x)\n",
    "            #print(result_table[0])\n",
    "            result_table2 = Vizier.query_region(c,radius=10*u.arcsec,catalog='Rosat')\n",
    "            if len(result_table2) > 0:\n",
    "                rosat[str(x)] = result_table2\n",
    "                print('Rosat',result_table2,x)\n",
    "            #print(result_table[0])\n",
    "            result_table3 = Vizier.query_region(c,radius=10*u.arcsec,catalog='XMM-Newton')\n",
    "            if len(result_table3) > 0:\n",
    "                xmm[str(x)] = result_table3\n",
    "                print('XMM',result_table3,x)\n",
    "    #             for y in range(len(result_table3)):\n",
    "    #                 print(result_table3[y])\n",
    "        indexref = tab['OBJECT INDEX'][x]\n",
    "    return([chandra,rosat,xmm])"
   ]
  },
  {
   "cell_type": "code",
   "execution_count": 31,
   "metadata": {
    "collapsed": true
   },
   "outputs": [],
   "source": [
    "otherGaiaTab = ascii.read('/home/mj1e16/outTablesImproved/fullMatches.csv')"
   ]
  },
  {
   "cell_type": "code",
   "execution_count": 18,
   "metadata": {
    "collapsed": false,
    "scrolled": true
   },
   "outputs": [],
   "source": [
    "kepler = ascii.read('/home/mj1e16/outTables15/firstPassTransients15.csv')\n",
    "indexes = range(len(kepler))\n",
    "kepler['OBJECT INDEX'] = indexes\n",
    "xrayobs = XraySearch(kepler)"
   ]
  },
  {
   "cell_type": "code",
   "execution_count": 34,
   "metadata": {
    "collapsed": true
   },
   "outputs": [],
   "source": [
    "indexes = range(len(otherGaiaTab))\n",
    "otherGaiaTab['OBJECT INDEX'] = indexes"
   ]
  },
  {
   "cell_type": "code",
   "execution_count": 44,
   "metadata": {
    "collapsed": false
   },
   "outputs": [
    {
     "name": "stdout",
     "output_type": "stream",
     "text": [
      "10\n",
      "INFO: Upgrading Table to masked Table. Use Table.filled() to convert to unmasked table. [astropy.table.table]\n"
     ]
    }
   ],
   "source": [
    "simbadSearch = queryObjectRegion(otherGaiaTab,searchRadius=2*u.arcsec)"
   ]
  },
  {
   "cell_type": "code",
   "execution_count": 37,
   "metadata": {
    "collapsed": false
   },
   "outputs": [],
   "source": [
    "ps1 = vizierSearch(otherGaiaTab,'PS1')"
   ]
  },
  {
   "cell_type": "code",
   "execution_count": 40,
   "metadata": {
    "collapsed": false
   },
   "outputs": [],
   "source": [
    "wise = vizierSearch(otherGaiaTab,'AllWiSE')"
   ]
  },
  {
   "cell_type": "code",
   "execution_count": 41,
   "metadata": {
    "collapsed": true
   },
   "outputs": [],
   "source": [
    "LAMOST = vizierSearch(otherGaiaTab,'LAMOST')"
   ]
  },
  {
   "cell_type": "code",
   "execution_count": 42,
   "metadata": {
    "collapsed": false
   },
   "outputs": [],
   "source": [
    "#var = vizierSearch(bigtab,'J/AJ/156/241/')"
   ]
  },
  {
   "cell_type": "code",
   "execution_count": 46,
   "metadata": {
    "collapsed": true
   },
   "outputs": [],
   "source": [
    "comments = ['Very Elongated, Likely noise','Probable Transient','Probable Transient','Easily visible counterpart',\n",
    "            'Easily visible counterpart','Easily visible counterpart','Easily visible counterpart','Easily visible counterpart',\n",
    "           't shaped, possibly noise','Likely noise','Easily visible counterpart','Easily visible counterpart',\n",
    "            'Strange shape, likely noise','Strange shape, likely noise','Probable transient','Counterpart visible in median image but not in PanSTARRS',\n",
    "           'Possible transient, chance of a visible counterpart','Probable transient','Strange shape, likely noise',\n",
    "           'Saturated counterpart','Probable transient','Easily visible counterpart','Very elongated, probably noise',\n",
    "           'Easily visible counterpart','Probable transient','probable transient','Easily visible counterpart','Possible transient',\n",
    "           'Probable transient','Probable transient','Easily visible counterpart','Easily visible counterpart','Easily visible counterpart',\n",
    "           'Possible transient','Probable transient','Easily visible counterpart']"
   ]
  },
  {
   "cell_type": "code",
   "execution_count": 47,
   "metadata": {
    "collapsed": true
   },
   "outputs": [],
   "source": [
    "epochs = [1, 1, 1, 52, 52, 52, 52, 52, 1, 1, 14, 51, 1, 1, 1, 1, 1, 1, 1, 41, 1, 1, 1, 52, 1, 1, 52, 1, 1, 1, 52, 52, 52, 1, 1, 3]"
   ]
  },
  {
   "cell_type": "code",
   "execution_count": 48,
   "metadata": {
    "collapsed": false
   },
   "outputs": [],
   "source": [
    "newBigTab = bigTable(otherGaiaTab,simbadSearch,ps1,wise,LAMOST,comments,epochs)"
   ]
  },
  {
   "cell_type": "code",
   "execution_count": 660,
   "metadata": {
    "collapsed": true
   },
   "outputs": [],
   "source": [
    "ascii.write(newBigTab,'/home/mj1e16/outTablesImproved/newbigtab.csv',format='csv',fast_writer=False)\n"
   ]
  },
  {
   "cell_type": "code",
   "execution_count": null,
   "metadata": {
    "collapsed": true
   },
   "outputs": [],
   "source": []
  }
 ],
 "metadata": {
  "kernelspec": {
   "display_name": "Python 2",
   "language": "python",
   "name": "python2"
  },
  "language_info": {
   "codemirror_mode": {
    "name": "ipython",
    "version": 2
   },
   "file_extension": ".py",
   "mimetype": "text/x-python",
   "name": "python",
   "nbconvert_exporter": "python",
   "pygments_lexer": "ipython2",
   "version": "2.7.13"
  }
 },
 "nbformat": 4,
 "nbformat_minor": 2
}
