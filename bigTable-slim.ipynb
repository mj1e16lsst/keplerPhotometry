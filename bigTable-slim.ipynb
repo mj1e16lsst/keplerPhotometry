{
 "cells": [
  {
   "cell_type": "code",
   "execution_count": 1,
   "metadata": {},
   "outputs": [
    {
     "name": "stdout",
     "output_type": "stream",
     "text": [
      "Created TAP+ (v1.0.1) - Connection:\n",
      "\tHost: gea.esac.esa.int\n",
      "\tUse HTTPS: False\n",
      "\tPort: 80\n",
      "\tSSL Port: 443\n"
     ]
    }
   ],
   "source": [
    "import astroprov\n",
    "from astropy.io.ascii import SExtractor\n",
    "from astropy.stats import sigma_clipped_stats\n",
    "from astropy.coordinates import SkyCoord\n",
    "import astropy.coordinates as coord\n",
    "\n",
    "import astropy.units as u\n",
    "import matplotlib.pyplot as plt\n",
    "import numpy as np\n",
    "import os\n",
    "from photutils import DAOStarFinder\n",
    "from photutils import CircularAperture\n",
    "from photutils import aperture_photometry\n",
    "#import subproc\n",
    "\n",
    "from astropy import wcs\n",
    "from astropy.io import fits\n",
    "import sys\n",
    "\n",
    "from astroquery.simbad import Simbad\n",
    "from astroquery.vizier import Vizier\n",
    "\n",
    "from astropy.visualization import SqrtStretch\n",
    "from astropy.visualization.mpl_normalize import ImageNormalize\n",
    "from astropy.table import Table, vstack\n",
    "from astropy.table import Column\n",
    "\n",
    "import collections\n",
    "import subprocess\n",
    "from astropy.io import ascii\n",
    "import time\n",
    "from astropy.utils.data import clear_download_cache\n",
    "from astroquery.gaia import Gaia\n",
    "import warnings\n",
    "warnings.filterwarnings('ignore')\n",
    "import pandas as pd\n",
    "from bs4 import BeautifulSoup"
   ]
  },
  {
   "cell_type": "code",
   "execution_count": 12,
   "metadata": {
    "collapsed": true
   },
   "outputs": [],
   "source": [
    "clear_download_cache()"
   ]
  },
  {
   "cell_type": "code",
   "execution_count": 2,
   "metadata": {
    "scrolled": true
   },
   "outputs": [
    {
     "name": "stdout",
     "output_type": "stream",
     "text": [
      "Retrieving tables...\n",
      "Parsing tables...\n",
      "Done.\n",
      "external.external.apassdr9\n",
      "external.external.gaiadr2_geometric_distance\n",
      "external.external.ravedr5_com\n",
      "external.external.ravedr5_dr5\n",
      "external.external.ravedr5_gra\n",
      "external.external.ravedr5_on\n",
      "external.external.sdssdr13_photoprimary\n",
      "external.external.skymapperdr1_master\n",
      "external.external.tmass_xsc\n",
      "public.public.hipparcos\n",
      "public.public.hipparcos_newreduction\n",
      "public.public.hubble_sc\n",
      "public.public.igsl_source\n",
      "public.public.igsl_source_catalog_ids\n",
      "public.public.tycho2\n",
      "public.public.dual\n",
      "tap_config.tap_config.coord_sys\n",
      "tap_schema.tap_schema.columns\n",
      "tap_schema.tap_schema.key_columns\n",
      "tap_schema.tap_schema.keys\n",
      "tap_schema.tap_schema.schemas\n",
      "tap_schema.tap_schema.tables\n",
      "gaiadr1.gaiadr1.aux_qso_icrf2_match\n",
      "gaiadr1.gaiadr1.ext_phot_zero_point\n",
      "gaiadr1.gaiadr1.allwise_best_neighbour\n",
      "gaiadr1.gaiadr1.allwise_neighbourhood\n",
      "gaiadr1.gaiadr1.gsc23_best_neighbour\n",
      "gaiadr1.gaiadr1.gsc23_neighbourhood\n",
      "gaiadr1.gaiadr1.ppmxl_best_neighbour\n",
      "gaiadr1.gaiadr1.ppmxl_neighbourhood\n",
      "gaiadr1.gaiadr1.sdss_dr9_best_neighbour\n",
      "gaiadr1.gaiadr1.sdss_dr9_neighbourhood\n",
      "gaiadr1.gaiadr1.tmass_best_neighbour\n",
      "gaiadr1.gaiadr1.tmass_neighbourhood\n",
      "gaiadr1.gaiadr1.ucac4_best_neighbour\n",
      "gaiadr1.gaiadr1.ucac4_neighbourhood\n",
      "gaiadr1.gaiadr1.urat1_best_neighbour\n",
      "gaiadr1.gaiadr1.urat1_neighbourhood\n",
      "gaiadr1.gaiadr1.cepheid\n",
      "gaiadr1.gaiadr1.phot_variable_time_series_gfov\n",
      "gaiadr1.gaiadr1.phot_variable_time_series_gfov_statistical_parameters\n",
      "gaiadr1.gaiadr1.rrlyrae\n",
      "gaiadr1.gaiadr1.variable_summary\n",
      "gaiadr1.gaiadr1.allwise_original_valid\n",
      "gaiadr1.gaiadr1.gsc23_original_valid\n",
      "gaiadr1.gaiadr1.ppmxl_original_valid\n",
      "gaiadr1.gaiadr1.sdssdr9_original_valid\n",
      "gaiadr1.gaiadr1.tmass_original_valid\n",
      "gaiadr1.gaiadr1.ucac4_original_valid\n",
      "gaiadr1.gaiadr1.urat1_original_valid\n",
      "gaiadr1.gaiadr1.gaia_source\n",
      "gaiadr1.gaiadr1.tgas_source\n",
      "gaiadr2.gaiadr2.aux_allwise_agn_gdr2_cross_id\n",
      "gaiadr2.gaiadr2.aux_iers_gdr2_cross_id\n",
      "gaiadr2.gaiadr2.aux_sso_orbit_residuals\n",
      "gaiadr2.gaiadr2.aux_sso_orbits\n",
      "gaiadr2.gaiadr2.dr1_neighbourhood\n",
      "gaiadr2.gaiadr2.allwise_best_neighbour\n",
      "gaiadr2.gaiadr2.allwise_neighbourhood\n",
      "gaiadr2.gaiadr2.apassdr9_best_neighbour\n",
      "gaiadr2.gaiadr2.apassdr9_neighbourhood\n",
      "gaiadr2.gaiadr2.gsc23_best_neighbour\n",
      "gaiadr2.gaiadr2.gsc23_neighbourhood\n",
      "gaiadr2.gaiadr2.hipparcos2_best_neighbour\n",
      "gaiadr2.gaiadr2.hipparcos2_neighbourhood\n",
      "gaiadr2.gaiadr2.panstarrs1_best_neighbour\n",
      "gaiadr2.gaiadr2.panstarrs1_neighbourhood\n",
      "gaiadr2.gaiadr2.ppmxl_best_neighbour\n",
      "gaiadr2.gaiadr2.ppmxl_neighbourhood\n",
      "gaiadr2.gaiadr2.ravedr5_best_neighbour\n",
      "gaiadr2.gaiadr2.ravedr5_neighbourhood\n",
      "gaiadr2.gaiadr2.sdssdr9_best_neighbour\n",
      "gaiadr2.gaiadr2.sdssdr9_neighbourhood\n",
      "gaiadr2.gaiadr2.tmass_best_neighbour\n",
      "gaiadr2.gaiadr2.tmass_neighbourhood\n",
      "gaiadr2.gaiadr2.tycho2_best_neighbour\n",
      "gaiadr2.gaiadr2.tycho2_neighbourhood\n",
      "gaiadr2.gaiadr2.urat1_best_neighbour\n",
      "gaiadr2.gaiadr2.urat1_neighbourhood\n",
      "gaiadr2.gaiadr2.sso_observation\n",
      "gaiadr2.gaiadr2.sso_source\n",
      "gaiadr2.gaiadr2.vari_cepheid\n",
      "gaiadr2.gaiadr2.vari_classifier_class_definition\n",
      "gaiadr2.gaiadr2.vari_classifier_definition\n",
      "gaiadr2.gaiadr2.vari_classifier_result\n",
      "gaiadr2.gaiadr2.vari_long_period_variable\n",
      "gaiadr2.gaiadr2.vari_rotation_modulation\n",
      "gaiadr2.gaiadr2.vari_rrlyrae\n",
      "gaiadr2.gaiadr2.vari_short_timescale\n",
      "gaiadr2.gaiadr2.vari_time_series_statistics\n",
      "gaiadr2.gaiadr2.panstarrs1_original_valid\n",
      "gaiadr2.gaiadr2.gaia_source\n",
      "gaiadr2.gaiadr2.ruwe\n"
     ]
    }
   ],
   "source": [
    "tables = Gaia.load_tables(only_names=True)\n",
    "for table in (tables):\n",
    "    print(table.get_qualified_name())"
   ]
  },
  {
   "cell_type": "code",
   "execution_count": 3,
   "metadata": {
    "collapsed": true
   },
   "outputs": [],
   "source": [
    "def makeDS9RegFile(sexTabList,fileNameBase,tabType):\n",
    "    for tables in range(len(sexTabList)):\n",
    "        if tabType == 'dao':\n",
    "            xcoords = sexTabList[tables]['xcentroid']\n",
    "            ycoords = sexTabList[tables]['ycentroid']\n",
    "        elif tabType == 'sex':\n",
    "            xcoords = sexTabList[tables]['X_IMAGE']\n",
    "            ycoords = sexTabList[tables]['Y_IMAGE']\n",
    "        elif tabType == 'iraf':\n",
    "            xcoords = sexTabList[tables]['X_POS']\n",
    "            ycoords = sexTabList[tables]['Y_POS']        \n",
    "        else:\n",
    "            print('tab type error')\n",
    "            break\n",
    "        bigString = 'global color=lightgreen\\nimage\\n'\n",
    "        for x in range(len(xcoords)):\n",
    "            bigString += 'circle({},{},5)\\n'.format(xcoords[x],ycoords[x])\n",
    "        fileName = fileNameBase + '.reg'\n",
    "        with open(fileName,'w') as f:\n",
    "            f.write(bigString)\n",
    "#         print(fileName)\n",
    "#         print(os.listdir('.'))"
   ]
  },
  {
   "cell_type": "code",
   "execution_count": 4,
   "metadata": {
    "collapsed": true
   },
   "outputs": [],
   "source": [
    "def load_wcs_from_file(filename,pixCoord):\n",
    "    # Load the FITS hdulist using astropy.io.fits\n",
    "    hdulist = fits.open(filename)\n",
    "\n",
    "    # Parse the WCS keywords in the primary HDU\n",
    "    w = wcs.WCS(hdulist[0].header)\n",
    "\n",
    "    # Print out the \"name\" of the WCS, as defined in the FITS header\n",
    "    #print(w.wcs.name)\n",
    "\n",
    "    # Print out all of the settings that were parsed from the header\n",
    "    w.wcs.print_contents()\n",
    "\n",
    "    # Three pixel coordinates of interest.\n",
    "    # Note we've silently assumed a NAXIS=2 image here.\n",
    "    # Note also that the pixel coordinates are pairs of [X, Y], \n",
    "    # and since WCS built from FITS header automatically has\n",
    "    # origin set to 1, [0, 0] is actually not inside the image.\n",
    "    pixcrd = np.array(pixCoord, dtype=np.float_)\n",
    "\n",
    "    # Convert pixel coordinates to world coordinates\n",
    "    # The second argument is \"origin\" -- in this case we're declaring we\n",
    "    # have 1-based (Fortran-like) coordinates.\n",
    "    world = w.wcs_pix2world(pixcrd, 1)\n",
    "    #print(world)\n",
    "    return(world)"
   ]
  },
  {
   "cell_type": "code",
   "execution_count": 5,
   "metadata": {
    "collapsed": true
   },
   "outputs": [],
   "source": [
    "def queryObjectRegion(outputTable,searchRadius=5*u.arcsecond):\n",
    "    imageCoords = []\n",
    "    r = searchRadius\n",
    "    \n",
    "#     if inCat == 'dao':\n",
    "#         xlabel = 'xcentroid'\n",
    "#         ylabel = 'ycentroid'\n",
    "#         label = 'id'\n",
    "        \n",
    "#     if inCat == 'sex':\n",
    "#         xlabel = 'X_IMAGE'\n",
    "#         ylabel = 'Y_IMAGE'\n",
    "#         label = 'NUMBER'\n",
    "        \n",
    "    xlabel = 'RA'\n",
    "    ylabel = 'DEC'\n",
    "    label = 'NUMBER'\n",
    "    \n",
    "    flux = outputTable['FLUX_BEST']   \n",
    "    ra = outputTable['RA']\n",
    "    dec = outputTable['DEC']\n",
    "    tableLength = len(outputTable)\n",
    "    xcoord = outputTable['X_IMAGE']\n",
    "    ycoord = outputTable['Y_IMAGE']\n",
    "    imageCoords = [[x,y] for x,y in zip(xcoord,ycoord)]\n",
    "    imageNames = outputTable['DIFF_NAME']\n",
    "    customSimbad = Simbad()\n",
    "    customSimbad.add_votable_fields('ra(d)','dec(d)','otype','sp')\n",
    "    customSimbad.remove_votable_fields('coordinates')\n",
    "    \n",
    "    values = [['-'],[0],[0],['-'],['-'],[0],\n",
    "              [0],[0],['-'],[0]]\n",
    "    print(len(values))\n",
    "    Names = ['MAIN_ID','RA_d','DEC_d','OTYPE','CLASS','X_IMAGE',\n",
    "             'Y_IMAGE','flux','IMAGE','index']\n",
    "    types = ['object','object','float64','object','object','float64',\n",
    "             'float64','float64','object','int']     \n",
    "    #result_table = Table([['-'],[0],[0],['-'],[0],[0],[0],['-'],[0]], names=('MAIN_ID','RA_d','DEC_d','OTYPE','xcentroid','ycentroid','flux','IMAGE','index'),dtype=('object','float64','float64','object','float64','float64','float64','object','object'))\n",
    "    result_table = Table(values,names=Names,dtype=types)\n",
    "\n",
    "    for x in range(len(imageCoords)):\n",
    "        c = SkyCoord(ra[x],dec[x],frame='icrs',unit='deg')\n",
    "        rt = customSimbad.query_region(c,radius=r)\n",
    "        try:\n",
    "            c = SkyCoord(ra[x],dec[x],frame='icrs',unit='deg')\n",
    "            rt = customSimbad.query_region(c,radius=r)\n",
    "            #print(rt)\n",
    "            rowlist = []\n",
    "            \n",
    "            for y in range(len(rt[0])):\n",
    "                rowlist.append(rt[0][y])\n",
    "            rowlist.append(imageCoords[x][0])\n",
    "            rowlist.append(imageCoords[x][1])\n",
    "            rowlist.append(flux[x])\n",
    "            rowlist.append(imageNames[x])\n",
    "            rowlist.append(x)\n",
    "            result_table.add_row(rowlist)\n",
    "\n",
    "        except:\n",
    "            #print('searchfailed')\n",
    "            #result_table.add_row(['N/A',ra[x],dec[x],'Object Not Found',[imageCoords[x][0]],[imageCoords[x][1]],flux[x],imageNames[x],x])\n",
    "            result_table.add_row(['N/A',ra[x],dec[x],'Object Not Found','0',[imageCoords[x][0]],\n",
    "                                  [imageCoords[x][1]],flux[x],imageNames[x],x],\n",
    "                                 mask=[False,False,False,False,True,False,\n",
    "                                       False,False,False,False])\n",
    "    \n",
    "    return result_table"
   ]
  },
  {
   "cell_type": "code",
   "execution_count": 6,
   "metadata": {
    "collapsed": true
   },
   "outputs": [],
   "source": [
    "def keywordFunction(tab,keywordList):\n",
    "    names = tab.colnames\n",
    "    #print(names)\n",
    "    goodColNames = {}\n",
    "    values = []\n",
    "    for keyword in keywordList:\n",
    "        goodColName = [x for x in names if x.find(keyword) != -1]\n",
    "        if len(goodColName) != 0:\n",
    "            #print(goodColName)\n",
    "            #ravalues = []\n",
    "            for x in range(len(tab)):\n",
    "                values.append(tab[goodColName[0]][x])\n",
    "            break\n",
    "    return values"
   ]
  },
  {
   "cell_type": "code",
   "execution_count": 24,
   "metadata": {
    "collapsed": true
   },
   "outputs": [],
   "source": [
    "def vizierSearch(tab,cat):\n",
    "    result_table = []\n",
    "    indexref = 'none'\n",
    "    indexes = []\n",
    "    for x in range(len(tab)):\n",
    "        index = tab['OBJECT INDEX'][x]\n",
    "        if index != indexref:\n",
    "            RA = tab['RA'][x]\n",
    "            DEC = tab['DEC'][x]\n",
    "            #print(bigtab['RA_d'][x],bigtab['DEC_d'][x])\n",
    "            c = SkyCoord(ra=RA*u.deg,dec=DEC*u.deg)\n",
    "            result_table_list = Vizier.query_region(c,radius=2*u.arcsec,catalog=cat)\n",
    "            if len(result_table_list) != 0:\n",
    "                indexes.append(index)\n",
    "                if len(result_table) == 0:\n",
    "                    #result_table_list = Vizier.query_region(c,radius=2*u.arcsec,catalog=cat)\n",
    "                    result_table = result_table_list[0][0]\n",
    "                else:\n",
    "                    res_tab = result_table_list[0][0]\n",
    "                    result_table = vstack([result_table,res_tab])\n",
    "        indexref = index\n",
    "        \n",
    "#     aa = Column([], name='aa')\n",
    "#     t.add_column(aa, index=0)\n",
    "    if len(result_table) != 0:\n",
    "        result_table['index'] = indexes\n",
    "        return result_table\n",
    "    else:\n",
    "        return 'none'"
   ]
  },
  {
   "cell_type": "code",
   "execution_count": 8,
   "metadata": {
    "collapsed": true
   },
   "outputs": [],
   "source": [
    "def findSeparation(ra1,dec1,ra2,dec2):\n",
    "    c1 = SkyCoord(ra=ra1*u.degree,dec=dec1*u.degree)\n",
    "    c2 = SkyCoord(ra=ra2*u.degree,dec=dec2*u.degree)\n",
    "    sep = c1.separation(c2)\n",
    "    separc = sep.arcsec\n",
    "    return separc"
   ]
  },
  {
   "cell_type": "code",
   "execution_count": 9,
   "metadata": {
    "collapsed": true
   },
   "outputs": [],
   "source": [
    "def getTabValues(Tab,index,tabType,origra,origdec):\n",
    "    rowlist = 'none'\n",
    "    if tabType == 'simbad':\n",
    "        otypename = 'OTYPE'\n",
    "        source = 'SIMBAD'\n",
    "    if tabType == 'vizier':\n",
    "        source = 'VIZIER'\n",
    "        otypename = 'CLASS'\n",
    "    Tab = Tab[1:]\n",
    "    df = Tab.to_pandas()\n",
    "    df2 = df[df[otypename] != 'Object Not Found']\n",
    "    df3 = df2[df2['index'] == index]\n",
    "    if len(df3) != 0:\n",
    "        ra = df3['RA_d'].tolist()\n",
    "        dec = df3['DEC_d'].tolist()\n",
    "        otype = df3[otypename].tolist()\n",
    "        separations = [round(findSeparation(ra1,dec1,origra,origdec),3) for ra1,dec1 in zip(ra,dec)]\n",
    "        rowlist = [[index,source,0,0,x,y,0,0,'magfilter',sep,z] for x,y,z,sep in zip(ra,dec,otype,separations)]\n",
    "    return rowlist"
   ]
  },
  {
   "cell_type": "code",
   "execution_count": 10,
   "metadata": {},
   "outputs": [],
   "source": [
    "def generateRow(Tab,index,origra,origdec,Names,tabType):\n",
    "    rowlist = 'none'\n",
    "    columnNames = Tab.colnames\n",
    "    Tab = Tab[1:]\n",
    "    df = Tab.to_pandas()\n",
    "    if tabType == 'simbad':\n",
    "        df2 = df[df['OTYPE'] != 'Object Not Found']\n",
    "    else:\n",
    "        df2 = df\n",
    "    df3 = df2[df2['index'] == index]\n",
    "    rows = []\n",
    "    astroTab = Table.from_pandas(df3)\n",
    "    #print('tab',index,len(astroTab))\n",
    "    if len(df3) != 0:\n",
    "        for x in range(len(astroTab)):\n",
    "            if tabType != 'simbad':\n",
    "                ra1 = astroTab['RAJ2000'][x]\n",
    "                dec1 = astroTab['DEJ2000'][x]\n",
    "            else:\n",
    "                ra1 = astroTab['RA_d'][x]\n",
    "                dec1 = astroTab['DEC_d'][x]\n",
    "            sep = round(findSeparation(ra1,dec1,origra,origdec),3)\n",
    "            rowlist = [astroTab[name][x] if name in columnNames else '--' for name in Names]\n",
    "            num = Names.index('OBJECT INDEX')\n",
    "            rowlist[num] = index\n",
    "            num = Names.index('SOURCE')\n",
    "            rowlist[num] = tabType\n",
    "            num = Names.index('SEPARATION')\n",
    "            rowlist[num] = sep # linked to order\n",
    "            rows.append(rowlist)\n",
    "        #print('rows',index,len(rows))\n",
    "    if len(rows) != 0:\n",
    "        return rows\n",
    "    else:\n",
    "        return 'none'"
   ]
  },
  {
   "cell_type": "code",
   "execution_count": 11,
   "metadata": {
    "collapsed": true
   },
   "outputs": [],
   "source": [
    "def bigTable(origTab,simbadTab,ps1Tab,wiseTab,lamostTab,commies,epochs):\n",
    "    origra = origTab['RA'].tolist()\n",
    "    origdec = origTab['DEC'].tolist()\n",
    "    origImage = origTab['IMAGE_NAME'].tolist()\n",
    "    xim = origTab['X_IMAGE']\n",
    "    yim = origTab['Y_IMAGE']\n",
    "    origmag = origTab['MAG_BEST']\n",
    "    magDiff = origTab['magDiff']\n",
    "    searchTables = [simbadTab,ps1Tab,wiseTab,lamostTab]\n",
    "    searchTabNames = ['simbad','PS1','AllWiSE','LAMOST']\n",
    "    #result_table = Table([[0],[0],['-'],['-'],[0],[0],[0],['-'],[0]],names=('RA_d','DEC_d','Vmag','CLASS','xcentroid','ycentroid','flux','IMAGE','index'),dtype=('float64','float64','object','object','float64','float64','float64','object','int'))\n",
    "    for x in range(len(origra)):\n",
    "        if x == 0:\n",
    "\n",
    "            namelist = ['OBJECT INDEX','SOURCE','ObjID','X_IMAGE','Y_IMAGE','RA_d','DEC_d','MAG','MAG_DIFF','No of Epochs','Comments',\n",
    "                        'OTYPE','CLASS',\n",
    "                        'magType','SEPARATION','pmRA','pmDE','var','z','Nd','Ns','Epoch','ex','Qual',\n",
    "                        'W1mag','W2mag', 'W3mag', 'W4mag',\n",
    "                        'Kmag','gKmag','rKmag', 'iKmag','zKmag', 'yKmag',   \n",
    "                        'gmag','rmag','imag','zmag','ymag','Jmag', 'Hmag',\n",
    "                        'snrg', 'snri','snru',   'snrz',          \n",
    "                        'Target',  'AllWISE']\n",
    "#             types = ['int','object','float64','float64','float64','float64','float64','float64','object','object','float64',\n",
    "#                      'object','object','object','object','object','object','object','object',\n",
    "#                     'object','object','object','object','object','object','object','object']\n",
    "            types = ['object']*len(namelist)\n",
    "            rowlistOG = [[x],[origImage[x]],['-'],[xim[x]],[yim[x]],[origra[x]],[origdec[x]],[origmag[x]],[magDiff[x]],[epochs[x]],[comments[x]]]\n",
    "            difflen = len(namelist)-len(rowlistOG)\n",
    "            extras = [['--'] for _ in range(difflen)]\n",
    "            rowlistOG.extend(extras)\n",
    "\n",
    "            result_table = Table(rowlistOG,names=namelist,dtype=types)\n",
    "            for tab in range(len(searchTables)):\n",
    "                rowlist = generateRow(searchTables[tab],x,origra[x],origdec[x],namelist,searchTabNames[tab])\n",
    "                if rowlist != 'none':\n",
    "                    for row in rowlist:\n",
    "                        result_table.add_row(row)\n",
    "                        print('working')\n",
    "        else:\n",
    "            rowlistOG = [x,origImage[x],'-',xim[x],yim[x],origra[x],origdec[x],origmag[x],magDiff[x],epochs[x],comments[x]]\n",
    "            difflen = len(namelist)-len(rowlistOG)\n",
    "            extras = ['--' for _ in range(difflen)]\n",
    "            rowlistOG.extend(extras)\n",
    "            result_table.add_row(rowlistOG)\n",
    "            for tab in range(len(searchTables)):\n",
    "                rowlist = generateRow(searchTables[tab],x,origra[x],origdec[x],namelist,searchTabNames[tab])\n",
    "                if rowlist != 'none':\n",
    "                    for row in rowlist:\n",
    "                        result_table.add_row(row)\n",
    "    return result_table"
   ]
  },
  {
   "cell_type": "code",
   "execution_count": 12,
   "metadata": {
    "collapsed": true
   },
   "outputs": [],
   "source": [
    "def getPanStarCutOut(ra,dec):\n",
    "    url = 'https://ps1images.stsci.edu/cgi-bin/ps1cutouts?pos={}%2C{}&filter=color&filter=g&filter=r&filter=i&filter=z&filter=y&filetypes=stack&auxiliary=data&size={}&output_size=0&verbose=0&autoscale=99.500000&catlist='.format(ra,dec,size)\n",
    "    response = requests.get(url)\n",
    "    soup = BeautifulSoup(response.text, 'html.parser')\n",
    "    th = soup.findAll('td')\n",
    "    try:\n",
    "        link = th[1]\n",
    "        downLink = link.findAll('img')\n",
    "        downCut = downLink[0]['src']\n",
    "        loc1 = downCut.find('cgi-bin')\n",
    "        loc2 = downCut.find('=/') + len('=/')\n",
    "        if loc1 != -1:\n",
    "            if loc2 != -1:\n",
    "                newCut = downCut[:loc1] + downCut[loc2:]\n",
    "\n",
    "        loc3 = newCut.find('&')\n",
    "        smallCut = newCut[:loc3]\n",
    "        http = 'https:'+smallCut\n",
    "        print(http)\n",
    "        subprocess.call(['wget','-O','/home/mj1e16/cutOuts/{}'.format(outname),http])\n",
    "    except:\n",
    "        print('WARNING - panstarrs image note found ra = {}, dec = {}'.format(ra,dec))\n"
   ]
  },
  {
   "cell_type": "code",
   "execution_count": 13,
   "metadata": {
    "collapsed": true
   },
   "outputs": [],
   "source": [
    "def XraySearch(tab):\n",
    "    indexref = 'ooo'\n",
    "    chandra = {}\n",
    "    rosat = {}\n",
    "    xmm = {}\n",
    "    for x in range(len(tab)):\n",
    "        index = tab['OBJECT INDEX'][x]\n",
    "        if index != indexref:\n",
    "            RA = tab['RA'][x]\n",
    "            DEC = tab['DEC'][x]\n",
    "            #print(tab['RA_d'][x],tab['DEC_d'][x])\n",
    "            c = SkyCoord(ra=RA*u.deg,dec=DEC*u.deg)\n",
    "            result_table1 = Vizier.query_region(c,radius=2*u.arcsec,catalog='Chandra')\n",
    "            if len(result_table1) > 0:\n",
    "                chandra[str(x)] = result_table1\n",
    "                print('Chandra',result_table1,x)\n",
    "            #print(result_table[0])\n",
    "            result_table2 = Vizier.query_region(c,radius=10*u.arcsec,catalog='Rosat')\n",
    "            if len(result_table2) > 0:\n",
    "                rosat[str(x)] = result_table2\n",
    "                print('Rosat',result_table2,x)\n",
    "            #print(result_table[0])\n",
    "            result_table3 = Vizier.query_region(c,radius=10*u.arcsec,catalog='XMM-Newton')\n",
    "            if len(result_table3) > 0:\n",
    "                xmm[str(x)] = result_table3\n",
    "                print('XMM',result_table3,x)\n",
    "    #             for y in range(len(result_table3)):\n",
    "    #                 print(result_table3[y])\n",
    "        indexref = tab['OBJECT INDEX'][x]\n",
    "    return([chandra,rosat,xmm])"
   ]
  },
  {
   "cell_type": "code",
   "execution_count": 33,
   "metadata": {
    "collapsed": true
   },
   "outputs": [],
   "source": [
    "otherGaiaTab = ascii.read('/home/mj1e16/outTablesImproved/matchplus3Magdiff.csv')"
   ]
  },
  {
   "cell_type": "code",
   "execution_count": 19,
   "metadata": {
    "scrolled": true
   },
   "outputs": [],
   "source": [
    "kepler = otherGaiaTab #ascii.read('/home/mj1e16/outTables15/firstPassTransients15.csv')\n",
    "indexes = range(len(kepler))\n",
    "kepler['OBJECT INDEX'] = indexes\n",
    "xrayobs = XraySearch(kepler)"
   ]
  },
  {
   "cell_type": "code",
   "execution_count": 50,
   "metadata": {},
   "outputs": [
    {
     "data": {
      "text/html": [
       "<div>\n",
       "<style>\n",
       "    .dataframe thead tr:only-child th {\n",
       "        text-align: right;\n",
       "    }\n",
       "\n",
       "    .dataframe thead th {\n",
       "        text-align: left;\n",
       "    }\n",
       "\n",
       "    .dataframe tbody tr th {\n",
       "        vertical-align: top;\n",
       "    }\n",
       "</style>\n",
       "<table border=\"1\" class=\"dataframe\">\n",
       "  <thead>\n",
       "    <tr style=\"text-align: right;\">\n",
       "      <th></th>\n",
       "      <th>MAIN_ID</th>\n",
       "      <th>RA_d</th>\n",
       "      <th>DEC_d</th>\n",
       "      <th>OTYPE</th>\n",
       "      <th>CLASS</th>\n",
       "      <th>X_IMAGE</th>\n",
       "      <th>Y_IMAGE</th>\n",
       "      <th>flux</th>\n",
       "      <th>IMAGE</th>\n",
       "      <th>index</th>\n",
       "    </tr>\n",
       "  </thead>\n",
       "  <tbody>\n",
       "    <tr>\n",
       "      <th>0</th>\n",
       "      <td>-</td>\n",
       "      <td>0</td>\n",
       "      <td>0.0</td>\n",
       "      <td>-</td>\n",
       "      <td>-</td>\n",
       "      <td>0.0</td>\n",
       "      <td>0.0</td>\n",
       "      <td>0.0</td>\n",
       "      <td>-</td>\n",
       "      <td>0.0</td>\n",
       "    </tr>\n",
       "  </tbody>\n",
       "</table>\n",
       "</div>"
      ],
      "text/plain": [
       "  MAIN_ID RA_d  DEC_d OTYPE CLASS  X_IMAGE  Y_IMAGE  flux IMAGE  index\n",
       "0       -    0    0.0     -     -      0.0      0.0   0.0     -    0.0"
      ]
     },
     "execution_count": 50,
     "metadata": {},
     "output_type": "execute_result"
    }
   ],
   "source": [
    "df = simbadSearch.to_pandas()\n",
    "df2 = df[df['OTYPE'] != 'Object Not Found']\n",
    "df2"
   ]
  },
  {
   "cell_type": "code",
   "execution_count": 44,
   "metadata": {},
   "outputs": [
    {
     "data": {
      "text/plain": [
       "'none'"
      ]
     },
     "execution_count": 44,
     "metadata": {},
     "output_type": "execute_result"
    }
   ],
   "source": [
    "LAMOST"
   ]
  },
  {
   "cell_type": "code",
   "execution_count": 34,
   "metadata": {
    "collapsed": true
   },
   "outputs": [],
   "source": [
    "indexes = range(len(otherGaiaTab))\n",
    "otherGaiaTab['OBJECT INDEX'] = indexes"
   ]
  },
  {
   "cell_type": "code",
   "execution_count": 49,
   "metadata": {},
   "outputs": [
    {
     "name": "stdout",
     "output_type": "stream",
     "text": [
      "10\n",
      "INFO: Upgrading Table to masked Table. Use Table.filled() to convert to unmasked table. [astropy.table.table]\n"
     ]
    }
   ],
   "source": [
    "simbadSearch = queryObjectRegion(otherGaiaTab,searchRadius=2*u.arcsec)"
   ]
  },
  {
   "cell_type": "code",
   "execution_count": 39,
   "metadata": {},
   "outputs": [],
   "source": [
    "ps1 = vizierSearch(otherGaiaTab,'PS1')"
   ]
  },
  {
   "cell_type": "code",
   "execution_count": 40,
   "metadata": {},
   "outputs": [],
   "source": [
    "wise = vizierSearch(otherGaiaTab,'AllWiSE')"
   ]
  },
  {
   "cell_type": "code",
   "execution_count": 41,
   "metadata": {
    "collapsed": true
   },
   "outputs": [],
   "source": [
    "LAMOST = vizierSearch(otherGaiaTab,'LAMOST')"
   ]
  },
  {
   "cell_type": "code",
   "execution_count": 42,
   "metadata": {},
   "outputs": [],
   "source": [
    "#var = vizierSearch(bigtab,'J/AJ/156/241/')"
   ]
  },
  {
   "cell_type": "code",
   "execution_count": 46,
   "metadata": {
    "collapsed": true
   },
   "outputs": [],
   "source": [
    "comments = ['Very Elongated, Likely noise','Probable Transient','Probable Transient','Easily visible counterpart',\n",
    "            'Easily visible counterpart','Easily visible counterpart','Easily visible counterpart','Easily visible counterpart',\n",
    "           't shaped, possibly noise','Likely noise','Easily visible counterpart','Easily visible counterpart',\n",
    "            'Strange shape, likely noise','Strange shape, likely noise','Probable transient','Counterpart visible in median image but not in PanSTARRS',\n",
    "           'Possible transient, chance of a visible counterpart','Probable transient','Strange shape, likely noise',\n",
    "           'Saturated counterpart','Probable transient','Easily visible counterpart','Very elongated, probably noise',\n",
    "           'Easily visible counterpart','Probable transient','probable transient','Easily visible counterpart','Possible transient',\n",
    "           'Probable transient','Probable transient','Easily visible counterpart','Easily visible counterpart','Easily visible counterpart',\n",
    "           'Possible transient','Probable transient','Easily visible counterpart']"
   ]
  },
  {
   "cell_type": "code",
   "execution_count": 47,
   "metadata": {
    "collapsed": true
   },
   "outputs": [],
   "source": [
    "epochs = [1, 1, 1, 52, 52, 52, 52, 52, 1, 1, 14, 51, 1, 1, 1, 1, 1, 1, 1, 41, 1, 1, 1, 52, 1, 1, 52, 1, 1, 1, 52, 52, 52, 1, 1, 3]"
   ]
  },
  {
   "cell_type": "code",
   "execution_count": 52,
   "metadata": {
    "collapsed": true
   },
   "outputs": [],
   "source": [
    "emptyTab = Table.from_pandas(df2)"
   ]
  },
  {
   "cell_type": "code",
   "execution_count": 53,
   "metadata": {},
   "outputs": [],
   "source": [
    "simbadSearch = emptyTab\n",
    "LAMOST = emptyTab"
   ]
  },
  {
   "cell_type": "code",
   "execution_count": 47,
   "metadata": {
    "collapsed": true
   },
   "outputs": [],
   "source": [
    "comments = ['--' for x in range(len(otherGaiaTab))]\n",
    "epochs =  [1 for x in range(len(otherGaiaTab))]"
   ]
  },
  {
   "cell_type": "code",
   "execution_count": 54,
   "metadata": {},
   "outputs": [],
   "source": [
    "newBigTab = bigTable(otherGaiaTab,simbadSearch,ps1,wise,LAMOST,comments,epochs)"
   ]
  },
  {
   "cell_type": "code",
   "execution_count": 660,
   "metadata": {
    "collapsed": true
   },
   "outputs": [],
   "source": [
    "ascii.write(newBigTab,'/home/mj1e16/outTablesImproved/newbigtab.csv',format='csv',fast_writer=False)\n"
   ]
  },
  {
   "cell_type": "code",
   "execution_count": 55,
   "metadata": {},
   "outputs": [
    {
     "data": {
      "text/html": [
       "&lt;Table length=93&gt;\n",
       "<table id=\"table140686529174608\" class=\"table-striped table-bordered table-condensed\">\n",
       "<thead><tr><th>OBJECT INDEX</th><th>SOURCE</th><th>ObjID</th><th>X_IMAGE</th><th>Y_IMAGE</th><th>RA_d</th><th>DEC_d</th><th>MAG</th><th>MAG_DIFF</th><th>No of Epochs</th><th>Comments</th><th>OTYPE</th><th>CLASS</th><th>magType</th><th>SEPARATION</th><th>pmRA</th><th>pmDE</th><th>var</th><th>z</th><th>Nd</th><th>Ns</th><th>Epoch</th><th>ex</th><th>Qual</th><th>W1mag</th><th>W2mag</th><th>W3mag</th><th>W4mag</th><th>Kmag</th><th>gKmag</th><th>rKmag</th><th>iKmag</th><th>zKmag</th><th>yKmag</th><th>gmag</th><th>rmag</th><th>imag</th><th>zmag</th><th>ymag</th><th>Jmag</th><th>Hmag</th><th>snrg</th><th>snri</th><th>snru</th><th>snrz</th><th>Target</th><th>AllWISE</th></tr></thead>\n",
       "<thead><tr><th>object</th><th>object</th><th>object</th><th>object</th><th>object</th><th>object</th><th>object</th><th>object</th><th>object</th><th>object</th><th>object</th><th>object</th><th>object</th><th>object</th><th>object</th><th>object</th><th>object</th><th>object</th><th>object</th><th>object</th><th>object</th><th>object</th><th>object</th><th>object</th><th>object</th><th>object</th><th>object</th><th>object</th><th>object</th><th>object</th><th>object</th><th>object</th><th>object</th><th>object</th><th>object</th><th>object</th><th>object</th><th>object</th><th>object</th><th>object</th><th>object</th><th>object</th><th>object</th><th>object</th><th>object</th><th>object</th><th>object</th></tr></thead>\n",
       "<tr><td>0</td><td>kplr2009114174833_ffi-cal.fits[24]</td><td>-</td><td>342.2666</td><td>242.125</td><td>285.683191587</td><td>43.0450402729</td><td>16.8003</td><td>-3.0803900093307286</td><td>1</td><td>--</td><td>--</td><td>--</td><td>--</td><td>--</td><td>--</td><td>--</td><td>--</td><td>--</td><td>--</td><td>--</td><td>--</td><td>--</td><td>--</td><td>--</td><td>--</td><td>--</td><td>--</td><td>--</td><td>--</td><td>--</td><td>--</td><td>--</td><td>--</td><td>--</td><td>--</td><td>--</td><td>--</td><td>--</td><td>--</td><td>--</td><td>--</td><td>--</td><td>--</td><td>--</td><td>--</td><td>--</td></tr>\n",
       "<tr><td>1</td><td>kplr2009114174833_ffi-cal.fits[38]</td><td>-</td><td>683.0833</td><td>458.6268</td><td>288.391329351</td><td>46.0436457164</td><td>15.5744</td><td>-3.817542693056524</td><td>1</td><td>--</td><td>--</td><td>--</td><td>--</td><td>--</td><td>--</td><td>--</td><td>--</td><td>--</td><td>--</td><td>--</td><td>--</td><td>--</td><td>--</td><td>--</td><td>--</td><td>--</td><td>--</td><td>--</td><td>--</td><td>--</td><td>--</td><td>--</td><td>--</td><td>--</td><td>--</td><td>--</td><td>--</td><td>--</td><td>--</td><td>--</td><td>--</td><td>--</td><td>--</td><td>--</td><td>--</td><td>--</td></tr>\n",
       "<tr><td>2</td><td>kplr2009114174833_ffi-cal.fits[58]</td><td>-</td><td>429.9972</td><td>24.7407</td><td>291.908147604</td><td>47.0584971685</td><td>15.7586</td><td>-4.733674110651155</td><td>1</td><td>--</td><td>--</td><td>--</td><td>--</td><td>--</td><td>--</td><td>--</td><td>--</td><td>--</td><td>--</td><td>--</td><td>--</td><td>--</td><td>--</td><td>--</td><td>--</td><td>--</td><td>--</td><td>--</td><td>--</td><td>--</td><td>--</td><td>--</td><td>--</td><td>--</td><td>--</td><td>--</td><td>--</td><td>--</td><td>--</td><td>--</td><td>--</td><td>--</td><td>--</td><td>--</td><td>--</td><td>--</td></tr>\n",
       "<tr><td>3</td><td>kplr2009114204835_ffi-cal.fits[14]</td><td>-</td><td>318.6326</td><td>850.0745</td><td>281.758279685</td><td>46.7126441695</td><td>16.3501</td><td>-5.658338521792768</td><td>1</td><td>--</td><td>--</td><td>--</td><td>--</td><td>--</td><td>--</td><td>--</td><td>--</td><td>--</td><td>--</td><td>--</td><td>--</td><td>--</td><td>--</td><td>--</td><td>--</td><td>--</td><td>--</td><td>--</td><td>--</td><td>--</td><td>--</td><td>--</td><td>--</td><td>--</td><td>--</td><td>--</td><td>--</td><td>--</td><td>--</td><td>--</td><td>--</td><td>--</td><td>--</td><td>--</td><td>--</td><td>--</td></tr>\n",
       "<tr><td>4</td><td>kplr2009114204835_ffi-cal.fits[15]</td><td>-</td><td>695.7756</td><td>712.7224</td><td>281.60764435</td><td>47.4918680304</td><td>16.7669</td><td>-3.605746252562367</td><td>1</td><td>--</td><td>--</td><td>--</td><td>--</td><td>--</td><td>--</td><td>--</td><td>--</td><td>--</td><td>--</td><td>--</td><td>--</td><td>--</td><td>--</td><td>--</td><td>--</td><td>--</td><td>--</td><td>--</td><td>--</td><td>--</td><td>--</td><td>--</td><td>--</td><td>--</td><td>--</td><td>--</td><td>--</td><td>--</td><td>--</td><td>--</td><td>--</td><td>--</td><td>--</td><td>--</td><td>--</td><td>--</td></tr>\n",
       "<tr><td>5</td><td>kplr2009114204835_ffi-cal.fits[2]</td><td>-</td><td>872.8135</td><td>244.0135</td><td>283.143048883</td><td>43.8178082207</td><td>16.7253</td><td>-5.278683792538309</td><td>1</td><td>--</td><td>--</td><td>--</td><td>--</td><td>--</td><td>--</td><td>--</td><td>--</td><td>--</td><td>--</td><td>--</td><td>--</td><td>--</td><td>--</td><td>--</td><td>--</td><td>--</td><td>--</td><td>--</td><td>--</td><td>--</td><td>--</td><td>--</td><td>--</td><td>--</td><td>--</td><td>--</td><td>--</td><td>--</td><td>--</td><td>--</td><td>--</td><td>--</td><td>--</td><td>--</td><td>--</td><td>--</td></tr>\n",
       "<tr><td>6</td><td>kplr2009114204835_ffi-cal.fits[34]</td><td>-</td><td>748.9758</td><td>808.0461</td><td>285.689076088</td><td>48.7216190609</td><td>16.9139</td><td>-3.1348216901835055</td><td>1</td><td>--</td><td>--</td><td>--</td><td>--</td><td>--</td><td>--</td><td>--</td><td>--</td><td>--</td><td>--</td><td>--</td><td>--</td><td>--</td><td>--</td><td>--</td><td>--</td><td>--</td><td>--</td><td>--</td><td>--</td><td>--</td><td>--</td><td>--</td><td>--</td><td>--</td><td>--</td><td>--</td><td>--</td><td>--</td><td>--</td><td>--</td><td>--</td><td>--</td><td>--</td><td>--</td><td>--</td><td>--</td></tr>\n",
       "<tr><td>7</td><td>kplr2009114204835_ffi-cal.fits[55]</td><td>-</td><td>138.0509</td><td>863.371</td><td>287.913185827</td><td>50.4314229628</td><td>16.2629</td><td>-3.230583337813577</td><td>1</td><td>--</td><td>--</td><td>--</td><td>--</td><td>--</td><td>--</td><td>--</td><td>--</td><td>--</td><td>--</td><td>--</td><td>--</td><td>--</td><td>--</td><td>--</td><td>--</td><td>--</td><td>--</td><td>--</td><td>--</td><td>--</td><td>--</td><td>--</td><td>--</td><td>--</td><td>--</td><td>--</td><td>--</td><td>--</td><td>--</td><td>--</td><td>--</td><td>--</td><td>--</td><td>--</td><td>--</td><td>--</td></tr>\n",
       "<tr><td>8</td><td>kplr2009114204835_ffi-cal.fits[5]</td><td>-</td><td>392.062</td><td>72.952</td><td>284.837718718</td><td>42.5143291681</td><td>16.7641</td><td>-3.748741535732072</td><td>1</td><td>--</td><td>--</td><td>--</td><td>--</td><td>--</td><td>--</td><td>--</td><td>--</td><td>--</td><td>--</td><td>--</td><td>--</td><td>--</td><td>--</td><td>--</td><td>--</td><td>--</td><td>--</td><td>--</td><td>--</td><td>--</td><td>--</td><td>--</td><td>--</td><td>--</td><td>--</td><td>--</td><td>--</td><td>--</td><td>--</td><td>--</td><td>--</td><td>--</td><td>--</td><td>--</td><td>--</td><td>--</td></tr>\n",
       "<tr><td>9</td><td>kplr2009115053616_ffi-cal.fits[79]</td><td>-</td><td>41.8771</td><td>591.8858</td><td>297.648810252</td><td>48.7035973991</td><td>15.5568</td><td>-3.1943455034112467</td><td>1</td><td>--</td><td>--</td><td>--</td><td>--</td><td>--</td><td>--</td><td>--</td><td>--</td><td>--</td><td>--</td><td>--</td><td>--</td><td>--</td><td>--</td><td>--</td><td>--</td><td>--</td><td>--</td><td>--</td><td>--</td><td>--</td><td>--</td><td>--</td><td>--</td><td>--</td><td>--</td><td>--</td><td>--</td><td>--</td><td>--</td><td>--</td><td>--</td><td>--</td><td>--</td><td>--</td><td>--</td><td>--</td></tr>\n",
       "<tr><td>...</td><td>...</td><td>...</td><td>...</td><td>...</td><td>...</td><td>...</td><td>...</td><td>...</td><td>...</td><td>...</td><td>...</td><td>...</td><td>...</td><td>...</td><td>...</td><td>...</td><td>...</td><td>...</td><td>...</td><td>...</td><td>...</td><td>...</td><td>...</td><td>...</td><td>...</td><td>...</td><td>...</td><td>...</td><td>...</td><td>...</td><td>...</td><td>...</td><td>...</td><td>...</td><td>...</td><td>...</td><td>...</td><td>...</td><td>...</td><td>...</td><td>...</td><td>...</td><td>...</td><td>...</td><td>...</td><td>...</td></tr>\n",
       "<tr><td>79</td><td>kplr2012310200152_ffi-cal.fits[63]</td><td>-</td><td>637.9263</td><td>641.0758</td><td>287.26145931</td><td>42.1821028517</td><td>16.4968</td><td>-3.0996873448274687</td><td>1</td><td>--</td><td>--</td><td>--</td><td>--</td><td>--</td><td>--</td><td>--</td><td>--</td><td>--</td><td>--</td><td>--</td><td>--</td><td>--</td><td>--</td><td>--</td><td>--</td><td>--</td><td>--</td><td>--</td><td>--</td><td>--</td><td>--</td><td>--</td><td>--</td><td>--</td><td>--</td><td>--</td><td>--</td><td>--</td><td>--</td><td>--</td><td>--</td><td>--</td><td>--</td><td>--</td><td>--</td><td>--</td></tr>\n",
       "<tr><td>80</td><td>kplr2012310200152_ffi-cal.fits[81]</td><td>-</td><td>709.1146</td><td>861.9064</td><td>281.785167395</td><td>43.9376590317</td><td>16.1223</td><td>-4.001434828403051</td><td>1</td><td>--</td><td>--</td><td>--</td><td>--</td><td>--</td><td>--</td><td>--</td><td>--</td><td>--</td><td>--</td><td>--</td><td>--</td><td>--</td><td>--</td><td>--</td><td>--</td><td>--</td><td>--</td><td>--</td><td>--</td><td>--</td><td>--</td><td>--</td><td>--</td><td>--</td><td>--</td><td>--</td><td>--</td><td>--</td><td>--</td><td>--</td><td>--</td><td>--</td><td>--</td><td>--</td><td>--</td><td>--</td></tr>\n",
       "<tr><td>81</td><td>kplr2012341215621_ffi-cal.fits[79]</td><td>-</td><td>918.4687</td><td>236.7626</td><td>283.482903698</td><td>40.4600335813</td><td>16.4529</td><td>-4.035173567916552</td><td>1</td><td>--</td><td>--</td><td>--</td><td>--</td><td>--</td><td>--</td><td>--</td><td>--</td><td>--</td><td>--</td><td>--</td><td>--</td><td>--</td><td>--</td><td>--</td><td>--</td><td>--</td><td>--</td><td>--</td><td>--</td><td>--</td><td>--</td><td>--</td><td>--</td><td>--</td><td>--</td><td>--</td><td>--</td><td>--</td><td>--</td><td>--</td><td>--</td><td>--</td><td>--</td><td>--</td><td>--</td><td>--</td></tr>\n",
       "<tr><td>82</td><td>kplr2012341215621_ffi-cal.fits[80]</td><td>-</td><td>95.9583</td><td>673.8176</td><td>282.893270189</td><td>41.8110595115</td><td>15.9597</td><td>-4.020583996682305</td><td>1</td><td>--</td><td>--</td><td>--</td><td>--</td><td>--</td><td>--</td><td>--</td><td>--</td><td>--</td><td>--</td><td>--</td><td>--</td><td>--</td><td>--</td><td>--</td><td>--</td><td>--</td><td>--</td><td>--</td><td>--</td><td>--</td><td>--</td><td>--</td><td>--</td><td>--</td><td>--</td><td>--</td><td>--</td><td>--</td><td>--</td><td>--</td><td>--</td><td>--</td><td>--</td><td>--</td><td>--</td><td>--</td></tr>\n",
       "<tr><td>83</td><td>kplr2012341215621_ffi-cal.fits[83]</td><td>-</td><td>629.3726</td><td>28.0496</td><td>281.143543895</td><td>42.2860358343</td><td>15.4263</td><td>-3.619695583695708</td><td>1</td><td>--</td><td>--</td><td>--</td><td>--</td><td>--</td><td>--</td><td>--</td><td>--</td><td>--</td><td>--</td><td>--</td><td>--</td><td>--</td><td>--</td><td>--</td><td>--</td><td>--</td><td>--</td><td>--</td><td>--</td><td>--</td><td>--</td><td>--</td><td>--</td><td>--</td><td>--</td><td>--</td><td>--</td><td>--</td><td>--</td><td>--</td><td>--</td><td>--</td><td>--</td><td>--</td><td>--</td><td>--</td></tr>\n",
       "<tr><td>84</td><td>kplr2013038133130_ffi-cal.fits[10]</td><td>-</td><td>153.056</td><td>630.8928</td><td>281.782119777</td><td>46.4040599179</td><td>16.8641</td><td>-4.033798298903636</td><td>1</td><td>--</td><td>--</td><td>--</td><td>--</td><td>--</td><td>--</td><td>--</td><td>--</td><td>--</td><td>--</td><td>--</td><td>--</td><td>--</td><td>--</td><td>--</td><td>--</td><td>--</td><td>--</td><td>--</td><td>--</td><td>--</td><td>--</td><td>--</td><td>--</td><td>--</td><td>--</td><td>--</td><td>--</td><td>--</td><td>--</td><td>--</td><td>--</td><td>--</td><td>--</td><td>--</td><td>--</td><td>--</td></tr>\n",
       "<tr><td>85</td><td>kplr2013038133130_ffi-cal.fits[32]</td><td>-</td><td>559.9858</td><td>122.2803</td><td>280.261314434</td><td>43.2351836751</td><td>16.5804</td><td>-4.786909392373405</td><td>1</td><td>--</td><td>--</td><td>--</td><td>--</td><td>--</td><td>--</td><td>--</td><td>--</td><td>--</td><td>--</td><td>--</td><td>--</td><td>--</td><td>--</td><td>--</td><td>--</td><td>--</td><td>--</td><td>--</td><td>--</td><td>--</td><td>--</td><td>--</td><td>--</td><td>--</td><td>--</td><td>--</td><td>--</td><td>--</td><td>--</td><td>--</td><td>--</td><td>--</td><td>--</td><td>--</td><td>--</td><td>--</td></tr>\n",
       "<tr><td>86</td><td>kplr2013065115251_ffi-cal.fits[11]</td><td>-</td><td>470.9957</td><td>921.9659</td><td>281.548031818</td><td>47.150343004</td><td>16.7903</td><td>-3.2364901556226306</td><td>1</td><td>--</td><td>--</td><td>--</td><td>--</td><td>--</td><td>--</td><td>--</td><td>--</td><td>--</td><td>--</td><td>--</td><td>--</td><td>--</td><td>--</td><td>--</td><td>--</td><td>--</td><td>--</td><td>--</td><td>--</td><td>--</td><td>--</td><td>--</td><td>--</td><td>--</td><td>--</td><td>--</td><td>--</td><td>--</td><td>--</td><td>--</td><td>--</td><td>--</td><td>--</td><td>--</td><td>--</td><td>--</td></tr>\n",
       "<tr><td>87</td><td>kplr2013065115251_ffi-cal.fits[19]</td><td>-</td><td>981.2991</td><td>275.2986</td><td>291.026253578</td><td>49.1180033788</td><td>16.254</td><td>-3.7361359537663135</td><td>1</td><td>--</td><td>--</td><td>--</td><td>--</td><td>--</td><td>--</td><td>--</td><td>--</td><td>--</td><td>--</td><td>--</td><td>--</td><td>--</td><td>--</td><td>--</td><td>--</td><td>--</td><td>--</td><td>--</td><td>--</td><td>--</td><td>--</td><td>--</td><td>--</td><td>--</td><td>--</td><td>--</td><td>--</td><td>--</td><td>--</td><td>--</td><td>--</td><td>--</td><td>--</td><td>--</td><td>--</td><td>--</td></tr>\n",
       "<tr><td>88</td><td>kplr2013098115308_ffi-cal.fits[72]</td><td>-</td><td>997.9131</td><td>973.9734</td><td>286.289070762</td><td>38.9491833522</td><td>15.7695</td><td>-5.771274422159553</td><td>1</td><td>--</td><td>--</td><td>--</td><td>--</td><td>--</td><td>--</td><td>--</td><td>--</td><td>--</td><td>--</td><td>--</td><td>--</td><td>--</td><td>--</td><td>--</td><td>--</td><td>--</td><td>--</td><td>--</td><td>--</td><td>--</td><td>--</td><td>--</td><td>--</td><td>--</td><td>--</td><td>--</td><td>--</td><td>--</td><td>--</td><td>--</td><td>--</td><td>--</td><td>--</td><td>--</td><td>--</td><td>--</td></tr>\n",
       "</table>"
      ],
      "text/plain": [
       "<Table length=93>\n",
       "OBJECT INDEX               SOURCE               ObjID  ...  snrz  Target AllWISE\n",
       "   object                  object               object ... object object  object\n",
       "------------ ---------------------------------- ------ ... ------ ------ -------\n",
       "           0 kplr2009114174833_ffi-cal.fits[24]      - ...     --     --      --\n",
       "           1 kplr2009114174833_ffi-cal.fits[38]      - ...     --     --      --\n",
       "           2 kplr2009114174833_ffi-cal.fits[58]      - ...     --     --      --\n",
       "           3 kplr2009114204835_ffi-cal.fits[14]      - ...     --     --      --\n",
       "           4 kplr2009114204835_ffi-cal.fits[15]      - ...     --     --      --\n",
       "           5  kplr2009114204835_ffi-cal.fits[2]      - ...     --     --      --\n",
       "           6 kplr2009114204835_ffi-cal.fits[34]      - ...     --     --      --\n",
       "           7 kplr2009114204835_ffi-cal.fits[55]      - ...     --     --      --\n",
       "           8  kplr2009114204835_ffi-cal.fits[5]      - ...     --     --      --\n",
       "           9 kplr2009115053616_ffi-cal.fits[79]      - ...     --     --      --\n",
       "         ...                                ...    ... ...    ...    ...     ...\n",
       "          79 kplr2012310200152_ffi-cal.fits[63]      - ...     --     --      --\n",
       "          80 kplr2012310200152_ffi-cal.fits[81]      - ...     --     --      --\n",
       "          81 kplr2012341215621_ffi-cal.fits[79]      - ...     --     --      --\n",
       "          82 kplr2012341215621_ffi-cal.fits[80]      - ...     --     --      --\n",
       "          83 kplr2012341215621_ffi-cal.fits[83]      - ...     --     --      --\n",
       "          84 kplr2013038133130_ffi-cal.fits[10]      - ...     --     --      --\n",
       "          85 kplr2013038133130_ffi-cal.fits[32]      - ...     --     --      --\n",
       "          86 kplr2013065115251_ffi-cal.fits[11]      - ...     --     --      --\n",
       "          87 kplr2013065115251_ffi-cal.fits[19]      - ...     --     --      --\n",
       "          88 kplr2013098115308_ffi-cal.fits[72]      - ...     --     --      --"
      ]
     },
     "execution_count": 55,
     "metadata": {},
     "output_type": "execute_result"
    }
   ],
   "source": [
    "newBigTab"
   ]
  },
  {
   "cell_type": "code",
   "execution_count": null,
   "metadata": {
    "collapsed": true
   },
   "outputs": [],
   "source": []
  }
 ],
 "metadata": {
  "kernelspec": {
   "display_name": "Python 2",
   "language": "python",
   "name": "python2"
  },
  "language_info": {
   "codemirror_mode": {
    "name": "ipython",
    "version": 2
   },
   "file_extension": ".py",
   "mimetype": "text/x-python",
   "name": "python",
   "nbconvert_exporter": "python",
   "pygments_lexer": "ipython2",
   "version": "2.7.13"
  }
 },
 "nbformat": 4,
 "nbformat_minor": 2
}
