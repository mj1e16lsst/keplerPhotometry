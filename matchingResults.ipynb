{
 "cells": [
  {
   "cell_type": "code",
   "execution_count": 13,
   "metadata": {
    "collapsed": true
   },
   "outputs": [],
   "source": [
    "import numpy as np\n",
    "import pandas as pd\n",
    "from astropy.io import ascii\n",
    "from astropy.table import Table, vstack\n",
    "from astropy.coordinates import SkyCoord\n",
    "from astropy import units as u"
   ]
  },
  {
   "cell_type": "code",
   "execution_count": 4,
   "metadata": {
    "collapsed": true
   },
   "outputs": [],
   "source": [
    "tabTot =  ascii.read('/home/mj1e16/keplerPhotometry/sexdiffOutNew.csv')\n",
    "matchTab = ascii.read('/home/mj1e16/outTables/foundObjects_0_686.csv')"
   ]
  },
  {
   "cell_type": "code",
   "execution_count": 89,
   "metadata": {
    "collapsed": true
   },
   "outputs": [],
   "source": [
    "tabMini = tabTot[0:686]"
   ]
  },
  {
   "cell_type": "code",
   "execution_count": 90,
   "metadata": {
    "collapsed": true
   },
   "outputs": [],
   "source": [
    "def findMatches(tabTot,matchTab,arcsec=5./3600.):\n",
    "\n",
    "    matches = 'not matched'\n",
    "    ra1 = matchTab['RA']\n",
    "    dec1 = matchTab['DEC']\n",
    "    idx = []\n",
    "    while len(matches) != 0:\n",
    "        ra2 = tabMini['RA']\n",
    "        dec2 = tabMini['DEC']    \n",
    "        c = SkyCoord(ra=ra1, dec=dec1,unit=(u.hourangle,u.deg),frame='fk5')\n",
    "        catalog = SkyCoord(ra=ra2*u.degree, dec=dec2*u.degree)\n",
    "        idx, d2d, d3d = c.match_to_catalog_sky(catalog)\n",
    "        matches = [x for x in d3d if x < arcsec]\n",
    "        print(len(matches))\n",
    "        tabMini.remove_rows(idx)\n",
    "    return tabMini"
   ]
  },
  {
   "cell_type": "code",
   "execution_count": 91,
   "metadata": {
    "collapsed": false
   },
   "outputs": [
    {
     "name": "stdout",
     "output_type": "stream",
     "text": [
      "247\n",
      "200\n",
      "94\n",
      "24\n",
      "3\n",
      "1\n",
      "0\n"
     ]
    }
   ],
   "source": [
    "transients = findMatches(tabMini,matchTab)"
   ]
  },
  {
   "cell_type": "code",
   "execution_count": 92,
   "metadata": {
    "collapsed": false
   },
   "outputs": [
    {
     "data": {
      "text/html": [
       "&lt;Table length=20&gt;\n",
       "<table id=\"table139928976653904\" class=\"table-striped table-bordered table-condensed\">\n",
       "<thead><tr><th>NUMBER</th><th>MAG_BEST</th><th>FLUX_MAX</th><th>X_IMAGE</th><th>Y_IMAGE</th><th>ELONGATION</th><th>ELLIPTICITY</th><th>RA</th><th>DEC</th></tr></thead>\n",
       "<thead><tr><th>int64</th><th>float64</th><th>float64</th><th>float64</th><th>float64</th><th>float64</th><th>float64</th><th>float64</th><th>float64</th></tr></thead>\n",
       "<tr><td>1</td><td>16.718</td><td>842.1085</td><td>798.3813</td><td>22.72</td><td>1.267</td><td>0.211</td><td>291.99923230095624</td><td>36.981001998651514</td></tr>\n",
       "<tr><td>12</td><td>17.7481</td><td>630.097</td><td>804.2674</td><td>32.9415</td><td>1.273</td><td>0.214</td><td>291.99861915799426</td><td>36.994019960218324</td></tr>\n",
       "<tr><td>17</td><td>16.4478</td><td>549.5877</td><td>1100.755</td><td>50.6813</td><td>1.385</td><td>0.278</td><td>292.3338632264162</td><td>37.18405088927132</td></tr>\n",
       "<tr><td>31</td><td>16.4311</td><td>1251.208</td><td>1098.0214</td><td>44.4437</td><td>1.239</td><td>0.193</td><td>292.3352134369687</td><td>37.17660657764026</td></tr>\n",
       "<tr><td>44</td><td>17.8808</td><td>160.4381</td><td>45.7902</td><td>50.588</td><td>1.125</td><td>0.111</td><td>291.1018481666433</td><td>36.562257055577355</td></tr>\n",
       "<tr><td>52</td><td>16.8561</td><td>686.5604</td><td>975.514</td><td>58.4741</td><td>1.159</td><td>0.138</td><td>292.1808351956574</td><td>37.11821896934868</td></tr>\n",
       "<tr><td>54</td><td>16.629</td><td>1937.498</td><td>974.8822</td><td>64.4008</td><td>1.391</td><td>0.281</td><td>292.1757436700173</td><td>37.123402403552355</td></tr>\n",
       "<tr><td>55</td><td>17.8286</td><td>391.5917</td><td>889.425</td><td>57.245</td><td>1.13</td><td>0.115</td><td>292.08063394157983</td><td>37.066685001605315</td></tr>\n",
       "<tr><td>352</td><td>17.9732</td><td>883.5108</td><td>279.716</td><td>491.9924</td><td>1.297</td><td>0.229</td><td>291.0450000798934</td><td>37.11212303923596</td></tr>\n",
       "<tr><td>365</td><td>17.2255</td><td>1525.945</td><td>250.1164</td><td>470.4203</td><td>1.256</td><td>0.204</td><td>291.02661848730673</td><td>37.07442137616195</td></tr>\n",
       "<tr><td>376</td><td>17.2191</td><td>320.9289</td><td>358.5131</td><td>454.45</td><td>1.216</td><td>0.178</td><td>291.16500005364253</td><td>37.1241093648493</td></tr>\n",
       "<tr><td>386</td><td>17.1608</td><td>845.4128</td><td>251.163</td><td>438.9123</td><td>1.235</td><td>0.191</td><td>291.0513873248513</td><td>37.04574608069532</td></tr>\n",
       "<tr><td>387</td><td>18.7986</td><td>576.0578</td><td>67.1655</td><td>435.8769</td><td>1.313</td><td>0.239</td><td>290.83954903570555</td><td>36.93309833186042</td></tr>\n",
       "<tr><td>418</td><td>16.4665</td><td>844.8618</td><td>462.1395</td><td>387.868</td><td>1.372</td><td>0.271</td><td>291.3356848012014</td><td>37.12365376226264</td></tr>\n",
       "<tr><td>421</td><td>18.0237</td><td>757.254</td><td>61.599</td><td>373.6483</td><td>1.368</td><td>0.269</td><td>290.8796315719268</td><td>36.87197720979667</td></tr>\n",
       "<tr><td>442</td><td>16.7881</td><td>1368.976</td><td>73.5187</td><td>343.897</td><td>1.278</td><td>0.218</td><td>290.91570291210184</td><td>36.85145909116708</td></tr>\n",
       "<tr><td>519</td><td>17.2325</td><td>311.4929</td><td>101.1437</td><td>238.668</td><td>1.334</td><td>0.25</td><td>291.02625481909547</td><td>36.77013796631106</td></tr>\n",
       "<tr><td>549</td><td>17.3515</td><td>413.6165</td><td>163.8901</td><td>219.0437</td><td>1.037</td><td>0.036</td><td>291.1137354626755</td><td>36.78926085715709</td></tr>\n",
       "<tr><td>556</td><td>19.5203</td><td>818.4465</td><td>129.0284</td><td>212.5154</td><td>1.38</td><td>0.275</td><td>291.0780974968573</td><td>36.76243198551161</td></tr>\n",
       "<tr><td>562</td><td>18.8189</td><td>2212.076</td><td>900.0206</td><td>202.5049</td><td>1.425</td><td>0.298</td><td>291.9861949723711</td><td>37.20886768994877</td></tr>\n",
       "</table>"
      ],
      "text/plain": [
       "<Table length=20>\n",
       "NUMBER MAG_BEST FLUX_MAX ... ELLIPTICITY         RA                DEC        \n",
       "int64  float64  float64  ...   float64        float64            float64      \n",
       "------ -------- -------- ... ----------- ------------------ ------------------\n",
       "     1   16.718 842.1085 ...       0.211 291.99923230095624 36.981001998651514\n",
       "    12  17.7481  630.097 ...       0.214 291.99861915799426 36.994019960218324\n",
       "    17  16.4478 549.5877 ...       0.278  292.3338632264162  37.18405088927132\n",
       "    31  16.4311 1251.208 ...       0.193  292.3352134369687  37.17660657764026\n",
       "    44  17.8808 160.4381 ...       0.111  291.1018481666433 36.562257055577355\n",
       "    52  16.8561 686.5604 ...       0.138  292.1808351956574  37.11821896934868\n",
       "    54   16.629 1937.498 ...       0.281  292.1757436700173 37.123402403552355\n",
       "    55  17.8286 391.5917 ...       0.115 292.08063394157983 37.066685001605315\n",
       "   352  17.9732 883.5108 ...       0.229  291.0450000798934  37.11212303923596\n",
       "   365  17.2255 1525.945 ...       0.204 291.02661848730673  37.07442137616195\n",
       "   376  17.2191 320.9289 ...       0.178 291.16500005364253   37.1241093648493\n",
       "   386  17.1608 845.4128 ...       0.191  291.0513873248513  37.04574608069532\n",
       "   387  18.7986 576.0578 ...       0.239 290.83954903570555  36.93309833186042\n",
       "   418  16.4665 844.8618 ...       0.271  291.3356848012014  37.12365376226264\n",
       "   421  18.0237  757.254 ...       0.269  290.8796315719268  36.87197720979667\n",
       "   442  16.7881 1368.976 ...       0.218 290.91570291210184  36.85145909116708\n",
       "   519  17.2325 311.4929 ...        0.25 291.02625481909547  36.77013796631106\n",
       "   549  17.3515 413.6165 ...       0.036  291.1137354626755  36.78926085715709\n",
       "   556  19.5203 818.4465 ...       0.275  291.0780974968573  36.76243198551161\n",
       "   562  18.8189 2212.076 ...       0.298  291.9861949723711  37.20886768994877"
      ]
     },
     "execution_count": 92,
     "metadata": {},
     "output_type": "execute_result"
    }
   ],
   "source": [
    "transients"
   ]
  },
  {
   "cell_type": "code",
   "execution_count": 15,
   "metadata": {
    "collapsed": true
   },
   "outputs": [],
   "source": [
    "ra1 = matchTab['RA']\n",
    "dec1 = matchTab['DEC']\n",
    "ra2 = tabMini['RA']\n",
    "dec2 = tabMini['DEC']"
   ]
  },
  {
   "cell_type": "code",
   "execution_count": 22,
   "metadata": {
    "collapsed": false
   },
   "outputs": [],
   "source": [
    "c = SkyCoord(ra=ra1, dec=dec1,unit=(u.hourangle,u.deg),frame='fk5')\n",
    "catalog = SkyCoord(ra=ra2*u.degree, dec=dec2*u.degree)"
   ]
  },
  {
   "cell_type": "code",
   "execution_count": 29,
   "metadata": {
    "collapsed": false
   },
   "outputs": [],
   "source": [
    "idx, d2d, d3d = c.match_to_catalog_sky(catalog)"
   ]
  },
  {
   "cell_type": "code",
   "execution_count": 54,
   "metadata": {
    "collapsed": true
   },
   "outputs": [],
   "source": [
    "tabMini.remove_rows(idx)"
   ]
  },
  {
   "cell_type": "code",
   "execution_count": 56,
   "metadata": {
    "collapsed": false
   },
   "outputs": [],
   "source": [
    "ra2 = tabMini['RA']\n",
    "dec2 = tabMini['DEC']"
   ]
  },
  {
   "cell_type": "code",
   "execution_count": 57,
   "metadata": {
    "collapsed": true
   },
   "outputs": [],
   "source": [
    "c = SkyCoord(ra=ra1, dec=dec1,unit=(u.hourangle,u.deg),frame='fk5')\n",
    "catalog = SkyCoord(ra=ra2*u.degree, dec=dec2*u.degree)"
   ]
  },
  {
   "cell_type": "code",
   "execution_count": 58,
   "metadata": {
    "collapsed": true
   },
   "outputs": [],
   "source": [
    "idx, d2d, d3d = c.match_to_catalog_sky(catalog)"
   ]
  },
  {
   "cell_type": "code",
   "execution_count": 60,
   "metadata": {
    "collapsed": false
   },
   "outputs": [
    {
     "name": "stdout",
     "output_type": "stream",
     "text": [
      "200\n"
     ]
    }
   ],
   "source": [
    "arsec = 5./3600.\n",
    "matches = [x for x in d3d if x < arcsec]\n",
    "print(len(matches))"
   ]
  },
  {
   "cell_type": "code",
   "execution_count": 61,
   "metadata": {
    "collapsed": false
   },
   "outputs": [
    {
     "data": {
      "text/plain": [
       "[<Quantity 0.00020542>,\n",
       " <Quantity 0.00125349>,\n",
       " <Quantity 0.00121819>,\n",
       " <Quantity 0.00111903>,\n",
       " <Quantity 0.00094634>,\n",
       " <Quantity 0.00085428>,\n",
       " <Quantity 0.00034387>,\n",
       " <Quantity 0.00069817>,\n",
       " <Quantity 0.00099496>,\n",
       " <Quantity 0.00080388>,\n",
       " <Quantity 0.00088228>,\n",
       " <Quantity 0.00065892>,\n",
       " <Quantity 0.00047411>,\n",
       " <Quantity 0.00129287>,\n",
       " <Quantity 0.00026139>,\n",
       " <Quantity 0.00048767>,\n",
       " <Quantity 0.00038938>,\n",
       " <Quantity 0.00104737>,\n",
       " <Quantity 0.00016626>,\n",
       " <Quantity 0.00092745>,\n",
       " <Quantity 0.00123457>,\n",
       " <Quantity 0.00043969>,\n",
       " <Quantity 0.00039738>,\n",
       " <Quantity 0.00137628>,\n",
       " <Quantity 0.00042906>,\n",
       " <Quantity 0.00050936>,\n",
       " <Quantity 0.0006082>,\n",
       " <Quantity 0.00095042>,\n",
       " <Quantity 0.00080817>,\n",
       " <Quantity 0.0002501>,\n",
       " <Quantity 0.00021977>,\n",
       " <Quantity 0.00038833>,\n",
       " <Quantity 0.00052832>,\n",
       " <Quantity 0.00102273>,\n",
       " <Quantity 0.00120393>,\n",
       " <Quantity 0.00086223>,\n",
       " <Quantity 0.00062016>,\n",
       " <Quantity 0.00037391>,\n",
       " <Quantity 0.00017111>,\n",
       " <Quantity 0.00081973>,\n",
       " <Quantity 0.00121019>,\n",
       " <Quantity 0.00115353>,\n",
       " <Quantity 0.00058501>,\n",
       " <Quantity 0.00052964>,\n",
       " <Quantity 0.00038693>,\n",
       " <Quantity 0.00031169>,\n",
       " <Quantity 0.00040081>,\n",
       " <Quantity 0.00083866>,\n",
       " <Quantity 0.00109018>,\n",
       " <Quantity 0.00106698>,\n",
       " <Quantity 0.00060473>,\n",
       " <Quantity 0.00086471>,\n",
       " <Quantity 0.00072851>,\n",
       " <Quantity 0.00129125>,\n",
       " <Quantity 0.00020259>,\n",
       " <Quantity 0.00107511>,\n",
       " <Quantity 0.00072925>,\n",
       " <Quantity 0.00076449>,\n",
       " <Quantity 0.00096072>,\n",
       " <Quantity 0.0008557>,\n",
       " <Quantity 0.00053482>,\n",
       " <Quantity 0.00016997>,\n",
       " <Quantity 0.0006174>,\n",
       " <Quantity 0.00055791>,\n",
       " <Quantity 0.0010984>,\n",
       " <Quantity 0.00099566>,\n",
       " <Quantity 0.00112137>,\n",
       " <Quantity 0.00112137>,\n",
       " <Quantity 0.00093667>,\n",
       " <Quantity 0.00052677>,\n",
       " <Quantity 0.00088155>,\n",
       " <Quantity 0.00027401>,\n",
       " <Quantity 0.00039636>,\n",
       " <Quantity 0.0001913>,\n",
       " <Quantity 0.00101344>,\n",
       " <Quantity 0.00060113>,\n",
       " <Quantity 0.0003788>,\n",
       " <Quantity 0.00029005>,\n",
       " <Quantity 0.00048826>,\n",
       " <Quantity 0.00039815>,\n",
       " <Quantity 0.00034907>,\n",
       " <Quantity 0.00051736>,\n",
       " <Quantity 0.001039>,\n",
       " <Quantity 0.00073112>,\n",
       " <Quantity 0.00060184>,\n",
       " <Quantity 0.00029>,\n",
       " <Quantity 0.00064187>,\n",
       " <Quantity 0.00083922>,\n",
       " <Quantity 0.00078834>,\n",
       " <Quantity 0.00122116>,\n",
       " <Quantity 0.00036482>,\n",
       " <Quantity 0.00040364>,\n",
       " <Quantity 0.00050293>,\n",
       " <Quantity 0.00033867>,\n",
       " <Quantity 0.00020961>,\n",
       " <Quantity 0.00075282>,\n",
       " <Quantity 0.00065344>,\n",
       " <Quantity 0.00064493>,\n",
       " <Quantity 0.0002813>,\n",
       " <Quantity 0.00074865>,\n",
       " <Quantity 0.00018924>,\n",
       " <Quantity 0.00071106>,\n",
       " <Quantity 0.00030242>,\n",
       " <Quantity 0.00019738>,\n",
       " <Quantity 0.00125593>,\n",
       " <Quantity 0.00070273>,\n",
       " <Quantity 0.00083754>,\n",
       " <Quantity 0.00118029>,\n",
       " <Quantity 0.00019072>,\n",
       " <Quantity 0.00087049>,\n",
       " <Quantity 0.00118532>,\n",
       " <Quantity 0.00105865>,\n",
       " <Quantity 0.00026899>,\n",
       " <Quantity 0.00081268>,\n",
       " <Quantity 0.00100679>,\n",
       " <Quantity 0.00041214>,\n",
       " <Quantity 0.00070394>,\n",
       " <Quantity 0.00051555>,\n",
       " <Quantity 0.00052265>,\n",
       " <Quantity 0.00061195>,\n",
       " <Quantity 0.00114663>,\n",
       " <Quantity 0.00090701>,\n",
       " <Quantity 0.00091172>,\n",
       " <Quantity 0.00091172>,\n",
       " <Quantity 0.0012176>,\n",
       " <Quantity 0.00052943>,\n",
       " <Quantity 0.0012684>,\n",
       " <Quantity 0.00076335>,\n",
       " <Quantity 0.00114062>,\n",
       " <Quantity 0.00052188>,\n",
       " <Quantity 0.00032217>,\n",
       " <Quantity 0.00063981>,\n",
       " <Quantity 0.00048178>,\n",
       " <Quantity 0.001137>,\n",
       " <Quantity 0.00055057>,\n",
       " <Quantity 0.00064482>,\n",
       " <Quantity 0.00084429>,\n",
       " <Quantity 0.00122028>,\n",
       " <Quantity 0.00133397>,\n",
       " <Quantity 0.00071882>,\n",
       " <Quantity 0.00032259>,\n",
       " <Quantity 0.00086015>,\n",
       " <Quantity 0.00116496>,\n",
       " <Quantity 0.00111839>,\n",
       " <Quantity 0.00119074>,\n",
       " <Quantity 0.00065369>,\n",
       " <Quantity 0.00087469>,\n",
       " <Quantity 0.00022095>,\n",
       " <Quantity 0.00070594>,\n",
       " <Quantity 0.00026356>,\n",
       " <Quantity 0.00089121>,\n",
       " <Quantity 0.00117015>,\n",
       " <Quantity 0.00068001>,\n",
       " <Quantity 0.00102293>,\n",
       " <Quantity 0.00031027>,\n",
       " <Quantity 0.00095526>,\n",
       " <Quantity 0.00102607>,\n",
       " <Quantity 0.0005835>,\n",
       " <Quantity 0.00032612>,\n",
       " <Quantity 0.00058802>,\n",
       " <Quantity 0.00063436>,\n",
       " <Quantity 0.00065872>,\n",
       " <Quantity 0.00066862>,\n",
       " <Quantity 0.00066862>,\n",
       " <Quantity 0.00066862>,\n",
       " <Quantity 0.00012082>,\n",
       " <Quantity 0.00103731>,\n",
       " <Quantity 0.0007342>,\n",
       " <Quantity 0.00057423>,\n",
       " <Quantity 0.00079947>,\n",
       " <Quantity 0.00036651>,\n",
       " <Quantity 0.0007126>,\n",
       " <Quantity 0.00034069>,\n",
       " <Quantity 0.00043024>,\n",
       " <Quantity 0.00056857>,\n",
       " <Quantity 0.00024339>,\n",
       " <Quantity 0.00024339>,\n",
       " <Quantity 0.00073739>,\n",
       " <Quantity 0.00038902>,\n",
       " <Quantity 0.00059377>,\n",
       " <Quantity 0.00050648>,\n",
       " <Quantity 0.00131715>,\n",
       " <Quantity 0.0011095>,\n",
       " <Quantity 0.00063045>,\n",
       " <Quantity 0.00138852>,\n",
       " <Quantity 0.00076404>,\n",
       " <Quantity 0.00036345>,\n",
       " <Quantity 0.00130895>,\n",
       " <Quantity 0.00101306>,\n",
       " <Quantity 0.00116889>,\n",
       " <Quantity 0.00075731>,\n",
       " <Quantity 0.00094924>,\n",
       " <Quantity 0.0006092>,\n",
       " <Quantity 0.0004359>,\n",
       " <Quantity 0.00097566>,\n",
       " <Quantity 0.00050763>,\n",
       " <Quantity 0.00078393>,\n",
       " <Quantity 0.00065602>,\n",
       " <Quantity 0.00067668>,\n",
       " <Quantity 0.00078738>]"
      ]
     },
     "execution_count": 61,
     "metadata": {},
     "output_type": "execute_result"
    }
   ],
   "source": [
    "matches"
   ]
  },
  {
   "cell_type": "code",
   "execution_count": 62,
   "metadata": {
    "collapsed": false
   },
   "outputs": [
    {
     "name": "stdout",
     "output_type": "stream",
     "text": [
      "0.00138888888889\n"
     ]
    }
   ],
   "source": [
    "print(5./3600.)"
   ]
  },
  {
   "cell_type": "code",
   "execution_count": null,
   "metadata": {
    "collapsed": true
   },
   "outputs": [],
   "source": []
  }
 ],
 "metadata": {
  "kernelspec": {
   "display_name": "Python 2",
   "language": "python",
   "name": "python2"
  },
  "language_info": {
   "codemirror_mode": {
    "name": "ipython",
    "version": 2
   },
   "file_extension": ".py",
   "mimetype": "text/x-python",
   "name": "python",
   "nbconvert_exporter": "python",
   "pygments_lexer": "ipython2",
   "version": "2.7.13"
  }
 },
 "nbformat": 4,
 "nbformat_minor": 2
}
