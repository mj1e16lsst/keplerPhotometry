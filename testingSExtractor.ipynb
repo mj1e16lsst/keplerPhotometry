{
 "cells": [
  {
   "cell_type": "code",
   "execution_count": 1,
   "metadata": {},
   "outputs": [],
   "source": [
    "import os\n",
    "import subprocess\n",
    "from astropy.table import Table\n",
    "from astropy.io import ascii"
   ]
  },
  {
   "cell_type": "code",
   "execution_count": 2,
   "metadata": {
    "collapsed": true
   },
   "outputs": [],
   "source": [
    "# diffDir = '/media/mj1e16/PP AV-TV/properDiff/'\n",
    "# medianDir = '/media/mj1e16/PP AV-TV/medians/'\n",
    "# imageDir = '/media/mj1e16/PP AV-TV/keplerCal/'\n",
    "# sexDir = '/home/mj1e16/sextractor/sextractor-master/config/'"
   ]
  },
  {
   "cell_type": "code",
   "execution_count": 3,
   "metadata": {
    "collapsed": true
   },
   "outputs": [],
   "source": [
    "diffDir = '/data/mj1e16/kepler/properDiff/'\n",
    "medianDir = '/data/mj1e16/kepler/medians/'\n",
    "imageDir = '/data/mj1e16/kepler/cal/'\n",
    "sexDir = '/home/mj1e16/sextractor/sextractor-master/config/'"
   ]
  },
  {
   "cell_type": "code",
   "execution_count": 17,
   "metadata": {
    "collapsed": true
   },
   "outputs": [],
   "source": [
    "def makeDS9RegFile(sexTabList,fileNameBase,tabType,colour='red',radius='2'):\n",
    "    for tables in range(len(sexTabList)):\n",
    "        if tabType == 'dao':\n",
    "            xcoords = sexTabList[tables]['xcentroid']\n",
    "            ycoords = sexTabList[tables]['ycentroid']\n",
    "        elif tabType == 'sexMedian':\n",
    "            ra = sexTabList[tables]['RA']\n",
    "            dec = sexTabList[tables]['DEC']\n",
    "        elif tabType == 'sex':\n",
    "            xcoords = sexTabList[tables]['X_IMAGE']\n",
    "            ycoords = sexTabList[tables]['Y_IMAGE']\n",
    "        elif tabType == 'iraf':\n",
    "            xcoords = sexTabList[tables]['X_POS']\n",
    "            ycoords = sexTabList[tables]['Y_POS']        \n",
    "        else:\n",
    "            print('tab type error')\n",
    "            break\n",
    "        bigString = 'image\\n'\n",
    "        for x in range(len(xcoords)):\n",
    "            bigString += 'circle({},{},'.format(xcoords[x],ycoords[x])+radius+') # color={}\\n'.format(colour)\n",
    "        fileName = fileNameBase + '.reg'\n",
    "        with open(fileName,'w') as f:\n",
    "            f.write(bigString)"
   ]
  },
  {
   "cell_type": "code",
   "execution_count": 24,
   "metadata": {
    "collapsed": true
   },
   "outputs": [],
   "source": [
    "def makeConfig(valList,defaultDir='/home/mj1e16/sextractor/sextractor-master/config/',attributeList=['DETECT_THRESH','DETECT_MINAREA','BACK_SIZE','BACK_FILTERSIZE']):\n",
    "    \n",
    "\n",
    "    with open(defaultDir+'/default_copy.sex','r') as f:\n",
    "        data  = f.read()\n",
    "    \n",
    "    catLocFinder = 'CATALOG_NAME'\n",
    "    catname = 'test_test.cat'\n",
    "    nameLoc = data.find(catLocFinder) + len(catLocFinder)\n",
    "    endLoc = data[nameLoc:].find('#') + nameLoc\n",
    "    newData = data[:nameLoc] + ' '+catname+' ' + data[endLoc:]\n",
    "    data = newData \n",
    "        \n",
    "    for x in range(len(valList)):\n",
    "        nameLoc = data.find(attributeList[0]) + len(attributeList[0])\n",
    "        endLoc = data[nameLoc:].find('#') + nameLoc\n",
    "        newData = data[:nameLoc] + ' '+str(valList[x])+' ' + data[endLoc:]\n",
    "        data = newData    \n",
    "    \n",
    "    \n",
    "    confName = 'default_test.sex'\n",
    "    with open(defaultDir+confName,'w') as f:\n",
    "        f.write(data)\n",
    "    "
   ]
  },
  {
   "cell_type": "code",
   "execution_count": 35,
   "metadata": {
    "collapsed": true
   },
   "outputs": [],
   "source": [
    "def findObjects(valList,atList,image,index):\n",
    "    makeConfig(valList,attributeList=atList)\n",
    "    subprocess.call(['sex',image,'-c','default_test.sex'])\n",
    "    tabTot =  ascii.read('/home/mj1e16//sextractor/sextractor-master/config/test_test.cat')\n",
    "    print(len(tabTot))\n",
    "    makeDS9RegFile([tabTot],'sextest_{}'.format(index),'sex')"
   ]
  },
  {
   "cell_type": "code",
   "execution_count": 48,
   "metadata": {
    "collapsed": true
   },
   "outputs": [],
   "source": [
    "atList = ['FILTER_NAME']\n",
    "#valList = [[],[],[],[],[],[]]\n",
    "\n",
    "#valList = [[5],[7],[9],[11],[13],[15]] best values -dt 8 dma 10 mexhat mexhat_4.0_9x9.conv background does not matter gauss - 'gauss_5.0_9x9.conv' tophat is bad\n",
    "#valList = [[6],[7],[8],[9],[10],[11]] # 7 detect thresh is more complete, 8 is more accurate\n",
    "#valList = [['mexhat_1.5_5x5.conv'],['mexhat_2.0_7x7.conv'],['mexhat_2.5_7x7.conv'],['mexhat_3.0_9x9.conv'],['mexhat_4.0_9x9.conv'],['mexhat_5.0_11x11.conv']]\n",
    "#valList = [['gauss_1.5_3x3.conv'],['gauss_2.0_3x3.conv'],['gauss_2.0_5x5.conv'],['gauss_2.5_5x5.conv'],['gauss_3.0_5x5.conv'],['gauss_3.0_7x7.conv'],['gauss_4.0_7x7.conv'],['gauss_5.0_9x9.conv']]\n",
    "#valList = [['tophat_1.5_3x3.conv'],['tophat_2.0_3x3.conv'],['tophat_2.5_3x3.conv'],['tophat_3.0_3x3.conv'],['tophat_4.0_5x5.conv'],['tophat_5.0_5x5.conv']]\n",
    "valList = [['mexhat_4.0_9x9.conv'],['gauss_5.0_9x9.conv']]\n",
    "image = 'diff_imNo33_channel44_ccd44.fits'"
   ]
  },
  {
   "cell_type": "code",
   "execution_count": 21,
   "metadata": {
    "collapsed": true
   },
   "outputs": [],
   "source": [
    "os.chdir(sexDir)\n"
   ]
  },
  {
   "cell_type": "code",
   "execution_count": 49,
   "metadata": {},
   "outputs": [
    {
     "name": "stdout",
     "output_type": "stream",
     "text": [
      "102\n",
      "65\n"
     ]
    }
   ],
   "source": [
    "for x in range(len(valList)):\n",
    "    findObjects(valList[x],atList,diffDir+image,x)\n"
   ]
  },
  {
   "cell_type": "code",
   "execution_count": 50,
   "metadata": {},
   "outputs": [
    {
     "name": "stdout",
     "output_type": "stream",
     "text": [
      "['ds9', '/data/mj1e16/kepler/properDiff/diff_imNo33_channel44_ccd44.fits', '-regions', 'sextest_0.reg', '-scale', 'mode', 'zscale', '/data/mj1e16/kepler/properDiff/diff_imNo33_channel44_ccd44.fits', '-regions', 'sextest_1.reg', '-scale', 'mode', 'zscale', '-frame', 'lock', 'image']\n"
     ]
    },
    {
     "data": {
      "text/plain": [
       "0"
      ]
     },
     "execution_count": 50,
     "metadata": {},
     "output_type": "execute_result"
    }
   ],
   "source": [
    "command = ['ds9']\n",
    "for x in range(len(valList)):\n",
    "    command.extend([diffDir+image,'-regions','sextest_{}.reg'.format(x),'-scale','mode','zscale'])\n",
    "command.extend(['-frame','lock','image'])\n",
    "print(command)\n",
    "subprocess.call(command)"
   ]
  },
  {
   "cell_type": "code",
   "execution_count": null,
   "metadata": {
    "collapsed": true
   },
   "outputs": [],
   "source": []
  }
 ],
 "metadata": {
  "kernelspec": {
   "display_name": "Python 2",
   "language": "python",
   "name": "python2"
  },
  "language_info": {
   "codemirror_mode": {
    "name": "ipython",
    "version": 2
   },
   "file_extension": ".py",
   "mimetype": "text/x-python",
   "name": "python",
   "nbconvert_exporter": "python",
   "pygments_lexer": "ipython2",
   "version": "2.7.13"
  }
 },
 "nbformat": 4,
 "nbformat_minor": 2
}
