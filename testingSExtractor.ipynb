{
 "cells": [
  {
   "cell_type": "code",
   "execution_count": 9,
   "metadata": {
    "collapsed": false
   },
   "outputs": [],
   "source": [
    "import os\n",
    "import subprocess\n",
    "from astropy.table import Table\n",
    "from astropy.io import ascii"
   ]
  },
  {
   "cell_type": "code",
   "execution_count": 13,
   "metadata": {
    "collapsed": true
   },
   "outputs": [],
   "source": [
    "diffDir = '/media/mj1e16/PP AV-TV/properDiff/'\n",
    "medianDir = '/media/mj1e16/PP AV-TV/medians/'\n",
    "imageDir = '/media/mj1e16/PP AV-TV/keplerCal/'\n",
    "sexDir = '/home/mj1e16/sextractor/sextractor-master/config/'"
   ]
  },
  {
   "cell_type": "code",
   "execution_count": 26,
   "metadata": {
    "collapsed": true
   },
   "outputs": [],
   "source": [
    "def makeDS9RegFile(sexTabList,fileNameBase,tabType,colour='lightgreen',radius='2'):\n",
    "    for tables in range(len(sexTabList)):\n",
    "        if tabType == 'dao':\n",
    "            xcoords = sexTabList[tables]['xcentroid']\n",
    "            ycoords = sexTabList[tables]['ycentroid']\n",
    "        elif tabType == 'sexMedian':\n",
    "            ra = sexTabList[tables]['RA']\n",
    "            dec = sexTabList[tables]['DEC']\n",
    "        elif tabType == 'sex':\n",
    "            xcoords = sexTabList[tables]['X_IMAGE']\n",
    "            ycoords = sexTabList[tables]['Y_IMAGE']\n",
    "        elif tabType == 'iraf':\n",
    "            xcoords = sexTabList[tables]['X_POS']\n",
    "            ycoords = sexTabList[tables]['Y_POS']        \n",
    "        else:\n",
    "            print('tab type error')\n",
    "            break\n",
    "        bigString = 'image\\n'\n",
    "        for x in range(len(xcoords)):\n",
    "            bigString += 'circle({},{},'.format(xcoords[x],ycoords[x])+radius+') # color={}\\n'.format(colour)\n",
    "        fileName = fileNameBase + '.reg'\n",
    "        with open(fileName,'w') as f:\n",
    "            f.write(bigString)"
   ]
  },
  {
   "cell_type": "code",
   "execution_count": 5,
   "metadata": {
    "collapsed": true
   },
   "outputs": [],
   "source": [
    "def makeConfig(valList,defaultDir='/home/mj1e16/sextractor/sextractor-master/config/',attributeList=['DETECT_THRESH','DETECT_MINAREA','BACK_SIZE','BACK_FILTERSIZE']):\n",
    "    \n",
    "\n",
    "    with open(defaultDir+'/default.sex','r') as f:\n",
    "        data  = f.read()\n",
    "    \n",
    "    catLocFinder = 'CATALOG_NAME'\n",
    "    catname = 'test_test.cat'\n",
    "    nameLoc = data.find(catLocFinder) + len(catLocFinder)\n",
    "    endLoc = data[nameLoc:].find('#') + nameLoc\n",
    "    newData = data[:nameLoc] + ' '+catname+' ' + data[endLoc:]\n",
    "    data = newData \n",
    "        \n",
    "    for x in range(len(valList)):\n",
    "        nameLoc = data.find(attributeList[x]) + len(attributeList[x])\n",
    "        endLoc = data[nameLoc:].find('#') + nameLoc\n",
    "        newData = data[:nameLoc] + ' '+str(valList[x])+' ' + data[endLoc:]\n",
    "        data = newData    \n",
    "    \n",
    "    \n",
    "    confName = 'default_test.sex'\n",
    "    with open(defaultDir+confName,'w') as f:\n",
    "        f.write(data)\n",
    "    "
   ]
  },
  {
   "cell_type": "code",
   "execution_count": 18,
   "metadata": {
    "collapsed": true
   },
   "outputs": [],
   "source": [
    "def findObjects(valList,atList,image,index):\n",
    "    makeConfig(valList,attributeList=atList)\n",
    "    subprocess.call(['sex',image,'-c','default_test.sex'])\n",
    "    tabTot =  ascii.read('/home/mj1e16/keplerPhotometry/sexdiffOutNew2.csv')\n",
    "    makeDS9RegFile([tabTot],'sextest_{}'.format(index),'sex')"
   ]
  },
  {
   "cell_type": "code",
   "execution_count": 16,
   "metadata": {
    "collapsed": true
   },
   "outputs": [],
   "source": [
    "atList = ['DETECT_MINAREA']\n",
    "valList = [[5],[7],[9],[11],[13],[15]]\n",
    "image = 'difkplr2011303191211_ffi-cal56.fits'"
   ]
  },
  {
   "cell_type": "code",
   "execution_count": 15,
   "metadata": {
    "collapsed": true
   },
   "outputs": [],
   "source": [
    "os.chdir(sexDir)\n"
   ]
  },
  {
   "cell_type": "code",
   "execution_count": 23,
   "metadata": {
    "collapsed": false
   },
   "outputs": [],
   "source": [
    "for x in range(len(valList)):\n",
    "    findObjects(valList[x],atList,diffDir+image,x)\n"
   ]
  },
  {
   "cell_type": "code",
   "execution_count": 25,
   "metadata": {
    "collapsed": false
   },
   "outputs": [
    {
     "name": "stdout",
     "output_type": "stream",
     "text": [
      "['ds9', '/media/mj1e16/PP AV-TV/keplerCal/kplr2010234192745_ffi-cal.fits', '-regions', 'sextest_0.reg', '/media/mj1e16/PP AV-TV/keplerCal/kplr2010234192745_ffi-cal.fits', '-regions', 'sextest_1.reg', '/media/mj1e16/PP AV-TV/keplerCal/kplr2010234192745_ffi-cal.fits', '-regions', 'sextest_2.reg', '/media/mj1e16/PP AV-TV/keplerCal/kplr2010234192745_ffi-cal.fits', '-regions', 'sextest_3.reg', '/media/mj1e16/PP AV-TV/keplerCal/kplr2010234192745_ffi-cal.fits', '-regions', 'sextest_4.reg', '/media/mj1e16/PP AV-TV/keplerCal/kplr2010234192745_ffi-cal.fits', '-regions', 'sextest_5.reg', '-frame', 'lock', 'image']\n"
     ]
    },
    {
     "data": {
      "text/plain": [
       "0"
      ]
     },
     "execution_count": 25,
     "metadata": {},
     "output_type": "execute_result"
    }
   ],
   "source": [
    "command = ['ds9']\n",
    "for x in range(len(valList)):\n",
    "    command.extend([imageDir+image,'-regions','sextest_{}.reg'.format(x)])\n",
    "command.extend(['-frame','lock','image'])\n",
    "print(command)\n",
    "subprocess.call(command)"
   ]
  },
  {
   "cell_type": "code",
   "execution_count": null,
   "metadata": {
    "collapsed": true
   },
   "outputs": [],
   "source": []
  }
 ],
 "metadata": {
  "kernelspec": {
   "display_name": "Python 2",
   "language": "python",
   "name": "python2"
  },
  "language_info": {
   "codemirror_mode": {
    "name": "ipython",
    "version": 2
   },
   "file_extension": ".py",
   "mimetype": "text/x-python",
   "name": "python",
   "nbconvert_exporter": "python",
   "pygments_lexer": "ipython2",
   "version": "2.7.13"
  }
 },
 "nbformat": 4,
 "nbformat_minor": 2
}
