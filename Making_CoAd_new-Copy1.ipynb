{
 "cells": [
  {
   "cell_type": "code",
   "execution_count": 1,
   "metadata": {
    "collapsed": true
   },
   "outputs": [],
   "source": [
    "import astroprov\n",
    "\n",
    "from astropy.io import fits\n",
    "from astropy.visualization import SqrtStretch\n",
    "from astropy.visualization.mpl_normalize import ImageNormalize\n",
    "from astropy.table import Table\n",
    "from astropy.table import Column\n",
    "from astropy.io import fits\n",
    "from astropy.io.ascii import SExtractor\n",
    "from astropy.coordinates import SkyCoord\n",
    "import astropy.units as u\n",
    "from astropy import wcs\n",
    "\n",
    "from astroquery.simbad import Simbad\n",
    "\n",
    "import numpy as np\n",
    "import matplotlib.pyplot as plt\n",
    "from matplotlib.colors import LogNorm\n",
    "from photutils import DAOStarFinder\n",
    "from photutils import CircularAperture\n",
    "import os\n",
    "import subprocess\n",
    "\n",
    "import image_registration\n",
    "from image_registration import chi2_shift\n",
    "from image_registration.fft_tools import shift"
   ]
  },
  {
   "cell_type": "code",
   "execution_count": 17,
   "metadata": {
    "collapsed": true
   },
   "outputs": [],
   "source": [
    "imageDirectory = '/data/mj1e16/kepler/cal/'\n",
    "dirlist = os.listdir(imageDirectory)\n",
    "dirlist = [x for x in dirlist if x[0] != '.']\n",
    "#dirlist = sort(dirlist)\n",
    "imagelist = [imageDirectory+x for x in dirlist]\n",
    "#print(dirlist)"
   ]
  },
  {
   "cell_type": "code",
   "execution_count": 4,
   "metadata": {
    "collapsed": true
   },
   "outputs": [],
   "source": [
    "def correctExtensionOrder(imageName):\n",
    "    hdu_list = fits.open(imageName)\n",
    "    extensionOrder = np.zeros(len(hdu_list))\n",
    "    for channel in range(1,len(hdu_list)):\n",
    "        hdr = hdu_list[channel].header\n",
    "        location = hdr['SKYGROUP'] # independant location\n",
    "        extensionOrder[location] = channel # ordered from 0-84 channel with extension in place of name\n",
    "    return extensionOrder"
   ]
  },
  {
   "cell_type": "code",
   "execution_count": 5,
   "metadata": {
    "collapsed": true
   },
   "outputs": [],
   "source": [
    "def medianImages(image1,image2,channelOrder1,channelOrder2,outfile): # medianing images 2 at a time as they are large\n",
    "    image_concat = []\n",
    "    medianlist = []\n",
    "    hdu_list_1 = fits.open(image1)\n",
    "    hdu_list_2 = fits.open(image2)\n",
    "    for channel in range(1,len(channelOrder1)):\n",
    "        chanNo1 = int(channelOrder1[channel])\n",
    "        chanNo2 = int(channelOrder2[channel])\n",
    "        \n",
    "        im1 = hdu_list_1[chanNo1].data\n",
    "        im2 = hdu_list_2[chanNo2].data\n",
    "        \n",
    "        yoff,xoff = image_registration.cross_correlation_shifts(im1,im2)\n",
    "        im1_aligned_to_im2 = np.roll(np.roll(im1,int(yoff),1),int(xoff),0)\n",
    "\n",
    "        medianImage = np.median([im2,im1_aligned_to_im2],axis=0)\n",
    "        hdu = fits.PrimaryHDU(medianImage)\n",
    "        hdu.writeto(outfile+'_{}.fits'.format(channel), clobber=True)\n",
    "        medianlist.append(outfile+'_{}.fits'.format(channel))\n",
    "    return outfile"
   ]
  },
  {
   "cell_type": "code",
   "execution_count": 6,
   "metadata": {
    "collapsed": true
   },
   "outputs": [],
   "source": [
    "def reMedian(median,image2,channel,channelOrder2,outfile): # medianing images 2 at a time as they are large\n",
    "    \n",
    "    image_concat = []\n",
    "    hdu_list_1 = fits.open(median)\n",
    "    hdu_list_2 = fits.open(image2)\n",
    "    chanNo2 = int(channelOrder2[channel])\n",
    "    im1 = hdu_list_1[0].data\n",
    "    im2 = hdu_list_2[chanNo2].data\n",
    "    \n",
    "    yoff,xoff = image_registration.cross_correlation_shifts(im1,im2)\n",
    "    im1_aligned_to_im2 = np.roll(np.roll(im1,int(yoff),1),int(xoff),0)\n",
    "    \n",
    "    medianImage = np.median([im2,im1_aligned_to_im2],axis=0)\n",
    "    hdu = fits.PrimaryHDU(medianImage)\n",
    "    hdu.writeto(outfile, clobber=True)\n",
    "    \n",
    "    return outfile"
   ]
  },
  {
   "cell_type": "code",
   "execution_count": null,
   "metadata": {
    "collapsed": true
   },
   "outputs": [],
   "source": []
  },
  {
   "cell_type": "code",
   "execution_count": 7,
   "metadata": {
    "collapsed": true
   },
   "outputs": [],
   "source": [
    "extensionOrders = []\n",
    "for image in imagelist:\n",
    "    extensionOrders.append(correctExtensionOrder(image))"
   ]
  },
  {
   "cell_type": "code",
   "execution_count": 26,
   "metadata": {
    "collapsed": true
   },
   "outputs": [],
   "source": [
    "medianDir = '/data/mj1e16/kepler/newDiff/'\n",
    "medians = os.listdir(medianDir)\n",
    "medians = [x for x in medians if x[0] != '.']\n",
    "medians.sort()"
   ]
  },
  {
   "cell_type": "code",
   "execution_count": 67,
   "metadata": {},
   "outputs": [
    {
     "data": {
      "text/plain": [
       "'/data/mj1e16/kepler/newDiff/median'"
      ]
     },
     "execution_count": 67,
     "metadata": {},
     "output_type": "execute_result"
    }
   ],
   "source": [
    "medianImages(imagelist[0],imagelist[1],extensionOrders[0],extensionOrders[1],'/data/mj1e16/kepler/newDiff/median')"
   ]
  },
  {
   "cell_type": "code",
   "execution_count": 68,
   "metadata": {
    "collapsed": true
   },
   "outputs": [],
   "source": [
    "for imageNo in range(2,len(imagelist)):\n",
    "    for channel in range(1,len(medians)):\n",
    "        medianFile = medianDir+'median_{}.fits'.format(channel)\n",
    "        reMedian(medianFile,imagelist[imageNo],channel,extensionOrders[imageNo],medianFile)"
   ]
  },
  {
   "cell_type": "code",
   "execution_count": null,
   "metadata": {
    "collapsed": true
   },
   "outputs": [],
   "source": [
    "os.chdir('/data/mj1e16/kepler/hotpants-master/')\n",
    "for imNo in range(len(imagelist)):\n",
    "    for channel in range(1,len(medians)):\n",
    "        ccdChannel = int(extensionOrders[imNo][channel])\n",
    "        inim = imagelist[imNo]+'[{}]'.format(ccdChannel)\n",
    "        tmplim = medianDir+'median_{}.fits'.format(channel)\n",
    "        outim = '/data/mj1e16/kepler/properDiff/diff_imNo{}_channel{}.fits'.format(imNo,channel)\n",
    "        subprocess.call(['./hotpants','-inim',inim,'-tmplim',tmplim,'-outim',outim,'-v','0'])"
   ]
  },
  {
   "cell_type": "code",
   "execution_count": null,
   "metadata": {},
   "outputs": [],
   "source": []
  },
  {
   "cell_type": "code",
   "execution_count": null,
   "metadata": {
    "collapsed": true
   },
   "outputs": [],
   "source": []
  }
 ],
 "metadata": {
  "kernelspec": {
   "display_name": "Python 3",
   "language": "python",
   "name": "python3"
  },
  "language_info": {
   "codemirror_mode": {
    "name": "ipython",
    "version": 2
   },
   "file_extension": ".py",
   "mimetype": "text/x-python",
   "name": "python",
   "nbconvert_exporter": "python",
   "pygments_lexer": "ipython2",
   "version": "2.7.13"
  }
 },
 "nbformat": 4,
 "nbformat_minor": 2
}
