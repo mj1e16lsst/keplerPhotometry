{
 "cells": [
  {
   "cell_type": "code",
   "execution_count": 43,
   "metadata": {
    "collapsed": true
   },
   "outputs": [],
   "source": [
    "import astroprov\n",
    "from astropy.io import fits\n",
    "from astropy.io.ascii import SExtractor\n",
    "from astropy.stats import sigma_clipped_stats\n",
    "from astropy.coordinates import SkyCoord\n",
    "import astropy.units as u\n",
    "import matplotlib.pyplot as plt\n",
    "import numpy as np\n",
    "import os\n",
    "from photutils import DAOStarFinder\n",
    "from photutils import CircularAperture\n",
    "from photutils import aperture_photometry\n",
    "#import subproc\n",
    "\n",
    "import numpy as np\n",
    "from astropy import wcs\n",
    "from astropy.io import fits\n",
    "import sys\n",
    "\n",
    "from astroquery.simbad import Simbad\n",
    "\n",
    "import matplotlib.pyplot as plt\n",
    "from astropy.visualization import SqrtStretch\n",
    "from astropy.visualization.mpl_normalize import ImageNormalize\n",
    "from astropy.table import Table\n",
    "from astropy.table import Column\n",
    "\n",
    "import collections\n",
    "import subprocess\n",
    "\n",
    "import time\n",
    "from multiprocessing import Pool"
   ]
  },
  {
   "cell_type": "code",
   "execution_count": 2,
   "metadata": {
    "collapsed": true
   },
   "outputs": [],
   "source": [
    "imagedirectory = '/home/mj1e16/keplerImages'\n",
    "\n",
    "newImagelist = []\n",
    "Image = os.listdir(imagedirectory)\n",
    "for i, item in enumerate(Image):\n",
    "    if item.find('.fits') != -1:\n",
    "        #print(i,Image[i].find('.fits'))\n",
    "        newImagelist.append(item)\n",
    "Image = newImagelist\n",
    "\n",
    "\n",
    "FWHM = 5.0\n",
    "MinSep = 0.8 #sets value for discriminating sources\n",
    "N = len(Image) #number of images minus 1 as it starts from zero\n",
    "imno = 0\n",
    "imagedata = []\n",
    "sources = dict()\n",
    "Date = []\n",
    "STD = []\n",
    "Median = []\n",
    "\n",
    "\n",
    "os.chdir(imagedirectory)\n",
    "def daoStarFinder(imagename):\n",
    "    \"\"\"\n",
    "    Locates and measures the brightness of all objects in the image as well as the sky background\n",
    "    and other image data.\n",
    "\n",
    "    :param imagenumber: Position of image in directory\n",
    "    :return: Table of object data, date of observation, image data for backround calculation\n",
    "    \"\"\"\n",
    "    #print(Image[imagenumber])\n",
    "    hdu_list = fits.open(imagename) # open image header\n",
    "    imagedata = (hdu_list[0].data) \n",
    "    mean, median, std = sigma_clipped_stats(imagedata, sigma=3.0, iters=5) \n",
    "    Median.append(median)\n",
    "    STD.append(std)\n",
    "    daofind = DAOStarFinder(fwhm=FWHM, threshold=5.*std) # iraf star finder \n",
    "    Sources = daofind(imagedata - median)\n",
    "    #Date = (hdu_list[0].header['MJD'])\n",
    "    output = {}\n",
    "    output[0] = Sources\n",
    "    output[1] = Date\n",
    "    output[2] = imagedata\n",
    "    \n",
    "#     fig, ax = plt.subplots(figsize=(10, 10))\n",
    "#     positions = (output[0]['xcentroid'], output[0]['ycentroid'])\n",
    "#     apertures = CircularAperture(positions, r=4.)\n",
    "#     norm = ImageNormalize(stretch=SqrtStretch())\n",
    "#     ax.imshow(imagedata, cmap='Greys', origin='lower', vmin=-100,vmax=100)#norm=norm)\n",
    "#     apertures.plot(color='blue', lw=1.5, alpha=0.5)\n",
    "#     plt.savefig('fits.png',dpi=100)\n",
    "#     plt.show()\n",
    "    \n",
    "    \n",
    "    \n",
    "#     os.chdir(bindingsdirectory)\n",
    "#     astroprov.provcall([imagenumber],[output[0],output[1],output[2]],\"daoStarFinder_PythonCode2Images_SQ_tmpl.provn\",\"daoStarFinder\")\n",
    "#     os.chdir(imagedirectory)\n",
    "    return output\n",
    "\n",
    "\n"
   ]
  },
  {
   "cell_type": "code",
   "execution_count": 3,
   "metadata": {
    "collapsed": true
   },
   "outputs": [],
   "source": [
    "def load_wcs_from_file(filename,pixCoord):\n",
    "    # Load the FITS hdulist using astropy.io.fits\n",
    "    hdulist = fits.open(filename)\n",
    "\n",
    "    # Parse the WCS keywords in the primary HDU\n",
    "    w = wcs.WCS(hdulist[0].header)\n",
    "\n",
    "    # Print out the \"name\" of the WCS, as defined in the FITS header\n",
    "    #print(w.wcs.name)\n",
    "\n",
    "    # Print out all of the settings that were parsed from the header\n",
    "    w.wcs.print_contents()\n",
    "\n",
    "    # Three pixel coordinates of interest.\n",
    "    # Note we've silently assumed a NAXIS=2 image here.\n",
    "    # Note also that the pixel coordinates are pairs of [X, Y], \n",
    "    # and since WCS built from FITS header automatically has\n",
    "    # origin set to 1, [0, 0] is actually not inside the image.\n",
    "    pixcrd = np.array(pixCoord, dtype=np.float_)\n",
    "\n",
    "    # Convert pixel coordinates to world coordinates\n",
    "    # The second argument is \"origin\" -- in this case we're declaring we\n",
    "    # have 1-based (Fortran-like) coordinates.\n",
    "    world = w.wcs_pix2world(pixcrd, 1)\n",
    "    #print(world)\n",
    "    return(world)\n",
    "#     # Convert the same coordinates back to pixel coordinates.\n",
    "#     pixcrd2 = w.wcs_world2pix(world, 1)\n",
    "#     print(pixcrd2)\n",
    "\n",
    "#     # These should be the same as the original pixel coordinates, modulo\n",
    "#     # some floating-point error.\n",
    "#     assert np.max(np.abs(pixcrd - pixcrd2)) < 1e-6\n",
    "\n",
    "\n"
   ]
  },
  {
   "cell_type": "code",
   "execution_count": 4,
   "metadata": {
    "collapsed": true
   },
   "outputs": [],
   "source": [
    "def queryObjectRegion(outputTable,imageName,inCat):\n",
    "    imageCoords = []\n",
    "    r = 1*u.arcminute\n",
    "    \n",
    "    if inCat == 'dao':\n",
    "        xlabel = 'xcentroid'\n",
    "        ylabel = 'ycentroid'\n",
    "        label = 'id'\n",
    "        \n",
    "    if inCat == 'sex':\n",
    "        xlabel = 'X_IMAGE'\n",
    "        ylabel = 'Y_IMAGE'\n",
    "        label = 'NUMBER'\n",
    "        \n",
    "    tableLength = outputTable[label][-1]\n",
    "    for x in range(tableLength):\n",
    "        xpos = outputTable[xlabel][x]\n",
    "        ypos = outputTable[ylabel][x]\n",
    "        if 20 < ypos < 1040:\n",
    "            if 12 < xpos < 1110:\n",
    "                imageCoords.append([xpos,ypos])\n",
    "                # this may need to change per image but I hope not\n",
    "\n",
    "    coords = load_wcs_from_file(imageName,imageCoords)\n",
    "    customSimbad = Simbad()\n",
    "    customSimbad.add_votable_fields('ra(d)','dec(d)','otype')\n",
    "    customSimbad.remove_votable_fields('coordinates')\n",
    "            \n",
    "    result_table = Table([['-'],[0],[0],['-'],[0],[0]],names=('MAIN_ID','RA_d','DEC_d','OTYPE','xcentroid','ycentroid'),dtype=('object','float64','float64','object','float64','float64'))\n",
    "\n",
    "    for x in range(len(imageCoords)):\n",
    "        try:\n",
    "            c = SkyCoord(coords[x][0],coords[x][1],frame='icrs',unit='deg')\n",
    "            rt = customSimbad.query_region(c,radius=r)\n",
    "            rowlist = []\n",
    "            for y in range(len(rt[0])):\n",
    "                rowlist.append(rt[0][y])\n",
    "            rowlist.append(imageCoords[x][0])\n",
    "            rowlist.append(imageCoords[x][1])\n",
    "            result_table.add_row(rowlist)\n",
    "\n",
    "        except:\n",
    "            result_table.add_row(['N/A',[0],[0],'Possible Transient',[imageCoords[x][0]],[imageCoords[x][1]]])\n",
    "    \n",
    "#     hdu_list = fits.open(imageName)\n",
    "#     imagedata = (hdu_list[0].data) \n",
    "#     fig, ax = plt.subplots(figsize=(10, 10))\n",
    "#     positions = (outputTable[xlabel], outputTable[ylabel])\n",
    "#     apertures = CircularAperture(positions, r=4.)\n",
    "#     norm = ImageNormalize(stretch=SqrtStretch())\n",
    "#     ax.imshow(imagedata, cmap='Greys', origin='lower', vmin=-100,vmax=100)#norm=norm)\n",
    "#     apertures.plot(color='blue', lw=1.5, alpha=0.5)\n",
    "#     #plt.savefig('fits.png',dpi=100)\n",
    "#     plt.show()\n",
    "    \n",
    "    return result_table"
   ]
  },
  {
   "cell_type": "code",
   "execution_count": 5,
   "metadata": {
    "collapsed": true
   },
   "outputs": [],
   "source": [
    "def alterDefault(defaultDir,valList,attributeList):\n",
    "    \n",
    "    with open(defaultDir+'/default.sex','r') as f:\n",
    "        data  = f.read()\n",
    "    for x in range(len(valList)):\n",
    "        nameLoc = data.find(attributeList[x]) + len(attributeList[x])\n",
    "        endLoc = data[nameLoc:].find('#') + nameLoc\n",
    "        newData = data[:nameLoc] + ' '+str(valList[x])+' ' + data[endLoc:]\n",
    "        data = newData\n",
    "        \n",
    "    with open(defaultDir+'/default.sex','w') as f:\n",
    "        f.write(data)"
   ]
  },
  {
   "cell_type": "code",
   "execution_count": 7,
   "metadata": {
    "collapsed": true
   },
   "outputs": [],
   "source": [
    "def sextractor(sextractoryDir,imagename,cataloguename):\n",
    "    os.chdir(sextractoryDir)\n",
    "    subprocess.call(['sex',imagename])\n",
    "    assoc = Table.read(cataloguename,format='ascii.sextractor')\n",
    "\n",
    "    os.chdir('/home/mj1e16/keplerImages/')\n",
    "    hdu_list = fits.open(imagename[:-3]) # open image header\n",
    "    imagedata = (hdu_list[0].data) \n",
    "    \n",
    "#     fig, ax = plt.subplots(figsize=(10, 10))\n",
    "#     positions = (assoc['X_IMAGE'], assoc['Y_IMAGE'])\n",
    "#     apertures = CircularAperture(positions, r=4.)\n",
    "#     norm = ImageNormalize(stretch=SqrtStretch())\n",
    "#     ax.imshow(imagedata, cmap='Greys', origin='lower', vmin=-100,vmax=100)#norm=norm)\n",
    "#     apertures.plot(color='blue', lw=1.5, alpha=0.5)\n",
    "#     #plt.savefig('fits.png',dpi=100)\n",
    "#     plt.show()\n",
    "    return assoc"
   ]
  },
  {
   "cell_type": "code",
   "execution_count": null,
   "metadata": {
    "collapsed": true
   },
   "outputs": [],
   "source": [
    "def sexOutput(defaultDir,valList,attributeList,sextractoryDir,imagename,cataloguename):\n",
    "    \n",
    "    alterDefault(defaultDir,valList,attributeList)\n",
    "    outTab = sextractor(sextractoryDir,imagename,cataloguename)\n",
    "    tableName = '/home/mj1e16/outTablesSex/table'\n",
    "    for x in range(len(valList)):\n",
    "        tableName += '_'+str(valList[x])+'_'\n",
    "    tableName += '.txt'\n",
    "    outTab.write(tableName,format='ecsv')"
   ]
  },
  {
   "cell_type": "code",
   "execution_count": 8,
   "metadata": {
    "collapsed": true
   },
   "outputs": [],
   "source": [
    "def findObjectOccurences(inputTable,columnName):\n",
    "    otype = inputTable[columnName]\n",
    "    otypelist = []\n",
    "    for x in range(len(otype)):\n",
    "        otypelist.append(otype[x])\n",
    "    #print(len(otypelist))\n",
    "    newotype = set(otypelist)\n",
    "    counter = collections.Counter(otypelist)\n",
    "    keys = counter.keys()\n",
    "    values = counter.values()\n",
    "    occurenceDict = dict(zip(keys,values))\n",
    "    od = collections.OrderedDict(sorted(occurenceDict.items()))\n",
    "    return od"
   ]
  },
  {
   "cell_type": "code",
   "execution_count": 9,
   "metadata": {
    "collapsed": true
   },
   "outputs": [],
   "source": [
    "def foundInBoth(daoTable,sexTable):\n",
    "    \n",
    "    # currently works after both have been checked through vizier - change sex x and y labels to X_IMAGE and Y_IMAGE otherwise\n",
    "    simdifsize = 5\n",
    "    \n",
    "    daox = daoTable['xcentroid'].tolist()\n",
    "    #daox = [round(x,1) for x in daox]\n",
    "    daoy = daoTable['ycentroid'].tolist()\n",
    "    #daoy = [round(x,1) for x in daoy]\n",
    "    #daocoords = zip(daox,daoy)\n",
    "    #print(daocoords)\n",
    "    \n",
    "    sexx = sexTable['xcentroid'].tolist()\n",
    "    #sexx = [round(x,1) for x in sexx]\n",
    "    sexy = sexTable['ycentroid'].tolist()\n",
    "    #sexy = [round(x,1) for x in sexy]\n",
    "\n",
    "    commonIndicies = [[x,y] for x,y,z,v in zip(daox,daoy,sexx,sexy) if z-simdifsize < x < z+simdifsize and v-simdifsize < y < v+simdifsize]\n",
    "    \n",
    "    return commonIndicies"
   ]
  },
  {
   "cell_type": "code",
   "execution_count": 10,
   "metadata": {
    "collapsed": true
   },
   "outputs": [],
   "source": [
    "imageName = 'difkplr2009115080620_ffi-cal57.fits'"
   ]
  },
  {
   "cell_type": "code",
   "execution_count": 20,
   "metadata": {},
   "outputs": [
    {
     "name": "stdout",
     "output_type": "stream",
     "text": [
      "0.254105806351\n"
     ]
    }
   ],
   "source": [
    "t0 = time.time()\n",
    "sextable = sextractor('/home/mj1e16/sextractor/sextractor-master/config/','difkplr2009115080620_ffi-cal57.fits[0]','test.cat')\n",
    "print(time.time()-t0)"
   ]
  },
  {
   "cell_type": "code",
   "execution_count": 51,
   "metadata": {},
   "outputs": [],
   "source": [
    "sextable.write('/home/mj1e16/testtab.txt',format='ascii.ecsv',overwrite=True)"
   ]
  },
  {
   "cell_type": "code",
   "execution_count": 12,
   "metadata": {},
   "outputs": [],
   "source": [
    "output = daoStarFinder('difkplr2009115080620_ffi-cal57.fits')\n",
    "daotable = output[0]\n",
    "Date = output[1]\n",
    "imagedata = output[2]"
   ]
  },
  {
   "cell_type": "code",
   "execution_count": 13,
   "metadata": {
    "collapsed": true
   },
   "outputs": [],
   "source": [
    "#coords = load_wcs_from_file('difkplr2009115080620_ffi-cal57.fits',imageCoords)"
   ]
  },
  {
   "cell_type": "code",
   "execution_count": 14,
   "metadata": {},
   "outputs": [
    {
     "name": "stderr",
     "output_type": "stream",
     "text": [
      "/home/mj1e16/miniconda2/envs/astroconda/lib/python2.7/site-packages/astroquery/simbad/core.py:136: UserWarning: Warning: The script line number 3 raised an error (recorded in the `errors` attribute of the result table): '19:34:18.8953 +47:44:41.8572': No astronomical object found :\n",
      "  (error.line, error.msg))\n",
      "/home/mj1e16/miniconda2/envs/astroconda/lib/python2.7/site-packages/astroquery/simbad/core.py:136: UserWarning: Warning: The script line number 3 raised an error (recorded in the `errors` attribute of the result table): '19:32:04.096 +47:34:21.8359': No astronomical object found :\n",
      "  (error.line, error.msg))\n",
      "/home/mj1e16/miniconda2/envs/astroconda/lib/python2.7/site-packages/astroquery/simbad/core.py:136: UserWarning: Warning: The script line number 3 raised an error (recorded in the `errors` attribute of the result table): '19:31:32.8117 +47:31:20.3122': No astronomical object found :\n",
      "  (error.line, error.msg))\n",
      "/home/mj1e16/miniconda2/envs/astroconda/lib/python2.7/site-packages/astroquery/simbad/core.py:136: UserWarning: Warning: The script line number 3 raised an error (recorded in the `errors` attribute of the result table): '19:32:03.9378 +47:34:54.6691': No astronomical object found :\n",
      "  (error.line, error.msg))\n",
      "/home/mj1e16/miniconda2/envs/astroconda/lib/python2.7/site-packages/astroquery/simbad/core.py:136: UserWarning: Warning: The script line number 3 raised an error (recorded in the `errors` attribute of the result table): '19:33:36.5188 +48:36:44.6276': No astronomical object found :\n",
      "  (error.line, error.msg))\n"
     ]
    }
   ],
   "source": [
    "result_table_dao = queryObjectRegion(daotable,'difkplr2009115080620_ffi-cal57.fits','dao')"
   ]
  },
  {
   "cell_type": "code",
   "execution_count": 15,
   "metadata": {},
   "outputs": [
    {
     "name": "stderr",
     "output_type": "stream",
     "text": [
      "/home/mj1e16/miniconda2/envs/astroconda/lib/python2.7/site-packages/astroquery/simbad/core.py:136: UserWarning: Warning: The script line number 3 raised an error (recorded in the `errors` attribute of the result table): '19:36:08.9234 +48:24:20.7876': No astronomical object found :\n",
      "  (error.line, error.msg))\n",
      "/home/mj1e16/miniconda2/envs/astroconda/lib/python2.7/site-packages/astroquery/simbad/core.py:136: UserWarning: Warning: The script line number 3 raised an error (recorded in the `errors` attribute of the result table): '19:35:07.605 +48:18:11.1485': No astronomical object found :\n",
      "  (error.line, error.msg))\n"
     ]
    }
   ],
   "source": [
    "result_table_sex = queryObjectRegion(sextable,'difkplr2009115080620_ffi-cal57.fits','sex')"
   ]
  },
  {
   "cell_type": "code",
   "execution_count": 16,
   "metadata": {
    "collapsed": true
   },
   "outputs": [],
   "source": [
    "#commonObjects = foundInBoth(result_table_dao,result_table_sex)"
   ]
  },
  {
   "cell_type": "code",
   "execution_count": 36,
   "metadata": {
    "collapsed": true
   },
   "outputs": [],
   "source": [
    "atList = ['DETECT_THRESH','DETECT_MINAREA','BACK_TYPE','BACK_VALUE','BACK_SIZE','BACK_FILTERSIZE']\n",
    "\n",
    "valList = [np.linspace(1.5,5,35),np.linspace(1,20,20),['AUTO','MANUAL'],np.linspace(0,20,40),[16,32,64,128,256,512],[16,32,64,128,256,512]]\n",
    "\n",
    "for x in range(len(atList)):\n",
    "    valueList = []\n",
    "    for y in range(len(valList[x])):\n",
    "        valueList.append(valList[x][y])\n",
    "\n",
    "pool = Pool(6)\n",
    "for x0 in range(len(valList[0])):\n",
    "    for x1 in range(len(valList[1])):\n",
    "        for x2 in range(len(valList[2])):\n",
    "            for x3 in range(len(valList[3])):\n",
    "                for x4 in range(len(valList[4])):\n",
    "                    valueList = [valList[0][x0],valList[1][x1],valList[2][x2],valList[3][x3],valList[4][x4],valList[5][x5]]\n",
    "                    "
   ]
  },
  {
   "cell_type": "code",
   "execution_count": 41,
   "metadata": {},
   "outputs": [
    {
     "name": "stdout",
     "output_type": "stream",
     "text": [
      "336000\n"
     ]
    }
   ],
   "source": [
    "ten = 100 \n",
    "a = 35*20*2*40*6*6/6\n",
    "print(a)"
   ]
  },
  {
   "cell_type": "code",
   "execution_count": 42,
   "metadata": {},
   "outputs": [
    {
     "name": "stdout",
     "output_type": "stream",
     "text": [
      "0.972222222222\n",
      "0.00266179937638\n"
     ]
    }
   ],
   "source": [
    "secs = a*0.25\n",
    "days = secs/86400\n",
    "print(days)\n",
    "years = days/365.25\n",
    "print(years)"
   ]
  },
  {
   "cell_type": "code",
   "execution_count": 16,
   "metadata": {},
   "outputs": [
    {
     "name": "stdout",
     "output_type": "stream",
     "text": [
      "('Sex', OrderedDict([('-', 1), ('Possible Transient', 2482), ('RGB*', 2), ('Radio', 1), ('Star', 8)]))\n",
      "('dao', OrderedDict([('-', 1), ('Eruptive*', 2), ('Possible Transient', 503), ('RGB*', 4), ('RotV*', 1), ('Star', 19)]))\n"
     ]
    }
   ],
   "source": [
    "otypes = findObjectOccurences(result_table_sex,'OTYPE')\n",
    "#otypyes \n",
    "print('Sex',otypes)\n",
    "otypes = findObjectOccurences(result_table_dao,'OTYPE')\n",
    "print('dao',otypes)"
   ]
  },
  {
   "cell_type": "code",
   "execution_count": 17,
   "metadata": {},
   "outputs": [
    {
     "name": "stdout",
     "output_type": "stream",
     "text": [
      "MAIN_ID RA_d DEC_d OTYPE xcentroid ycentroid\n",
      "------- ---- ----- ----- --------- ---------\n"
     ]
    }
   ],
   "source": [
    "mask = (result_table_sex['OTYPE']=='Inexistent')\n",
    "print(result_table_sex[mask])"
   ]
  },
  {
   "cell_type": "code",
   "execution_count": null,
   "metadata": {
    "collapsed": true
   },
   "outputs": [],
   "source": []
  }
 ],
 "metadata": {
  "kernelspec": {
   "display_name": "Python 2",
   "language": "python",
   "name": "python2"
  },
  "language_info": {
   "codemirror_mode": {
    "name": "ipython",
    "version": 2
   },
   "file_extension": ".py",
   "mimetype": "text/x-python",
   "name": "python",
   "nbconvert_exporter": "python",
   "pygments_lexer": "ipython2",
   "version": "2.7.13"
  }
 },
 "nbformat": 4,
 "nbformat_minor": 2
}
