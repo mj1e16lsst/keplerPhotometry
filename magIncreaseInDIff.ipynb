{
 "cells": [
  {
   "cell_type": "code",
   "execution_count": 1,
   "metadata": {
    "collapsed": true
   },
   "outputs": [],
   "source": [
    "import os\n",
    "import subprocess\n",
    "import numpy as np\n",
    "import pandas as pd\n",
    "from astropy.io import ascii\n",
    "from astropy.table import Table, vstack\n",
    "from astropy.coordinates import SkyCoord\n",
    "from astropy import units as u\n",
    "from astropy.io import fits\n",
    "from photutils import CircularAperture\n",
    "from photutils import aperture_photometry"
   ]
  },
  {
   "cell_type": "code",
   "execution_count": 2,
   "metadata": {
    "collapsed": true
   },
   "outputs": [],
   "source": [
    "diffDir = '/media/mj1e16/PP AV-TV/properDiff/'\n",
    "medianDir = '/media/mj1e16/PP AV-TV/medians/'\n",
    "imageDir = '/media/mj1e16/PP AV-TV/keplerCal/'"
   ]
  },
  {
   "cell_type": "code",
   "execution_count": 4,
   "metadata": {
    "collapsed": false
   },
   "outputs": [],
   "source": [
    "diffImages = os.listdir(diffDir)\n",
    "diffImages = [x for x in diffImages if '.fits' in x]\n",
    "\n",
    "medianImages = os.listdir(medianDir)\n",
    "medianImages = [x for x in medianImages if '.fits' in x]\n",
    "\n",
    "images = os.listdir(imageDir)\n",
    "images = [x for x in images if '.fits' in x]"
   ]
  },
  {
   "cell_type": "code",
   "execution_count": 9,
   "metadata": {
    "collapsed": true
   },
   "outputs": [],
   "source": [
    "unmatchedObjects = ascii.read('/home/mj1e16/outTables15/firstPassTransients15.csv')"
   ]
  },
  {
   "cell_type": "code",
   "execution_count": 81,
   "metadata": {
    "collapsed": false
   },
   "outputs": [],
   "source": [
    "xpos = np.array(unmatchedObjects['X_IMAGE'])\n",
    "ypos = np.array(unmatchedObjects['Y_IMAGE'])\n",
    "imname = np.array(unmatchedObjects['NAME'])\n",
    "index = np.array(unmatchedObjects['index'])\n",
    "allnames = np.unique(imname)"
   ]
  },
  {
   "cell_type": "code",
   "execution_count": 34,
   "metadata": {
    "collapsed": true
   },
   "outputs": [],
   "source": [
    "def findName(image,diffDir=diffDir,medianDir=medianDir):\n",
    "    hdu = fits.open(diffDir+image)\n",
    "    head = hdu[0].header['DIFFCMD']\n",
    "    locator1 = '/data/mj1e16/kepler/cal/'\n",
    "    locator2 = ']'\n",
    "    loc1 = head.find(locator1) + len(locator1)\n",
    "    loc2 = head.find(locator2) + 1\n",
    "    imname = head[loc1:loc2]\n",
    "    \n",
    "    channellocator1 = 'channel' \n",
    "    channellocator2 = '_ccd'\n",
    "    ccdlocator1 = 'ccd'\n",
    "    ccdlocator2 = '.fits'\n",
    "    loc1 = image.find(channellocator1) + len(channellocator1)\n",
    "    loc2 = image.find(channellocator2)\n",
    "    channel = image[loc1:loc2]\n",
    "    loc1 = image.find(ccdlocator1) + len(ccdlocator1)\n",
    "    loc2 = image.find(ccdlocator2)\n",
    "    ccd = image[loc1:loc2]\n",
    "    \n",
    "    medianName = 'meidian_{}_{}.fits'.format(channel,ccd)\n",
    "    results = [imname,medianName]\n",
    "    return results"
   ]
  },
  {
   "cell_type": "code",
   "execution_count": 36,
   "metadata": {
    "collapsed": false
   },
   "outputs": [],
   "source": [
    "image2diff = {}\n",
    "image2median = {}\n",
    "for x in diffImages:\n",
    "    results = findName(x)\n",
    "    image2diff[results[0]] = x\n",
    "    image2median[results[0]] = results[1]"
   ]
  },
  {
   "cell_type": "code",
   "execution_count": 85,
   "metadata": {
    "collapsed": false
   },
   "outputs": [
    {
     "name": "stdout",
     "output_type": "stream",
     "text": [
      "(30, 33)\n",
      "10\n"
     ]
    }
   ],
   "source": [
    "#def measureBoth(ra,dec,names,name):\n",
    "name = allnames[0]\n",
    "coords = [(x,y) for x,y,z in zip(xpos,ypos,imname) if z==name]\n",
    "namelist = [x for x in imname if x == name]\n",
    "indexing = [x for x,y in zip(index,imname) if y==name]\n",
    "apertures = CircularAperture(coords, r=2.)\n",
    "\n",
    "locator1 = '['\n",
    "locator2 = ']'\n",
    "loc1 = name.find(locator1)\n",
    "loc2 = name.find(locator2)\n",
    "print(loc1,loc2)\n",
    "shortname = name[:loc1]\n",
    "number = int(name[loc1+1:loc2])\n",
    "print(number)\n",
    "\n",
    "hdu = fits.open(imageDir+shortname)\n",
    "data = hdu[number].data\n",
    "phot_table_diff = aperture_photometry(data, apertures)\n",
    "phot_table_diff['name'] = namelist\n",
    "\n",
    "imcounts = np.asarray(phot_table_diff['aperture_sum'])\n",
    "imcounts.tolist()\n",
    "hdu = fits.open(medianDir+image2median[allnames[0]])\n",
    "data = hdu[0].data\n",
    "phot_table_median = aperture_photometry(data, apertures)\n",
    "phot_table_median['name'] = namelist\n",
    "\n",
    "mediancounts = np.asarray(phot_table_median['aperture_sum'])\n",
    "mediancounts.tolist()\n",
    "magdiff = [-2.5*np.log10(x/y) for x,y in zip(imcounts,mediancounts)]"
   ]
  },
  {
   "cell_type": "code",
   "execution_count": 86,
   "metadata": {
    "collapsed": false,
    "scrolled": true
   },
   "outputs": [
    {
     "data": {
      "text/plain": [
       "[-0.00188563682814637,\n",
       " -0.014196617478844003,\n",
       " -0.15387664851563995,\n",
       " -0.0162191958982992,\n",
       " -0.0756499120961481,\n",
       " -0.741003410233525,\n",
       " 0.0001315730112397266,\n",
       " -0.14101224963263997,\n",
       " -0.0795564368950285,\n",
       " -0.023054193395557063,\n",
       " -0.02143638838292886,\n",
       " -0.06799825627979975,\n",
       " -0.08084921437982,\n",
       " -0.01491096595079783,\n",
       " -0.010916447500645788,\n",
       " -0.022033605736506288,\n",
       " -0.0784917112573032,\n",
       " -0.11329236273764884,\n",
       " -0.06182793944697662,\n",
       " -0.09458168139931314,\n",
       " -0.18656909443090622,\n",
       " -0.7658130550550348,\n",
       " -0.012729843697183548,\n",
       " -0.24108443457779977,\n",
       " -0.016978977377919726,\n",
       " -0.04623100684017765,\n",
       " -0.013402042282163157,\n",
       " -0.06278230049493959,\n",
       " -0.015486143773230314,\n",
       " -0.07111609381758158,\n",
       " -0.020642821368611904,\n",
       " -0.11127936454841565,\n",
       " -0.07650497125231494,\n",
       " -0.00795431581255603,\n",
       " -0.042622335151258774,\n",
       " -0.06435288705935525,\n",
       " -0.15263580792231815,\n",
       " -0.07114003819971736,\n",
       " -0.1413898475392896,\n",
       " -0.015727859589081645,\n",
       " -0.022634672463675776,\n",
       " -0.006745258838685782,\n",
       " -0.06260669971878331,\n",
       " -0.057594089913083846,\n",
       " -0.15262218015465584,\n",
       " -0.20609415937396947,\n",
       " -0.014202736334859394,\n",
       " -0.1936248260153402,\n",
       " -0.09247086737122891,\n",
       " -0.08667157335842013,\n",
       " -0.01360802502956988,\n",
       " -0.01034236777984812,\n",
       " -0.0141609853210009,\n",
       " -0.013032611753644518,\n",
       " -0.017698864119729464,\n",
       " -0.013372937030041422,\n",
       " -0.014320629617084043,\n",
       " -0.014738393655449725,\n",
       " -0.01766310966398025,\n",
       " -0.014806321606739479,\n",
       " -0.014541106720927744,\n",
       " -0.11576442860207867,\n",
       " -0.05010557885268821,\n",
       " -0.015560245683031423,\n",
       " -0.020077504954669645,\n",
       " -0.017216842834925666,\n",
       " -0.09304707424685071,\n",
       " -0.025535517082383236,\n",
       " -0.052462728413121,\n",
       " -0.09340725687112404,\n",
       " -0.06492943281244035,\n",
       " -0.13266466489625528,\n",
       " -0.059223965367224476,\n",
       " -0.019469775651800664,\n",
       " -0.018559208890020953,\n",
       " -0.016268076703020155,\n",
       " -0.03443511795618911,\n",
       " -0.340964489458018,\n",
       " -0.07822265679637597,\n",
       " -0.13604542677700543,\n",
       " -0.02100686342846322,\n",
       " -0.011874313004077156,\n",
       " -0.018268189475485835,\n",
       " -0.013831592300123539,\n",
       " -0.038547457261148575,\n",
       " -0.06708119281133355,\n",
       " -0.02198593003702294,\n",
       " -0.019988790705907394,\n",
       " -0.04878737048922523,\n",
       " -0.1343251665829711,\n",
       " -0.06173760668845282,\n",
       " -0.02912324968423427,\n",
       " -0.20948338353260484,\n",
       " -0.10566624486104405,\n",
       " -0.04736735689291384,\n",
       " -0.001839682366583872,\n",
       " -0.015042387770938234,\n",
       " -0.25144810344571156,\n",
       " -0.10719209943195195]"
      ]
     },
     "execution_count": 86,
     "metadata": {},
     "output_type": "execute_result"
    }
   ],
   "source": [
    "magdiff"
   ]
  },
  {
   "cell_type": "code",
   "execution_count": 80,
   "metadata": {
    "collapsed": false
   },
   "outputs": [
    {
     "data": {
      "text/html": [
       "&lt;QTable length=99&gt;\n",
       "<table id=\"table139913829197200\" class=\"table-striped table-bordered table-condensed\">\n",
       "<thead><tr><th>id</th><th>xcenter</th><th>ycenter</th><th>aperture_sum</th><th>name</th></tr></thead>\n",
       "<thead><tr><th></th><th>pix</th><th>pix</th><th></th><th></th></tr></thead>\n",
       "<thead><tr><th>int64</th><th>float64</th><th>float64</th><th>float64</th><th>str34</th></tr></thead>\n",
       "<tr><td>1</td><td>1031.4093</td><td>24.3685</td><td>270882.05309663335</td><td>kplr2009114174833_ffi-cal.fits[10]</td></tr>\n",
       "<tr><td>2</td><td>322.944</td><td>23.0232</td><td>24867.044537262434</td><td>kplr2009114174833_ffi-cal.fits[10]</td></tr>\n",
       "<tr><td>3</td><td>1094.0135</td><td>42.9983</td><td>2574.558000088245</td><td>kplr2009114174833_ffi-cal.fits[10]</td></tr>\n",
       "<tr><td>4</td><td>468.0434</td><td>51.0944</td><td>34852.41238119573</td><td>kplr2009114174833_ffi-cal.fits[10]</td></tr>\n",
       "<tr><td>5</td><td>145.6611</td><td>56.9963</td><td>2368.527864465521</td><td>kplr2009114174833_ffi-cal.fits[10]</td></tr>\n",
       "<tr><td>6</td><td>1067.4344</td><td>1055.833</td><td>22.905996529412253</td><td>kplr2009114174833_ffi-cal.fits[10]</td></tr>\n",
       "<tr><td>7</td><td>826.9632</td><td>1056.9746</td><td>77632.89468990071</td><td>kplr2009114174833_ffi-cal.fits[10]</td></tr>\n",
       "<tr><td>8</td><td>229.9743</td><td>1006.0083</td><td>3253.518082577203</td><td>kplr2009114174833_ffi-cal.fits[10]</td></tr>\n",
       "<tr><td>9</td><td>209.2915</td><td>998.0069</td><td>2498.037989639191</td><td>kplr2009114174833_ffi-cal.fits[10]</td></tr>\n",
       "<tr><td>...</td><td>...</td><td>...</td><td>...</td><td>...</td></tr>\n",
       "<tr><td>90</td><td>71.1303</td><td>87.0073</td><td>2411.7661532587663</td><td>kplr2009114174833_ffi-cal.fits[10]</td></tr>\n",
       "<tr><td>91</td><td>602.9913</td><td>71.0067</td><td>2710.1588067701423</td><td>kplr2009114174833_ffi-cal.fits[10]</td></tr>\n",
       "<tr><td>92</td><td>14.0442</td><td>68.0042</td><td>7223.624609048682</td><td>kplr2009114174833_ffi-cal.fits[10]</td></tr>\n",
       "<tr><td>93</td><td>434.9998</td><td>65.1144</td><td>4183.236639447635</td><td>kplr2009114174833_ffi-cal.fits[10]</td></tr>\n",
       "<tr><td>94</td><td>981.9956</td><td>63.0048</td><td>2855.119119835854</td><td>kplr2009114174833_ffi-cal.fits[10]</td></tr>\n",
       "<tr><td>95</td><td>287.0059</td><td>59.9291</td><td>2878.9379859543787</td><td>kplr2009114174833_ffi-cal.fits[10]</td></tr>\n",
       "<tr><td>96</td><td>883.6108</td><td>1056.5619</td><td>3755.201045444289</td><td>kplr2009114174833_ffi-cal.fits[10]</td></tr>\n",
       "<tr><td>97</td><td>887.9532</td><td>1010.0025</td><td>15944.632863815132</td><td>kplr2009114174833_ffi-cal.fits[10]</td></tr>\n",
       "<tr><td>98</td><td>898.8544</td><td>1043.9216</td><td>1130.3571035093037</td><td>kplr2009114174833_ffi-cal.fits[10]</td></tr>\n",
       "<tr><td>99</td><td>888.9987</td><td>1018.9925</td><td>2412.4422759841927</td><td>kplr2009114174833_ffi-cal.fits[10]</td></tr>\n",
       "</table>"
      ],
      "text/plain": [
       "<QTable length=99>\n",
       "  id   xcenter   ycenter     aperture_sum                   name               \n",
       "         pix       pix                                                         \n",
       "int64  float64   float64       float64                     str34               \n",
       "----- --------- --------- ------------------ ----------------------------------\n",
       "    1 1031.4093   24.3685 270882.05309663335 kplr2009114174833_ffi-cal.fits[10]\n",
       "    2   322.944   23.0232 24867.044537262434 kplr2009114174833_ffi-cal.fits[10]\n",
       "    3 1094.0135   42.9983  2574.558000088245 kplr2009114174833_ffi-cal.fits[10]\n",
       "    4  468.0434   51.0944  34852.41238119573 kplr2009114174833_ffi-cal.fits[10]\n",
       "    5  145.6611   56.9963  2368.527864465521 kplr2009114174833_ffi-cal.fits[10]\n",
       "    6 1067.4344  1055.833 22.905996529412253 kplr2009114174833_ffi-cal.fits[10]\n",
       "    7  826.9632 1056.9746  77632.89468990071 kplr2009114174833_ffi-cal.fits[10]\n",
       "    8  229.9743 1006.0083  3253.518082577203 kplr2009114174833_ffi-cal.fits[10]\n",
       "    9  209.2915  998.0069  2498.037989639191 kplr2009114174833_ffi-cal.fits[10]\n",
       "  ...       ...       ...                ...                                ...\n",
       "   90   71.1303   87.0073 2411.7661532587663 kplr2009114174833_ffi-cal.fits[10]\n",
       "   91  602.9913   71.0067 2710.1588067701423 kplr2009114174833_ffi-cal.fits[10]\n",
       "   92   14.0442   68.0042  7223.624609048682 kplr2009114174833_ffi-cal.fits[10]\n",
       "   93  434.9998   65.1144  4183.236639447635 kplr2009114174833_ffi-cal.fits[10]\n",
       "   94  981.9956   63.0048  2855.119119835854 kplr2009114174833_ffi-cal.fits[10]\n",
       "   95  287.0059   59.9291 2878.9379859543787 kplr2009114174833_ffi-cal.fits[10]\n",
       "   96  883.6108 1056.5619  3755.201045444289 kplr2009114174833_ffi-cal.fits[10]\n",
       "   97  887.9532 1010.0025 15944.632863815132 kplr2009114174833_ffi-cal.fits[10]\n",
       "   98  898.8544 1043.9216 1130.3571035093037 kplr2009114174833_ffi-cal.fits[10]\n",
       "   99  888.9987 1018.9925 2412.4422759841927 kplr2009114174833_ffi-cal.fits[10]"
      ]
     },
     "execution_count": 80,
     "metadata": {},
     "output_type": "execute_result"
    }
   ],
   "source": [
    "phot_table_diff"
   ]
  },
  {
   "cell_type": "code",
   "execution_count": null,
   "metadata": {
    "collapsed": true
   },
   "outputs": [],
   "source": [
    "positions = [(30., 30.), (40., 40.)]\n",
    "apertures = CircularAperture(positions, r=3.)\n",
    "phot_table = aperture_photometry(data, apertures)\n",
    "#phot_table['aperture_sum'].info.format = '%.8g' "
   ]
  }
 ],
 "metadata": {
  "kernelspec": {
   "display_name": "Python 2",
   "language": "python",
   "name": "python2"
  },
  "language_info": {
   "codemirror_mode": {
    "name": "ipython",
    "version": 2
   },
   "file_extension": ".py",
   "mimetype": "text/x-python",
   "name": "python",
   "nbconvert_exporter": "python",
   "pygments_lexer": "ipython2",
   "version": "2.7.13"
  }
 },
 "nbformat": 4,
 "nbformat_minor": 2
}
