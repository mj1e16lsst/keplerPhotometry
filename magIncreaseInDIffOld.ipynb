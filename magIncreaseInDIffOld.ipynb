{
 "cells": [
  {
   "cell_type": "code",
   "execution_count": 1,
   "metadata": {
    "collapsed": true
   },
   "outputs": [],
   "source": [
    "import os\n",
    "import subprocess\n",
    "import numpy as np\n",
    "import pandas as pd\n",
    "from astropy.io import ascii\n",
    "from astropy.table import Table, vstack\n",
    "from astropy.coordinates import SkyCoord\n",
    "from astropy import units as u\n",
    "from astropy.io import fits\n",
    "from photutils import CircularAperture\n",
    "from photutils import aperture_photometry\n",
    "from astropy import wcs"
   ]
  },
  {
   "cell_type": "code",
   "execution_count": 4,
   "metadata": {
    "collapsed": true
   },
   "outputs": [],
   "source": [
    "subprocess."
   ]
  },
  {
   "cell_type": "code",
   "execution_count": 3,
   "metadata": {},
   "outputs": [
    {
     "ename": "KeyboardInterrupt",
     "evalue": "",
     "output_type": "error",
     "traceback": [
      "\u001b[0;31m---------------------------------------------------------------------------\u001b[0m",
      "\u001b[0;31mKeyboardInterrupt\u001b[0m                         Traceback (most recent call last)",
      "\u001b[0;32m<ipython-input-3-32db7b68003f>\u001b[0m in \u001b[0;36m<module>\u001b[0;34m()\u001b[0m\n\u001b[0;32m----> 1\u001b[0;31m \u001b[0msubprocess\u001b[0m\u001b[0;34m.\u001b[0m\u001b[0mcall\u001b[0m\u001b[0;34m(\u001b[0m\u001b[0;34m[\u001b[0m\u001b[0;34m'ds9'\u001b[0m\u001b[0;34m,\u001b[0m \u001b[0;34m'/data/mj1e16/kepler/cal/kplr2011271191331_ffi-cal.fits[16]'\u001b[0m\u001b[0;34m,\u001b[0m \u001b[0;34m'-regions'\u001b[0m\u001b[0;34m,\u001b[0m \u001b[0;34m'/home/mj1e16/outTablesImproved/testreg_16.reg'\u001b[0m\u001b[0;34m,\u001b[0m \u001b[0;34m'-scale'\u001b[0m\u001b[0;34m,\u001b[0m \u001b[0;34m'mode'\u001b[0m\u001b[0;34m,\u001b[0m \u001b[0;34m'zscale'\u001b[0m\u001b[0;34m,\u001b[0m \u001b[0;34m'/data/mj1e16/kepler/properDiff/diff_imNo6_channel72_ccd16.fits'\u001b[0m\u001b[0;34m,\u001b[0m \u001b[0;34m'-regions'\u001b[0m\u001b[0;34m,\u001b[0m \u001b[0;34m'/home/mj1e16/outTablesImproved/testreg_16.reg'\u001b[0m\u001b[0;34m,\u001b[0m \u001b[0;34m'-scale'\u001b[0m\u001b[0;34m,\u001b[0m \u001b[0;34m'mode'\u001b[0m\u001b[0;34m,\u001b[0m \u001b[0;34m'zscale'\u001b[0m\u001b[0;34m,\u001b[0m \u001b[0;34m'/data/mj1e16/kepler/medians/meidian_72_16.fits'\u001b[0m\u001b[0;34m,\u001b[0m \u001b[0;34m'-regions'\u001b[0m\u001b[0;34m,\u001b[0m \u001b[0;34m'/home/mj1e16/outTablesImproved/testreg_16.reg'\u001b[0m\u001b[0;34m,\u001b[0m \u001b[0;34m'-scale'\u001b[0m\u001b[0;34m,\u001b[0m \u001b[0;34m'mode'\u001b[0m\u001b[0;34m,\u001b[0m \u001b[0;34m'zscale'\u001b[0m\u001b[0;34m,\u001b[0m \u001b[0;34m'-frame'\u001b[0m\u001b[0;34m,\u001b[0m \u001b[0;34m'lock'\u001b[0m\u001b[0;34m,\u001b[0m \u001b[0;34m'image'\u001b[0m\u001b[0;34m]\u001b[0m\u001b[0;34m)\u001b[0m\u001b[0;34m\u001b[0m\u001b[0m\n\u001b[0m",
      "\u001b[0;32m/home/mj1e16/miniconda2/envs/astroconda/lib/python2.7/subprocess.pyc\u001b[0m in \u001b[0;36mcall\u001b[0;34m(*popenargs, **kwargs)\u001b[0m\n\u001b[1;32m    166\u001b[0m     \u001b[0mretcode\u001b[0m \u001b[0;34m=\u001b[0m \u001b[0mcall\u001b[0m\u001b[0;34m(\u001b[0m\u001b[0;34m[\u001b[0m\u001b[0;34m\"ls\"\u001b[0m\u001b[0;34m,\u001b[0m \u001b[0;34m\"-l\"\u001b[0m\u001b[0;34m]\u001b[0m\u001b[0;34m)\u001b[0m\u001b[0;34m\u001b[0m\u001b[0m\n\u001b[1;32m    167\u001b[0m     \"\"\"\n\u001b[0;32m--> 168\u001b[0;31m     \u001b[0;32mreturn\u001b[0m \u001b[0mPopen\u001b[0m\u001b[0;34m(\u001b[0m\u001b[0;34m*\u001b[0m\u001b[0mpopenargs\u001b[0m\u001b[0;34m,\u001b[0m \u001b[0;34m**\u001b[0m\u001b[0mkwargs\u001b[0m\u001b[0;34m)\u001b[0m\u001b[0;34m.\u001b[0m\u001b[0mwait\u001b[0m\u001b[0;34m(\u001b[0m\u001b[0;34m)\u001b[0m\u001b[0;34m\u001b[0m\u001b[0m\n\u001b[0m\u001b[1;32m    169\u001b[0m \u001b[0;34m\u001b[0m\u001b[0m\n\u001b[1;32m    170\u001b[0m \u001b[0;34m\u001b[0m\u001b[0m\n",
      "\u001b[0;32m/home/mj1e16/miniconda2/envs/astroconda/lib/python2.7/subprocess.pyc\u001b[0m in \u001b[0;36mwait\u001b[0;34m(self)\u001b[0m\n\u001b[1;32m   1071\u001b[0m             \u001b[0;32mwhile\u001b[0m \u001b[0mself\u001b[0m\u001b[0;34m.\u001b[0m\u001b[0mreturncode\u001b[0m \u001b[0;32mis\u001b[0m \u001b[0mNone\u001b[0m\u001b[0;34m:\u001b[0m\u001b[0;34m\u001b[0m\u001b[0m\n\u001b[1;32m   1072\u001b[0m                 \u001b[0;32mtry\u001b[0m\u001b[0;34m:\u001b[0m\u001b[0;34m\u001b[0m\u001b[0m\n\u001b[0;32m-> 1073\u001b[0;31m                     \u001b[0mpid\u001b[0m\u001b[0;34m,\u001b[0m \u001b[0msts\u001b[0m \u001b[0;34m=\u001b[0m \u001b[0m_eintr_retry_call\u001b[0m\u001b[0;34m(\u001b[0m\u001b[0mos\u001b[0m\u001b[0;34m.\u001b[0m\u001b[0mwaitpid\u001b[0m\u001b[0;34m,\u001b[0m \u001b[0mself\u001b[0m\u001b[0;34m.\u001b[0m\u001b[0mpid\u001b[0m\u001b[0;34m,\u001b[0m \u001b[0;36m0\u001b[0m\u001b[0;34m)\u001b[0m\u001b[0;34m\u001b[0m\u001b[0m\n\u001b[0m\u001b[1;32m   1074\u001b[0m                 \u001b[0;32mexcept\u001b[0m \u001b[0mOSError\u001b[0m \u001b[0;32mas\u001b[0m \u001b[0me\u001b[0m\u001b[0;34m:\u001b[0m\u001b[0;34m\u001b[0m\u001b[0m\n\u001b[1;32m   1075\u001b[0m                     \u001b[0;32mif\u001b[0m \u001b[0me\u001b[0m\u001b[0;34m.\u001b[0m\u001b[0merrno\u001b[0m \u001b[0;34m!=\u001b[0m \u001b[0merrno\u001b[0m\u001b[0;34m.\u001b[0m\u001b[0mECHILD\u001b[0m\u001b[0;34m:\u001b[0m\u001b[0;34m\u001b[0m\u001b[0m\n",
      "\u001b[0;32m/home/mj1e16/miniconda2/envs/astroconda/lib/python2.7/subprocess.pyc\u001b[0m in \u001b[0;36m_eintr_retry_call\u001b[0;34m(func, *args)\u001b[0m\n\u001b[1;32m    119\u001b[0m     \u001b[0;32mwhile\u001b[0m \u001b[0mTrue\u001b[0m\u001b[0;34m:\u001b[0m\u001b[0;34m\u001b[0m\u001b[0m\n\u001b[1;32m    120\u001b[0m         \u001b[0;32mtry\u001b[0m\u001b[0;34m:\u001b[0m\u001b[0;34m\u001b[0m\u001b[0m\n\u001b[0;32m--> 121\u001b[0;31m             \u001b[0;32mreturn\u001b[0m \u001b[0mfunc\u001b[0m\u001b[0;34m(\u001b[0m\u001b[0;34m*\u001b[0m\u001b[0margs\u001b[0m\u001b[0;34m)\u001b[0m\u001b[0;34m\u001b[0m\u001b[0m\n\u001b[0m\u001b[1;32m    122\u001b[0m         \u001b[0;32mexcept\u001b[0m \u001b[0;34m(\u001b[0m\u001b[0mOSError\u001b[0m\u001b[0;34m,\u001b[0m \u001b[0mIOError\u001b[0m\u001b[0;34m)\u001b[0m \u001b[0;32mas\u001b[0m \u001b[0me\u001b[0m\u001b[0;34m:\u001b[0m\u001b[0;34m\u001b[0m\u001b[0m\n\u001b[1;32m    123\u001b[0m             \u001b[0;32mif\u001b[0m \u001b[0me\u001b[0m\u001b[0;34m.\u001b[0m\u001b[0merrno\u001b[0m \u001b[0;34m==\u001b[0m \u001b[0merrno\u001b[0m\u001b[0;34m.\u001b[0m\u001b[0mEINTR\u001b[0m\u001b[0;34m:\u001b[0m\u001b[0;34m\u001b[0m\u001b[0m\n",
      "\u001b[0;31mKeyboardInterrupt\u001b[0m: "
     ]
    }
   ],
   "source": [
    "subprocess.call(['ds9', '/data/mj1e16/kepler/cal/kplr2011271191331_ffi-cal.fits[16]', '-regions', '/home/mj1e16/outTablesImproved/testreg_16.reg', '-scale', 'mode', 'zscale', '/data/mj1e16/kepler/properDiff/diff_imNo6_channel72_ccd16.fits', '-regions', '/home/mj1e16/outTablesImproved/testreg_16.reg', '-scale', 'mode', 'zscale', '/data/mj1e16/kepler/medians/meidian_72_16.fits', '-regions', '/home/mj1e16/outTablesImproved/testreg_16.reg', '-scale', 'mode', 'zscale', '-frame', 'lock', 'image'])"
   ]
  },
  {
   "cell_type": "code",
   "execution_count": 2,
   "metadata": {
    "collapsed": true
   },
   "outputs": [],
   "source": [
    "# diffDir = '/media/mj1e16/PP AV-TV/properDiff/'\n",
    "# medianDir = '/media/mj1e16/PP AV-TV/medians/'\n",
    "# imageDir = '/media/mj1e16/PP AV-TV/keplerCal/'"
   ]
  },
  {
   "cell_type": "code",
   "execution_count": 6,
   "metadata": {
    "collapsed": true
   },
   "outputs": [],
   "source": [
    "diffDir = '/data/mj1e16/kepler/properDiff/'\n",
    "medianDir = '/data/mj1e16/kepler/medians/'\n",
    "imageDir = '/data/mj1e16/kepler/cal/'"
   ]
  },
  {
   "cell_type": "code",
   "execution_count": 7,
   "metadata": {
    "collapsed": true
   },
   "outputs": [],
   "source": [
    "diffImages = os.listdir(diffDir)\n",
    "diffImages = [x for x in diffImages if '.fits' in x]\n",
    "\n",
    "medianImages = os.listdir(medianDir)\n",
    "medianImages = [x for x in medianImages if '.fits' in x]\n",
    "\n",
    "images = os.listdir(imageDir)\n",
    "images = [x for x in images if '.fits' in x]"
   ]
  },
  {
   "cell_type": "code",
   "execution_count": 8,
   "metadata": {
    "collapsed": true
   },
   "outputs": [],
   "source": [
    "unmatchedObjects = ascii.read('/home/mj1e16/outTables15/firstPassTransients15.csv')"
   ]
  },
  {
   "cell_type": "code",
   "execution_count": 9,
   "metadata": {
    "collapsed": true
   },
   "outputs": [],
   "source": [
    "xpos = np.array(unmatchedObjects['X_IMAGE'])\n",
    "ypos = np.array(unmatchedObjects['Y_IMAGE'])\n",
    "imname = np.array(unmatchedObjects['NAME'])\n",
    "index = np.array(unmatchedObjects['index'])\n",
    "allnames = np.unique(imname)"
   ]
  },
  {
   "cell_type": "code",
   "execution_count": 131,
   "metadata": {
    "collapsed": true
   },
   "outputs": [],
   "source": [
    "def load_wcs_from_file(filename,pixCoord,ext=0):\n",
    "    # Load the FITS hdulist using astropy.io.fits\n",
    "    hdulist = fits.open(filename)\n",
    "    print(filename)\n",
    "    # Parse the WCS keywords in the primary HDU\n",
    "    print(int(ext))\n",
    "    w = wcs.WCS(hdulist[int(ext)].header)\n",
    "\n",
    "    # Print out the \"name\" of the WCS, as defined in the FITS header\n",
    "    #print(w.wcs.name)\n",
    "\n",
    "    # Print out all of the settings that were parsed from the header\n",
    "    w.wcs.print_contents()\n",
    "\n",
    "    # Three pixel coordinates of interest.\n",
    "    # Note we've silently assumed a NAXIS=2 image here.\n",
    "    # Note also that the pixel coordinates are pairs of [X, Y], \n",
    "    # and since WCS built from FITS header automatically has\n",
    "    # origin set to 1, [0, 0] is actually not inside the image.\n",
    "    pixcrd = np.array(pixCoord, dtype=np.float_)\n",
    "\n",
    "    # Convert pixel coordinates to world coordinates\n",
    "    # The second argument is \"origin\" -- in this case we're declaring we\n",
    "    # have 1-based (Fortran-like) coordinates.\n",
    "    world = w.wcs_pix2world(pixcrd, 1)\n",
    "    #print(world)\n",
    "    return(world)"
   ]
  },
  {
   "cell_type": "code",
   "execution_count": 91,
   "metadata": {
    "collapsed": true
   },
   "outputs": [],
   "source": [
    "def makeDS9RegFile(sexTabList,fileNameBase,tabType,colour='lightgreen',radius='5'):\n",
    "    for tables in range(len(sexTabList)):\n",
    "        if tabType == 'dao':\n",
    "            xcoords = sexTabList[tables]['xcentroid']\n",
    "            ycoords = sexTabList[tables]['ycentroid']\n",
    "        elif tabType == 'sex':\n",
    "            xcoords = sexTabList[tables]['X_IMAGE']\n",
    "            ycoords = sexTabList[tables]['Y_IMAGE']\n",
    "        elif tabType == 'iraf':\n",
    "            xcoords = sexTabList[tables]['X_POS']\n",
    "            ycoords = sexTabList[tables]['Y_POS']        \n",
    "        else:\n",
    "            print('tab type error')\n",
    "            break\n",
    "        bigString = 'global color='+colour+'\\nimage\\n'\n",
    "        for x in range(len(xcoords)):\n",
    "            bigString += 'circle({},{},'+radius+')\\n'.format(xcoords[x],ycoords[x])\n",
    "        fileName = fileNameBase + '.reg'\n",
    "        with open(fileName,'w') as f:\n",
    "            f.write(bigString)"
   ]
  },
  {
   "cell_type": "code",
   "execution_count": 10,
   "metadata": {
    "collapsed": true
   },
   "outputs": [],
   "source": [
    "def findName(image,diffDir=diffDir,medianDir=medianDir):\n",
    "    hdu = fits.open(diffDir+image)\n",
    "    head = hdu[0].header['DIFFCMD']\n",
    "    locator1 = '/data/mj1e16/kepler/cal/'\n",
    "    locator2 = ']'\n",
    "    loc1 = head.find(locator1) + len(locator1)\n",
    "    loc2 = head.find(locator2) + 1\n",
    "    imname = head[loc1:loc2]\n",
    "    \n",
    "    channellocator1 = 'channel' \n",
    "    channellocator2 = '_ccd'\n",
    "    ccdlocator1 = 'ccd'\n",
    "    ccdlocator2 = '.fits'\n",
    "    loc1 = image.find(channellocator1) + len(channellocator1)\n",
    "    loc2 = image.find(channellocator2)\n",
    "    channel = image[loc1:loc2]\n",
    "    loc1 = image.find(ccdlocator1) + len(ccdlocator1)\n",
    "    loc2 = image.find(ccdlocator2)\n",
    "    ccd = image[loc1:loc2]\n",
    "    \n",
    "    medianName = 'meidian_{}_{}.fits'.format(channel,ccd)\n",
    "    results = [imname,medianName]\n",
    "    return results"
   ]
  },
  {
   "cell_type": "code",
   "execution_count": 156,
   "metadata": {
    "collapsed": true
   },
   "outputs": [],
   "source": [
    "def findMatchesNoCondition(image,diffname,tab,match,df,bigdf,max_sep = 2.5 * u.arcsec,magsurplus=-3):\n",
    "    \n",
    "    \n",
    "    number1 = match['NUMBER'] # original image\n",
    "    ra1 = match['RA']\n",
    "    dec1 = match['DEC']\n",
    "\n",
    "    number2 = tab['index'] # difference image\n",
    "    ra2 = tab['RA']\n",
    "    dec2 = tab['DEC']    \n",
    "    \n",
    "\n",
    "    cat1 = SkyCoord(ra=ra1*u.degree, dec=dec1*u.degree)\n",
    "    cat2 = SkyCoord(ra=ra2*u.degree, dec=dec2*u.degree)\n",
    "    \n",
    "    idx, d2d, d3d = cat2.match_to_catalog_sky(cat1)\n",
    "    sep_constraint = d2d < max_sep\n",
    "    objectsFound = number2[sep_constraint]\n",
    "    matchdf = df[df['ind'].isin(objectsFound)]\n",
    "    matchdf.sort_values(['Y_IMAGE'])\n",
    "    ognumber = matchdf['ind'].tolist()\n",
    "    ogflux = matchdf['FLUX_MAX'].tolist()\n",
    "    matchTab = Table.from_pandas(matchdf)\n",
    "\n",
    "    #makeDS9RegFile(matchTab,'foundinBoth','sex',colour='blue')\n",
    "    \n",
    "    idx, d2d, d3d = cat1.match_to_catalog_sky(cat2)\n",
    "    sep_constraint = d2d < max_sep\n",
    "    #istrue = [x for x in sep_constraint if x == True]\n",
    "    objectsFound = number1[sep_constraint]\n",
    "    origdf = bigdf[bigdf['NUMBER'].isin(objectsFound)]\n",
    "    origdf.sort_values(['Y_IMAGE'])\n",
    "    origflux = origdf['FLUX_MAX'].tolist()\n",
    "    \n",
    "    fluxdiff = [(x-y) for x,y in zip(origflux,ogflux)]\n",
    "    magdiff = [-2.5*np.log10(x/y) for x,y in zip(origflux,fluxdiff)]\n",
    "    print(magdiff)\n",
    "    goodNums = [x for x,y in zip(ognumber,magdiff) if y < magsurplus]\n",
    "    \n",
    "    finaldf = matchdf[matchdf['ind'].isin(goodNums)]\n",
    "    \n",
    "    return finaldf"
   ]
  },
  {
   "cell_type": "code",
   "execution_count": null,
   "metadata": {
    "collapsed": true
   },
   "outputs": [],
   "source": [
    "image2diff = {}\n",
    "image2median = {}\n",
    "for x in diffImages:\n",
    "    results = findName(x)\n",
    "    image2diff[results[0]] = x\n",
    "    image2median[results[0]] = results[1]\n",
    "    \n",
    "diff = [image2diff[x] for x in imname]\n",
    "median = [image2median[x] for x in imname]\n",
    "\n",
    "unmatchedObjects['diffImage'] = diff\n",
    "unmatchedObjects['medianImage'] = median"
   ]
  },
  {
   "cell_type": "code",
   "execution_count": 136,
   "metadata": {
    "collapsed": true
   },
   "outputs": [],
   "source": [
    "name = imname[0]\n",
    "diffname = image2diff[name]\n",
    "df = unmatchedObjects.to_pandas()\n",
    "mindf = df[df['NAME'] == name]\n",
    "minitab = Table.from_pandas(mindf)\n",
    "matchtab = ascii.read('/data/mj1e16/kepler/sexKeplerCal/'+name+'.csv')\n",
    "bigdf = matchtab.to_pandas()"
   ]
  },
  {
   "cell_type": "code",
   "execution_count": 159,
   "metadata": {},
   "outputs": [
    {
     "name": "stdout",
     "output_type": "stream",
     "text": [
      "[-0.05620325995845364, nan, nan, -0.7271288192655224, -0.014472199334716142, -0.05300994831146413, -1.4571815313378544, nan, -0.02180722264547895, -0.011935830200145239, -0.017960166210759618, -0.14517939577093023, -0.022554623422719782, -0.009808813321782576, -1.6606910087271756]\n"
     ]
    },
    {
     "name": "stderr",
     "output_type": "stream",
     "text": [
      "/home/mj1e16/miniconda2/envs/astroconda/lib/python2.7/site-packages/ipykernel_launcher.py:36: RuntimeWarning: invalid value encountered in log10\n"
     ]
    }
   ],
   "source": [
    "matches = findMatchesNoCondition(imageDir+name,diffDir+diffname,minitab,matchtab,mindf,bigdf,max_sep=5*u.arcsec)"
   ]
  },
  {
   "cell_type": "code",
   "execution_count": 16,
   "metadata": {
    "collapsed": true
   },
   "outputs": [],
   "source": [
    "ascii.write(unmatchedObjects,'/home/mj1e16/outTables15/transientsWnames.csv',format='csv',fast_writer=False)"
   ]
  },
  {
   "cell_type": "code",
   "execution_count": null,
   "metadata": {
    "collapsed": true
   },
   "outputs": [],
   "source": []
  }
 ],
 "metadata": {
  "kernelspec": {
   "display_name": "Python 3",
   "language": "python",
   "name": "python3"
  },
  "language_info": {
   "codemirror_mode": {
    "name": "ipython",
    "version": 3
   },
   "file_extension": ".py",
   "mimetype": "text/x-python",
   "name": "python",
   "nbconvert_exporter": "python",
   "pygments_lexer": "ipython3",
   "version": "3.5.2"
  }
 },
 "nbformat": 4,
 "nbformat_minor": 2
}
