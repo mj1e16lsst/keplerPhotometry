{
 "cells": [
  {
   "cell_type": "code",
   "execution_count": 29,
   "metadata": {},
   "outputs": [],
   "source": [
    "import keplerSettings as keplerSettings"
   ]
  },
  {
   "cell_type": "code",
   "execution_count": 5,
   "metadata": {
    "collapsed": true
   },
   "outputs": [],
   "source": [
    "import findspark\n",
    "findspark.init(keplerSettings.sparkHome)"
   ]
  },
  {
   "cell_type": "code",
   "execution_count": 6,
   "metadata": {
    "collapsed": true
   },
   "outputs": [],
   "source": [
    "from astropy.io import fits"
   ]
  },
  {
   "cell_type": "code",
   "execution_count": 7,
   "metadata": {
    "collapsed": true
   },
   "outputs": [],
   "source": [
    "#import astroprov\n",
    "import sys\n",
    "import datetime\n",
    "import time\n",
    "import collections\n",
    "import subprocess\n",
    "\n",
    "import numpy as np\n",
    "import os\n",
    "\n",
    "from astropy.table import Table\n",
    "from astropy.table import Column\n",
    "from astropy.io import ascii\n",
    "\n",
    "import sqlite3\n",
    "from pandas import DataFrame\n",
    "\n",
    "import mysql.connector\n",
    "from mysql.connector import Error\n",
    "from mysql.connector import pooling\n",
    "\n",
    "from pyspark.sql import Row\n",
    "from pyspark.sql import SQLContext\n",
    "from pyspark import SparkContext\n",
    "from pyspark import SparkConf\n",
    "\n",
    "#from sqlalchemy import create_engine\n",
    "#from multiprocessing import Pool\n",
    "#from multiprocessing.pool import ThreadPool\n",
    "#from functools import partial\n",
    "#from sqlalchemy import create_engine\n",
    "#from astropy.visualization.mpl_normalize import ImageNormalize\n"
   ]
  },
  {
   "cell_type": "code",
   "execution_count": 8,
   "metadata": {
    "collapsed": true
   },
   "outputs": [],
   "source": [
    "defaultDirectory = keplerSettings.sextractorDirectory"
   ]
  },
  {
   "cell_type": "code",
   "execution_count": 9,
   "metadata": {
    "collapsed": true
   },
   "outputs": [],
   "source": [
    "os.environ['PYSPARK_SUBMIT_ARGS'] = '--jars '+ keplerSettings.mysqlSQLConnector+'  pyspark-shell'\n",
    "config = SparkConf().setAll(keplerSettings.sparkConfig) # (\"spark.sql.execution.arrow.enabled\", \"true\")\n"
   ]
  },
  {
   "cell_type": "code",
   "execution_count": 10,
   "metadata": {
    "collapsed": true
   },
   "outputs": [],
   "source": [
    "sc = SparkContext(appName='App',conf=config)\n",
    "sqlContext = SQLContext(sc)"
   ]
  },
  {
   "cell_type": "code",
   "execution_count": 11,
   "metadata": {
    "collapsed": true
   },
   "outputs": [],
   "source": [
    "mags = keplerSettings.magRangeSQLnaming\n",
    "for mag in mags:\n",
    "    dataframe_mysql = sqlContext.read.format(\"jdbc\").option(\"url\",  keplerSettings.databaseLoc).option(\"driver\", \"com.mysql.jdbc.Driver\").option(\"dbtable\", \"starlist_{}\".format(mag)).option(\"user\", keplerSettings.databaseUsername).option(\"password\", keplerSettings.databasePassword).load()\n",
    "    dataframe_mysql.registerTempTable('starlist_{}'.format(mag))"
   ]
  },
  {
   "cell_type": "code",
   "execution_count": 36,
   "metadata": {},
   "outputs": [],
   "source": [
    "def innerJoin(tableName,totGross,totGrossOriginal,variableList,mag,baseNum,diffSize=1,xlength=keplerSettings.astroImageXlength,ylength=keplerSettings.astroImageYlength,weight=0.5):\n",
    "    nsegs = keplerSettings.nsegs\n",
    "    nperseg = keplerSettings.totalObjects/(nsegs**2)\n",
    "    actualtTotObjects = nperseg*nsegs*nsegs\n",
    "    #mag = variableList[6]\n",
    "    temptableName = tableName[0:5]+tableName[-1]\n",
    "    OGtemptableName = 'original'\n",
    "    OGdf = sqlContext.sql(\"SELECT NUMBER, MAG_BEST, X_IMAGE, Y_IMAGE FROM {0} INNER JOIN starlist_{1} ON {0}.X_IMAGE BETWEEN starlist_{1}.X_POS_MIN AND starlist_{1}.X_POS_MAX AND {0}.Y_IMAGE BETWEEN starlist_{1}.Y_POS_MIN AND starlist_{1}.Y_POS_MAX\".format(OGtemptableName,abs(mag)))\n",
    "    OGdf.registerTempTable(OGtemptableName+'match')\n",
    "    sqlContext.cacheTable(OGtemptableName+'match')\n",
    "    \n",
    "    OGtotNumDF = sqlContext.sql(\"SELECT * FROM {}\".format(OGtemptableName))\n",
    "    OGtotNumber = OGtotNumDF.count()\n",
    "    \n",
    "    df = sqlContext.sql(\"SELECT NUMBER, MAG_BEST, X_IMAGE, Y_IMAGE FROM {0} INNER JOIN starlist_{1} ON {0}.X_IMAGE BETWEEN starlist_{1}.X_POS_MIN AND starlist_{1}.X_POS_MAX AND {0}.Y_IMAGE BETWEEN starlist_{1}.Y_POS_MIN AND starlist_{1}.Y_POS_MAX\".format(temptableName,abs(mag)))\n",
    "    df.registerTempTable(temptableName+'match')\n",
    "    sqlContext.cacheTable(temptableName+'match')\n",
    "    totNumber = df.count()\n",
    "    #print('tot',totNumber)\n",
    "    \n",
    "    xsegment = xlength/nsegs\n",
    "    ysegment = ylength/nsegs\n",
    "    \n",
    "    accuracyScore = (float(OGtotNumber)/float(baseNum))\n",
    "    #print('og',OGtotNumber,'base',baseNum,'tot',totNumber)\n",
    "    completenessScore = 0.\n",
    "    #totSeg = []\n",
    "    border = keplerSettings.border\n",
    "    #df.write.format('jdbc').options(url='jdbc:mysql://localhost/Kepler',driver='com.mysql.jdbc.Driver',dbtable='result_{}'.format(tableName),user='mj1e16',password='[sqlT1G3R]').mode('append').save()\n",
    "    for xsegs in range(nsegs):\n",
    "        xmin = int(xsegs*xsegment)+border\n",
    "        xmax = int(xmin+xsegment)+border\n",
    "        for ysegs in range(nsegs):\n",
    "            ymin = int(ysegs*ysegment)+border\n",
    "            ymax = int(ymin+ysegment)+border\n",
    "            \n",
    "            OGdf = sqlContext.sql(\"SELECT NUMBER FROM {0} WHERE {0}.X_IMAGE BETWEEN {1} AND {2} AND {0}.Y_IMAGE BETWEEN {3} AND {4}\".format(OGtemptableName+'match',xmin,xmax,ymin,ymax))\n",
    "            OGnumber = OGdf.count()\n",
    "            df = sqlContext.sql(\"SELECT NUMBER FROM {0} WHERE {0}.X_IMAGE BETWEEN {1} AND {2} AND {0}.Y_IMAGE BETWEEN {3} AND {4}\".format(temptableName+'match',xmin,xmax,ymin,ymax))\n",
    "            number = df.count()\n",
    "            simulated = number-OGnumber\n",
    "            print(number,OGnumber)\n",
    "            if simulated > nperseg:\n",
    "                simulated = nperseg \n",
    "            completenessScore +=  simulated #abs(simulated-62)\n",
    "            \n",
    "            \n",
    "            variableList.append(simulated)\n",
    "            \n",
    "#             dftot = sqlContext.sql(\"SELECT NUMBER FROM {0} WHERE {0}.X_IMAGE BETWEEN {1} AND {2} AND {0}.Y_IMAGE BETWEEN {3} AND {4}\".format(temptableName,xmin,xmax,ymin,ymax))\n",
    "#             number = df.count()\n",
    "#             #variableList.append(number)\n",
    "#             totSeg.append(number)\n",
    "\n",
    "            # need to create some place to write to\n",
    "\n",
    "    \n",
    "    \n",
    "#    variableList.extend(totSeg)\n",
    "    #astroprov.provcall([tableName,'starlist_{}'.format(abs(mag))],['result_{}'.format(tableName)],\"innerJoin_Python2Python_SQ_tmpl.provn\",\"innerJoin\",provDir)\n",
    "    compScore = 1. - (float(completenessScore)/float(actualtTotObjects))\n",
    "    #print(compScore,'compScore',float(completenessScore),float(actualtTotObjects))\n",
    "    #score = (weight*compScore) + ((1.-weight)*accuracyScore)\n",
    "    print(compScore,accuracyScore)\n",
    "    sqlContext.uncacheTable(temptableName+'match')\n",
    "    sqlContext.dropTempTable(temptableName+'match')\n",
    "    sqlContext.uncacheTable(OGtemptableName+'match')\n",
    "    sqlContext.dropTempTable(OGtemptableName+'match')\n",
    "    sqlContext.uncacheTable(temptableName)\n",
    "    sqlContext.dropTempTable(temptableName)\n",
    "    sqlContext.uncacheTable(OGtemptableName)\n",
    "    sqlContext.dropTempTable(OGtemptableName)\n",
    "    variableList.append(totNumber)\n",
    "    variableList.append(totGross)\n",
    "    variableList.append(OGtotNumber)\n",
    "    variableList.append(totGrossOriginal) \n",
    "    variableList.append(compScore)\n",
    "    variableList.append(accuracyScore)\n",
    "    variableTuple = tuple(variableList)\n",
    "    #print(variableTuple)\n",
    "    return [variableTuple]\n",
    "\n",
    "\n",
    "def makeConfig(valList,tableName='table',defaultDir=defaultDirectory,attributeList=keplerSettings.sextractorAttributeList):\n",
    "    \n",
    "    with open(defaultDir+'/default.sex','r') as f:\n",
    "        data  = f.read()\n",
    "    for x in range(len(valList)):\n",
    "        nameLoc = data.find(attributeList[x]) + len(attributeList[x])\n",
    "        endLoc = data[nameLoc:].find('#') + nameLoc\n",
    "        newData = data[:nameLoc] + ' '+str(valList[x])+' ' + data[endLoc:]\n",
    "        data = newData\n",
    "    \n",
    "    cname = 'CATALOG_NAME'\n",
    "    catName = 'test1.cat'\n",
    "    confName = 'default_1.sex'\n",
    "    nameLoc = data.find(cname) + len(cname)\n",
    "    endLoc = data[nameLoc:].find('#') + nameLoc\n",
    "    newData = data[:nameLoc] + ' ' +catName+ ' ' + data[endLoc:]\n",
    "    data = newData\n",
    "\n",
    "    cname = 'PARAMETERS_NAME'\n",
    "    nameLoc = data.find(cname) + len(cname)\n",
    "    endLoc = data[nameLoc:].find('#') + nameLoc\n",
    "    newData = data[:nameLoc] + ' autodefault.param ' + data[endLoc:]\n",
    "    \n",
    "    #print(newData)\n",
    "    with open(defaultDir+confName,'w') as f:\n",
    "        f.write(newData)\n",
    "    return(confName,tableName,catName)\n",
    "\n",
    "def findObjects(confName,tableName,catName,defaultDir=defaultDirectory,imagename='/home/mj1e16/iraf/editedImage5000.fits',original='no',base='no'):\n",
    "    \n",
    "    os.chdir(defaultDir)\n",
    "    subprocess.call(['sex',imagename,'-c',confName])\n",
    "    assoc = Table.read(catName,format='ascii.sextractor')\n",
    "    df = assoc.to_pandas()\n",
    "    df2 = df[df['MAG_BEST'] != 99.0000]\n",
    "    df_spark = sqlContext.createDataFrame(df2)\n",
    "    temptableName = tableName[0:5]+tableName[-1]\n",
    "    if original == 'yes':\n",
    "        temptableName = 'original'\n",
    "        print(imagename)\n",
    "    if base == 'yes':\n",
    "        temptableName = 'baseSettings'\n",
    "        print(imagename)\n",
    "    if temptableName == tableName[0:5]+tableName[-1]:\n",
    "        print('normal',imagename)\n",
    "    df_spark.registerTempTable(temptableName)\n",
    "    totGross = df_spark.count()\n",
    "    sqlContext.cacheTable(temptableName)\n",
    "\n",
    "    return totGross\n",
    "\n",
    "def alltogethernow(valList,tableName,IMAGE,variableList,originalImage,mag,atList,baseNum):\n",
    "    Names = makeConfig(valList,tableName=tableName,attributeList=atList)\n",
    "    totGrossOriginal = findObjects(Names[0],Names[1],Names[2],imagename=originalImage,original='yes')\n",
    "    totGross = findObjects(Names[0],Names[1],Names[2],imagename=IMAGE) # confName tabName catname\n",
    "    finalTuple = innerJoin(Names[1],totGross,totGrossOriginal,variableList,mag,baseNum)\n",
    "    return finalTuple # named final tuple but actually [finaltuple,score]"
   ]
  },
  {
   "cell_type": "code",
   "execution_count": 13,
   "metadata": {
    "collapsed": true
   },
   "outputs": [],
   "source": [
    "def hotpantsQuality(image):\n",
    "    hdu = fits.open(image)\n",
    "    imData = hdu[0].data\n",
    "    imData = abs(imData)\n",
    "    totVal = sum(imData)\n",
    "    totVal = sum(totVal)\n",
    "    return totVal"
   ]
  },
  {
   "cell_type": "code",
   "execution_count": 14,
   "metadata": {
    "collapsed": true
   },
   "outputs": [],
   "source": [
    "valList = keplerSettings.sextractorValueList"
   ]
  },
  {
   "cell_type": "code",
   "execution_count": 15,
   "metadata": {
    "collapsed": true
   },
   "outputs": [],
   "source": [
    "def evaluateImage(valList,simImage,OGImage,ccd,median,norm,minmag,baseNum,smallName='newRun',atList=keplerSettings.sextractorAttributeList,dbtabname='finalresultsTable'):\n",
    "    \n",
    "    finalTableTuples = []\n",
    "    t0 = time.time()\n",
    "\n",
    "    for x0 in range(len(valList[0])):\n",
    "        for x1 in range(len(valList[1])):\n",
    "                name = smallName+'_'+str(x0)+'_'+str(x1)+'_'\n",
    "                for x2 in range(len(valList[2])):\n",
    "                    variableList = [float(valList[0][x0]),float(valList[1][x1]),valList[2][x2],ccd,median,minmag,norm]\n",
    "                    fullname = name+str(x2)\n",
    "                    fullValList = [valList[0][x0],valList[1][x1],valList[2][x2]]\n",
    "                    print(fullname)\n",
    "                    try:\n",
    "                        alltogethernowResults = alltogethernow(fullValList,tableName=fullname,IMAGE=simImage,variableList=variableList,originalImage=OGImage,mag=minmag,baseNum=baseNum,atList=atList)\n",
    "                        finalTableTuples.append(alltogethernowResults[0])\n",
    "                        #score = alltogethernowResults[1]\n",
    "                    except RuntimeError:\n",
    "                        with open('redos','a') as f:\n",
    "                            bigString = simImage+','+str(fullname)+','+str(fullValList)\n",
    "                            f.write(bigString)\n",
    "                        print('Redo with valList = ',fullValList)\n",
    "                        pass\n",
    "\n",
    "    #print(finalTableTuples)\n",
    "    rdd = sc.parallelize(finalTableTuples)\n",
    "    kepler = rdd.map(lambda x: Row(detectThresh=x[0],detectMinarea=x[1],filterName=x[2],ccd=x[3],median=x[4],medianQuality=x[5],\n",
    "                                   minmag=x[6], xy_0=int(x[7]),xy_1=int(x[8]),xy_2=int(x[9]),xy_3=int(x[10]),xy_4=int(x[11]),\n",
    "                                   xy_5=int(x[12]),xy_6=int(x[13]),xy_7=int(x[14]),xy_8=int(x[15]),xy_9=int(x[16]),xy_10=int(x[17]),\n",
    "                                   xy_11=int(x[18]),xy_12=int(x[19]),xy_13=int(x[20]),xy_14=int(x[21]),xy_15=int(x[22]),\n",
    "                                   totNum=int(x[23]),totGross=int(x[24]),OGtot=int(x[25]),OGtotGross=int(x[26]),completenessScore=int(x[27]),accuracyScore=int(x[28])))\n",
    "\n",
    "    schemaKepler = sqlContext.createDataFrame(kepler)\n",
    "    #print('finalResults_{}_{}_{}'.format(ccd,median,minmag))\n",
    "    #print(dbtabname)\n",
    "    schemaKepler.write.format('jdbc').options(url=keplerSettings.databaseLoc,driver='com.mysql.jdbc.Driver',dbtable=dbtabname,user=keplerSettings.databaseUsername,password=keplerSettings.databasePassword).mode('append').save()\n",
    "    \n",
    "    print(time.time()-t0)\n"
   ]
  },
  {
   "cell_type": "code",
   "execution_count": 30,
   "metadata": {
    "collapsed": true
   },
   "outputs": [],
   "source": [
    "ccd = keplerSettings.ccdExtensions\n",
    "median = [1]\n",
    "mags = keplerSettings.magRange"
   ]
  },
  {
   "cell_type": "code",
   "execution_count": 37,
   "metadata": {
    "scrolled": true
   },
   "outputs": [
    {
     "name": "stdout",
     "output_type": "stream",
     "text": [
      "/home/mj1e16/Simages/diff_63_1.fits\n",
      "Testarino_63_1_7_0_0_0\n",
      "/home/mj1e16/Simages/diff_63_1.fits\n",
      "('normal', '/home/mj1e16/Simages/diff_63_1-7_alt.fits')\n",
      "(69, 1)\n",
      "(65, 0)\n",
      "(67, 2)\n",
      "(49, 2)\n",
      "(68, 1)\n",
      "(63, 0)\n",
      "(67, 0)\n",
      "(49, 0)\n",
      "(68, 1)\n",
      "(65, 1)\n",
      "(65, 1)\n",
      "(50, 0)\n",
      "(67, 1)\n",
      "(42, 1)\n",
      "(37, 1)\n",
      "(48, 1)\n",
      "(0.10282258064516125, 1.0)\n",
      "Testarino_63_1_7_0_1_0\n",
      "/home/mj1e16/Simages/diff_63_1.fits\n",
      "('normal', '/home/mj1e16/Simages/diff_63_1-7_alt.fits')\n",
      "(69, 0)\n",
      "(65, 0)\n",
      "(67, 0)\n",
      "(49, 1)\n",
      "(68, 1)\n",
      "(63, 0)\n",
      "(67, 0)\n",
      "(49, 0)\n",
      "(68, 0)\n",
      "(65, 1)\n",
      "(65, 1)\n",
      "(50, 0)\n",
      "(67, 0)\n",
      "(42, 1)\n",
      "(37, 0)\n",
      "(48, 0)\n",
      "(0.09979838709677424, 0.215812574816166)\n",
      "Testarino_63_1_7_1_0_0\n",
      "/home/mj1e16/Simages/diff_63_1.fits\n",
      "('normal', '/home/mj1e16/Simages/diff_63_1-7_alt.fits')\n",
      "(69, 0)\n",
      "(65, 0)\n",
      "(67, 0)\n",
      "(49, 0)\n",
      "(69, 0)\n",
      "(63, 0)\n",
      "(67, 0)\n",
      "(49, 0)\n",
      "(68, 0)\n",
      "(65, 2)\n",
      "(67, 0)\n",
      "(50, 0)\n",
      "(67, 0)\n",
      "(41, 1)\n",
      "(35, 0)\n",
      "(49, 0)\n",
      "(0.10080645161290325, 0.11702673430998119)\n",
      "Testarino_63_1_7_1_1_0\n",
      "/home/mj1e16/Simages/diff_63_1.fits\n",
      "('normal', '/home/mj1e16/Simages/diff_63_1-7_alt.fits')\n",
      "(69, 0)\n",
      "(65, 0)\n",
      "(67, 0)\n",
      "(49, 0)\n",
      "(69, 0)\n",
      "(63, 0)\n",
      "(67, 0)\n",
      "(49, 0)\n",
      "(68, 0)\n",
      "(65, 0)\n",
      "(67, 0)\n",
      "(50, 0)\n",
      "(67, 0)\n",
      "(42, 0)\n",
      "(37, 0)\n",
      "(49, 0)\n",
      "(0.09677419354838712, 0.015504759733226929)\n",
      "18.2180109024\n"
     ]
    },
    {
     "ename": "KeyboardInterrupt",
     "evalue": "",
     "output_type": "error",
     "traceback": [
      "\u001b[0;31m---------------------------------------------------------------------------\u001b[0m",
      "\u001b[0;31mKeyboardInterrupt\u001b[0m                         Traceback (most recent call last)",
      "\u001b[0;32m<ipython-input-37-d24444ed2e09>\u001b[0m in \u001b[0;36m<module>\u001b[0;34m()\u001b[0m\n\u001b[1;32m     13\u001b[0m \u001b[0;32mfor\u001b[0m \u001b[0mmag\u001b[0m \u001b[0;32min\u001b[0m \u001b[0mmags\u001b[0m\u001b[0;34m:\u001b[0m\u001b[0;34m\u001b[0m\u001b[0m\n\u001b[1;32m     14\u001b[0m     \u001b[0mbaseNames\u001b[0m \u001b[0;34m=\u001b[0m \u001b[0mmakeConfig\u001b[0m\u001b[0;34m(\u001b[0m\u001b[0mbaseSettings\u001b[0m\u001b[0;34m,\u001b[0m\u001b[0mtableName\u001b[0m\u001b[0;34m=\u001b[0m\u001b[0;34m'baseTable'\u001b[0m\u001b[0;34m)\u001b[0m\u001b[0;34m\u001b[0m\u001b[0m\n\u001b[0;32m---> 15\u001b[0;31m     \u001b[0mbaseNum\u001b[0m \u001b[0;34m=\u001b[0m \u001b[0mfindObjects\u001b[0m\u001b[0;34m(\u001b[0m\u001b[0mbaseNames\u001b[0m\u001b[0;34m[\u001b[0m\u001b[0;36m0\u001b[0m\u001b[0;34m]\u001b[0m\u001b[0;34m,\u001b[0m\u001b[0mbaseNames\u001b[0m\u001b[0;34m[\u001b[0m\u001b[0;36m1\u001b[0m\u001b[0;34m]\u001b[0m\u001b[0;34m,\u001b[0m\u001b[0mbaseNames\u001b[0m\u001b[0;34m[\u001b[0m\u001b[0;36m2\u001b[0m\u001b[0;34m]\u001b[0m\u001b[0;34m,\u001b[0m\u001b[0mimagename\u001b[0m\u001b[0;34m=\u001b[0m\u001b[0mogim\u001b[0m\u001b[0;34m,\u001b[0m\u001b[0mbase\u001b[0m\u001b[0;34m=\u001b[0m\u001b[0;34m'yes'\u001b[0m\u001b[0;34m)\u001b[0m\u001b[0;34m\u001b[0m\u001b[0m\n\u001b[0m\u001b[1;32m     16\u001b[0m     \u001b[0msqlContext\u001b[0m\u001b[0;34m.\u001b[0m\u001b[0mcacheTable\u001b[0m\u001b[0;34m(\u001b[0m\u001b[0;34m'starlist_{}'\u001b[0m\u001b[0;34m.\u001b[0m\u001b[0mformat\u001b[0m\u001b[0;34m(\u001b[0m\u001b[0mabs\u001b[0m\u001b[0;34m(\u001b[0m\u001b[0mmag\u001b[0m\u001b[0;34m)\u001b[0m\u001b[0;34m)\u001b[0m\u001b[0;34m)\u001b[0m\u001b[0;34m\u001b[0m\u001b[0m\n\u001b[1;32m     17\u001b[0m     \u001b[0mimName\u001b[0m \u001b[0;34m=\u001b[0m \u001b[0mkeplerSettings\u001b[0m\u001b[0;34m.\u001b[0m\u001b[0msimulatedImageDirectory\u001b[0m\u001b[0;34m+\u001b[0m\u001b[0;34m'diff_{}_{}{}_alt.fits'\u001b[0m\u001b[0;34m.\u001b[0m\u001b[0mformat\u001b[0m\u001b[0;34m(\u001b[0m\u001b[0mc\u001b[0m\u001b[0;34m,\u001b[0m\u001b[0mmed\u001b[0m\u001b[0;34m,\u001b[0m\u001b[0mmag\u001b[0m\u001b[0;34m)\u001b[0m\u001b[0;34m\u001b[0m\u001b[0m\n",
      "\u001b[0;32m<ipython-input-36-55b8e20f4289>\u001b[0m in \u001b[0;36mfindObjects\u001b[0;34m(confName, tableName, catName, defaultDir, imagename, original, base)\u001b[0m\n\u001b[1;32m    113\u001b[0m \u001b[0;34m\u001b[0m\u001b[0m\n\u001b[1;32m    114\u001b[0m     \u001b[0mos\u001b[0m\u001b[0;34m.\u001b[0m\u001b[0mchdir\u001b[0m\u001b[0;34m(\u001b[0m\u001b[0mdefaultDir\u001b[0m\u001b[0;34m)\u001b[0m\u001b[0;34m\u001b[0m\u001b[0m\n\u001b[0;32m--> 115\u001b[0;31m     \u001b[0msubprocess\u001b[0m\u001b[0;34m.\u001b[0m\u001b[0mcall\u001b[0m\u001b[0;34m(\u001b[0m\u001b[0;34m[\u001b[0m\u001b[0;34m'sex'\u001b[0m\u001b[0;34m,\u001b[0m\u001b[0mimagename\u001b[0m\u001b[0;34m,\u001b[0m\u001b[0;34m'-c'\u001b[0m\u001b[0;34m,\u001b[0m\u001b[0mconfName\u001b[0m\u001b[0;34m]\u001b[0m\u001b[0;34m)\u001b[0m\u001b[0;34m\u001b[0m\u001b[0m\n\u001b[0m\u001b[1;32m    116\u001b[0m     \u001b[0massoc\u001b[0m \u001b[0;34m=\u001b[0m \u001b[0mTable\u001b[0m\u001b[0;34m.\u001b[0m\u001b[0mread\u001b[0m\u001b[0;34m(\u001b[0m\u001b[0mcatName\u001b[0m\u001b[0;34m,\u001b[0m\u001b[0mformat\u001b[0m\u001b[0;34m=\u001b[0m\u001b[0;34m'ascii.sextractor'\u001b[0m\u001b[0;34m)\u001b[0m\u001b[0;34m\u001b[0m\u001b[0m\n\u001b[1;32m    117\u001b[0m     \u001b[0mdf\u001b[0m \u001b[0;34m=\u001b[0m \u001b[0massoc\u001b[0m\u001b[0;34m.\u001b[0m\u001b[0mto_pandas\u001b[0m\u001b[0;34m(\u001b[0m\u001b[0;34m)\u001b[0m\u001b[0;34m\u001b[0m\u001b[0m\n",
      "\u001b[0;32m/home/mj1e16/miniconda2/envs/astroconda/lib/python2.7/subprocess.pyc\u001b[0m in \u001b[0;36mcall\u001b[0;34m(*popenargs, **kwargs)\u001b[0m\n\u001b[1;32m    166\u001b[0m     \u001b[0mretcode\u001b[0m \u001b[0;34m=\u001b[0m \u001b[0mcall\u001b[0m\u001b[0;34m(\u001b[0m\u001b[0;34m[\u001b[0m\u001b[0;34m\"ls\"\u001b[0m\u001b[0;34m,\u001b[0m \u001b[0;34m\"-l\"\u001b[0m\u001b[0;34m]\u001b[0m\u001b[0;34m)\u001b[0m\u001b[0;34m\u001b[0m\u001b[0m\n\u001b[1;32m    167\u001b[0m     \"\"\"\n\u001b[0;32m--> 168\u001b[0;31m     \u001b[0;32mreturn\u001b[0m \u001b[0mPopen\u001b[0m\u001b[0;34m(\u001b[0m\u001b[0;34m*\u001b[0m\u001b[0mpopenargs\u001b[0m\u001b[0;34m,\u001b[0m \u001b[0;34m**\u001b[0m\u001b[0mkwargs\u001b[0m\u001b[0;34m)\u001b[0m\u001b[0;34m.\u001b[0m\u001b[0mwait\u001b[0m\u001b[0;34m(\u001b[0m\u001b[0;34m)\u001b[0m\u001b[0;34m\u001b[0m\u001b[0m\n\u001b[0m\u001b[1;32m    169\u001b[0m \u001b[0;34m\u001b[0m\u001b[0m\n\u001b[1;32m    170\u001b[0m \u001b[0;34m\u001b[0m\u001b[0m\n",
      "\u001b[0;32m/home/mj1e16/miniconda2/envs/astroconda/lib/python2.7/subprocess.pyc\u001b[0m in \u001b[0;36mwait\u001b[0;34m(self)\u001b[0m\n\u001b[1;32m   1071\u001b[0m             \u001b[0;32mwhile\u001b[0m \u001b[0mself\u001b[0m\u001b[0;34m.\u001b[0m\u001b[0mreturncode\u001b[0m \u001b[0;32mis\u001b[0m \u001b[0mNone\u001b[0m\u001b[0;34m:\u001b[0m\u001b[0;34m\u001b[0m\u001b[0m\n\u001b[1;32m   1072\u001b[0m                 \u001b[0;32mtry\u001b[0m\u001b[0;34m:\u001b[0m\u001b[0;34m\u001b[0m\u001b[0m\n\u001b[0;32m-> 1073\u001b[0;31m                     \u001b[0mpid\u001b[0m\u001b[0;34m,\u001b[0m \u001b[0msts\u001b[0m \u001b[0;34m=\u001b[0m \u001b[0m_eintr_retry_call\u001b[0m\u001b[0;34m(\u001b[0m\u001b[0mos\u001b[0m\u001b[0;34m.\u001b[0m\u001b[0mwaitpid\u001b[0m\u001b[0;34m,\u001b[0m \u001b[0mself\u001b[0m\u001b[0;34m.\u001b[0m\u001b[0mpid\u001b[0m\u001b[0;34m,\u001b[0m \u001b[0;36m0\u001b[0m\u001b[0;34m)\u001b[0m\u001b[0;34m\u001b[0m\u001b[0m\n\u001b[0m\u001b[1;32m   1074\u001b[0m                 \u001b[0;32mexcept\u001b[0m \u001b[0mOSError\u001b[0m \u001b[0;32mas\u001b[0m \u001b[0me\u001b[0m\u001b[0;34m:\u001b[0m\u001b[0;34m\u001b[0m\u001b[0m\n\u001b[1;32m   1075\u001b[0m                     \u001b[0;32mif\u001b[0m \u001b[0me\u001b[0m\u001b[0;34m.\u001b[0m\u001b[0merrno\u001b[0m \u001b[0;34m!=\u001b[0m \u001b[0merrno\u001b[0m\u001b[0;34m.\u001b[0m\u001b[0mECHILD\u001b[0m\u001b[0;34m:\u001b[0m\u001b[0;34m\u001b[0m\u001b[0m\n",
      "\u001b[0;32m/home/mj1e16/miniconda2/envs/astroconda/lib/python2.7/subprocess.pyc\u001b[0m in \u001b[0;36m_eintr_retry_call\u001b[0;34m(func, *args)\u001b[0m\n\u001b[1;32m    119\u001b[0m     \u001b[0;32mwhile\u001b[0m \u001b[0mTrue\u001b[0m\u001b[0;34m:\u001b[0m\u001b[0;34m\u001b[0m\u001b[0m\n\u001b[1;32m    120\u001b[0m         \u001b[0;32mtry\u001b[0m\u001b[0;34m:\u001b[0m\u001b[0;34m\u001b[0m\u001b[0m\n\u001b[0;32m--> 121\u001b[0;31m             \u001b[0;32mreturn\u001b[0m \u001b[0mfunc\u001b[0m\u001b[0;34m(\u001b[0m\u001b[0;34m*\u001b[0m\u001b[0margs\u001b[0m\u001b[0;34m)\u001b[0m\u001b[0;34m\u001b[0m\u001b[0m\n\u001b[0m\u001b[1;32m    122\u001b[0m         \u001b[0;32mexcept\u001b[0m \u001b[0;34m(\u001b[0m\u001b[0mOSError\u001b[0m\u001b[0;34m,\u001b[0m \u001b[0mIOError\u001b[0m\u001b[0;34m)\u001b[0m \u001b[0;32mas\u001b[0m \u001b[0me\u001b[0m\u001b[0;34m:\u001b[0m\u001b[0;34m\u001b[0m\u001b[0m\n\u001b[1;32m    123\u001b[0m             \u001b[0;32mif\u001b[0m \u001b[0me\u001b[0m\u001b[0;34m.\u001b[0m\u001b[0merrno\u001b[0m \u001b[0;34m==\u001b[0m \u001b[0merrno\u001b[0m\u001b[0;34m.\u001b[0m\u001b[0mEINTR\u001b[0m\u001b[0;34m:\u001b[0m\u001b[0;34m\u001b[0m\u001b[0m\n",
      "\u001b[0;31mKeyboardInterrupt\u001b[0m: "
     ]
    }
   ],
   "source": [
    "### Make function to replace starlist\n",
    "bestSettings = []\n",
    "baseSettings = [valList[0][0],valList[1][0],valList[2][0]]\n",
    "#starting = [4,4,14]\n",
    "# for inc,c in enumerate(ccd):\n",
    "#     for inmed,med in enumerate(median):\n",
    "\n",
    "c = 63 #ccd[0]\n",
    "med = median[0]\n",
    "norm = 1.0\n",
    "ogim = keplerSettings.simulatedImageDirectory+'diff_{}_{}.fits'.format(c,med)\n",
    "\n",
    "for mag in mags:\n",
    "    baseNames = makeConfig(baseSettings,tableName='baseTable')\n",
    "    baseNum = findObjects(baseNames[0],baseNames[1],baseNames[2],imagename=ogim,base='yes')\n",
    "    sqlContext.cacheTable('starlist_{}'.format(abs(mag)))            \n",
    "    imName = keplerSettings.simulatedImageDirectory+'diff_{}_{}{}_alt.fits'.format(c,med,mag)\n",
    "    tabName = keplerSettings.databaseTableName+'_{}_{}_{}'.format(c,med,abs(mag))\n",
    "    evaluateImage(valList,imName,ogim,'ccd_{}'.format(c),'median_{}'.format(med),norm,mag,baseNum,smallName=tabName,dbtabname='results'+tabName)\n",
    "    sqlContext.uncacheTable('starlist_{}'.format(abs(mag)))\n",
    "    #starting = bestSettings[-1]"
   ]
  },
  {
   "cell_type": "code",
   "execution_count": null,
   "metadata": {
    "collapsed": true
   },
   "outputs": [],
   "source": []
  },
  {
   "cell_type": "code",
   "execution_count": null,
   "metadata": {
    "collapsed": true
   },
   "outputs": [],
   "source": []
  },
  {
   "cell_type": "code",
   "execution_count": null,
   "metadata": {
    "collapsed": true
   },
   "outputs": [],
   "source": []
  }
 ],
 "metadata": {
  "kernelspec": {
   "display_name": "Python 2",
   "language": "python",
   "name": "python2"
  },
  "language_info": {
   "codemirror_mode": {
    "name": "ipython",
    "version": 2
   },
   "file_extension": ".py",
   "mimetype": "text/x-python",
   "name": "python",
   "nbconvert_exporter": "python",
   "pygments_lexer": "ipython2",
   "version": "2.7.13"
  }
 },
 "nbformat": 4,
 "nbformat_minor": 2
}
