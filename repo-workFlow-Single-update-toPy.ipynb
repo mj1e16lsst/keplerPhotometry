{
 "cells": [
  {
   "cell_type": "code",
   "execution_count": 2,
   "metadata": {},
   "outputs": [],
   "source": [
    "import keplerSettings as keplerSettings"
   ]
  },
  {
   "cell_type": "code",
   "execution_count": 3,
   "metadata": {
    "collapsed": true
   },
   "outputs": [],
   "source": [
    "import findspark\n",
    "findspark.init(keplerSettings.sparkHome)"
   ]
  },
  {
   "cell_type": "code",
   "execution_count": 4,
   "metadata": {
    "collapsed": true
   },
   "outputs": [],
   "source": [
    "from astropy.io import fits"
   ]
  },
  {
   "cell_type": "code",
   "execution_count": 5,
   "metadata": {
    "collapsed": true
   },
   "outputs": [],
   "source": [
    "#import astroprov\n",
    "import sys\n",
    "import datetime\n",
    "import time\n",
    "import collections\n",
    "import subprocess\n",
    "\n",
    "import numpy as np\n",
    "import os\n",
    "\n",
    "from astropy.table import Table\n",
    "from astropy.table import Column\n",
    "from astropy.io import ascii\n",
    "\n",
    "import sqlite3\n",
    "from pandas import DataFrame\n",
    "\n",
    "import mysql.connector\n",
    "from mysql.connector import Error\n",
    "from mysql.connector import pooling\n",
    "\n",
    "from pyspark.sql import Row\n",
    "from pyspark.sql import SQLContext\n",
    "from pyspark import SparkContext\n",
    "from pyspark import SparkConf\n",
    "\n",
    "#from sqlalchemy import create_engine\n",
    "#from multiprocessing import Pool\n",
    "#from multiprocessing.pool import ThreadPool\n",
    "#from functools import partial\n",
    "#from sqlalchemy import create_engine\n",
    "#from astropy.visualization.mpl_normalize import ImageNormalize\n"
   ]
  },
  {
   "cell_type": "code",
   "execution_count": 6,
   "metadata": {},
   "outputs": [],
   "source": [
    "defaultDirectory = keplerSettings.sextractorDirectory"
   ]
  },
  {
   "cell_type": "code",
   "execution_count": 16,
   "metadata": {
    "collapsed": true
   },
   "outputs": [],
   "source": [
    "os.environ['PYSPARK_SUBMIT_ARGS'] = '--jars '+ keplerSettings.mysqlSQLConnector+'  pyspark-shell'\n",
    "config = SparkConf().setAll(keplerSettings.sparkConfig) # (\"spark.sql.execution.arrow.enabled\", \"true\")\n"
   ]
  },
  {
   "cell_type": "code",
   "execution_count": 17,
   "metadata": {},
   "outputs": [],
   "source": [
    "sc = SparkContext(appName='App',conf=config)\n",
    "sqlContext = SQLContext(sc)"
   ]
  },
  {
   "cell_type": "code",
   "execution_count": 18,
   "metadata": {
    "collapsed": true
   },
   "outputs": [],
   "source": [
    "\n",
    "mags = keplerSettings.magRangeSQLnaming\n",
    "for mag in mags:\n",
    "    dataframe_mysql = sqlContext.read.format(\"jdbc\").option(\"url\",  keplerSettings.databaseLoc).option(\"driver\", \"com.mysql.jdbc.Driver\").option(\"dbtable\", \"starlist_{}\".format(mag)).option(\"user\", keplerSettings.databaseUsername).option(\"password\", keplerSettings.databasePassword).load()\n",
    "    dataframe_mysql.registerTempTable('starlist_{}'.format(mag))"
   ]
  },
  {
   "cell_type": "code",
   "execution_count": 7,
   "metadata": {
    "collapsed": true
   },
   "outputs": [],
   "source": [
    "def innerJoin(tableName,totGross,totGrossOriginal,variableList,mag,baseNum,diffSize=1,xlength=keplerSettings.astroImageXlength,ylength=keplerSettings.astroImageYlength,weight=0.5):\n",
    "    nsegs = keplerSettings.nsegs\n",
    "    nperseg = keplerSettings.totalObjects/(nsegs**2)\n",
    "    actualtTotObjects = nperseg*nsegs*nsegs\n",
    "    #mag = variableList[6]\n",
    "    temptableName = tableName[0:5]+tableName[-1]\n",
    "    OGtemptableName = 'original'\n",
    "    OGdf = sqlContext.sql(\"SELECT NUMBER, MAG_BEST, X_IMAGE, Y_IMAGE FROM {0} INNER JOIN starlist_{1} ON {0}.X_IMAGE BETWEEN starlist_{1}.X_POS_MIN AND starlist_{1}.X_POS_MAX AND {0}.Y_IMAGE BETWEEN starlist_{1}.Y_POS_MIN AND starlist_{1}.Y_POS_MAX\".format(OGtemptableName,abs(mag)))\n",
    "    OGdf.registerTempTable(OGtemptableName+'match')\n",
    "    sqlContext.cacheTable(OGtemptableName+'match')\n",
    "    \n",
    "    OGtotNumDF = sqlContext.sql(\"SELECT * FROM {}\".format(OGtemptableName))\n",
    "    OGtotNumber = OGtotNumDF.count()\n",
    "    \n",
    "    df = sqlContext.sql(\"SELECT NUMBER, MAG_BEST, X_IMAGE, Y_IMAGE FROM {0} INNER JOIN starlist_{1} ON {0}.X_IMAGE BETWEEN starlist_{1}.X_POS_MIN AND starlist_{1}.X_POS_MAX AND {0}.Y_IMAGE BETWEEN starlist_{1}.Y_POS_MIN AND starlist_{1}.Y_POS_MAX\".format(temptableName,abs(mag)))\n",
    "    df.registerTempTable(temptableName+'match')\n",
    "    sqlContext.cacheTable(temptableName+'match')\n",
    "    totNumber = df.count()\n",
    "    #print('tot',totNumber)\n",
    "    \n",
    "    xsegment = xlength/nsegs\n",
    "    ysegment = ylength/nsegs\n",
    "    \n",
    "    accuracyScore = (float(OGtotNumber)/float(baseNum))\n",
    "    #print('og',OGtotNumber,'base',baseNum,'tot',totNumber)\n",
    "    completenessScore = 0\n",
    "    #totSeg = []\n",
    "    border = keplerSettings.border\n",
    "    #df.write.format('jdbc').options(url='jdbc:mysql://localhost/Kepler',driver='com.mysql.jdbc.Driver',dbtable='result_{}'.format(tableName),user='mj1e16',password='[sqlT1G3R]').mode('append').save()\n",
    "    for xsegs in range(nsegs):\n",
    "        xmin = int(xsegs*xsegment)+border\n",
    "        xmax = int(xmin+xsegment)+border\n",
    "        for ysegs in range(nsegs):\n",
    "            ymin = int(ysegs*ysegment)+border\n",
    "            ymax = int(ymin+ysegment)+border\n",
    "            \n",
    "            OGdf = sqlContext.sql(\"SELECT NUMBER FROM {0} WHERE {0}.X_IMAGE BETWEEN {1} AND {2} AND {0}.Y_IMAGE BETWEEN {3} AND {4}\".format(OGtemptableName+'match',xmin,xmax,ymin,ymax))\n",
    "            OGnumber = OGdf.count()\n",
    "            df = sqlContext.sql(\"SELECT NUMBER FROM {0} WHERE {0}.X_IMAGE BETWEEN {1} AND {2} AND {0}.Y_IMAGE BETWEEN {3} AND {4}\".format(temptableName+'match',xmin,xmax,ymin,ymax))\n",
    "            number = df.count()\n",
    "            simulated = number-OGnumber\n",
    "            if simulated > nperseg:\n",
    "                simulated = nperseg \n",
    "            completenessScore +=  simulated #abs(simulated-62)\n",
    "            \n",
    "            variableList.append(simulated)\n",
    "            \n",
    "#             dftot = sqlContext.sql(\"SELECT NUMBER FROM {0} WHERE {0}.X_IMAGE BETWEEN {1} AND {2} AND {0}.Y_IMAGE BETWEEN {3} AND {4}\".format(temptableName,xmin,xmax,ymin,ymax))\n",
    "#             number = df.count()\n",
    "#             #variableList.append(number)\n",
    "#             totSeg.append(number)\n",
    "\n",
    "            # need to create some place to write to\n",
    "\n",
    "    \n",
    "    \n",
    "#    variableList.extend(totSeg)\n",
    "    #astroprov.provcall([tableName,'starlist_{}'.format(abs(mag))],['result_{}'.format(tableName)],\"innerJoin_Python2Python_SQ_tmpl.provn\",\"innerJoin\",provDir)\n",
    "    compScore = 1. - (completenessScore/float(actualtTotObjects))\n",
    "    #score = (weight*compScore) + ((1.-weight)*accuracyScore)\n",
    "    #print(score,compScore,accuracyScore)\n",
    "    sqlContext.uncacheTable(temptableName+'match')\n",
    "    sqlContext.dropTempTable(temptableName+'match')\n",
    "    sqlContext.uncacheTable(OGtemptableName+'match')\n",
    "    sqlContext.dropTempTable(OGtemptableName+'match')\n",
    "    sqlContext.uncacheTable(temptableName)\n",
    "    sqlContext.dropTempTable(temptableName)\n",
    "    sqlContext.uncacheTable(OGtemptableName)\n",
    "    sqlContext.dropTempTable(OGtemptableName)\n",
    "    variableList.append(totNumber)\n",
    "    variableList.append(totGross)\n",
    "    variableList.append(OGtotNumber)\n",
    "    variableList.append(totGrossOriginal) \n",
    "    variableList.append(compScore)\n",
    "    variableList.append(accuracyScore)\n",
    "    variableTuple = tuple(variableList)\n",
    "    #print(variableTuple)\n",
    "    return [variableTuple]\n",
    "\n",
    "\n",
    "def makeConfig(valList,tableName='table',defaultDir=defaultDirectory,attributeList=keplerSettings.sextractorAttributeList):\n",
    "    \n",
    "    with open(defaultDir+'/default.sex','r') as f:\n",
    "        data  = f.read()\n",
    "    for x in range(len(valList)):\n",
    "        nameLoc = data.find(attributeList[x]) + len(attributeList[x])\n",
    "        endLoc = data[nameLoc:].find('#') + nameLoc\n",
    "        newData = data[:nameLoc] + ' '+str(valList[x])+' ' + data[endLoc:]\n",
    "        data = newData\n",
    "    \n",
    "    cname = 'CATALOG_NAME'\n",
    "    catName = 'test1.cat'\n",
    "    confName = 'default_1.sex'\n",
    "    nameLoc = data.find(cname) + len(cname)\n",
    "    endLoc = data[nameLoc:].find('#') + nameLoc\n",
    "    newData = data[:nameLoc] + ' ' +catName+ ' ' + data[endLoc:]\n",
    "    data = newData\n",
    "\n",
    "    cname = 'PARAMETERS_NAME'\n",
    "    nameLoc = data.find(cname) + len(cname)\n",
    "    endLoc = data[nameLoc:].find('#') + nameLoc\n",
    "    newData = data[:nameLoc] + ' autodefault.param ' + data[endLoc:]\n",
    "    \n",
    "    #print(newData)\n",
    "    with open(defaultDir+confName,'w') as f:\n",
    "        f.write(newData)\n",
    "    return(confName,tableName,catName)\n",
    "\n",
    "def findObjects(confName,tableName,catName,defaultDir=defaultDirectory,imagename='/home/mj1e16/iraf/editedImage5000.fits',original='no',base='no'):\n",
    "    \n",
    "    os.chdir(defaultDir)\n",
    "    subprocess.call(['sex',imagename,'-c',confName])\n",
    "    assoc = Table.read(catName,format='ascii.sextractor')\n",
    "    df = assoc.to_pandas()\n",
    "    df2 = df[df['MAG_BEST'] != 99.0000]\n",
    "    df_spark = sqlContext.createDataFrame(df2)\n",
    "    temptableName = tableName[0:5]+tableName[-1]\n",
    "    if original == 'yes':\n",
    "        temptableName = 'original'\n",
    "    if base == 'yes':\n",
    "        temptableName = 'baseSettings'\n",
    "    df_spark.registerTempTable(temptableName)\n",
    "    totGross = df_spark.count()\n",
    "    sqlContext.cacheTable(temptableName)\n",
    "\n",
    "    return totGross\n",
    "\n",
    "def alltogethernow(valList,tableName,IMAGE,variableList,originalImage,mag,atList,baseNum):\n",
    "    Names = makeConfig(valList,tableName=tableName,attributeList=atList)\n",
    "    totGrossOriginal = findObjects(Names[0],Names[1],Names[2],imagename=originalImage,original='yes')\n",
    "    totGross = findObjects(Names[0],Names[1],Names[2],imagename=IMAGE) # confName tabName catname\n",
    "    finalTuple = innerJoin(Names[1],totGross,totGrossOriginal,variableList,mag,baseNum)\n",
    "    return finalTuple # named final tuple but actually [finaltuple,score]"
   ]
  },
  {
   "cell_type": "code",
   "execution_count": 8,
   "metadata": {
    "collapsed": true
   },
   "outputs": [],
   "source": [
    "def hotpantsQuality(image):\n",
    "    hdu = fits.open(image)\n",
    "    imData = hdu[0].data\n",
    "    imData = abs(imData)\n",
    "    totVal = sum(imData)\n",
    "    totVal = sum(totVal)\n",
    "    return totVal"
   ]
  },
  {
   "cell_type": "code",
   "execution_count": 9,
   "metadata": {
    "collapsed": true
   },
   "outputs": [],
   "source": [
    "valList = keplerSettings.sextractorValueList"
   ]
  },
  {
   "cell_type": "code",
   "execution_count": 21,
   "metadata": {
    "collapsed": true
   },
   "outputs": [],
   "source": [
    "#valList = [np.linspace(1,10,1),np.linspace(1,9,2),['gauss_1.5_3x3.conv']] # for testing"
   ]
  },
  {
   "cell_type": "code",
   "execution_count": 11,
   "metadata": {
    "collapsed": true
   },
   "outputs": [],
   "source": [
    "def evaluateImage(valList,simImage,OGImage,ccd,median,norm,minmag,baseNum,smallName='newRun',atList=keplerSettings.sextractorAttributeList,dbtabname='finalresultsTable'):\n",
    "    \n",
    "    finalTableTuples = []\n",
    "    t0 = time.time()\n",
    "\n",
    "    for x0 in range(len(valList[0])):\n",
    "        for x1 in range(len(valList[1])):\n",
    "                name = smallName+'_'+str(x0)+'_'+str(x1)+'_'\n",
    "                for x2 in range(len(valList[2])):\n",
    "                    variableList = [float(valList[0][x0]),float(valList[1][x1]),valList[2][x2],ccd,median,minmag,norm]\n",
    "                    fullname = name+str(x2)\n",
    "                    fullValList = [valList[0][x0],valList[1][x1],valList[2][x2]]\n",
    "                    print(fullname)\n",
    "                    try:\n",
    "                        alltogethernowResults = alltogethernow(fullValList,tableName=fullname,IMAGE=simImage,variableList=variableList,originalImage=OGImage,mag=minmag,baseNum=baseNum,atList=atList)\n",
    "                        finalTableTuples.append(alltogethernowResults[0])\n",
    "                        #score = alltogethernowResults[1]\n",
    "                    except RuntimeError:\n",
    "                        with open('redos','a') as f:\n",
    "                            bigString = simImage+','+str(fullname)+','+str(fullValList)\n",
    "                            f.write(bigString)\n",
    "                        print('Redo with valList = ',fullValList)\n",
    "                        pass\n",
    "\n",
    "    #print(finalTableTuples)\n",
    "    rdd = sc.parallelize(finalTableTuples)\n",
    "    kepler = rdd.map(lambda x: Row(detectThresh=x[0],detectMinarea=x[1],filterName=x[2],ccd=x[3],median=x[4],medianQuality=x[5],\n",
    "                                   minmag=x[6], xy_0=int(x[7]),xy_1=int(x[8]),xy_2=int(x[9]),xy_3=int(x[10]),xy_4=int(x[11]),\n",
    "                                   xy_5=int(x[12]),xy_6=int(x[13]),xy_7=int(x[14]),xy_8=int(x[15]),xy_9=int(x[16]),xy_10=int(x[17]),\n",
    "                                   xy_11=int(x[18]),xy_12=int(x[19]),xy_13=int(x[20]),xy_14=int(x[21]),xy_15=int(x[22]),\n",
    "                                   totNum=int(x[23]),totGross=int(x[24]),OGtot=int(x[25]),OGtotGross=int(x[26]),completenessScore=int(x[27]),accuracyScore=int(x[28])))\n",
    "\n",
    "    schemaKepler = sqlContext.createDataFrame(kepler)\n",
    "    #print('finalResults_{}_{}_{}'.format(ccd,median,minmag))\n",
    "    #print(dbtabname)\n",
    "    schemaKepler.write.format('jdbc').options(url=keplerSettings.databaseLoc,driver='com.mysql.jdbc.Driver',dbtable=dbtabname,user=keplerSettings.databaseUsername,password=keplerSettings.databasePassword).mode('append').save()\n",
    "    \n",
    "    print(time.time()-t0)\n"
   ]
  },
  {
   "cell_type": "code",
   "execution_count": 23,
   "metadata": {
    "collapsed": true
   },
   "outputs": [],
   "source": [
    "# ccd = [44,63,79]\n",
    "# median = [0,1,2]\n",
    "# mags = np.linspace(-7,-1,7)\n",
    "\n",
    "ccd = [44] #,63,79]\n",
    "#ccd = keplerSettings.ccdExtensions\n",
    "median = [1]\n",
    "mags = keplerSettings.magRange\n"
   ]
  },
  {
   "cell_type": "code",
   "execution_count": 13,
   "metadata": {},
   "outputs": [
    {
     "name": "stdout",
     "output_type": "stream",
     "text": [
      "[[19.092633575825804, 1.0, 1.9041523992142741]]\n"
     ]
    }
   ],
   "source": [
    "\n",
    "# norms = []\n",
    "# for inc,c in enumerate(ccd):\n",
    "#     totVals = []\n",
    "#     x =median\n",
    "#     totVals.append(hotpantsQuality('/home/mj1e16/Simages/diff_{}_{}.fits'.format(c,x)))\n",
    "#     norms.append([float(y/totVals[1]) for y in totVals])\n",
    "# #print(norms)\n",
    "# totVals = \n",
    "# norm = "
   ]
  },
  {
   "cell_type": "code",
   "execution_count": 85,
   "metadata": {
    "collapsed": true
   },
   "outputs": [],
   "source": [
    "#valList = [np.linspace(1,10,2),np.linspace(1,9,2),['gauss_1.5_3x3.conv']]"
   ]
  },
  {
   "cell_type": "code",
   "execution_count": 24,
   "metadata": {},
   "outputs": [
    {
     "name": "stdout",
     "output_type": "stream",
     "text": [
      "bigSimsTest2_44_1_7_0_0_0\n",
      "('og', 19902, 'base', 19902, 'tot', 904)\n",
      "bigSimsTest2_44_1_7_0_1_0\n",
      "('og', 3695, 'base', 19902, 'tot', 890)\n",
      "[(1.0, 1.0, 'gauss_1.5_3x3.conv', 'ccd_44', 'median_1', -7, 1.0, 62, 62, 62, 49, 62, 62, 62, 49, 62, 52, 56, 25, 62, 56, 46, 45, 904, 18678, 19902, 19902, 0.11895161290322576, 1.0), (1.0, 9.0, 'gauss_1.5_3x3.conv', 'ccd_44', 'median_1', -7, 1.0, 62, 62, 62, 50, 62, 62, 62, 50, 62, 52, 58, 30, 62, 56, 33, 47, 890, 3893, 3695, 3695, 0.12096774193548387, 0.18565973269018188)]\n",
      "resultsbigSimsTest2_44_1_7\n",
      "12.2816021442\n",
      "bigSimsTest2_44_1_6_0_0_0\n",
      "('og', 19902, 'base', 19902, 'tot', 901)\n",
      "bigSimsTest2_44_1_6_0_1_0\n",
      "('og', 3695, 'base', 19902, 'tot', 887)\n",
      "[(1.0, 1.0, 'gauss_1.5_3x3.conv', 'ccd_44', 'median_1', -6, 1.0, 62, 60, 62, 49, 62, 62, 62, 49, 62, 52, 56, 24, 62, 56, 46, 45, 901, 18829, 19902, 19902, 0.12197580645161288, 1.0), (1.0, 9.0, 'gauss_1.5_3x3.conv', 'ccd_44', 'median_1', -6, 1.0, 62, 62, 62, 50, 62, 62, 62, 50, 62, 52, 58, 29, 62, 56, 33, 47, 887, 3988, 3695, 3695, 0.12197580645161288, 0.18565973269018188)]\n",
      "resultsbigSimsTest2_44_1_6\n",
      "12.0285589695\n",
      "bigSimsTest2_44_1_5_0_0_0\n",
      "('og', 19902, 'base', 19902, 'tot', 898)\n",
      "bigSimsTest2_44_1_5_0_1_0\n",
      "('og', 3695, 'base', 19902, 'tot', 884)\n",
      "[(1.0, 1.0, 'gauss_1.5_3x3.conv', 'ccd_44', 'median_1', -5, 1.0, 62, 60, 62, 49, 62, 62, 62, 49, 62, 52, 56, 24, 62, 57, 46, 45, 898, 18916, 19902, 19902, 0.12096774193548387, 1.0), (1.0, 9.0, 'gauss_1.5_3x3.conv', 'ccd_44', 'median_1', -5, 1.0, 62, 62, 62, 50, 62, 62, 62, 50, 62, 52, 58, 29, 62, 57, 33, 47, 884, 4037, 3695, 3695, 0.12096774193548387, 0.18565973269018188)]\n",
      "resultsbigSimsTest2_44_1_5\n",
      "12.2882831097\n",
      "bigSimsTest2_44_1_4_0_0_0\n",
      "('og', 19902, 'base', 19902, 'tot', 899)\n",
      "bigSimsTest2_44_1_4_0_1_0\n",
      "('og', 3695, 'base', 19902, 'tot', 887)\n",
      "[(1.0, 1.0, 'gauss_1.5_3x3.conv', 'ccd_44', 'median_1', -4, 1.0, 62, 60, 62, 49, 62, 62, 62, 48, 62, 52, 56, 23, 62, 56, 46, 44, 899, 19073, 19902, 19902, 0.125, 1.0), (1.0, 9.0, 'gauss_1.5_3x3.conv', 'ccd_44', 'median_1', -4, 1.0, 62, 62, 62, 50, 62, 62, 62, 49, 62, 52, 58, 30, 62, 56, 33, 47, 887, 4102, 3695, 3695, 0.12197580645161288, 0.18565973269018188)]\n",
      "resultsbigSimsTest2_44_1_4\n",
      "12.1278829575\n",
      "bigSimsTest2_44_1_3_0_0_0\n",
      "('og', 19902, 'base', 19902, 'tot', 896)\n",
      "bigSimsTest2_44_1_3_0_1_0\n",
      "('og', 3695, 'base', 19902, 'tot', 881)\n",
      "[(1.0, 1.0, 'gauss_1.5_3x3.conv', 'ccd_44', 'median_1', -3, 1.0, 62, 60, 62, 48, 62, 62, 62, 48, 60, 52, 56, 23, 62, 56, 46, 44, 896, 19203, 19902, 19902, 0.12802419354838712, 1.0), (1.0, 9.0, 'gauss_1.5_3x3.conv', 'ccd_44', 'median_1', -3, 1.0, 62, 62, 62, 48, 62, 62, 62, 49, 62, 52, 58, 29, 62, 55, 33, 47, 881, 4191, 3695, 3695, 0.126008064516129, 0.18565973269018188)]\n",
      "resultsbigSimsTest2_44_1_3\n",
      "11.9801111221\n",
      "bigSimsTest2_44_1_2_0_0_0\n",
      "('og', 19902, 'base', 19902, 'tot', 897)\n",
      "bigSimsTest2_44_1_2_0_1_0\n",
      "('og', 3695, 'base', 19902, 'tot', 880)\n",
      "[(1.0, 1.0, 'gauss_1.5_3x3.conv', 'ccd_44', 'median_1', -2, 1.0, 62, 61, 62, 48, 62, 62, 62, 48, 61, 53, 57, 22, 62, 55, 46, 44, 897, 19431, 19902, 19902, 0.126008064516129, 1.0), (1.0, 9.0, 'gauss_1.5_3x3.conv', 'ccd_44', 'median_1', -2, 1.0, 62, 62, 62, 49, 62, 62, 62, 48, 62, 53, 59, 28, 62, 55, 33, 47, 880, 4289, 3695, 3695, 0.125, 0.18565973269018188)]\n",
      "resultsbigSimsTest2_44_1_2\n",
      "11.87885499\n",
      "bigSimsTest2_44_1_1_0_0_0\n",
      "('og', 19902, 'base', 19902, 'tot', 877)\n",
      "bigSimsTest2_44_1_1_0_1_0\n",
      "('og', 3695, 'base', 19902, 'tot', 850)\n"
     ]
    },
    {
     "ename": "KeyboardInterrupt",
     "evalue": "",
     "output_type": "error",
     "traceback": [
      "\u001b[0;31m---------------------------------------------------------------------------\u001b[0m",
      "\u001b[0;31mKeyboardInterrupt\u001b[0m                         Traceback (most recent call last)",
      "\u001b[0;32m<ipython-input-24-d2c36d0d0a29>\u001b[0m in \u001b[0;36m<module>\u001b[0;34m()\u001b[0m\n\u001b[1;32m     13\u001b[0m             \u001b[0mimName\u001b[0m \u001b[0;34m=\u001b[0m \u001b[0mkeplerSettings\u001b[0m\u001b[0;34m.\u001b[0m\u001b[0msimulatedImageDirectory\u001b[0m\u001b[0;34m+\u001b[0m\u001b[0;34m'diff_{}_{}{}_alt.fits'\u001b[0m\u001b[0;34m.\u001b[0m\u001b[0mformat\u001b[0m\u001b[0;34m(\u001b[0m\u001b[0mc\u001b[0m\u001b[0;34m,\u001b[0m\u001b[0mmed\u001b[0m\u001b[0;34m,\u001b[0m\u001b[0mmag\u001b[0m\u001b[0;34m)\u001b[0m\u001b[0;34m\u001b[0m\u001b[0m\n\u001b[1;32m     14\u001b[0m             \u001b[0mtabName\u001b[0m \u001b[0;34m=\u001b[0m \u001b[0;34m'bigSimsTest2_{}_{}_{}'\u001b[0m\u001b[0;34m.\u001b[0m\u001b[0mformat\u001b[0m\u001b[0;34m(\u001b[0m\u001b[0mc\u001b[0m\u001b[0;34m,\u001b[0m\u001b[0mmed\u001b[0m\u001b[0;34m,\u001b[0m\u001b[0mabs\u001b[0m\u001b[0;34m(\u001b[0m\u001b[0mmag\u001b[0m\u001b[0;34m)\u001b[0m\u001b[0;34m)\u001b[0m\u001b[0;34m\u001b[0m\u001b[0m\n\u001b[0;32m---> 15\u001b[0;31m             \u001b[0mevaluateImage\u001b[0m\u001b[0;34m(\u001b[0m\u001b[0mvalList\u001b[0m\u001b[0;34m,\u001b[0m\u001b[0mimName\u001b[0m\u001b[0;34m,\u001b[0m\u001b[0mogim\u001b[0m\u001b[0;34m,\u001b[0m\u001b[0;34m'ccd_{}'\u001b[0m\u001b[0;34m.\u001b[0m\u001b[0mformat\u001b[0m\u001b[0;34m(\u001b[0m\u001b[0mc\u001b[0m\u001b[0;34m)\u001b[0m\u001b[0;34m,\u001b[0m\u001b[0;34m'median_{}'\u001b[0m\u001b[0;34m.\u001b[0m\u001b[0mformat\u001b[0m\u001b[0;34m(\u001b[0m\u001b[0mmed\u001b[0m\u001b[0;34m)\u001b[0m\u001b[0;34m,\u001b[0m\u001b[0mnorm\u001b[0m\u001b[0;34m,\u001b[0m\u001b[0mmag\u001b[0m\u001b[0;34m,\u001b[0m\u001b[0mbaseNum\u001b[0m\u001b[0;34m,\u001b[0m\u001b[0msmallName\u001b[0m\u001b[0;34m=\u001b[0m\u001b[0mtabName\u001b[0m\u001b[0;34m,\u001b[0m\u001b[0mdbtabname\u001b[0m\u001b[0;34m=\u001b[0m\u001b[0;34m'results'\u001b[0m\u001b[0;34m+\u001b[0m\u001b[0mtabName\u001b[0m\u001b[0;34m)\u001b[0m\u001b[0;34m\u001b[0m\u001b[0m\n\u001b[0m\u001b[1;32m     16\u001b[0m             \u001b[0msqlContext\u001b[0m\u001b[0;34m.\u001b[0m\u001b[0muncacheTable\u001b[0m\u001b[0;34m(\u001b[0m\u001b[0;34m'starlist_{}'\u001b[0m\u001b[0;34m.\u001b[0m\u001b[0mformat\u001b[0m\u001b[0;34m(\u001b[0m\u001b[0mabs\u001b[0m\u001b[0;34m(\u001b[0m\u001b[0mmag\u001b[0m\u001b[0;34m)\u001b[0m\u001b[0;34m)\u001b[0m\u001b[0;34m)\u001b[0m\u001b[0;34m\u001b[0m\u001b[0m\n\u001b[1;32m     17\u001b[0m             \u001b[0;31m#starting = bestSettings[-1]\u001b[0m\u001b[0;34m\u001b[0m\u001b[0;34m\u001b[0m\u001b[0m\n",
      "\u001b[0;32m<ipython-input-11-180b37246e9b>\u001b[0m in \u001b[0;36mevaluateImage\u001b[0;34m(valList, simImage, OGImage, ccd, median, norm, minmag, baseNum, smallName, atList, dbtabname)\u001b[0m\n\u001b[1;32m     13\u001b[0m                     \u001b[0;32mprint\u001b[0m\u001b[0;34m(\u001b[0m\u001b[0mfullname\u001b[0m\u001b[0;34m)\u001b[0m\u001b[0;34m\u001b[0m\u001b[0m\n\u001b[1;32m     14\u001b[0m                     \u001b[0;32mtry\u001b[0m\u001b[0;34m:\u001b[0m\u001b[0;34m\u001b[0m\u001b[0m\n\u001b[0;32m---> 15\u001b[0;31m                         \u001b[0malltogethernowResults\u001b[0m \u001b[0;34m=\u001b[0m \u001b[0malltogethernow\u001b[0m\u001b[0;34m(\u001b[0m\u001b[0mfullValList\u001b[0m\u001b[0;34m,\u001b[0m\u001b[0mtableName\u001b[0m\u001b[0;34m=\u001b[0m\u001b[0mfullname\u001b[0m\u001b[0;34m,\u001b[0m\u001b[0mIMAGE\u001b[0m\u001b[0;34m=\u001b[0m\u001b[0msimImage\u001b[0m\u001b[0;34m,\u001b[0m\u001b[0mvariableList\u001b[0m\u001b[0;34m=\u001b[0m\u001b[0mvariableList\u001b[0m\u001b[0;34m,\u001b[0m\u001b[0moriginalImage\u001b[0m\u001b[0;34m=\u001b[0m\u001b[0mOGImage\u001b[0m\u001b[0;34m,\u001b[0m\u001b[0mmag\u001b[0m\u001b[0;34m=\u001b[0m\u001b[0mminmag\u001b[0m\u001b[0;34m,\u001b[0m\u001b[0mbaseNum\u001b[0m\u001b[0;34m=\u001b[0m\u001b[0mbaseNum\u001b[0m\u001b[0;34m,\u001b[0m\u001b[0matList\u001b[0m\u001b[0;34m=\u001b[0m\u001b[0matList\u001b[0m\u001b[0;34m)\u001b[0m\u001b[0;34m\u001b[0m\u001b[0m\n\u001b[0m\u001b[1;32m     16\u001b[0m                         \u001b[0mfinalTableTuples\u001b[0m\u001b[0;34m.\u001b[0m\u001b[0mappend\u001b[0m\u001b[0;34m(\u001b[0m\u001b[0malltogethernowResults\u001b[0m\u001b[0;34m[\u001b[0m\u001b[0;36m0\u001b[0m\u001b[0;34m]\u001b[0m\u001b[0;34m)\u001b[0m\u001b[0;34m\u001b[0m\u001b[0m\n\u001b[1;32m     17\u001b[0m                         \u001b[0;31m#score = alltogethernowResults[1]\u001b[0m\u001b[0;34m\u001b[0m\u001b[0;34m\u001b[0m\u001b[0m\n",
      "\u001b[0;32m<ipython-input-7-06f830be25d0>\u001b[0m in \u001b[0;36malltogethernow\u001b[0;34m(valList, tableName, IMAGE, variableList, originalImage, mag, atList, baseNum)\u001b[0m\n\u001b[1;32m    130\u001b[0m     \u001b[0mtotGrossOriginal\u001b[0m \u001b[0;34m=\u001b[0m \u001b[0mfindObjects\u001b[0m\u001b[0;34m(\u001b[0m\u001b[0mNames\u001b[0m\u001b[0;34m[\u001b[0m\u001b[0;36m0\u001b[0m\u001b[0;34m]\u001b[0m\u001b[0;34m,\u001b[0m\u001b[0mNames\u001b[0m\u001b[0;34m[\u001b[0m\u001b[0;36m1\u001b[0m\u001b[0;34m]\u001b[0m\u001b[0;34m,\u001b[0m\u001b[0mNames\u001b[0m\u001b[0;34m[\u001b[0m\u001b[0;36m2\u001b[0m\u001b[0;34m]\u001b[0m\u001b[0;34m,\u001b[0m\u001b[0mimagename\u001b[0m\u001b[0;34m=\u001b[0m\u001b[0moriginalImage\u001b[0m\u001b[0;34m,\u001b[0m\u001b[0moriginal\u001b[0m\u001b[0;34m=\u001b[0m\u001b[0;34m'yes'\u001b[0m\u001b[0;34m)\u001b[0m\u001b[0;34m\u001b[0m\u001b[0m\n\u001b[1;32m    131\u001b[0m     \u001b[0mtotGross\u001b[0m \u001b[0;34m=\u001b[0m \u001b[0mfindObjects\u001b[0m\u001b[0;34m(\u001b[0m\u001b[0mNames\u001b[0m\u001b[0;34m[\u001b[0m\u001b[0;36m0\u001b[0m\u001b[0;34m]\u001b[0m\u001b[0;34m,\u001b[0m\u001b[0mNames\u001b[0m\u001b[0;34m[\u001b[0m\u001b[0;36m1\u001b[0m\u001b[0;34m]\u001b[0m\u001b[0;34m,\u001b[0m\u001b[0mNames\u001b[0m\u001b[0;34m[\u001b[0m\u001b[0;36m2\u001b[0m\u001b[0;34m]\u001b[0m\u001b[0;34m,\u001b[0m\u001b[0mimagename\u001b[0m\u001b[0;34m=\u001b[0m\u001b[0mIMAGE\u001b[0m\u001b[0;34m)\u001b[0m \u001b[0;31m# confName tabName catname\u001b[0m\u001b[0;34m\u001b[0m\u001b[0m\n\u001b[0;32m--> 132\u001b[0;31m     \u001b[0mfinalTuple\u001b[0m \u001b[0;34m=\u001b[0m \u001b[0minnerJoin\u001b[0m\u001b[0;34m(\u001b[0m\u001b[0mNames\u001b[0m\u001b[0;34m[\u001b[0m\u001b[0;36m1\u001b[0m\u001b[0;34m]\u001b[0m\u001b[0;34m,\u001b[0m\u001b[0mtotGross\u001b[0m\u001b[0;34m,\u001b[0m\u001b[0mtotGrossOriginal\u001b[0m\u001b[0;34m,\u001b[0m\u001b[0mvariableList\u001b[0m\u001b[0;34m,\u001b[0m\u001b[0mmag\u001b[0m\u001b[0;34m,\u001b[0m\u001b[0mbaseNum\u001b[0m\u001b[0;34m)\u001b[0m\u001b[0;34m\u001b[0m\u001b[0m\n\u001b[0m\u001b[1;32m    133\u001b[0m     \u001b[0;32mreturn\u001b[0m \u001b[0mfinalTuple\u001b[0m \u001b[0;31m# named final tuple but actually [finaltuple,score]\u001b[0m\u001b[0;34m\u001b[0m\u001b[0m\n",
      "\u001b[0;32m<ipython-input-7-06f830be25d0>\u001b[0m in \u001b[0;36minnerJoin\u001b[0;34m(tableName, totGross, totGrossOriginal, variableList, mag, baseNum, diffSize, xlength, ylength, weight)\u001b[0m\n\u001b[1;32m     36\u001b[0m \u001b[0;34m\u001b[0m\u001b[0m\n\u001b[1;32m     37\u001b[0m             \u001b[0mOGdf\u001b[0m \u001b[0;34m=\u001b[0m \u001b[0msqlContext\u001b[0m\u001b[0;34m.\u001b[0m\u001b[0msql\u001b[0m\u001b[0;34m(\u001b[0m\u001b[0;34m\"SELECT NUMBER FROM {0} WHERE {0}.X_IMAGE BETWEEN {1} AND {2} AND {0}.Y_IMAGE BETWEEN {3} AND {4}\"\u001b[0m\u001b[0;34m.\u001b[0m\u001b[0mformat\u001b[0m\u001b[0;34m(\u001b[0m\u001b[0mOGtemptableName\u001b[0m\u001b[0;34m+\u001b[0m\u001b[0;34m'match'\u001b[0m\u001b[0;34m,\u001b[0m\u001b[0mxmin\u001b[0m\u001b[0;34m,\u001b[0m\u001b[0mxmax\u001b[0m\u001b[0;34m,\u001b[0m\u001b[0mymin\u001b[0m\u001b[0;34m,\u001b[0m\u001b[0mymax\u001b[0m\u001b[0;34m)\u001b[0m\u001b[0;34m)\u001b[0m\u001b[0;34m\u001b[0m\u001b[0m\n\u001b[0;32m---> 38\u001b[0;31m             \u001b[0mOGnumber\u001b[0m \u001b[0;34m=\u001b[0m \u001b[0mOGdf\u001b[0m\u001b[0;34m.\u001b[0m\u001b[0mcount\u001b[0m\u001b[0;34m(\u001b[0m\u001b[0;34m)\u001b[0m\u001b[0;34m\u001b[0m\u001b[0m\n\u001b[0m\u001b[1;32m     39\u001b[0m             \u001b[0mdf\u001b[0m \u001b[0;34m=\u001b[0m \u001b[0msqlContext\u001b[0m\u001b[0;34m.\u001b[0m\u001b[0msql\u001b[0m\u001b[0;34m(\u001b[0m\u001b[0;34m\"SELECT NUMBER FROM {0} WHERE {0}.X_IMAGE BETWEEN {1} AND {2} AND {0}.Y_IMAGE BETWEEN {3} AND {4}\"\u001b[0m\u001b[0;34m.\u001b[0m\u001b[0mformat\u001b[0m\u001b[0;34m(\u001b[0m\u001b[0mtemptableName\u001b[0m\u001b[0;34m+\u001b[0m\u001b[0;34m'match'\u001b[0m\u001b[0;34m,\u001b[0m\u001b[0mxmin\u001b[0m\u001b[0;34m,\u001b[0m\u001b[0mxmax\u001b[0m\u001b[0;34m,\u001b[0m\u001b[0mymin\u001b[0m\u001b[0;34m,\u001b[0m\u001b[0mymax\u001b[0m\u001b[0;34m)\u001b[0m\u001b[0;34m)\u001b[0m\u001b[0;34m\u001b[0m\u001b[0m\n\u001b[1;32m     40\u001b[0m             \u001b[0mnumber\u001b[0m \u001b[0;34m=\u001b[0m \u001b[0mdf\u001b[0m\u001b[0;34m.\u001b[0m\u001b[0mcount\u001b[0m\u001b[0;34m(\u001b[0m\u001b[0;34m)\u001b[0m\u001b[0;34m\u001b[0m\u001b[0m\n",
      "\u001b[0;32m/home/mj1e16/miniconda2/envs/astroconda/lib/python2.7/site-packages/pyspark/sql/dataframe.pyc\u001b[0m in \u001b[0;36mcount\u001b[0;34m(self)\u001b[0m\n\u001b[1;32m    520\u001b[0m         \u001b[0;36m2\u001b[0m\u001b[0;34m\u001b[0m\u001b[0m\n\u001b[1;32m    521\u001b[0m         \"\"\"\n\u001b[0;32m--> 522\u001b[0;31m         \u001b[0;32mreturn\u001b[0m \u001b[0mint\u001b[0m\u001b[0;34m(\u001b[0m\u001b[0mself\u001b[0m\u001b[0;34m.\u001b[0m\u001b[0m_jdf\u001b[0m\u001b[0;34m.\u001b[0m\u001b[0mcount\u001b[0m\u001b[0;34m(\u001b[0m\u001b[0;34m)\u001b[0m\u001b[0;34m)\u001b[0m\u001b[0;34m\u001b[0m\u001b[0m\n\u001b[0m\u001b[1;32m    523\u001b[0m \u001b[0;34m\u001b[0m\u001b[0m\n\u001b[1;32m    524\u001b[0m     \u001b[0;34m@\u001b[0m\u001b[0mignore_unicode_prefix\u001b[0m\u001b[0;34m\u001b[0m\u001b[0m\n",
      "\u001b[0;32m/home/mj1e16/miniconda2/lib/python2.7/site-packages/pyspark/python/lib/py4j-0.10.7-src.zip/py4j/java_gateway.py\u001b[0m in \u001b[0;36m__call__\u001b[0;34m(self, *args)\u001b[0m\n\u001b[1;32m   1253\u001b[0m             \u001b[0mproto\u001b[0m\u001b[0;34m.\u001b[0m\u001b[0mEND_COMMAND_PART\u001b[0m\u001b[0;34m\u001b[0m\u001b[0m\n\u001b[1;32m   1254\u001b[0m \u001b[0;34m\u001b[0m\u001b[0m\n\u001b[0;32m-> 1255\u001b[0;31m         \u001b[0manswer\u001b[0m \u001b[0;34m=\u001b[0m \u001b[0mself\u001b[0m\u001b[0;34m.\u001b[0m\u001b[0mgateway_client\u001b[0m\u001b[0;34m.\u001b[0m\u001b[0msend_command\u001b[0m\u001b[0;34m(\u001b[0m\u001b[0mcommand\u001b[0m\u001b[0;34m)\u001b[0m\u001b[0;34m\u001b[0m\u001b[0m\n\u001b[0m\u001b[1;32m   1256\u001b[0m         return_value = get_return_value(\n\u001b[1;32m   1257\u001b[0m             answer, self.gateway_client, self.target_id, self.name)\n",
      "\u001b[0;32m/home/mj1e16/miniconda2/lib/python2.7/site-packages/pyspark/python/lib/py4j-0.10.7-src.zip/py4j/java_gateway.py\u001b[0m in \u001b[0;36msend_command\u001b[0;34m(self, command, retry, binary)\u001b[0m\n\u001b[1;32m    983\u001b[0m         \u001b[0mconnection\u001b[0m \u001b[0;34m=\u001b[0m \u001b[0mself\u001b[0m\u001b[0;34m.\u001b[0m\u001b[0m_get_connection\u001b[0m\u001b[0;34m(\u001b[0m\u001b[0;34m)\u001b[0m\u001b[0;34m\u001b[0m\u001b[0m\n\u001b[1;32m    984\u001b[0m         \u001b[0;32mtry\u001b[0m\u001b[0;34m:\u001b[0m\u001b[0;34m\u001b[0m\u001b[0m\n\u001b[0;32m--> 985\u001b[0;31m             \u001b[0mresponse\u001b[0m \u001b[0;34m=\u001b[0m \u001b[0mconnection\u001b[0m\u001b[0;34m.\u001b[0m\u001b[0msend_command\u001b[0m\u001b[0;34m(\u001b[0m\u001b[0mcommand\u001b[0m\u001b[0;34m)\u001b[0m\u001b[0;34m\u001b[0m\u001b[0m\n\u001b[0m\u001b[1;32m    986\u001b[0m             \u001b[0;32mif\u001b[0m \u001b[0mbinary\u001b[0m\u001b[0;34m:\u001b[0m\u001b[0;34m\u001b[0m\u001b[0m\n\u001b[1;32m    987\u001b[0m                 \u001b[0;32mreturn\u001b[0m \u001b[0mresponse\u001b[0m\u001b[0;34m,\u001b[0m \u001b[0mself\u001b[0m\u001b[0;34m.\u001b[0m\u001b[0m_create_connection_guard\u001b[0m\u001b[0;34m(\u001b[0m\u001b[0mconnection\u001b[0m\u001b[0;34m)\u001b[0m\u001b[0;34m\u001b[0m\u001b[0m\n",
      "\u001b[0;32m/home/mj1e16/miniconda2/lib/python2.7/site-packages/pyspark/python/lib/py4j-0.10.7-src.zip/py4j/java_gateway.py\u001b[0m in \u001b[0;36msend_command\u001b[0;34m(self, command)\u001b[0m\n\u001b[1;32m   1150\u001b[0m \u001b[0;34m\u001b[0m\u001b[0m\n\u001b[1;32m   1151\u001b[0m         \u001b[0;32mtry\u001b[0m\u001b[0;34m:\u001b[0m\u001b[0;34m\u001b[0m\u001b[0m\n\u001b[0;32m-> 1152\u001b[0;31m             \u001b[0manswer\u001b[0m \u001b[0;34m=\u001b[0m \u001b[0msmart_decode\u001b[0m\u001b[0;34m(\u001b[0m\u001b[0mself\u001b[0m\u001b[0;34m.\u001b[0m\u001b[0mstream\u001b[0m\u001b[0;34m.\u001b[0m\u001b[0mreadline\u001b[0m\u001b[0;34m(\u001b[0m\u001b[0;34m)\u001b[0m\u001b[0;34m[\u001b[0m\u001b[0;34m:\u001b[0m\u001b[0;34m-\u001b[0m\u001b[0;36m1\u001b[0m\u001b[0;34m]\u001b[0m\u001b[0;34m)\u001b[0m\u001b[0;34m\u001b[0m\u001b[0m\n\u001b[0m\u001b[1;32m   1153\u001b[0m             \u001b[0mlogger\u001b[0m\u001b[0;34m.\u001b[0m\u001b[0mdebug\u001b[0m\u001b[0;34m(\u001b[0m\u001b[0;34m\"Answer received: {0}\"\u001b[0m\u001b[0;34m.\u001b[0m\u001b[0mformat\u001b[0m\u001b[0;34m(\u001b[0m\u001b[0manswer\u001b[0m\u001b[0;34m)\u001b[0m\u001b[0;34m)\u001b[0m\u001b[0;34m\u001b[0m\u001b[0m\n\u001b[1;32m   1154\u001b[0m             \u001b[0;32mif\u001b[0m \u001b[0manswer\u001b[0m\u001b[0;34m.\u001b[0m\u001b[0mstartswith\u001b[0m\u001b[0;34m(\u001b[0m\u001b[0mproto\u001b[0m\u001b[0;34m.\u001b[0m\u001b[0mRETURN_MESSAGE\u001b[0m\u001b[0;34m)\u001b[0m\u001b[0;34m:\u001b[0m\u001b[0;34m\u001b[0m\u001b[0m\n",
      "\u001b[0;32m/home/mj1e16/miniconda2/envs/astroconda/lib/python2.7/socket.pyc\u001b[0m in \u001b[0;36mreadline\u001b[0;34m(self, size)\u001b[0m\n\u001b[1;32m    449\u001b[0m             \u001b[0;32mwhile\u001b[0m \u001b[0mTrue\u001b[0m\u001b[0;34m:\u001b[0m\u001b[0;34m\u001b[0m\u001b[0m\n\u001b[1;32m    450\u001b[0m                 \u001b[0;32mtry\u001b[0m\u001b[0;34m:\u001b[0m\u001b[0;34m\u001b[0m\u001b[0m\n\u001b[0;32m--> 451\u001b[0;31m                     \u001b[0mdata\u001b[0m \u001b[0;34m=\u001b[0m \u001b[0mself\u001b[0m\u001b[0;34m.\u001b[0m\u001b[0m_sock\u001b[0m\u001b[0;34m.\u001b[0m\u001b[0mrecv\u001b[0m\u001b[0;34m(\u001b[0m\u001b[0mself\u001b[0m\u001b[0;34m.\u001b[0m\u001b[0m_rbufsize\u001b[0m\u001b[0;34m)\u001b[0m\u001b[0;34m\u001b[0m\u001b[0m\n\u001b[0m\u001b[1;32m    452\u001b[0m                 \u001b[0;32mexcept\u001b[0m \u001b[0merror\u001b[0m\u001b[0;34m,\u001b[0m \u001b[0me\u001b[0m\u001b[0;34m:\u001b[0m\u001b[0;34m\u001b[0m\u001b[0m\n\u001b[1;32m    453\u001b[0m                     \u001b[0;32mif\u001b[0m \u001b[0me\u001b[0m\u001b[0;34m.\u001b[0m\u001b[0margs\u001b[0m\u001b[0;34m[\u001b[0m\u001b[0;36m0\u001b[0m\u001b[0;34m]\u001b[0m \u001b[0;34m==\u001b[0m \u001b[0mEINTR\u001b[0m\u001b[0;34m:\u001b[0m\u001b[0;34m\u001b[0m\u001b[0m\n",
      "\u001b[0;31mKeyboardInterrupt\u001b[0m: "
     ]
    }
   ],
   "source": [
    "### Make function to replace starlist\n",
    "bestSettings = []\n",
    "baseSettings = [valList[0][0],valList[1][0],valList[2][0]]\n",
    "#starting = [4,4,14]\n",
    "for inc,c in enumerate(ccd):\n",
    "    for inmed,med in enumerate(median):\n",
    "        ogim = keplerSettings.simulatedImageDirectory+'diff_{}_{}.fits'.format(c,med)\n",
    "        baseNames = makeConfig(baseSettings,tableName='baseTable')\n",
    "        baseNum = findObjects(baseNames[0],baseNames[1],baseNames[2],imagename=ogim,base='yes')\n",
    "        norm = 1.0\n",
    "        for mag in mags:\n",
    "            sqlContext.cacheTable('starlist_{}'.format(abs(mag)))            \n",
    "            imName = keplerSettings.simulatedImageDirectory+'diff_{}_{}{}_alt.fits'.format(c,med,mag)\n",
    "            tabName = 'bigSimsTest2_{}_{}_{}'.format(c,med,abs(mag))\n",
    "            evaluateImage(valList,imName,ogim,'ccd_{}'.format(c),'median_{}'.format(med),norm,mag,baseNum,smallName=tabName,dbtabname='results'+tabName)\n",
    "            sqlContext.uncacheTable('starlist_{}'.format(abs(mag)))\n",
    "            #starting = bestSettings[-1]"
   ]
  },
  {
   "cell_type": "code",
   "execution_count": null,
   "metadata": {
    "collapsed": true
   },
   "outputs": [],
   "source": []
  },
  {
   "cell_type": "code",
   "execution_count": null,
   "metadata": {
    "collapsed": true
   },
   "outputs": [],
   "source": []
  },
  {
   "cell_type": "code",
   "execution_count": null,
   "metadata": {
    "collapsed": true
   },
   "outputs": [],
   "source": []
  }
 ],
 "metadata": {
  "kernelspec": {
   "display_name": "Python 2",
   "language": "python",
   "name": "python2"
  },
  "language_info": {
   "codemirror_mode": {
    "name": "ipython",
    "version": 2
   },
   "file_extension": ".py",
   "mimetype": "text/x-python",
   "name": "python",
   "nbconvert_exporter": "python",
   "pygments_lexer": "ipython2",
   "version": "2.7.13"
  }
 },
 "nbformat": 4,
 "nbformat_minor": 2
}
